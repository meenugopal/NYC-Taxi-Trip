{
  "nbformat": 4,
  "nbformat_minor": 0,
  "metadata": {
    "accelerator": "GPU",
    "colab": {
      "name": "NYC_tt_duration_V1_2.ipynb",
      "provenance": [],
      "collapsed_sections": [
        "k_xIVtgi3ZhG"
      ],
      "machine_shape": "hm",
      "include_colab_link": true
    },
    "kernelspec": {
      "name": "python3",
      "display_name": "Python 3"
    },
    "language_info": {
      "codemirror_mode": {
        "name": "ipython",
        "version": 3
      },
      "file_extension": ".py",
      "mimetype": "text/x-python",
      "name": "python",
      "nbconvert_exporter": "python",
      "pygments_lexer": "ipython3",
      "version": "3.7.1"
    }
  },
  "cells": [
    {
      "cell_type": "markdown",
      "metadata": {
        "id": "view-in-github",
        "colab_type": "text"
      },
      "source": [
        "<a href=\"https://colab.research.google.com/github/meenugopal/NYC-Taxi-Trip/blob/master/NYC_tt_duration_V1_2.ipynb\" target=\"_parent\"><img src=\"https://colab.research.google.com/assets/colab-badge.svg\" alt=\"Open In Colab\"/></a>"
      ]
    },
    {
      "cell_type": "markdown",
      "metadata": {
        "colab_type": "text",
        "id": "kV8AAfOX3ZbX"
      },
      "source": [
        "\n",
        "# Domain Name - Transportation"
      ]
    },
    {
      "cell_type": "markdown",
      "metadata": {
        "colab_type": "text",
        "id": "Lnpqldn3WRFt"
      },
      "source": [
        "# Dataset - NYC Taxi Trip UCI"
      ]
    },
    {
      "cell_type": "markdown",
      "metadata": {
        "colab_type": "text",
        "id": "QXsIaOGX9Krs"
      },
      "source": [
        "# Business Objective \n",
        "The dataset contains 1458644 NYC taxi trip records.\n",
        "Build a model that predicts the total trip duration of taxi trips in New York City."
      ]
    },
    {
      "cell_type": "markdown",
      "metadata": {
        "colab_type": "text",
        "collapsed": true,
        "id": "stuVTahQ3Zbc"
      },
      "source": [
        "### Table of Contents\n",
        "\n",
        "1. [Dataset Description](#titanic)\n",
        "2. [Importing the packages and dataset](#packages)\n",
        "3. [Exploring the dataset](#explore)\n",
        "4. [Feature Engineering](#fe)\n",
        "5. [Linear Regression](#lr)\n",
        "     - 5.1 [Create Features And Label](#tdt)\n",
        "     - 5.2 [Split Train And Test Data](#pdt)\n",
        "     - 5.3 [Create Instance Of the Model](#edt)\n",
        "     - 5.4 [Fit Model](#ptdt)     \n",
        "     - 5.5 [Predict Using Trained Model](#edt)\n",
        "     - 5.6 [Evaluate Model Performance](#ptdt)\n",
        "     \n",
        "6. [Lasso Regression](#ls)\n",
        "7. [Decision Tree](#dt)\n",
        "     - 7.1 [Training Decision Tree Model](#tdt)\n",
        "     - 7.2 [Predictions from Decision Tree Model](#pdt)\n",
        "     - 7.3 [Evaluating the Decision Tree Model](#edt)\n",
        "     - 7.4 [Parameter Tuning](#ptdt)\n",
        "8. [Random Forest](#rf)\n",
        "     - 8.1 [Training Random Forest Model](#trf)\n",
        "     - 8.2 [Predictions from Random Forest Model](#prf)\n",
        "     - 8.3 [Evaluating the Random Forest Model](#erf)\n",
        "9. [Support Vector Regressor](#rf)\n",
        "10. [KNN Regressor](#rf)\n",
        "11. [Hyper Parameter Optimization with GridSearchCV and RandomizedSearchCV](#rf)"
      ]
    },
    {
      "cell_type": "markdown",
      "metadata": {
        "colab_type": "text",
        "id": "6L0Fr6WA9Krv"
      },
      "source": [
        "### 1. Description of Dataset"
      ]
    },
    {
      "cell_type": "markdown",
      "metadata": {
        "colab_type": "text",
        "id": "67YoPflI9Krw"
      },
      "source": [
        "Build a model that predicts the total trip duration of taxi trips in New York City.\n",
        "\n",
        "Below are the attributes of the dataset,\n",
        "\n",
        "●\tid - a unique identifier for each trip\n",
        "\n",
        "●\tvendor_id - a code indicating the provider associated with the trip record\n",
        "\n",
        "●\tpickup_datetime - date and time when the meter was engaged\n",
        "\n",
        "●\tdropoff_datetime - date and time when the meter was disengaged\n",
        "\n",
        "●\tpassenger_count - the number of passengers in the vehicle (driver entered value)\n",
        "\n",
        "●\tpickup_longitude - the longitude where the meter was engaged\n",
        "\n",
        "●\tpickup_latitude - the latitude where the meter was engaged\n",
        "\n",
        "●\tdropoff_longitude - the longitude where the meter was disengaged\n",
        "\n",
        "●\tdropoff_latitude - the latitude where the meter was disengaged\n",
        "\n",
        "●\tstore_and_fwd_flag - This flag indicates whether the trip record was held in vehicle memory before sending to the vendor because the vehicle did not have a connection to the server - Y=store and forward; N=not a store and forward trip\n",
        "\n",
        "●\ttrip_duration - duration of the trip in seconds\n"
      ]
    },
    {
      "cell_type": "markdown",
      "metadata": {
        "colab_type": "text",
        "id": "WSxsyu-f3Zbj"
      },
      "source": [
        "### 2. Importing the packages and dataset  <a id='packages'>"
      ]
    },
    {
      "cell_type": "markdown",
      "metadata": {
        "colab_type": "text",
        "id": "NNHLq8T49Krz"
      },
      "source": [
        "###### SHAP (SHapley Additive exPlanations) is a unified approach to explain the output of any machine learning model\n",
        "###### ELI5 is a Python package which helps to debug machine learning classifiers and explain their predictions. \n",
        "###### LIME is a great tool explaining what machine learning classifiers are doing"
      ]
    },
    {
      "cell_type": "code",
      "metadata": {
        "colab_type": "code",
        "id": "0WXpO75L9Kr1",
        "outputId": "dc028c93-8a39-4d66-9355-75a4c95c0837",
        "colab": {
          "base_uri": "https://localhost:8080/",
          "height": 104
        }
      },
      "source": [
        "!pip -q install plotly-express\n",
        "!pip -q install shap\n",
        "!pip -q install eli5\n",
        "!pip -q install lime\n"
      ],
      "execution_count": 1,
      "outputs": [
        {
          "output_type": "stream",
          "text": [
            "\u001b[?25l\r\u001b[K     |█▎                              | 10kB 23.8MB/s eta 0:00:01\r\u001b[K     |██▌                             | 20kB 4.6MB/s eta 0:00:01\r\u001b[K     |███▉                            | 30kB 6.6MB/s eta 0:00:01\r\u001b[K     |█████                           | 40kB 4.2MB/s eta 0:00:01\r\u001b[K     |██████▍                         | 51kB 5.1MB/s eta 0:00:01\r\u001b[K     |███████▋                        | 61kB 6.0MB/s eta 0:00:01\r\u001b[K     |█████████                       | 71kB 6.8MB/s eta 0:00:01\r\u001b[K     |██████████▏                     | 81kB 7.7MB/s eta 0:00:01\r\u001b[K     |███████████▌                    | 92kB 8.5MB/s eta 0:00:01\r\u001b[K     |████████████▊                   | 102kB 6.8MB/s eta 0:00:01\r\u001b[K     |██████████████                  | 112kB 6.8MB/s eta 0:00:01\r\u001b[K     |███████████████▎                | 122kB 6.8MB/s eta 0:00:01\r\u001b[K     |████████████████▌               | 133kB 6.8MB/s eta 0:00:01\r\u001b[K     |█████████████████▉              | 143kB 6.8MB/s eta 0:00:01\r\u001b[K     |███████████████████             | 153kB 6.8MB/s eta 0:00:01\r\u001b[K     |████████████████████▍           | 163kB 6.8MB/s eta 0:00:01\r\u001b[K     |█████████████████████▋          | 174kB 6.8MB/s eta 0:00:01\r\u001b[K     |███████████████████████         | 184kB 6.8MB/s eta 0:00:01\r\u001b[K     |████████████████████████▏       | 194kB 6.8MB/s eta 0:00:01\r\u001b[K     |█████████████████████████▌      | 204kB 6.8MB/s eta 0:00:01\r\u001b[K     |██████████████████████████▊     | 215kB 6.8MB/s eta 0:00:01\r\u001b[K     |████████████████████████████    | 225kB 6.8MB/s eta 0:00:01\r\u001b[K     |█████████████████████████████▎  | 235kB 6.8MB/s eta 0:00:01\r\u001b[K     |██████████████████████████████▋ | 245kB 6.8MB/s eta 0:00:01\r\u001b[K     |███████████████████████████████▉| 256kB 6.8MB/s eta 0:00:01\r\u001b[K     |████████████████████████████████| 266kB 6.8MB/s \n",
            "\u001b[?25h  Building wheel for shap (setup.py) ... \u001b[?25l\u001b[?25hdone\n",
            "\u001b[K     |████████████████████████████████| 112kB 6.7MB/s \n",
            "\u001b[K     |████████████████████████████████| 276kB 6.4MB/s \n",
            "\u001b[?25h  Building wheel for lime (setup.py) ... \u001b[?25l\u001b[?25hdone\n"
          ],
          "name": "stdout"
        }
      ]
    },
    {
      "cell_type": "code",
      "metadata": {
        "id": "Nm7eKYJgwwom",
        "colab_type": "code",
        "outputId": "b9a127ed-e464-4873-9edc-6b72bdeddee0",
        "colab": {
          "base_uri": "https://localhost:8080/",
          "height": 225
        }
      },
      "source": [
        "#!pip -q install vaex\n"
      ],
      "execution_count": 0,
      "outputs": [
        {
          "output_type": "stream",
          "text": [
            "\u001b[K     |████████████████████████████████| 2.2MB 4.1MB/s \n",
            "\u001b[K     |████████████████████████████████| 2.9MB 35.6MB/s \n",
            "\u001b[K     |████████████████████████████████| 51kB 6.6MB/s \n",
            "\u001b[K     |████████████████████████████████| 60.5MB 146kB/s \n",
            "\u001b[?25h  Building wheel for vaex (setup.py) ... \u001b[?25l\u001b[?25hdone\n",
            "  Building wheel for vaex-viz (setup.py) ... \u001b[?25l\u001b[?25hdone\n",
            "  Building wheel for vaex-server (setup.py) ... \u001b[?25l\u001b[?25hdone\n",
            "  Building wheel for vaex-hdf5 (setup.py) ... \u001b[?25l\u001b[?25hdone\n",
            "  Building wheel for vaex-astro (setup.py) ... \u001b[?25l\u001b[?25hdone\n",
            "  Building wheel for vaex-arrow (setup.py) ... \u001b[?25l\u001b[?25hdone\n",
            "  Building wheel for aplus (setup.py) ... \u001b[?25l\u001b[?25hdone\n",
            "  Building wheel for s3fs (setup.py) ... \u001b[?25l\u001b[?25hdone\n"
          ],
          "name": "stdout"
        }
      ]
    },
    {
      "cell_type": "code",
      "metadata": {
        "id": "uCvecLgJ3_wT",
        "colab_type": "code",
        "colab": {}
      },
      "source": [
        "!pip -q install dask"
      ],
      "execution_count": 0,
      "outputs": []
    },
    {
      "cell_type": "code",
      "metadata": {
        "colab_type": "code",
        "id": "1vHzlBdk3Zbl",
        "outputId": "a457f0ba-c4a2-4165-f25b-28321732f028",
        "colab": {
          "base_uri": "https://localhost:8080/",
          "height": 35
        }
      },
      "source": [
        "#import the libraries requires for project\n",
        "import numpy as np\n",
        "import pandas as pd\n",
        "import plotly.express as px\n",
        "import pickle\n",
        "import plotly.graph_objects as go\n",
        "from plotly.subplots import make_subplots\n",
        "import os\n",
        "os.getcwd()"
      ],
      "execution_count": 3,
      "outputs": [
        {
          "output_type": "execute_result",
          "data": {
            "text/plain": [
              "'/content'"
            ]
          },
          "metadata": {
            "tags": []
          },
          "execution_count": 3
        }
      ]
    },
    {
      "cell_type": "code",
      "metadata": {
        "colab_type": "code",
        "id": "tbyGko0Q9KsM",
        "colab": {}
      },
      "source": [
        "# Code for displaying plotly express plot\n",
        "def configure_plotly_browser_state():\n",
        "  import IPython\n",
        "  display(IPython.core.display.HTML('''\n",
        "        <script src=\"/static/components/requirejs/require.js\"></script>\n",
        "        <script>\n",
        "          requirejs.config({\n",
        "            paths: {\n",
        "              base: '/static/base',\n",
        "              plotly: 'https://cdn.plot.ly/plotly-latest.min.js?noext',\n",
        "            },\n",
        "          });\n",
        "        </script>\n",
        "        '''))\n",
        "  \n",
        "import plotly_express as px"
      ],
      "execution_count": 0,
      "outputs": []
    },
    {
      "cell_type": "code",
      "metadata": {
        "colab_type": "code",
        "id": "L_Pat0BE9KsU",
        "colab": {}
      },
      "source": [
        "# print multiple statement in same line\n",
        "from IPython.core.interactiveshell import InteractiveShell\n",
        "InteractiveShell.ast_node_interactivity =\"all\""
      ],
      "execution_count": 0,
      "outputs": []
    },
    {
      "cell_type": "code",
      "metadata": {
        "id": "Fl4LY0kvwwpQ",
        "colab_type": "code",
        "colab": {}
      },
      "source": [
        "#import vaex as vx"
      ],
      "execution_count": 0,
      "outputs": []
    },
    {
      "cell_type": "code",
      "metadata": {
        "colab_type": "code",
        "id": "tct_LCXF9Ksh",
        "colab": {}
      },
      "source": [
        "import pandas_profiling\n",
        "import collections\n",
        "import warnings\n",
        "warnings.filterwarnings('ignore')"
      ],
      "execution_count": 0,
      "outputs": []
    },
    {
      "cell_type": "code",
      "metadata": {
        "id": "0NS3endDQSLy",
        "colab_type": "code",
        "outputId": "ee1e26c6-9545-4129-ea9e-f3c7eddac62b",
        "colab": {
          "base_uri": "https://localhost:8080/",
          "height": 124
        }
      },
      "source": [
        "from google.colab import drive\n",
        "drive.mount('/content/drive/')"
      ],
      "execution_count": 7,
      "outputs": [
        {
          "output_type": "stream",
          "text": [
            "Go to this URL in a browser: https://accounts.google.com/o/oauth2/auth?client_id=947318989803-6bn6qk8qdgf4n4g3pfee6491hc0brc4i.apps.googleusercontent.com&redirect_uri=urn%3Aietf%3Awg%3Aoauth%3A2.0%3Aoob&scope=email%20https%3A%2F%2Fwww.googleapis.com%2Fauth%2Fdocs.test%20https%3A%2F%2Fwww.googleapis.com%2Fauth%2Fdrive%20https%3A%2F%2Fwww.googleapis.com%2Fauth%2Fdrive.photos.readonly%20https%3A%2F%2Fwww.googleapis.com%2Fauth%2Fpeopleapi.readonly&response_type=code\n",
            "\n",
            "Enter your authorization code:\n",
            "··········\n",
            "Mounted at /content/drive/\n"
          ],
          "name": "stdout"
        }
      ]
    },
    {
      "cell_type": "code",
      "metadata": {
        "id": "epkbdI1ygBXP",
        "colab_type": "code",
        "colab": {
          "base_uri": "https://localhost:8080/",
          "height": 35
        },
        "outputId": "df081d48-b5b9-42ba-ad43-71451e3632f4"
      },
      "source": [
        "from google.colab import drive\n",
        "drive.mount('/content/drive')"
      ],
      "execution_count": 8,
      "outputs": [
        {
          "output_type": "stream",
          "text": [
            "Drive already mounted at /content/drive; to attempt to forcibly remount, call drive.mount(\"/content/drive\", force_remount=True).\n"
          ],
          "name": "stdout"
        }
      ]
    },
    {
      "cell_type": "code",
      "metadata": {
        "id": "CucPnJK9QxoO",
        "colab_type": "code",
        "outputId": "22948807-22a9-478d-a2e2-0ed9d10888fc",
        "colab": {
          "base_uri": "https://localhost:8080/",
          "height": 35
        }
      },
      "source": [
        "!ls"
      ],
      "execution_count": 9,
      "outputs": [
        {
          "output_type": "stream",
          "text": [
            "drive  sample_data\n"
          ],
          "name": "stdout"
        }
      ]
    },
    {
      "cell_type": "code",
      "metadata": {
        "id": "t8su1oosAuRn",
        "colab_type": "code",
        "colab": {}
      },
      "source": [
        "# Dataframes implement the Pandas API\n",
        "import dask.dataframe as dd\n",
        "df = dd.read_csv('/content/drive/My Drive/train.csv')"
      ],
      "execution_count": 0,
      "outputs": []
    },
    {
      "cell_type": "code",
      "metadata": {
        "id": "pDWOrYnoTfwa",
        "colab_type": "code",
        "outputId": "f364a12f-09c1-4739-a65d-048d2efe7a5a",
        "colab": {
          "base_uri": "https://localhost:8080/",
          "height": 309
        }
      },
      "source": [
        "df.head()"
      ],
      "execution_count": 11,
      "outputs": [
        {
          "output_type": "execute_result",
          "data": {
            "text/html": [
              "<div>\n",
              "<style scoped>\n",
              "    .dataframe tbody tr th:only-of-type {\n",
              "        vertical-align: middle;\n",
              "    }\n",
              "\n",
              "    .dataframe tbody tr th {\n",
              "        vertical-align: top;\n",
              "    }\n",
              "\n",
              "    .dataframe thead th {\n",
              "        text-align: right;\n",
              "    }\n",
              "</style>\n",
              "<table border=\"1\" class=\"dataframe\">\n",
              "  <thead>\n",
              "    <tr style=\"text-align: right;\">\n",
              "      <th></th>\n",
              "      <th>id</th>\n",
              "      <th>vendor_id</th>\n",
              "      <th>pickup_datetime</th>\n",
              "      <th>dropoff_datetime</th>\n",
              "      <th>passenger_count</th>\n",
              "      <th>pickup_longitude</th>\n",
              "      <th>pickup_latitude</th>\n",
              "      <th>dropoff_longitude</th>\n",
              "      <th>dropoff_latitude</th>\n",
              "      <th>store_and_fwd_flag</th>\n",
              "      <th>trip_duration</th>\n",
              "    </tr>\n",
              "  </thead>\n",
              "  <tbody>\n",
              "    <tr>\n",
              "      <th>0</th>\n",
              "      <td>id2875421</td>\n",
              "      <td>2</td>\n",
              "      <td>2016-03-14 17:24:55</td>\n",
              "      <td>2016-03-14 17:32:30</td>\n",
              "      <td>1</td>\n",
              "      <td>-73.982155</td>\n",
              "      <td>40.767937</td>\n",
              "      <td>-73.964630</td>\n",
              "      <td>40.765602</td>\n",
              "      <td>N</td>\n",
              "      <td>455</td>\n",
              "    </tr>\n",
              "    <tr>\n",
              "      <th>1</th>\n",
              "      <td>id2377394</td>\n",
              "      <td>1</td>\n",
              "      <td>2016-06-12 00:43:35</td>\n",
              "      <td>2016-06-12 00:54:38</td>\n",
              "      <td>1</td>\n",
              "      <td>-73.980415</td>\n",
              "      <td>40.738564</td>\n",
              "      <td>-73.999481</td>\n",
              "      <td>40.731152</td>\n",
              "      <td>N</td>\n",
              "      <td>663</td>\n",
              "    </tr>\n",
              "    <tr>\n",
              "      <th>2</th>\n",
              "      <td>id3858529</td>\n",
              "      <td>2</td>\n",
              "      <td>2016-01-19 11:35:24</td>\n",
              "      <td>2016-01-19 12:10:48</td>\n",
              "      <td>1</td>\n",
              "      <td>-73.979027</td>\n",
              "      <td>40.763939</td>\n",
              "      <td>-74.005333</td>\n",
              "      <td>40.710087</td>\n",
              "      <td>N</td>\n",
              "      <td>2124</td>\n",
              "    </tr>\n",
              "    <tr>\n",
              "      <th>3</th>\n",
              "      <td>id3504673</td>\n",
              "      <td>2</td>\n",
              "      <td>2016-04-06 19:32:31</td>\n",
              "      <td>2016-04-06 19:39:40</td>\n",
              "      <td>1</td>\n",
              "      <td>-74.010040</td>\n",
              "      <td>40.719971</td>\n",
              "      <td>-74.012268</td>\n",
              "      <td>40.706718</td>\n",
              "      <td>N</td>\n",
              "      <td>429</td>\n",
              "    </tr>\n",
              "    <tr>\n",
              "      <th>4</th>\n",
              "      <td>id2181028</td>\n",
              "      <td>2</td>\n",
              "      <td>2016-03-26 13:30:55</td>\n",
              "      <td>2016-03-26 13:38:10</td>\n",
              "      <td>1</td>\n",
              "      <td>-73.973053</td>\n",
              "      <td>40.793209</td>\n",
              "      <td>-73.972923</td>\n",
              "      <td>40.782520</td>\n",
              "      <td>N</td>\n",
              "      <td>435</td>\n",
              "    </tr>\n",
              "  </tbody>\n",
              "</table>\n",
              "</div>"
            ],
            "text/plain": [
              "          id  vendor_id  ... store_and_fwd_flag trip_duration\n",
              "0  id2875421          2  ...                  N           455\n",
              "1  id2377394          1  ...                  N           663\n",
              "2  id3858529          2  ...                  N          2124\n",
              "3  id3504673          2  ...                  N           429\n",
              "4  id2181028          2  ...                  N           435\n",
              "\n",
              "[5 rows x 11 columns]"
            ]
          },
          "metadata": {
            "tags": []
          },
          "execution_count": 11
        }
      ]
    },
    {
      "cell_type": "code",
      "metadata": {
        "id": "L1SJIJjtwwqM",
        "colab_type": "code",
        "outputId": "6dcb51f3-bc02-430d-afd6-a697d5fb499a",
        "colab": {
          "base_uri": "https://localhost:8080/",
          "height": 175
        }
      },
      "source": [
        "#taxi_trip_10K.describe()\n",
        "df.describe()"
      ],
      "execution_count": 12,
      "outputs": [
        {
          "output_type": "execute_result",
          "data": {
            "text/html": [
              "<div><strong>Dask DataFrame Structure:</strong></div>\n",
              "<div>\n",
              "<style scoped>\n",
              "    .dataframe tbody tr th:only-of-type {\n",
              "        vertical-align: middle;\n",
              "    }\n",
              "\n",
              "    .dataframe tbody tr th {\n",
              "        vertical-align: top;\n",
              "    }\n",
              "\n",
              "    .dataframe thead th {\n",
              "        text-align: right;\n",
              "    }\n",
              "</style>\n",
              "<table border=\"1\" class=\"dataframe\">\n",
              "  <thead>\n",
              "    <tr style=\"text-align: right;\">\n",
              "      <th></th>\n",
              "      <th>vendor_id</th>\n",
              "      <th>passenger_count</th>\n",
              "      <th>pickup_longitude</th>\n",
              "      <th>pickup_latitude</th>\n",
              "      <th>dropoff_longitude</th>\n",
              "      <th>dropoff_latitude</th>\n",
              "      <th>trip_duration</th>\n",
              "    </tr>\n",
              "    <tr>\n",
              "      <th>npartitions=1</th>\n",
              "      <th></th>\n",
              "      <th></th>\n",
              "      <th></th>\n",
              "      <th></th>\n",
              "      <th></th>\n",
              "      <th></th>\n",
              "      <th></th>\n",
              "    </tr>\n",
              "  </thead>\n",
              "  <tbody>\n",
              "    <tr>\n",
              "      <th></th>\n",
              "      <td>int64</td>\n",
              "      <td>int64</td>\n",
              "      <td>float64</td>\n",
              "      <td>float64</td>\n",
              "      <td>float64</td>\n",
              "      <td>float64</td>\n",
              "      <td>int64</td>\n",
              "    </tr>\n",
              "    <tr>\n",
              "      <th></th>\n",
              "      <td>...</td>\n",
              "      <td>...</td>\n",
              "      <td>...</td>\n",
              "      <td>...</td>\n",
              "      <td>...</td>\n",
              "      <td>...</td>\n",
              "      <td>...</td>\n",
              "    </tr>\n",
              "  </tbody>\n",
              "</table>\n",
              "</div>\n",
              "<div>Dask Name: describe, 143 tasks</div>"
            ],
            "text/plain": [
              "Dask DataFrame Structure:\n",
              "              vendor_id passenger_count pickup_longitude pickup_latitude dropoff_longitude dropoff_latitude trip_duration\n",
              "npartitions=1                                                                                                            \n",
              "                  int64           int64          float64         float64           float64          float64         int64\n",
              "                    ...             ...              ...             ...               ...              ...           ...\n",
              "Dask Name: describe, 143 tasks"
            ]
          },
          "metadata": {
            "tags": []
          },
          "execution_count": 12
        }
      ]
    },
    {
      "cell_type": "code",
      "metadata": {
        "id": "tppJaG8egfDU",
        "colab_type": "code",
        "colab": {}
      },
      "source": [
        "df_NYC = df.compute()"
      ],
      "execution_count": 0,
      "outputs": []
    },
    {
      "cell_type": "code",
      "metadata": {
        "id": "hF2JPTQ85flF",
        "colab_type": "code",
        "outputId": "a3147cdd-61ab-453d-fb21-9584deed8d7d",
        "colab": {
          "base_uri": "https://localhost:8080/",
          "height": 309
        }
      },
      "source": [
        "df_NYC.head(5)"
      ],
      "execution_count": 15,
      "outputs": [
        {
          "output_type": "execute_result",
          "data": {
            "text/html": [
              "<div>\n",
              "<style scoped>\n",
              "    .dataframe tbody tr th:only-of-type {\n",
              "        vertical-align: middle;\n",
              "    }\n",
              "\n",
              "    .dataframe tbody tr th {\n",
              "        vertical-align: top;\n",
              "    }\n",
              "\n",
              "    .dataframe thead th {\n",
              "        text-align: right;\n",
              "    }\n",
              "</style>\n",
              "<table border=\"1\" class=\"dataframe\">\n",
              "  <thead>\n",
              "    <tr style=\"text-align: right;\">\n",
              "      <th></th>\n",
              "      <th>id</th>\n",
              "      <th>vendor_id</th>\n",
              "      <th>pickup_datetime</th>\n",
              "      <th>dropoff_datetime</th>\n",
              "      <th>passenger_count</th>\n",
              "      <th>pickup_longitude</th>\n",
              "      <th>pickup_latitude</th>\n",
              "      <th>dropoff_longitude</th>\n",
              "      <th>dropoff_latitude</th>\n",
              "      <th>store_and_fwd_flag</th>\n",
              "      <th>trip_duration</th>\n",
              "    </tr>\n",
              "  </thead>\n",
              "  <tbody>\n",
              "    <tr>\n",
              "      <th>0</th>\n",
              "      <td>id2875421</td>\n",
              "      <td>2</td>\n",
              "      <td>2016-03-14 17:24:55</td>\n",
              "      <td>2016-03-14 17:32:30</td>\n",
              "      <td>1</td>\n",
              "      <td>-73.982155</td>\n",
              "      <td>40.767937</td>\n",
              "      <td>-73.964630</td>\n",
              "      <td>40.765602</td>\n",
              "      <td>N</td>\n",
              "      <td>455</td>\n",
              "    </tr>\n",
              "    <tr>\n",
              "      <th>1</th>\n",
              "      <td>id2377394</td>\n",
              "      <td>1</td>\n",
              "      <td>2016-06-12 00:43:35</td>\n",
              "      <td>2016-06-12 00:54:38</td>\n",
              "      <td>1</td>\n",
              "      <td>-73.980415</td>\n",
              "      <td>40.738564</td>\n",
              "      <td>-73.999481</td>\n",
              "      <td>40.731152</td>\n",
              "      <td>N</td>\n",
              "      <td>663</td>\n",
              "    </tr>\n",
              "    <tr>\n",
              "      <th>2</th>\n",
              "      <td>id3858529</td>\n",
              "      <td>2</td>\n",
              "      <td>2016-01-19 11:35:24</td>\n",
              "      <td>2016-01-19 12:10:48</td>\n",
              "      <td>1</td>\n",
              "      <td>-73.979027</td>\n",
              "      <td>40.763939</td>\n",
              "      <td>-74.005333</td>\n",
              "      <td>40.710087</td>\n",
              "      <td>N</td>\n",
              "      <td>2124</td>\n",
              "    </tr>\n",
              "    <tr>\n",
              "      <th>3</th>\n",
              "      <td>id3504673</td>\n",
              "      <td>2</td>\n",
              "      <td>2016-04-06 19:32:31</td>\n",
              "      <td>2016-04-06 19:39:40</td>\n",
              "      <td>1</td>\n",
              "      <td>-74.010040</td>\n",
              "      <td>40.719971</td>\n",
              "      <td>-74.012268</td>\n",
              "      <td>40.706718</td>\n",
              "      <td>N</td>\n",
              "      <td>429</td>\n",
              "    </tr>\n",
              "    <tr>\n",
              "      <th>4</th>\n",
              "      <td>id2181028</td>\n",
              "      <td>2</td>\n",
              "      <td>2016-03-26 13:30:55</td>\n",
              "      <td>2016-03-26 13:38:10</td>\n",
              "      <td>1</td>\n",
              "      <td>-73.973053</td>\n",
              "      <td>40.793209</td>\n",
              "      <td>-73.972923</td>\n",
              "      <td>40.782520</td>\n",
              "      <td>N</td>\n",
              "      <td>435</td>\n",
              "    </tr>\n",
              "  </tbody>\n",
              "</table>\n",
              "</div>"
            ],
            "text/plain": [
              "          id  vendor_id  ... store_and_fwd_flag trip_duration\n",
              "0  id2875421          2  ...                  N           455\n",
              "1  id2377394          1  ...                  N           663\n",
              "2  id3858529          2  ...                  N          2124\n",
              "3  id3504673          2  ...                  N           429\n",
              "4  id2181028          2  ...                  N           435\n",
              "\n",
              "[5 rows x 11 columns]"
            ]
          },
          "metadata": {
            "tags": []
          },
          "execution_count": 15
        }
      ]
    },
    {
      "cell_type": "code",
      "metadata": {
        "colab_type": "code",
        "id": "Ju-LvM_-9Ksv",
        "colab": {}
      },
      "source": [
        "eda_analysis = pandas_profiling.ProfileReport(df_NYC)\n",
        "eda_analysis.to_file(\"ML_NYC_taxi.html\")"
      ],
      "execution_count": 0,
      "outputs": []
    },
    {
      "cell_type": "code",
      "metadata": {
        "colab_type": "code",
        "id": "d08DLFx99Ks4",
        "outputId": "d0ed90a9-e9ee-401a-f44a-ac59f18363e1",
        "colab": {
          "base_uri": "https://localhost:8080/",
          "height": 1000
        }
      },
      "source": [
        "from IPython.display import display,HTML,IFrame\n",
        "\n",
        "display(HTML(open('ML_NYC_taxi.html').read()))"
      ],
      "execution_count": 17,
      "outputs": [
        {
          "output_type": "display_data",
          "data": {
            "text/html": [
              "<!doctype html>\n",
              "\n",
              "<html lang=\"en\">\n",
              "<head>\n",
              "  <meta charset=\"utf-8\">\n",
              "\n",
              "  <title>Profile report</title>\n",
              "  <meta name=\"description\" content=\"Profile report generated by pandas-profiling. See GitHub.\">\n",
              "  <meta name=\"author\" content=\"pandas-profiling\">\n",
              "    <script src=\"https://ajax.googleapis.com/ajax/libs/jquery/1.11.3/jquery.min.js\"></script>\n",
              "\n",
              "    <link rel=\"stylesheet\" href=\"https://maxcdn.bootstrapcdn.com/bootstrap/3.3.6/css/bootstrap.min.css\"\n",
              "          integrity=\"sha384-1q8mTJOASx8j1Au+a5WDVnPi2lkFfwwEAa8hDDdjZlpLegxhjVME1fgjWPGmkzs7\" crossorigin=\"anonymous\">\n",
              "    <link rel=\"stylesheet\" href=\"https://maxcdn.bootstrapcdn.com/bootstrap/3.3.6/css/bootstrap-theme.min.css\"\n",
              "          integrity=\"sha384-fLW2N01lMqjakBkx3l/M9EahuwpSfeNvV63J5ezn3uZzapT0u7EYsXMjQV+0En5r\" crossorigin=\"anonymous\">\n",
              "    <script src=\"https://maxcdn.bootstrapcdn.com/bootstrap/3.3.6/js/bootstrap.min.js\" integrity=\"sha384-0mSbJDEHialfmuBBQP6A4Qrprq5OVfW37PRR3j5ELqxss1yVqOtnepnHVP9aJ7xS\" crossorigin=\"anonymous\"></script>\n",
              "    <script>\n",
              "      $(function () {\n",
              "            $('[data-toggle=\"tooltip\"]').tooltip()\n",
              "      })\n",
              "\n",
              "      $(\"a[href^='#'].anchor\").on('click', function(e) {\n",
              "\n",
              "       // prevent default anchor click behavior\n",
              "       e.preventDefault();\n",
              "\n",
              "       // store hash\n",
              "       var hash = this.hash;\n",
              "\n",
              "       // animate\n",
              "       $('html, body').animate({\n",
              "           scrollTop: $(hash).offset().top\n",
              "         }, 300, function(){\n",
              "\n",
              "           // when done, add hash to url\n",
              "           // (default click behaviour)\n",
              "           window.location.hash = hash;\n",
              "         });\n",
              "\n",
              "      });\n",
              "    </script>\n",
              "</head>\n",
              "\n",
              "<body>\n",
              "    <meta charset=\"UTF-8\">\n",
              "\n",
              "<style>\n",
              "\n",
              "        .variablerow {\n",
              "            border: 1px solid #e1e1e8;\n",
              "            border-top: hidden;\n",
              "            padding-top: 2em;\n",
              "            padding-bottom: 2em;\n",
              "            padding-left: 1em;\n",
              "            padding-right: 1em;\n",
              "        }\n",
              "\n",
              "        .headerrow {\n",
              "            border: 1px solid #e1e1e8;\n",
              "            background-color: #f5f5f5;\n",
              "            padding: 2em;\n",
              "        }\n",
              "        .namecol {\n",
              "            margin-top: -1em;\n",
              "            overflow-x: auto;\n",
              "        }\n",
              "\n",
              "        .dl-horizontal dt {\n",
              "            text-align: left;\n",
              "            padding-right: 1em;\n",
              "            white-space: normal;\n",
              "        }\n",
              "\n",
              "        .dl-horizontal dd {\n",
              "            margin-left: 0;\n",
              "        }\n",
              "\n",
              "        .ignore {\n",
              "            opacity: 0.4;\n",
              "        }\n",
              "\n",
              "        .container.pandas-profiling {\n",
              "            max-width:975px;\n",
              "        }\n",
              "\n",
              "        .col-md-12 {\n",
              "            padding-left: 2em;\n",
              "        }\n",
              "\n",
              "        .indent {\n",
              "            margin-left: 1em;\n",
              "        }\n",
              "\n",
              "        .center-img {\n",
              "            margin-left: auto !important;\n",
              "            margin-right: auto !important;\n",
              "            display: block;\n",
              "        }\n",
              "\n",
              "        /* Table example_values */\n",
              "            table.example_values {\n",
              "                border: 0;\n",
              "            }\n",
              "\n",
              "            .example_values th {\n",
              "                border: 0;\n",
              "                padding: 0 ;\n",
              "                color: #555;\n",
              "                font-weight: 600;\n",
              "            }\n",
              "\n",
              "            .example_values tr, .example_values td{\n",
              "                border: 0;\n",
              "                padding: 0;\n",
              "                color: #555;\n",
              "            }\n",
              "\n",
              "        /* STATS */\n",
              "            table.stats {\n",
              "                border: 0;\n",
              "            }\n",
              "\n",
              "            .stats th {\n",
              "                border: 0;\n",
              "                padding: 0 2em 0 0;\n",
              "                color: #555;\n",
              "                font-weight: 600;\n",
              "            }\n",
              "\n",
              "            .stats tr {\n",
              "                border: 0;\n",
              "            }\n",
              "\n",
              "            .stats td{\n",
              "                color: #555;\n",
              "                padding: 1px;\n",
              "                border: 0;\n",
              "            }\n",
              "\n",
              "\n",
              "        /* Sample table */\n",
              "            table.sample {\n",
              "                border: 0;\n",
              "                margin-bottom: 2em;\n",
              "                margin-left:1em;\n",
              "            }\n",
              "            .sample tr {\n",
              "                border:0;\n",
              "            }\n",
              "            .sample td, .sample th{\n",
              "                padding: 0.5em;\n",
              "                white-space: nowrap;\n",
              "                border: none;\n",
              "\n",
              "            }\n",
              "\n",
              "            .sample thead {\n",
              "                border-top: 0;\n",
              "                border-bottom: 2px solid #ddd;\n",
              "            }\n",
              "\n",
              "            .sample td {\n",
              "                width:100%;\n",
              "            }\n",
              "\n",
              "\n",
              "        /* There is no good solution available to make the divs equal height and then center ... */\n",
              "            .histogram {\n",
              "                margin-top: 3em;\n",
              "            }\n",
              "        /* Freq table */\n",
              "\n",
              "            table.freq {\n",
              "                margin-bottom: 2em;\n",
              "                border: 0;\n",
              "            }\n",
              "            table.freq th, table.freq tr, table.freq td {\n",
              "                border: 0;\n",
              "                padding: 0;\n",
              "            }\n",
              "\n",
              "            .freq thead {\n",
              "                font-weight: 600;\n",
              "                white-space: nowrap;\n",
              "                overflow: hidden;\n",
              "                text-overflow: ellipsis;\n",
              "\n",
              "            }\n",
              "\n",
              "            td.fillremaining{\n",
              "                width:auto;\n",
              "                max-width: none;\n",
              "            }\n",
              "\n",
              "            td.number, th.number {\n",
              "                text-align:right ;\n",
              "            }\n",
              "\n",
              "        /* Freq mini */\n",
              "            .freq.mini td{\n",
              "                width: 50%;\n",
              "                padding: 1px;\n",
              "                font-size: 12px;\n",
              "\n",
              "            }\n",
              "            table.freq.mini {\n",
              "                 width:100%;\n",
              "            }\n",
              "            .freq.mini th {\n",
              "                overflow: hidden;\n",
              "                text-overflow: ellipsis;\n",
              "                white-space: nowrap;\n",
              "                max-width: 5em;\n",
              "                font-weight: 400;\n",
              "                text-align:right;\n",
              "                padding-right: 0.5em;\n",
              "            }\n",
              "\n",
              "            .missing {\n",
              "                color: #a94442;\n",
              "            }\n",
              "            .alert, .alert > th, .alert > td {\n",
              "                color: #a94442;\n",
              "            }\n",
              "\n",
              "\n",
              "        /* Bars in tables */\n",
              "            .freq .bar{\n",
              "                float: left;\n",
              "                width: 0;\n",
              "                height: 100%;\n",
              "                line-height: 20px;\n",
              "                color: #fff;\n",
              "                text-align: center;\n",
              "                background-color: #337ab7;\n",
              "                border-radius: 3px;\n",
              "                margin-right: 4px;\n",
              "            }\n",
              "            .other .bar {\n",
              "                background-color: #999;\n",
              "            }\n",
              "            .missing .bar{\n",
              "                background-color: #a94442;\n",
              "            }\n",
              "            .tooltip-inner {\n",
              "                width: 100%;\n",
              "                white-space: nowrap;\n",
              "                text-align:left;\n",
              "            }\n",
              "\n",
              "            .extrapadding{\n",
              "                padding: 2em;\n",
              "            }\n",
              "\n",
              "            .pp-anchor{\n",
              "\n",
              "            }\n",
              "\n",
              "</style>\n",
              "\n",
              "<div class=\"container pandas-profiling\">\n",
              "    <div class=\"row headerrow highlight\">\n",
              "        <h1>Overview</h1>\n",
              "    </div>\n",
              "    <div class=\"row variablerow\">\n",
              "    <div class=\"col-md-6 namecol\">\n",
              "        <p class=\"h4\">Dataset info</p>\n",
              "        <table class=\"stats\" style=\"margin-left: 1em;\">\n",
              "            <tbody>\n",
              "            <tr>\n",
              "                <th>Number of variables</th>\n",
              "                <td>12 </td>\n",
              "            </tr>\n",
              "            <tr>\n",
              "                <th>Number of observations</th>\n",
              "                <td>1458644 </td>\n",
              "            </tr>\n",
              "            <tr>\n",
              "                <th>Total Missing (%)</th>\n",
              "                <td>0.0% </td>\n",
              "            </tr>\n",
              "            <tr>\n",
              "                <th>Total size in memory</th>\n",
              "                <td>133.5 MiB </td>\n",
              "            </tr>\n",
              "            <tr>\n",
              "                <th>Average record size in memory</th>\n",
              "                <td>96.0 B </td>\n",
              "            </tr>\n",
              "            </tbody>\n",
              "        </table>\n",
              "    </div>\n",
              "    <div class=\"col-md-6 namecol\">\n",
              "        <p class=\"h4\">Variables types</p>\n",
              "        <table class=\"stats\" style=\"margin-left: 1em;\">\n",
              "            <tbody>\n",
              "            <tr>\n",
              "                <th>Numeric</th>\n",
              "                <td>7 </td>\n",
              "            </tr>\n",
              "            <tr>\n",
              "                <th>Categorical</th>\n",
              "                <td>3 </td>\n",
              "            </tr>\n",
              "            <tr>\n",
              "                <th>Boolean</th>\n",
              "                <td>1 </td>\n",
              "            </tr>\n",
              "            <tr>\n",
              "                <th>Date</th>\n",
              "                <td>0 </td>\n",
              "            </tr>\n",
              "            <tr>\n",
              "                <th>Text (Unique)</th>\n",
              "                <td>1 </td>\n",
              "            </tr>\n",
              "            <tr>\n",
              "                <th>Rejected</th>\n",
              "                <td>0 </td>\n",
              "            </tr>\n",
              "            <tr>\n",
              "                <th>Unsupported</th>\n",
              "                <td>0 </td>\n",
              "            </tr>\n",
              "            </tbody>\n",
              "        </table>\n",
              "    </div>\n",
              "    <div class=\"col-md-12\" style=\"padding-left: 1em;\">\n",
              "        \n",
              "        <p class=\"h4\">Warnings</p>\n",
              "        <ul class=\"list-unstyled\"><li><a href=\"#pp_var_pickup_datetime\"><code>pickup_datetime</code></a> has a high cardinality: 1380222 distinct values  <span class=\"label label-warning\">Warning</span></li><li><a href=\"#pp_var_dropoff_datetime\"><code>dropoff_datetime</code></a> has a high cardinality: 1380377 distinct values  <span class=\"label label-warning\">Warning</span></li><li><a href=\"#pp_var_pickup_longitude\"><code>pickup_longitude</code></a> is highly skewed (γ1 = -418.12)  <span class=\"label label-info\">Skewed</span></li><li><a href=\"#pp_var_dropoff_longitude\"><code>dropoff_longitude</code></a> is highly skewed (γ1 = -425.33)  <span class=\"label label-info\">Skewed</span></li><li><a href=\"#pp_var_dropoff_latitude\"><code>dropoff_latitude</code></a> is highly skewed (γ1 = -20.671)  <span class=\"label label-info\">Skewed</span></li><li><a href=\"#pp_var_trip_duration\"><code>trip_duration</code></a> is highly skewed (γ1 = 343.16)  <span class=\"label label-info\">Skewed</span></li> </ul>\n",
              "    </div>\n",
              "</div>\n",
              "    <div class=\"row headerrow highlight\">\n",
              "        <h1>Variables</h1>\n",
              "    </div>\n",
              "    <div class=\"row variablerow\">\n",
              "    <div class=\"col-md-3 namecol\">\n",
              "        <p class=\"h4 pp-anchor\" id=\"pp_var_index\">index<br/>\n",
              "            <small>Numeric</small>\n",
              "        </p>\n",
              "    </div><div class=\"col-md-6\">\n",
              "    <div class=\"row\">\n",
              "        <div class=\"col-sm-6\">\n",
              "            <table class=\"stats \">\n",
              "                <tr>\n",
              "                    <th>Distinct count</th>\n",
              "                    <td>465407</td>\n",
              "                </tr>\n",
              "                <tr>\n",
              "                    <th>Unique (%)</th>\n",
              "                    <td>31.9%</td>\n",
              "                </tr>\n",
              "                <tr class=\"ignore\">\n",
              "                    <th>Missing (%)</th>\n",
              "                    <td>0.0%</td>\n",
              "                </tr>\n",
              "                <tr class=\"ignore\">\n",
              "                    <th>Missing (n)</th>\n",
              "                    <td>0</td>\n",
              "                </tr>\n",
              "                <tr class=\"ignore\">\n",
              "                    <th>Infinite (%)</th>\n",
              "                    <td>0.0%</td>\n",
              "                </tr>\n",
              "                <tr class=\"ignore\">\n",
              "                    <th>Infinite (n)</th>\n",
              "                    <td>0</td>\n",
              "                </tr>\n",
              "            </table>\n",
              "\n",
              "        </div>\n",
              "        <div class=\"col-sm-6\">\n",
              "            <table class=\"stats \">\n",
              "\n",
              "                <tr>\n",
              "                    <th>Mean</th>\n",
              "                    <td>224070</td>\n",
              "                </tr>\n",
              "                <tr>\n",
              "                    <th>Minimum</th>\n",
              "                    <td>0</td>\n",
              "                </tr>\n",
              "                <tr>\n",
              "                    <th>Maximum</th>\n",
              "                    <td>465406</td>\n",
              "                </tr>\n",
              "                <tr class=\"ignore\">\n",
              "                    <th>Zeros (%)</th>\n",
              "                    <td>0.0%</td>\n",
              "                </tr>\n",
              "            </table>\n",
              "        </div>\n",
              "    </div>\n",
              "</div>\n",
              "<div class=\"col-md-3 collapse in\" id=\"minihistogram-5440419500623658728\">\n",
              "    <img src=\"data:image/png;base64,iVBORw0KGgoAAAANSUhEUgAAAMgAAABLCAYAAAA1fMjoAAAABHNCSVQICAgIfAhkiAAAAAlwSFlzAAAPYQAAD2EBqD%2BnaQAAADh0RVh0U29mdHdhcmUAbWF0cGxvdGxpYiB2ZXJzaW9uMy4xLjEsIGh0dHA6Ly9tYXRwbG90bGliLm9yZy8QZhcZAAABDklEQVR4nO3ZwQnCQBBAUSOWZBH25NmeLMKexrvIBwMhQd67L8zlMwy7zMycgK/Oew8AR3bZe4BP1/vz5zevx22DScAGgSQQCAKBIBAIAoEgEAgCgXC4f5A1/J2wFRsEgkAgCATCX9wga6y5W9je0W5DGwSCQCAIBIJAIAgEgkAgCASCQCAIBIJAIAgEgkAgCASCQCAIBIJAIAgEgkAgCASCQCAIBIJAIAgEgkAgCASCQCAIBIJAIAgEgkAgCASCQCAIBIJAICwzM3sPAUdlg0AQCASBQBAIBIFAEAgEgUAQCASBQBAIBIFAEAgEgUAQCASBQBAIBIFAEAgEgUAQCASBQBAIBIFAEAgEgUB4A86xEZOvZpTvAAAAAElFTkSuQmCC\">\n",
              "\n",
              "</div>\n",
              "<div class=\"col-md-12 text-right\">\n",
              "    <a role=\"button\" data-toggle=\"collapse\" data-target=\"#descriptives-5440419500623658728,#minihistogram-5440419500623658728\"\n",
              "       aria-expanded=\"false\" aria-controls=\"collapseExample\">\n",
              "        Toggle details\n",
              "    </a>\n",
              "</div>\n",
              "<div class=\"row collapse col-md-12\" id=\"descriptives-5440419500623658728\">\n",
              "    <ul class=\"nav nav-tabs\" role=\"tablist\">\n",
              "        <li role=\"presentation\" class=\"active\"><a href=\"#quantiles-5440419500623658728\"\n",
              "                                                  aria-controls=\"quantiles-5440419500623658728\" role=\"tab\"\n",
              "                                                  data-toggle=\"tab\">Statistics</a></li>\n",
              "        <li role=\"presentation\"><a href=\"#histogram-5440419500623658728\" aria-controls=\"histogram-5440419500623658728\"\n",
              "                                   role=\"tab\" data-toggle=\"tab\">Histogram</a></li>\n",
              "        <li role=\"presentation\"><a href=\"#common-5440419500623658728\" aria-controls=\"common-5440419500623658728\"\n",
              "                                   role=\"tab\" data-toggle=\"tab\">Common Values</a></li>\n",
              "        <li role=\"presentation\"><a href=\"#extreme-5440419500623658728\" aria-controls=\"extreme-5440419500623658728\"\n",
              "                                   role=\"tab\" data-toggle=\"tab\">Extreme Values</a></li>\n",
              "\n",
              "    </ul>\n",
              "\n",
              "    <div class=\"tab-content\">\n",
              "        <div role=\"tabpanel\" class=\"tab-pane active row\" id=\"quantiles-5440419500623658728\">\n",
              "            <div class=\"col-md-4 col-md-offset-1\">\n",
              "                <p class=\"h4\">Quantile statistics</p>\n",
              "                <table class=\"stats indent\">\n",
              "                    <tr>\n",
              "                        <th>Minimum</th>\n",
              "                        <td>0</td>\n",
              "                    </tr>\n",
              "                    <tr>\n",
              "                        <th>5-th percentile</th>\n",
              "                        <td>18233</td>\n",
              "                    </tr>\n",
              "                    <tr>\n",
              "                        <th>Q1</th>\n",
              "                        <td>100740</td>\n",
              "                    </tr>\n",
              "                    <tr>\n",
              "                        <th>Median</th>\n",
              "                        <td>222290</td>\n",
              "                    </tr>\n",
              "                    <tr>\n",
              "                        <th>Q3</th>\n",
              "                        <td>343840</td>\n",
              "                    </tr>\n",
              "                    <tr>\n",
              "                        <th>95-th percentile</th>\n",
              "                        <td>441080</td>\n",
              "                    </tr>\n",
              "                    <tr>\n",
              "                        <th>Maximum</th>\n",
              "                        <td>465406</td>\n",
              "                    </tr>\n",
              "                    <tr>\n",
              "                        <th>Range</th>\n",
              "                        <td>465406</td>\n",
              "                    </tr>\n",
              "                    <tr>\n",
              "                        <th>Interquartile range</th>\n",
              "                        <td>243110</td>\n",
              "                    </tr>\n",
              "                </table>\n",
              "            </div>\n",
              "            <div class=\"col-md-4 col-md-offset-2\">\n",
              "                <p class=\"h4\">Descriptive statistics</p>\n",
              "                <table class=\"stats indent\">\n",
              "                    <tr>\n",
              "                        <th>Standard deviation</th>\n",
              "                        <td>137670</td>\n",
              "                    </tr>\n",
              "                    <tr>\n",
              "                        <th>Coef of variation</th>\n",
              "                        <td>0.61442</td>\n",
              "                    </tr>\n",
              "                    <tr>\n",
              "                        <th>Kurtosis</th>\n",
              "                        <td>-1.2426</td>\n",
              "                    </tr>\n",
              "                    <tr>\n",
              "                        <th>Mean</th>\n",
              "                        <td>224070</td>\n",
              "                    </tr>\n",
              "                    <tr>\n",
              "                        <th>MAD</th>\n",
              "                        <td>119780</td>\n",
              "                    </tr>\n",
              "                    <tr class=\"\">\n",
              "                        <th>Skewness</th>\n",
              "                        <td>0.050814</td>\n",
              "                    </tr>\n",
              "                    <tr>\n",
              "                        <th>Sum</th>\n",
              "                        <td>326840205017</td>\n",
              "                    </tr>\n",
              "                    <tr>\n",
              "                        <th>Variance</th>\n",
              "                        <td>18954000000</td>\n",
              "                    </tr>\n",
              "                    <tr>\n",
              "                        <th>Memory size</th>\n",
              "                        <td>11.1 MiB</td>\n",
              "                    </tr>\n",
              "                </table>\n",
              "            </div>\n",
              "        </div>\n",
              "        <div role=\"tabpanel\" class=\"tab-pane col-md-8 col-md-offset-2\" id=\"histogram-5440419500623658728\">\n",
              "            <img src=\"data:image/png;base64,iVBORw0KGgoAAAANSUhEUgAAAlgAAAGQCAYAAAByNR6YAAAABHNCSVQICAgIfAhkiAAAAAlwSFlzAAAPYQAAD2EBqD%2BnaQAAADh0RVh0U29mdHdhcmUAbWF0cGxvdGxpYiB2ZXJzaW9uMy4xLjEsIGh0dHA6Ly9tYXRwbG90bGliLm9yZy8QZhcZAAAgAElEQVR4nO3de1xUdf7H8Tcwiil3FWuJVdcLAYOmZhS64iW1Mq0ML/RrzbI0RQlWW1Mztdq0h7hW6qbU6urWFqu2rZqmS6lrm22X7TKMl1bUh8ZioM7IRVAu5/eHD2edvEB4dBh8PR8P/vD7Oed7vvOhmDfnnDn4GIZhCAAAAKbx9fQCAAAAGhoCFgAAgMkIWAAAACYjYAEAAJiMgAUAAGAyAhYAAIDJCFgAAAAmI2ABAACYjIAFAABgMgIWAACAyQhYAAAAJiNgAQAAmIyABQAAYDICFgAAgMkIWAAAACYjYAEAAJiMgAUAAGAyAhYAAIDJCFgAAAAmI2ABAACYjIAFAABgMgIWAACAyQhYAAAAJiNgAQAAmIyABQAAYDICFgAAgMkIWAAAACYjYAEAAJiMgAUAAGAyAhYAAIDJCFgAAAAmI2ABAACYjIAFAABgMgIWAACAyQhYAAAAJiNgAQAAmIyABQAAYDICFgAAgMkIWAAAACazeHoB14rCwmLT5/T19VFYWDMdP16q6mrD9PlxYfT96qPnnkHfPYO%2Bm6tly0CPHJczWF7M19dHPj4%2B8vX18fRSrin0/eqj555B3z2DvjcMBCwAAACTEbAAAABMRsACAAAwGQELAADAZAQsAAAAkxGwAAAATEbAAgAAMBkBCwAAwGQELAAAAJMRsAAAAExGwAIAADAZAQsAAMBkBCwAAACTWTy9AFyeW2Z84Okl1NqmtB6eXgIAAFcFZ7AAAABMRsACAAAwGQELAADAZAQsAAAAkxGwAAAATEbAAgAAMBkBCwAAwGQELAAAAJMRsAAAAExGwAIAADAZAQsAAMBkBCwAAACTEbAAAABM5tGAtWPHDiUkJCg9Pd1t/JlnnlFcXJzbV0xMjKZNmyZJevrppxUTE%2BNWv%2BWWW1z7O51OpaWlKSEhQT179tSMGTNUXl7uqu/evVsPPfSQunXrpgEDBmj58uVux9%2B4caMGDx6sLl26aOjQofr444%2BvYBcAAEBD47GA9frrr%2BuFF15Q69atz6u98MILstlsrq%2BvvvpKv/jFL3TnnXe6thk/frzbNl988YWrNnPmTJWVlWnDhg1au3atcnNzlZGRIUkqLy/XuHHjdNttt2nHjh1auHChli1bpi1btkg6E76mTp2qKVOm6NNPP9Xo0aM1ceJEHTly5Ap3BAAANBQeC1j%2B/v5as2bNBQPWj61cuVI/%2B9nPlJiYWOO2R48eVXZ2ttLT0xUWFqZWrVppwoQJWrt2rSoqKrRt2zZVVFRo/Pjxatq0qWJjYzVs2DBlZWVJklavXq3ExEQlJibK399fQ4YMUceOHbVu3brLfs0AAODa4LGANWrUKAUGBta4XVFRkZYuXaqnnnrKbfzTTz/Vfffdpy5duigpKUk5OTmSzpyB8vPzU1RUlGvb2NhYnTx5Uvv375fdbldUVJT8/Pxc9ZiYGNf%2BdrtdMTExbseKiYmRzWar82sFAADXFounF1CTN998U927d1eHDh1cY5GRkfL19dWTTz6pZs2aafHixXr00Ue1efNmOZ1OBQQEyMfHx7V9cHCwJMnhcMjpdCooKMjtGCEhIXI6naqurpbT6XRtf%2B7%2B%2B/btq/WaCwoKVFhY6DZmsTRVeHh4reeoDT8/7/qMgsXiXeu9mLN997b%2BezN67hn03TPoe8NQrwNWVVWV3nrrLS1YsMBtPCUlxe3fTz31lDZs2KDs7Gw1adJEhmH85GOdG8jqsv%2B5srKytHjxYrexlJQUpaamXta83i40tJmnl2CqoKDrPL2Eaw499wz67hn03bvV64D1%2Beef6/Tp026fELwQPz8/3XDDDSooKNDNN9%2BskpISVVVVuS4DOp1OSVLz5s0VFhamgwcPuu3vdDoVEhIiX19fhYaGurY/tx4WFlbrdY8YMUJ9%2B/Z1G7NYmsrhKK31HLXhbb/dmP36PcXPz1dBQdepqKhMVVXVnl7ONYGeewZ99wz6bi5P/XJfrwPWhx9%2BqNtuu00Wy/%2BWaRiG5s2bp/vvv1833XSTJOn06dM6dOiQIiMjFR0dLcMwtGfPHsXGxkqSbDabgoKC1LZtW1mtVr399tuqrKx0zWuz2dS5c2dJktVqdd2PdZbNZtOgQYNqve7w8PDzLgcWFharsvLa/h%2Blob3%2BqqrqBvea6jt67hn03TPou3er16dAdu/erRtvvNFtzMfHR99//73mzJmjH374QaWlpcrIyFCjRo10xx13KCwsTAMHDtTLL7%2Bs48eP68iRI1qyZImSkpJksViUmJiogIAAvfbaayorK9M333yjNWvWKDk5WZI0fPhwffLJJ9q2bZtOnTqlNWvW6ODBgxoyZIgnWgAAALyQx85gxcXFSZIqKyslSdnZ2ZLk9mm9wsJCtWjR4rx9f/vb3%2Bqll17S0KFDVVJSok6dOmnlypVq2rSpJOm5557TrFmz1K9fPzVq1Ej33HOP62GmjRs31tKlSzVr1ixlZmaqRYsWSk9PV%2B/evSVJHTt2VEZGhubOnau8vDy1b99ey5YtU8uWLa9YLwAAQMPiY1zuHd2olcLCYtPntFh81T9jh%2BnzXimb0np4egmmsFh8FRraTA5HKafvrxJ67hn03TPou7latqz5kVBXQr2%2BRAgAAOCNCFgAAAAmI2ABAACYjIAFAABgMgIWAACAyQhYAAAAJiNgAQAAmIyABQAAYDICFgAAgMkIWAAAACYjYAEAAJiMgAUAAGAyAhYAAIDJCFgAAAAmI2ABAACYjIAFAABgMgIWAACAyQhYAAAAJiNgAQAAmIyABQAAYDICFgAAgMkIWAAAACYjYAEAAJiMgAUAAGAyAhYAAIDJLJ5eAK4dd738T08v4SfZlNbD00sAAHgpzmABAACYjIAFAABgMgIWAACAyQhYAAAAJvNowNqxY4cSEhKUnp7uNv7uu%2B/qpptuUlxcnNvXt99%2BK0mqrq7WwoUL1a9fP3Xv3l1jxozR4cOHXfs7nU6lpaUpISFBPXv21IwZM1ReXu6q7969Ww899JC6deumAQMGaPny5W7H37hxowYPHqwuXbpo6NCh%2Bvjjj69gFwAAQEPjsYD1%2Buuv64UXXlDr1q0vWO/evbtsNpvbV6dOnSRJb731ltavX6/MzExt3bpVbdq0UUpKigzDkCTNnDlTZWVl2rBhg9auXavc3FxlZGRIksrLyzVu3Djddttt2rFjhxYuXKhly5Zpy5Ytks6Er6lTp2rKlCn69NNPNXr0aE2cOFFHjhy5Cl0BAAANgccClr%2B/v9asWXPRgHUpWVlZGj16tNq1a6eAgAClp6crNzdX33zzjY4ePars7Gylp6crLCxMrVq10oQJE7R27VpVVFRo27Ztqqio0Pjx49W0aVPFxsZq2LBhysrKkiStXr1aiYmJSkxMlL%2B/v4YMGaKOHTtq3bp1ZrcAAAA0UB57DtaoUaMuWc/Pz9cjjzyinJwcBQUFKTU1Vffee6/Ky8u1b98%2BxcTEuLYNCAhQ69atZbPZVFxcLD8/P0VFRbnqsbGxOnnypPbv3y%2B73a6oqCj5%2Bfm56jExMVq9erUkyW63KzEx0W0tMTExstlstX5tBQUFKiwsdBuzWJoqPDy81nPUhp8ft9BdSRbLhft7tu/0/%2Bqh555B3z2DvjcM9fJBo2FhYWrTpo1%2B/etfq3379vr73/%2Bu3/zmNwoPD9cvfvELGYah4OBgt32Cg4PlcDgUEhKigIAA%2Bfj4uNUkyeFwyOl0KigoyG3fkJAQOZ1OVVdXy%2Bl0XnDuffv21Xr9WVlZWrx4sdtYSkqKUlNTaz0HPC80tNkl60FB112lleAseu4Z9N0z6Lt3q5cBq3fv3urdu7fr34MGDdLf//53vfvuu5oyZYokue63upBL1S7m3EBWl/3PNWLECPXt29dtzGJpKoej9LLm/TF%2Bu7myLvb98vPzVVDQdSoqKlNVVfVVXtW1iZ57Bn33DPpurpp%2BWb5S6mXAupCIiAjl5OQoJCREvr6%2BcjqdbnWn06nmzZsrLCxMJSUlqqqqcl0GPLvt2frBgwfP2/fsvKGhoRecOywsrNZrDQ8PP%2B9yYGFhsSor%2BR/Fm9T0/aqqquZ7epXRc8%2Bg755B371bvTwF8vbbb2vjxo1uY7m5uYqMjJS/v786dOggu93uqhUVFenQoUPq1KmToqOjZRiG9uzZ46rbbDYFBQWpbdu2slqt2rt3ryorK93qnTt3liRZrVbl5OS4HfvcOgAAQE3qZcA6ffq0nn/%2BedlsNlVUVGjDhg36xz/%2BoZEjR0qSkpOTtWrVKuXm5qqkpEQZGRmKjo5WXFycwsLCNHDgQL388ss6fvy4jhw5oiVLligpKUkWi0WJiYkKCAjQa6%2B9prKyMn3zzTdas2aNkpOTJUnDhw/XJ598om3btunUqVNas2aNDh48qCFDhniyJQAAwIt47BJhXFycJLnOJGVnZ0s6c7Zo1KhRKi0t1ZNPPqnCwkLdeOONWrJkiaxWqyRp5MiRKiws1K9%2B9SuVlpYqPj7e7aby5557TrNmzVK/fv3UqFEj3XPPPa6HmTZu3FhLly7VrFmzlJmZqRYtWig9Pd11z1fHjh2VkZGhuXPnKi8vT%2B3bt9eyZcvUsmXLq9UaAADg5XyMy72jG7VSWFhs%2BpwWi6/6Z%2BwwfV6csSmtxwXHLRZfhYY2k8NRyv0RVwk99wz67hn03VwtWwZ65Lj18hIhAACANyNgAQAAmIyABQAAYDICFgAAgMkIWAAAACYjYAEAAJiMgAUAAGAyAhYAAIDJCFgAAAAmI2ABAACYzGN/ixCo7%2B56%2BZ%2BeXgIAXDMu9ufJvBVnsAAAAExGwAIAADAZAQsAAMBkBCwAAACTEbAAAABMRsACAAAwGQELAADAZAQsAAAAkxGwAAAATEbAAgAAMBkBCwAAwGQELAAAAJMRsAAAAExGwAIAADAZAQsAAMBkBCwAAACTEbAAAABMRsACAAAwGQELAADAZB4NWDt27FBCQoLS09PPq23ZskVDhgxRly5dNHDgQP3lL39x1RYtWqTo6GjFxcW5fR09elSSdOrUKT377LPq1auX4uPjlZqaKofD4do/Ly9PY8eOVXx8vPr06aP58%2BerurraVd%2B5c6eSkpLUtWtXDRo0SOvWrbuCXQAAAA2NxwLW66%2B/rhdeeEGtW7c%2Br/btt99qypQpSk1N1eeff67p06frueee0xdffOHa5t5775XNZnP7atGihSRp4cKFstvtysrK0ubNm2UYhqZNm%2Bbad9KkSWrVqpWys7O1YsUKZWdna%2BXKlZKkgoICTZgwQSNHjtTOnTs1Y8YMzZw5Uzab7Qp3BAAANBQeC1j%2B/v5as2bNBQOW0%2BnUuHHjdMcdd8hisSgxMVEdO3Z0C1gXU1lZqTVr1mjChAm64YYbFBISorS0NG3btk0//PCDbDab9uzZoylTpigwMFBt2rTR6NGjlZWVJUlav3692rRpo6SkJPn7%2ByshIUF9%2B/bV6tWrTe8BAABomCyeOvCoUaMuWuvVq5d69erl%2BndlZaUKCwvVqlUr19jevXs1cuRIfffdd7rhhhs0bdo09ezZU4cOHVJxcbFiY2Nd27Zr105NmjSR3W5XQUGBIiIiFBwc7KrHxsbqwIEDKikpkd1uV0xMjNt6YmJitGnTplq/toKCAhUWFrqNWSxNFR4eXus5asPPj1voAAANg8XSsN7TPBawfoqMjAw1bdpUd999tyTp%2BuuvV2RkpCZPnqzw8HBlZWXpiSee0Lp16%2BR0OiVJQUFBbnMEBQXJ4XDI6XSeVzsbts7Wzw1ykhQSEuJ2D1dNsrKytHjxYrexlJQUpaam1noOAACuJaGhzTy9BFPV64BlGIYyMjK0YcMGrVq1Sv7%2B/pKkYcOGadiwYa7tRo8erffff1/r1q1znfkyDOOS815JI0aMUN%2B%2Bfd3GLJamcjhKTT0OZ7AAAA2F2e%2BRZ3kquNXbgFVdXa1p06bp22%2B/1dtvv63IyMhLbh8REaGCggKFhYVJOnMfV7Nm/2vqiRMn1Lx5c1VVVbnOcp3ldDrl4%2BOjsLAwhYaGnld3OByueWsjPDz8vMuBhYXFqqysvsgeAABc2xrae2S9PQXy4osv6j//%2Bc8Fw9Xvf/977dy5020sNzdXkZGRioyMVHBwsOx2u6v23Xff6fTp07JarbJarcrPz9fx48dddZvNpvbt26tZs2aKi4tTTk6O29w5OTnq3LnzFXiVAACgIaqXAevLL7/UunXrlJmZqZCQkPPqTqdTc%2BbM0f79%2B3Xq1CktX75chw4d0v333y8/Pz8NHz5cS5cuVX5%2BvhwOh373u9%2Bpf//%2BatGihWJiYhQXF6cFCxaopKREubm5WrFihZKTkyVJgwcPVl5enlavXq1Tp05p%2B/bt2r59u4YPH3612wAAALyUxy4RxsXFSTrzCUFJys7OlnTmbNLatWtVXFysPn36uO3TvXt3LV%2B%2BXJMnT5Z05t4rp9Op9u3b649//KOuv/56SVJqaqpKS0t17733qrKyUn369NHs2bNd87z66quaOXOmevTooYCAAI0cOVIPPvigJKl58%2BZatmyZXnjhBc2ZM0cRERGaP3%2B%2BbrrppivaDwAA0HD4GFf6jm9IOnMPltksFl/1z9hh%2BrwAAFxtm9J6XJF5W7YMvCLz1qReXiIEAADwZgQsAAAAkxGwAAAATEbAAgAAMBkBCwAAwGR1Clh9%2B/bV4sWLlZ%2Bfb/Z6AAAAvF6dAtYDDzygjRs36o477tBjjz2mLVu2uJ5nBQAAcK27rOdg2e12bdiwQZs2bVJFRYXuu%2B8%2BJSUlqW3btmausUHgOVgAAFxcQ3sOlikPGjUMQxs3btTs2bNVUlKihIQEPfnkk%2BrUqZMZa2wQCFgAAFxcQwtYl3WTe0VFhTZu3KjHH39cU6dOVatWrTRt2jRFR0dr9OjRWr9%2BvVnrBAAA8Bp1%2BluEubm5WrNmjd577z2VlpZq4MCBWrlypbp16%2Bbapnv37po9e7YGDx5s2mIBAAC8QZ0C1qBBg9S2bVuNGzdO9913n0JCQs7bJjExUcePH7/sBQIAAHibOgWsVatW6dZbb61xu2%2B%2B%2BaYu0wMAAHi1Ot2DFRUVpSeeeELZ2dmusT/%2B8Y96/PHH5XQ6TVscAACAN6pTwJo7d66Ki4vVvn1711jv3r1VXV2tefPmmbY4AAAAb1SnS4Qff/yx1q9fr9DQUNdYmzZtlJGRoXvuuce0xQEAAHijOp3BKi8vl7%2B///mT%2BfqqrKzsshcFAADgzeoUsLp376558%2BbpxIkTrrEffvhBc%2BbMcXtUAwAAwLWoTpcIp0%2BfrkcffVS33367AgICVF1drdLSUkVGRupPf/qT2WsEAADwKnUKWJGRkXr//ff1j3/8Q4cOHZKvr6/atm2rnj17ys/Pz%2Bw1AgAAeJU6BSxJaty4se644w4z1wIAANAg1ClgHT58WAsWLNB//vMflZeXn1f/8MMPL3thAAAA3qrO92AVFBSoZ8%2Beatq0qdlrAgAA8Gp1Clg5OTn68MMPFRYWZvZ6AAAAvF6dHtPQvHlzzlwBAABcRJ0C1rhx47R48WIZhmH2egAAALxenS4R/uMf/9C///1vvfvuu7rxxhvl6%2Bue09555x1TFgcAAOCN6hSwAgIC1KtXL7PXAgAA0CDUKWDNnTvX7HUAAAA0GHW6B0uS9u/fr0WLFmnatGmusa%2B%2B%2BsqURQEAAHizOgWsnTt3asiQIdqyZYs2bNgg6czDR0eNGvWTHjK6Y8cOJSQkKD09/bzaxo0bNXjwYHXp0kVDhw7Vxx9/7KpVV1dr4cKF6tevn7p3764xY8bo8OHDrrrT6VRaWpoSEhLUs2dPzZgxw%2B2BqLt379ZDDz2kbt26acCAAVq%2BfHmtjw0AAFCTOgWshQsX6qmnntL69evl4%2BMj6czfJ5w3b56WLFlSqzlef/11vfDCC2rduvV5td27d2vq1KmaMmWKPv30U40ePVoTJ07UkSNHJElvvfWW1q9fr8zMTG3dulVt2rRRSkqK61ONM2fOVFlZmTZs2KC1a9cqNzdXGRkZkqTy8nKNGzdOt912m3bs2KGFCxdq2bJl2rJlS62ODQAAUJM6BazvvvtOycnJkuQKWJJ05513Kjc3t1Zz%2BPv7a82aNRcMWKtXr1ZiYqISExPl7%2B%2BvIUOGqGPHjlq3bp0kKSsrS6NHj1a7du0UEBCg9PR05ebm6ptvvtHRo0eVnZ2t9PR0hYWFqVWrVpowYYLWrl2riooKbdu2TRUVFRo/fryaNm2q2NhYDRs2TFlZWbU6NgAAQE3qdJN7YGCgysvL1bhxY7fxgoKC88YuZtSoURet2e12JSYmuo3FxMTIZrOpvLxc%2B/btU0xMjKsWEBCg1q1by2azqbi4WH5%2BfoqKinLVY2NjdfLkSe3fv192u11RUVHy8/Nzm3v16tU1Hru2CgoKVFhY6DZmsTRVeHh4reeoDT%2B/Ot9CBwBAvWKxNKz3tDoFrK5du%2BrFF1/UM8884xo7cOCAZs2apdtvv/2yF%2BV0OhUcHOw2FhwcrH379unEiRMyDOOCdYfDoZCQEAUEBLidWTu7rcPhkNPpVFBQkNu%2BISEhcjqdqq6uvuSxaysrK0uLFy92G0tJSVFqamqt5wAA4FoSGtrM00swVZ0C1rRp0/Twww8rPj5eVVVV6tq1q8rKytShQwfNmzfPlIXV9JT4S9Xr8oT5cwPZ5T6hfsSIEerbt6/bmMXSVA5H6WXN%2B2OcwQIANBRmv0ee5angVqeAdf3112vDhg3avn27Dhw4oCZNmqht27bq0aOHW1Cpq9DQUDmdTrcxp9OpsLAwhYSEyNfX94L15s2bKywsTCUlJaqqqnJdBjy77dn6wYMHz9v37LyXOnZthYeHn3c5sLCwWJWV1bWeAwCAa0lDe4%2BsU8CSpEaNGumOO%2B4wcy0uVqtVOTk5bmM2m02DBg2Sv7%2B/OnToILvdrltvvVWSVFRUpEOHDqlTp06KiIiQYRjas2ePYmNjXfsGBQWpbdu2slqtevvtt1VZWSmLxeKqd%2B7cucZjAwAA1EadAlbfvn0veabqpzwL60KGDx%2BupKQkbdu2TbfffrvWr1%2BvgwcPasiQIZKk5ORkZWZmqlevXmrVqpUyMjIUHR2tuLg4SdLAgQP18ssv66WXXtLp06e1ZMkSJSUlyWKxKDExUQEBAXrttdf02GOP6bvvvtOaNWs0f/78Wh0bAACgJnUKWHfffbdbwKqqqtKBAwdks9n08MMP12qOs2GosrJSkpSdnS3pzNmijh07KiMjQ3PnzlVeXp7at2%2BvZcuWqWXLlpKkkSNHqrCwUL/61a9UWlqq%2BPh4t5vKn3vuOc2aNUv9%2BvVTo0aNdM8997geZtq4cWMtXbpUs2bNUmZmplq0aKH09HT17t1bkmo8NgAAQE18jMu9o/scmzdv1r/%2B9S89%2B%2ByzZk3ZYBQWFps%2Bp8Xiq/4ZO0yfFwCAq21TWo8rMm/LloFXZN6amPoxtDvuuEPvv/%2B%2BmVMCAAB4HVMD1q5duy77EQcAAADerk73YI0cOfK8sbKyMuXm5mrAgAGXvSgAAABvVqeA1aZNm/M%2BRejv76%2BkpCQNGzbMlIUBAAB4qzoFLLOe1g4AANAQ1Slgvffee7Xe9r777qvLIQAAALxWnQLWjBkzVF1dfd4N7T4%2BPm5jPj4%2BBCwAAHDNqVPAeuONN7R8%2BXI98cQTioqKkmEY2rt3r15//XU99NBDio%2BPN3udAAAAXqPO92BlZmaqVatWrrFbbrlFkZGRGjNmjDZs2GDaAgEAALxNnZ6DdfDgQQUHB583HhQUpLy8vMteFAAAgDerU8CKiIjQvHnz5HA4XGNFRUVasGCBfv7zn5u2OAAAAG9Up0uE06dP1%2BTJk5WVlaVmzZrJ19dXJSUlatKkiZYsWWL2GgEAALxKnQJWz549tW3bNm3fvl1HjhyRYRhq1aqVfvnLXyow0DN/VBEAAKC%2BqFPAkqTrrrtO/fr105EjRxQZGWnmmgAAALxane7BKi8v19SpU9WlSxfdddddks7cg/XYY4%2BpqKjI1AUCAAB4mzoFrPnz52v37t3KyMiQr%2B//pqiqqlJGRoZpiwMAAPBGdQpYmzdv1quvvqo777zT9Uefg4KCNHfuXG3ZssXUBQIAAHibOgWs0tJStWnT5rzxsLAwnTx58nLXBAAA4NXqFLB%2B/vOf61//%2Bpckuf3twQ8%2B%2BEA/%2B9nPzFkZAACAl6rTpwgffPBBTZo0SQ888ICqq6u1YsUK5eTkaPPmzZoxY4bZawQAAPAqdQpYI0aMkMVi0Ztvvik/Pz8tXbpUbdu2VUZGhu68806z1wgAAOBV6hSwjh8/rgceeEAPPPCA2esBAADwenW6B6tfv35u914BAADgf%2BoUsOLj47Vp0yaz1wIAANAg1OkS4Q033KDf/va3yszM1M9//nM1atTIrb5gwQJTFgcAAOCN6hSw9u3bp1/84heSJIfDYeqCAAAAvN1PCljp6elauHCh/vSnP7nGlixZopSUFNMXBgAA4K1%2B0j1YH3300XljmZmZpi0GAACgIfhJAetCnxzk04QAAADuflLAOvuHnWsaAwAAuJbV6TENV9rnn3%2BuuLg4ty%2Br1aqoqCj961//UlRU1Hn1cx8bsWrVKg0cOFBdu3ZVcnKycnJyXLVTp07p2WefVa9evRQfH6/U1FS3G/Xz8vI0duxYxcfHq0%2BfPpo/f76qq6uv6usHAADerU6fIrzSunfvLpvN5ja2dOlS7dmzR5IUERFxwfvBpDP3iS1atEhvvPGGoqKitGrVKj3xxBPasmWLmjZtqoULF8putysrK0vXXXedZs6cqWnTpmnp0qWSpEmTJik2NlbZ2dk6duyYxo0bpxYtWuiRRx65si8aAAA0GD8pYFVUVGjy5Mk1jpn9HKz//ve/WrFihf7617/q8OHDl9w2KytLQ4cOVefOnSVJjz32mFatWqWtW7dq4MCBWrNmjV566SXdcMMNkqzRFwEAABqtSURBVKS0tDQNGjRIP/zwgwoKCrRnzx6tWLFCgYGBCgwM1OjRo7Vy5UoCFgAAqLWfFLC6deumgoKCGsfM9sorr%2BiBBx7Qz372Mx0%2BfFilpaVKSUnRF198ocaNG%2BvRRx/V6NGj5ePjI7vdrrvvvtu1r6%2Bvr6Kjo2Wz2RQdHa3i4mLFxsa66u3atVOTJk1kt9tVUFCgiIgIBQcHu%2BqxsbE6cOCASkpKFBAQUKv1FhQUqLCw0G3MYmmq8PDwy%2ByEOz%2B/enmFFwCAn8xiaVjvaT8pYJ37/Kur5fvvv9eWLVu0ZcsWSVJAQIA6duyohx9%2BWAsXLtRnn32mJ598UoGBgUpKSpLT6XQLSJIUHBwsh8Mhp9MpSQoKCnKrBwUFueo/rp2dy%2BFw1DpgZWVlafHixW5jKSkpSk1Nrf0LBwDgGhIa2szTSzBVvbwH61xvvfWWBgwYoJYtW0o6c0bp3KDXs2dPjRw5Uu%2B%2B%2B66SkpIk1fzoiEvVzXjsxIgRI9S3b1%2B3MYulqRyO0sue%2B1ycwQIANBRmv0ee5angVu8D1ubNmzV16tRLbhMREaHNmzdLkkJDQ11nqs5yOp3q0KGDwsLCXP9u1ux/DT9x4oSaN2%2BuqqqqC%2B7r4%2BPj2rc2wsPDz7scWFhYrMpKPo0IAMCFNLT3yHp9CmT37t3Ky8tTjx49XGObNm3Sn//8Z7ft9u/fr8jISEmS1WqV3W531aqqqrRr1y517txZkZGRCg4Odqt/9913On36tKxWq6xWq/Lz83X8%2BHFX3WazqX379m6BDAAA4FLqdcDatWuXQkJC3O59atSokV566SV9/PHHqqio0D//%2BU%2BtXbtWycnJkqTk5GS99957%2Bvrrr1VWVqbXXntNjRs3Vu/eveXn56fhw4dr6dKlys/Pl8Ph0O9%2B9zv1799fLVq0UExMjOLi4rRgwQKVlJQoNzdXK1ascM0NAABQG/X6EuHRo0dd916ddccdd2j69Ol6/vnnlZ%2BfrxYtWmj69OkaMGCAJKlXr1769a9/rbS0NB07dkxxcXHKzMxUkyZNJEmpqakqLS3Vvffeq8rKSvXp00ezZ892zf/qq69q5syZ6tGjhwICAjRy5Eg9%2BOCDV%2B01AwAA7%2Bdj8McEr4rCwmLT57RYfNU/Y4fp8wIAcLVtSutR80Z10LJl4BWZtyb1%2BhIhAACANyJgAQAAmIyABQAAYDICFgAAgMkIWAAAACYjYAEAAJiMgAUAAGAyAhYAAIDJCFgAAAAmI2ABAACYjIAFAABgMgIWAACAyQhYAAAAJiNgAQAAmIyABQAAYDICFgAAgMkIWAAAACYjYAEAAJiMgAUAAGAyAhYAAIDJCFgAAAAmI2ABAACYjIAFAABgMgIWAACAyQhYAAAAJiNgAQAAmIyABQAAYDICFgAAgMkIWAAAACYjYAEAAJis3gasqKgoWa1WxcXFub6ef/55SdLOnTuVlJSkrl27atCgQVq3bp3bvqtWrdLAgQPVtWtXJScnKycnx1U7deqUnn32WfXq1Uvx8fFKTU2Vw%2BFw1fPy8jR27FjFx8erT58%2Bmj9/vqqrq6/OiwYAAA2CxdMLuJQPPvhAN954o9tYQUGBJkyYoBkzZmjw4MH68ssvNX78eLVt21ZxcXH66KOPtGjRIr3xxhuKiorSqlWr9MQTT2jLli1q2rSpFi5cKLvdrqysLF133XWaOXOmpk2bpqVLl0qSJk2apNjYWGVnZ%2BvYsWMaN26cWrRooUceecQTLQAAAF6o3p7Bupj169erTZs2SkpKkr%2B/vxISEtS3b1%2BtXr1akpSVlaWhQ4eqc%2BfOatKkiR577DFJ0tatW1VZWak1a9ZowoQJuuGGGxQSEqK0tDRt27ZNP/zwg2w2m/bs2aMpU6YoMDBQbdq00ejRo5WVleXJlwwAALxMvT6DtWDBAn311VcqKSnRXXfdpaefflp2u10xMTFu28XExGjTpk2SJLvdrrvvvttV8/X1VXR0tGw2m6Kjo1VcXKzY2FhXvV27dmrSpInsdrsKCgoUERGh4OBgVz02NlYHDhxQSUmJAgICarXugoICFRYWuo1ZLE0VHh7%2Bk3twKX5%2BXpePAQC4IIulYb2n1duAdfPNNyshIUEvvfSSDh8%2BrLS0NM2ZM0dOp1OtWrVy2zYkJMR1H5XT6XQLSJIUHBwsh8Mhp9MpSQoKCnKrBwUFueo/rp2dy%2BFw1DpgZWVlafHixW5jKSkpSk1NrdX%2BAABca0JDm3l6CaaqtwHr3Mty7dq105QpUzR%2B/Hh169atxn0Nw6hzvaZ9a2PEiBHq27ev25jF0lQOR%2Bllz30uzmABABoKs98jz/JUcKu3AevHbrzxRlVVVcnX19d1Juosh8OhsLAwSVJoaOh5dafTqQ4dOri2cTqdatbsfw0/ceKEmjdvrqqqqgvu6%2BPj49q3NsLDw8%2B7HFhYWKzKSj6NCADAhTS098h6eQpk165dmjdvnttYbm6uGjdurMTERLfHLkhSTk6OOnfuLEmyWq2y2%2B2uWlVVlXbt2qXOnTsrMjJSwcHBbvXvvvtOp0%2BfltVqldVqVX5%2Bvo4fP%2B6q22w2tW/f3i2QAQAAXEq9DFjNmzdXVlaWMjMzdfr0aR04cECvvPKKRowYoXvvvVd5eXlavXq1Tp06pe3bt2v79u0aPny4JCk5OVnvvfeevv76a5WVlem1115T48aN1bt3b/n5%2BWn48OFaunSp8vPz5XA49Lvf/U79%2B/dXixYtFBMTo7i4OC1YsEAlJSXKzc3VihUrlJyc7OGOAAAAb%2BJjmHHT0RXw%2Beefa8GCBdq7d68aN26s%2B%2B%2B/X%2Bnp6fL399fnn3%2BuF154Qbm5uYqIiNDkyZM1YMAA175//vOflZmZqWPHjikuLk6zZ89Wx44dJUmnT5/W3Llz9f7776uyslJ9%2BvTR7NmzFRgYKEk6cuSIZs6cqc8%2B%2B0wBAQEaOXKkJk6cKB8fn8t6PYWFxZe1/4VYLL7qn7HD9HkBALjaNqX1uCLztmwZeEXmrUm9DVgNDQELAICLa2gBq15eIgQAAPBmBCwAAACTEbAAAABMRsACAAAwGQELAADAZAQsAAAAkxGwAAAATEbAAgAAMBkBCwAAwGQELAAAAJMRsAAAAExGwAIAADAZAQsAAMBkBCwAAACTEbAAAABMRsACAAAwGQELAADAZAQsAAAAkxGwAAAATEbAAgAAMBkBCwAAwGQELAAAAJMRsAAAAExGwAIAADAZAQsAAMBkBCwAAACTEbAAAABMRsACAAAwGQELAADAZAQsAAAAk9XbgJWXl6eUlBTFx8crISFBTz/9tIqKivT9998rKipKcXFxbl9/%2BMMfXPtu3LhRgwcPVpcuXTR06FB9/PHHrlp1dbUWLlyofv36qXv37hozZowOHz7sqjudTqWlpSkhIUE9e/bUjBkzVF5eflVfOwAA8G71NmA98cQTCgoK0kcffaR3331X//nPf/TSSy%2B56jabze1rzJgxkqTdu3dr6tSpmjJlij799FONHj1aEydO1JEjRyRJb731ltavX6/MzExt3bpVbdq0UUpKigzDkCTNnDlTZWVl2rBhg9auXavc3FxlZGRc/QYAAACvVS8DVlFRkaxWqyZPnqxmzZrp%2Buuv1/33368vvviixn1Xr16txMREJSYmyt/fX0OGDFHHjh21bt06SVJWVpZGjx6tdu3aKSAgQOnp6crNzdU333yjo0ePKjs7W%2Bnp6QoLC1OrVq00YcIErV27VhUVFVf6ZQMAgAbC4ukFXEhQUJDmzp3rNpafn6/w8HDXv3/zm9/ok08%2BUWVlpYYNG6bU1FQ1atRIdrtdiYmJbvvGxMTIZrOpvLxc%2B/btU0xMjKsWEBCg1q1by2azqbi4WH5%2BfoqKinLVY2NjdfLkSe3fv99t/FIKCgpUWFjoNmaxNHVbvxn8/OplPgYA4CezWBrWe1q9DFg/ZrPZ9Oabb%2Bq1115T48aN1aVLF/Xv31%2B//e1vtXv3bk2aNEkWi0VPPvmknE6ngoOD3fYPDg7Wvn37dOLECRmGccG6w%2BFQSEiIAgIC5OPj41aTJIfDUev1ZmVlafHixW5jKSkpSk1N/akvHQCAa0JoaDNPL8FU9T5gffnllxo/frwmT56shIQESdI777zjqnfq1Enjxo3TsmXL9OSTT0qS636qi7lUvaZ9a2PEiBHq27ev25jF0lQOR%2Bllz30uzmABABoKs98jz/JUcKvXAeujjz7SU089pZkzZ%2Bq%2B%2B%2B676HYRERE6evSoDMNQaGionE6nW93pdCosLEwhISHy9fW9YL158%2BYKCwtTSUmJqqqq5Ofn56pJUvPmzWu97vDw8PMuBxYWFquysrrWcwAAcC1paO%2BR9fYUyL///W9NnTpVr7zyilu42rlzp1577TW3bffv36%2BIiAj5%2BPjIarUqJyfHrW6z2dS5c2f5%2B/urQ4cOstvtrlpRUZEOHTqkTp06KTo6WoZhaM%2BePW77BgUFqW3btlfolQIAgIamXgasyspKPfPMM5oyZYp69uzpVgsMDNSSJUv0t7/9TRUVFbLZbPrDH/6g5ORkSdLw4cP1ySefaNu2bTp16pTWrFmjgwcPasiQIZKk5ORkrVq1Srm5uSopKVFGRoaio6MVFxensLAwDRw4UC%2B//LKOHz%2BuI0eOaMmSJUpKSpLFUq9P9gEAgHrExzDjpiOTffHFF/q///s/NW7c%2BLzaBx98oF27dmnx4sU6ePCgAgMD9atf/UqPP/64fH3P5MUtW7ZowYIFysvLU/v27TVjxgx1795d0pl7rBYtWqR33nlHpaWlio%2BP13PPPafrr79eklRcXKxZs2Zp69atatSoke655x49/fTTF1zLT1FYWHxZ%2B1%2BIxeKr/hk7TJ8XAICrbVNajysyb8uWgVdk3prUy4DVEBGwAAC4uIYWsOrlJUIAAABvRsACAAAwGQELAADAZAQsAAAAkxGwAAAATEbAAgAAMBkBCwAAwGQELAAAAJMRsAAAAExGwAIAADAZAQsAAMBkBCwAAACTEbAAAABMRsACAAAwGQELAADAZAQsAAAAkxGwAAAATEbAAgAAMBkBCwAAwGQELAAAAJMRsAAAAExGwAIAADAZAQsAAMBkBCwAAACTEbAAAABMRsACAAAwGQELAADAZAQsAAAAkxGwAAAATEbAAgAAMBkB6wLy8vI0duxYxcfHq0%2BfPpo/f76qq6s9vSwAAOAlLJ5eQH00adIkxcbGKjs7W8eOHdO4cePUokULPfLII55eGgAA8AKcwfoRm82mPXv2aMqUKQoMDFSbNm00evRoZWVleXppAADAS3AG60fsdrsiIiIUHBzsGouNjdWBAwdUUlKigICAGucoKChQYWGh25jF0lTh4eGmrtXPj3wMAGgYLJaG9Z5GwPoRp9OpoKAgt7GzYcvhcNQqYGVlZWnx4sVuYxMnTtSkSZPMW6jOBLmHr/%2BPRowYYXp4w8UVFBQoKyuLvl9F9Nwz6Ltn0PeGoWHFRZMYhnFZ%2B48YMULvvvuu29eIESNMWt3/FBYWavHixeedLcOVRd%2BvPnruGfTdM%2Bh7w8AZrB8JCwuT0%2Bl0G3M6nfLx8VFYWFit5ggPD%2Be3DgAArmGcwfoRq9Wq/Px8HT9%2B3DVms9nUvn17NWvWzIMrAwAA3oKA9SMxMTGKi4vTggULVFJSotzcXK1YsULJycmeXhoAAPASfrNnz57t6UXUN7/85S%2B1YcMGPf/883r//feVlJSkMWPGyMfHx9NLO0%2BzZs106623cnbtKqPvVx899wz67hn03fv5GJd7RzcAAADccIkQAADAZAQsAAAAkxGwAAAATEbAAgAAMBkBCwAAwGQELAAAAJMRsAAAAExGwAIAADAZAQsAAMBkBCwvlJeXp7Fjxyo%2BPl59%2BvTR/PnzVV1d7ell1Us7duxQQkKC0tPTz6tt3LhRgwcPVpcuXTR06FB9/PHHrlp1dbUWLlyofv36qXv37hozZowOHz7sqjudTqWlpSkhIUE9e/bUjBkzVF5e7qrv3r1bDz30kLp166YBAwZo%2BfLltT52Q5CXl6eUlBTFx8crISFBTz/9tIqKiiRdXm%2Bu9PfFm%2B3Zs0cPP/ywunXrpoSEBKWlpamwsFCStHPnTiUlJalr164aNGiQ1q1b57bvqlWrNHDgQHXt2lXJycnKyclx1U6dOqVnn31WvXr1Unx8vFJTU%2BVwOFz1mn4e1XTshuTFF19UVFSU69/0/RpnwOvcf//9xjPPPGMUFRUZBw4cMAYMGGAsX77c08uqdzIzM40BAwYYI0eONNLS0txqu3btMqxWq7Ft2zajvLzc%2BNvf/mZ07tzZyM/PNwzDMFatWmX06dPH2Ldvn1FcXGw899xzxuDBg43q6mrDMAxj4sSJxtixY41jx44ZR44cMUaMGGE8//zzhmEYRllZmfHLX/7SWLRokVFaWmrk5OQYt956q7F58%2BZaHbshuOeee4ynn37aKCkpMfLz842hQ4ca06dPv%2BzeXMnvizc7deqUcfvttxuLFy82Tp06ZRw7dsx46KGHjAkTJhg//PCDcfPNNxurV682ysvLjX/%2B859Gp06djG%2B//dYwDMP48MMPjVtuucX4%2BuuvjbKyMmPZsmVGjx49jNLSUsMwDGPu3LnG0KFDjf/%2B97%2BGw%2BEwJk6caIwbN8517Ev9PKrp2A3Jrl27jFtvvdXo2LGjYRg1v3b63vARsLzMt99%2Ba0RHRxtOp9M19uc//9kYOHCgB1dVP61cudIoKioypk6del7AmjNnjpGSkuI2NmzYMGPZsmWGYRjGoEGDjJUrV7pqxcXFRkxMjPHVV18ZhYWFxk033WTs3r3bVd%2B%2Bfbtx8803G6dPnzY2bdpk3HbbbUZlZaWrPn/%2BfOPRRx%2Bt1bG93YkTJ4ynn37aKCwsdI396U9/MgYMGHDZvbmS3xdv5nQ6jb/85S9GRUWFa2zlypVG//79jTfeeMO477773LZPS0szZs6caRiGYYwdO9Z48cUXXbWqqiqjR48exoYNG4yKigqjW7duRnZ2tqu%2Bb98%2BIyoqyjhy5EiNP49qOnZDUVVVZQwbNsz4/e9/7wpY9B1cIvQydrtdERERCg4Odo3FxsbqwIEDKikp8eDK6p9Ro0YpMDDwgjW73a6YmBi3sZiYGNlsNpWXl2vfvn1u9YCAALVu3Vo2m027d%2B%2BWn5%2Bf26WA2NhYnTx5Uvv375fdbldUVJT8/Pzc5j57%2Bv9Sx24IgoKCNHfuXLVo0cI1lp%2Bfr/Dw8MvqzZX%2Bvniz4OBgDRs2TBaLRZK0f/9%2B/fWvf9Vdd9110Z5erOe%2Bvr6Kjo6WzWbToUOHVFxcrNjYWFe9Xbt2atKkiex2e40/j2o6dkPxzjvvyN/fX4MHD3aN0XcQsLyM0%2BlUUFCQ29jZ/8nOvT6PS3M6nW4/nKQzfXQ4HDpx4oQMw7ho3el0KiAgQD4%2BPm41Sa76j79HISEhcjqdqq6uvuSxGyKbzaY333xT48ePv6zeXOnvS0OQl5cnq9Wqu%2B%2B%2BW3FxcUpNTb3o6z7739uleu50OiXpvP2DgoIu2tPa9Lwh/bd%2B9OhRLVq0SLNmzXIbp%2B8gYHkhwzA8vYQGoaY%2BXqpel%2B/BuW/818r38Msvv9SYMWM0efJkJSQkXHS7n9KbK/l98XYRERGy2Wz64IMPdPDgQf3mN7%2Bp1X5Xu%2BcNydy5czV06FC1b9/%2BJ%2B9L3xs2ApaXCQsLc/12c5bT6ZSPj4/CwsI8tCrvExoaesE%2BhoWFKSQkRL6%2BvhesN2/eXGFhYSopKVFVVZVbTZKr/uPfFJ1Op2veSx27Ifnoo480duxYTZ8%2BXaNGjZKky%2BrNlf6%2BNBQ%2BPj5q06aN0tPTtWHDBlkslvN65nA4XP%2B9XarnZ7f5cf3EiROunl7q59GF5j732N5u586d%2Buqrr5SSknJerabXTt8bvobzU%2BUaYbValZ%2Bfr%2BPHj7vGbDab2rdvr2bNmnlwZd7FarWedz%2BCzWZT586d5e/vrw4dOshut7tqRUVFOnTokDp16qTo6GgZhqE9e/a47RsUFKS2bdvKarVq7969qqysPG/umo7dUPz73//W1KlT9corr%2Bi%2B%2B%2B5zjV9Ob67098Wb7dy5UwMHDnS71Hk2NHbq1Om8nubk5Lj1/NyeVlVVadeuXercubMiIyMVHBzsVv/uu%2B90%2BvRpWa3WGn8excXFXfLY3m7dunU6duyY%2BvTpo/j4eA0dOlSSFB8fr44dO9L3a93Vvqsel2/YsGHG9OnTjeLiYmPfvn1G3759jTfffNPTy6q3LvQpwr179xpxcXHG1q1bjfLycmP16tVGly5djIKCAsMwznwip3fv3q7HAcycOdN44IEHXPunpaUZjz32mHHs2DEjPz/feOCBB4x58%2BYZhnHmI/N9%2BvQxXn31VePkyZPG119/bdxyyy3G1q1ba3Vsb1dRUWHcddddxjvvvHNe7XJ7cyW/L96sqKjISEhIMObNm2ecPHnSOHbsmDFmzBjjwQcfNI4ePWp06dLF%2BMtf/mKUl5cb27ZtMzp16uT6tOX27duNbt26GV999ZVx8uRJY9GiRUZiYqJRVlZmGMaZT1ref//9xn//%2B1/j%2BPHjxrhx44xJkya5jn2pn0c1HdvbOZ1OIz8/3/X11VdfGR07djTy8/ONvLw8%2Bn6NI2B5ofz8fOOxxx4zOnXqZCQkJBivvvqq6zlA%2BB%2Br1WpYrVbjpptuMm666SbXv8/avHmzMWDAACM2Nta49957jc8%2B%2B8xVq66uNl555RXj9ttvNzp16mQ8/vjjbs%2BpKioqMtLT042bb77Z6N69uzFnzhzj1KlTrvrevXuNkSNHGlar1ejdu7fx1ltvua3tUsf2dp9//rnRsWNHV7/P/fr%2B%2B%2B8vqzdX%2Bvvizfbs2WM89NBDRqdOnYzbbrvNSEtLM44cOWIYhmF89tlnxpAhQ4zY2FhjwIAB5z3766233jISExMNq9VqJCcnG3v37nXVTp06ZcyePdvo3r270aVLF%2BPXv/61UVRU5KrX9POopmM3JIcPH3Y9psEw6Pu1zscwuFMOAADATNyDBQAAYDICFgAAgMkIWAAAACYjYAEAAJiMgAUAAGAyAhYAAIDJCFgAAAAmI2ABAACYjIAFAABgMgIWAACAyQhYAAAAJiNgAQAAmIyABQAAYLL/B9v%2Br%2BAgZ7rMAAAAAElFTkSuQmCC\"/>\n",
              "        </div>\n",
              "        <div role=\"tabpanel\" class=\"tab-pane col-md-12\" id=\"common-5440419500623658728\">\n",
              "            \n",
              "<table class=\"freq table table-hover\">\n",
              "    <thead>\n",
              "    <tr>\n",
              "        <td class=\"fillremaining\">Value</td>\n",
              "        <td class=\"number\">Count</td>\n",
              "        <td class=\"number\">Frequency (%)</td>\n",
              "        <td style=\"min-width:200px\">&nbsp;</td>\n",
              "    </tr>\n",
              "    </thead>\n",
              "    <tr class=\"\">\n",
              "        <td class=\"fillremaining\">2047</td>\n",
              "        <td class=\"number\">4</td>\n",
              "        <td class=\"number\">0.0%</td>\n",
              "        <td>\n",
              "            <div class=\"bar\" style=\"width:1%\">&nbsp;</div>\n",
              "        </td>\n",
              "</tr><tr class=\"\">\n",
              "        <td class=\"fillremaining\">60996</td>\n",
              "        <td class=\"number\">4</td>\n",
              "        <td class=\"number\">0.0%</td>\n",
              "        <td>\n",
              "            <div class=\"bar\" style=\"width:1%\">&nbsp;</div>\n",
              "        </td>\n",
              "</tr><tr class=\"\">\n",
              "        <td class=\"fillremaining\">36424</td>\n",
              "        <td class=\"number\">4</td>\n",
              "        <td class=\"number\">0.0%</td>\n",
              "        <td>\n",
              "            <div class=\"bar\" style=\"width:1%\">&nbsp;</div>\n",
              "        </td>\n",
              "</tr><tr class=\"\">\n",
              "        <td class=\"fillremaining\">34377</td>\n",
              "        <td class=\"number\">4</td>\n",
              "        <td class=\"number\">0.0%</td>\n",
              "        <td>\n",
              "            <div class=\"bar\" style=\"width:1%\">&nbsp;</div>\n",
              "        </td>\n",
              "</tr><tr class=\"\">\n",
              "        <td class=\"fillremaining\">40522</td>\n",
              "        <td class=\"number\">4</td>\n",
              "        <td class=\"number\">0.0%</td>\n",
              "        <td>\n",
              "            <div class=\"bar\" style=\"width:1%\">&nbsp;</div>\n",
              "        </td>\n",
              "</tr><tr class=\"\">\n",
              "        <td class=\"fillremaining\">38475</td>\n",
              "        <td class=\"number\">4</td>\n",
              "        <td class=\"number\">0.0%</td>\n",
              "        <td>\n",
              "            <div class=\"bar\" style=\"width:1%\">&nbsp;</div>\n",
              "        </td>\n",
              "</tr><tr class=\"\">\n",
              "        <td class=\"fillremaining\">44620</td>\n",
              "        <td class=\"number\">4</td>\n",
              "        <td class=\"number\">0.0%</td>\n",
              "        <td>\n",
              "            <div class=\"bar\" style=\"width:1%\">&nbsp;</div>\n",
              "        </td>\n",
              "</tr><tr class=\"\">\n",
              "        <td class=\"fillremaining\">42573</td>\n",
              "        <td class=\"number\">4</td>\n",
              "        <td class=\"number\">0.0%</td>\n",
              "        <td>\n",
              "            <div class=\"bar\" style=\"width:1%\">&nbsp;</div>\n",
              "        </td>\n",
              "</tr><tr class=\"\">\n",
              "        <td class=\"fillremaining\">48718</td>\n",
              "        <td class=\"number\">4</td>\n",
              "        <td class=\"number\">0.0%</td>\n",
              "        <td>\n",
              "            <div class=\"bar\" style=\"width:1%\">&nbsp;</div>\n",
              "        </td>\n",
              "</tr><tr class=\"\">\n",
              "        <td class=\"fillremaining\">46671</td>\n",
              "        <td class=\"number\">4</td>\n",
              "        <td class=\"number\">0.0%</td>\n",
              "        <td>\n",
              "            <div class=\"bar\" style=\"width:1%\">&nbsp;</div>\n",
              "        </td>\n",
              "</tr><tr class=\"other\">\n",
              "        <td class=\"fillremaining\">Other values (465397)</td>\n",
              "        <td class=\"number\">1458604</td>\n",
              "        <td class=\"number\">100.0%</td>\n",
              "        <td>\n",
              "            <div class=\"bar\" style=\"width:100%\">&nbsp;</div>\n",
              "        </td>\n",
              "</tr>\n",
              "</table>\n",
              "        </div>\n",
              "        <div role=\"tabpanel\" class=\"tab-pane col-md-12\"  id=\"extreme-5440419500623658728\">\n",
              "            <p class=\"h4\">Minimum 5 values</p>\n",
              "            \n",
              "<table class=\"freq table table-hover\">\n",
              "    <thead>\n",
              "    <tr>\n",
              "        <td class=\"fillremaining\">Value</td>\n",
              "        <td class=\"number\">Count</td>\n",
              "        <td class=\"number\">Frequency (%)</td>\n",
              "        <td style=\"min-width:200px\">&nbsp;</td>\n",
              "    </tr>\n",
              "    </thead>\n",
              "    <tr class=\"\">\n",
              "        <td class=\"fillremaining\">0</td>\n",
              "        <td class=\"number\">4</td>\n",
              "        <td class=\"number\">0.0%</td>\n",
              "        <td>\n",
              "            <div class=\"bar\" style=\"width:100%\">&nbsp;</div>\n",
              "        </td>\n",
              "</tr><tr class=\"\">\n",
              "        <td class=\"fillremaining\">1</td>\n",
              "        <td class=\"number\">4</td>\n",
              "        <td class=\"number\">0.0%</td>\n",
              "        <td>\n",
              "            <div class=\"bar\" style=\"width:100%\">&nbsp;</div>\n",
              "        </td>\n",
              "</tr><tr class=\"\">\n",
              "        <td class=\"fillremaining\">2</td>\n",
              "        <td class=\"number\">4</td>\n",
              "        <td class=\"number\">0.0%</td>\n",
              "        <td>\n",
              "            <div class=\"bar\" style=\"width:100%\">&nbsp;</div>\n",
              "        </td>\n",
              "</tr><tr class=\"\">\n",
              "        <td class=\"fillremaining\">3</td>\n",
              "        <td class=\"number\">4</td>\n",
              "        <td class=\"number\">0.0%</td>\n",
              "        <td>\n",
              "            <div class=\"bar\" style=\"width:100%\">&nbsp;</div>\n",
              "        </td>\n",
              "</tr><tr class=\"\">\n",
              "        <td class=\"fillremaining\">4</td>\n",
              "        <td class=\"number\">4</td>\n",
              "        <td class=\"number\">0.0%</td>\n",
              "        <td>\n",
              "            <div class=\"bar\" style=\"width:100%\">&nbsp;</div>\n",
              "        </td>\n",
              "</tr>\n",
              "</table>\n",
              "            <p class=\"h4\">Maximum 5 values</p>\n",
              "            \n",
              "<table class=\"freq table table-hover\">\n",
              "    <thead>\n",
              "    <tr>\n",
              "        <td class=\"fillremaining\">Value</td>\n",
              "        <td class=\"number\">Count</td>\n",
              "        <td class=\"number\">Frequency (%)</td>\n",
              "        <td style=\"min-width:200px\">&nbsp;</td>\n",
              "    </tr>\n",
              "    </thead>\n",
              "    <tr class=\"\">\n",
              "        <td class=\"fillremaining\">465402</td>\n",
              "        <td class=\"number\">1</td>\n",
              "        <td class=\"number\">0.0%</td>\n",
              "        <td>\n",
              "            <div class=\"bar\" style=\"width:100%\">&nbsp;</div>\n",
              "        </td>\n",
              "</tr><tr class=\"\">\n",
              "        <td class=\"fillremaining\">465403</td>\n",
              "        <td class=\"number\">1</td>\n",
              "        <td class=\"number\">0.0%</td>\n",
              "        <td>\n",
              "            <div class=\"bar\" style=\"width:100%\">&nbsp;</div>\n",
              "        </td>\n",
              "</tr><tr class=\"\">\n",
              "        <td class=\"fillremaining\">465404</td>\n",
              "        <td class=\"number\">1</td>\n",
              "        <td class=\"number\">0.0%</td>\n",
              "        <td>\n",
              "            <div class=\"bar\" style=\"width:100%\">&nbsp;</div>\n",
              "        </td>\n",
              "</tr><tr class=\"\">\n",
              "        <td class=\"fillremaining\">465405</td>\n",
              "        <td class=\"number\">1</td>\n",
              "        <td class=\"number\">0.0%</td>\n",
              "        <td>\n",
              "            <div class=\"bar\" style=\"width:100%\">&nbsp;</div>\n",
              "        </td>\n",
              "</tr><tr class=\"\">\n",
              "        <td class=\"fillremaining\">465406</td>\n",
              "        <td class=\"number\">1</td>\n",
              "        <td class=\"number\">0.0%</td>\n",
              "        <td>\n",
              "            <div class=\"bar\" style=\"width:100%\">&nbsp;</div>\n",
              "        </td>\n",
              "</tr>\n",
              "</table>\n",
              "        </div>\n",
              "    </div>\n",
              "</div>\n",
              "</div><div class=\"row variablerow\">\n",
              "    <div class=\"col-md-3 namecol\">\n",
              "        <p class=\"h4 pp-anchor\" id=\"pp_var_id\">id<br/>\n",
              "            <small>Categorical, Unique</small>\n",
              "        </p>\n",
              "    </div><div class=\"col-md-3 collapse in\" id=\"minivalues103824958832196583\"><table border=\"1\" class=\"dataframe example_values\">\n",
              "  <thead>\n",
              "    <tr style=\"text-align: right;\">\n",
              "      <th>First 3 values</th>\n",
              "    </tr>\n",
              "  </thead>\n",
              "  <tbody>\n",
              "    <tr>\n",
              "      <td>id2218912</td>\n",
              "    </tr>\n",
              "    <tr>\n",
              "      <td>id0879760</td>\n",
              "    </tr>\n",
              "    <tr>\n",
              "      <td>id1680922</td>\n",
              "    </tr>\n",
              "  </tbody>\n",
              "</table></div>\n",
              "<div class=\"col-md-6 collapse in\" id=\"minivalues103824958832196583\"><table border=\"1\" class=\"dataframe example_values\">\n",
              "  <thead>\n",
              "    <tr style=\"text-align: right;\">\n",
              "      <th>Last 3 values</th>\n",
              "    </tr>\n",
              "  </thead>\n",
              "  <tbody>\n",
              "    <tr>\n",
              "      <td>id3098670</td>\n",
              "    </tr>\n",
              "    <tr>\n",
              "      <td>id3177493</td>\n",
              "    </tr>\n",
              "    <tr>\n",
              "      <td>id3524106</td>\n",
              "    </tr>\n",
              "  </tbody>\n",
              "</table></div>\n",
              "<div class=\"col-md-12 text-right\">\n",
              "    <a role=\"button\" data-toggle=\"collapse\" data-target=\"#values103824958832196583,#minivalues103824958832196583\" aria-expanded=\"false\"\n",
              "       aria-controls=\"collapseExample\">\n",
              "        Toggle details\n",
              "    </a>\n",
              "</div>\n",
              "<div class=\"col-md-12 collapse\" id=\"values103824958832196583\">\n",
              "    <p class=\"h4\">First 10 values</p>\n",
              "    \n",
              "<table class=\"freq table table-hover\">\n",
              "    <thead>\n",
              "    <tr>\n",
              "        <td class=\"fillremaining\">Value</td>\n",
              "        <td class=\"number\">Count</td>\n",
              "        <td class=\"number\">Frequency (%)</td>\n",
              "        <td style=\"min-width:200px\">&nbsp;</td>\n",
              "    </tr>\n",
              "    </thead>\n",
              "    <tr class=\"\">\n",
              "        <td class=\"fillremaining\">id0000001</td>\n",
              "        <td class=\"number\">1</td>\n",
              "        <td class=\"number\">0.0%</td>\n",
              "        <td>\n",
              "            <div class=\"bar\" style=\"width:100%\">&nbsp;</div>\n",
              "        </td>\n",
              "</tr><tr class=\"\">\n",
              "        <td class=\"fillremaining\">id0000003</td>\n",
              "        <td class=\"number\">1</td>\n",
              "        <td class=\"number\">0.0%</td>\n",
              "        <td>\n",
              "            <div class=\"bar\" style=\"width:100%\">&nbsp;</div>\n",
              "        </td>\n",
              "</tr><tr class=\"\">\n",
              "        <td class=\"fillremaining\">id0000005</td>\n",
              "        <td class=\"number\">1</td>\n",
              "        <td class=\"number\">0.0%</td>\n",
              "        <td>\n",
              "            <div class=\"bar\" style=\"width:100%\">&nbsp;</div>\n",
              "        </td>\n",
              "</tr><tr class=\"\">\n",
              "        <td class=\"fillremaining\">id0000008</td>\n",
              "        <td class=\"number\">1</td>\n",
              "        <td class=\"number\">0.0%</td>\n",
              "        <td>\n",
              "            <div class=\"bar\" style=\"width:100%\">&nbsp;</div>\n",
              "        </td>\n",
              "</tr><tr class=\"\">\n",
              "        <td class=\"fillremaining\">id0000009</td>\n",
              "        <td class=\"number\">1</td>\n",
              "        <td class=\"number\">0.0%</td>\n",
              "        <td>\n",
              "            <div class=\"bar\" style=\"width:100%\">&nbsp;</div>\n",
              "        </td>\n",
              "</tr>\n",
              "</table>\n",
              "    <p class=\"h4\">Last 10 values</p>\n",
              "    \n",
              "<table class=\"freq table table-hover\">\n",
              "    <thead>\n",
              "    <tr>\n",
              "        <td class=\"fillremaining\">Value</td>\n",
              "        <td class=\"number\">Count</td>\n",
              "        <td class=\"number\">Frequency (%)</td>\n",
              "        <td style=\"min-width:200px\">&nbsp;</td>\n",
              "    </tr>\n",
              "    </thead>\n",
              "    <tr class=\"\">\n",
              "        <td class=\"fillremaining\">id3999988</td>\n",
              "        <td class=\"number\">1</td>\n",
              "        <td class=\"number\">0.0%</td>\n",
              "        <td>\n",
              "            <div class=\"bar\" style=\"width:100%\">&nbsp;</div>\n",
              "        </td>\n",
              "</tr><tr class=\"\">\n",
              "        <td class=\"fillremaining\">id3999992</td>\n",
              "        <td class=\"number\">1</td>\n",
              "        <td class=\"number\">0.0%</td>\n",
              "        <td>\n",
              "            <div class=\"bar\" style=\"width:100%\">&nbsp;</div>\n",
              "        </td>\n",
              "</tr><tr class=\"\">\n",
              "        <td class=\"fillremaining\">id3999998</td>\n",
              "        <td class=\"number\">1</td>\n",
              "        <td class=\"number\">0.0%</td>\n",
              "        <td>\n",
              "            <div class=\"bar\" style=\"width:100%\">&nbsp;</div>\n",
              "        </td>\n",
              "</tr><tr class=\"\">\n",
              "        <td class=\"fillremaining\">id3999999</td>\n",
              "        <td class=\"number\">1</td>\n",
              "        <td class=\"number\">0.0%</td>\n",
              "        <td>\n",
              "            <div class=\"bar\" style=\"width:100%\">&nbsp;</div>\n",
              "        </td>\n",
              "</tr><tr class=\"\">\n",
              "        <td class=\"fillremaining\">id4000000</td>\n",
              "        <td class=\"number\">1</td>\n",
              "        <td class=\"number\">0.0%</td>\n",
              "        <td>\n",
              "            <div class=\"bar\" style=\"width:100%\">&nbsp;</div>\n",
              "        </td>\n",
              "</tr>\n",
              "</table>\n",
              "</div>\n",
              "</div><div class=\"row variablerow\">\n",
              "    <div class=\"col-md-3 namecol\">\n",
              "        <p class=\"h4 pp-anchor\" id=\"pp_var_vendor_id\">vendor_id<br/>\n",
              "            <small>Boolean</small>\n",
              "        </p>\n",
              "    </div><div class=\"col-md-6\">\n",
              "    <div class=\"row\">\n",
              "        <div class=\"col-sm-6\">\n",
              "            <table class=\"stats \">\n",
              "                <tr class=\"\">\n",
              "                    <th>Distinct count</th>\n",
              "                    <td>2</td>\n",
              "                </tr>\n",
              "                <tr>\n",
              "                    <th>Unique (%)</th>\n",
              "                    <td>0.0%</td>\n",
              "                </tr>\n",
              "                <tr class=\"ignore\">\n",
              "                    <th>Missing (%)</th>\n",
              "                    <td>0.0%</td>\n",
              "                </tr>\n",
              "                <tr class=\"ignore\">\n",
              "                    <th>Missing (n)</th>\n",
              "                    <td>0</td>\n",
              "                </tr>\n",
              "            </table>\n",
              "        </div>\n",
              "        <div class=\"col-sm-6\">\n",
              "            <table class=\"stats \">\n",
              "                <tr>\n",
              "                    <th>Mean</th>\n",
              "                    <td>1.535</td>\n",
              "                </tr>\n",
              "            </table>\n",
              "        </div>\n",
              "    </div>\n",
              "</div>\n",
              "<div class=\"col-md-3 collapse in\" id=\"minifreqtable2700057553707953797\">\n",
              "    <table class=\"mini freq\">\n",
              "        <tr class=\"\">\n",
              "    <th>2</th>\n",
              "    <td>\n",
              "        <div class=\"bar\" style=\"width:100%\" data-toggle=\"tooltip\" data-placement=\"right\" data-html=\"true\"\n",
              "             data-delay=500 title=\"Percentage: 53.5%\">\n",
              "            780302\n",
              "        </div>\n",
              "        \n",
              "    </td>\n",
              "</tr><tr class=\"\">\n",
              "    <th>1</th>\n",
              "    <td>\n",
              "        <div class=\"bar\" style=\"width:87%\" data-toggle=\"tooltip\" data-placement=\"right\" data-html=\"true\"\n",
              "             data-delay=500 title=\"Percentage: 46.5%\">\n",
              "            678342\n",
              "        </div>\n",
              "        \n",
              "    </td>\n",
              "</tr>\n",
              "    </table>\n",
              "</div>\n",
              "<div class=\"col-md-12 text-right\">\n",
              "    <a role=\"button\" data-toggle=\"collapse\" data-target=\"#freqtable2700057553707953797, #minifreqtable2700057553707953797\"\n",
              "        aria-expanded=\"true\" aria-controls=\"collapseExample\">\n",
              "        Toggle details\n",
              "    </a>\n",
              "</div>\n",
              "<div class=\"col-md-12 extrapadding collapse\" id=\"freqtable2700057553707953797\">\n",
              "    \n",
              "<table class=\"freq table table-hover\">\n",
              "    <thead>\n",
              "    <tr>\n",
              "        <td class=\"fillremaining\">Value</td>\n",
              "        <td class=\"number\">Count</td>\n",
              "        <td class=\"number\">Frequency (%)</td>\n",
              "        <td style=\"min-width:200px\">&nbsp;</td>\n",
              "    </tr>\n",
              "    </thead>\n",
              "    <tr class=\"\">\n",
              "        <td class=\"fillremaining\">2</td>\n",
              "        <td class=\"number\">780302</td>\n",
              "        <td class=\"number\">53.5%</td>\n",
              "        <td>\n",
              "            <div class=\"bar\" style=\"width:100%\">&nbsp;</div>\n",
              "        </td>\n",
              "</tr><tr class=\"\">\n",
              "        <td class=\"fillremaining\">1</td>\n",
              "        <td class=\"number\">678342</td>\n",
              "        <td class=\"number\">46.5%</td>\n",
              "        <td>\n",
              "            <div class=\"bar\" style=\"width:87%\">&nbsp;</div>\n",
              "        </td>\n",
              "</tr>\n",
              "</table>\n",
              "</div>\n",
              "</div><div class=\"row variablerow\">\n",
              "    <div class=\"col-md-3 namecol\">\n",
              "        <p class=\"h4 pp-anchor\" id=\"pp_var_pickup_datetime\">pickup_datetime<br/>\n",
              "            <small>Categorical</small>\n",
              "        </p>\n",
              "    </div><div class=\"col-md-3\">\n",
              "    <table class=\"stats \">\n",
              "        <tr class=\"alert\">\n",
              "            <th>Distinct count</th>\n",
              "            <td>1380222</td>\n",
              "        </tr>\n",
              "        <tr>\n",
              "            <th>Unique (%)</th>\n",
              "            <td>94.6%</td>\n",
              "        </tr>\n",
              "        <tr class=\"ignore\">\n",
              "            <th>Missing (%)</th>\n",
              "            <td>0.0%</td>\n",
              "        </tr>\n",
              "        <tr class=\"ignore\">\n",
              "            <th>Missing (n)</th>\n",
              "            <td>0</td>\n",
              "        </tr>\n",
              "    </table>\n",
              "</div>\n",
              "<div class=\"col-md-6 collapse in\" id=\"minifreqtable7973775979580445790\">\n",
              "    <table class=\"mini freq\">\n",
              "        <tr class=\"\">\n",
              "    <th>2016-05-07 13:18:07</th>\n",
              "    <td>\n",
              "        <div class=\"bar\" style=\"width:1%\" data-toggle=\"tooltip\" data-placement=\"right\" data-html=\"true\"\n",
              "             data-delay=500 title=\"Percentage: 0.0%\">\n",
              "            &nbsp;\n",
              "        </div>\n",
              "        5\n",
              "    </td>\n",
              "</tr><tr class=\"\">\n",
              "    <th>2016-01-12 18:48:44</th>\n",
              "    <td>\n",
              "        <div class=\"bar\" style=\"width:1%\" data-toggle=\"tooltip\" data-placement=\"right\" data-html=\"true\"\n",
              "             data-delay=500 title=\"Percentage: 0.0%\">\n",
              "            &nbsp;\n",
              "        </div>\n",
              "        5\n",
              "    </td>\n",
              "</tr><tr class=\"\">\n",
              "    <th>2016-06-10 23:17:17</th>\n",
              "    <td>\n",
              "        <div class=\"bar\" style=\"width:1%\" data-toggle=\"tooltip\" data-placement=\"right\" data-html=\"true\"\n",
              "             data-delay=500 title=\"Percentage: 0.0%\">\n",
              "            &nbsp;\n",
              "        </div>\n",
              "        5\n",
              "    </td>\n",
              "</tr><tr class=\"other\">\n",
              "    <th>Other values (1380219)</th>\n",
              "    <td>\n",
              "        <div class=\"bar\" style=\"width:100%\" data-toggle=\"tooltip\" data-placement=\"right\" data-html=\"true\"\n",
              "             data-delay=500 title=\"Percentage: 100.0%\">\n",
              "            1458629\n",
              "        </div>\n",
              "        \n",
              "    </td>\n",
              "</tr>\n",
              "    </table>\n",
              "</div>\n",
              "<div class=\"col-md-12 text-right\">\n",
              "    <a role=\"button\" data-toggle=\"collapse\" data-target=\"#freqtable7973775979580445790, #minifreqtable7973775979580445790\"\n",
              "       aria-expanded=\"true\" aria-controls=\"collapseExample\">\n",
              "        Toggle details\n",
              "    </a>\n",
              "</div>\n",
              "<div class=\"col-md-12 extrapadding collapse\" id=\"freqtable7973775979580445790\">\n",
              "    \n",
              "<table class=\"freq table table-hover\">\n",
              "    <thead>\n",
              "    <tr>\n",
              "        <td class=\"fillremaining\">Value</td>\n",
              "        <td class=\"number\">Count</td>\n",
              "        <td class=\"number\">Frequency (%)</td>\n",
              "        <td style=\"min-width:200px\">&nbsp;</td>\n",
              "    </tr>\n",
              "    </thead>\n",
              "    <tr class=\"\">\n",
              "        <td class=\"fillremaining\">2016-05-07 13:18:07</td>\n",
              "        <td class=\"number\">5</td>\n",
              "        <td class=\"number\">0.0%</td>\n",
              "        <td>\n",
              "            <div class=\"bar\" style=\"width:1%\">&nbsp;</div>\n",
              "        </td>\n",
              "</tr><tr class=\"\">\n",
              "        <td class=\"fillremaining\">2016-01-12 18:48:44</td>\n",
              "        <td class=\"number\">5</td>\n",
              "        <td class=\"number\">0.0%</td>\n",
              "        <td>\n",
              "            <div class=\"bar\" style=\"width:1%\">&nbsp;</div>\n",
              "        </td>\n",
              "</tr><tr class=\"\">\n",
              "        <td class=\"fillremaining\">2016-06-10 23:17:17</td>\n",
              "        <td class=\"number\">5</td>\n",
              "        <td class=\"number\">0.0%</td>\n",
              "        <td>\n",
              "            <div class=\"bar\" style=\"width:1%\">&nbsp;</div>\n",
              "        </td>\n",
              "</tr><tr class=\"\">\n",
              "        <td class=\"fillremaining\">2016-04-05 18:55:21</td>\n",
              "        <td class=\"number\">5</td>\n",
              "        <td class=\"number\">0.0%</td>\n",
              "        <td>\n",
              "            <div class=\"bar\" style=\"width:1%\">&nbsp;</div>\n",
              "        </td>\n",
              "</tr><tr class=\"\">\n",
              "        <td class=\"fillremaining\">2016-02-09 21:03:38</td>\n",
              "        <td class=\"number\">5</td>\n",
              "        <td class=\"number\">0.0%</td>\n",
              "        <td>\n",
              "            <div class=\"bar\" style=\"width:1%\">&nbsp;</div>\n",
              "        </td>\n",
              "</tr><tr class=\"\">\n",
              "        <td class=\"fillremaining\">2016-03-04 08:07:34</td>\n",
              "        <td class=\"number\">5</td>\n",
              "        <td class=\"number\">0.0%</td>\n",
              "        <td>\n",
              "            <div class=\"bar\" style=\"width:1%\">&nbsp;</div>\n",
              "        </td>\n",
              "</tr><tr class=\"\">\n",
              "        <td class=\"fillremaining\">2016-05-12 07:54:24</td>\n",
              "        <td class=\"number\">4</td>\n",
              "        <td class=\"number\">0.0%</td>\n",
              "        <td>\n",
              "            <div class=\"bar\" style=\"width:1%\">&nbsp;</div>\n",
              "        </td>\n",
              "</tr><tr class=\"\">\n",
              "        <td class=\"fillremaining\">2016-03-19 22:28:48</td>\n",
              "        <td class=\"number\">4</td>\n",
              "        <td class=\"number\">0.0%</td>\n",
              "        <td>\n",
              "            <div class=\"bar\" style=\"width:1%\">&nbsp;</div>\n",
              "        </td>\n",
              "</tr><tr class=\"\">\n",
              "        <td class=\"fillremaining\">2016-01-19 10:09:59</td>\n",
              "        <td class=\"number\">4</td>\n",
              "        <td class=\"number\">0.0%</td>\n",
              "        <td>\n",
              "            <div class=\"bar\" style=\"width:1%\">&nbsp;</div>\n",
              "        </td>\n",
              "</tr><tr class=\"\">\n",
              "        <td class=\"fillremaining\">2016-04-08 12:27:08</td>\n",
              "        <td class=\"number\">4</td>\n",
              "        <td class=\"number\">0.0%</td>\n",
              "        <td>\n",
              "            <div class=\"bar\" style=\"width:1%\">&nbsp;</div>\n",
              "        </td>\n",
              "</tr><tr class=\"other\">\n",
              "        <td class=\"fillremaining\">Other values (1380212)</td>\n",
              "        <td class=\"number\">1458598</td>\n",
              "        <td class=\"number\">100.0%</td>\n",
              "        <td>\n",
              "            <div class=\"bar\" style=\"width:100%\">&nbsp;</div>\n",
              "        </td>\n",
              "</tr>\n",
              "</table>\n",
              "</div>\n",
              "</div><div class=\"row variablerow\">\n",
              "    <div class=\"col-md-3 namecol\">\n",
              "        <p class=\"h4 pp-anchor\" id=\"pp_var_dropoff_datetime\">dropoff_datetime<br/>\n",
              "            <small>Categorical</small>\n",
              "        </p>\n",
              "    </div><div class=\"col-md-3\">\n",
              "    <table class=\"stats \">\n",
              "        <tr class=\"alert\">\n",
              "            <th>Distinct count</th>\n",
              "            <td>1380377</td>\n",
              "        </tr>\n",
              "        <tr>\n",
              "            <th>Unique (%)</th>\n",
              "            <td>94.6%</td>\n",
              "        </tr>\n",
              "        <tr class=\"ignore\">\n",
              "            <th>Missing (%)</th>\n",
              "            <td>0.0%</td>\n",
              "        </tr>\n",
              "        <tr class=\"ignore\">\n",
              "            <th>Missing (n)</th>\n",
              "            <td>0</td>\n",
              "        </tr>\n",
              "    </table>\n",
              "</div>\n",
              "<div class=\"col-md-6 collapse in\" id=\"minifreqtable1641359008023400124\">\n",
              "    <table class=\"mini freq\">\n",
              "        <tr class=\"\">\n",
              "    <th>2016-05-16 19:40:28</th>\n",
              "    <td>\n",
              "        <div class=\"bar\" style=\"width:1%\" data-toggle=\"tooltip\" data-placement=\"right\" data-html=\"true\"\n",
              "             data-delay=500 title=\"Percentage: 0.0%\">\n",
              "            &nbsp;\n",
              "        </div>\n",
              "        5\n",
              "    </td>\n",
              "</tr><tr class=\"\">\n",
              "    <th>2016-02-19 19:25:04</th>\n",
              "    <td>\n",
              "        <div class=\"bar\" style=\"width:1%\" data-toggle=\"tooltip\" data-placement=\"right\" data-html=\"true\"\n",
              "             data-delay=500 title=\"Percentage: 0.0%\">\n",
              "            &nbsp;\n",
              "        </div>\n",
              "        5\n",
              "    </td>\n",
              "</tr><tr class=\"\">\n",
              "    <th>2016-03-30 00:00:00</th>\n",
              "    <td>\n",
              "        <div class=\"bar\" style=\"width:1%\" data-toggle=\"tooltip\" data-placement=\"right\" data-html=\"true\"\n",
              "             data-delay=500 title=\"Percentage: 0.0%\">\n",
              "            &nbsp;\n",
              "        </div>\n",
              "        4\n",
              "    </td>\n",
              "</tr><tr class=\"other\">\n",
              "    <th>Other values (1380374)</th>\n",
              "    <td>\n",
              "        <div class=\"bar\" style=\"width:100%\" data-toggle=\"tooltip\" data-placement=\"right\" data-html=\"true\"\n",
              "             data-delay=500 title=\"Percentage: 100.0%\">\n",
              "            1458630\n",
              "        </div>\n",
              "        \n",
              "    </td>\n",
              "</tr>\n",
              "    </table>\n",
              "</div>\n",
              "<div class=\"col-md-12 text-right\">\n",
              "    <a role=\"button\" data-toggle=\"collapse\" data-target=\"#freqtable1641359008023400124, #minifreqtable1641359008023400124\"\n",
              "       aria-expanded=\"true\" aria-controls=\"collapseExample\">\n",
              "        Toggle details\n",
              "    </a>\n",
              "</div>\n",
              "<div class=\"col-md-12 extrapadding collapse\" id=\"freqtable1641359008023400124\">\n",
              "    \n",
              "<table class=\"freq table table-hover\">\n",
              "    <thead>\n",
              "    <tr>\n",
              "        <td class=\"fillremaining\">Value</td>\n",
              "        <td class=\"number\">Count</td>\n",
              "        <td class=\"number\">Frequency (%)</td>\n",
              "        <td style=\"min-width:200px\">&nbsp;</td>\n",
              "    </tr>\n",
              "    </thead>\n",
              "    <tr class=\"\">\n",
              "        <td class=\"fillremaining\">2016-05-16 19:40:28</td>\n",
              "        <td class=\"number\">5</td>\n",
              "        <td class=\"number\">0.0%</td>\n",
              "        <td>\n",
              "            <div class=\"bar\" style=\"width:1%\">&nbsp;</div>\n",
              "        </td>\n",
              "</tr><tr class=\"\">\n",
              "        <td class=\"fillremaining\">2016-02-19 19:25:04</td>\n",
              "        <td class=\"number\">5</td>\n",
              "        <td class=\"number\">0.0%</td>\n",
              "        <td>\n",
              "            <div class=\"bar\" style=\"width:1%\">&nbsp;</div>\n",
              "        </td>\n",
              "</tr><tr class=\"\">\n",
              "        <td class=\"fillremaining\">2016-03-30 00:00:00</td>\n",
              "        <td class=\"number\">4</td>\n",
              "        <td class=\"number\">0.0%</td>\n",
              "        <td>\n",
              "            <div class=\"bar\" style=\"width:1%\">&nbsp;</div>\n",
              "        </td>\n",
              "</tr><tr class=\"\">\n",
              "        <td class=\"fillremaining\">2016-03-18 08:01:14</td>\n",
              "        <td class=\"number\">4</td>\n",
              "        <td class=\"number\">0.0%</td>\n",
              "        <td>\n",
              "            <div class=\"bar\" style=\"width:1%\">&nbsp;</div>\n",
              "        </td>\n",
              "</tr><tr class=\"\">\n",
              "        <td class=\"fillremaining\">2016-03-30 20:12:53</td>\n",
              "        <td class=\"number\">4</td>\n",
              "        <td class=\"number\">0.0%</td>\n",
              "        <td>\n",
              "            <div class=\"bar\" style=\"width:1%\">&nbsp;</div>\n",
              "        </td>\n",
              "</tr><tr class=\"\">\n",
              "        <td class=\"fillremaining\">2016-01-19 19:54:38</td>\n",
              "        <td class=\"number\">4</td>\n",
              "        <td class=\"number\">0.0%</td>\n",
              "        <td>\n",
              "            <div class=\"bar\" style=\"width:1%\">&nbsp;</div>\n",
              "        </td>\n",
              "</tr><tr class=\"\">\n",
              "        <td class=\"fillremaining\">2016-04-15 21:56:17</td>\n",
              "        <td class=\"number\">4</td>\n",
              "        <td class=\"number\">0.0%</td>\n",
              "        <td>\n",
              "            <div class=\"bar\" style=\"width:1%\">&nbsp;</div>\n",
              "        </td>\n",
              "</tr><tr class=\"\">\n",
              "        <td class=\"fillremaining\">2016-04-03 19:35:05</td>\n",
              "        <td class=\"number\">4</td>\n",
              "        <td class=\"number\">0.0%</td>\n",
              "        <td>\n",
              "            <div class=\"bar\" style=\"width:1%\">&nbsp;</div>\n",
              "        </td>\n",
              "</tr><tr class=\"\">\n",
              "        <td class=\"fillremaining\">2016-05-07 16:27:30</td>\n",
              "        <td class=\"number\">4</td>\n",
              "        <td class=\"number\">0.0%</td>\n",
              "        <td>\n",
              "            <div class=\"bar\" style=\"width:1%\">&nbsp;</div>\n",
              "        </td>\n",
              "</tr><tr class=\"\">\n",
              "        <td class=\"fillremaining\">2016-02-04 18:29:44</td>\n",
              "        <td class=\"number\">4</td>\n",
              "        <td class=\"number\">0.0%</td>\n",
              "        <td>\n",
              "            <div class=\"bar\" style=\"width:1%\">&nbsp;</div>\n",
              "        </td>\n",
              "</tr><tr class=\"other\">\n",
              "        <td class=\"fillremaining\">Other values (1380367)</td>\n",
              "        <td class=\"number\">1458602</td>\n",
              "        <td class=\"number\">100.0%</td>\n",
              "        <td>\n",
              "            <div class=\"bar\" style=\"width:100%\">&nbsp;</div>\n",
              "        </td>\n",
              "</tr>\n",
              "</table>\n",
              "</div>\n",
              "</div><div class=\"row variablerow\">\n",
              "    <div class=\"col-md-3 namecol\">\n",
              "        <p class=\"h4 pp-anchor\" id=\"pp_var_passenger_count\">passenger_count<br/>\n",
              "            <small>Numeric</small>\n",
              "        </p>\n",
              "    </div><div class=\"col-md-6\">\n",
              "    <div class=\"row\">\n",
              "        <div class=\"col-sm-6\">\n",
              "            <table class=\"stats \">\n",
              "                <tr>\n",
              "                    <th>Distinct count</th>\n",
              "                    <td>10</td>\n",
              "                </tr>\n",
              "                <tr>\n",
              "                    <th>Unique (%)</th>\n",
              "                    <td>0.0%</td>\n",
              "                </tr>\n",
              "                <tr class=\"ignore\">\n",
              "                    <th>Missing (%)</th>\n",
              "                    <td>0.0%</td>\n",
              "                </tr>\n",
              "                <tr class=\"ignore\">\n",
              "                    <th>Missing (n)</th>\n",
              "                    <td>0</td>\n",
              "                </tr>\n",
              "                <tr class=\"ignore\">\n",
              "                    <th>Infinite (%)</th>\n",
              "                    <td>0.0%</td>\n",
              "                </tr>\n",
              "                <tr class=\"ignore\">\n",
              "                    <th>Infinite (n)</th>\n",
              "                    <td>0</td>\n",
              "                </tr>\n",
              "            </table>\n",
              "\n",
              "        </div>\n",
              "        <div class=\"col-sm-6\">\n",
              "            <table class=\"stats \">\n",
              "\n",
              "                <tr>\n",
              "                    <th>Mean</th>\n",
              "                    <td>1.6645</td>\n",
              "                </tr>\n",
              "                <tr>\n",
              "                    <th>Minimum</th>\n",
              "                    <td>0</td>\n",
              "                </tr>\n",
              "                <tr>\n",
              "                    <th>Maximum</th>\n",
              "                    <td>9</td>\n",
              "                </tr>\n",
              "                <tr class=\"ignore\">\n",
              "                    <th>Zeros (%)</th>\n",
              "                    <td>0.0%</td>\n",
              "                </tr>\n",
              "            </table>\n",
              "        </div>\n",
              "    </div>\n",
              "</div>\n",
              "<div class=\"col-md-3 collapse in\" id=\"minihistogram-2968637611274530916\">\n",
              "    <img src=\"data:image/png;base64,iVBORw0KGgoAAAANSUhEUgAAAMgAAABLCAYAAAA1fMjoAAAABHNCSVQICAgIfAhkiAAAAAlwSFlzAAAPYQAAD2EBqD%2BnaQAAADh0RVh0U29mdHdhcmUAbWF0cGxvdGxpYiB2ZXJzaW9uMy4xLjEsIGh0dHA6Ly9tYXRwbG90bGliLm9yZy8QZhcZAAABH0lEQVR4nO3dwQ2CQBBAUTWWZBH25NmeLMKe1gbMj6AGxPfuJHPYz4S9sB9jjB3w1GHpAWDNjksP8Amny23yM/fr%2BQuTsDU2CASBQBAIBIFAEAgEgUAQCASBQBAIBIFAEAgEgUAQCASBQBAIBIFAEAgEgUAQCASBQBAIBIFAEAgEgUAQCASBQBAIBIFAEAgEgUAQCASBQBAIBIFAEAgEgUDYxE885/DjT15hg0AQCASBQBAIBIFA%2BNtbrLVyu7YuAplg6uF1cH/ffowxlh7iXXPeuv9MuK/zDQJhExsEvsUGgSAQCAKBIBAIAoEgEAgCgSAQCAKBIBAIAoEgEAgCgSAQCAKBIBAIAoEgEAgCgSAQCAKBIBAIAoEgEAgCgfAA0E4bkO%2BqhzYAAAAASUVORK5CYII%3D\">\n",
              "\n",
              "</div>\n",
              "<div class=\"col-md-12 text-right\">\n",
              "    <a role=\"button\" data-toggle=\"collapse\" data-target=\"#descriptives-2968637611274530916,#minihistogram-2968637611274530916\"\n",
              "       aria-expanded=\"false\" aria-controls=\"collapseExample\">\n",
              "        Toggle details\n",
              "    </a>\n",
              "</div>\n",
              "<div class=\"row collapse col-md-12\" id=\"descriptives-2968637611274530916\">\n",
              "    <ul class=\"nav nav-tabs\" role=\"tablist\">\n",
              "        <li role=\"presentation\" class=\"active\"><a href=\"#quantiles-2968637611274530916\"\n",
              "                                                  aria-controls=\"quantiles-2968637611274530916\" role=\"tab\"\n",
              "                                                  data-toggle=\"tab\">Statistics</a></li>\n",
              "        <li role=\"presentation\"><a href=\"#histogram-2968637611274530916\" aria-controls=\"histogram-2968637611274530916\"\n",
              "                                   role=\"tab\" data-toggle=\"tab\">Histogram</a></li>\n",
              "        <li role=\"presentation\"><a href=\"#common-2968637611274530916\" aria-controls=\"common-2968637611274530916\"\n",
              "                                   role=\"tab\" data-toggle=\"tab\">Common Values</a></li>\n",
              "        <li role=\"presentation\"><a href=\"#extreme-2968637611274530916\" aria-controls=\"extreme-2968637611274530916\"\n",
              "                                   role=\"tab\" data-toggle=\"tab\">Extreme Values</a></li>\n",
              "\n",
              "    </ul>\n",
              "\n",
              "    <div class=\"tab-content\">\n",
              "        <div role=\"tabpanel\" class=\"tab-pane active row\" id=\"quantiles-2968637611274530916\">\n",
              "            <div class=\"col-md-4 col-md-offset-1\">\n",
              "                <p class=\"h4\">Quantile statistics</p>\n",
              "                <table class=\"stats indent\">\n",
              "                    <tr>\n",
              "                        <th>Minimum</th>\n",
              "                        <td>0</td>\n",
              "                    </tr>\n",
              "                    <tr>\n",
              "                        <th>5-th percentile</th>\n",
              "                        <td>1</td>\n",
              "                    </tr>\n",
              "                    <tr>\n",
              "                        <th>Q1</th>\n",
              "                        <td>1</td>\n",
              "                    </tr>\n",
              "                    <tr>\n",
              "                        <th>Median</th>\n",
              "                        <td>1</td>\n",
              "                    </tr>\n",
              "                    <tr>\n",
              "                        <th>Q3</th>\n",
              "                        <td>2</td>\n",
              "                    </tr>\n",
              "                    <tr>\n",
              "                        <th>95-th percentile</th>\n",
              "                        <td>5</td>\n",
              "                    </tr>\n",
              "                    <tr>\n",
              "                        <th>Maximum</th>\n",
              "                        <td>9</td>\n",
              "                    </tr>\n",
              "                    <tr>\n",
              "                        <th>Range</th>\n",
              "                        <td>9</td>\n",
              "                    </tr>\n",
              "                    <tr>\n",
              "                        <th>Interquartile range</th>\n",
              "                        <td>1</td>\n",
              "                    </tr>\n",
              "                </table>\n",
              "            </div>\n",
              "            <div class=\"col-md-4 col-md-offset-2\">\n",
              "                <p class=\"h4\">Descriptive statistics</p>\n",
              "                <table class=\"stats indent\">\n",
              "                    <tr>\n",
              "                        <th>Standard deviation</th>\n",
              "                        <td>1.3142</td>\n",
              "                    </tr>\n",
              "                    <tr>\n",
              "                        <th>Coef of variation</th>\n",
              "                        <td>0.78956</td>\n",
              "                    </tr>\n",
              "                    <tr>\n",
              "                        <th>Kurtosis</th>\n",
              "                        <td>3.4318</td>\n",
              "                    </tr>\n",
              "                    <tr>\n",
              "                        <th>Mean</th>\n",
              "                        <td>1.6645</td>\n",
              "                    </tr>\n",
              "                    <tr>\n",
              "                        <th>MAD</th>\n",
              "                        <td>0.94186</td>\n",
              "                    </tr>\n",
              "                    <tr class=\"\">\n",
              "                        <th>Skewness</th>\n",
              "                        <td>2.1281</td>\n",
              "                    </tr>\n",
              "                    <tr>\n",
              "                        <th>Sum</th>\n",
              "                        <td>2427956</td>\n",
              "                    </tr>\n",
              "                    <tr>\n",
              "                        <th>Variance</th>\n",
              "                        <td>1.7272</td>\n",
              "                    </tr>\n",
              "                    <tr>\n",
              "                        <th>Memory size</th>\n",
              "                        <td>11.1 MiB</td>\n",
              "                    </tr>\n",
              "                </table>\n",
              "            </div>\n",
              "        </div>\n",
              "        <div role=\"tabpanel\" class=\"tab-pane col-md-8 col-md-offset-2\" id=\"histogram-2968637611274530916\">\n",
              "            <img src=\"data:image/png;base64,iVBORw0KGgoAAAANSUhEUgAAAlgAAAGQCAYAAAByNR6YAAAABHNCSVQICAgIfAhkiAAAAAlwSFlzAAAPYQAAD2EBqD%2BnaQAAADh0RVh0U29mdHdhcmUAbWF0cGxvdGxpYiB2ZXJzaW9uMy4xLjEsIGh0dHA6Ly9tYXRwbG90bGliLm9yZy8QZhcZAAAgAElEQVR4nO3de3RU5b3/8U8uJEiSyQVM8KRo0CDNrSgKaQMaAiqIAooRiHo0LYhIJAWhi2sEW2tUQKzAArE1wtGznIIuucnlRC7WktMe6%2BVMAmiNeJQsIBFmyIUESDK/P/wxdWQgQZ9kM%2BT9WsuVxfPsvZ%2Bv853AJ3vv7Alwu91uAQAAwJhAqwsAAAC41BCwAAAADCNgAQAAGEbAAgAAMIyABQAAYBgBCwAAwDACFgAAgGEELAAAAMMIWAAAAIYRsAAAAAwjYAEAABhGwAIAADCMgAUAAGAYAQsAAMAwAhYAAIBhBCwAAADDCFgAAACGEbAAAAAMI2ABAAAYRsACAAAwjIAFAABgGAELAADAMAIWAACAYQQsAAAAwwhYAAAAhhGwAAAADCNgAQAAGEbAAgAAMIyABQAAYBgBCwAAwDACFgAAgGEELAAAAMMIWAAAAIYRsAAAAAwjYAEAABhGwAIAADCMgAUAAGAYAQsAAMAwAhYAAIBhwVYX0FFUVdUYP2ZgYIBiYsJ07Fidmpvdxo%2BPltED69ED69ED69GDc7v88ghL1uUMlh8LDAxQQECAAgMDrC6lw6IH1qMH1qMH1qMHFx8CFgAAgGEELAAAAMMIWAAAAIYRsAAAAAwjYAEAABhGwAIAADCMgAUAAGAYAQsAAMAwAhYAAIBhBCwAAADDCFgAAACGEbAAAAAMI2ABAAAYFmx1Aeg4bn/hr1aXcEG2TB1gdQkAAD/FGSwAAADDCFgAAACGEbAAAAAMI2ABAAAYRsACAAAwrE0D1l/%2B8hdlZGRo2rRpZ8298847GjFihK6//nqNHj1a77//vmeuublZS5Ys0ZAhQ9SvXz%2BNHz9eX3/9tWfe5XJp6tSpysjI0MCBAzV37lw1NDR45vft26cHHnhAN9xwg2677Ta98sorxtYGAABoSZsFrJdffllPPfWUrrrqqrPm9u3bp5kzZ2rGjBn67//%2Bb%2BXm5uqxxx7T4cOHJUmvv/66Nm7cqFWrVmnnzp1KSEhQXl6e3G63JKmgoED19fXatGmT3nzzTZWXl2vRokWSpIaGBj3yyCP6%2Bc9/rr/85S9asmSJXnrpJW3fvt3I2gAAAC1ps4AVGhqqdevW%2BQxYa9euVWZmpjIzMxUaGqqRI0fq2muv1YYNGyRJdrtdubm5uuaaaxQeHq5p06apvLxcn3zyib755hsVFxdr2rRpiomJUVxcnCZPnqw333xTp0%2Bf1q5du3T69Gk9%2Buij6tKli1JSUnTvvffKbrf/6LUBAABao80eNPrggw%2Bec66srEyZmZleY8nJyXI4HGpoaNDnn3%2Bu5ORkz1x4eLiuuuoqORwO1dTUKCgoSL179/bMp6Sk6MSJE/riiy9UVlam3r17KygoyOvYa9eu/dFrX3fdda36f6%2BsrFRVVZXXWHBwF8XGxrZq/9YKCgr0%2BgqzgoNbfl3pgfXogfXogfXowcXHkie5u1wuRUZGeo1FRkbq888/1/Hjx%2BV2u33OO51ORUVFKTw8XAEBAV5zkuR0OuVyuWSz2bz2jYqKksvlUnNz849au7XsdruWLVvmNZaXl6f8/PxWH%2BNC2GyXtclxO7ro6LBWb0sPrEcPrEcPrEcPLh6WfVROS/c0nW/%2Bh9wP9d1A9mPWbo2xY8dq8ODBXmPBwV3kdNb9qON%2BX1BQoGy2y1RdXa%2Bmpmajx4Za1S96YD16YD16YD16cG4X8sOySZYErOjoaLlcLq8xl8ulmJgYRUVFKTAw0Od8165dFRMTo9raWjU1NXkuA57Z9sz8l19%2Beda%2BZ477Y9ZurdjY2LMuB1ZV1aixsW3e9E1NzW127I7sQl5TemA9emA9emA9enDxsORibWpqqkpLS73GHA6H%2BvTpo9DQUPXq1UtlZWWeuerqan311Vf62c9%2BpqSkJLndbu3fv99rX5vNpp49eyo1NVWffvqpGhsbzzr2j10bAACgNSwJWGPGjNGePXu0a9cunTx5UuvWrdOXX36pkSNHSpJycnK0Zs0alZeXq7a2VosWLVJSUpLS0tIUExOjoUOH6oUXXtCxY8d0%2BPBhLV%2B%2BXNnZ2QoODlZmZqbCw8O1YsUK1dfX65NPPtG6deuUk5Pzo9cGAABojTa7RHgmkJw5k1RcXCzp27NF1157rRYtWqTCwkJVVFQoMTFRL730ki6//HJJ0rhx41RVVaV///d/V11dndLT071uGv/tb3%2Br%2BfPna8iQIerUqZPuvPNOz8NMQ0JCtHLlSs2fP1%2BrVq1St27dNG3aNA0aNEiSfvTaAAAALQlw8wTNdlFVVWP8mMHBgYqODpPTWecX19xvf%2BGvVpdwQbZMHdDiNv7Wg0sRPbAePbAePTi3yy%2BPsGRdHpgBAABgGAELAADAMAIWAACAYQQsAAAAwwhYAAAAhhGwAAAADCNgAQAAGEbAAgAAMIyABQAAYBgBCwAAwDACFgAAgGEELAAAAMMIWAAAAIYRsAAAAAwjYAEAABhGwAIAADCMgAUAAGAYAQsAAMAwAhYAAIBhBCwAAADDCFgAAACGEbAAAAAMI2ABAAAYRsACAAAwjIAFAABgGAELAADAMAIWAACAYQQsAAAAwwhYAAAAhhGwAAAADCNgAQAAGEbAAgAAMIyABQAAYBgBCwAAwDACFgAAgGEELAAAAMMIWAAAAIYRsAAAAAwjYAEAABhGwAIAADCMgAUAAGAYAQsAAMAwAhYAAIBhBCwAAADDCFgAAACGEbAAAAAMI2ABAAAYRsACAAAwzNKAtXfvXj344IO68cYbNWDAAM2YMUPHjh2TJJWUlCg7O1t9%2B/bVHXfcoQ0bNnjtu2bNGg0dOlR9%2B/ZVTk6OSktLPXMnT57UE088oZtvvlnp6enKz8%2BX0%2Bn0zFdUVGjixIlKT09XVlaWFi5cqObmZs98S2sDAACcj2UBq7GxURMnTtR1112nPXv2aNOmTTp27JgWLFigyspKTZ48WePGjVNJSYnmzp2rgoICORwOSdKOHTu0dOlSPffcc9qzZ4%2BysrI0adIknThxQpK0ZMkSlZWVyW63a9u2bXK73Zo9e7Zn7SlTpiguLk7FxcUqKipScXGxVq9eLUktrg0AANASywJWVVWVqqqqNGrUKIWEhCg6Olq33nqr9u3bp40bNyohIUHZ2dkKDQ1VRkaGBg8erLVr10qS7Ha7Ro8erT59%2Bqhz586aMGGCJGnnzp1qbGzUunXrNHnyZF1xxRWKiorS1KlTtWvXLh05ckQOh0P79%2B/XjBkzFBERoYSEBOXm5sput0tSi2sDAAC0JNiqhePi4pSUlCS73a5f//rXamho0Pbt2zVo0CCVlZUpOTnZa/vk5GRt2bJFklRWVqbhw4d75gIDA5WUlCSHw6GkpCTV1NQoJSXFM3/NNdeoc%2BfOKisrU2VlpeLj4xUZGemZT0lJ0YEDB1RbW9vi2q1RWVmpqqoqr7Hg4C6KjY1t9TFaIygo0OsrzAoObvl1pQfWowfWowfWowcXH8sCVmBgoJYuXarc3FzP5bn%2B/ftr%2BvTpmjx5suLi4ry2j4qK8txH5XK5vAKSJEVGRsrpdMrlckmSbDab17zNZvPMf3/uzLHOzJ9v7daw2%2B1atmyZ11heXp7y8/NbfYwLYbNd1ibH7eiio8NavS09sB49sB49sB49uHhYFrBOnTqlSZMmadiwYZ77p5588knNmDGjVfu73e4fPN/Svj/W2LFjNXjwYK%2Bx4OAucjrrjK4TFBQom%2B0yVVfXq6mpueUdcEFa0y96YD16YD16YD16cG4X8sOySZYFrJKSEh08eFCPP/64goKCFBERofz8fI0aNUo33XST50zUGU6nUzExMZKk6Ojos%2BZdLpd69erl2cblciks7F8v6vHjx9W1a1c1NTX53DcgIEAxMTE%2Bj/3dtVsjNjb2rMuBVVU1amxsmzd9U1Nzmx27I7uQ15QeWI8eWI8eWI8eXDwsu1jb1NSk5uZmr7NJp06dkiRlZGR4PXZBkkpLS9WnTx9JUmpqqsrKyryOtXfvXvXp00c9evRQZGSk1/xnn32mU6dOKTU1VampqTp06JDncRCS5HA4lJiYqLCwMKWlpZ13bQAAgJZYFrCuv/56denSRUuXLlV9fb2cTqdWrFihfv36adSoUaqoqNDatWt18uRJ7d69W7t379aYMWMkSTk5OXr77bf18ccfq76%2BXitWrFBISIgGDRqkoKAgjRkzRitXrtShQ4fkdDr1/PPP69Zbb1W3bt2UnJystLQ0LV68WLW1tSovL1dRUZFycnIkSSNGjDjv2gAAAC0JcLf1DUnnUVpaqmeffVb79%2B9XSEiI%2Bvfvr1mzZikuLk7/8z//o6eeekrl5eWKj4/X9OnTddttt3n2/c///E%2BtWrVKR48eVVpamhYsWKBrr71W0rdnwgoLC7V582Y1NjYqKytLCxYsUEREhCTp8OHDKigo0N///neFh4dr3LhxeuyxxxQQECBJLa79Q1RV1fyo/X0JDg5UdHSYnM46vzglfPsLf7W6hAuyZeqAFrfxtx5ciuiB9eiB9ejBuV1%2BeYQl61oasDoSAhYBC22DHliPHliPHpybVQGLB2YAAAAYRsACAAAwjIAFAABgGAELAADAMAIWAACAYQQsAAAAwwhYAAAAhhGwAAAADCNgAQAAGEbAAgAAMIyABQAAYBgBCwAAwDACFgAAgGEELAAAAMMIWAAAAIYRsAAAAAwjYAEAABhGwAIAADCMgAUAAGAYAQsAAMAwAhYAAIBhBCwAAADDCFgAAACGEbAAAAAMI2ABAAAYRsACAAAwjIAFAABgGAELAADAMAIWAACAYQQsAAAAwwhYAAAAhhGwAAAADCNgAQAAGEbAAgAAMIyABQAAYBgBCwAAwDCfAWvw4MFatmyZDh061N71AAAA%2BD2fAeuee%2B7RO%2B%2B8o1tuuUUTJkzQ9u3b1djY2N61AQAA%2BCWfASsvL0/vvPOO/vznP6tXr156%2BumnlZmZqYULF%2BrAgQPtXSMAAIBfOe89WCkpKZo5c6Z27typOXPm6M9//rOGDx%2Bu8ePH63//93/bq0YAAAC/ct6Adfr0ab3zzjt6%2BOGHNXPmTMXFxWn27NlKSkpSbm6uNm7c2F51AgAA%2BI1gX4Pl5eVat26d3n77bdXV1Wno0KFavXq1brjhBs82/fr104IFCzRixIh2KxYAAMAf%2BAxYd9xxh3r27KlHHnlEd911l6Kios7aJjMzU8eOHWvzAgEAAPyNz4C1Zs0a9e/fv8WdP/nkE%2BMFAQAA%2BDuf92D17t1bkyZNUnFxsWfs1Vdf1cMPPyyXy9VuxQEAAPgjnwGrsLBQNTU1SkxM9IwNGjRIzc3NeuaZZ9qtOAAAAH/k8xLh%2B%2B%2B/r40bNyo6OtozlpCQoEWLFunOO%2B9st%2BIAAAD8kc8zWA0NDQoNDT1748BA1dfXt3lRAAAA/sxnwOrXr5%2BeeeYZHT9%2B3DN25MgRPfnkk16PajBhxYoVGjhwoK677jrl5ubq4MGDkqSSkhJlZ2erb9%2B%2BuuOOO7Rhwwav/dasWaOhQ4eqb9%2B%2BysnJUWlpqWfu5MmTeuKJJ3TzzTcrPT1d%2Bfn5cjqdnvmKigpNnDhR6enpysrK0sKFC9Xc3OyZb2ltAACA8/EZsObMmaOSkhL94he/UP/%2B/XXjjTdq0KBBKi0t1VNPPWVs8ddff10bNmzQmjVr9P777ysxMVGvvvqqKisrNXnyZI0bN04lJSWaO3euCgoK5HA4JEk7duzQ0qVL9dxzz2nPnj3KysrSpEmTdOLECUnSkiVLVFZWJrvdrm3btsntdmv27NmedadMmaK4uDgVFxerqKhIxcXFWr16tSS1uDYAAEBLfN6D1aNHD23evFnvvfeevvrqKwUGBqpnz54aOHCggoKCjC3%2ByiuvaObMmbr66qslSfPmzZMk/elPf1JCQoKys7MlSRkZGRo8eLDWrl2rtLQ02e12jR49Wn369JEkTZgwQWvWrNHOnTs1dOhQrVu3Ts8%2B%2B6yuuOIKSdLUqVN1xx136MiRI6qsrNT%2B/ftVVFSkiIgIRUREKDc3V6tXr9Yvf/lLbdy48bxrAwAAtMRnwJKkkJAQ3XLLLW228JEjR3Tw4EEdP35cw4cP19GjR5Wenq4FCxaorKxMycnJXtsnJydry5YtkqSysjINHz7cMxcYGKikpCQ5HA4lJSWppqZGKSkpnvlrrrlGnTt3VllZmSorKxUfH6/IyEjPfEpKig4cOKDa2toW126NyspKVVVVeY0FB3dRbGxsq4/RGkFBgV5fYVZwcMuvKz2wHj2wHj2wHj24%2BPgMWF9//bUWL16sf/7zn2poaDhr/t133/3RCx8%2BfFiStHXrVhUVFcntdis/P1/z5s1TQ0OD4uLivLaPiory3Eflcrm8ApIkRUZGyul0ep7TZbPZvOZtNptn/vtzZ451Zv58a7eG3W7XsmXLvMby8vKUn5/f6mNcCJvtsjY5bkcXHR3W6m3pgfXogfXogfXowcXDZ8CaM2eOKisrNXDgQHXp0qVNFna73ZK%2Bvbx3JtBMmTJFDz/8sDIyMlq9/w%2BZb2nfH2vs2LEaPHiw11hwcBc5nXVG1wkKCpTNdpmqq%2BvV1NTc8g64IK3pFz2wHj2wHj2wHj04twv5YdkknwGrtLRU7777rmJiYtps4W7duknyPtMUHx8vt9ut06dPn/XEeKfT6aknOjr6rHmXy6VevXp5tnG5XAoL%2B9eLevz4cXXt2lVNTU0%2B9w0ICFBMTIzPY3937daIjY0963JgVVWNGhvb5k3f1NTcZsfuyC7kNaUH1qMH1qMH1qMHFw%2BfF2u7du3aZmeuzujevbvCw8O1b98%2Bz1hFRYU6deqkzMxMr8cuSN%2BGvjM3taempqqsrMwz19TUpL1796pPnz7q0aOHIiMjveY/%2B%2BwznTp1SqmpqUpNTdWhQ4e8Pqja4XAoMTFRYWFhSktLO%2B/aAAAALfEZsB555BEtW7asTS%2BlBQcHKzs7WytXrtT//d//6ejRo1q%2BfLlGjBihu%2B%2B%2BWxUVFVq7dq1Onjyp3bt3a/fu3RozZowkKScnR2%2B//bY%2B/vhj1dfXa8WKFQoJCdGgQYMUFBSkMWPGaOXKlTp06JCcTqeef/553XrrrerWrZuSk5OVlpamxYsXq7a2VuXl5SoqKlJOTo4kacSIEeddGwAAoCU%2BLxG%2B9957%2BvDDD/XWW2/pJz/5iQIDvXPYG2%2B8YWTx6dOn69SpU7r33nt1%2BvRpDR06VPPmzVNYWJheeuklPfXUU3ryyScVHx%2BvhQsX6qc//akk6eabb9bjjz%2BuqVOn6ujRo0pLS9OqVavUuXNnSVJ%2Bfr7q6uo0atQoNTY2KisrSwsWLPCs%2B%2BKLL6qgoEADBgxQeHi4xo0bp/vuu0/St2fvzrc2AABASwLcPk5TffehnL4UFha2WUGXqqqqGuPHDA4OVHR0mJzOOr%2B45n77C3%2B1uoQLsmXqgBa38bceXIrogfXogfXowbldfnmEJev6PINFgAIAAPjhzvlEsi%2B%2B%2BEJLly71Opv10UcftUtRAAAA/sxnwCopKdHIkSO1fft2bdq0SdK3Dx998MEHjTxkFAAA4FLmM2AtWbJEv/nNb7Rx40YFBARI%2BvbzCZ955hktX768XQsEAADwNz4D1meffeZ5bMGZgCVJw4YNU3l5eftUBgAA4Kd8BqyIiAifn0FYWVmpkJCQNi8KAADAn/kMWH379tXTTz%2Bt2tpaz9iBAwc0c%2BZM/eIXv2i34gAAAPyRz8c0zJ49Ww899JDS09PV1NSkvn37qr6%2BXr169dIzzzzT3jUCAAD4FZ8Bq3v37tq0aZN2796tAwcOqHPnzurZs6cGDBjgdU8WAAAAzuYzYElSp06ddMstt7RnLQAAAJcEnwFr8ODB5z1TxbOwAAAAzs1nwBo%2BfLhXwGpqatKBAwfkcDj00EMPtVtxAAAA/shnwJoxY4bPjbdt26a//e1vbVoQAACAvzvnZxH6csstt2jz5s1tVQsAAMAl4YIC1t69e%2BV2u9uqFgAAgEuCz0uE48aNO2usvr5e5eXluu2229q8KAAAAH/mM2AlJCSc9VuEoaGhys7O1r333tsuhQEAAPgrnwGLp7UDAAD8cD4D1ttvv93qA9x1113GigEAALgU%2BAxYc%2BfOVXNz81k3tAcEBHiNBQQEELAAAAC%2Bx2fA%2BuMf/6hXXnlFkyZNUu/eveV2u/Xpp5/q5Zdf1gMPPKD09PT2rhMAAMBvnPMerFWrVikuLs4zduONN6pHjx4aP368Nm3a1G4FAgAA%2BBufz8H68ssvFRkZeda4zWZTRUVFmxcFAADgz3wGrPj4eD3zzDNyOp2eserqai1evFhXXnlluxUHAADgj3xeIpwzZ46mT58uu92usLAwBQYGqra2Vp07d9by5cvbu0YAAAC/4jNgDRw4ULt27dLu3bt1%2BPBhud1uxcXF6aabblJERER71wgAAOBXfAYsSbrssss0ZMgQHT58WD169GjPmgAAAPyaz3uwGhoaNHPmTF1//fW6/fbbJX17D9aECRNUXV3drgUCAAD4G58Ba%2BHChdq3b58WLVqkwMB/bdLU1KRFixa1W3EAAAD%2ByGfA2rZtm1588UUNGzbM86HPNptNhYWF2r59e7sWCAAA4G98Bqy6ujolJCScNR4TE6MTJ060dU0AAAB%2BzWfAuvLKK/W3v/1Nkrw%2Be3Dr1q36t3/7t/apDAAAwE/5/C3C%2B%2B67T1OmTNE999yj5uZmFRUVqbS0VNu2bdPcuXPbu0YAAAC/4jNgjR07VsHBwXrttdcUFBSklStXqmfPnlq0aJGGDRvW3jUCAAD4FZ8B69ixY7rnnnt0zz33tHc9AAAAfs/nPVhDhgzxuvcKAAAAreczYKWnp2vLli3tXQsAAMAlweclwiuuuEK///3vtWrVKl155ZXq1KmT1/zixYvbpTgAAAB/5DNgff7557r66qslSU6ns10LAgAA8HdeAWvatGlasmSJ/uM//sMztnz5cuXl5bV7YQAAAP7K6x6sHTt2nLXBqlWr2q0YAACAS4FXwPL1m4P8NiEAAMCF8QpYZz7YuaUxAAAAnJvPxzQAAADghyNgAQAAGOb1W4SnT5/W9OnT1dIYz8ECAAA4N6%2BAdcMNN6iyslItjQEAAODcvALWd59/BQAAgB/morgH6%2Bmnn1bv3r09fy4pKVF2drb69u2rO%2B64Qxs2bPDafs2aNRo6dKj69u2rnJwclZaWeuZOnjypJ554QjfffLPS09OVn5/v9TT6iooKTZw4Uenp6crKytLChQvV3Nzc6rUBAABaYnnA2rdvn9avX%2B/5c2VlpSZPnqxx48appKREc%2BfOVUFBgRwOh6RvH4a6dOlSPffcc9qzZ4%2BysrI0adIknThxQpK0ZMkSlZWVyW63a9u2bXK73Zo9e7bn%2BFOmTFFcXJyKi4tVVFSk4uJirV69ulVrAwAAtIalAau5uVnz589Xbm6uZ2zjxo1KSEhQdna2QkNDlZGRocGDB2vt2rWSJLvdrtGjR6tPnz7q3LmzJkyYIEnauXOnGhsbtW7dOk2ePFlXXHGFoqKiNHXqVO3atUtHjhyRw%2BHQ/v37NWPGDEVERCghIUG5ubmy2%2B2tWhsAAKA1fH7Yc3t54403FBoaqhEjRuiFF16QJJWVlSk5Odlru%2BTkZG3ZssUzP3z4cM9cYGCgkpKS5HA4lJSUpJqaGqWkpHjmr7nmGnXu3FllZWWqrKxUfHy8IiMjPfMpKSk6cOCAamtrW1y7tSorK1VVVeU1FhzcRbGxsRd0nJYEBQV6fYVZwcEtv670wHr0wHr0wHr04OJjWcD65ptvtHTp0rNurHe5XIqLi/Mai4qK8txH5XK5vAKSJEVGRsrpdMrlckmSbDab17zNZvPMf3/uzLHOzJ9v7day2%2B1atmyZ11heXp7y8/Mv6DitZbNd1ibH7eiio8NavS09sB49sB49sB49uHhYFrAKCws1evRoJSYm6uDBgxe0b0ufj3i%2B%2Bfb4bMWxY8dq8ODBXmPBwV3kdNYZXScoKFA222Wqrq5XU1NzyzvggrSmX/TAevTAevTAevTg3C7kh2WTLAlYJSUl%2Buijj7Rp06az5qKjoz1nos5wOp2KiYk557zL5VKvXr0827hcLoWF/esFPX78uLp27aqmpiaf%2BwYEBCgmJqbFtVsrNjb2rMuBVVU1amxsmzd9U1Nzmx27I7uQ15QeWI8eWI8eWI8eXDwsuVi7YcMGHT16VFlZWUpPT9fo0aMlSenp6br22mu9HrsgSaWlperTp48kKTU1VWVlZZ65pqYm7d27V3369FGPHj0UGRnpNf/ZZ5/p1KlTSk1NVWpqqg4dOqRjx4555h0OhxITExUWFqa0tLTzrg0AANAalgSsWbNmadu2bVq/fr3Wr1%2BvVatWSZLWr1%2BvESNGqKKiQmvXrtXJkye1e/du7d69W2PGjJEk5eTk6O2339bHH3%2Bs%2Bvp6rVixQiEhIRo0aJCCgoI0ZswYrVy5UocOHZLT6dTzzz%2BvW2%2B9Vd26dVNycrLS0tK0ePFi1dbWqry8XEVFRcrJyZGkFtcGAABoDUsuEUZGRnrdqN7Y2ChJ6t69uyTppZde0lNPPaUnn3xS8fHxWrhwoX76059Kkm6%2B%2BWY9/vjjmjp1qo4ePaq0tDStWrVKnTt3liTl5%2Berrq5Oo0aNUmNjo7KysrRgwQLPWi%2B%2B%2BKIKCgo0YMAAhYeHa9y4cbrvvvskSV27dj3v2gAAAK0R4G6Pu76hqqoa48cMDg5UdHSYnM46v7jmfvsLf7W6hAuyZeqAFrfxtx5ciuiB9eiB9ejBuV1%2BeYQl6/LADAAAAMMIWAAAAIYRsAAAAAwjYAEAABhGwAIAADCMgAUAAGAYAQsAAMAwAhYAAIBhBCwAAADDCFgAAACGEbAAAAAMI2ABAAAYRsACAAAwjIAFAABgGAELAADAMAIWAACAYQQsAAAAwwhYAAAAhhGwAAAADCNgAQAAGJi23NUAAA5nSURBVEbAAgAAMIyABQAAYBgBCwAAwDACFgAAgGEELAAAAMMIWAAAAIYRsAAAAAwjYAEAABhGwAIAADCMgAUAAGAYAQsAAMAwAhYAAIBhBCwAAADDCFgAAACGEbAAAAAMI2ABAAAYRsACAAAwjIAFAABgGAELAADAMAIWAACAYQQsAAAAwwhYAAAAhhGwAAAADCNgAQAAGEbAAgAAMIyABQAAYBgBCwAAwDACFgAAgGGWBqyKigrl5eUpPT1dGRkZmjVrlqqrqyVJ%2B/bt0wMPPKAbbrhBt912m1555RWvfd955x2NGDFC119/vUaPHq3333/fM9fc3KwlS5ZoyJAh6tevn8aPH6%2Bvv/7aM%2B9yuTR16lRlZGRo4MCBmjt3rhoaGjzzLa0NAABwPsFWLj5p0iSlpqZqx44dqqmpUV5enp599lkVFBTokUce0ZgxY7Rq1SodOHBAv/rVr/STn/xEt912m/bt26eZM2dq2bJl%2BvnPf65t27bpscce09atW9W9e3e9/vrr2rhxo15%2B%2BWXFxcVpyZIlysvL0/r16xUQEKCCggKdOnVKmzZt0unTp/XrX/9aixYt0rx589TQ0HDetdFx3P7CX60u4YJsmTrA6hIAAP%2BfZWewqqurlZqaqunTpyssLEzdu3fX3XffrQ8%2B%2BEC7du3S6dOn9eijj6pLly5KSUnRvffeK7vdLklau3atMjMzlZmZqdDQUI0cOVLXXnutNmzYIEmy2%2B3Kzc3VNddco/DwcE2bNk3l5eX65JNP9M0336i4uFjTpk1TTEyM4uLiNHnyZL355ps6ffp0i2sDAAC0xLIzWDabTYWFhV5jhw4dUmxsrMrKytS7d28FBQV55pKTk7V27VpJUllZmTIzM732TU5OlsPhUENDgz7//HMlJyd75sLDw3XVVVfJ4XCopqZGQUFB6t27t2c%2BJSVFJ06c0BdffNHi2q1RWVmpqqoqr7Hg4C6KjY1t9TFaIygo0OsrOrbg4I75PuD7wHr0wHr04OJj6SXC73I4HHrttde0YsUKbdmyRTabzWs%2BKipKLpdLzc3NcrlcioyM9JqPjIzU559/ruPHj8vtdvucdzqdioqKUnh4uAICArzmJMnpdMrlcp137cDAlt%2B8drtdy5Yt8xrLy8tTfn5%2Byy/ED2CzXdYmx4V/iY4Os7oES/F9YD16YD16cPG4KALWP/7xDz366KOaPn26MjIytGXLFp/bfTcUud3u8x7zfPMt7dvS2i0ZO3asBg8e7DUWHNxFTmfdBa97PkFBgbLZLlN1db2ampqNHhv%2Bx/T7y1/wfWA9emA9enBuVv3waXnA2rFjh37zm9%2BooKBAd911lyQpJiZGX375pdd2LpdLUVFRCgwMVHR0tFwu11nzMTExnm18zXft2lUxMTGqra1VU1OT5zLgmW3PzJ9v7daIjY0963JgVVWNGhvb5k3f1NTcZseG/%2Bjo7wG%2BD6xHD6xHDy4ell6s/fDDDzVz5kz94Q9/8IQrSUpNTdWnn36qxsZGz5jD4VCfPn0886WlpV7HOjMfGhqqXr16qayszDNXXV2tr776Sj/72c%2BUlJQkt9ut/fv3e%2B1rs9nUs2fPFtcGAABoiWUBq7GxUfPmzdOMGTM0cOBAr7nMzEyFh4drxYoVqq%2Bv1yeffKJ169YpJydHkjRmzBjt2bNHu3bt0smTJ7Vu3Tp9%2BeWXGjlypCQpJydHa9asUXl5uWpra7Vo0SIlJSUpLS1NMTExGjp0qF544QUdO3ZMhw8f1vLly5Wdna3g4OAW1wYAAGhJgPuH3JBkwAcffKD7779fISEhZ81t3bpVdXV1mj9/vkpLS9WtWzc9/PDDuu%2B%2B%2BzzbbN%2B%2BXYsXL1ZFRYUSExM1d%2B5c9evXT9K391gtXbpUb7zxhurq6pSenq7f/va36t69uySppqZG8%2BfP186dO9WpUyfdeeedmjVrlqeWzz777Lxr/xBVVTU/an9fgoMDFR0dJqezzi9OCfvbc6X8TUd9Dpa/fR9ciuiB9ejBuV1%2BeYQl61oWsDoaAhYBq60RsPzj%2B%2BBSRA%2BsRw/OzaqAxQMzAAAADCNgAQAAGEbAAgAAMIyABQAAYBgBCwAAwDACFgAAgGEELAAAAMMIWAAAAIYRsAAAAAwjYAEAABhGwAIAADCMgAUAAGAYAQsAAMAwAhYAAIBhBCwAAADDCFgAAACGEbAAAAAMI2ABAAAYRsACAAAwjIAFAABgGAELAADAMAIWAACAYQQsAAAAwwhYAAAAhhGwAAAADCNgAQAAGEbAAgAAMIyABQAAYBgBCwAAwLBgqwsAgIvd7S/81eoSLsiWqQOsLgHo8DiDBQAAYBgBCwAAwDACFgAAgGEELAAAAMO4yR24RPjTjdjchA3gUscZLAAAAMMIWAAAAIYRsAAAAAzjHiwAuMRwPx5gPc5gAQAAGEbAAgAAMIyABQAAYBgBCwAAwDACFgAAgGH8FiGAdudPv%2BUGAD8EZ7AAAAAMI2ABAAAYRsACAAAwjIDlQ0VFhSZOnKj09HRlZWVp4cKFam5utrosAADgJ7jJ3YcpU6YoJSVFxcXFOnr0qB555BF169ZNv/zlL60uDQAA%2BAHOYH2Pw%2BHQ/v37NWPGDEVERCghIUG5ubmy2%2B1WlwYAAPwEZ7C%2Bp6ysTPHx8YqMjPSMpaSk6MCBA6qtrVV4eHiLx6isrFRVVZXXWHBwF8XGxhqtNSgo0OsrAPib4GD%2B/jKBfw8uPgSs73G5XLLZbF5jZ8KW0%2BlsVcCy2%2B1atmyZ19hjjz2mKVOmmCtU3wa51av/qLFjxxoPb23hg98Ps7oE4yorK2W32/2mB5ciemA9emA9f/v3oCMg6vrgdrt/1P5jx47VW2%2B95fXf2LFjDVX3L1VVVVq2bNlZZ8vQfuiB9eiB9eiB9ejBxYczWN8TExMjl8vlNeZyuRQQEKCYmJhWHSM2NpafIAAA6MA4g/U9qampOnTokI4dO%2BYZczgcSkxMVFhYmIWVAQAAf0HA%2Bp7k5GSlpaVp8eLFqq2tVXl5uYqKipSTk2N1aQAAwE8ELViwYIHVRVxsbrrpJm3atEm/%2B93vtHnzZmVnZ2v8%2BPEKCAiwurSzhIWFqX///pxdsxA9sB49sB49sB49uLgEuH/sHd0AAADwwiVCAAAAwwhYAAAAhhGwAAAADCNgAQAAGEbAAgAAMIyABQAAYBgBCwAAwDACFgAAgGEELAAAAMMIWH6ooqJCEydOVHp6urKysrRw4UI1NzdbXVaHU1FRoby8PKWnpysjI0OzZs1SdXW11WV1SE8//bR69%2B5tdRkd1ooVKzRw4EBdd911ys3N1cGDB60uqcPYu3evHnzwQd14440aMGCAZsyYoWPHjlldFkTA8ktTpkxRXFyciouLVVRUpOLiYq1evdrqsjqcSZMmyWazaceOHXrrrbf0z3/%2BU88%2B%2B6zVZXU4%2B/bt0/r1660uo8N6/fXXtWHDBq1Zs0bvv/%2B%2BEhMT9eqrr1pdVofQ2NioiRMn6rrrrtOePXu0adMmHTt2THzE8MWBgOVnHA6H9u/frxkzZigiIkIJCQnKzc2V3W63urQOpbq6WqmpqZo%2BfbrCwsLUvXt33X333frggw%2BsLq1DaW5u1vz585Wbm2t1KR3WK6%2B8omnTpunqq69WeHi45s2bp3nz5lldVodQVVWlqqoqjRo1SiEhIYqOjtatt96qffv2WV0aRMDyO2VlZYqPj1dkZKRnLCUlRQcOHFBtba2FlXUsNptNhYWF6tatm2fs0KFDio2NtbCqjueNN95QaGioRowYYXUpHdKRI0d08OBBHT9%2BXMOHD1d6erry8/O5RNVO4uLilJSUJLvdrrq6Oh09elTbt2/XoEGDrC4NImD5HZfLJZvN5jV2Jmw5nU4rSoK%2BPbP42muv6dFHH7W6lA7jm2%2B%2B0dKlSzV//nyrS%2BmwDh8%2BLEnaunWrioqKtH79eh0%2BfJgzWO0kMDBQS5cu1bvvvqu%2BffsqIyNDjY2Nmj59utWlQQQsv%2BR2u60uAd/xj3/8Q%2BPHj9f06dOVkZFhdTkdRmFhoUaPHq3ExESrS%2BmwzvxdNGHCBMXFxal79%2B6aMmWKduzYoZMnT1pc3aXv1KlTmjRpkoYNG6YPPvhA7733niIiIjRjxgyrS4MIWH4nJiZGLpfLa8zlcikgIEAxMTEWVdVx7dixQxMnTtScOXP04IMPWl1Oh1FSUqKPPvpIeXl5VpfSoZ25RP7ds%2Brx8fFyu906evSoVWV1GCUlJTp48KAef/xxRUREKC4uTvn5%2Bfqv//qvs/6dQPsjYPmZ1NRUHTp0yOseB4fDocTERIWFhVlYWcfz4YcfaubMmfrDH/6gu%2B66y%2BpyOpQNGzbo6NGjysrKUnp6ukaPHi1JSk9P1%2BbNmy2uruPo3r27wsPDvW6qrqioUKdOnbgfsR00NTWpubnZ66rGqVOnLKwI3xXg5nqT3xkzZox69eql2bNn68iRI5o4caJ%2B9atf6f7777e6tA6jsbFRI0eO1EMPPaSxY8daXU6Hc/z4cdXX13v%2BfPjwYY0dO1a7d%2B9WZGSkLrvsMgur61gKCwv17rvv6k9/%2BpPCw8OVl5ennj17qrCw0OrSLnlOp1PDhg3TuHHjNGnSJDU0NGjOnDmqqanRa6%2B9ZnV5HR4Byw8dPnxYBQUF%2Bvvf/67w8HCNGzdOjz32mAICAqwurcP44IMPdP/99yskJOSsua1btyo%2BPt6CqjqugwcPasiQIfr000%2BtLqXDOXXqlAoLC7V582adPn1aQ4cOVUFBAWfU20lpaameffZZ7d%2B/XyEhIerfv79mzZqluLg4q0vr8AhYAAAAhnEPFgAAgGEELAAAAMMIWAAAAIYRsAAAAAwjYAEAABhGwAIAADCMgAUAAGAYAQsAAMAwAhYAAIBhBCwAAADDCFgAAACGEbAAAAAMI2ABAAAY9v8AqMnT57oxXPQAAAAASUVORK5CYII%3D\"/>\n",
              "        </div>\n",
              "        <div role=\"tabpanel\" class=\"tab-pane col-md-12\" id=\"common-2968637611274530916\">\n",
              "            \n",
              "<table class=\"freq table table-hover\">\n",
              "    <thead>\n",
              "    <tr>\n",
              "        <td class=\"fillremaining\">Value</td>\n",
              "        <td class=\"number\">Count</td>\n",
              "        <td class=\"number\">Frequency (%)</td>\n",
              "        <td style=\"min-width:200px\">&nbsp;</td>\n",
              "    </tr>\n",
              "    </thead>\n",
              "    <tr class=\"\">\n",
              "        <td class=\"fillremaining\">1</td>\n",
              "        <td class=\"number\">1033540</td>\n",
              "        <td class=\"number\">70.9%</td>\n",
              "        <td>\n",
              "            <div class=\"bar\" style=\"width:100%\">&nbsp;</div>\n",
              "        </td>\n",
              "</tr><tr class=\"\">\n",
              "        <td class=\"fillremaining\">2</td>\n",
              "        <td class=\"number\">210318</td>\n",
              "        <td class=\"number\">14.4%</td>\n",
              "        <td>\n",
              "            <div class=\"bar\" style=\"width:21%\">&nbsp;</div>\n",
              "        </td>\n",
              "</tr><tr class=\"\">\n",
              "        <td class=\"fillremaining\">5</td>\n",
              "        <td class=\"number\">78088</td>\n",
              "        <td class=\"number\">5.4%</td>\n",
              "        <td>\n",
              "            <div class=\"bar\" style=\"width:8%\">&nbsp;</div>\n",
              "        </td>\n",
              "</tr><tr class=\"\">\n",
              "        <td class=\"fillremaining\">3</td>\n",
              "        <td class=\"number\">59896</td>\n",
              "        <td class=\"number\">4.1%</td>\n",
              "        <td>\n",
              "            <div class=\"bar\" style=\"width:6%\">&nbsp;</div>\n",
              "        </td>\n",
              "</tr><tr class=\"\">\n",
              "        <td class=\"fillremaining\">6</td>\n",
              "        <td class=\"number\">48333</td>\n",
              "        <td class=\"number\">3.3%</td>\n",
              "        <td>\n",
              "            <div class=\"bar\" style=\"width:5%\">&nbsp;</div>\n",
              "        </td>\n",
              "</tr><tr class=\"\">\n",
              "        <td class=\"fillremaining\">4</td>\n",
              "        <td class=\"number\">28404</td>\n",
              "        <td class=\"number\">1.9%</td>\n",
              "        <td>\n",
              "            <div class=\"bar\" style=\"width:3%\">&nbsp;</div>\n",
              "        </td>\n",
              "</tr><tr class=\"\">\n",
              "        <td class=\"fillremaining\">0</td>\n",
              "        <td class=\"number\">60</td>\n",
              "        <td class=\"number\">0.0%</td>\n",
              "        <td>\n",
              "            <div class=\"bar\" style=\"width:1%\">&nbsp;</div>\n",
              "        </td>\n",
              "</tr><tr class=\"\">\n",
              "        <td class=\"fillremaining\">7</td>\n",
              "        <td class=\"number\">3</td>\n",
              "        <td class=\"number\">0.0%</td>\n",
              "        <td>\n",
              "            <div class=\"bar\" style=\"width:1%\">&nbsp;</div>\n",
              "        </td>\n",
              "</tr><tr class=\"\">\n",
              "        <td class=\"fillremaining\">9</td>\n",
              "        <td class=\"number\">1</td>\n",
              "        <td class=\"number\">0.0%</td>\n",
              "        <td>\n",
              "            <div class=\"bar\" style=\"width:1%\">&nbsp;</div>\n",
              "        </td>\n",
              "</tr><tr class=\"\">\n",
              "        <td class=\"fillremaining\">8</td>\n",
              "        <td class=\"number\">1</td>\n",
              "        <td class=\"number\">0.0%</td>\n",
              "        <td>\n",
              "            <div class=\"bar\" style=\"width:1%\">&nbsp;</div>\n",
              "        </td>\n",
              "</tr>\n",
              "</table>\n",
              "        </div>\n",
              "        <div role=\"tabpanel\" class=\"tab-pane col-md-12\"  id=\"extreme-2968637611274530916\">\n",
              "            <p class=\"h4\">Minimum 5 values</p>\n",
              "            \n",
              "<table class=\"freq table table-hover\">\n",
              "    <thead>\n",
              "    <tr>\n",
              "        <td class=\"fillremaining\">Value</td>\n",
              "        <td class=\"number\">Count</td>\n",
              "        <td class=\"number\">Frequency (%)</td>\n",
              "        <td style=\"min-width:200px\">&nbsp;</td>\n",
              "    </tr>\n",
              "    </thead>\n",
              "    <tr class=\"\">\n",
              "        <td class=\"fillremaining\">0</td>\n",
              "        <td class=\"number\">60</td>\n",
              "        <td class=\"number\">0.0%</td>\n",
              "        <td>\n",
              "            <div class=\"bar\" style=\"width:1%\">&nbsp;</div>\n",
              "        </td>\n",
              "</tr><tr class=\"\">\n",
              "        <td class=\"fillremaining\">1</td>\n",
              "        <td class=\"number\">1033540</td>\n",
              "        <td class=\"number\">70.9%</td>\n",
              "        <td>\n",
              "            <div class=\"bar\" style=\"width:100%\">&nbsp;</div>\n",
              "        </td>\n",
              "</tr><tr class=\"\">\n",
              "        <td class=\"fillremaining\">2</td>\n",
              "        <td class=\"number\">210318</td>\n",
              "        <td class=\"number\">14.4%</td>\n",
              "        <td>\n",
              "            <div class=\"bar\" style=\"width:21%\">&nbsp;</div>\n",
              "        </td>\n",
              "</tr><tr class=\"\">\n",
              "        <td class=\"fillremaining\">3</td>\n",
              "        <td class=\"number\">59896</td>\n",
              "        <td class=\"number\">4.1%</td>\n",
              "        <td>\n",
              "            <div class=\"bar\" style=\"width:6%\">&nbsp;</div>\n",
              "        </td>\n",
              "</tr><tr class=\"\">\n",
              "        <td class=\"fillremaining\">4</td>\n",
              "        <td class=\"number\">28404</td>\n",
              "        <td class=\"number\">1.9%</td>\n",
              "        <td>\n",
              "            <div class=\"bar\" style=\"width:3%\">&nbsp;</div>\n",
              "        </td>\n",
              "</tr>\n",
              "</table>\n",
              "            <p class=\"h4\">Maximum 5 values</p>\n",
              "            \n",
              "<table class=\"freq table table-hover\">\n",
              "    <thead>\n",
              "    <tr>\n",
              "        <td class=\"fillremaining\">Value</td>\n",
              "        <td class=\"number\">Count</td>\n",
              "        <td class=\"number\">Frequency (%)</td>\n",
              "        <td style=\"min-width:200px\">&nbsp;</td>\n",
              "    </tr>\n",
              "    </thead>\n",
              "    <tr class=\"\">\n",
              "        <td class=\"fillremaining\">5</td>\n",
              "        <td class=\"number\">78088</td>\n",
              "        <td class=\"number\">5.4%</td>\n",
              "        <td>\n",
              "            <div class=\"bar\" style=\"width:100%\">&nbsp;</div>\n",
              "        </td>\n",
              "</tr><tr class=\"\">\n",
              "        <td class=\"fillremaining\">6</td>\n",
              "        <td class=\"number\">48333</td>\n",
              "        <td class=\"number\">3.3%</td>\n",
              "        <td>\n",
              "            <div class=\"bar\" style=\"width:62%\">&nbsp;</div>\n",
              "        </td>\n",
              "</tr><tr class=\"\">\n",
              "        <td class=\"fillremaining\">7</td>\n",
              "        <td class=\"number\">3</td>\n",
              "        <td class=\"number\">0.0%</td>\n",
              "        <td>\n",
              "            <div class=\"bar\" style=\"width:1%\">&nbsp;</div>\n",
              "        </td>\n",
              "</tr><tr class=\"\">\n",
              "        <td class=\"fillremaining\">8</td>\n",
              "        <td class=\"number\">1</td>\n",
              "        <td class=\"number\">0.0%</td>\n",
              "        <td>\n",
              "            <div class=\"bar\" style=\"width:1%\">&nbsp;</div>\n",
              "        </td>\n",
              "</tr><tr class=\"\">\n",
              "        <td class=\"fillremaining\">9</td>\n",
              "        <td class=\"number\">1</td>\n",
              "        <td class=\"number\">0.0%</td>\n",
              "        <td>\n",
              "            <div class=\"bar\" style=\"width:1%\">&nbsp;</div>\n",
              "        </td>\n",
              "</tr>\n",
              "</table>\n",
              "        </div>\n",
              "    </div>\n",
              "</div>\n",
              "</div><div class=\"row variablerow\">\n",
              "    <div class=\"col-md-3 namecol\">\n",
              "        <p class=\"h4 pp-anchor\" id=\"pp_var_pickup_longitude\">pickup_longitude<br/>\n",
              "            <small>Numeric</small>\n",
              "        </p>\n",
              "    </div><div class=\"col-md-6\">\n",
              "    <div class=\"row\">\n",
              "        <div class=\"col-sm-6\">\n",
              "            <table class=\"stats \">\n",
              "                <tr>\n",
              "                    <th>Distinct count</th>\n",
              "                    <td>23047</td>\n",
              "                </tr>\n",
              "                <tr>\n",
              "                    <th>Unique (%)</th>\n",
              "                    <td>1.6%</td>\n",
              "                </tr>\n",
              "                <tr class=\"ignore\">\n",
              "                    <th>Missing (%)</th>\n",
              "                    <td>0.0%</td>\n",
              "                </tr>\n",
              "                <tr class=\"ignore\">\n",
              "                    <th>Missing (n)</th>\n",
              "                    <td>0</td>\n",
              "                </tr>\n",
              "                <tr class=\"ignore\">\n",
              "                    <th>Infinite (%)</th>\n",
              "                    <td>0.0%</td>\n",
              "                </tr>\n",
              "                <tr class=\"ignore\">\n",
              "                    <th>Infinite (n)</th>\n",
              "                    <td>0</td>\n",
              "                </tr>\n",
              "            </table>\n",
              "\n",
              "        </div>\n",
              "        <div class=\"col-sm-6\">\n",
              "            <table class=\"stats \">\n",
              "\n",
              "                <tr>\n",
              "                    <th>Mean</th>\n",
              "                    <td>-73.973</td>\n",
              "                </tr>\n",
              "                <tr>\n",
              "                    <th>Minimum</th>\n",
              "                    <td>-121.93</td>\n",
              "                </tr>\n",
              "                <tr>\n",
              "                    <th>Maximum</th>\n",
              "                    <td>-61.336</td>\n",
              "                </tr>\n",
              "                <tr class=\"ignore\">\n",
              "                    <th>Zeros (%)</th>\n",
              "                    <td>0.0%</td>\n",
              "                </tr>\n",
              "            </table>\n",
              "        </div>\n",
              "    </div>\n",
              "</div>\n",
              "<div class=\"col-md-3 collapse in\" id=\"minihistogram-5896966580540658807\">\n",
              "    <img src=\"data:image/png;base64,iVBORw0KGgoAAAANSUhEUgAAAMgAAABLCAYAAAA1fMjoAAAABHNCSVQICAgIfAhkiAAAAAlwSFlzAAAPYQAAD2EBqD%2BnaQAAADh0RVh0U29mdHdhcmUAbWF0cGxvdGxpYiB2ZXJzaW9uMy4xLjEsIGh0dHA6Ly9tYXRwbG90bGliLm9yZy8QZhcZAAAA/ElEQVR4nO3VsQ1CQQwFQT6iJIqgJ2J6ogh6Mg2glQjgLpjJLb1k5WNm5gR8dF49AHZ2WT2A/7ven1/fvB63HyzZnw8CQSAQBAJBIBAEAkEgEAQCQSAQBAJBIBAEAkEgEAQCQSAQBAJBIBAEAkEgEAQCQSAQBAJBIBAEAkEgEAQCQSAQBAJBIBAEAkEgEAQCQSAQBAJBIBAEAkEgEAQCQSAQBAJBIBAEAkEgEAQCQSAQBAJBIBCOmZnVI2BXPggEgUAQCASBQBAIBIFAEAgEgUAQCASBQBAIBIFAEAgEgUAQCASBQBAIBIFAEAgEgUAQCASBQBAIBIFAEAiEN63fC4/b/j8TAAAAAElFTkSuQmCC\">\n",
              "\n",
              "</div>\n",
              "<div class=\"col-md-12 text-right\">\n",
              "    <a role=\"button\" data-toggle=\"collapse\" data-target=\"#descriptives-5896966580540658807,#minihistogram-5896966580540658807\"\n",
              "       aria-expanded=\"false\" aria-controls=\"collapseExample\">\n",
              "        Toggle details\n",
              "    </a>\n",
              "</div>\n",
              "<div class=\"row collapse col-md-12\" id=\"descriptives-5896966580540658807\">\n",
              "    <ul class=\"nav nav-tabs\" role=\"tablist\">\n",
              "        <li role=\"presentation\" class=\"active\"><a href=\"#quantiles-5896966580540658807\"\n",
              "                                                  aria-controls=\"quantiles-5896966580540658807\" role=\"tab\"\n",
              "                                                  data-toggle=\"tab\">Statistics</a></li>\n",
              "        <li role=\"presentation\"><a href=\"#histogram-5896966580540658807\" aria-controls=\"histogram-5896966580540658807\"\n",
              "                                   role=\"tab\" data-toggle=\"tab\">Histogram</a></li>\n",
              "        <li role=\"presentation\"><a href=\"#common-5896966580540658807\" aria-controls=\"common-5896966580540658807\"\n",
              "                                   role=\"tab\" data-toggle=\"tab\">Common Values</a></li>\n",
              "        <li role=\"presentation\"><a href=\"#extreme-5896966580540658807\" aria-controls=\"extreme-5896966580540658807\"\n",
              "                                   role=\"tab\" data-toggle=\"tab\">Extreme Values</a></li>\n",
              "\n",
              "    </ul>\n",
              "\n",
              "    <div class=\"tab-content\">\n",
              "        <div role=\"tabpanel\" class=\"tab-pane active row\" id=\"quantiles-5896966580540658807\">\n",
              "            <div class=\"col-md-4 col-md-offset-1\">\n",
              "                <p class=\"h4\">Quantile statistics</p>\n",
              "                <table class=\"stats indent\">\n",
              "                    <tr>\n",
              "                        <th>Minimum</th>\n",
              "                        <td>-121.93</td>\n",
              "                    </tr>\n",
              "                    <tr>\n",
              "                        <th>5-th percentile</th>\n",
              "                        <td>-74.007</td>\n",
              "                    </tr>\n",
              "                    <tr>\n",
              "                        <th>Q1</th>\n",
              "                        <td>-73.992</td>\n",
              "                    </tr>\n",
              "                    <tr>\n",
              "                        <th>Median</th>\n",
              "                        <td>-73.982</td>\n",
              "                    </tr>\n",
              "                    <tr>\n",
              "                        <th>Q3</th>\n",
              "                        <td>-73.967</td>\n",
              "                    </tr>\n",
              "                    <tr>\n",
              "                        <th>95-th percentile</th>\n",
              "                        <td>-73.892</td>\n",
              "                    </tr>\n",
              "                    <tr>\n",
              "                        <th>Maximum</th>\n",
              "                        <td>-61.336</td>\n",
              "                    </tr>\n",
              "                    <tr>\n",
              "                        <th>Range</th>\n",
              "                        <td>60.598</td>\n",
              "                    </tr>\n",
              "                    <tr>\n",
              "                        <th>Interquartile range</th>\n",
              "                        <td>0.024536</td>\n",
              "                    </tr>\n",
              "                </table>\n",
              "            </div>\n",
              "            <div class=\"col-md-4 col-md-offset-2\">\n",
              "                <p class=\"h4\">Descriptive statistics</p>\n",
              "                <table class=\"stats indent\">\n",
              "                    <tr>\n",
              "                        <th>Standard deviation</th>\n",
              "                        <td>0.070902</td>\n",
              "                    </tr>\n",
              "                    <tr>\n",
              "                        <th>Coef of variation</th>\n",
              "                        <td>-0.00095848</td>\n",
              "                    </tr>\n",
              "                    <tr>\n",
              "                        <th>Kurtosis</th>\n",
              "                        <td>288160</td>\n",
              "                    </tr>\n",
              "                    <tr>\n",
              "                        <th>Mean</th>\n",
              "                        <td>-73.973</td>\n",
              "                    </tr>\n",
              "                    <tr>\n",
              "                        <th>MAD</th>\n",
              "                        <td>0.022175</td>\n",
              "                    </tr>\n",
              "                    <tr class=\"alert\">\n",
              "                        <th>Skewness</th>\n",
              "                        <td>-418.12</td>\n",
              "                    </tr>\n",
              "                    <tr>\n",
              "                        <th>Sum</th>\n",
              "                        <td>-107900000</td>\n",
              "                    </tr>\n",
              "                    <tr>\n",
              "                        <th>Variance</th>\n",
              "                        <td>0.0050271</td>\n",
              "                    </tr>\n",
              "                    <tr>\n",
              "                        <th>Memory size</th>\n",
              "                        <td>11.1 MiB</td>\n",
              "                    </tr>\n",
              "                </table>\n",
              "            </div>\n",
              "        </div>\n",
              "        <div role=\"tabpanel\" class=\"tab-pane col-md-8 col-md-offset-2\" id=\"histogram-5896966580540658807\">\n",
              "            <img src=\"data:image/png;base64,iVBORw0KGgoAAAANSUhEUgAAAlgAAAGQCAYAAAByNR6YAAAABHNCSVQICAgIfAhkiAAAAAlwSFlzAAAPYQAAD2EBqD%2BnaQAAADh0RVh0U29mdHdhcmUAbWF0cGxvdGxpYiB2ZXJzaW9uMy4xLjEsIGh0dHA6Ly9tYXRwbG90bGliLm9yZy8QZhcZAAAgAElEQVR4nO3de3hU1aH%2B8TcXCJKQG5iolBLk1tyIoJgKlkBQsSKgGC7xWEsLCoLkR4QWESnooaICgoIFYgs1Xuo0wcNNLZwoUBVsa1twMoCWCIIpkAgzkMQkkGT//vBhTgfiToQ9Mxn4fp7HJ7LWzF4rr5P4svfOJMgwDEMAAACwTLC/NwAAAHCpoWABAABYjIIFAABgMQoWAACAxShYAAAAFqNgAQAAWIyCBQAAYDEKFgAAgMUoWAAAABajYAEAAFiMggUAAGAxChYAAIDFKFgAAAAWo2ABAABYjIIFAABgMQoWAACAxShYAAAAFqNgAQAAWIyCBQAAYDEKFgAAgMUoWAAAABajYAEAAFiMggUAAGAxChYAAIDFKFgAAAAWo2ABAABYjIIFAABgMQoWAACAxShYAAAAFqNgAQAAWIyCBQAAYDEKFgAAgMUoWAAAABajYAEAAFiMggUAAGAxChYAAIDFKFgAAAAWo2ABAABYjIIFAABgsVB/b%2BByUV5e4e8tuAUHByk2NlwnTlSpocHw93ZaHPIxRz7myMcc%2BZgjH3MXks%2BVV7bz8q4axxmsy1BwcJCCgoIUHBzk7620SORjjnzMkY858jFHPuYCKR8KFgAAgMUoWAAAABajYAEAAFiMggUAAGAxChYAAIDFKFgAAAAWo2ABAABYjIIFAABgMQoWAACAxShYAAAAFqNgAQAAWIyCBQAAYDEKFgAAgMVC/b0BAMDl68dLP/T3Fr6Td6b19/cWECA4gwUAAGAxChYAAIDFKFgAAAAWo2ABAABYjIIFAABgMQoWAACAxShYAAAAFvNqwXr//ffVr18/5ebmfutjqqqqNHDgQD366KPusYaGBi1ZskSDBw9W3759NX78eB0%2BfNg973K5NG3aNPXr108333yzZs%2BerZqaGvf83r17dd999%2Bn666/XbbfdptWrV3us%2Bfbbb2vYsGHq3bu3Ro4cqQ8%2B%2BKDZawMAADTFawXrpZde0vz589W5c2fTxy1btkyVlZUeY6%2B99po2btyovLw8bd26VQkJCZoyZYoMw5AkzZkzR9XV1dq0aZPWrl2rkpISLVq0SJJUU1OjiRMn6oc//KHef/99LVmyRKtWrdKWLVskfVO%2BZs6cqRkzZuijjz7SuHHj9PDDD%2Bvo0aPNWhsAAKApXitYYWFhKiwsNC1Y%2B/bt06ZNm3T33Xd7jNtsNo0bN05du3ZVRESEcnNzVVJSot27d%2Burr75SUVGRcnNzFRsbq/j4eE2ePFlr167VmTNntG3bNp05c0YPPfSQ2rZtq%2BTkZI0aNUo2m02SVFBQoIyMDGVkZCgsLEzDhw9Xjx49tGHDhibXBgAAaA6v/aqc%2B%2B%2B/33TeMAzNmzdPubm5%2Bve//62KigpJ35yB2r9/v5KSktyPjYiIUOfOnWW321VRUaGQkBD17NnTPZ%2BcnKyvv/5an3/%2BuRwOh3r27KmQkBD3fFJSkgoKCiRJDodDGRkZHntJSkqS3W5vcu3rrruuWZ97WVmZysvLPcZCQ9sqLi6uWc/3tpCQYI%2BP8EQ%2B5sjHHPmYC/R8QkO9u%2B9Az8fbAikfv/0uQpvNpqCgII0cOVLLly93j588eVKGYSgqKsrj8VFRUXI6nYqOjlZERISCgoI85iTJ6XTK5XIpMjLS47nR0dFyuVxqaGiQy%2BVq9Nj79%2B9vcu3v8rn95%2BckSVOmTFFOTk6zj%2BELkZFX%2BHsLLRr5mCMfc%2BRjLlDziYkJ98k6gZqPrwRCPn4pWMePH9fzzz%2Bv3//%2B9x5F6T%2BZ3fN0IfdD/ec6TT3/Yu%2B3GjNmjDIzMz3GQkPbyumsuqjjWiUkJFiRkVfo1Klq1dc3%2BHs7LQ75mCMfc%2BRjLtDz8fb38UDPx9suJB9fleJz%2BaVgPf3007rrrrs8LvOdFR0dreDgYLlcLo9xl8ul9u3bKzY2VpWVlaqvr3dfBjz72LPzBw8ePO%2B5Z48bExPT6LFjY2ObXLu54uLizrscWF5eobq6lvXFUl/f0OL21JKQjznyMUc%2B5gI1H1/tOVDz8ZVAyMcvFzE3bNigwsJCpaenKz09Xb/97W/11ltvKT09XWFhYerevbscDof78adOndKhQ4fUq1cvJSYmyjAM7du3zz1vt9sVGRmpLl26KCUlRZ9%2B%2Bqnq6uo85tPS0iRJKSkpKi4u9tjP2fmm1gYAAGgOvxSs7du3a%2BPGjVq/fr3Wr1%2BvsWPHKjMzU%2BvXr5ckZWdnKz8/XyUlJaqsrNSiRYuUmJio1NRUxcbGasiQIVq6dKlOnDiho0eP6sUXX1RWVpZCQ0OVkZGhiIgIrVixQtXV1dq9e7cKCwuVnZ0tSRo9erR27Nihbdu2qba2VoWFhTp48KCGDx/e5NoAAADN4bVLhGcLydkzSUVFRZK%2BOVt01VVXeTw2IiJCV1xxhXt87NixKi8v109%2B8hNVVVUpPT3d46bxJ598UnPnztXgwYPVqlUr3Xnnne43M23durVWrlypuXPnKi8vTx06dFBubq4GDhwoSerRo4cWLVqkBQsWqLS0VN26ddOqVat05ZVXNmttAACApgQZvIOmT5SXV/h7C26hocGKiQmX01nV4q9h%2BwP5mCMfc%2BRj7tx8frz0Q39v6Tt5Z1p/rx6f14%2B5C8nnyivbeXlXjWv5byQBAAAQYChYAAAAFqNgAQAAWIyCBQAAYDEKFgAAgMUoWAAAABajYAEAAFiMggUAAGAxChYAAIDFKFgAAAAWo2ABAABYjIIFAABgMQoWAACAxShYAAAAFqNgAQAAWIyCBQAAYDEKFgAAgMUoWAAAABajYAEAAFiMggUAAGAxChYAAIDFKFgAAAAWo2ABAABYjIIFAABgMQoWAACAxShYAAAAFqNgAQAAWIyCBQAAYDEKFgAAgMUoWAAAABajYAEAAFjMqwXr/fffV79%2B/ZSbm3ve3JYtWzR8%2BHD17t1bQ4YM0R//%2BEeP%2Bfz8fA0ZMkR9%2BvRRdna2iouL3XO1tbX61a9%2BpQEDBig9PV05OTlyOp3u%2BdLSUj344INKT0/XoEGDtHDhQjU0NLjnd%2B7cqaysLPXp00dDhw7Vhg0bmr02AABAU7xWsF566SXNnz9fnTt3Pm/uk08%2B0YwZM5STk6O//e1veuyxx/Tkk0/q448/liS99957WrZsmZ599lnt2LFDgwYN0qRJk/T1119LkpYsWSKHwyGbzabNmzfLMAzNmjXLffypU6cqPj5eRUVFWrNmjYqKivTyyy9LksrKyjR58mSNHTtWO3fu1OzZszVnzhzZ7fZmrQ0AANAUrxWssLAwFRYWNlqwXC6XJk6cqFtuuUWhoaHKyMhQjx493AXLZrNp5MiRSktLU5s2bTRhwgRJ0tatW1VXV6fCwkJNnjxZV199taKjozVt2jRt27ZNx44dk91u1759%2BzRjxgy1a9dOCQkJGjdunGw2myRp48aNSkhIUFZWlsLCwtSvXz9lZmaqoKCgybUBAACaI9RbB77//vu/dW7AgAEaMGCA%2B891dXUqLy9XfHy8JMnhcOiOO%2B5wzwcHBysxMVF2u12JiYmqqKhQcnKye75r165q06aNHA6HysrK1LFjR0VFRbnnk5OTdeDAAVVWVsrhcCgpKcljP0lJSXrnnXeaXHvo0KHN%2BtzLyspUXl7uMRYa2lZxcXHNer63hYQEe3yEJ/IxRz7myMdcoOcTGurdfQd6Pt4WSPl4rWB9F4sWLVLbtm3dxcblcnkUJEmKioqS0%2BmUy%2BWSJEVGRnrMR0ZGuufPnTt7rLPzZ4vcWdHR0e57uMzWbi6bzably5d7jE2ZMkU5OTnNPoYvREZe4e8ttGjkY458zJGPuUDNJyYm3CfrBGo%2BvhII%2Bfi1YBmGoUWLFmnTpk3Kz89XWFiYx1xTz72Quebu62KMGTNGmZmZHmOhoW3ldFZd1HGtEhISrMjIK3TqVLXq6xuafsJlhnzMkY858jEX6Pl4%2B/t4oOfjbReSj69K8bn8VrAaGho0a9YsffLJJ/rDH/6gTp06uediYmLcZ6rOcrlc6t69u2JjY91/Dg//v9BOnjyp9u3bq76%2BvtHnBgUFKTY2ttFjO51O93HN1m6uuLi48y4HlpdXqK6uZX2x1Nc3tLg9tSTkY458zJGPuUDNx1d7DtR8fCUQ8vHbRcynnnpK//rXv84rV5KUkpIih8Ph/nN9fb327NmjtLQ0derUSVFRUR7zn332mU6fPq2UlBSlpKToyJEjOnHihHvebrerW7duCg8PV2pq6nlvu1BcXKy0tLQm1wYAAGgOvxSsv//979qwYYPy8vIUHR193nx2drbWrVunXbt2qbq6WitWrFDr1q01cOBAhYSEaPTo0Vq5cqWOHDkip9Op5557Trfeeqs6dOigpKQkpaamavHixaqsrFRJSYnWrFmj7OxsSdKwYcNUWlqqgoIC1dbWavv27dq%2BfbtGjx7d5NoAAADN4bVLhKmpqZK%2B%2BQlBSSoqKpL0zdmktWvXqqKiQoMGDfJ4Tt%2B%2BfbV69WoNGDBAjzzyiKZNm6bjx48rNTVVeXl5atOmjSQpJydHVVVVGjFihOrq6jRo0CDNmzfPfZwXXnhBc%2BbMUf/%2B/RUREaGxY8fq3nvvlSS1b99eq1at0vz58/XEE0%2BoY8eOWrhwoX7wgx9IUpNrAwAANCXIuNg7utEs5eUV/t6CW2hosGJiwuV0VrX4a9j%2BQD7myMcc%2BZg7N58fL/3Q31v6Tt6Z1t%2Brx%2Bf1Y%2B5C8rnyynZe3lXjWv4bSQAAAAQYChYAAIDFKFgAAAAWo2ABAABYjIIFAABgMQoWAACAxShYAAAAFqNgAQAAWIyCBQAAYDEKFgAAgMUoWAAAABajYAEAAFiMggUAAGAxChYAAIDFKFgAAAAWo2ABAABYjIIFAABgMQoWAACAxShYAAAAFqNgAQAAWIyCBQAAYDEKFgAAgMUoWAAAABajYAEAAFiMggUAAGAxChYAAIDFKFgAAAAWo2ABAABYjIIFAABgMQoWAACAxShYAAAAFvNqwXr//ffVr18/5ebmnjf39ttva9iwYerdu7dGjhypDz74wD3X0NCgJUuWaPDgwerbt6/Gjx%2Bvw4cPu%2BddLpemTZumfv366eabb9bs2bNVU1Pjnt%2B7d6/uu%2B8%2BXX/99brtttu0evVqy9YGAABoitcK1ksvvaT58%2Berc%2BfO583t3btXM2fO1IwZM/TRRx9p3Lhxevjhh3X06FFJ0muvvaaNGzcqLy9PW7duVUJCgqZMmSLDMCRJc%2BbMUXV1tTZt2qS1a9eqpKREixYtkiTV1NRo4sSJ%2BuEPf6j3339fS5Ys0apVq7RlyxZL1gYAAGiK1wpWWFiYCgsLGy1YBQUFysjIUEZGhsLCwjR8%2BHD16NFDGzZskCTZbDaNGzdOXbt2VUREhHJzc1VSUqLdu3frq6%2B%2BUlFRkXJzcxUbG6v4%2BHhNnjxZa9eu1ZkzZ7Rt2zadOXNGDz30kNq2bavk5GSNGjVKNpvtotcGAABojlBvHfj%2B%2B%2B//1jmHw6GMjAyPsaSkJNntdtXU1Gj//v1KSkpyz0VERKhz586y2%2B2qqKhQSEiIevbs6Z5PTk7W119/rc8//1wOh0M9e/ZUSEiIx7ELCgoueu3rrruuWZ97WVmZysvLPcZCQ9sqLi6uWc/3tpCQYI%2BP8EQ%2B5sjHHPmYC/R8QkO9u%2B9Az8fbAikfrxUsMy6XS1FRUR5jUVFR2r9/v06ePCnDMBqddzqdio6OVkREhIKCgjzmJMnpdMrlcikyMtLjudHR0XK5XGpoaLiotZvLZrNp%2BfLlHmNTpkxRTk5Os4/hC5GRV/h7Cy0a%2BZgjH3PkYy5Q84mJCffJOoGaj68EQj5%2BKViSmrynyWz%2BQu6H%2Bs9CdjFrN8eYMWOUmZnpMRYa2lZOZ9VFHdcqISHBioy8QqdOVau%2BvsHf22lxyMcc%2BZgjH3OBno%2B3v48Hej7ediH5%2BKoUn8svBSsmJkYul8tjzOVyKTY2VtHR0QoODm50vn379oqNjVVlZaXq6%2BvdlwHPPvbs/MGDB8977tnjXszazRUXF3fe5cDy8grV1bWsL5b6%2BoYWt6eWhHzMkY858jEXqPn4as%2BBmo%2BvBEI%2BfrmImZKSouLiYo8xu92utLQ0hYWFqXv37nI4HO65U6dO6dChQ%2BrVq5cSExNlGIb27dvn8dzIyEh16dJFKSkp%2BvTTT1VXV3fesS92bQAAgObwS8EaPXq0duzYoW3btqm2tlaFhYU6ePCghg8fLknKzs5Wfn6%2BSkpKVFlZqUWLFikxMVGpqamKjY3VkCFDtHTpUp04cUJHjx7Viy%2B%2BqKysLIWGhiojI0MRERFasWKFqqurtXv3bhUWFio7O/ui1wYAAGgOr10iPFtIzp5JKioqkvTN2aIePXpo0aJFWrBggUpLS9WtWzetWrVKV155pSRp7NixKi8v109%2B8hNVVVUpPT3d46bxJ598UnPnztXgwYPVqlUr3Xnnne43M23durVWrlypuXPnKi8vTx06dFBubq4GDhwoSRe9NgAAQFOCDN5B0yfKyyv8vQW30NBgxcSEy%2BmsavHXsP2BfMyRjznyMXduPj9e%2BqG/t/SdvDOtv1ePz%2BvH3IXkc%2BWV7by8q8a1/DeSAAAACDAULAAAAItRsAAAACxGwQIAALAYBQsAAMBiFCwAAACLUbAAAAAsRsECAACwGAULAADAYo0WrMzMTC1fvlxHjhzx9X4AAAACXqMF65577tHbb7%2BtW265RRMmTNCWLVvcv1MQAAAA5hotWFOmTNHbb7%2BtP/7xj%2BrevbueeuopZWRkaOHChTpw4ICv9wgAABBQTO/BSk5O1syZM7V161Y99thj%2BuMf/6g77rhD48eP1yeffOKrPQIAAAQU04J15swZvf3223rggQc0c%2BZMxcfHa9asWUpMTNS4ceO0ceNGX%2B0TAAAgYIQ2NlhSUqLCwkKtW7dOVVVVGjJkiF5%2B%2BWVdf/317sf07dtX8%2BbN07Bhw3y2WQAAgEDQaMEaOnSounTpookTJ%2Bquu%2B5SdHT0eY/JyMjQiRMnvL5BAACAQNNowcrPz9eNN97Y5JN3795t%2BYYAAAACXaP3YPXs2VOTJk1SUVGRe%2Bz3v/%2B9HnjgAblcLp9tDgAAIBA1WrAWLFigiooKdevWzT02cOBANTQ06Omnn/bZ5gAAAAJRo5cIP/jgA23cuFExMTHusYSEBC1atEh33nmnzzYHAAAQiBo9g1VTU6OwsLDzHxwcrOrqaq9vCgAAIJA1WrD69u2rp59%2BWidPnnSPHTt2TE888YTHWzUAAADgfI1eInzsscf085//XDfddJMiIiLU0NCgqqoqderUSa%2B88oqv9wgAABBQGi1YnTp10ltvvaU///nPOnTokIKDg9WlSxfdfPPNCgkJ8fUeAQAAAkqjBUuSWrdurVtuucWXewEAALgkNFqwDh8%2BrMWLF%2Btf//qXampqzpt/9913vb4xAACAQPWt92CVlZXp5ptvVtu2bX29JwAAgIDWaMEqLi7Wu%2B%2B%2Bq9jYWF/vBwAAIOA1%2BjYN7du358wVAADABWq0YE2cOFHLly%2BXYRi%2B3g8AAEDAa/QS4Z///Gf94x//0Jtvvqnvfe97Cg727GFvvPGGJYvv2bNHTz/9tPbs2aOwsDDddNNNeuyxxxQbG6udO3dq8eLF%2Bvzzz3X11Vdr4sSJGj58uPu5%2Bfn5eu2111ReXq6ePXtq9uzZSklJkSTV1tbq17/%2BtbZt26ba2lqlp6friSeecP/qn9LSUj3xxBPavXu32rZtqzvuuEPTp093f55NrQ0AAGCm0TNYERERGjBggDIyMtS1a1d16dLF4x8r1NXV6cEHH9R1112nHTt2aNOmTTpx4oTmzZunsrIyTZ48WWPHjtXOnTs1e/ZszZkzR3a7XZL03nvvadmyZXr22We1Y8cODRo0SJMmTdLXX38tSVqyZIkcDodsNps2b94swzA0a9Ys99pTp05VfHy8ioqKtGbNGhUVFenll1%2BWpCbXBgAAaEqjZ7AWLFjg9YXLy8tVXl6uESNGqHXr1mrdurVuvfVWrV69Whs3blRCQoKysrIkSf369VNmZqYKCgqUmpoqm82mkSNHKi0tTZI0YcIE5efna%2BvWrRoyZIgKCwv1zDPP6Oqrr5YkTZs2TUOHDtWxY8dUVlamffv2ac2aNWrXrp3atWuncePG6eWXX9bPfvazJtcGAABoSqNnsCTp888/17JlyzzO/Pzzn/%2B0bOH4%2BHglJibKZrOpqqpKx48f15YtWzRw4EA5HA4lJSV5PD4pKUnFxcWSdN58cHCwEhMTZbfbdejQIVVUVCg5Odk937VrV7Vp00YOh0MOh0MdO3ZUVFSUez45OVkHDhxQZWVlk2sDAAA0pdEzWDt37tQDDzygLl266ODBg1qwYIEOHz6s%2B%2B%2B/X0uXLtXgwYMveuHg4GAtW7bMffZIkm688UZNnz5dkydPVnx8vMfjo6Oj5XQ6JUkul8ujIElSVFSUnE6nXC6XJCkyMtJjPjIy0j1/7tzZY52dN1u7OcrKylReXu4xFhraVnFxcc0%2BhjeFhAR7fIQn8jFHPubIx1yg5xMa6t19B3o%2B3hZI%2BTRasJYsWaJf/OIX%2BulPf6pevXpJ%2Bub3Ez799NN68cUXLSlYp0%2Bf1qRJk3T77be775964oknNGPGjGY9v6mfcDSb9/ZPR9psNi1fvtxjbMqUKcrJyfHqut9VZOQV/t5Ci0Y%2B5sjHHPmYC9R8YmLCfbJOoObjK4GQT6MF67PPPtOrr74qSQoKCnKP33777XrssccsWXjnzp368ssv9cgjjygkJETt2rVTTk6ORowYoR/96EfuM1FnOZ1O9xufxsTEnDfvcrnUvXt392NcLpfCw//vC%2BHkyZNq37696uvrG31uUFCQYmNjGz32f67dHGPGjFFmZqbHWGhoWzmdVc0%2BhjeFhAQrMvIKnTpVrfr6Bn9vp8UhH3PkY458zAV6Pt7%2BPh7o%2BXjbheTjq1J8rkYLVrt27VRTU6PWrVt7jJeVlZ03dqHq6%2BvV0NDgcTbp9OnTkr65sfx//ud/PB5fXFzsvqk9JSVFDodDd999t/tYe/bsUVZWljp16qSoqCj3vVbSN4Xx9OnTSklJUVlZmY4cOaITJ064S5Pdble3bt0UHh6u1NRUrV279lvXbo64uLjzLgeWl1eorq5lfbHU1ze0uD21JORjjnzMkY%2B5QM3HV3sO1Hx8JRDyafQiZp8%2BffTUU0%2BpsrLSPXbgwAHNnDlTN910kyUL9%2B7dW23bttWyZctUXV0tp9OpFStWqG/fvhoxYoRKS0tVUFCg2tpabd%2B%2BXdu3b9fo0aMlSdnZ2Vq3bp127dql6upqrVixQq1bt9bAgQMVEhKi0aNHa%2BXKlTpy5IicTqeee%2B453XrrrerQoYOSkpKUmpqqxYsXq7KyUiUlJVqzZo2ys7MlScOGDTNdGwAAoClBRiM3JB09elQ//elP9eWXX6q%2Bvl5t27ZVdXW1unfvrpUrV%2Bqaa66xZPHi4mI988wz2rdvn1q3bq0bb7xRjz76qOLj4/W3v/1N8%2BfPV0lJiTp27Kjp06frtttucz/39ddfV15eno4fP67U1FTNmzdPPXr0kPTNmbAFCxborbfeUl1dnQYNGqR58%2BapXbt27s9vzpw5%2Butf/6qIiAiNHTtWDz/8sPtyaFNrX4jy8oqLer6VQkODFRMTLqezqsX/DcAfyMcc%2BZgjH3Pn5vPjpR/6e0vfyTvT%2Bnv1%2BLx%2BzF1IPlde2c7Lu2pcowVLks6cOaPt27frwIEDatOmjbp06aL%2B/ft73JOF5qNgBQ7yMUc%2B5sjHHAXLHK8fc4FUsBq9B0uSWrVqpVtuucWXewEAALgkNFqwMjMzTc9Uvfvuu17bEAAAQKBrtGDdcccdHgWrvr5eBw4ckN1u109/%2BlOfbQ4AACAQNVqwvu3NPjdv3qy//OUvXt0QAABAoPtO7zV/yy236K233vLWXgAAAC4J36lg7dmzx%2Bu/ZgYAACDQNXqJcOzYseeNVVdXq6Sk5KLfDwoAAOBS12jBSkhIOO%2BnCMPCwpSVlaVRo0b5ZGMAAACBqtGC9fTTT/t6HwAAAJeMRgvWunXrmn2Au%2B66y7LNAAAAXAoaLVizZ89WQ0PDeTe0BwUFeYwFBQVRsAAAAM7RaMH67W9/q9WrV2vSpEnq2bOnDMPQp59%2Bqpdeekn33Xef0tPTfb1PAACAgPGt92Dl5eUpPj7ePXbDDTeoU6dOGj9%2BvDZt2uSzDQIAAASaRt8H6%2BDBg4qKijpvPDIyUqWlpV7fFAAAQCBrtGB17NhRTz/9tJxOp3vs1KlTWrx4sb7//e/7bHMAAACBqNFLhI899pimT58um82m8PBwBQcHq7KyUm3atNGLL77o6z0CAAAElEYL1s0336xt27Zp%2B/btOnr0qAzDUHx8vH70ox%2BpXbt2vt4jAABAQGm0YEnSFVdcocGDB%2Bvo0aPq1KmTL/cEAAAQ0Bq9B6umpkYzZ85U79699eMf/1jSN/dgTZgwQadOnfLpBgEAAAJNowVr4cKF2rt3rxYtWqTg4P97SH19vRYtWuSzzQEAAASiRgvW5s2b9cILL%2Bj22293/9LnyMhILViwQFu2bPHpBgEAAAJNowWrqqpKCQkJ543Hxsbq66%2B/9vaeAAAAAlqjBev73/%2B%2B/vKXv0iSx%2B8e/NOf/qRrrrnGNzsDAAAIUI3%2BFOG9996rqVOn6p577lFDQ4PWrFmj4uJibd68WbNnz/b1HgEAAAJKowVrzJgxCg0N1auvvqqQkBCtXLlSXbp00aJFi3T77bf7eo8AAAABpdGCdeLECd1zzz265557fL0fAACAgNfoPViDBw/2uPcKAAAAzddowUpPT9c777zj670AAABcEhq9RHj11Vfr17/%2BtfLy8vT9739frVq18phfvHixTzYHAAAQiBotWPv379e1114rSXI6nT7dEAAAQKDzKFi5ublasmSJXnnlFffYiy%2B%2BqGJKvuMAAB4dSURBVClTpvh8YwAAAIHK4x6s995777wH5OXleXUDK1as0M0336zrrrtO48aN05dffilJ2rlzp7KystSnTx8NHTpUGzZs8Hhefn6%2BhgwZoj59%2Big7O1vFxcXuudraWv3qV7/SgAEDlJ6erpycHI8zcaWlpXrwwQeVnp6uQYMGaeHChWpoaHDPN7U2AACAGY%2BC1dhPDnrzpwlfe%2B01bdiwQfn5%2Bfrggw/UrVs3/f73v1dZWZkmT56ssWPHaufOnZo9e7bmzJkju90u6ZsiuGzZMj377LPasWOHBg0apEmTJrl/jc%2BSJUvkcDhks9m0efNmGYahWbNmudedOnWq4uPjVVRUpDVr1qioqEgvv/yyJDW5NgAAQFM8CtbZX%2Bzc1JhVVq9erdzcXF177bWKiIjQ448/rscff1wbN25UQkKCsrKyFBYWpn79%2BikzM1MFBQWSJJvNppEjRyotLU1t2rTRhAkTJElbt25VXV2dCgsLNXnyZF199dWKjo7WtGnTtG3bNh07dkx2u1379u3TjBkz1K5dOyUkJGjcuHGy2WyS1OTaAAAATWn0bRp84dixY/ryyy918uRJ3XHHHe5LeSdOnJDD4VBSUpLH45OSktyXAc%2BdDw4OVmJioux2uw4dOqSKigolJye757t27ao2bdrI4XDI4XCoY8eOioqKcs8nJyfrwIEDqqysbHJtAACApjT6U4S%2BcPToUUnf/ALpNWvWyDAM5eTk6PHHH1dNTY3i4%2BM9Hh8dHe2%2Bj8rlcnkUJEmKioqS0%2BmUy%2BWSJEVGRnrMR0ZGuufPnTt7rLPzZms3R1lZmcrLyz3GQkPbKi4urtnH8KaQkGCPj/BEPubIxxz5mAv0fEJDvbvvQM/H2wIpH4%2BCdebMGU2fPl1NjVnxPlhn7%2B2aMGGCu9BMnTpVDzzwgPr169fs51/IvLffpd5ms2n58uUeY1OmTFFOTo5X1/2uIiOv8PcWWjTyMUc%2B5sjHXKDmExMT7pN1AjUfXwmEfDwK1vXXX6%2BysjI1NWaFDh06SPI809SxY0cZhqEzZ864z0Sd5XQ6FRsbK0mKiYk5b97lcql79%2B7ux7hcLoWH/98XwsmTJ9W%2BfXvV19c3%2BtygoCDFxsY2euz/XLs5xowZo8zMTI%2Bx0NC2cjqrmn0MbwoJCVZk5BU6dapa9fUNTT/hMkM%2B5sjHHPmYC/R8vP19PNDz8bYLycdXpfhcHgXrP9//ytuuuuoqRUREaO/eve77pUpLS9WqVStlZGRo/fr1Ho8vLi5WWlqaJCklJUUOh0N33323JKm%2Bvl579uxRVlaWOnXqpKioKPe9VpL02Wef6fTp00pJSVFZWZmOHDmiEydOuEuT3W5Xt27dFB4ertTUVK1du/Zb126OuLi48y4HlpdXqK6uZX2x1Nc3tLg9tSTkY458zJGPuUDNx1d7DtR8fCUQ8vHbRczQ0FBlZWVp5cqV%2BuKLL3T8%2BHG9%2BOKLGjZsmO6%2B%2B26VlpaqoKBAtbW12r59u7Zv367Ro0dLkrKzs7Vu3Trt2rVL1dXVWrFihVq3bq2BAwcqJCREo0eP1sqVK3XkyBE5nU4999xzuvXWW9WhQwclJSUpNTVVixcvVmVlpUpKSrRmzRplZ2dLkoYNG2a6NgAAQFP8dpO7JE2fPl2nT5/WqFGjdObMGQ0ZMkSPP/64wsPDtWrVKs2fP19PPPGEOnbsqIULF%2BoHP/iBJGnAgAF65JFHNG3aNB0/flypqanKy8tTmzZtJEk5OTmqqqrSiBEjVFdXp0GDBmnevHnudV944QXNmTNH/fv3V0REhMaOHat7771XktS%2BfXvTtQEAAJoSZHj7jm9I%2BuYSYUsRGhqsmJhwOZ1VLf4Uqz%2BQjznyMUc%2B5s7N58dLP/T3lr6Td6b19%2Brxef2Yu5B8rryynZd31biW/3OOAAAAAYaCBQAAYDEKFgAAgMUoWAAAABajYAEAAFiMggUAAGAxChYAAIDFKFgAAAAWo2ABAABYjIIFAABgMQoWAACAxShYAAAAFqNgAQAAWIyCBQAAYDEKFgAAgMUoWAAAABajYAEAAFiMggUAAGAxChYAAIDFKFgAAAAWo2ABAABYjIIFAABgMQoWAACAxShYAAAAFqNgAQAAWIyCBQAAYDEKFgAAgMUoWAAAABajYAEAAFiMggUAAGAxChYAAIDFWkTBeuqpp9SzZ0/3n3fu3KmsrCz16dNHQ4cO1YYNGzwen5%2BfryFDhqhPnz7Kzs5WcXGxe662tla/%2BtWvNGDAAKWnpysnJ0dOp9M9X1paqgcffFDp6ekaNGiQFi5cqIaGhmavDQAA0BS/F6y9e/dq/fr17j%2BXlZVp8uTJGjt2rHbu3KnZs2drzpw5stvtkqT33ntPy5Yt07PPPqsdO3Zo0KBBmjRpkr7%2B%2BmtJ0pIlS%2BRwOGSz2bR582YZhqFZs2a5jz916lTFx8erqKhIa9asUVFRkV5%2B%2BeVmrQ0AANAcfi1YDQ0Nmjt3rsaNG%2Bce27hxoxISEpSVlaWwsDD169dPmZmZKigokCTZbDaNHDlSaWlpatOmjSZMmCBJ2rp1q%2Brq6lRYWKjJkyfr6quvVnR0tKZNm6Zt27bp2LFjstvt2rdvn2bMmKF27dopISFB48aNk81ma9baAAAAzRHqz8XfeOMNhYWFadiwYVq6dKkkyeFwKCkpyeNxSUlJeuedd9zzd9xxh3suODhYiYmJstvtSkxMVEVFhZKTk93zXbt2VZs2beRwOFRWVqaOHTsqKirKPZ%2BcnKwDBw6osrKyybWbq6ysTOXl5R5joaFtFRcX952O4y0hIcEeH%2BGJfMyRjznyMRfo%2BYSGenffgZ6PtwVSPn4rWF999ZWWLVumV155xWPc5XIpPj7eYyw6Otp9H5XL5fIoSJIUFRUlp9Mpl8slSYqMjPSYj4yMdM%2BfO3f2WGfnzdZuLpvNpuXLl3uMTZkyRTk5Od/pON4WGXmFv7fQopGPOfIxRz7mAjWfmJhwn6wTqPn4SiDk47eCtWDBAo0cOVLdunXTl19%2B%2BZ2eaxjGBc839VwrjBkzRpmZmR5joaFt5XRWeX3t5ggJCVZk5BU6dapa9fUNTT/hMkM%2B5sjHHPmYC/R8vP19PNDz8bYLycdXpfhcfilYO3fu1D//%2BU9t2rTpvLmYmBj3maiznE6nYmNjv3Xe5XKpe/fu7se4XC6Fh/9foCdPnlT79u1VX1/f6HODgoIUGxvb5NrNFRcXd97lwPLyCtXVtawvlvr6hha3p5aEfMyRjznyMReo%2Bfhqz4Gaj68EQj5%2BuYi5YcMGHT9%2BXIMGDVJ6erpGjhwpSUpPT1ePHj083nZBkoqLi5WWliZJSklJkcPhcM/V19drz549SktLU6dOnRQVFeUx/9lnn%2Bn06dNKSUlRSkqKjhw5ohMnTrjn7Xa7unXrpvDwcKWmppquDQAA0Bx%2BKViPPvqoNm/erPXr12v9%2BvXKy8uTJK1fv17Dhg1TaWmpCgoKVFtbq%2B3bt2v79u0aPXq0JCk7O1vr1q3Trl27VF1drRUrVqh169YaOHCgQkJCNHr0aK1cuVJHjhyR0%2BnUc889p1tvvVUdOnRQUlKSUlNTtXjxYlVWVqqkpERr1qxRdna2JDW5NgAAQHP45RJhVFSUx43qdXV1kqSrrrpKkrRq1SrNnz9fTzzxhDp27KiFCxfqBz/4gSRpwIABeuSRRzRt2jQdP35cqampysvLU5s2bSRJOTk5qqqq0ogRI1RXV6dBgwZp3rx57rVeeOEFzZkzR/3791dERITGjh2re%2B%2B9V5LUvn1707UBAACaI8jwxV3fUHl5hb%2B34BYaGqyYmHA5nVUt/hq2P5CPOfIxRz7mzs3nx0s/9PeWvpN3pvX36vF5/Zi7kHyuvLKdl3fVuJb/RhIAAAABhoIFAABgMQoWAACAxShYAAAAFqNgAQAAWIyCBQAAYDEKFgAAgMUoWAAAABajYAEAAFiMggUAAGAxChYAAIDFKFgAAAAWo2ABAABYjIIFAABgMQoWAACAxShYAAAAFqNgAQAAWIyCBQAAYDEKFgAAgMUoWAAAABajYAEAAFiMggUAAGAxChYAAIDFKFgAAAAWo2ABAABYjIIFAABgMQoWAACAxShYAAAAFqNgAQAAWIyCBQAAYDEKFgAAgMX8WrBKS0s1ZcoUpaenq1%2B/fnr00Ud16tQpSdLevXt133336frrr9dtt92m1atXezz37bff1rBhw9S7d2%2BNHDlSH3zwgXuuoaFBS5Ys0eDBg9W3b1%2BNHz9ehw8fds%2B7XC5NmzZN/fr1080336zZs2erpqbGPd/U2gAAAGb8WrAmTZqkyMhIvffee3rzzTf1r3/9S88884xqamo0ceJE/fCHP9T777%2BvJUuWaNWqVdqyZYukbwrQzJkzNWPGDH300UcaN26cHn74YR09elSS9Nprr2njxo3Ky8vT1q1blZCQoClTpsgwDEnSnDlzVF1drU2bNmnt2rUqKSnRokWLJKnJtQEAAJrit4J16tQppaSkaPr06QoPD9dVV12lu%2B%2B%2BWx9//LG2bdumM2fO6KGHHlLbtm2VnJysUaNGyWazSZIKCgqUkZGhjIwMhYWFafjw4erRo4c2bNggSbLZbBo3bpy6du2qiIgI5ebmqqSkRLt379ZXX32loqIi5ebmKjY2VvHx8Zo8ebLWrl2rM2fONLk2AABAU0L9tXBkZKQWLFjgMXbkyBHFxcXJ4XCoZ8%2BeCgkJcc8lJSWpoKBAkuRwOJSRkeHx3KSkJNntdtXU1Gj//v1KSkpyz0VERKhz586y2%2B2qqKhQSEiIevbs6Z5PTk7W119/rc8//7zJtZujrKxM5eXlHmOhoW0VFxfX7GN4U0hIsMdHeCIfc%2BRjjnzMBXo%2BoaHe3Xeg5%2BNtgZSP3wrWuex2u1599VWtWLFC77zzjiIjIz3mo6Oj5XK51NDQIJfLpaioKI/5qKgo7d%2B/XydPnpRhGI3OO51ORUdHKyIiQkFBQR5zkuR0OuVyuUzXDg5u%2Bj%2BqzWbT8uXLPcamTJminJycpoPwocjIK/y9hRaNfMyRjznyMReo%2BcTEhPtknUDNx1cCIZ8WUbD%2B/ve/66GHHtL06dPVr18/vfPOO40%2B7j9L0dn7qb6N2XxTz21q7aaMGTNGmZmZHmOhoW3ldFZ953W9ISQkWJGRV%2BjUqWrV1zf4ezstDvmYIx9z5GMu0PPx9vfxQM/H2y4kH1%2BV4nP5vWC99957%2BsUvfqE5c%2BborrvukiTFxsbq4MGDHo9zuVyKjo5WcHCwYmJi5HK5zpuPjY11P6ax%2Bfbt2ys2NlaVlZWqr693XwY8%2B9iz82ZrN0dcXNx5lwPLyytUV9eyvljq6xta3J5aEvIxRz7myMdcoObjqz0Haj6%2BEgj5%2BPUi5j/%2B8Q/NnDlTzz//vLtcSVJKSoo%2B/fRT1dXVucfsdrvS0tLc88XFxR7HOjsfFham7t27y%2BFwuOdOnTqlQ4cOqVevXkpMTJRhGNq3b5/HcyMjI9WlS5cm1wYAAGiK3wpWXV2dHn/8cc2YMUM333yzx1xGRoYiIiK0YsUKVVdXa/fu3SosLFR2drYkafTo0dqxY4e2bdum2tpaFRYW6uDBgxo%2BfLgkKTs7W/n5%2BSopKVFlZaUWLVqkxMREpaamKjY2VkOGDNHSpUt14sQJHT16VC%2B%2B%2BKKysrIUGhra5NoAAABNCTIu5IYkC3z88cf6r//6L7Vu3fq8uT/96U%2BqqqrS3LlzVVxcrA4dOuiBBx7Qvffe637Mli1btHjxYpWWlqpbt26aPXu2%2BvbtK%2Bmbe6yWLVumN954Q1VVVUpPT9eTTz6pq666SpJUUVGhuXPnauvWrWrVqpXuvPNOPfroo%2B69fPbZZ6ZrX4jy8oqLer6VQkODFRMTLqezqsWfYvUH8jFHPubIx9y5%2Bfx46Yf%2B3tJ38s60/l49Pq8fcxeSz5VXtvPyrhrnt4J1uaFgBQ7yMUc%2B5sjHHAXLHK8fc4FUsFr%2BG0kAAAAEGAoWAACAxShYAAAAFqNgAQAAWIyCBQAAYDEKFgAAgMUoWAAAABajYAEAAFiMggUAAGAxChYAAIDFKFgAAAAWo2ABAABYjIIFAABgMQoWAACAxShYAAAAFqNgAQAAWIyCBQAAYDEKFgAAgMUoWAAAABajYAEAAFiMggUAAGAxChYAAIDFKFgAAAAWo2ABAABYjIIFAABgMQoWAACAxShYAAAAFqNgAQAAWIyCBQAAYDEKFgAAgMUoWAAAABajYDWitLRUDz74oNLT0zVo0CAtXLhQDQ0N/t4WAAAIEKH%2B3kBLNHXqVCUnJ6uoqEjHjx/XxIkT1aFDB/3sZz/z99YAAEAA4AzWOex2u/bt26cZM2aoXbt2SkhI0Lhx42Sz2fy9NQAAECA4g3UOh8Ohjh07Kioqyj2WnJysAwcOqLKyUhEREU0eo6ysTOXl5R5joaFtFRcXZ/l%2BL0RISLDHR3giH3PkY458zAV6PqGh3t13oOfjbYGUDwXrHC6XS5GRkR5jZ8uW0%2BlsVsGy2Wxavny5x9jDDz%2BsqVOnWrfRi1BWVqaXX/6txowZ02JKX0tCPubIxxz5mDs3n49/fbu/t9Si8PoxF0j5tPwK6AeGYVzU88eMGaM333zT458xY8ZYtLuLV15eruXLl593lg3fIB9z5GOOfMyRjznyMRdI%2BXAG6xyxsbFyuVweYy6XS0FBQYqNjW3WMeLi4lp8swYAAN7DGaxzpKSk6MiRIzpx4oR7zG63q1u3bgoPD/fjzgAAQKCgYJ0jKSlJqampWrx4sSorK1VSUqI1a9YoOzvb31sDAAABImTevHnz/L2JluZHP/qRNm3apP/%2B7//WW2%2B9paysLI0fP15BQUH%2B3pplwsPDdeONN3JW7luQjznyMUc%2B5sjHHPmYC5R8goyLvaMbAAAAHrhECAAAYDEKFgAAgMUoWAAAABajYAEAAFiMggUAAGAxChYAAIDFKFgAAAAWo2ABAABYjIIFAABgMQrWJc5ut%2BvWW2/V6NGjz5v761//qjFjxqhPnz7KzMzUb37zG4/5t99%2BW8OGDVPv3r01cuRIffDBB77ats%2BY5WMYhn73u98pJSVFf/jDHzzmGhoatGTJEg0ePFh9%2B/bV%2BPHjdfjwYV9t22fM8tm5c6eysrLUp08fDR06VBs2bPCYz8/P15AhQ9SnTx9lZ2eruLjYV9v2iy%2B%2B%2BEKTJk1Senq60tPT9cwzz6ihocE931Rel7rDhw975DNp0iQdOnTIPb93717dd999uv7663Xbbbdp9erVftytb5WWlio1NfW8f3r27KnS0lJJl3c%2BZxUUFCgzM1NpaWkaPXq09uzZ455rkfkYuGStX7/eyMjIMMaPH2%2BMGjXKY660tNS47rrrjNdff904ffq0sXv3buP666831q1bZxiGYezZs8dISUkxtm3bZtTU1Bjr16830tLSjCNHjvjjU/EKs3wMwzAeeOABY8KECcZNN91kvP766x5z%2Bfn5xqBBg4z9%2B/cbFRUVxpNPPmkMGzbMaGho8NX2vc4sn2PHjhnXXXedUVBQYNTU1Bgffvih0atXL%2BOTTz4xDMMw3n33XeOGG24wdu3aZVRXVxurVq0y%2Bvfvb1RVVfnjU/G6M2fOGEOGDDF%2B%2BctfGqdOnTJKS0uNu%2B%2B%2B23jppZcMw2g6r8vBPffcY/zyl780KisrjcrKSuOXv/ylMXLkSMMwDKO6utr40Y9%2BZCxbtsyoqqoyiouLjRtvvNHYvHmzn3ftPxs2bDBGjRplNDQ0kI9hGFu3bjX69%2B9v7N6926iqqjJ%2B85vfGFOmTDEMo%2BW%2BfjiDdQmrra2VzWZTWlraeXNfffWVsrKylJ2drVatWqlXr17q16%2BfPv74Y0nf/E0hIyNDGRkZCgsL0/Dhw9WjR49L6m/dZvlI0nXXXae8vDy1adPmvDmbzaZx48apa9euioiIUG5urkpKSrR7925vb9tnzPLZuHGjEhISlJWVpbCwMPXr10%2BZmZkqKCiQ9E0%2BI0eOVFpamtq0aaMJEyZIkrZu3erTz8FXDhw4oAMHDig3N1ft2rXTNddco//3//6fO4%2Bm8rrUGYahvXv36o477lB4eLjCw8M1dOhQ7du3T4ZhaNu2bTpz5oweeughtW3bVsnJyRo1apRsNpu/t%2B4XlZWVWrhwoR5//HEFBQWRj6Tf/e53Gj9%2BvHr16qW2bdvqoYce0vLlyyWpxeZDwbqEjRo1SvHx8Y3O9erVS7Nnz/YYO3LkiPvxDodDSUlJHvNJSUmy2%2B3e2awfmOUjSZMnT1ZQUNB54zU1Ndq/f79HPhEREercufNlk8%2B3vT7OXgY8dz44OFiJiYmXVD6N%2Bc/XS2RkpL744gtVV1c3mdelLigoSAMGDNCbb76pkydP6tSpU9q0aZMyMjIUFBQkh8Ohnj17KiQkxP2cyymfc61evVq9e/dWr169JOmyz6e%2Bvl67du1ScHCwRo4cqRtuuEE///nP3bdltNR8KFiQJL3yyis6dOiQxo4dK0lyuVyKioryeExUVJScTqc/tteinDx5UoZhXNb5uFwuRUZGeoxFR0e7P//L7fXTpUsXJSQk6LnnnlNlZaXKysq0evVqGYahU6dONZnX5WDBggU6dOiQbrzxRvXt21f79u3Tk08%2BKenbX08ul8vjPrbLQWVlpV577TVNmjTJPXa55%2BN0OnX69GmtX79eixcv1v/%2B7/8qLCxMOTk5MgyjxeZDwQpg69evV8%2BePRv9580332z2cV599VU9//zz%2Bs1vfqMOHTq4xw3D8Ma2fcaqfL4N%2BZgL9HzOZZbXhg0btHz5ch05ckQZGRkaP368hgwZIkkef6u%2BlDX1esrNzVXXrl21c%2BdOffTRR%2Brdu7cefPBB0/8BNnYGOVA19%2Btt3bp16t69uxITE5s85uWWz7333qsuXbooJiZGv/jFL7Rnzx4dPHjwW4/p73xC/bo6LsqIESM0YsSIizrGkiVLtHbtWuXn53tcwoiJiZHL5fJ4rMvlUmxs7EWt50tW5NOY6OhoBQcHN5pP%2B/btLV/PWy4mn8ZeH06n0/36%2BLbXT/fu3S9ssy1Ac/LKz893/3txcbFat26tmJiYJvO6FJjls3//fs2aNUt//vOf3Z/zjBkzdMMNN2jv3r2KjY0973%2BULpfL/bV2KWju19uf/vQnZWZmeoxd7vnU19dr6dKlHmepvve970n65n7ilprPpfFfBhdkzZo12rRpk2w223n3h6SkpJx3/dput3/rDeGXk7CwMHXv3l0Oh8M9durUKR06dMh9z8SlLjU19bzXR3Fxsfv1kZKS4pFPfX299uzZc0m/ft566y0dO3bM/ecPP/xQvXr1UkhISJN5Xerq6%2BslyeNs1enTp93/npKSok8//VR1dXXuscvx%2B43T6dTf//539e/f32P8cs8nJCRECQkJ2rt3r3vsyy%2B/lCRdc801LTYfCtZl6vDhw3rhhRe0YsUKdezY8bz50aNHa8eOHdq2bZtqa2tVWFiogwcPavjw4X7YbcuTnZ2t/Px8lZSUqLKyUosWLVJiYqJSU1P9vTWfGDZsmEpLS1VQUKDa2lpt375d27dvd79fVnZ2ttatW6ddu3apurpaK1asUOvWrTVw4ED/btyL3njjDT377LOqra2Vw%2BHQ6tWr9bOf/UxS03ld6q699lolJCTo%2BeefV0VFhSorK/XCCy%2Boc%2BfO6t69uzIyMhQREaEVK1aourpau3fvVmFhobKzs/29dZ/69NNP1dDQ4D47cxb5SGPHjtXrr78uu92uyspKLVmyROnp6erYsWOLzSfIuNRulIDbkCFD9O9//1v19fVqaGhQq1atJH1zCnrdunVatmyZe%2Bysa665Rps3b5YkbdmyRYsXL1Zpaam6deum2bNnq2/fvj7/PLzFLJ9///vf%2BvnPfy7pm79ph4aGKjg4WH379nXfvLxs2TK98cYbqqqqUnp6up588kldddVV/vyULGWWT8eOHfW3v/1N8%2BfPV0lJiTp27Kjp06frtttucz//9ddfV15eno4fP67U1FTNmzdPPXr08Nen43WHDx/WrFmzVFxcrJiYGD344IMe3%2BCbyutS98UXX2jBggXatWuXDMNQr169NGvWLF177bWSpM8%2B%2B0xz585VcXGxOnTooAceeED33nuvn3ftW5s2bdKcOXP0z3/%2B87y5yz2fs99zbTabKisrddNNN2n%2B/Pnu%2B4ZbYj4ULAAAAItxiRAAAMBiFCwAAACLUbAAAAAsRsECAACwGAULAADAYhQsAAAAi1GwAAAALEbBAgAAsBgFCwAAwGIULAAAAItRsAAAACxGwQIAALAYBQsAAMBi/x9L0nfsOxm3rQAAAABJRU5ErkJggg%3D%3D\"/>\n",
              "        </div>\n",
              "        <div role=\"tabpanel\" class=\"tab-pane col-md-12\" id=\"common-5896966580540658807\">\n",
              "            \n",
              "<table class=\"freq table table-hover\">\n",
              "    <thead>\n",
              "    <tr>\n",
              "        <td class=\"fillremaining\">Value</td>\n",
              "        <td class=\"number\">Count</td>\n",
              "        <td class=\"number\">Frequency (%)</td>\n",
              "        <td style=\"min-width:200px\">&nbsp;</td>\n",
              "    </tr>\n",
              "    </thead>\n",
              "    <tr class=\"\">\n",
              "        <td class=\"fillremaining\">-73.9822006225586</td>\n",
              "        <td class=\"number\">633</td>\n",
              "        <td class=\"number\">0.0%</td>\n",
              "        <td>\n",
              "            <div class=\"bar\" style=\"width:1%\">&nbsp;</div>\n",
              "        </td>\n",
              "</tr><tr class=\"\">\n",
              "        <td class=\"fillremaining\">-73.98213958740234</td>\n",
              "        <td class=\"number\">607</td>\n",
              "        <td class=\"number\">0.0%</td>\n",
              "        <td>\n",
              "            <div class=\"bar\" style=\"width:1%\">&nbsp;</div>\n",
              "        </td>\n",
              "</tr><tr class=\"\">\n",
              "        <td class=\"fillremaining\">-73.9821014404297</td>\n",
              "        <td class=\"number\">587</td>\n",
              "        <td class=\"number\">0.0%</td>\n",
              "        <td>\n",
              "            <div class=\"bar\" style=\"width:1%\">&nbsp;</div>\n",
              "        </td>\n",
              "</tr><tr class=\"\">\n",
              "        <td class=\"fillremaining\">-73.98211669921875</td>\n",
              "        <td class=\"number\">585</td>\n",
              "        <td class=\"number\">0.0%</td>\n",
              "        <td>\n",
              "            <div class=\"bar\" style=\"width:1%\">&nbsp;</div>\n",
              "        </td>\n",
              "</tr><tr class=\"\">\n",
              "        <td class=\"fillremaining\">-73.98222351074219</td>\n",
              "        <td class=\"number\">584</td>\n",
              "        <td class=\"number\">0.0%</td>\n",
              "        <td>\n",
              "            <div class=\"bar\" style=\"width:1%\">&nbsp;</div>\n",
              "        </td>\n",
              "</tr><tr class=\"\">\n",
              "        <td class=\"fillremaining\">-73.98209381103516</td>\n",
              "        <td class=\"number\">575</td>\n",
              "        <td class=\"number\">0.0%</td>\n",
              "        <td>\n",
              "            <div class=\"bar\" style=\"width:1%\">&nbsp;</div>\n",
              "        </td>\n",
              "</tr><tr class=\"\">\n",
              "        <td class=\"fillremaining\">-73.98224639892578</td>\n",
              "        <td class=\"number\">558</td>\n",
              "        <td class=\"number\">0.0%</td>\n",
              "        <td>\n",
              "            <div class=\"bar\" style=\"width:1%\">&nbsp;</div>\n",
              "        </td>\n",
              "</tr><tr class=\"\">\n",
              "        <td class=\"fillremaining\">-73.98220825195312</td>\n",
              "        <td class=\"number\">551</td>\n",
              "        <td class=\"number\">0.0%</td>\n",
              "        <td>\n",
              "            <div class=\"bar\" style=\"width:1%\">&nbsp;</div>\n",
              "        </td>\n",
              "</tr><tr class=\"\">\n",
              "        <td class=\"fillremaining\">-73.98230743408203</td>\n",
              "        <td class=\"number\">546</td>\n",
              "        <td class=\"number\">0.0%</td>\n",
              "        <td>\n",
              "            <div class=\"bar\" style=\"width:1%\">&nbsp;</div>\n",
              "        </td>\n",
              "</tr><tr class=\"\">\n",
              "        <td class=\"fillremaining\">-73.982177734375</td>\n",
              "        <td class=\"number\">545</td>\n",
              "        <td class=\"number\">0.0%</td>\n",
              "        <td>\n",
              "            <div class=\"bar\" style=\"width:1%\">&nbsp;</div>\n",
              "        </td>\n",
              "</tr><tr class=\"other\">\n",
              "        <td class=\"fillremaining\">Other values (23037)</td>\n",
              "        <td class=\"number\">1452873</td>\n",
              "        <td class=\"number\">99.6%</td>\n",
              "        <td>\n",
              "            <div class=\"bar\" style=\"width:100%\">&nbsp;</div>\n",
              "        </td>\n",
              "</tr>\n",
              "</table>\n",
              "        </div>\n",
              "        <div role=\"tabpanel\" class=\"tab-pane col-md-12\"  id=\"extreme-5896966580540658807\">\n",
              "            <p class=\"h4\">Minimum 5 values</p>\n",
              "            \n",
              "<table class=\"freq table table-hover\">\n",
              "    <thead>\n",
              "    <tr>\n",
              "        <td class=\"fillremaining\">Value</td>\n",
              "        <td class=\"number\">Count</td>\n",
              "        <td class=\"number\">Frequency (%)</td>\n",
              "        <td style=\"min-width:200px\">&nbsp;</td>\n",
              "    </tr>\n",
              "    </thead>\n",
              "    <tr class=\"\">\n",
              "        <td class=\"fillremaining\">-121.93334197998048</td>\n",
              "        <td class=\"number\">1</td>\n",
              "        <td class=\"number\">0.0%</td>\n",
              "        <td>\n",
              "            <div class=\"bar\" style=\"width:100%\">&nbsp;</div>\n",
              "        </td>\n",
              "</tr><tr class=\"\">\n",
              "        <td class=\"fillremaining\">-121.93323516845705</td>\n",
              "        <td class=\"number\">1</td>\n",
              "        <td class=\"number\">0.0%</td>\n",
              "        <td>\n",
              "            <div class=\"bar\" style=\"width:100%\">&nbsp;</div>\n",
              "        </td>\n",
              "</tr><tr class=\"\">\n",
              "        <td class=\"fillremaining\">-79.56973266601562</td>\n",
              "        <td class=\"number\">1</td>\n",
              "        <td class=\"number\">0.0%</td>\n",
              "        <td>\n",
              "            <div class=\"bar\" style=\"width:100%\">&nbsp;</div>\n",
              "        </td>\n",
              "</tr><tr class=\"\">\n",
              "        <td class=\"fillremaining\">-79.48789978027342</td>\n",
              "        <td class=\"number\">1</td>\n",
              "        <td class=\"number\">0.0%</td>\n",
              "        <td>\n",
              "            <div class=\"bar\" style=\"width:100%\">&nbsp;</div>\n",
              "        </td>\n",
              "</tr><tr class=\"\">\n",
              "        <td class=\"fillremaining\">-78.54740142822266</td>\n",
              "        <td class=\"number\">1</td>\n",
              "        <td class=\"number\">0.0%</td>\n",
              "        <td>\n",
              "            <div class=\"bar\" style=\"width:100%\">&nbsp;</div>\n",
              "        </td>\n",
              "</tr>\n",
              "</table>\n",
              "            <p class=\"h4\">Maximum 5 values</p>\n",
              "            \n",
              "<table class=\"freq table table-hover\">\n",
              "    <thead>\n",
              "    <tr>\n",
              "        <td class=\"fillremaining\">Value</td>\n",
              "        <td class=\"number\">Count</td>\n",
              "        <td class=\"number\">Frequency (%)</td>\n",
              "        <td style=\"min-width:200px\">&nbsp;</td>\n",
              "    </tr>\n",
              "    </thead>\n",
              "    <tr class=\"\">\n",
              "        <td class=\"fillremaining\">-68.77843475341797</td>\n",
              "        <td class=\"number\">1</td>\n",
              "        <td class=\"number\">0.0%</td>\n",
              "        <td>\n",
              "            <div class=\"bar\" style=\"width:100%\">&nbsp;</div>\n",
              "        </td>\n",
              "</tr><tr class=\"\">\n",
              "        <td class=\"fillremaining\">-66.97216033935545</td>\n",
              "        <td class=\"number\">1</td>\n",
              "        <td class=\"number\">0.0%</td>\n",
              "        <td>\n",
              "            <div class=\"bar\" style=\"width:100%\">&nbsp;</div>\n",
              "        </td>\n",
              "</tr><tr class=\"\">\n",
              "        <td class=\"fillremaining\">-65.89738464355469</td>\n",
              "        <td class=\"number\">1</td>\n",
              "        <td class=\"number\">0.0%</td>\n",
              "        <td>\n",
              "            <div class=\"bar\" style=\"width:100%\">&nbsp;</div>\n",
              "        </td>\n",
              "</tr><tr class=\"\">\n",
              "        <td class=\"fillremaining\">-65.848388671875</td>\n",
              "        <td class=\"number\">1</td>\n",
              "        <td class=\"number\">0.0%</td>\n",
              "        <td>\n",
              "            <div class=\"bar\" style=\"width:100%\">&nbsp;</div>\n",
              "        </td>\n",
              "</tr><tr class=\"\">\n",
              "        <td class=\"fillremaining\">-61.33552932739258</td>\n",
              "        <td class=\"number\">1</td>\n",
              "        <td class=\"number\">0.0%</td>\n",
              "        <td>\n",
              "            <div class=\"bar\" style=\"width:100%\">&nbsp;</div>\n",
              "        </td>\n",
              "</tr>\n",
              "</table>\n",
              "        </div>\n",
              "    </div>\n",
              "</div>\n",
              "</div><div class=\"row variablerow\">\n",
              "    <div class=\"col-md-3 namecol\">\n",
              "        <p class=\"h4 pp-anchor\" id=\"pp_var_pickup_latitude\">pickup_latitude<br/>\n",
              "            <small>Numeric</small>\n",
              "        </p>\n",
              "    </div><div class=\"col-md-6\">\n",
              "    <div class=\"row\">\n",
              "        <div class=\"col-sm-6\">\n",
              "            <table class=\"stats \">\n",
              "                <tr>\n",
              "                    <th>Distinct count</th>\n",
              "                    <td>45245</td>\n",
              "                </tr>\n",
              "                <tr>\n",
              "                    <th>Unique (%)</th>\n",
              "                    <td>3.1%</td>\n",
              "                </tr>\n",
              "                <tr class=\"ignore\">\n",
              "                    <th>Missing (%)</th>\n",
              "                    <td>0.0%</td>\n",
              "                </tr>\n",
              "                <tr class=\"ignore\">\n",
              "                    <th>Missing (n)</th>\n",
              "                    <td>0</td>\n",
              "                </tr>\n",
              "                <tr class=\"ignore\">\n",
              "                    <th>Infinite (%)</th>\n",
              "                    <td>0.0%</td>\n",
              "                </tr>\n",
              "                <tr class=\"ignore\">\n",
              "                    <th>Infinite (n)</th>\n",
              "                    <td>0</td>\n",
              "                </tr>\n",
              "            </table>\n",
              "\n",
              "        </div>\n",
              "        <div class=\"col-sm-6\">\n",
              "            <table class=\"stats \">\n",
              "\n",
              "                <tr>\n",
              "                    <th>Mean</th>\n",
              "                    <td>40.751</td>\n",
              "                </tr>\n",
              "                <tr>\n",
              "                    <th>Minimum</th>\n",
              "                    <td>34.36</td>\n",
              "                </tr>\n",
              "                <tr>\n",
              "                    <th>Maximum</th>\n",
              "                    <td>51.881</td>\n",
              "                </tr>\n",
              "                <tr class=\"ignore\">\n",
              "                    <th>Zeros (%)</th>\n",
              "                    <td>0.0%</td>\n",
              "                </tr>\n",
              "            </table>\n",
              "        </div>\n",
              "    </div>\n",
              "</div>\n",
              "<div class=\"col-md-3 collapse in\" id=\"minihistogram6763651847428324973\">\n",
              "    <img src=\"data:image/png;base64,iVBORw0KGgoAAAANSUhEUgAAAMgAAABLCAYAAAA1fMjoAAAABHNCSVQICAgIfAhkiAAAAAlwSFlzAAAPYQAAD2EBqD%2BnaQAAADh0RVh0U29mdHdhcmUAbWF0cGxvdGxpYiB2ZXJzaW9uMy4xLjEsIGh0dHA6Ly9tYXRwbG90bGliLm9yZy8QZhcZAAAA/UlEQVR4nO3VsQ0CUQwFQQ5REkXQE/H1RBH0ZBpAKxHAP6SZ2MFLVt5mZk7AW%2BfVA%2BDILqsH/JPr/fHR/XO/fWkJv%2BKDQBAIBIFAEAgEgUAQCASBQBAIBIFAEAgEgUAQCASBQBAIBIFAEAgEgUAQCASBQBAIBIFAEAgEgUAQCASBQBAIBIFAEAgEgUAQCASBQBAIBIFAEAgEgUAQCASBQBAIBIFAEAgEgUAQCASBQBAIBIFAEAiEbWZm9Qg4Kh8EgkAgCASCQCAIBIJAIAgEgkAgCASCQCAIBIJAIAgEgkAgCASCQCAIBIJAIAgEgkAgCASCQCAIBIJAIAgEwgsMcAuP/THdGwAAAABJRU5ErkJggg%3D%3D\">\n",
              "\n",
              "</div>\n",
              "<div class=\"col-md-12 text-right\">\n",
              "    <a role=\"button\" data-toggle=\"collapse\" data-target=\"#descriptives6763651847428324973,#minihistogram6763651847428324973\"\n",
              "       aria-expanded=\"false\" aria-controls=\"collapseExample\">\n",
              "        Toggle details\n",
              "    </a>\n",
              "</div>\n",
              "<div class=\"row collapse col-md-12\" id=\"descriptives6763651847428324973\">\n",
              "    <ul class=\"nav nav-tabs\" role=\"tablist\">\n",
              "        <li role=\"presentation\" class=\"active\"><a href=\"#quantiles6763651847428324973\"\n",
              "                                                  aria-controls=\"quantiles6763651847428324973\" role=\"tab\"\n",
              "                                                  data-toggle=\"tab\">Statistics</a></li>\n",
              "        <li role=\"presentation\"><a href=\"#histogram6763651847428324973\" aria-controls=\"histogram6763651847428324973\"\n",
              "                                   role=\"tab\" data-toggle=\"tab\">Histogram</a></li>\n",
              "        <li role=\"presentation\"><a href=\"#common6763651847428324973\" aria-controls=\"common6763651847428324973\"\n",
              "                                   role=\"tab\" data-toggle=\"tab\">Common Values</a></li>\n",
              "        <li role=\"presentation\"><a href=\"#extreme6763651847428324973\" aria-controls=\"extreme6763651847428324973\"\n",
              "                                   role=\"tab\" data-toggle=\"tab\">Extreme Values</a></li>\n",
              "\n",
              "    </ul>\n",
              "\n",
              "    <div class=\"tab-content\">\n",
              "        <div role=\"tabpanel\" class=\"tab-pane active row\" id=\"quantiles6763651847428324973\">\n",
              "            <div class=\"col-md-4 col-md-offset-1\">\n",
              "                <p class=\"h4\">Quantile statistics</p>\n",
              "                <table class=\"stats indent\">\n",
              "                    <tr>\n",
              "                        <th>Minimum</th>\n",
              "                        <td>34.36</td>\n",
              "                    </tr>\n",
              "                    <tr>\n",
              "                        <th>5-th percentile</th>\n",
              "                        <td>40.708</td>\n",
              "                    </tr>\n",
              "                    <tr>\n",
              "                        <th>Q1</th>\n",
              "                        <td>40.737</td>\n",
              "                    </tr>\n",
              "                    <tr>\n",
              "                        <th>Median</th>\n",
              "                        <td>40.754</td>\n",
              "                    </tr>\n",
              "                    <tr>\n",
              "                        <th>Q3</th>\n",
              "                        <td>40.768</td>\n",
              "                    </tr>\n",
              "                    <tr>\n",
              "                        <th>95-th percentile</th>\n",
              "                        <td>40.788</td>\n",
              "                    </tr>\n",
              "                    <tr>\n",
              "                        <th>Maximum</th>\n",
              "                        <td>51.881</td>\n",
              "                    </tr>\n",
              "                    <tr>\n",
              "                        <th>Range</th>\n",
              "                        <td>17.521</td>\n",
              "                    </tr>\n",
              "                    <tr>\n",
              "                        <th>Interquartile range</th>\n",
              "                        <td>0.031013</td>\n",
              "                    </tr>\n",
              "                </table>\n",
              "            </div>\n",
              "            <div class=\"col-md-4 col-md-offset-2\">\n",
              "                <p class=\"h4\">Descriptive statistics</p>\n",
              "                <table class=\"stats indent\">\n",
              "                    <tr>\n",
              "                        <th>Standard deviation</th>\n",
              "                        <td>0.032881</td>\n",
              "                    </tr>\n",
              "                    <tr>\n",
              "                        <th>Coef of variation</th>\n",
              "                        <td>0.00080688</td>\n",
              "                    </tr>\n",
              "                    <tr>\n",
              "                        <th>Kurtosis</th>\n",
              "                        <td>12950</td>\n",
              "                    </tr>\n",
              "                    <tr>\n",
              "                        <th>Mean</th>\n",
              "                        <td>40.751</td>\n",
              "                    </tr>\n",
              "                    <tr>\n",
              "                        <th>MAD</th>\n",
              "                        <td>0.02043</td>\n",
              "                    </tr>\n",
              "                    <tr class=\"\">\n",
              "                        <th>Skewness</th>\n",
              "                        <td>5.4891</td>\n",
              "                    </tr>\n",
              "                    <tr>\n",
              "                        <th>Sum</th>\n",
              "                        <td>59441000</td>\n",
              "                    </tr>\n",
              "                    <tr>\n",
              "                        <th>Variance</th>\n",
              "                        <td>0.0010812</td>\n",
              "                    </tr>\n",
              "                    <tr>\n",
              "                        <th>Memory size</th>\n",
              "                        <td>11.1 MiB</td>\n",
              "                    </tr>\n",
              "                </table>\n",
              "            </div>\n",
              "        </div>\n",
              "        <div role=\"tabpanel\" class=\"tab-pane col-md-8 col-md-offset-2\" id=\"histogram6763651847428324973\">\n",
              "            <img src=\"data:image/png;base64,iVBORw0KGgoAAAANSUhEUgAAAlgAAAGQCAYAAAByNR6YAAAABHNCSVQICAgIfAhkiAAAAAlwSFlzAAAPYQAAD2EBqD%2BnaQAAADh0RVh0U29mdHdhcmUAbWF0cGxvdGxpYiB2ZXJzaW9uMy4xLjEsIGh0dHA6Ly9tYXRwbG90bGliLm9yZy8QZhcZAAAgAElEQVR4nO3de1RVdf7/8RcXxQS5aZDj1wnH23DzmlFoIlhZllZGKn2tmMnSJFmQzs/KTG2adFKzSRsvzcrJpr4ROOOtHP1S6ljaNM2UwVErUb8ao0JyjgICCuzfHy3OdOQIVJtzDpznYy0Xy89n7/15v89214uzNwcfwzAMAQAAwDS%2B7i4AAACgvSFgAQAAmIyABQAAYDICFgAAgMkIWAAAACYjYAEAAJiMgAUAAGAyAhYAAIDJCFgAAAAmI2ABAACYjIAFAABgMgIWAACAyQhYAAAAJiNgAQAAmIyABQAAYDICFgAAgMkIWAAAACYjYAEAAJiMgAUAAGAyAhYAAIDJCFgAAAAmI2ABAACYjIAFAABgMgIWAACAyQhYAAAAJiNgAQAAmIyABQAAYDICFgAAgMkIWAAAACYjYAEAAJiMgAUAAGAyAhYAAIDJCFgAAAAmI2ABAACYjIAFAABgMgIWAACAyQhYAAAAJiNgAQAAmIyABQAAYDJ/dxfgLUpLy91dQiO%2Bvj4KDw9UWVml6usNd5fjMvTtXX1L3ts7fdO3t2iq9yuv7OKemtyyKjyCr6%2BPfHx85Ovr4%2B5SXIq%2BvatvyXt7p2/69hae2DsBCwAAwGQELAAAAJMRsAAAAExGwAIAADAZAQsAAMBkBCwAAACTEbAAAABMRsACAAAwGQELAADAZAQsAAAAkxGwAAAATEbAAgAAMBkBCwAAwGT%2B7i4AgDluffFDd5fQYtuyhru7BABoVbyDBQAAYDICFgAAgMkIWAAAACYjYAEAAJiMgAUAAGAyAhYAAIDJCFgAAAAma9WAtWfPHiUmJio7O/uy21RWVmrUqFF6/PHH7WP19fVavny5Ro8erWHDhunBBx/UiRMn7PM2m01ZWVlKTEzUiBEjNHfuXFVXV9vnDx48qClTpmjo0KG6%2Beab9eqrrzqs%2Be6772rcuHEaPHiwJkyYoA8%2B%2BKDFawMAADSn1QLWK6%2B8omeffVZXX311k9utWLFCFRUVDmNvvPGGtmzZorVr12rnzp2KiopSRkaGDMOQJM2bN09VVVXaunWrNmzYoKKiIi1dulSSVF1drWnTpum6667Tnj17tHz5cq1Zs0Y7duyQ9G34mjNnjmbPnq2PPvpI6enpevTRR3Xq1KkWrQ0AANCcVgtYAQEBysvLazJgHTp0SFu3btVdd93lMJ6Tk6P09HT17t1bQUFBys7OVlFRkfbv369vvvlG%2Bfn5ys7OVnh4uCIjIzVjxgxt2LBBFy9e1K5du3Tx4kU98sgj6ty5s2JjY3XPPfcoJydHkpSbm6ukpCQlJSUpICBA48ePV79%2B/bR58%2BZm1wYAAGiJVvtVOffff3%2BT84ZhaMGCBcrOzta///1vlZeXS/r2HajDhw8rJibGvm1QUJCuvvpqFRQUqLy8XH5%2Bfurfv799PjY2VufPn9eRI0dksVjUv39/%2Bfn52edjYmKUm5srSbJYLEpKSnKoJSYmRgUFBc2uPWjQoBb1XlJSotLSUocxf//OioiIaNH%2BruLn5%2Bvw1Vt4a9%2BexN/fta%2B9t55z%2BqZvb%2BGJvbvtdxHm5OTIx8dHEyZM0MqVK%2B3jZ8%2BelWEYCgkJcdg%2BJCREVqtVoaGhCgoKko%2BPj8OcJFmtVtlsNgUHBzvsGxoaKpvNpvr6etlsNqfHPnz4cLNrf5/evtuTJGVkZCgzM7PFx3Cl4OAr3F2CW3hr354gLCzQLet66zmnb%2B/irX1LntW7WwLWmTNn9Lvf/U5//OMfHYLSdzX1zNMPeR7qu%2Bs0t/%2BPfd5q0qRJSklJcRjz9%2B8sq7XyRx3XbH5%2BvgoOvkLnzlWprq7e3eW4jLf27UlcfS146zmnb/r2Fk317q5v6NwSsBYvXqw777zT4TZfg9DQUPn6%2BspmszmM22w2de3aVeHh4aqoqFBdXZ39NmDDtg3zx44da7Rvw3HDwsKcHjs8PLzZtVsqIiKi0e3A0tJy1dZ65j/4urp6j62tNXlr357AXa%2B7t55z%2BvYu3tq35Fm9u%2BVm5ebNm5WXl6eEhAQlJCToD3/4g9555x0lJCQoICBAffv2lcVisW9/7tw5HT9%2BXAMGDFB0dLQMw9ChQ4fs8wUFBQoODlavXr0UFxenL774QrW1tQ7zAwcOlCTFxcWpsLDQoZ6G%2BebWBgAAaAm3BKzdu3dry5Yt2rRpkzZt2qTJkycrJSVFmzZtkiSlpaVp/fr1KioqUkVFhZYuXaro6GjFx8crPDxcY8aM0YsvvqiysjKdOnVKL7/8slJTU%2BXv76%2BkpCQFBQVp1apVqqqq0v79%2B5WXl6e0tDRJ0sSJE7V3717t2rVLNTU1ysvL07FjxzR%2B/Phm1wYAAGiJVrtF2BBIGt5Jys/Pl/Ttu0VXXXWVw7ZBQUG64oor7OOTJ09WaWmp7rvvPlVWViohIcHhofFnnnlG8%2BfP1%2BjRo9WhQwfdfvvt9g8z7dixo1avXq358%2Bdr7dq16tatm7KzszVq1ChJUr9%2B/bR06VItWrRIxcXF6tOnj9asWaMrr7yyRWsDAAA0x8fgEzRdorS03N0lNOLv76uwsEBZrZUec8/aFdpr37e%2B%2BKG7S2ixbVnDXbpeez3nzaFv%2BvYWTfV%2B5ZVd3FKT53xgBAAAQDtBwAIAADAZAQsAAMBkBCwAAACTEbAAAABMRsACAAAwGQELAADAZAQsAAAAkxGwAAAATEbAAgAAMBkBCwAAwGQELAAAAJMRsAAAAExGwAIAADAZAQsAAMBkBCwAAACTEbAAAABMRsACAAAwGQELAADAZAQsAAAAkxGwAAAATEbAAgAAMBkBCwAAwGQELAAAAJMRsAAAAExGwAIAADAZAQsAAMBkBCwAAACTEbAAAABMRsACAAAwGQELAADAZK0asPbs2aPExERlZ2c3mtuxY4fGjx%2BvwYMHa8yYMXr77bcd5tevX68xY8ZoyJAhSktLU2FhoX2upqZGTz/9tEaOHKmEhARlZmbKarXa54uLi/Xwww8rISFBycnJWrJkierr6%2B3z%2B/btU2pqqoYMGaLbbrtNmzdvbvHaAAAAzWm1gPXKK6/o2Wef1dVXX91o7vPPP9fs2bOVmZmpf/zjH3ryySf1zDPP6JNPPpEkvf/%2B%2B1qxYoWef/557d27V8nJyZo%2BfbrOnz8vSVq%2BfLksFotycnK0fft2GYahJ554wn78mTNnKjIyUvn5%2BVq3bp3y8/P12muvSZJKSko0Y8YMTZ48Wfv27dPcuXM1b948FRQUtGhtAACA5rRawAoICFBeXp7TgGWz2TRt2jTdeOON8vf3V1JSkvr162cPWDk5OZowYYIGDhyoTp06aerUqZKknTt3qra2Vnl5eZoxY4a6d%2B%2Bu0NBQZWVladeuXTp9%2BrQKCgp06NAhzZ49W126dFFUVJTS09OVk5MjSdqyZYuioqKUmpqqgIAAJSYmKiUlRbm5uc2uDQAA0BL%2BrXXg%2B%2B%2B//7JzI0eO1MiRI%2B1/r62tVWlpqSIjIyVJFotFY8eOtc/7%2BvoqOjpaBQUFio6OVnl5uWJjY%2B3zvXv3VqdOnWSxWFRSUqIePXooJCTEPh8bG6ujR4%2BqoqJCFotFMTExDvXExMRo27Ztza592223taj3kpISlZaWOoz5%2B3dWREREi/Z3FT8/X4ev3sJb%2B/Yk/v6ufe299ZzTN317C0/svdUC1vexdOlSde7c2R5sbDabQ0CSpJCQEFmtVtlsNklScHCww3xwcLB9/tK5hmM1zDcEuQahoaH2Z7iaWrulcnJytHLlSoexjIwMZWZmtvgYrhQcfIW7S3ALb%2B3bE4SFBbplXW895/TtXby1b8mzendrwDIMQ0uXLtXWrVu1fv16BQQEOMw1t%2B8PmWtpXT/GpEmTlJKS4jDm799ZVmvljzqu2fz8fBUcfIXOnatSXV198zu0E97atydx9bXgreecvunbWzTVu7u%2BoXNbwKqvr9cTTzyhzz//XP/zP/%2Bjnj172ufCwsLs71Q1sNls6tu3r8LDw%2B1/Dwz8z4t29uxZde3aVXV1dU739fHxUXh4uNNjW61W%2B3GbWrulIiIiGt0OLC0tV22tZ/6Dr6ur99jaWpO39u0J3PW6e%2Bs5p2/v4q19S57Vu9tuVj733HP66quvGoUrSYqLi5PFYrH/va6uTgcOHNDAgQPVs2dPhYSEOMx/%2BeWXunDhguLi4hQXF6eTJ0%2BqrKzMPl9QUKA%2BffooMDBQ8fHxjT52obCwUAMHDmx2bQAAgJZwS8D65z//qc2bN2vt2rUKDQ1tNJ%2BWlqaNGzfqs88%2BU1VVlVatWqWOHTtq1KhR8vPz08SJE7V69WqdPHlSVqtVL7zwgm666SZ169ZNMTExio%2BP17Jly1RRUaGioiKtW7dOaWlpkqRx48apuLhYubm5qqmp0e7du7V7925NnDix2bUBAABaotVuEcbHx0v69icEJSk/P1/St%2B8mbdiwQeXl5UpOTnbYZ9iwYXr11Vc1cuRIPfbYY8rKytKZM2cUHx%2BvtWvXqlOnTpKkzMxMVVZW6o477lBtba2Sk5O1YMEC%2B3FeeuklzZs3T8OHD1dQUJAmT56se%2B%2B9V5LUtWtXrVmzRs8%2B%2B6wWLlyoHj16aMmSJfr5z38uSc2uDQAA0Bwf48c%2B0Y0WKS0td3cJjfj7%2ByosLFBWa6XH3LN2hfba960vfujuElpsW9Zwl67XXs95c%2Bibvr1FU71feWUXt9TkOR8YAQAA0E4QsAAAAExGwAIAADAZAQsAAMBkBCwAAACTEbAAAABMRsACAAAwGQELAADAZAQsAAAAkxGwAAAATEbAAgAAMBkBCwAAwGQELAAAAJMRsAAAAExGwAIAADAZAQsAAMBkBCwAAACTEbAAAABMRsACAAAwGQELAADAZAQsAAAAkxGwAAAATEbAAgAAMBkBCwAAwGQELAAAAJMRsAAAAExGwAIAADAZAQsAAMBkBCwAAACTEbAAAABMRsACAAAwWasGrD179igxMVHZ2dmN5t59912NGzdOgwcP1oQJE/TBBx/Y5%2Brr67V8%2BXKNHj1aw4YN04MPPqgTJ07Y5202m7KyspSYmKgRI0Zo7ty5qq6uts8fPHhQU6ZM0dChQ3XzzTfr1VdfNW1tAACA5rRawHrllVf07LPP6uqrr240d/DgQc2ZM0ezZ8/WRx99pPT0dD366KM6deqUJOmNN97Qli1btHbtWu3cuVNRUVHKyMiQYRiSpHnz5qmqqkpbt27Vhg0bVFRUpKVLl0qSqqurNW3aNF133XXas2ePli9frjVr1mjHjh2mrA0AANCcVgtYAQEBysvLcxqwcnNzlZSUpKSkJAUEBGj8%2BPHq16%2BfNm/eLEnKyclRenq6evfuraCgIGVnZ6uoqEj79%2B/XN998o/z8fGVnZys8PFyRkZGaMWOGNmzYoIsXL2rXrl26ePGiHnnkEXXu3FmxsbG65557lJOT86PXBgAAaAn/1jrw/ffff9k5i8WipKQkh7GYmBgVFBSourpahw8fVkxMjH0uKChIV199tQoKClReXi4/Pz/179/fPh8bG6vz58/ryJEjslgs6t%2B/v/z8/ByOnZub%2B6PXHjRoUIt6LykpUWlpqcOYv39nRUREtGh/V/Hz83X46i28tW9P4u/v2tfeW885fdO3t/DE3lstYDXFZrMpJCTEYSwkJESHDx/W2bNnZRiG03mr1arQ0FAFBQXJx8fHYU6SrFarbDabgoODHfYNDQ2VzWZTfX39j1q7pXJycrRy5UqHsYyMDGVmZrb4GK4UHHyFu0twC2/t2xOEhQW6ZV1vPef07V28tW/Js3p3S8CS1OwzTU3N/5Dnob4byH7M2i0xadIkpaSkOIz5%2B3eW1Vr5o45rNj8/XwUHX6Fz56pUV1fv7nJcxlv79iSuvha89ZzTN317i6Z6d9c3dG4JWGFhYbLZbA5jNptN4eHhCg0Nla%2Bvr9P5rl27Kjw8XBUVFaqrq7PfBmzYtmH%2B2LFjjfZtOO6PWbulIiIiGt0OLC0tV22tZ/6Dr6ur99jaWpO39u0J3PW6e%2Bs5p2/v4q19S57Vu1tuVsbFxamwsNBhrKCgQAMHDlRAQID69u0ri8Vinzt37pyOHz%2BuAQMGKDo6WoZh6NChQw77BgcHq1evXoqLi9MXX3yh2traRsf%2BsWsDAAC0hFsC1sSJE7V3717t2rVLNTU1ysvL07FjxzR%2B/HhJUlpamtavX6%2BioiJVVFRo6dKlio6OVnx8vMLDwzVmzBi9%2BOKLKisr06lTp/Tyyy8rNTVV/v7%2BSkpKUlBQkFatWqWqqirt379feXl5SktL%2B9FrAwAAtESr3SJsCCQN7yTl5%2BdL%2Bvbdon79%2Bmnp0qVatGiRiouL1adPH61Zs0ZXXnmlJGny5MkqLS3Vfffdp8rKSiUkJDg8NP7MM89o/vz5Gj16tDp06KDbb7/d/mGmHTt21OrVqzV//nytXbtW3bp1U3Z2tkaNGiVJP3ptAACA5vgYfIKmS5SWlru7hEb8/X0VFhYoq7XSY%2B5Zu0J77fvWFz90dwktti1ruEvXa6/nvDn0Td/eoqner7yyi1tq8pwPjAAAAGgnCFgAAAAmI2ABAACYjIAFAABgMgIWAACAyQhYAAAAJiNgAQAAmIyABQAAYDICFgAAgMmcBqyUlBStXLlSJ0%2BedHU9AAAAbZ7TgHX33Xfr3Xff1Y033qipU6dqx44d9t8pCAAAgKY5DVgZGRl699139fbbb6tv37567rnnlJSUpCVLlujo0aOurhEAAKBNafIZrNjYWM2ZM0c7d%2B7Uk08%2Bqbfffltjx47Vgw8%2BqM8//9xVNQIAALQpTQasixcv6t1339VDDz2kOXPmKDIyUk888YSio6OVnp6uLVu2uKpOAACANsPf2WBRUZHy8vK0ceNGVVZWasyYMXrttdc0dOhQ%2BzbDhg3TggULNG7cOJcVCwAA0BY4DVi33XabevXqpWnTpunOO%2B9UaGhoo22SkpJUVlbW6gUCAAC0NU4D1vr163Xttdc2u/P%2B/ftNLwgAAKCtc/oMVv/%2B/TV9%2BnTl5%2Bfbx/74xz/qoYceks1mc1lxAAAAbZHTgLVo0SKVl5erT58%2B9rFRo0apvr5eixcvdllxAAAAbZHTW4QffPCBtmzZorCwMPtYVFSUli5dqttvv91lxQEAALRFTt/Bqq6uVkBAQOONfX1VVVXV6kUBAAC0ZU4D1rBhw7R48WKdPXvWPnb69GktXLjQ4aMaAAAA0JjTW4RPPvmkfvnLX%2Br6669XUFCQ6uvrVVlZqZ49e%2Br11193dY0AAABtitOA1bNnT73zzjv629/%2BpuPHj8vX11e9evXSiBEj5Ofn5%2BoaAQAA2hSnAUuSOnbsqBtvvNGVtQAAALQLTgPWiRMntGzZMn311Veqrq5uNP/ee%2B%2B1emEAAABt1WWfwSopKdGIESPUuXNnV9cEAADQpjkNWIWFhXrvvfcUHh7u6noAAADaPKcf09C1a1feuQIAAPiBnAasadOmaeXKlTIMw9X1AAAAtHlObxH%2B7W9/07/%2B9S/9%2Bc9/1n/913/J19cxh7311lumLH7gwAEtXrxYBw4cUEBAgK6//no9%2BeSTCg8P1759%2B7Rs2TIdOXJE3bt317Rp0zR%2B/Hj7vuvXr9cbb7yh0tJS9e/fX3PnzlVcXJwkqaamRr/5zW%2B0a9cu1dTUKCEhQQsXLrT/6p/i4mItXLhQ%2B/fvV%2BfOnTV27FjNmjXL3mdzawMAADTF6TtYQUFBGjlypJKSktS7d2/16tXL4Y8Zamtr9fDDD2vQoEHau3evtm7dqrKyMi1YsEAlJSWaMWOGJk%2BerH379mnu3LmaN2%2BeCgoKJEnvv/%2B%2BVqxYoeeff1579%2B5VcnKypk%2BfrvPnz0uSli9fLovFopycHG3fvl2GYeiJJ56wrz1z5kxFRkYqPz9f69atU35%2Bvl577TVJanZtAACA5jh9B2vRokWtvnBpaalKS0t1xx13qGPHjurYsaNuuukmvfrqq9qyZYuioqKUmpoqSUpMTFRKSopyc3MVHx%2BvnJwcTZgwQQMHDpQkTZ06VevXr9fOnTs1ZswY5eXl6be//a26d%2B8uScrKytJtt92m06dPq6SkRIcOHdK6devUpUsXdenSRenp6Xrttdf0i1/8otm1AQAAmuP0HSxJOnLkiFasWOHwzs%2Bnn35q2sKRkZGKjo5WTk6OKisrdebMGe3YsUOjRo2SxWJRTEyMw/YxMTEqLCyUpEbzvr6%2Bio6OVkFBgY4fP67y8nLFxsba53v37q1OnTrJYrHIYrGoR48eCgkJsc/Hxsbq6NGjqqioaHZtAACA5jh9B2vfvn166KGH1KtXLx07dkyLFi3SiRMndP/99%2BvFF1/U6NGjf/TCvr6%2BWrFihf3dI0m69tprNWvWLM2YMUORkZEO24eGhspqtUqSbDabQ0CSpJCQEFmtVtlsNklScHCww3xwcLB9/tK5hmM1zDe1dkuUlJSotLTUYczfv7MiIiJafAxX8PPzdfjqLby1b0/i7%2B/a195bzzl907e38MTenQas5cuX61e/%2BpUeeOABDRgwQNK3v59w8eLFevnll00JWBcuXND06dN1yy232J%2BfWrhwoWbPnt2i/Zv7Ccem5lv7pyNzcnK0cuVKh7GMjAxlZma26ro/VHDwFe4uwS28tW9PEBYW6JZ1vfWc07d38da%2BJc/q3WnA%2BvLLL/WnP/1JkuTj42Mfv%2BWWW/Tkk0%2BasvC%2Bffv09ddf67HHHpOfn5%2B6dOmizMxM3XHHHbrhhhvs70Q1sFqt9g8%2BDQsLazRvs9nUt29f%2BzY2m02Bgf/5j/jZs2fVtWtX1dXVOd3Xx8dH4eHhTo/93bVbYtKkSUpJSXEY8/fvLKu1ssXHcAU/P18FB1%2Bhc%2BeqVFdX7%2B5yXMZb%2B/Ykrr4WvPWc0zd9e4umenfXN3ROA1aXLl1UXV2tjh07OoyXlJQ0Gvuh6urqVF9f7/Bu0oULFyR9%2B2D5X/7yF4ftCwsL7Q%2B1x8XFyWKx6K677rIf68CBA0pNTVXPnj0VEhJif9ZK%2BjYwXrhwQXFxcSopKdHJkydVVlZmD00FBQXq06ePAgMDFR8frw0bNlx27ZaIiIhodDuwtLRctbWe%2BQ%2B%2Brq7eY2trTd7atydw1%2Bvureecvr2Lt/YteVbvTm9WDhkyRM8995wqKirsY0ePHtWcOXN0/fXXm7Lw4MGD1blzZ61YsUJVVVWyWq1atWqVhg0bpjvuuEPFxcXKzc1VTU2Ndu/erd27d2vixImSpLS0NG3cuFGfffaZqqqqtGrVKnXs2FGjRo2Sn5%2BfJk6cqNWrV%2BvkyZOyWq164YUXdNNNN6lbt26KiYlRfHy8li1bpoqKChUVFWndunVKS0uTJI0bN67JtQEAAJrjYzh5IOnUqVN64IEH9PXXX6uurk6dO3dWVVWV%2Bvbtq9WrV%2BsnP/mJKYsXFhbqt7/9rQ4dOqSOHTvq2muv1eOPP67IyEj94x//0LPPPquioiL16NFDs2bN0s0332zf980339TatWt15swZxcfHa8GCBerXr5%2Bkb98JW7Rokd555x3V1tYqOTlZCxYsUJcuXez9zZs3Tx9//LGCgoI0efJkPfroo/bboc2t/UOUlpb/qP1bg7%2B/r8LCAmW1VnpM4neF9tr3rS9%2B6O4SWmxb1nCXrtdez3lz6Ju%2BvUVTvV95ZRe31OQ0YEnSxYsXtXv3bh09elSdOnVSr169NHz4cIdnstByBCzP0V77JmBdXns9582hb/r2Fp4YsJw%2BgyVJHTp00I033ujKWgAAANoFpwErJSWlyXeq3nvvvVYrCAAAoK1zGrDGjh3rELDq6up09OhRFRQU6IEHHnBZcQAAAG2R04B1uQ/73L59u/7%2B97%2B3akEAAABt3ff6TPkbb7xR77zzTmvVAgAA0C58r4B14MCBVv81MwAAAG2d01uEkydPbjRWVVWloqKiH/15UAAAAO2d04AVFRXV6KcIAwIClJqaqnvuucclhQEAALRVTgPW4sWLXV0HAABAu%2BE0YG3cuLHFB7jzzjtNKwYAAKA9cBqw5s6dq/r6%2BkYPtPv4%2BDiM%2Bfj4ELAAAAAu4TRg/eEPf9Crr76q6dOnq3///jIMQ1988YVeeeUVTZkyRQkJCa6uEwAAoM247DNYa9euVWRkpH3smmuuUc%2BePfXggw9q69atLisQAACgrXH6OVjHjh1TSEhIo/Hg4GAVFxe3elEAAABtmdOA1aNHDy1evFhWq9U%2Bdu7cOS1btkw//elPXVYcAABAW%2BT0FuGTTz6pWbNmKScnR4GBgfL19VVFRYU6deqkl19%2B2dU1AgAAtClOA9aIESO0a9cu7d69W6dOnZJhGIqMjNQNN9ygLl26uLpGAACANsVpwJKkK664QqNHj9apU6fUs2dPV9YEAADQpjl9Bqu6ulpz5szR4MGDdeutt0r69hmsqVOn6ty5cy4tEAAAoK1xGrCWLFmigwcPaunSpfL1/c8mdXV1Wrp0qcuKAwAAaIucBqzt27frpZde0i233GL/pc/BwcFatGiRduzY4dICAQAA2hqnAauyslJRUVGNxsPDw3X%2B/PnWrgkAAKBNcxqwfvrTn%2Brvf/%2B7JDn87sG//vWv%2BslPfuKaygAAANoopz9FeO%2B992rmzJm6%2B%2B67VV9fr3Xr1qmwsFDbt2/X3LlzXV0jAABAm%2BI0YE2aNEn%2B/v7605/%2BJD8/P61evVq9evXS0qVLdcstt7i6RgAAgDbFacAqKyvT3XffrbvvvtvV9QAAALR5Tp/BGj16tMOzVwAAAGg5pwErISFB27Ztc3UtAAAA7YLTW4Tdu3fXb37zG61du1Y//elP1aFDB4f5ZcuWuaQ4AACAtshpwDp8%2BLB%2B9rOfSZKsVqtLCwIAAGjrHAJWdna2li9frtdff90%2B9vLLLysjI8PlhQEAALRVDs9gvf/%2B%2B402WLt2basWsGrVKo0YMUKDBg1Senq6vv76a0nSvn37lJqaqiFDhui2227T5s2bHfZbv/DnDYcAAB1nSURBVH69xowZoyFDhigtLU2FhYX2uZqaGj399NMaOXKkEhISlJmZ6fBOXHFxsR5%2B%2BGElJCQoOTlZS5YsUX19vX2%2BubUBAACa4hCwnP3kYGv%2BNOEbb7yhzZs3a/369frggw/Up08f/fGPf1RJSYlmzJihyZMna9%2B%2BfZo7d67mzZungoICSd8GwRUrVuj555/X3r17lZycrOnTp9t/jc/y5ctlsViUk5Oj7du3yzAMPfHEE/Z1Z86cqcjISOXn52vdunXKz8/Xa6%2B9JknNrg0AANAch4DV8Iudmxszy6uvvqrs7Gz97Gc/U1BQkJ566ik99dRT2rJli6KiopSamqqAgAAlJiYqJSVFubm5kqScnBxNmDBBAwcOVKdOnTR16lRJ0s6dO1VbW6u8vDzNmDFD3bt3V2hoqLKysrRr1y6dPn1aBQUFOnTokGbPnq0uXbooKipK6enpysnJkaRm1wYAAGiO049pcIXTp0/r66%2B/1tmzZzV27Fj7rbyysjJZLBbFxMQ4bB8TE2O/DXjpvK%2Bvr6Kjo1VQUKDjx4%2BrvLxcsbGx9vnevXurU6dOslgsslgs6tGjh0JCQuzzsbGxOnr0qCoqKppdGwAAoDlOf4rQFU6dOiXp218gvW7dOhmGoczMTD311FOqrq5WZGSkw/ahoaH256hsNptDQJKkkJAQWa1W2Ww2SVJwcLDDfHBwsH3%2B0rmGYzXMN7V2S5SUlKi0tNRhzN%2B/syIiIlp8DFfw8/N1%2BOotvLVvT%2BLv79rX3lvPOX3Tt7fwxN4dAtbFixc1a9YsNTdmxudgNTzbNXXqVHugmTlzph566CElJia2eP8fMt/an1Kfk5OjlStXOoxlZGQoMzOzVdf9oYKDr3B3CW7hrX17grCwQLes663nnL69i7f2LXlW7w4Ba%2BjQoSopKVFzY2bo1q2bJMd3mnr06CHDMHTx4kX7O1ENrFarwsPDJUlhYWGN5m02m/r27WvfxmazKTDwP/8RP3v2rLp27aq6ujqn%2B/r4%2BCg8PNzpsb%2B7dktMmjRJKSkpDmP%2B/p1ltVa2%2BBiu4Ofnq%2BDgK3TuXJXq6uqb36Gd8Na%2BPYmrrwVvPef0Td/eoqne3fUNnUPA%2Bu7nX7W2q666SkFBQTp48KD9eani4mJ16NBBSUlJ2rRpk8P2hYWFGjhwoCQpLi5OFotFd911lySprq5OBw4cUGpqqnr27KmQkBD7s1aS9OWXX%2BrChQuKi4tTSUmJTp48qbKyMntoKigoUJ8%2BfRQYGKj4%2BHht2LDhsmu3RERERKPbgaWl5aqt9cx/8HV19R5bW2vy1r49gbted2895/TtXby1b8mzenfbzUp/f3%2BlpqZq9erV%2Br//%2Bz%2BdOXNGL7/8ssaNG6e77rpLxcXFys3NVU1NjXbv3q3du3dr4sSJkqS0tDRt3LhRn332maqqqrRq1Sp17NhRo0aNkp%2BfnyZOnKjVq1fr5MmTslqteuGFF3TTTTepW7duiomJUXx8vJYtW6aKigoVFRVp3bp1SktLkySNGzeuybUBAACa47aH3CVp1qxZunDhgu655x5dvHhRY8aM0VNPPaXAwECtWbNGzz77rBYuXKgePXpoyZIl%2BvnPfy5JGjlypB577DFlZWXpzJkzio%2BP19q1a9WpUydJUmZmpiorK3XHHXeotrZWycnJWrBggX3dl156SfPmzdPw4cMVFBSkyZMn695775Ukde3atcm1AQAAmuNjtPYT35D07S1CT%2BPv76uwsEBZrZUe85aqK7TXvm998UN3l9Bi27KGu3S99nrOm0Pf9O0tmur9yiu7uKUmz/l5RgAAgHaCgAUAAGAyAhYAAIDJCFgAAAAmI2ABAACYjIAFAABgMgIWAACAyQhYAAAAJiNgAQAAmIyABQAAYDICFgAAgMkIWAAAACYjYAEAAJiMgAUAAGAyAhYAAIDJCFgAAAAmI2ABAACYjIAFAABgMgIWAACAyQhYAAAAJiNgAQAAmIyABQAAYDICFgAAgMkIWAAAACYjYAEAAJiMgAUAAGAyAhYAAIDJCFgAAAAmI2ABAACYjIAFAABgMgIWAACAyTwiYD333HPq37%2B//e/79u1TamqqhgwZottuu02bN2922H79%2BvUaM2aMhgwZorS0NBUWFtrnampq9PTTT2vkyJFKSEhQZmamrFarfb64uFgPP/ywEhISlJycrCVLlqi%2Bvr7FawMAADTH7QHr4MGD2rRpk/3vJSUlmjFjhiZPnqx9%2B/Zp7ty5mjdvngoKCiRJ77//vlasWKHnn39ee/fuVXJysqZPn67z589LkpYvXy6LxaKcnBxt375dhmHoiSeesB9/5syZioyMVH5%2BvtatW6f8/Hy99tprLVobAACgJdwasOrr6zV//nylp6fbx7Zs2aKoqCilpqYqICBAiYmJSklJUW5uriQpJydHEyZM0MCBA9WpUydNnTpVkrRz507V1tYqLy9PM2bMUPfu3RUaGqqsrCzt2rVLp0%2BfVkFBgQ4dOqTZs2erS5cuioqKUnp6unJyclq0NgAAQEv4u3Pxt956SwEBARo3bpxefPFFSZLFYlFMTIzDdjExMdq2bZt9fuzYsfY5X19fRUdHq6CgQNHR0SovL1dsbKx9vnfv3urUqZMsFotKSkrUo0cPhYSE2OdjY2N19OhRVVRUNLt2S5WUlKi0tNRhzN%2B/syIiIr7XcVqbn5%2Bvw1dv4a19exJ/f9e%2B9t56zumbvr2FJ/butoD1zTffaMWKFXr99dcdxm02myIjIx3GQkND7c9R2Ww2h4AkSSEhIbJarbLZbJKk4OBgh/ng4GD7/KVzDcdqmG9q7ZbKycnRypUrHcYyMjKUmZn5vY7jKsHBV7i7BLfw1r49QVhYoFvW9dZzTt/exVv7ljyrd7cFrEWLFmnChAnq06ePvv766%2B%2B1r2EYP3i%2BuX3NMGnSJKWkpDiM%2Bft3ltVa2eprfx9%2Bfr4KDr5C585Vqa6uvvkd2glv7duTuPpa8NZzTt/07S2a6t1d39C5JWDt27dPn376qbZu3dpoLiwszP5OVAOr1arw8PDLzttsNvXt29e%2Bjc1mU2Dgf17Qs2fPqmvXrqqrq3O6r4%2BPj8LDw5tdu6UiIiIa3Q4sLS1Xba1n/oOvq6v32Npak7f27Qnc9bp76zmnb%2B/irX1LntW7W25Wbt68WWfOnFFycrISEhI0YcIESVJCQoL69evn8LELklRYWKiBAwdKkuLi4mSxWOxzdXV1OnDggAYOHKiePXsqJCTEYf7LL7/UhQsXFBcXp7i4OJ08eVJlZWX2%2BYKCAvXp00eBgYGKj49vcm0AAICWcEvAevzxx7V9%2B3Zt2rRJmzZt0tq1ayVJmzZt0rhx41RcXKzc3FzV1NRo9%2B7d2r17tyZOnChJSktL08aNG/XZZ5%2BpqqpKq1atUseOHTVq1Cj5%2Bflp4sSJWr16tU6ePCmr1aoXXnhBN910k7p166aYmBjFx8dr2bJlqqioUFFRkdatW6e0tDRJanZtAACAlnDLLcKQkBCHB9Vra2slSVdddZUkac2aNXr22We1cOFC9ejRQ0uWLNHPf/5zSdLIkSP12GOPKSsrS2fOnFF8fLzWrl2rTp06SZIyMzNVWVmpO%2B64Q7W1tUpOTtaCBQvsa7300kuaN2%2Behg8frqCgIE2ePFn33nuvJKlr165Nrg0AANASPoYrnvqGSkvL3V1CI/7%2BvgoLC5TVWukx96xdob32feuLH7q7hBbbljXcpeu113PeHPqmb2/RVO9XXtnFLTV5zgdGAAAAtBMELAAAAJMRsAAAAExGwAIAADAZAQsAAMBkBCwAAACTEbAAAABMRsACAAAwGQELAADAZAQsAAAAkxGwAAAATEbAAgAAMBkBCwAAwGQELAAAAJMRsAAAAExGwAIAADAZAQsAAMBkBCwAAACTEbAAAABMRsACAAAwGQELAADAZAQsAAAAkxGwAAAATEbAAgAAMBkBCwAAwGQELAAAAJMRsAAAAExGwAIAADAZAQsAAMBkBCwAAACTEbAAAABM5taAVVxcrIyMDCUkJCgxMVGPP/64zp07J0k6ePCgpkyZoqFDh%2Brmm2/Wq6%2B%2B6rDvu%2B%2B%2Bq3Hjxmnw4MGaMGGCPvjgA/tcfX29li9frtGjR2vYsGF68MEHdeLECfu8zWZTVlaWEhMTNWLECM2dO1fV1dX2%2BebWBgAAaIpbA9b06dMVHBys999/X3/%2B85/11Vdf6be//a2qq6s1bdo0XXfdddqzZ4%2BWL1%2BuNWvWaMeOHZK%2BDUBz5szR7Nmz9dFHHyk9PV2PPvqoTp06JUl64403tGXLFq1du1Y7d%2B5UVFSUMjIyZBiGJGnevHmqqqrS1q1btWHDBhUVFWnp0qWS1OzaAAAAzXFbwDp37pzi4uI0a9YsBQYG6qqrrtJdd92lTz75RLt27dLFixf1yCOPqHPnzoqNjdU999yjnJwcSVJubq6SkpKUlJSkgIAAjR8/Xv369dPmzZslSTk5OUpPT1fv3r0VFBSk7OxsFRUVaf/%2B/frmm2%2BUn5%2Bv7OxshYeHKzIyUjNmzNCGDRt08eLFZtcGAABojr%2B7Fg4ODtaiRYscxk6ePKmIiAhZLBb1799ffn5%2B9rmYmBjl5uZKkiwWi5KSkhz2jYmJUUFBgaqrq3X48GHFxMTY54KCgnT11VeroKBA5eXl8vPzU//%2B/e3zsbGxOn/%2BvI4cOdLs2i1RUlKi0tJShzF//86KiIho8TFcwc/P1%2BGrt/DWvj2Jv79rX3tvPef0Td/ewhN7d1vAulRBQYH%2B9Kc/adWqVdq2bZuCg4Md5kNDQ2Wz2VRfXy%2BbzaaQkBCH%2BZCQEB0%2BfFhnz56VYRhO561Wq0JDQxUUFCQfHx%2BHOUmyWq2y2WxNru3r2/zJy8nJ0cqVKx3GMjIylJmZ2fwL4QbBwVe4uwS38Na%2BPUFYWKBb1vXWc07f3sVb%2B5Y8q3ePCFj//Oc/9cgjj2jWrFlKTEzUtm3bnG733VDU8DzV5TQ139y%2Bza3dnEmTJiklJcVhzN%2B/s6zWyu%2B9bmvy8/NVcPAVOneuSnV19e4ux2W8tW9P4uprwVvPOX3Tt7doqnd3fUPn9oD1/vvv61e/%2BpXmzZunO%2B%2B8U5IUHh6uY8eOOWxns9kUGhoqX19fhYWFyWazNZoPDw%2B3b%2BNsvmvXrgoPD1dFRYXq6urstwEbtm2Yb2rtloiIiGh0O7C0tFy1tZ75D76urt5ja2tN3tq3J3DX6%2B6t55y%2BvYu39i15Vu9uvVn5r3/9S3PmzNHvfvc7e7iSpLi4OH3xxReqra21jxUUFGjgwIH2%2BcLCQodjNcwHBASob9%2B%2Bslgs9rlz587p%2BPHjGjBggKKjo2UYhg4dOuSwb3BwsHr16tXs2gAAAM1xW8Cqra3VU089pdmzZ2vEiBEOc0lJSQoKCtKqVatUVVWl/fv3Ky8vT2lpaZKkiRMnau/evdq1a5dqamqUl5enY8eOafz48ZKktLQ0rV%2B/XkVFRaqoqNDSpUsVHR2t%2BPh4hYeHa8yYMXrxxRdVVlamU6dO6eWXX1Zqaqr8/f2bXRsAAKA5PsYPeSDJBJ988on%2B%2B7//Wx07dmw099e//lWVlZWaP3%2B%2BCgsL1a1bNz300EO699577dvs2LFDy5YtU3Fxsfr06aO5c%2Bdq2LBhkr59xmrFihV66623VFlZqYSEBD3zzDO66qqrJEnl5eWaP3%2B%2Bdu7cqQ4dOuj222/X448/bq/lyy%2B/bHLtH6K0tPxH7d8a/P19FRYWKKu10mPeUnWF9tr3rS9%2B6O4SWmxb1nCXrtdez3lz6Ju%2BvUVTvV95ZRe31OS2gOVtCFieo732TcC6vPZ6zptD3/TtLTwxYHnOB0YAAAC0EwQsAAAAkxGwAAAATEbAAgAAMBkBCwAAwGQELAAAAJMRsAAAAExGwAIAADAZAQsAAMBkBCwAAACTEbAAAABMRsACAAAwGQELAADAZAQsAAAAkxGwAAAATEbAAgAAMBkBCwAAwGQELAAAAJMRsAAAAExGwAIAADAZAQsAAMBkBCwAAACTEbAAAABMRsACAAAwGQELAADAZAQsAAAAkxGwAAAATEbAAgAAMBkBCwAAwGQELAAAAJMRsAAAAExGwHKiuLhYDz/8sBISEpScnKwlS5aovr7e3WUBAIA2wt/dBXiimTNnKjY2Vvn5%2BTpz5oymTZumbt266Re/%2BIW7SwMAAG0A72BdoqCgQIcOHdLs2bPVpUsXRUVFKT09XTk5Oe4uDQAAtBG8g3UJi8WiHj16KCQkxD4WGxuro0ePqqKiQkFBQc0eo6SkRKWlpQ5j/v6dFRERYXq9P4afn6/DV2/hrX17En9/17723nrO6Zu%2BvYUn9k7AuoTNZlNwcLDDWEPYslqtLQpYOTk5WrlypcPYo48%2BqpkzZ5pXqAlKSkr02mt/0KRJkzwu/LWm9tr3J7%2B5pcn5kpIS5eTktLu%2BW6K9nvPm0Dd9ewtP7N1zop4HMQzjR%2B0/adIk/fnPf3b4M2nSJJOqM09paalWrlzZ6N229o6%2BvatvyXt7p2/69hae2DvvYF0iPDxcNpvNYcxms8nHx0fh4eEtOkZERITHJGgAAOB6vIN1ibi4OJ08eVJlZWX2sYKCAvXp00eBgYFurAwAALQVBKxLxMTEKD4%2BXsuWLVNFRYWKioq0bt06paWlubs0AADQRvgtWLBggbuL8DQ33HCDtm7dql//%2Btd65513lJqaqgcffFA%2BPj7uLs10gYGBuvbaa73u3Tn69q6%2BJe/tnb7p21t4Wu8%2Bxo99ohsAAAAOuEUIAABgMgIWAACAyQhYAAAAJiNgAQAAmIyABQAAYDICFgAAgMkIWAAAACYjYAEAAJiMgAUAAGAyAlY7c%2BjQIT3wwAMaOnSoEhMTlZWVpdLSUv39739X//79FR8f7/Bn27ZtTo9TU1Ojp59%2BWiNHjlRCQoIyMzNltVpd3E3LXa7v3//%2B9416jo2N1X333ef0OPfdd59iY2Mdth8/fryLu/lhnnvuOfXv39/%2B93379ik1NVVDhgzRbbfdps2bN19237Z2vr/r0r4//vhjTZo0SUOGDFFKSop%2B//vfX3bfxx9/3P77Rxv%2BXHPNNa4o2xTf7b29X%2BPf9d2%2B2/s13r9/f8XFxTnU%2B%2Btf/1pS%2B7/Gm%2Bq9TVznBtqNmpoa4/rrrzdWrlxp1NTUGGfOnDGmTJlizJgxw/joo4%2BM5OTkFh9r0aJFxoQJE4x///vfhtVqNR599FFj2rRprVj9D9dU38788pe/NN544w2nc1OmTDE2bNjQmuW2igMHDhjXXnut0a9fP8MwDOP06dPGoEGDjNzcXKO6utr48MMPjQEDBhiff/650/3b0vn%2Brkv7Li4uNgYNGmS8%2BeabxoULF4z9%2B/cbQ4cONTZu3Oh0/zlz5hgvvfSSK0s2zaW9t%2Bdr/Lsu7duZ9nSN9%2BvXzzhx4kSjcW%2B4xi/Xe1u5znkHqx2pqqpSdna2pk2bpo4dOyo8PFw33XSTvvrqq%2B91nNraWuXl5WnGjBnq3r27QkNDlZWVpV27dun06dOtVP0P9336/utf/6rS0lJNmjTJDZW2jvr6es2fP1/p6en2sS1btigqKkqpqakKCAhQYmKiUlJSlJub22j/tna%2BGzjr%2B5tvvlFqaqrS0tLUoUMHDRgwQImJifrkk0/cV2grcNb799Gezvml2uM17ow3XOOX01aucwJWOxISEqJ77rlH/v7%2BkqQjR47oL3/5i2699VZJUmVlpTIyMpSQkKAbbrhB69atk%2BHkd30fP35c5eXlio2NtY/17t1bnTp1ksVicU0z30NzfTeoq6vT0qVLNWvWLPn5%2BV32eO%2B%2B%2B67Gjh2rwYMHKz09XcePH2/V%2Bn%2Bst956SwEBARo3bpx9zGKxKCYmxmG7mJgYFRYWNtq/rZ3vBs76HjBggObOneuw3cmTJxUZGXnZ43z00Ue68847NXjwYKWmpjp9jTyNs96l9nuNN7hc3w3a6zW%2BbNkyjRo1Stdcc43mzZunyspKr7jGJee9t5XrnIDVDhUXFysuLk5jx45VfHy8MjMzFRQUpH79%2BumBBx7Qnj17tGjRIq1cuVIbNmxotL/NZpMkBQcHO4wHBwd79D17Z31/19atWxUUFKSkpKTLHqN3797q27ev3nzzTb333nsKDw/X1KlTdeHChdYu/wf55ptvtGLFCs2fP99h3GazNTp/oaGhTs9fWzzfl%2Bv7Uq%2B//rqOHz%2BuyZMnO53v2bOnrr76aq1Zs0Z79uzRNddco1/%2B8pce27d0%2Bd7b%2BzXeknPeHq/xQYMGKTExUTt27FBOTo4%2B%2B%2BwzLVy4sN1f49Lle7%2BUx17nLr8pCZeor683jh49atx3333GY4895nSb559/3khLS2s0/s9//tPo16%2BfUVFR4TB%2Bww03GHl5ea1Sr1ma6vuuu%2B763vWXl5cbMTExxt69e80s0zSPPfaY8fzzzxuGYRgnTpywP5fyi1/8wli8eLHDtm%2B//bYxatSoRsdoi%2Bf7cn1/1%2Buvv24MHTrU%2BOSTT1p83NraWmP48OHG22%2B/bVqtZmtJ7w3a0zXekr7b4zV%2BqV27dhnR0dHGlClT2vU17kxD7zU1NfYxT77OeQernfLx8VFUVJSys7O1detWlZWVNdqmR48eKikpaTQeHh4u6T/f9TQ4e/asunbt2joFm%2BRyfZ84cUIHDx5UcnLy9zpeUFCQQkJCPPI5hX379unTTz9VRkZGo7mwsLBG589qtdrP7Xe1tfPdVN8Nli9frtWrV2v9%2BvUaOnRoi4/t5%2Ben7t27O70uPEFLev%2Bu9nKNt6Tv9niNO/Nf//Vfqqurk6%2Bvb7u9xi%2BnofczZ85I8vzrnIDVjuzbt09jxoxRfX29fczX99tTvHv3br355psO2x85ckQ9e/ZsdJyePXsqJCTE4d78l19%2BqQsXLiguLq6Vqv/hmuq7Q4cOkqT33ntP0dHRTv/j06CiokILFixw%2BA9tWVmZysrKnL5O7rZ582adOXNGycnJSkhI0IQJEyRJCQkJ6tevX6NnDAoLCzVw4MBGx2lr57upvt955x2tW7dOW7duVU5OTqNnVL7LMAwtWrRIhw4dso9duHBBx48f98jzLTXd%2B8aNG9vtNd7cOZfa5zV%2B4MABLV682GGsqKhIHTt2VFJSUru9xqWme4%2BIiGgb13mrvj8Glzp37pyRmJhoLF682Dh//rxx5swZ48EHHzTuvfde43//93%2BNAQMGGHv27DEuXLhgfPDBB8agQYOM7du3G4ZhGPv37zfGjBljf%2Bt1yZIlxl133WX8%2B9//NsrKyoxp06YZM2fOdGd7l9VU3w3%2B3//7f07rv7TvO%2B%2B803j00UcNq9Vq2Gw2IzMz0xg/frxRV1fnsn5aymazGSdPnrT/%2BfTTT41%2B/foZJ0%2BeNIqLi43Bgwcbb7/9tlFdXW3s2rXLGDBggHHw4EHDMNr2%2BW6q76%2B%2B%2BsoYNGiQ8cUXXzjd99SpU8aYMWOM48ePG4ZhGDNmzDAmT55snDp1yqioqDB%2B85vfGMOHDzcqKytd2VKLNdV7e77Gm%2Br7/PnzhmG0z2v81KlTxqBBg4w1a9YYNTU1xpEjR4yxY8cav/71r41vvvmm3V7jhtF078ePH28T1zkBq505dOiQMWXKFGPAgAHGddddZ2RlZRmnTp0yDMMw3nrrLePmm2824uPjjeTkZIf7zx999JHRr18/o7q62jCMbz9basGCBcawYcOMwYMHG4899phx7tw5t/TUEk31bRjffi7OwoULG%2B13ad/FxcVGRkaGce211xqDBg0yHnnkEYfjeLJLn0v5%2BOOPjfHjxxuxsbHGzTffbP8frWG0/fP9Xd/te%2BXKlUb//v2NuLg4hz8333yzw7aHDx82DMMwrFar8fjjjxuJiYnGgAEDjClTptjn2oJLz3l7vsa/y9kzWO31Gv/444%2BNSZMmGYMGDTKuvfZaY9GiRfZe2vs1frne28p17mMYTn6GFwAAAD8Yz2ABAACYjIAFAABgMgIWAACAyQhYAAAAJiNgAQAAmIyABQAAYDICFgAAgMkIWAAAACYjYAEAAJiMgAUAAGAyAhYAAIDJCFgAAAAmI2ABAACY7P8DwG4UBgPptbAAAAAASUVORK5CYII%3D\"/>\n",
              "        </div>\n",
              "        <div role=\"tabpanel\" class=\"tab-pane col-md-12\" id=\"common6763651847428324973\">\n",
              "            \n",
              "<table class=\"freq table table-hover\">\n",
              "    <thead>\n",
              "    <tr>\n",
              "        <td class=\"fillremaining\">Value</td>\n",
              "        <td class=\"number\">Count</td>\n",
              "        <td class=\"number\">Frequency (%)</td>\n",
              "        <td style=\"min-width:200px\">&nbsp;</td>\n",
              "    </tr>\n",
              "    </thead>\n",
              "    <tr class=\"\">\n",
              "        <td class=\"fillremaining\">40.77410125732422</td>\n",
              "        <td class=\"number\">414</td>\n",
              "        <td class=\"number\">0.0%</td>\n",
              "        <td>\n",
              "            <div class=\"bar\" style=\"width:1%\">&nbsp;</div>\n",
              "        </td>\n",
              "</tr><tr class=\"\">\n",
              "        <td class=\"fillremaining\">40.774089813232415</td>\n",
              "        <td class=\"number\">411</td>\n",
              "        <td class=\"number\">0.0%</td>\n",
              "        <td>\n",
              "            <div class=\"bar\" style=\"width:1%\">&nbsp;</div>\n",
              "        </td>\n",
              "</tr><tr class=\"\">\n",
              "        <td class=\"fillremaining\">40.77412033081055</td>\n",
              "        <td class=\"number\">410</td>\n",
              "        <td class=\"number\">0.0%</td>\n",
              "        <td>\n",
              "            <div class=\"bar\" style=\"width:1%\">&nbsp;</div>\n",
              "        </td>\n",
              "</tr><tr class=\"\">\n",
              "        <td class=\"fillremaining\">40.77410888671875</td>\n",
              "        <td class=\"number\">392</td>\n",
              "        <td class=\"number\">0.0%</td>\n",
              "        <td>\n",
              "            <div class=\"bar\" style=\"width:1%\">&nbsp;</div>\n",
              "        </td>\n",
              "</tr><tr class=\"\">\n",
              "        <td class=\"fillremaining\">40.77407836914063</td>\n",
              "        <td class=\"number\">390</td>\n",
              "        <td class=\"number\">0.0%</td>\n",
              "        <td>\n",
              "            <div class=\"bar\" style=\"width:1%\">&nbsp;</div>\n",
              "        </td>\n",
              "</tr><tr class=\"\">\n",
              "        <td class=\"fillremaining\">40.77405166625977</td>\n",
              "        <td class=\"number\">376</td>\n",
              "        <td class=\"number\">0.0%</td>\n",
              "        <td>\n",
              "            <div class=\"bar\" style=\"width:1%\">&nbsp;</div>\n",
              "        </td>\n",
              "</tr><tr class=\"\">\n",
              "        <td class=\"fillremaining\">40.77413177490234</td>\n",
              "        <td class=\"number\">356</td>\n",
              "        <td class=\"number\">0.0%</td>\n",
              "        <td>\n",
              "            <div class=\"bar\" style=\"width:1%\">&nbsp;</div>\n",
              "        </td>\n",
              "</tr><tr class=\"\">\n",
              "        <td class=\"fillremaining\">40.77413940429688</td>\n",
              "        <td class=\"number\">352</td>\n",
              "        <td class=\"number\">0.0%</td>\n",
              "        <td>\n",
              "            <div class=\"bar\" style=\"width:1%\">&nbsp;</div>\n",
              "        </td>\n",
              "</tr><tr class=\"\">\n",
              "        <td class=\"fillremaining\">40.774070739746094</td>\n",
              "        <td class=\"number\">347</td>\n",
              "        <td class=\"number\">0.0%</td>\n",
              "        <td>\n",
              "            <div class=\"bar\" style=\"width:1%\">&nbsp;</div>\n",
              "        </td>\n",
              "</tr><tr class=\"\">\n",
              "        <td class=\"fillremaining\">40.7741584777832</td>\n",
              "        <td class=\"number\">335</td>\n",
              "        <td class=\"number\">0.0%</td>\n",
              "        <td>\n",
              "            <div class=\"bar\" style=\"width:1%\">&nbsp;</div>\n",
              "        </td>\n",
              "</tr><tr class=\"other\">\n",
              "        <td class=\"fillremaining\">Other values (45235)</td>\n",
              "        <td class=\"number\">1454861</td>\n",
              "        <td class=\"number\">99.7%</td>\n",
              "        <td>\n",
              "            <div class=\"bar\" style=\"width:100%\">&nbsp;</div>\n",
              "        </td>\n",
              "</tr>\n",
              "</table>\n",
              "        </div>\n",
              "        <div role=\"tabpanel\" class=\"tab-pane col-md-12\"  id=\"extreme6763651847428324973\">\n",
              "            <p class=\"h4\">Minimum 5 values</p>\n",
              "            \n",
              "<table class=\"freq table table-hover\">\n",
              "    <thead>\n",
              "    <tr>\n",
              "        <td class=\"fillremaining\">Value</td>\n",
              "        <td class=\"number\">Count</td>\n",
              "        <td class=\"number\">Frequency (%)</td>\n",
              "        <td style=\"min-width:200px\">&nbsp;</td>\n",
              "    </tr>\n",
              "    </thead>\n",
              "    <tr class=\"\">\n",
              "        <td class=\"fillremaining\">34.359695434570305</td>\n",
              "        <td class=\"number\">1</td>\n",
              "        <td class=\"number\">0.0%</td>\n",
              "        <td>\n",
              "            <div class=\"bar\" style=\"width:100%\">&nbsp;</div>\n",
              "        </td>\n",
              "</tr><tr class=\"\">\n",
              "        <td class=\"fillremaining\">34.71223449707032</td>\n",
              "        <td class=\"number\">1</td>\n",
              "        <td class=\"number\">0.0%</td>\n",
              "        <td>\n",
              "            <div class=\"bar\" style=\"width:100%\">&nbsp;</div>\n",
              "        </td>\n",
              "</tr><tr class=\"\">\n",
              "        <td class=\"fillremaining\">35.0815315246582</td>\n",
              "        <td class=\"number\">1</td>\n",
              "        <td class=\"number\">0.0%</td>\n",
              "        <td>\n",
              "            <div class=\"bar\" style=\"width:100%\">&nbsp;</div>\n",
              "        </td>\n",
              "</tr><tr class=\"\">\n",
              "        <td class=\"fillremaining\">35.310306549072266</td>\n",
              "        <td class=\"number\">1</td>\n",
              "        <td class=\"number\">0.0%</td>\n",
              "        <td>\n",
              "            <div class=\"bar\" style=\"width:100%\">&nbsp;</div>\n",
              "        </td>\n",
              "</tr><tr class=\"\">\n",
              "        <td class=\"fillremaining\">36.02930068969727</td>\n",
              "        <td class=\"number\">1</td>\n",
              "        <td class=\"number\">0.0%</td>\n",
              "        <td>\n",
              "            <div class=\"bar\" style=\"width:100%\">&nbsp;</div>\n",
              "        </td>\n",
              "</tr>\n",
              "</table>\n",
              "            <p class=\"h4\">Maximum 5 values</p>\n",
              "            \n",
              "<table class=\"freq table table-hover\">\n",
              "    <thead>\n",
              "    <tr>\n",
              "        <td class=\"fillremaining\">Value</td>\n",
              "        <td class=\"number\">Count</td>\n",
              "        <td class=\"number\">Frequency (%)</td>\n",
              "        <td style=\"min-width:200px\">&nbsp;</td>\n",
              "    </tr>\n",
              "    </thead>\n",
              "    <tr class=\"\">\n",
              "        <td class=\"fillremaining\">43.13965225219727</td>\n",
              "        <td class=\"number\">1</td>\n",
              "        <td class=\"number\">0.0%</td>\n",
              "        <td>\n",
              "            <div class=\"bar\" style=\"width:100%\">&nbsp;</div>\n",
              "        </td>\n",
              "</tr><tr class=\"\">\n",
              "        <td class=\"fillremaining\">43.48688507080078</td>\n",
              "        <td class=\"number\">1</td>\n",
              "        <td class=\"number\">0.0%</td>\n",
              "        <td>\n",
              "            <div class=\"bar\" style=\"width:100%\">&nbsp;</div>\n",
              "        </td>\n",
              "</tr><tr class=\"\">\n",
              "        <td class=\"fillremaining\">43.91176223754883</td>\n",
              "        <td class=\"number\">1</td>\n",
              "        <td class=\"number\">0.0%</td>\n",
              "        <td>\n",
              "            <div class=\"bar\" style=\"width:100%\">&nbsp;</div>\n",
              "        </td>\n",
              "</tr><tr class=\"\">\n",
              "        <td class=\"fillremaining\">44.37194442749024</td>\n",
              "        <td class=\"number\">1</td>\n",
              "        <td class=\"number\">0.0%</td>\n",
              "        <td>\n",
              "            <div class=\"bar\" style=\"width:100%\">&nbsp;</div>\n",
              "        </td>\n",
              "</tr><tr class=\"\">\n",
              "        <td class=\"fillremaining\">51.88108444213867</td>\n",
              "        <td class=\"number\">1</td>\n",
              "        <td class=\"number\">0.0%</td>\n",
              "        <td>\n",
              "            <div class=\"bar\" style=\"width:100%\">&nbsp;</div>\n",
              "        </td>\n",
              "</tr>\n",
              "</table>\n",
              "        </div>\n",
              "    </div>\n",
              "</div>\n",
              "</div><div class=\"row variablerow\">\n",
              "    <div class=\"col-md-3 namecol\">\n",
              "        <p class=\"h4 pp-anchor\" id=\"pp_var_dropoff_longitude\">dropoff_longitude<br/>\n",
              "            <small>Numeric</small>\n",
              "        </p>\n",
              "    </div><div class=\"col-md-6\">\n",
              "    <div class=\"row\">\n",
              "        <div class=\"col-sm-6\">\n",
              "            <table class=\"stats \">\n",
              "                <tr>\n",
              "                    <th>Distinct count</th>\n",
              "                    <td>33821</td>\n",
              "                </tr>\n",
              "                <tr>\n",
              "                    <th>Unique (%)</th>\n",
              "                    <td>2.3%</td>\n",
              "                </tr>\n",
              "                <tr class=\"ignore\">\n",
              "                    <th>Missing (%)</th>\n",
              "                    <td>0.0%</td>\n",
              "                </tr>\n",
              "                <tr class=\"ignore\">\n",
              "                    <th>Missing (n)</th>\n",
              "                    <td>0</td>\n",
              "                </tr>\n",
              "                <tr class=\"ignore\">\n",
              "                    <th>Infinite (%)</th>\n",
              "                    <td>0.0%</td>\n",
              "                </tr>\n",
              "                <tr class=\"ignore\">\n",
              "                    <th>Infinite (n)</th>\n",
              "                    <td>0</td>\n",
              "                </tr>\n",
              "            </table>\n",
              "\n",
              "        </div>\n",
              "        <div class=\"col-sm-6\">\n",
              "            <table class=\"stats \">\n",
              "\n",
              "                <tr>\n",
              "                    <th>Mean</th>\n",
              "                    <td>-73.973</td>\n",
              "                </tr>\n",
              "                <tr>\n",
              "                    <th>Minimum</th>\n",
              "                    <td>-121.93</td>\n",
              "                </tr>\n",
              "                <tr>\n",
              "                    <th>Maximum</th>\n",
              "                    <td>-61.336</td>\n",
              "                </tr>\n",
              "                <tr class=\"ignore\">\n",
              "                    <th>Zeros (%)</th>\n",
              "                    <td>0.0%</td>\n",
              "                </tr>\n",
              "            </table>\n",
              "        </div>\n",
              "    </div>\n",
              "</div>\n",
              "<div class=\"col-md-3 collapse in\" id=\"minihistogram8540695178509476491\">\n",
              "    <img src=\"data:image/png;base64,iVBORw0KGgoAAAANSUhEUgAAAMgAAABLCAYAAAA1fMjoAAAABHNCSVQICAgIfAhkiAAAAAlwSFlzAAAPYQAAD2EBqD%2BnaQAAADh0RVh0U29mdHdhcmUAbWF0cGxvdGxpYiB2ZXJzaW9uMy4xLjEsIGh0dHA6Ly9tYXRwbG90bGliLm9yZy8QZhcZAAAA/ElEQVR4nO3VsQ1CQQwFQT6iJIqgJ2J6ogh6Mg2glQjgLpjJLb1k5WNm5gR8dF49AHZ2WT2A/7ven1/fvB63HyzZnw8CQSAQBAJBIBAEAkEgEAQCQSAQBAJBIBAEAkEgEAQCQSAQBAJBIBAEAkEgEAQCQSAQBAJBIBAEAkEgEAQCQSAQBAJBIBAEAkEgEAQCQSAQBAJBIBAEAkEgEAQCQSAQBAJBIBAEAkEgEAQCQSAQBAJBIBCOmZnVI2BXPggEgUAQCASBQBAIBIFAEAgEgUAQCASBQBAIBIFAEAgEgUAQCASBQBAIBIFAEAgEgUAQCASBQBAIBIFAEAiEN63fC4/b/j8TAAAAAElFTkSuQmCC\">\n",
              "\n",
              "</div>\n",
              "<div class=\"col-md-12 text-right\">\n",
              "    <a role=\"button\" data-toggle=\"collapse\" data-target=\"#descriptives8540695178509476491,#minihistogram8540695178509476491\"\n",
              "       aria-expanded=\"false\" aria-controls=\"collapseExample\">\n",
              "        Toggle details\n",
              "    </a>\n",
              "</div>\n",
              "<div class=\"row collapse col-md-12\" id=\"descriptives8540695178509476491\">\n",
              "    <ul class=\"nav nav-tabs\" role=\"tablist\">\n",
              "        <li role=\"presentation\" class=\"active\"><a href=\"#quantiles8540695178509476491\"\n",
              "                                                  aria-controls=\"quantiles8540695178509476491\" role=\"tab\"\n",
              "                                                  data-toggle=\"tab\">Statistics</a></li>\n",
              "        <li role=\"presentation\"><a href=\"#histogram8540695178509476491\" aria-controls=\"histogram8540695178509476491\"\n",
              "                                   role=\"tab\" data-toggle=\"tab\">Histogram</a></li>\n",
              "        <li role=\"presentation\"><a href=\"#common8540695178509476491\" aria-controls=\"common8540695178509476491\"\n",
              "                                   role=\"tab\" data-toggle=\"tab\">Common Values</a></li>\n",
              "        <li role=\"presentation\"><a href=\"#extreme8540695178509476491\" aria-controls=\"extreme8540695178509476491\"\n",
              "                                   role=\"tab\" data-toggle=\"tab\">Extreme Values</a></li>\n",
              "\n",
              "    </ul>\n",
              "\n",
              "    <div class=\"tab-content\">\n",
              "        <div role=\"tabpanel\" class=\"tab-pane active row\" id=\"quantiles8540695178509476491\">\n",
              "            <div class=\"col-md-4 col-md-offset-1\">\n",
              "                <p class=\"h4\">Quantile statistics</p>\n",
              "                <table class=\"stats indent\">\n",
              "                    <tr>\n",
              "                        <th>Minimum</th>\n",
              "                        <td>-121.93</td>\n",
              "                    </tr>\n",
              "                    <tr>\n",
              "                        <th>5-th percentile</th>\n",
              "                        <td>-74.008</td>\n",
              "                    </tr>\n",
              "                    <tr>\n",
              "                        <th>Q1</th>\n",
              "                        <td>-73.991</td>\n",
              "                    </tr>\n",
              "                    <tr>\n",
              "                        <th>Median</th>\n",
              "                        <td>-73.98</td>\n",
              "                    </tr>\n",
              "                    <tr>\n",
              "                        <th>Q3</th>\n",
              "                        <td>-73.963</td>\n",
              "                    </tr>\n",
              "                    <tr>\n",
              "                        <th>95-th percentile</th>\n",
              "                        <td>-73.92</td>\n",
              "                    </tr>\n",
              "                    <tr>\n",
              "                        <th>Maximum</th>\n",
              "                        <td>-61.336</td>\n",
              "                    </tr>\n",
              "                    <tr>\n",
              "                        <th>Range</th>\n",
              "                        <td>60.598</td>\n",
              "                    </tr>\n",
              "                    <tr>\n",
              "                        <th>Interquartile range</th>\n",
              "                        <td>0.028313</td>\n",
              "                    </tr>\n",
              "                </table>\n",
              "            </div>\n",
              "            <div class=\"col-md-4 col-md-offset-2\">\n",
              "                <p class=\"h4\">Descriptive statistics</p>\n",
              "                <table class=\"stats indent\">\n",
              "                    <tr>\n",
              "                        <th>Standard deviation</th>\n",
              "                        <td>0.070643</td>\n",
              "                    </tr>\n",
              "                    <tr>\n",
              "                        <th>Coef of variation</th>\n",
              "                        <td>-0.00095498</td>\n",
              "                    </tr>\n",
              "                    <tr>\n",
              "                        <th>Kurtosis</th>\n",
              "                        <td>292530</td>\n",
              "                    </tr>\n",
              "                    <tr>\n",
              "                        <th>Mean</th>\n",
              "                        <td>-73.973</td>\n",
              "                    </tr>\n",
              "                    <tr>\n",
              "                        <th>MAD</th>\n",
              "                        <td>0.021815</td>\n",
              "                    </tr>\n",
              "                    <tr class=\"alert\">\n",
              "                        <th>Skewness</th>\n",
              "                        <td>-425.33</td>\n",
              "                    </tr>\n",
              "                    <tr>\n",
              "                        <th>Sum</th>\n",
              "                        <td>-107900000</td>\n",
              "                    </tr>\n",
              "                    <tr>\n",
              "                        <th>Variance</th>\n",
              "                        <td>0.0049905</td>\n",
              "                    </tr>\n",
              "                    <tr>\n",
              "                        <th>Memory size</th>\n",
              "                        <td>11.1 MiB</td>\n",
              "                    </tr>\n",
              "                </table>\n",
              "            </div>\n",
              "        </div>\n",
              "        <div role=\"tabpanel\" class=\"tab-pane col-md-8 col-md-offset-2\" id=\"histogram8540695178509476491\">\n",
              "            <img src=\"data:image/png;base64,iVBORw0KGgoAAAANSUhEUgAAAlgAAAGQCAYAAAByNR6YAAAABHNCSVQICAgIfAhkiAAAAAlwSFlzAAAPYQAAD2EBqD%2BnaQAAADh0RVh0U29mdHdhcmUAbWF0cGxvdGxpYiB2ZXJzaW9uMy4xLjEsIGh0dHA6Ly9tYXRwbG90bGliLm9yZy8QZhcZAAAgAElEQVR4nO3de3hU1aH%2B8TcXCJKQG5iolBLk1tyIoJgKlkBQsSKgGC7xWEsLCoLkR4QWESnooaICgoIFYgs1Xuo0wcNNLZwoUBVsa1twMoCWCIIpkAgzkMQkkGT//vBhTgfiToQ9Mxn4fp7HJ7LWzF4rr5P4svfOJMgwDEMAAACwTLC/NwAAAHCpoWABAABYjIIFAABgMQoWAACAxShYAAAAFqNgAQAAWIyCBQAAYDEKFgAAgMUoWAAAABajYAEAAFiMggUAAGAxChYAAIDFKFgAAAAWo2ABAABYjIIFAABgMQoWAACAxShYAAAAFqNgAQAAWIyCBQAAYDEKFgAAgMUoWAAAABajYAEAAFiMggUAAGAxChYAAIDFKFgAAAAWo2ABAABYjIIFAABgMQoWAACAxShYAAAAFqNgAQAAWIyCBQAAYDEKFgAAgMUoWAAAABajYAEAAFiMggUAAGAxChYAAIDFKFgAAAAWo2ABAABYjIIFAABgsVB/b%2BByUV5e4e8tuAUHByk2NlwnTlSpocHw93ZaHPIxRz7myMcc%2BZgjH3MXks%2BVV7bz8q4axxmsy1BwcJCCgoIUHBzk7620SORjjnzMkY858jFHPuYCKR8KFgAAgMUoWAAAABajYAEAAFiMggUAAGAxChYAAIDFKFgAAAAWo2ABAABYjIIFAABgMQoWAACAxShYAAAAFqNgAQAAWIyCBQAAYDEKFgAAgMVC/b0BAMDl68dLP/T3Fr6Td6b19/cWECA4gwUAAGAxChYAAIDFKFgAAAAWo2ABAABYjIIFAABgMQoWAACAxShYAAAAFvNqwXr//ffVr18/5ebmfutjqqqqNHDgQD366KPusYaGBi1ZskSDBw9W3759NX78eB0%2BfNg973K5NG3aNPXr108333yzZs%2BerZqaGvf83r17dd999%2Bn666/XbbfdptWrV3us%2Bfbbb2vYsGHq3bu3Ro4cqQ8%2B%2BKDZawMAADTFawXrpZde0vz589W5c2fTxy1btkyVlZUeY6%2B99po2btyovLw8bd26VQkJCZoyZYoMw5AkzZkzR9XV1dq0aZPWrl2rkpISLVq0SJJUU1OjiRMn6oc//KHef/99LVmyRKtWrdKWLVskfVO%2BZs6cqRkzZuijjz7SuHHj9PDDD%2Bvo0aPNWhsAAKApXitYYWFhKiwsNC1Y%2B/bt06ZNm3T33Xd7jNtsNo0bN05du3ZVRESEcnNzVVJSot27d%2Burr75SUVGRcnNzFRsbq/j4eE2ePFlr167VmTNntG3bNp05c0YPPfSQ2rZtq%2BTkZI0aNUo2m02SVFBQoIyMDGVkZCgsLEzDhw9Xjx49tGHDhibXBgAAaA6v/aqc%2B%2B%2B/33TeMAzNmzdPubm5%2Bve//62KigpJ35yB2r9/v5KSktyPjYiIUOfOnWW321VRUaGQkBD17NnTPZ%2BcnKyvv/5an3/%2BuRwOh3r27KmQkBD3fFJSkgoKCiRJDodDGRkZHntJSkqS3W5vcu3rrruuWZ97WVmZysvLPcZCQ9sqLi6uWc/3tpCQYI%2BP8EQ%2B5sjHHPmYC/R8QkO9u%2B9Az8fbAikfv/0uQpvNpqCgII0cOVLLly93j588eVKGYSgqKsrj8VFRUXI6nYqOjlZERISCgoI85iTJ6XTK5XIpMjLS47nR0dFyuVxqaGiQy%2BVq9Nj79%2B9vcu3v8rn95%2BckSVOmTFFOTk6zj%2BELkZFX%2BHsLLRr5mCMfc%2BRjLlDziYkJ98k6gZqPrwRCPn4pWMePH9fzzz%2Bv3//%2B9x5F6T%2BZ3fN0IfdD/ec6TT3/Yu%2B3GjNmjDIzMz3GQkPbyumsuqjjWiUkJFiRkVfo1Klq1dc3%2BHs7LQ75mCMfc%2BRjLtDz8fb38UDPx9suJB9fleJz%2BaVgPf3007rrrrs8LvOdFR0dreDgYLlcLo9xl8ul9u3bKzY2VpWVlaqvr3dfBjz72LPzBw8ePO%2B5Z48bExPT6LFjY2ObXLu54uLizrscWF5eobq6lvXFUl/f0OL21JKQjznyMUc%2B5gI1H1/tOVDz8ZVAyMcvFzE3bNigwsJCpaenKz09Xb/97W/11ltvKT09XWFhYerevbscDof78adOndKhQ4fUq1cvJSYmyjAM7du3zz1vt9sVGRmpLl26KCUlRZ9%2B%2Bqnq6uo85tPS0iRJKSkpKi4u9tjP2fmm1gYAAGgOvxSs7du3a%2BPGjVq/fr3Wr1%2BvsWPHKjMzU%2BvXr5ckZWdnKz8/XyUlJaqsrNSiRYuUmJio1NRUxcbGasiQIVq6dKlOnDiho0eP6sUXX1RWVpZCQ0OVkZGhiIgIrVixQtXV1dq9e7cKCwuVnZ0tSRo9erR27Nihbdu2qba2VoWFhTp48KCGDx/e5NoAAADN4bVLhGcLydkzSUVFRZK%2BOVt01VVXeTw2IiJCV1xxhXt87NixKi8v109%2B8hNVVVUpPT3d46bxJ598UnPnztXgwYPVqlUr3Xnnne43M23durVWrlypuXPnKi8vTx06dFBubq4GDhwoSerRo4cWLVqkBQsWqLS0VN26ddOqVat05ZVXNmttAACApgQZvIOmT5SXV/h7C26hocGKiQmX01nV4q9h%2BwP5mCMfc%2BRj7tx8frz0Q39v6Tt5Z1p/rx6f14%2B5C8nnyivbeXlXjWv5byQBAAAQYChYAAAAFqNgAQAAWIyCBQAAYDEKFgAAgMUoWAAAABajYAEAAFiMggUAAGAxChYAAIDFKFgAAAAWo2ABAABYjIIFAABgMQoWAACAxShYAAAAFqNgAQAAWIyCBQAAYDEKFgAAgMUoWAAAABajYAEAAFiMggUAAGAxChYAAIDFKFgAAAAWo2ABAABYjIIFAABgMQoWAACAxShYAAAAFqNgAQAAWIyCBQAAYDEKFgAAgMUoWAAAABajYAEAAFjMqwXr/fffV79%2B/ZSbm3ve3JYtWzR8%2BHD17t1bQ4YM0R//%2BEeP%2Bfz8fA0ZMkR9%2BvRRdna2iouL3XO1tbX61a9%2BpQEDBig9PV05OTlyOp3u%2BdLSUj344INKT0/XoEGDtHDhQjU0NLjnd%2B7cqaysLPXp00dDhw7Vhg0bmr02AABAU7xWsF566SXNnz9fnTt3Pm/uk08%2B0YwZM5STk6O//e1veuyxx/Tkk0/q448/liS99957WrZsmZ599lnt2LFDgwYN0qRJk/T1119LkpYsWSKHwyGbzabNmzfLMAzNmjXLffypU6cqPj5eRUVFWrNmjYqKivTyyy9LksrKyjR58mSNHTtWO3fu1OzZszVnzhzZ7fZmrQ0AANAUrxWssLAwFRYWNlqwXC6XJk6cqFtuuUWhoaHKyMhQjx493AXLZrNp5MiRSktLU5s2bTRhwgRJ0tatW1VXV6fCwkJNnjxZV199taKjozVt2jRt27ZNx44dk91u1759%2BzRjxgy1a9dOCQkJGjdunGw2myRp48aNSkhIUFZWlsLCwtSvXz9lZmaqoKCgybUBAACaI9RbB77//vu/dW7AgAEaMGCA%2B891dXUqLy9XfHy8JMnhcOiOO%2B5wzwcHBysxMVF2u12JiYmqqKhQcnKye75r165q06aNHA6HysrK1LFjR0VFRbnnk5OTdeDAAVVWVsrhcCgpKcljP0lJSXrnnXeaXHvo0KHN%2BtzLyspUXl7uMRYa2lZxcXHNer63hYQEe3yEJ/IxRz7myMdcoOcTGurdfQd6Pt4WSPl4rWB9F4sWLVLbtm3dxcblcnkUJEmKioqS0%2BmUy%2BWSJEVGRnrMR0ZGuufPnTt7rLPzZ4vcWdHR0e57uMzWbi6bzably5d7jE2ZMkU5OTnNPoYvREZe4e8ttGjkY458zJGPuUDNJyYm3CfrBGo%2BvhII%2Bfi1YBmGoUWLFmnTpk3Kz89XWFiYx1xTz72Quebu62KMGTNGmZmZHmOhoW3ldFZd1HGtEhISrMjIK3TqVLXq6xuafsJlhnzMkY858jEX6Pl4%2B/t4oOfjbReSj69K8bn8VrAaGho0a9YsffLJJ/rDH/6gTp06uediYmLcZ6rOcrlc6t69u2JjY91/Dg//v9BOnjyp9u3bq76%2BvtHnBgUFKTY2ttFjO51O93HN1m6uuLi48y4HlpdXqK6uZX2x1Nc3tLg9tSTkY458zJGPuUDNx1d7DtR8fCUQ8vHbRcynnnpK//rXv84rV5KUkpIih8Ph/nN9fb327NmjtLQ0derUSVFRUR7zn332mU6fPq2UlBSlpKToyJEjOnHihHvebrerW7duCg8PV2pq6nlvu1BcXKy0tLQm1wYAAGgOvxSsv//979qwYYPy8vIUHR193nx2drbWrVunXbt2qbq6WitWrFDr1q01cOBAhYSEaPTo0Vq5cqWOHDkip9Op5557Trfeeqs6dOigpKQkpaamavHixaqsrFRJSYnWrFmj7OxsSdKwYcNUWlqqgoIC1dbWavv27dq%2BfbtGjx7d5NoAAADN4bVLhKmpqZK%2B%2BQlBSSoqKpL0zdmktWvXqqKiQoMGDfJ4Tt%2B%2BfbV69WoNGDBAjzzyiKZNm6bjx48rNTVVeXl5atOmjSQpJydHVVVVGjFihOrq6jRo0CDNmzfPfZwXXnhBc%2BbMUf/%2B/RUREaGxY8fq3nvvlSS1b99eq1at0vz58/XEE0%2BoY8eOWrhwoX7wgx9IUpNrAwAANCXIuNg7utEs5eUV/t6CW2hosGJiwuV0VrX4a9j%2BQD7myMcc%2BZg7N58fL/3Q31v6Tt6Z1t%2Brx%2Bf1Y%2B5C8rnyynZe3lXjWv4bSQAAAAQYChYAAIDFKFgAAAAWo2ABAABYjIIFAABgMQoWAACAxShYAAAAFqNgAQAAWIyCBQAAYDEKFgAAgMUoWAAAABajYAEAAFiMggUAAGAxChYAAIDFKFgAAAAWo2ABAABYjIIFAABgMQoWAACAxShYAAAAFqNgAQAAWIyCBQAAYDEKFgAAgMUoWAAAABajYAEAAFiMggUAAGAxChYAAIDFKFgAAAAWo2ABAABYjIIFAABgMQoWAACAxShYAAAAFvNqwXr//ffVr18/5ebmnjf39ttva9iwYerdu7dGjhypDz74wD3X0NCgJUuWaPDgwerbt6/Gjx%2Bvw4cPu%2BddLpemTZumfv366eabb9bs2bNVU1Pjnt%2B7d6/uu%2B8%2BXX/99brtttu0evVqy9YGAABoitcK1ksvvaT58%2Berc%2BfO583t3btXM2fO1IwZM/TRRx9p3Lhxevjhh3X06FFJ0muvvaaNGzcqLy9PW7duVUJCgqZMmSLDMCRJc%2BbMUXV1tTZt2qS1a9eqpKREixYtkiTV1NRo4sSJ%2BuEPf6j3339fS5Ys0apVq7RlyxZL1gYAAGiK1wpWWFiYCgsLGy1YBQUFysjIUEZGhsLCwjR8%2BHD16NFDGzZskCTZbDaNGzdOXbt2VUREhHJzc1VSUqLdu3frq6%2B%2BUlFRkXJzcxUbG6v4%2BHhNnjxZa9eu1ZkzZ7Rt2zadOXNGDz30kNq2bavk5GSNGjVKNpvtotcGAABojlBvHfj%2B%2B%2B//1jmHw6GMjAyPsaSkJNntdtXU1Gj//v1KSkpyz0VERKhz586y2%2B2qqKhQSEiIevbs6Z5PTk7W119/rc8//1wOh0M9e/ZUSEiIx7ELCgoueu3rrruuWZ97WVmZysvLPcZCQ9sqLi6uWc/3tpCQYI%2BP8EQ%2B5sjHHPmYC/R8QkO9u%2B9Az8fbAikfrxUsMy6XS1FRUR5jUVFR2r9/v06ePCnDMBqddzqdio6OVkREhIKCgjzmJMnpdMrlcikyMtLjudHR0XK5XGpoaLiotZvLZrNp%2BfLlHmNTpkxRTk5Os4/hC5GRV/h7Cy0a%2BZgjH3PkYy5Q84mJCffJOoGaj68EQj5%2BKViSmrynyWz%2BQu6H%2Bs9CdjFrN8eYMWOUmZnpMRYa2lZOZ9VFHdcqISHBioy8QqdOVau%2BvsHf22lxyMcc%2BZgjH3OBno%2B3v48Hej7ediH5%2BKoUn8svBSsmJkYul8tjzOVyKTY2VtHR0QoODm50vn379oqNjVVlZaXq6%2BvdlwHPPvbs/MGDB8977tnjXszazRUXF3fe5cDy8grV1bWsL5b6%2BoYWt6eWhHzMkY858jEXqPn4as%2BBmo%2BvBEI%2BfrmImZKSouLiYo8xu92utLQ0hYWFqXv37nI4HO65U6dO6dChQ%2BrVq5cSExNlGIb27dvn8dzIyEh16dJFKSkp%2BvTTT1VXV3fesS92bQAAgObwS8EaPXq0duzYoW3btqm2tlaFhYU6ePCghg8fLknKzs5Wfn6%2BSkpKVFlZqUWLFikxMVGpqamKjY3VkCFDtHTpUp04cUJHjx7Viy%2B%2BqKysLIWGhiojI0MRERFasWKFqqurtXv3bhUWFio7O/ui1wYAAGgOr10iPFtIzp5JKioqkvTN2aIePXpo0aJFWrBggUpLS9WtWzetWrVKV155pSRp7NixKi8v109%2B8hNVVVUpPT3d46bxJ598UnPnztXgwYPVqlUr3Xnnne43M23durVWrlypuXPnKi8vTx06dFBubq4GDhwoSRe9NgAAQFOCDN5B0yfKyyv8vQW30NBgxcSEy%2BmsavHXsP2BfMyRjznyMXduPj9e%2BqG/t/SdvDOtv1ePz%2BvH3IXkc%2BWV7by8q8a1/DeSAAAACDAULAAAAItRsAAAACxGwQIAALAYBQsAAMBiFCwAAACLUbAAAAAsRsECAACwGAULAADAYo0WrMzMTC1fvlxHjhzx9X4AAAACXqMF65577tHbb7%2BtW265RRMmTNCWLVvcv1MQAAAA5hotWFOmTNHbb7%2BtP/7xj%2BrevbueeuopZWRkaOHChTpw4ICv9wgAABBQTO/BSk5O1syZM7V161Y99thj%2BuMf/6g77rhD48eP1yeffOKrPQIAAAQU04J15swZvf3223rggQc0c%2BZMxcfHa9asWUpMTNS4ceO0ceNGX%2B0TAAAgYIQ2NlhSUqLCwkKtW7dOVVVVGjJkiF5%2B%2BWVdf/317sf07dtX8%2BbN07Bhw3y2WQAAgEDQaMEaOnSounTpookTJ%2Bquu%2B5SdHT0eY/JyMjQiRMnvL5BAACAQNNowcrPz9eNN97Y5JN3795t%2BYYAAAACXaP3YPXs2VOTJk1SUVGRe%2Bz3v/%2B9HnjgAblcLp9tDgAAIBA1WrAWLFigiooKdevWzT02cOBANTQ06Omnn/bZ5gAAAAJRo5cIP/jgA23cuFExMTHusYSEBC1atEh33nmnzzYHAAAQiBo9g1VTU6OwsLDzHxwcrOrqaq9vCgAAIJA1WrD69u2rp59%2BWidPnnSPHTt2TE888YTHWzUAAADgfI1eInzsscf085//XDfddJMiIiLU0NCgqqoqderUSa%2B88oqv9wgAABBQGi1YnTp10ltvvaU///nPOnTokIKDg9WlSxfdfPPNCgkJ8fUeAQAAAkqjBUuSWrdurVtuucWXewEAALgkNFqwDh8%2BrMWLF%2Btf//qXampqzpt/9913vb4xAACAQPWt92CVlZXp5ptvVtu2bX29JwAAgIDWaMEqLi7Wu%2B%2B%2Bq9jYWF/vBwAAIOA1%2BjYN7du358wVAADABWq0YE2cOFHLly%2BXYRi%2B3g8AAEDAa/QS4Z///Gf94x//0Jtvvqnvfe97Cg727GFvvPGGJYvv2bNHTz/9tPbs2aOwsDDddNNNeuyxxxQbG6udO3dq8eLF%2Bvzzz3X11Vdr4sSJGj58uPu5%2Bfn5eu2111ReXq6ePXtq9uzZSklJkSTV1tbq17/%2BtbZt26ba2lqlp6friSeecP/qn9LSUj3xxBPavXu32rZtqzvuuEPTp093f55NrQ0AAGCm0TNYERERGjBggDIyMtS1a1d16dLF4x8r1NXV6cEHH9R1112nHTt2aNOmTTpx4oTmzZunsrIyTZ48WWPHjtXOnTs1e/ZszZkzR3a7XZL03nvvadmyZXr22We1Y8cODRo0SJMmTdLXX38tSVqyZIkcDodsNps2b94swzA0a9Ys99pTp05VfHy8ioqKtGbNGhUVFenll1%2BWpCbXBgAAaEqjZ7AWLFjg9YXLy8tVXl6uESNGqHXr1mrdurVuvfVWrV69Whs3blRCQoKysrIkSf369VNmZqYKCgqUmpoqm82mkSNHKi0tTZI0YcIE5efna%2BvWrRoyZIgKCwv1zDPP6Oqrr5YkTZs2TUOHDtWxY8dUVlamffv2ac2aNWrXrp3atWuncePG6eWXX9bPfvazJtcGAABoSqNnsCTp888/17JlyzzO/Pzzn/%2B0bOH4%2BHglJibKZrOpqqpKx48f15YtWzRw4EA5HA4lJSV5PD4pKUnFxcWSdN58cHCwEhMTZbfbdejQIVVUVCg5Odk937VrV7Vp00YOh0MOh0MdO3ZUVFSUez45OVkHDhxQZWVlk2sDAAA0pdEzWDt37tQDDzygLl266ODBg1qwYIEOHz6s%2B%2B%2B/X0uXLtXgwYMveuHg4GAtW7bMffZIkm688UZNnz5dkydPVnx8vMfjo6Oj5XQ6JUkul8ujIElSVFSUnE6nXC6XJCkyMtJjPjIy0j1/7tzZY52dN1u7OcrKylReXu4xFhraVnFxcc0%2BhjeFhAR7fIQn8jFHPubIx1yg5xMa6t19B3o%2B3hZI%2BTRasJYsWaJf/OIX%2BulPf6pevXpJ%2Bub3Ez799NN68cUXLSlYp0%2Bf1qRJk3T77be775964oknNGPGjGY9v6mfcDSb9/ZPR9psNi1fvtxjbMqUKcrJyfHqut9VZOQV/t5Ci0Y%2B5sjHHPmYC9R8YmLCfbJOoObjK4GQT6MF67PPPtOrr74qSQoKCnKP33777XrssccsWXjnzp368ssv9cgjjygkJETt2rVTTk6ORowYoR/96EfuM1FnOZ1O9xufxsTEnDfvcrnUvXt392NcLpfCw//vC%2BHkyZNq37696uvrG31uUFCQYmNjGz32f67dHGPGjFFmZqbHWGhoWzmdVc0%2BhjeFhAQrMvIKnTpVrfr6Bn9vp8UhH3PkY458zAV6Pt7%2BPh7o%2BXjbheTjq1J8rkYLVrt27VRTU6PWrVt7jJeVlZ03dqHq6%2BvV0NDgcTbp9OnTkr65sfx//ud/PB5fXFzsvqk9JSVFDodDd999t/tYe/bsUVZWljp16qSoqCj3vVbSN4Xx9OnTSklJUVlZmY4cOaITJ064S5Pdble3bt0UHh6u1NRUrV279lvXbo64uLjzLgeWl1eorq5lfbHU1ze0uD21JORjjnzMkY%2B5QM3HV3sO1Hx8JRDyafQiZp8%2BffTUU0%2BpsrLSPXbgwAHNnDlTN910kyUL9%2B7dW23bttWyZctUXV0tp9OpFStWqG/fvhoxYoRKS0tVUFCg2tpabd%2B%2BXdu3b9fo0aMlSdnZ2Vq3bp127dql6upqrVixQq1bt9bAgQMVEhKi0aNHa%2BXKlTpy5IicTqeee%2B453XrrrerQoYOSkpKUmpqqxYsXq7KyUiUlJVqzZo2ys7MlScOGDTNdGwAAoClBRiM3JB09elQ//elP9eWXX6q%2Bvl5t27ZVdXW1unfvrpUrV%2Bqaa66xZPHi4mI988wz2rdvn1q3bq0bb7xRjz76qOLj4/W3v/1N8%2BfPV0lJiTp27Kjp06frtttucz/39ddfV15eno4fP67U1FTNmzdPPXr0kPTNmbAFCxborbfeUl1dnQYNGqR58%2BapXbt27s9vzpw5%2Butf/6qIiAiNHTtWDz/8sPtyaFNrX4jy8oqLer6VQkODFRMTLqezqsX/DcAfyMcc%2BZgjH3Pn5vPjpR/6e0vfyTvT%2Bnv1%2BLx%2BzF1IPlde2c7Lu2pcowVLks6cOaPt27frwIEDatOmjbp06aL%2B/ft73JOF5qNgBQ7yMUc%2B5sjHHAXLHK8fc4FUsBq9B0uSWrVqpVtuucWXewEAALgkNFqwMjMzTc9Uvfvuu17bEAAAQKBrtGDdcccdHgWrvr5eBw4ckN1u109/%2BlOfbQ4AACAQNVqwvu3NPjdv3qy//OUvXt0QAABAoPtO7zV/yy236K233vLWXgAAAC4J36lg7dmzx%2Bu/ZgYAACDQNXqJcOzYseeNVVdXq6Sk5KLfDwoAAOBS12jBSkhIOO%2BnCMPCwpSVlaVRo0b5ZGMAAACBqtGC9fTTT/t6HwAAAJeMRgvWunXrmn2Au%2B66y7LNAAAAXAoaLVizZ89WQ0PDeTe0BwUFeYwFBQVRsAAAAM7RaMH67W9/q9WrV2vSpEnq2bOnDMPQp59%2Bqpdeekn33Xef0tPTfb1PAACAgPGt92Dl5eUpPj7ePXbDDTeoU6dOGj9%2BvDZt2uSzDQIAAASaRt8H6%2BDBg4qKijpvPDIyUqWlpV7fFAAAQCBrtGB17NhRTz/9tJxOp3vs1KlTWrx4sb7//e/7bHMAAACBqNFLhI899pimT58um82m8PBwBQcHq7KyUm3atNGLL77o6z0CAAAElEYL1s0336xt27Zp%2B/btOnr0qAzDUHx8vH70ox%2BpXbt2vt4jAABAQGm0YEnSFVdcocGDB%2Bvo0aPq1KmTL/cEAAAQ0Bq9B6umpkYzZ85U79699eMf/1jSN/dgTZgwQadOnfLpBgEAAAJNowVr4cKF2rt3rxYtWqTg4P97SH19vRYtWuSzzQEAAASiRgvW5s2b9cILL%2Bj22293/9LnyMhILViwQFu2bPHpBgEAAAJNowWrqqpKCQkJ543Hxsbq66%2B/9vaeAAAAAlqjBev73/%2B%2B/vKXv0iSx%2B8e/NOf/qRrrrnGNzsDAAAIUI3%2BFOG9996rqVOn6p577lFDQ4PWrFmj4uJibd68WbNnz/b1HgEAAAJKowVrzJgxCg0N1auvvqqQkBCtXLlSXbp00aJFi3T77bf7eo8AAAABpdGCdeLECd1zzz265557fL0fAACAgNfoPViDBw/2uPcKAAAAzddowUpPT9c777zj670AAABcEhq9RHj11Vfr17/%2BtfLy8vT9739frVq18phfvHixTzYHAAAQiBotWPv379e1114rSXI6nT7dEAAAQKDzKFi5ublasmSJXnnlFffYiy%2B%2BqGJKvuMAAB4dSURBVClTpvh8YwAAAIHK4x6s995777wH5OXleXUDK1as0M0336zrrrtO48aN05dffilJ2rlzp7KystSnTx8NHTpUGzZs8Hhefn6%2BhgwZoj59%2Big7O1vFxcXuudraWv3qV7/SgAEDlJ6erpycHI8zcaWlpXrwwQeVnp6uQYMGaeHChWpoaHDPN7U2AACAGY%2BC1dhPDnrzpwlfe%2B01bdiwQfn5%2Bfrggw/UrVs3/f73v1dZWZkmT56ssWPHaufOnZo9e7bmzJkju90u6ZsiuGzZMj377LPasWOHBg0apEmTJrl/jc%2BSJUvkcDhks9m0efNmGYahWbNmudedOnWq4uPjVVRUpDVr1qioqEgvv/yyJDW5NgAAQFM8CtbZX%2Bzc1JhVVq9erdzcXF177bWKiIjQ448/rscff1wbN25UQkKCsrKyFBYWpn79%2BikzM1MFBQWSJJvNppEjRyotLU1t2rTRhAkTJElbt25VXV2dCgsLNXnyZF199dWKjo7WtGnTtG3bNh07dkx2u1379u3TjBkz1K5dOyUkJGjcuHGy2WyS1OTaAAAATWn0bRp84dixY/ryyy918uRJ3XHHHe5LeSdOnJDD4VBSUpLH45OSktyXAc%2BdDw4OVmJioux2uw4dOqSKigolJye757t27ao2bdrI4XDI4XCoY8eOioqKcs8nJyfrwIEDqqysbHJtAACApjT6U4S%2BcPToUUnf/ALpNWvWyDAM5eTk6PHHH1dNTY3i4%2BM9Hh8dHe2%2Bj8rlcnkUJEmKioqS0%2BmUy%2BWSJEVGRnrMR0ZGuufPnTt7rLPzZms3R1lZmcrLyz3GQkPbKi4urtnH8KaQkGCPj/BEPubIxxz5mAv0fEJDvbvvQM/H2wIpH4%2BCdebMGU2fPl1NjVnxPlhn7%2B2aMGGCu9BMnTpVDzzwgPr169fs51/IvLffpd5ms2n58uUeY1OmTFFOTo5X1/2uIiOv8PcWWjTyMUc%2B5sjHXKDmExMT7pN1AjUfXwmEfDwK1vXXX6%2BysjI1NWaFDh06SPI809SxY0cZhqEzZ864z0Sd5XQ6FRsbK0mKiYk5b97lcql79%2B7ux7hcLoWH/98XwsmTJ9W%2BfXvV19c3%2BtygoCDFxsY2euz/XLs5xowZo8zMTI%2Bx0NC2cjqrmn0MbwoJCVZk5BU6dapa9fUNTT/hMkM%2B5sjHHPmYC/R8vP19PNDz8bYLycdXpfhcHgXrP9//ytuuuuoqRUREaO/eve77pUpLS9WqVStlZGRo/fr1Ho8vLi5WWlqaJCklJUUOh0N33323JKm%2Bvl579uxRVlaWOnXqpKioKPe9VpL02Wef6fTp00pJSVFZWZmOHDmiEydOuEuT3W5Xt27dFB4ertTUVK1du/Zb126OuLi48y4HlpdXqK6uZX2x1Nc3tLg9tSTkY458zJGPuUDNx1d7DtR8fCUQ8vHbRczQ0FBlZWVp5cqV%2BuKLL3T8%2BHG9%2BOKLGjZsmO6%2B%2B26VlpaqoKBAtbW12r59u7Zv367Ro0dLkrKzs7Vu3Trt2rVL1dXVWrFihVq3bq2BAwcqJCREo0eP1sqVK3XkyBE5nU4999xzuvXWW9WhQwclJSUpNTVVixcvVmVlpUpKSrRmzRplZ2dLkoYNG2a6NgAAQFP8dpO7JE2fPl2nT5/WqFGjdObMGQ0ZMkSPP/64wsPDtWrVKs2fP19PPPGEOnbsqIULF%2BoHP/iBJGnAgAF65JFHNG3aNB0/flypqanKy8tTmzZtJEk5OTmqqqrSiBEjVFdXp0GDBmnevHnudV944QXNmTNH/fv3V0REhMaOHat7771XktS%2BfXvTtQEAAJoSZHj7jm9I%2BuYSYUsRGhqsmJhwOZ1VLf4Uqz%2BQjznyMUc%2B5s7N58dLP/T3lr6Td6b19%2Brxef2Yu5B8rryynZd31biW/3OOAAAAAYaCBQAAYDEKFgAAgMUoWAAAABajYAEAAFiMggUAAGAxChYAAIDFKFgAAAAWo2ABAABYjIIFAABgMQoWAACAxShYAAAAFqNgAQAAWIyCBQAAYDEKFgAAgMUoWAAAABajYAEAAFiMggUAAGAxChYAAIDFKFgAAAAWo2ABAABYjIIFAABgMQoWAACAxShYAAAAFqNgAQAAWIyCBQAAYDEKFgAAgMUoWAAAABajYAEAAFiMggUAAGAxChYAAIDFWkTBeuqpp9SzZ0/3n3fu3KmsrCz16dNHQ4cO1YYNGzwen5%2BfryFDhqhPnz7Kzs5WcXGxe662tla/%2BtWvNGDAAKWnpysnJ0dOp9M9X1paqgcffFDp6ekaNGiQFi5cqIaGhmavDQAA0BS/F6y9e/dq/fr17j%2BXlZVp8uTJGjt2rHbu3KnZs2drzpw5stvtkqT33ntPy5Yt07PPPqsdO3Zo0KBBmjRpkr7%2B%2BmtJ0pIlS%2BRwOGSz2bR582YZhqFZs2a5jz916lTFx8erqKhIa9asUVFRkV5%2B%2BeVmrQ0AANAcfi1YDQ0Nmjt3rsaNG%2Bce27hxoxISEpSVlaWwsDD169dPmZmZKigokCTZbDaNHDlSaWlpatOmjSZMmCBJ2rp1q%2Brq6lRYWKjJkyfr6quvVnR0tKZNm6Zt27bp2LFjstvt2rdvn2bMmKF27dopISFB48aNk81ma9baAAAAzRHqz8XfeOMNhYWFadiwYVq6dKkkyeFwKCkpyeNxSUlJeuedd9zzd9xxh3suODhYiYmJstvtSkxMVEVFhZKTk93zXbt2VZs2beRwOFRWVqaOHTsqKirKPZ%2BcnKwDBw6osrKyybWbq6ysTOXl5R5joaFtFRcX952O4y0hIcEeH%2BGJfMyRjznyMRfo%2BYSGenffgZ6PtwVSPn4rWF999ZWWLVumV155xWPc5XIpPj7eYyw6Otp9H5XL5fIoSJIUFRUlp9Mpl8slSYqMjPSYj4yMdM%2BfO3f2WGfnzdZuLpvNpuXLl3uMTZkyRTk5Od/pON4WGXmFv7fQopGPOfIxRz7mAjWfmJhwn6wTqPn4SiDk47eCtWDBAo0cOVLdunXTl19%2B%2BZ2eaxjGBc839VwrjBkzRpmZmR5joaFt5XRWeX3t5ggJCVZk5BU6dapa9fUNTT/hMkM%2B5sjHHPmYC/R8vP19PNDz8bYLycdXpfhcfilYO3fu1D//%2BU9t2rTpvLmYmBj3maiznE6nYmNjv3Xe5XKpe/fu7se4XC6Fh/9foCdPnlT79u1VX1/f6HODgoIUGxvb5NrNFRcXd97lwPLyCtXVtawvlvr6hha3p5aEfMyRjznyMReo%2Bfhqz4Gaj68EQj5%2BuYi5YcMGHT9%2BXIMGDVJ6erpGjhwpSUpPT1ePHj083nZBkoqLi5WWliZJSklJkcPhcM/V19drz549SktLU6dOnRQVFeUx/9lnn%2Bn06dNKSUlRSkqKjhw5ohMnTrjn7Xa7unXrpvDwcKWmppquDQAA0Bx%2BKViPPvqoNm/erPXr12v9%2BvXKy8uTJK1fv17Dhg1TaWmpCgoKVFtbq%2B3bt2v79u0aPXq0JCk7O1vr1q3Trl27VF1drRUrVqh169YaOHCgQkJCNHr0aK1cuVJHjhyR0%2BnUc889p1tvvVUdOnRQUlKSUlNTtXjxYlVWVqqkpERr1qxRdna2JDW5NgAAQHP45RJhVFSUx43qdXV1kqSrrrpKkrRq1SrNnz9fTzzxhDp27KiFCxfqBz/4gSRpwIABeuSRRzRt2jQdP35cqampysvLU5s2bSRJOTk5qqqq0ogRI1RXV6dBgwZp3rx57rVeeOEFzZkzR/3791dERITGjh2re%2B%2B9V5LUvn1707UBAACaI8jwxV3fUHl5hb%2B34BYaGqyYmHA5nVUt/hq2P5CPOfIxRz7mzs3nx0s/9PeWvpN3pvX36vF5/Zi7kHyuvLKdl3fVuJb/RhIAAAABhoIFAABgMQoWAACAxShYAAAAFqNgAQAAWIyCBQAAYDEKFgAAgMUoWAAAABajYAEAAFiMggUAAGAxChYAAIDFKFgAAAAWo2ABAABYjIIFAABgMQoWAACAxShYAAAAFqNgAQAAWIyCBQAAYDEKFgAAgMUoWAAAABajYAEAAFiMggUAAGAxChYAAIDFKFgAAAAWo2ABAABYjIIFAABgMQoWAACAxShYAAAAFqNgAQAAWIyCBQAAYDEKFgAAgMX8WrBKS0s1ZcoUpaenq1%2B/fnr00Ud16tQpSdLevXt133336frrr9dtt92m1atXezz37bff1rBhw9S7d2%2BNHDlSH3zwgXuuoaFBS5Ys0eDBg9W3b1%2BNHz9ehw8fds%2B7XC5NmzZN/fr1080336zZs2erpqbGPd/U2gAAAGb8WrAmTZqkyMhIvffee3rzzTf1r3/9S88884xqamo0ceJE/fCHP9T777%2BvJUuWaNWqVdqyZYukbwrQzJkzNWPGDH300UcaN26cHn74YR09elSS9Nprr2njxo3Ky8vT1q1blZCQoClTpsgwDEnSnDlzVF1drU2bNmnt2rUqKSnRokWLJKnJtQEAAJrit4J16tQppaSkaPr06QoPD9dVV12lu%2B%2B%2BWx9//LG2bdumM2fO6KGHHlLbtm2VnJysUaNGyWazSZIKCgqUkZGhjIwMhYWFafjw4erRo4c2bNggSbLZbBo3bpy6du2qiIgI5ebmqqSkRLt379ZXX32loqIi5ebmKjY2VvHx8Zo8ebLWrl2rM2fONLk2AABAU0L9tXBkZKQWLFjgMXbkyBHFxcXJ4XCoZ8%2BeCgkJcc8lJSWpoKBAkuRwOJSRkeHx3KSkJNntdtXU1Gj//v1KSkpyz0VERKhz586y2%2B2qqKhQSEiIevbs6Z5PTk7W119/rc8//7zJtZujrKxM5eXlHmOhoW0VFxfX7GN4U0hIsMdHeCIfc%2BRjjnzMBXo%2BoaHe3Xeg5%2BNtgZSP3wrWuex2u1599VWtWLFC77zzjiIjIz3mo6Oj5XK51NDQIJfLpaioKI/5qKgo7d%2B/XydPnpRhGI3OO51ORUdHKyIiQkFBQR5zkuR0OuVyuUzXDg5u%2Bj%2BqzWbT8uXLPcamTJminJycpoPwocjIK/y9hRaNfMyRjznyMReo%2BcTEhPtknUDNx1cCIZ8WUbD%2B/ve/66GHHtL06dPVr18/vfPOO40%2B7j9L0dn7qb6N2XxTz21q7aaMGTNGmZmZHmOhoW3ldFZ953W9ISQkWJGRV%2BjUqWrV1zf4ezstDvmYIx9z5GMu0PPx9vfxQM/H2y4kH1%2BV4nP5vWC99957%2BsUvfqE5c%2BborrvukiTFxsbq4MGDHo9zuVyKjo5WcHCwYmJi5HK5zpuPjY11P6ax%2Bfbt2ys2NlaVlZWqr693XwY8%2B9iz82ZrN0dcXNx5lwPLyytUV9eyvljq6xta3J5aEvIxRz7myMdcoObjqz0Haj6%2BEgj5%2BPUi5j/%2B8Q/NnDlTzz//vLtcSVJKSoo%2B/fRT1dXVucfsdrvS0tLc88XFxR7HOjsfFham7t27y%2BFwuOdOnTqlQ4cOqVevXkpMTJRhGNq3b5/HcyMjI9WlS5cm1wYAAGiK3wpWXV2dHn/8cc2YMUM333yzx1xGRoYiIiK0YsUKVVdXa/fu3SosLFR2drYkafTo0dqxY4e2bdum2tpaFRYW6uDBgxo%2BfLgkKTs7W/n5%2BSopKVFlZaUWLVqkxMREpaamKjY2VkOGDNHSpUt14sQJHT16VC%2B%2B%2BKKysrIUGhra5NoAAABNCTIu5IYkC3z88cf6r//6L7Vu3fq8uT/96U%2BqqqrS3LlzVVxcrA4dOuiBBx7Qvffe637Mli1btHjxYpWWlqpbt26aPXu2%2BvbtK%2Bmbe6yWLVumN954Q1VVVUpPT9eTTz6pq666SpJUUVGhuXPnauvWrWrVqpXuvPNOPfroo%2B69fPbZZ6ZrX4jy8oqLer6VQkODFRMTLqezqsWfYvUH8jFHPubIx9y5%2Bfx46Yf%2B3tJ38s60/l49Pq8fcxeSz5VXtvPyrhrnt4J1uaFgBQ7yMUc%2B5sjHHAXLHK8fc4FUsFr%2BG0kAAAAEGAoWAACAxShYAAAAFqNgAQAAWIyCBQAAYDEKFgAAgMUoWAAAABajYAEAAFiMggUAAGAxChYAAIDFKFgAAAAWo2ABAABYjIIFAABgMQoWAACAxShYAAAAFqNgAQAAWIyCBQAAYDEKFgAAgMUoWAAAABajYAEAAFiMggUAAGAxChYAAIDFKFgAAAAWo2ABAABYjIIFAABgMQoWAACAxShYAAAAFqNgAQAAWIyCBQAAYDEKFgAAgMUoWAAAABajYDWitLRUDz74oNLT0zVo0CAtXLhQDQ0N/t4WAAAIEKH%2B3kBLNHXqVCUnJ6uoqEjHjx/XxIkT1aFDB/3sZz/z99YAAEAA4AzWOex2u/bt26cZM2aoXbt2SkhI0Lhx42Sz2fy9NQAAECA4g3UOh8Ohjh07Kioqyj2WnJysAwcOqLKyUhEREU0eo6ysTOXl5R5joaFtFRcXZ/l%2BL0RISLDHR3giH3PkY458zAV6PqGh3t13oOfjbYGUDwXrHC6XS5GRkR5jZ8uW0%2BlsVsGy2Wxavny5x9jDDz%2BsqVOnWrfRi1BWVqaXX/6txowZ02JKX0tCPubIxxz5mDs3n49/fbu/t9Si8PoxF0j5tPwK6AeGYVzU88eMGaM333zT458xY8ZYtLuLV15eruXLl593lg3fIB9z5GOOfMyRjznyMRdI%2BXAG6xyxsbFyuVweYy6XS0FBQYqNjW3WMeLi4lp8swYAAN7DGaxzpKSk6MiRIzpx4oR7zG63q1u3bgoPD/fjzgAAQKCgYJ0jKSlJqampWrx4sSorK1VSUqI1a9YoOzvb31sDAAABImTevHnz/L2JluZHP/qRNm3apP/%2B7//WW2%2B9paysLI0fP15BQUH%2B3pplwsPDdeONN3JW7luQjznyMUc%2B5sjHHPmYC5R8goyLvaMbAAAAHrhECAAAYDEKFgAAgMUoWAAAABajYAEAAFiMggUAAGAxChYAAIDFKFgAAAAWo2ABAABYjIIFAABgMQrWJc5ut%2BvWW2/V6NGjz5v761//qjFjxqhPnz7KzMzUb37zG4/5t99%2BW8OGDVPv3r01cuRIffDBB77ats%2BY5WMYhn73u98pJSVFf/jDHzzmGhoatGTJEg0ePFh9%2B/bV%2BPHjdfjwYV9t22fM8tm5c6eysrLUp08fDR06VBs2bPCYz8/P15AhQ9SnTx9lZ2eruLjYV9v2iy%2B%2B%2BEKTJk1Senq60tPT9cwzz6ihocE931Rel7rDhw975DNp0iQdOnTIPb93717dd999uv7663Xbbbdp9erVftytb5WWlio1NfW8f3r27KnS0lJJl3c%2BZxUUFCgzM1NpaWkaPXq09uzZ455rkfkYuGStX7/eyMjIMMaPH2%2BMGjXKY660tNS47rrrjNdff904ffq0sXv3buP666831q1bZxiGYezZs8dISUkxtm3bZtTU1Bjr16830tLSjCNHjvjjU/EKs3wMwzAeeOABY8KECcZNN91kvP766x5z%2Bfn5xqBBg4z9%2B/cbFRUVxpNPPmkMGzbMaGho8NX2vc4sn2PHjhnXXXedUVBQYNTU1Bgffvih0atXL%2BOTTz4xDMMw3n33XeOGG24wdu3aZVRXVxurVq0y%2Bvfvb1RVVfnjU/G6M2fOGEOGDDF%2B%2BctfGqdOnTJKS0uNu%2B%2B%2B23jppZcMw2g6r8vBPffcY/zyl780KisrjcrKSuOXv/ylMXLkSMMwDKO6utr40Y9%2BZCxbtsyoqqoyiouLjRtvvNHYvHmzn3ftPxs2bDBGjRplNDQ0kI9hGFu3bjX69%2B9v7N6926iqqjJ%2B85vfGFOmTDEMo%2BW%2BfjiDdQmrra2VzWZTWlraeXNfffWVsrKylJ2drVatWqlXr17q16%2BfPv74Y0nf/E0hIyNDGRkZCgsL0/Dhw9WjR49L6m/dZvlI0nXXXae8vDy1adPmvDmbzaZx48apa9euioiIUG5urkpKSrR7925vb9tnzPLZuHGjEhISlJWVpbCwMPXr10%2BZmZkqKCiQ9E0%2BI0eOVFpamtq0aaMJEyZIkrZu3erTz8FXDhw4oAMHDig3N1ft2rXTNddco//3//6fO4%2Bm8rrUGYahvXv36o477lB4eLjCw8M1dOhQ7du3T4ZhaNu2bTpz5oweeughtW3bVsnJyRo1apRsNpu/t%2B4XlZWVWrhwoR5//HEFBQWRj6Tf/e53Gj9%2BvHr16qW2bdvqoYce0vLlyyWpxeZDwbqEjRo1SvHx8Y3O9erVS7Nnz/YYO3LkiPvxDodDSUlJHvNJSUmy2%2B3e2awfmOUjSZMnT1ZQUNB54zU1Ndq/f79HPhEREercufNlk8%2B3vT7OXgY8dz44OFiJiYmXVD6N%2Bc/XS2RkpL744gtVV1c3mdelLigoSAMGDNCbb76pkydP6tSpU9q0aZMyMjIUFBQkh8Ohnj17KiQkxP2cyymfc61evVq9e/dWr169JOmyz6e%2Bvl67du1ScHCwRo4cqRtuuEE///nP3bdltNR8KFiQJL3yyis6dOiQxo4dK0lyuVyKioryeExUVJScTqc/tteinDx5UoZhXNb5uFwuRUZGeoxFR0e7P//L7fXTpUsXJSQk6LnnnlNlZaXKysq0evVqGYahU6dONZnX5WDBggU6dOiQbrzxRvXt21f79u3Tk08%2BKenbX08ul8vjPrbLQWVlpV577TVNmjTJPXa55%2BN0OnX69GmtX79eixcv1v/%2B7/8qLCxMOTk5MgyjxeZDwQpg69evV8%2BePRv9580332z2cV599VU9//zz%2Bs1vfqMOHTq4xw3D8Ma2fcaqfL4N%2BZgL9HzOZZbXhg0btHz5ch05ckQZGRkaP368hgwZIkkef6u%2BlDX1esrNzVXXrl21c%2BdOffTRR%2Brdu7cefPBB0/8BNnYGOVA19%2Btt3bp16t69uxITE5s85uWWz7333qsuXbooJiZGv/jFL7Rnzx4dPHjwW4/p73xC/bo6LsqIESM0YsSIizrGkiVLtHbtWuXn53tcwoiJiZHL5fJ4rMvlUmxs7EWt50tW5NOY6OhoBQcHN5pP%2B/btLV/PWy4mn8ZeH06n0/36%2BLbXT/fu3S9ssy1Ac/LKz893/3txcbFat26tmJiYJvO6FJjls3//fs2aNUt//vOf3Z/zjBkzdMMNN2jv3r2KjY0973%2BULpfL/bV2KWju19uf/vQnZWZmeoxd7vnU19dr6dKlHmepvve970n65n7ilprPpfFfBhdkzZo12rRpk2w223n3h6SkpJx3/dput3/rDeGXk7CwMHXv3l0Oh8M9durUKR06dMh9z8SlLjU19bzXR3Fxsfv1kZKS4pFPfX299uzZc0m/ft566y0dO3bM/ecPP/xQvXr1UkhISJN5Xerq6%2BslyeNs1enTp93/npKSok8//VR1dXXuscvx%2B43T6dTf//539e/f32P8cs8nJCRECQkJ2rt3r3vsyy%2B/lCRdc801LTYfCtZl6vDhw3rhhRe0YsUKdezY8bz50aNHa8eOHdq2bZtqa2tVWFiogwcPavjw4X7YbcuTnZ2t/Px8lZSUqLKyUosWLVJiYqJSU1P9vTWfGDZsmEpLS1VQUKDa2lpt375d27dvd79fVnZ2ttatW6ddu3apurpaK1asUOvWrTVw4ED/btyL3njjDT377LOqra2Vw%2BHQ6tWr9bOf/UxS03ld6q699lolJCTo%2BeefV0VFhSorK/XCCy%2Boc%2BfO6t69uzIyMhQREaEVK1aourpau3fvVmFhobKzs/29dZ/69NNP1dDQ4D47cxb5SGPHjtXrr78uu92uyspKLVmyROnp6erYsWOLzSfIuNRulIDbkCFD9O9//1v19fVqaGhQq1atJH1zCnrdunVatmyZe%2Bysa665Rps3b5YkbdmyRYsXL1Zpaam6deum2bNnq2/fvj7/PLzFLJ9///vf%2BvnPfy7pm79ph4aGKjg4WH379nXfvLxs2TK98cYbqqqqUnp6up588kldddVV/vyULGWWT8eOHfW3v/1N8%2BfPV0lJiTp27Kjp06frtttucz//9ddfV15eno4fP67U1FTNmzdPPXr08Nen43WHDx/WrFmzVFxcrJiYGD344IMe3%2BCbyutS98UXX2jBggXatWuXDMNQr169NGvWLF177bWSpM8%2B%2B0xz585VcXGxOnTooAceeED33nuvn3ftW5s2bdKcOXP0z3/%2B87y5yz2fs99zbTabKisrddNNN2n%2B/Pnu%2B4ZbYj4ULAAAAItxiRAAAMBiFCwAAACLUbAAAAAsRsECAACwGAULAADAYhQsAAAAi1GwAAAALEbBAgAAsBgFCwAAwGIULAAAAItRsAAAACxGwQIAALAYBQsAAMBi/x9L0nfsOxm3rQAAAABJRU5ErkJggg%3D%3D\"/>\n",
              "        </div>\n",
              "        <div role=\"tabpanel\" class=\"tab-pane col-md-12\" id=\"common8540695178509476491\">\n",
              "            \n",
              "<table class=\"freq table table-hover\">\n",
              "    <thead>\n",
              "    <tr>\n",
              "        <td class=\"fillremaining\">Value</td>\n",
              "        <td class=\"number\">Count</td>\n",
              "        <td class=\"number\">Frequency (%)</td>\n",
              "        <td style=\"min-width:200px\">&nbsp;</td>\n",
              "    </tr>\n",
              "    </thead>\n",
              "    <tr class=\"\">\n",
              "        <td class=\"fillremaining\">-73.98233032226562</td>\n",
              "        <td class=\"number\">443</td>\n",
              "        <td class=\"number\">0.0%</td>\n",
              "        <td>\n",
              "            <div class=\"bar\" style=\"width:1%\">&nbsp;</div>\n",
              "        </td>\n",
              "</tr><tr class=\"\">\n",
              "        <td class=\"fillremaining\">-73.98209381103516</td>\n",
              "        <td class=\"number\">433</td>\n",
              "        <td class=\"number\">0.0%</td>\n",
              "        <td>\n",
              "            <div class=\"bar\" style=\"width:1%\">&nbsp;</div>\n",
              "        </td>\n",
              "</tr><tr class=\"\">\n",
              "        <td class=\"fillremaining\">-73.98224639892578</td>\n",
              "        <td class=\"number\">430</td>\n",
              "        <td class=\"number\">0.0%</td>\n",
              "        <td>\n",
              "            <div class=\"bar\" style=\"width:1%\">&nbsp;</div>\n",
              "        </td>\n",
              "</tr><tr class=\"\">\n",
              "        <td class=\"fillremaining\">-73.98211669921875</td>\n",
              "        <td class=\"number\">427</td>\n",
              "        <td class=\"number\">0.0%</td>\n",
              "        <td>\n",
              "            <div class=\"bar\" style=\"width:1%\">&nbsp;</div>\n",
              "        </td>\n",
              "</tr><tr class=\"\">\n",
              "        <td class=\"fillremaining\">-73.99137878417969</td>\n",
              "        <td class=\"number\">420</td>\n",
              "        <td class=\"number\">0.0%</td>\n",
              "        <td>\n",
              "            <div class=\"bar\" style=\"width:1%\">&nbsp;</div>\n",
              "        </td>\n",
              "</tr><tr class=\"\">\n",
              "        <td class=\"fillremaining\">-73.9822006225586</td>\n",
              "        <td class=\"number\">419</td>\n",
              "        <td class=\"number\">0.0%</td>\n",
              "        <td>\n",
              "            <div class=\"bar\" style=\"width:1%\">&nbsp;</div>\n",
              "        </td>\n",
              "</tr><tr class=\"\">\n",
              "        <td class=\"fillremaining\">-73.98226928710938</td>\n",
              "        <td class=\"number\">414</td>\n",
              "        <td class=\"number\">0.0%</td>\n",
              "        <td>\n",
              "            <div class=\"bar\" style=\"width:1%\">&nbsp;</div>\n",
              "        </td>\n",
              "</tr><tr class=\"\">\n",
              "        <td class=\"fillremaining\">-73.99140167236328</td>\n",
              "        <td class=\"number\">406</td>\n",
              "        <td class=\"number\">0.0%</td>\n",
              "        <td>\n",
              "            <div class=\"bar\" style=\"width:1%\">&nbsp;</div>\n",
              "        </td>\n",
              "</tr><tr class=\"\">\n",
              "        <td class=\"fillremaining\">-73.98238372802734</td>\n",
              "        <td class=\"number\">405</td>\n",
              "        <td class=\"number\">0.0%</td>\n",
              "        <td>\n",
              "            <div class=\"bar\" style=\"width:1%\">&nbsp;</div>\n",
              "        </td>\n",
              "</tr><tr class=\"\">\n",
              "        <td class=\"fillremaining\">-73.98230743408203</td>\n",
              "        <td class=\"number\">403</td>\n",
              "        <td class=\"number\">0.0%</td>\n",
              "        <td>\n",
              "            <div class=\"bar\" style=\"width:1%\">&nbsp;</div>\n",
              "        </td>\n",
              "</tr><tr class=\"other\">\n",
              "        <td class=\"fillremaining\">Other values (33811)</td>\n",
              "        <td class=\"number\">1454444</td>\n",
              "        <td class=\"number\">99.7%</td>\n",
              "        <td>\n",
              "            <div class=\"bar\" style=\"width:100%\">&nbsp;</div>\n",
              "        </td>\n",
              "</tr>\n",
              "</table>\n",
              "        </div>\n",
              "        <div role=\"tabpanel\" class=\"tab-pane col-md-12\"  id=\"extreme8540695178509476491\">\n",
              "            <p class=\"h4\">Minimum 5 values</p>\n",
              "            \n",
              "<table class=\"freq table table-hover\">\n",
              "    <thead>\n",
              "    <tr>\n",
              "        <td class=\"fillremaining\">Value</td>\n",
              "        <td class=\"number\">Count</td>\n",
              "        <td class=\"number\">Frequency (%)</td>\n",
              "        <td style=\"min-width:200px\">&nbsp;</td>\n",
              "    </tr>\n",
              "    </thead>\n",
              "    <tr class=\"\">\n",
              "        <td class=\"fillremaining\">-121.9333038330078</td>\n",
              "        <td class=\"number\">1</td>\n",
              "        <td class=\"number\">0.0%</td>\n",
              "        <td>\n",
              "            <div class=\"bar\" style=\"width:100%\">&nbsp;</div>\n",
              "        </td>\n",
              "</tr><tr class=\"\">\n",
              "        <td class=\"fillremaining\">-121.93320465087892</td>\n",
              "        <td class=\"number\">1</td>\n",
              "        <td class=\"number\">0.0%</td>\n",
              "        <td>\n",
              "            <div class=\"bar\" style=\"width:100%\">&nbsp;</div>\n",
              "        </td>\n",
              "</tr><tr class=\"\">\n",
              "        <td class=\"fillremaining\">-80.35543060302734</td>\n",
              "        <td class=\"number\">1</td>\n",
              "        <td class=\"number\">0.0%</td>\n",
              "        <td>\n",
              "            <div class=\"bar\" style=\"width:100%\">&nbsp;</div>\n",
              "        </td>\n",
              "</tr><tr class=\"\">\n",
              "        <td class=\"fillremaining\">-79.81797790527342</td>\n",
              "        <td class=\"number\">1</td>\n",
              "        <td class=\"number\">0.0%</td>\n",
              "        <td>\n",
              "            <div class=\"bar\" style=\"width:100%\">&nbsp;</div>\n",
              "        </td>\n",
              "</tr><tr class=\"\">\n",
              "        <td class=\"fillremaining\">-79.7861328125</td>\n",
              "        <td class=\"number\">1</td>\n",
              "        <td class=\"number\">0.0%</td>\n",
              "        <td>\n",
              "            <div class=\"bar\" style=\"width:100%\">&nbsp;</div>\n",
              "        </td>\n",
              "</tr>\n",
              "</table>\n",
              "            <p class=\"h4\">Maximum 5 values</p>\n",
              "            \n",
              "<table class=\"freq table table-hover\">\n",
              "    <thead>\n",
              "    <tr>\n",
              "        <td class=\"fillremaining\">Value</td>\n",
              "        <td class=\"number\">Count</td>\n",
              "        <td class=\"number\">Frequency (%)</td>\n",
              "        <td style=\"min-width:200px\">&nbsp;</td>\n",
              "    </tr>\n",
              "    </thead>\n",
              "    <tr class=\"\">\n",
              "        <td class=\"fillremaining\">-69.04801940917969</td>\n",
              "        <td class=\"number\">1</td>\n",
              "        <td class=\"number\">0.0%</td>\n",
              "        <td>\n",
              "            <div class=\"bar\" style=\"width:100%\">&nbsp;</div>\n",
              "        </td>\n",
              "</tr><tr class=\"\">\n",
              "        <td class=\"fillremaining\">-68.77843475341797</td>\n",
              "        <td class=\"number\">1</td>\n",
              "        <td class=\"number\">0.0%</td>\n",
              "        <td>\n",
              "            <div class=\"bar\" style=\"width:100%\">&nbsp;</div>\n",
              "        </td>\n",
              "</tr><tr class=\"\">\n",
              "        <td class=\"fillremaining\">-65.89738464355469</td>\n",
              "        <td class=\"number\">1</td>\n",
              "        <td class=\"number\">0.0%</td>\n",
              "        <td>\n",
              "            <div class=\"bar\" style=\"width:100%\">&nbsp;</div>\n",
              "        </td>\n",
              "</tr><tr class=\"\">\n",
              "        <td class=\"fillremaining\">-65.848388671875</td>\n",
              "        <td class=\"number\">1</td>\n",
              "        <td class=\"number\">0.0%</td>\n",
              "        <td>\n",
              "            <div class=\"bar\" style=\"width:100%\">&nbsp;</div>\n",
              "        </td>\n",
              "</tr><tr class=\"\">\n",
              "        <td class=\"fillremaining\">-61.33552932739258</td>\n",
              "        <td class=\"number\">1</td>\n",
              "        <td class=\"number\">0.0%</td>\n",
              "        <td>\n",
              "            <div class=\"bar\" style=\"width:100%\">&nbsp;</div>\n",
              "        </td>\n",
              "</tr>\n",
              "</table>\n",
              "        </div>\n",
              "    </div>\n",
              "</div>\n",
              "</div><div class=\"row variablerow\">\n",
              "    <div class=\"col-md-3 namecol\">\n",
              "        <p class=\"h4 pp-anchor\" id=\"pp_var_dropoff_latitude\">dropoff_latitude<br/>\n",
              "            <small>Numeric</small>\n",
              "        </p>\n",
              "    </div><div class=\"col-md-6\">\n",
              "    <div class=\"row\">\n",
              "        <div class=\"col-sm-6\">\n",
              "            <table class=\"stats \">\n",
              "                <tr>\n",
              "                    <th>Distinct count</th>\n",
              "                    <td>62519</td>\n",
              "                </tr>\n",
              "                <tr>\n",
              "                    <th>Unique (%)</th>\n",
              "                    <td>4.3%</td>\n",
              "                </tr>\n",
              "                <tr class=\"ignore\">\n",
              "                    <th>Missing (%)</th>\n",
              "                    <td>0.0%</td>\n",
              "                </tr>\n",
              "                <tr class=\"ignore\">\n",
              "                    <th>Missing (n)</th>\n",
              "                    <td>0</td>\n",
              "                </tr>\n",
              "                <tr class=\"ignore\">\n",
              "                    <th>Infinite (%)</th>\n",
              "                    <td>0.0%</td>\n",
              "                </tr>\n",
              "                <tr class=\"ignore\">\n",
              "                    <th>Infinite (n)</th>\n",
              "                    <td>0</td>\n",
              "                </tr>\n",
              "            </table>\n",
              "\n",
              "        </div>\n",
              "        <div class=\"col-sm-6\">\n",
              "            <table class=\"stats \">\n",
              "\n",
              "                <tr>\n",
              "                    <th>Mean</th>\n",
              "                    <td>40.752</td>\n",
              "                </tr>\n",
              "                <tr>\n",
              "                    <th>Minimum</th>\n",
              "                    <td>32.181</td>\n",
              "                </tr>\n",
              "                <tr>\n",
              "                    <th>Maximum</th>\n",
              "                    <td>43.921</td>\n",
              "                </tr>\n",
              "                <tr class=\"ignore\">\n",
              "                    <th>Zeros (%)</th>\n",
              "                    <td>0.0%</td>\n",
              "                </tr>\n",
              "            </table>\n",
              "        </div>\n",
              "    </div>\n",
              "</div>\n",
              "<div class=\"col-md-3 collapse in\" id=\"minihistogram-2320146648702127306\">\n",
              "    <img src=\"data:image/png;base64,iVBORw0KGgoAAAANSUhEUgAAAMgAAABLCAYAAAA1fMjoAAAABHNCSVQICAgIfAhkiAAAAAlwSFlzAAAPYQAAD2EBqD%2BnaQAAADh0RVh0U29mdHdhcmUAbWF0cGxvdGxpYiB2ZXJzaW9uMy4xLjEsIGh0dHA6Ly9tYXRwbG90bGliLm9yZy8QZhcZAAAA/ElEQVR4nO3VsQ1CQQwFQT6iJIqgJ2J6ogh6Mg2glQjgLpjJLb1k5WNm5gR8dF49AHZ2WT2A/7ven1/fvB63HyzZnw8CQSAQBAJBIBAEAkEgEAQCQSAQBAJBIBAEAkEgEAQCQSAQBAJBIBAEAkEgEAQCQSAQBAJBIBAEAkEgEAQCQSAQBAJBIBAEAkEgEAQCQSAQBAJBIBAEAkEgEAQCQSAQBAJBIBAEAkEgEAQCQSAQBAJBIBCOmZnVI2BXPggEgUAQCASBQBAIBIFAEAgEgUAQCASBQBAIBIFAEAgEgUAQCASBQBAIBIFAEAgEgUAQCASBQBAIBIFAEAiEN63fC4/b/j8TAAAAAElFTkSuQmCC\">\n",
              "\n",
              "</div>\n",
              "<div class=\"col-md-12 text-right\">\n",
              "    <a role=\"button\" data-toggle=\"collapse\" data-target=\"#descriptives-2320146648702127306,#minihistogram-2320146648702127306\"\n",
              "       aria-expanded=\"false\" aria-controls=\"collapseExample\">\n",
              "        Toggle details\n",
              "    </a>\n",
              "</div>\n",
              "<div class=\"row collapse col-md-12\" id=\"descriptives-2320146648702127306\">\n",
              "    <ul class=\"nav nav-tabs\" role=\"tablist\">\n",
              "        <li role=\"presentation\" class=\"active\"><a href=\"#quantiles-2320146648702127306\"\n",
              "                                                  aria-controls=\"quantiles-2320146648702127306\" role=\"tab\"\n",
              "                                                  data-toggle=\"tab\">Statistics</a></li>\n",
              "        <li role=\"presentation\"><a href=\"#histogram-2320146648702127306\" aria-controls=\"histogram-2320146648702127306\"\n",
              "                                   role=\"tab\" data-toggle=\"tab\">Histogram</a></li>\n",
              "        <li role=\"presentation\"><a href=\"#common-2320146648702127306\" aria-controls=\"common-2320146648702127306\"\n",
              "                                   role=\"tab\" data-toggle=\"tab\">Common Values</a></li>\n",
              "        <li role=\"presentation\"><a href=\"#extreme-2320146648702127306\" aria-controls=\"extreme-2320146648702127306\"\n",
              "                                   role=\"tab\" data-toggle=\"tab\">Extreme Values</a></li>\n",
              "\n",
              "    </ul>\n",
              "\n",
              "    <div class=\"tab-content\">\n",
              "        <div role=\"tabpanel\" class=\"tab-pane active row\" id=\"quantiles-2320146648702127306\">\n",
              "            <div class=\"col-md-4 col-md-offset-1\">\n",
              "                <p class=\"h4\">Quantile statistics</p>\n",
              "                <table class=\"stats indent\">\n",
              "                    <tr>\n",
              "                        <th>Minimum</th>\n",
              "                        <td>32.181</td>\n",
              "                    </tr>\n",
              "                    <tr>\n",
              "                        <th>5-th percentile</th>\n",
              "                        <td>40.7</td>\n",
              "                    </tr>\n",
              "                    <tr>\n",
              "                        <th>Q1</th>\n",
              "                        <td>40.736</td>\n",
              "                    </tr>\n",
              "                    <tr>\n",
              "                        <th>Median</th>\n",
              "                        <td>40.755</td>\n",
              "                    </tr>\n",
              "                    <tr>\n",
              "                        <th>Q3</th>\n",
              "                        <td>40.77</td>\n",
              "                    </tr>\n",
              "                    <tr>\n",
              "                        <th>95-th percentile</th>\n",
              "                        <td>40.798</td>\n",
              "                    </tr>\n",
              "                    <tr>\n",
              "                        <th>Maximum</th>\n",
              "                        <td>43.921</td>\n",
              "                    </tr>\n",
              "                    <tr>\n",
              "                        <th>Range</th>\n",
              "                        <td>11.74</td>\n",
              "                    </tr>\n",
              "                    <tr>\n",
              "                        <th>Interquartile range</th>\n",
              "                        <td>0.033925</td>\n",
              "                    </tr>\n",
              "                </table>\n",
              "            </div>\n",
              "            <div class=\"col-md-4 col-md-offset-2\">\n",
              "                <p class=\"h4\">Descriptive statistics</p>\n",
              "                <table class=\"stats indent\">\n",
              "                    <tr>\n",
              "                        <th>Standard deviation</th>\n",
              "                        <td>0.035891</td>\n",
              "                    </tr>\n",
              "                    <tr>\n",
              "                        <th>Coef of variation</th>\n",
              "                        <td>0.00088071</td>\n",
              "                    </tr>\n",
              "                    <tr>\n",
              "                        <th>Kurtosis</th>\n",
              "                        <td>4259.5</td>\n",
              "                    </tr>\n",
              "                    <tr>\n",
              "                        <th>Mean</th>\n",
              "                        <td>40.752</td>\n",
              "                    </tr>\n",
              "                    <tr>\n",
              "                        <th>MAD</th>\n",
              "                        <td>0.02317</td>\n",
              "                    </tr>\n",
              "                    <tr class=\"alert\">\n",
              "                        <th>Skewness</th>\n",
              "                        <td>-20.671</td>\n",
              "                    </tr>\n",
              "                    <tr>\n",
              "                        <th>Sum</th>\n",
              "                        <td>59442000</td>\n",
              "                    </tr>\n",
              "                    <tr>\n",
              "                        <th>Variance</th>\n",
              "                        <td>0.0012881</td>\n",
              "                    </tr>\n",
              "                    <tr>\n",
              "                        <th>Memory size</th>\n",
              "                        <td>11.1 MiB</td>\n",
              "                    </tr>\n",
              "                </table>\n",
              "            </div>\n",
              "        </div>\n",
              "        <div role=\"tabpanel\" class=\"tab-pane col-md-8 col-md-offset-2\" id=\"histogram-2320146648702127306\">\n",
              "            <img src=\"data:image/png;base64,iVBORw0KGgoAAAANSUhEUgAAAlgAAAGQCAYAAAByNR6YAAAABHNCSVQICAgIfAhkiAAAAAlwSFlzAAAPYQAAD2EBqD%2BnaQAAADh0RVh0U29mdHdhcmUAbWF0cGxvdGxpYiB2ZXJzaW9uMy4xLjEsIGh0dHA6Ly9tYXRwbG90bGliLm9yZy8QZhcZAAAgAElEQVR4nO3de1hVdaL/8Q8XwQA3FxUyfxaOt7hp6hhFJoKZlWllpNBpipkumiaPpI2Vmdpx0hLTUsdL8%2BhkNScCZ7yl6WG8jI02M82UwVa7kB6LQSHdWwFBBfbvjw77tHUHS1iwRd6v5%2BnxcX3XWt/v/sx2z%2BdZa7HxcjgcDgEAAMA03p5eAAAAwJWGggUAAGAyChYAAIDJKFgAAAAmo2ABAACYjIIFAABgMgoWAACAyShYAAAAJqNgAQAAmIyCBQAAYDIKFgAAgMkoWAAAACajYAEAAJiMggUAAGAyChYAAIDJKFgAAAAmo2ABAACYjIIFAABgMgoWAACAyShYAAAAJqNgAQAAmIyCBQAAYDIKFgAAgMkoWAAAACajYAEAAJiMggUAAGAyChYAAIDJKFgAAAAmo2ABAACYjIIFAABgMgoWAACAyShYAAAAJqNgAQAAmIyCBQAAYDIKFgAAgMkoWAAAACajYAEAAJiMggUAAGAyChYAAIDJfD29gLaitLSsUcd5e3spLCxQJ09WqLbWYfKqrhzkZBxZGUNOxpCTcWRljNk5de7cwYRVXTquYF3mvL295OXlJW9vL08v5bJGTsaRlTHkZAw5GUdWxlwpOVGwAAAATEbBAgAAMBkFCwAAwGQULAAAAJNRsAAAAExGwQIAADAZBQsAAMBkFCwAAACTUbAAAABMRsECAAAwGQULAADAZBQsAAAAk1GwAAAATObr6QUAANquOxf/1dNLuCRbp9zi6SWgleAKFgAAgMkoWAAAACajYAEAAJiMggUAAGAyChYAAIDJKFgAAAAmo2ABAACYrFkL1p49e5SQkKDMzMyf3KeiokJDhw7Vs88%2B69xWW1urRYsWadiwYRo0aJAeffRRffvtt85xu92uKVOmKCEhQYMHD9aMGTNUVVXlHD948KAeeughDRw4ULfffrtWr17tMueWLVs0atQo9e/fX2PGjNFHH31keG4AAICGNFvBevPNNzV37lxdd9119e63ZMkSlZeXu2x79913tWnTJq1atUo7d%2B5UZGSkJk2aJIfDIUmaOXOmKisrtXnzZq1bt06FhYXKysqSJFVVVWn8%2BPG66aabtGfPHi1atEgrV67U9u3bJf1QvqZPn65p06bp448/Vnp6up566ikdO3bM0NwAAAANabaC5e/vr9zc3HoL1qFDh7R582bdd999Ltuzs7OVnp6uHj16KCgoSJmZmSosLNT%2B/fv1/fffKy8vT5mZmQoLC1NERIQmTpyodevW6fz589q1a5fOnz%2BvJ598UgEBAYqJidEDDzyg7OxsSVJOTo4SExOVmJgof39/jR49Wr1799bGjRsbnBsAAMCIZvtVOQ8//HC94w6HQ7Nnz1ZmZqb%2B/e9/q6ysTNIPV6C%2B/vprRUdHO/cNCgrSddddp/z8fJWVlcnHx0d9%2BvRxjsfExOjMmTP65ptvZLVa1adPH/n4%2BDjHo6OjlZOTI0myWq1KTEx0WUt0dLTy8/MbnPuGG24w9NpLSkpUWlrqss3XN0Dh4eGGjv8xHx9vlz/hHjkZR1bGkJMxbS0nX9/Gv862llVjXSk5eex3EWZnZ8vLy0tjxozR0qVLndtPnTolh8Oh4OBgl/2Dg4Nls9kUEhKioKAgeXl5uYxJks1mk91ul8VicTk2JCREdrtdtbW1stvtbs/99ddfNzj3pby2H78mSZo0aZIyMjIMn%2BNCFstVjT62LSEn48jKGHIypq3kFBoa2ORztJWsmqq15%2BSRgnXixAm9/vrr%2Bv3vf%2B9SlH6svmeeGvM81I/naej4pj5vNW7cOCUnJ7ts8/UNkM1Wccnn8vHxlsVylU6frlRNTW2T1nUlIyfjyMoYcjKmreXUmM/xOm0tq8YyOyczSnFjeKRgzZ8/X/fee6/Lbb46ISEh8vb2lt1ud9lut9vVsWNHhYWFqby8XDU1Nc7bgHX71o0fOXLkomPrzhsaGur23GFhYQ3ObVR4ePhFtwNLS8tUXd34N0pNTW2Tjm8ryMk4sjKGnIxpKzmZ8RrbSlZN1dpz8sgNzo0bNyo3N1fx8fGKj4/X7373O33wwQeKj4%2BXv7%2B/evXqJavV6tz/9OnTOnr0qPr27auoqCg5HA4dOnTIOZ6fny%2BLxaLu3bsrNjZWX3zxhaqrq13G%2B/XrJ0mKjY1VQUGBy3rqxhuaGwAAwAiPFKzdu3dr06ZN2rBhgzZs2KDU1FQlJydrw4YNkqS0tDStXbtWhYWFKi8vV1ZWlqKiohQXF6ewsDCNGDFCixcv1smTJ3Xs2DEtW7ZMKSkp8vX1VWJiooKCgrR8%2BXJVVlZq//79ys3NVVpamiRp7Nix2rt3r3bt2qWzZ88qNzdXR44c0ejRoxucGwAAwIhmu0VYV0jqriTl5eVJ%2BuFq0dVXX%2B2yb1BQkK666irn9tTUVJWWluoXv/iFKioqFB8f7/LQ%2BEsvvaRZs2Zp2LBhateune6%2B%2B27nl5n6%2BflpxYoVmjVrllatWqVOnTopMzNTQ4cOlST17t1bWVlZmjdvnoqKitSzZ0%2BtXLlSnTt3NjQ3AABAQ7wcfINmiygtLWvUcb6%2B3goNDZTNVtGq70U3N3IyjqyMISdjmprTnYv/2gyraj5bp9zS6GN5Txljdk6dO3cwYVWXrnV/yQQAAMBliIIFAABgMgoWAACAyShYAAAAJqNgAQAAmIyCBQAAYDIKFgAAgMkoWAAAACajYAEAAJiMggUAAGAyChYAAIDJKFgAAAAmo2ABAACYjIIFAABgMgoWAACAyShYAAAAJqNgAQAAmIyCBQAAYDIKFgAAgMkoWAAAACajYAEAAJiMggUAAGAyChYAAIDJKFgAAAAmo2ABAACYjIIFAABgMgoWAACAyShYAAAAJqNgAQAAmIyCBQAAYDIKFgAAgMmatWDt2bNHCQkJyszMvGhs%2B/btGj16tPr3768RI0bo/fffdxlfu3atRowYoQEDBigtLU0FBQXOsbNnz%2BrFF1/UkCFDFB8fr4yMDNlsNud4UVGRnnjiCcXHxyspKUkLFixQbW2tc3zfvn1KSUnRgAEDNHLkSG3cuNHw3AAAAA1ptoL15ptvau7cubruuusuGvv88881bdo0ZWRk6B//%2BIeef/55vfTSS/rkk08kSTt27NCSJUv06quvau/evUpKStKECRN05swZSdKiRYtktVqVnZ2tbdu2yeFw6LnnnnOef/LkyYqIiFBeXp7WrFmjvLw8vfXWW5KkkpISTZw4Uampqdq3b59mzJihmTNnKj8/39DcAAAADWm2guXv76/c3Fy3Bctut2v8%2BPG67bbb5Ovrq8TERPXu3dtZsLKzszVmzBj169dP7du312OPPSZJ2rlzp6qrq5Wbm6uJEyeqS5cuCgkJ0ZQpU7Rr1y4dP35c%2Bfn5OnTokKZNm6YOHTooMjJS6enpys7OliRt2rRJkZGRSklJkb%2B/vxISEpScnKycnJwG5wYAADDCt7lO/PDDD//k2JAhQzRkyBDn36urq1VaWqqIiAhJktVq1V133eUc9/b2VlRUlPLz8xUVFaWysjLFxMQ4x3v06KH27dvLarWqpKREXbt2VXBwsHM8JiZGhw8fVnl5uaxWq6Kjo13WEx0dra1btzY498iRIw299pKSEpWWlrps8/UNUHh4uKHjf8zHx9vlT7hHTsaRlTHkZExby8nXt/Gvs61l1VhXSk7NVrAuRVZWlgICApzFxm63uxQkSQoODpbNZpPdbpckWSwWl3GLxeIcv3Cs7lx143VFrk5ISIjzGa765jYqOztbS5cuddk2adIkZWRkGD7HhSyWqxp9bFtCTsaRlTHkZExbySk0NLDJ52grWTVVa8/JowXL4XAoKytLmzdv1tq1a%2BXv7%2B8y1tCxjRkzuq6mGDdunJKTk122%2BfoGyGaruORz%2Bfh4y2K5SqdPV6qmprbhA9oocjKOrIwhJ2PaWk6N%2BRyv09ayaiyzczKjFDeGxwpWbW2tnnvuOX3%2B%2Bef6r//6L3Xr1s05Fhoa6rxSVcdut6tXr14KCwtz/j0w8P9CO3XqlDp27Kiamhq3x3p5eSksLMztuW02m/O89c1tVHh4%2BEW3A0tLy1Rd3fg3Sk1NbZOObyvIyTiyMoacjGkrOZnxGttKVk3V2nPy2A3Ol19%2BWV999dVF5UqSYmNjZbVanX%2BvqanRgQMH1K9fP3Xr1k3BwcEu419%2B%2BaXOnTun2NhYxcbGqri4WCdPnnSO5%2Bfnq2fPngoMDFRcXNxFX7tQUFCgfv36NTg3AACAER4pWP/85z%2B1ceNGrVq1SiEhIReNp6Wlaf369frss89UWVmp5cuXy8/PT0OHDpWPj4/Gjh2rFStWqLi4WDabTa%2B99pqGDx%2BuTp06KTo6WnFxcVq4cKHKy8tVWFioNWvWKC0tTZI0atQoFRUVKScnR2fPntXu3bu1e/dujR07tsG5AQAAjGi2W4RxcXGSfvgJQUnKy8uT9MPVpHXr1qmsrExJSUkuxwwaNEirV6/WkCFD9PTTT2vKlCk6ceKE4uLitGrVKrVv316SlJGRoYqKCt1zzz2qrq5WUlKSZs%2Be7TzPG2%2B8oZkzZ%2BqWW25RUFCQUlNT9eCDD0qSOnbsqJUrV2ru3LmaM2eOunbtqgULFuj666%2BXpAbnBgAAaIiXo6lPdMOQ0tKyRh3n6%2But0NBA2WwVrfpedHMjJ%2BPIyhhyMqapOd25%2BK/NsKrms3XKLY0%2BlveUMWbn1LlzBxNWdela95dMAAAAXIYoWAAAACajYAEAAJiMggUAAGAyChYAAIDJKFgAAAAmo2ABAACYjIIFAABgMgoWAACAyShYAAAAJqNgAQAAmIyCBQAAYDIKFgAAgMkoWAAAACajYAEAAJiMggUAAGAyChYAAIDJKFgAAAAmo2ABAACYjIIFAABgMgoWAACAyShYAAAAJqNgAQAAmIyCBQAAYDIKFgAAgMkoWAAAACajYAEAAJiMggUAAGAyChYAAIDJKFgAAAAmo2ABAACYrFkL1p49e5SQkKDMzMyLxrZs2aJRo0apf//%2BGjNmjD766CPnWG1trRYtWqRhw4Zp0KBBevTRR/Xtt986x%2B12u6ZMmaKEhAQNHjxYM2bMUFVVlXP84MGDeuihhzRw4EDdfvvtWr16tWlzAwAANKTZCtabb76puXPn6rrrrrto7ODBg5o%2BfbqmTZumjz/%2BWOnp6Xrqqad07NgxSdK7776rTZs2adWqVdq5c6ciIyM1adIkORwOSdLMmTNVWVmpzZs3a926dSosLFRWVpYkqaqqSuPHj9dNN92kPXv2aNGiRVq5cqW2b99uytwAAAANabaC5e/vr9zcXLcFKycnR4mJiUpMTJS/v79Gjx6t3r17a%2BPGjZKk7Oxspaenq0ePHgoKClJmZqYKCwu1f/9%2Bff/998rLy1NmZqbCwsIUERGhiRMnat26dTp//rx27dql8%2BfP68knn1RAQIBiYmL0wAMPKDs7u8lzAwAAGOHbXCd%2B%2BOGHf3LMarUqMTHRZVt0dLTy8/NVVVWlr7/%2BWtHR0c6xoKAgXXfddcrPz1dZWZl8fHzUp08f53hMTIzOnDmjb775RlarVX369JGPj4/LuXNycpo89w033GDotZeUlKi0tNRlm69vgMLDww0d/2M%2BPt4uf8I9cjKOrIwhJ2PaWk6%2Bvo1/nW0tq8a6UnJqtoJVH7vdruDgYJdtwcHB%2Bvrrr3Xq1Ck5HA634zabTSEhIQoKCpKXl5fLmCTZbDbZ7XZZLBaXY0NCQmS321VbW9ukuY3Kzs7W0qVLXbZNmjRJGRkZhs9xIYvlqkYf25aQk3FkZQw5GdNWcgoNDWzyOdpKVk3V2nPySMGS1OAzTfWNN%2BZ5qB8XsqbMbcS4ceOUnJzsss3XN0A2W8Uln8vHx1sWy1U6fbpSNTW1TVrXlYycjCMrY8jJmLaWU2M%2Bx%2Bu0taway%2ByczCjFjeGRghUaGiq73e6yzW63KywsTCEhIfL29nY73rFjR4WFham8vFw1NTXO24B1%2B9aNHzly5KJj687blLmNCg8Pv%2Bh2YGlpmaqrG/9GqampbdLxbQU5GUdWxpCTMW0lJzNeY1vJqqlae04eucEZGxurgoICl235%2Bfnq16%2Bf/P391atXL1mtVufY6dOndfToUfXt21dRUVFyOBw6dOiQy7EWi0Xdu3dXbGysvvjiC1VXV1907qbODQAAYIRHCtbYsWO1d%2B9e7dq1S2fPnlVubq6OHDmi0aNHS5LS0tK0du1aFRYWqry8XFlZWYqKilJcXJzCwsI0YsQILV68WCdPntSxY8e0bNkypaSkyNfXV4mJiQoKCtLy5ctVWVmp/fv3Kzc3V2lpaU2eGwAAwIhmu0VYV0jqriTl5eVJ%2BuFqUe/evZWVlaV58%2BapqKhIPXv21MqVK9W5c2dJUmpqqkpLS/WLX/xCFRUVio%2BPd3lo/KWXXtKsWbM0bNgwtWvXTnfffbfzy0z9/Py0YsUKzZo1S6tWrVKnTp2UmZmpoUOHSlKT5wYAAGiIl4Nv0GwRpaVljTrO19dboaGBstkqWvW96OZGTsaRlTHkZExTc7pz8V%2BbYVXNZ%2BuUWxp9LO8pY8zOqXPnDias6tK17i%2BZAAAAuAxRsAAAAExGwQIAADAZBQsAAMBkFCwAAACTUbAAAABMRsECAAAwGQULAADAZBQsAAAAk7ktWMnJyVq6dKmKi4tbej0AAACtntuCdf/992vLli267bbb9Nhjj2n79u3O3ykIAACA%2BrktWJMmTdKWLVv0/vvvq1evXnr55ZeVmJioBQsW6PDhwy29RgAAgFal3mewYmJiNH36dO3cuVPPP/%2B83n//fd1111169NFH9fnnn7fUGgEAAFqVegvW%2BfPntWXLFj3%2B%2BOOaPn26IiIi9NxzzykqKkrp6enatGlTS60TAACg1fB1t7GwsFC5ublav369KioqNGLECL311lsaOHCgc59BgwZp9uzZGjVqVIstFgAAoDVwW7BGjhyp7t27a/z48br33nsVEhJy0T6JiYk6efJksy8QAACgtXFbsNauXasbb7yxwYP3799v%2BoIAAABaO7fPYPXp00cTJkxQXl6ec9vvf/97Pf7447Lb7S22OAAAgNbIbcGaN2%2BeysrK1LNnT%2Be2oUOHqra2VvPnz2%2BxxQEAALRGbm8RfvTRR9q0aZNCQ0Od2yIjI5WVlaW77767xRYHAADQGrm9glVVVSV/f/%2BLd/b2VmVlZbMvCgAAoDVzW7AGDRqk%2BfPn69SpU85tx48f15w5c1y%2BqgEAAAAXc3uL8Pnnn9evfvUr3XzzzQoKClJtba0qKirUrVs3vf322y29RgAAgFbFbcHq1q2bPvjgA/3lL3/R0aNH5e3tre7du2vw4MHy8fFp6TUCAAC0Km4LliT5%2Bfnptttua8m1AAAAXBHcFqxvv/1WCxcu1FdffaWqqqqLxv/85z83%2B8IAAABaq598BqukpESDBw9WQEBAS68JAACgVXNbsAoKCvTnP/9ZYWFhLb0eAACAVs/t1zR07NiRK1cAAACN5LZgjR8/XkuXLpXD4Wjp9QAAALR6bm8R/uUvf9G//vUv/fGPf9T/%2B3//T97erj3svffeM2XyAwcOaP78%2BTpw4ID8/f1188036/nnn1dYWJj27dunhQsX6ptvvlGXLl00fvx4jR492nns2rVr9e6776q0tFR9%2BvTRjBkzFBsbK0k6e/asfvOb32jXrl06e/as4uPjNWfOHOev/ikqKtKcOXO0f/9%2BBQQE6K677tLUqVOdr7OhuQEAAOrj9gpWUFCQhgwZosTERPXo0UPdu3d3%2Bc8M1dXVeuKJJ3TDDTdo79692rx5s06ePKnZs2erpKREEydOVGpqqvbt26cZM2Zo5syZys/PlyTt2LFDS5Ys0auvvqq9e/cqKSlJEyZM0JkzZyRJixYtktVqVXZ2trZt2yaHw6HnnnvOOffkyZMVERGhvLw8rVmzRnl5eXrrrbckqcG5AQAAGuL2Cta8efOafeLS0lKVlpbqnnvukZ%2Bfn/z8/DR8%2BHCtXr1amzZtUmRkpFJSUiRJCQkJSk5OVk5OjuLi4pSdna0xY8aoX79%2BkqTHHntMa9eu1c6dOzVixAjl5ubqlVdeUZcuXSRJU6ZM0ciRI3X8%2BHGVlJTo0KFDWrNmjTp06KAOHTooPT1db731ln75y182ODcAAEBD3F7BkqRvvvlGS5Yscbny8%2Bmnn5o2cUREhKKiopSdna2KigqdOHFC27dv19ChQ2W1WhUdHe2yf3R0tAoKCiTponFvb29FRUUpPz9fR48eVVlZmWJiYpzjPXr0UPv27WW1WmW1WtW1a1cFBwc7x2NiYnT48GGVl5c3ODcAAEBD3F7B2rdvnx5//HF1795dR44c0bx58/Ttt9/q4Ycf1uLFizVs2LAmT%2Bzt7a0lS5Y4rx5J0o033qipU6dq4sSJioiIcNk/JCRENptNkmS3210KkiQFBwfLZrPJbrdLkiwWi8u4xWJxjl84VneuuvH65jaipKREpaWlLtt8fQMUHh5u%2BBx1fHy8Xf6Ee%2BRkHFkZQ07GtLWcfH0b/zrbWlaNdaXk5LZgLVq0SM8884weeeQR9e3bV9IPv59w/vz5WrZsmSkF69y5c5owYYLuuOMO5/NTc%2BbM0bRp0wwd39BPONY33tw/HZmdna2lS5e6bJs0aZIyMjIafU6L5aqmLqtNICfjyMoYcjKmreQUGhrY5HO0layaqrXn5LZgffnll3rnnXckSV5eXs7td9xxh55//nlTJt63b5%2B%2B%2B%2B47Pf300/Lx8VGHDh2UkZGhe%2B65R7feeqvzSlQdm83m/OLT0NDQi8btdrt69erl3Mdutysw8P/%2BIZw6dUodO3ZUTU2N22O9vLwUFhbm9tw/ntuIcePGKTk52WWbr2%2BAbLYKw%2Beo4%2BPjLYvlKp0%2BXamamtpLPr6tICfjyMoYcjKmreXUmM/xOm0tq8YyOyczSnFjuC1YHTp0UFVVlfz8/Fy2l5SUXLStsWpqalRbW%2BtyNencuXOSfniw/E9/%2BpPL/gUFBc6H2mNjY2W1WnXfffc5z3XgwAGlpKSoW7duCg4Odj5rJf1QGM%2BdO6fY2FiVlJSouLhYJ0%2BedJam/Px89ezZU4GBgYqLi9O6det%2Bcm4jwsPDL7odWFpapurqxr9Rampqm3R8W0FOxpGVMeRkTFvJyYzX2FayaqrWnpPbG5wDBgzQyy%2B/rPLycue2w4cPa/r06br55ptNmbh///4KCAjQkiVLVFlZKZvNpuXLl2vQoEG65557VFRUpJycHJ09e1a7d%2B/W7t27NXbsWElSWlqa1q9fr88%2B%2B0yVlZVavny5/Pz8NHToUPn4%2BGjs2LFasWKFiouLZbPZ9Nprr2n48OHq1KmToqOjFRcXp4ULF6q8vFyFhYVas2aN0tLSJEmjRo2qd24AAICGeDncPJB07NgxPfLII/ruu%2B9UU1OjgIAAVVZWqlevXlqxYoWuueYaUyYvKCjQK6%2B8okOHDsnPz0833nijnn32WUVEROgf//iH5s6dq8LCQnXt2lVTp07V7bff7jz2D3/4g1atWqUTJ04oLi5Os2fPVu/evSX9cCVs3rx5%2BuCDD1RdXa2kpCTNnj1bHTp0cL6%2BmTNn6u9//7uCgoKUmpqqp556ynk7tKG5G6O0tKxRx/n6eis0NFA2W0WrbvLNjZyMIytjyMmYpuZ05%2BK/NsOqms/WKbc0%2BljeU8aYnVPnzh1MWNWlc1uwJOn8%2BfPavXu3Dh8%2BrPbt26t79%2B665ZZbXJ7JgnEUrOZFTsaRlTHkZAwFyzjeU8ZcKQXL7TNYktSuXTvddtttLbkWAACAK4LbgpWcnFzvlao///nPzbYgAACA1s5twbrrrrtcClZNTY0OHz6s/Px8PfLIIy22OAAAgNbIbcH6qS/73LZtm/72t78164IAAABau0v6HvrbbrtNH3zwQXOtBQAA4IpwSQXrwIEDzf5rZgAAAFo7t7cIU1NTL9pWWVmpwsLCJn8fFAAAwJXObcGKjIy86KcI/f39lZKSogceeKBFFgYAANBauS1Y8%2BfPb%2Bl1AAAAXDHcFqz169cbPsG9995r2mIAAACuBG4L1owZM1RbW3vRA%2B1eXl4u27y8vChYAAAAF3BbsH73u99p9erVmjBhgvr06SOHw6EvvvhCb775ph566CHFx8e39DoBAABajZ98BmvVqlWKiIhwbvv5z3%2Bubt266dFHH9XmzZtbbIEAAACtjdvvwTpy5IiCg4Mv2m6xWFRUVNTsiwIAAGjN3Basrl27av78%2BbLZbM5tp0%2Bf1sKFC3Xttde22OIAAABaI7e3CJ9//nlNnTpV2dnZCgwMlLe3t8rLy9W%2BfXstW7aspdcIAADQqrgtWIMHD9auXbu0e/duHTt2TA6HQxEREbr11lvVoUOHll4jAABAq%2BK2YEnSVVddpWHDhunYsWPq1q1bS64JAACgVXP7DFZVVZWmT5%2Bu/v37684775T0wzNYjz32mE6fPt2iCwQAAGht3BasBQsW6ODBg8rKypK39//tUlNTo6ysrBZbHAAAQGvktmBt27ZNb7zxhu644w7nL322WCyaN2%2Betm/f3qILBAAAaG3cFqyKigpFRkZetD0sLExnzpxp7jUBAAC0am4L1rXXXqu//e1vkuTyuwc//PBDXXPNNS2zMgAAgFbK7U8RPvjgg5o8ebLuv/9%2B1dbWas2aNSooKNC2bds0Y8aMll4jAABAq%2BK2YI0bN06%2Bvr5655135OPjoxUrVqh79%2B7KysrSHXfc0dJrBAAAaFXcFqyTJ0/q/vvv1/3339/S6wEAAGj13D6DNWzYMJdnrwAAAGCc24IVHx%2BvrVu3tvRaAAAArghubxF26dJFv/nNb7Rq1Spde%2B21ateuncv4woULW2RxAAAArZHbgvX111/rZz/7mSTJZrO16IIAAABaO5eClZmZqUWLFuntt992blu2bJkmTZrU4gsDAABorVyewTVnvJkAABwHSURBVNqxY8dFO6xatapZF7B8%2BXINHjxYN9xwg9LT0/Xdd99Jkvbt26eUlBQNGDBAI0eO1MaNG12OW7t2rUaMGKEBAwYoLS1NBQUFzrGzZ8/qxRdf1JAhQxQfH6%2BMjAyXK3FFRUV64oknFB8fr6SkJC1YsEC1tbXO8YbmBgAAqI9LwXL3k4PN%2BdOE7777rjZu3Ki1a9fqo48%2BUs%2BePfX73/9eJSUlmjhxolJTU7Vv3z7NmDFDM2fOVH5%2BvqQfiuCSJUv06quvau/evUpKStKECROcv8Zn0aJFslqtys7O1rZt2%2BRwOPTcc8855508ebIiIiKUl5enNWvWKC8vT2%2B99ZYkNTg3AABAQ1wKVt0vdm5om1lWr16tzMxM/exnP1NQUJBeeOEFvfDCC9q0aZMiIyOVkpIif39/JSQkKDk5WTk5OZKk7OxsjRkzRv369VP79u312GOPSZJ27typ6upq5ebmauLEierSpYtCQkI0ZcoU7dq1S8ePH1d%2Bfr4OHTqkadOmqUOHDoqMjFR6erqys7MlqcG5AQAAGuL2axpawvHjx/Xdd9/p1KlTuuuuu5y38k6ePCmr1aro6GiX/aOjo523AS8c9/b2VlRUlPLz83X06FGVlZUpJibGOd6jRw%2B1b99eVqtVVqtVXbt2VXBwsHM8JiZGhw8fVnl5eYNzAwAANMTtTxG2hGPHjkn64RdIr1mzRg6HQxkZGXrhhRdUVVWliIgIl/1DQkKcz1HZ7XaXgiRJwcHBstlsstvtkiSLxeIybrFYnOMXjtWdq268vrmNKCkpUWlpqcs2X98AhYeHGz5HHR8fb5c/4R45GUdWxpCTMW0tJ1/fxr/OtpZVY10pObkUrPPnz2vq1KlqaJsZ34NV92zXY4895iw0kydP1uOPP66EhATDxzdmvLm/pT47O1tLly512TZp0iRlZGQ0%2BpwWy1VNXVabQE7GkZUx5GRMW8kpNDSwyedoK1k1VWvPyaVgDRw4UCUlJWpomxk6deokyfVKU9euXeVwOHT%2B/Hnnlag6NptNYWFhkqTQ0NCLxu12u3r16uXcx263KzDw//4hnDp1Sh07dlRNTY3bY728vBQWFub23D%2Be24hx48YpOTnZZZuvb4BstgrD56jj4%2BMti%2BUqnT5dqZqa2oYPaKPIyTiyMoacjGlrOTXmc7xOW8uqsczOyYxS3BguBevH33/V3K6%2B%2BmoFBQXp4MGDzuelioqK1K5dOyUmJmrDhg0u%2BxcUFKhfv36SpNjYWFmtVt13332SpJqaGh04cEApKSnq1q2bgoODnc9aSdKXX36pc%2BfOKTY2ViUlJSouLtbJkyedpSk/P189e/ZUYGCg4uLitG7dup%2Bc24jw8PCLbgeWlpapurrxb5SamtomHd9WkJNxZGUMORnTVnIy4zW2layaqrXn5LEbnL6%2BvkpJSdGKFSv0P//zPzpx4oSWLVumUaNG6b777lNRUZFycnJ09uxZ7d69W7t379bYsWMlSWlpaVq/fr0%2B%2B%2BwzVVZWavny5fLz89PQoUPl4%2BOjsWPHasWKFSouLpbNZtNrr72m4cOHq1OnToqOjlZcXJwWLlyo8vJyFRYWas2aNUpLS5MkjRo1qt65AQAAGuKxh9wlaerUqTp37pweeOABnT9/XiNGjNALL7ygwMBArVy5UnPnztWcOXPUtWtXLViwQNdff70kaciQIXr66ac1ZcoUnThxQnFxcVq1apXat28vScrIyFBFRYXuueceVVdXKykpSbNnz3bO%2B8Ybb2jmzJm65ZZbFBQUpNTUVD344IOSpI4dO9Y7NwAAQEO8HM39xDck/XCLsDF8fb0VGhoom62iVV8qbW7kZBxZGUNOxjQ1pzsX/7UZVtV8tk65pdHH8p4yxuycOnfuYMKqLl3r/hlIAACAyxAFCwAAwGQULAAAAJNRsAAAAExGwQIAADAZBQsAAMBkFCwAAACTUbAAAABMRsECAAAwGQULAADAZBQsAAAAk1GwAAAATEbBAgAAMBkFCwAAwGQULAAAAJNRsAAAAExGwQIAADAZBQsAAMBkFCwAAACTUbAAAABMRsECAAAwGQULAADAZBQsAAAAk1GwAAAATEbBAgAAMBkFCwAAwGQULAAAAJNRsAAAAExGwQIAADAZBQsAAMBkFCwAAACTXRYF6%2BWXX1afPn2cf9%2B3b59SUlI0YMAAjRw5Uhs3bnTZf%2B3atRoxYoQGDBigtLQ0FRQUOMfOnj2rF198UUOGDFF8fLwyMjJks9mc40VFRXriiScUHx%2BvpKQkLViwQLW1tYbnBgAAaIjHC9bBgwe1YcMG599LSko0ceJEpaamat%2B%2BfZoxY4Zmzpyp/Px8SdKOHTu0ZMkSvfrqq9q7d6%2BSkpI0YcIEnTlzRpK0aNEiWa1WZWdna9u2bXI4HHruueec5588ebIiIiKUl5enNWvWKC8vT2%2B99ZahuQEAAIzwaMGqra3VrFmzlJ6e7ty2adMmRUZGKiUlRf7%2B/kpISFBycrJycnIkSdnZ2RozZoz69eun9u3b67HHHpMk7dy5U9XV1crNzdXEiRPVpUsXhYSEaMqUKdq1a5eOHz%2Bu/Px8HTp0SNOmTVOHDh0UGRmp9PR0ZWdnG5obAADACF9PTv7ee%2B/J399fo0aN0uLFiyVJVqtV0dHRLvtFR0dr69atzvG77rrLOebt7a2oqCjl5%2BcrKipKZWVliomJcY736NFD7du3l9VqVUlJibp27arg4GDneExMjA4fPqzy8vIG5zaqpKREpaWlLtt8fQMUHh5%2BSeeRJB8fb5c/4R45GUdWxpCTMW0tJ1/fxr/OtpZVY10pOXmsYH3//fdasmSJ3n77bZftdrtdERERLttCQkKcz1HZ7XaXgiRJwcHBstlsstvtkiSLxeIybrFYnOMXjtWdq268vrmNys7O1tKlS122TZo0SRkZGZd0nh%2BzWK5q9LFtCTkZR1bGkJMxbSWn0NDAJp%2BjrWTVVK09J48VrHnz5mnMmDHq2bOnvvvuu0s61uFwNHq8oWPNMG7cOCUnJ7ts8/UNkM1Wccnn8vHxlsVylU6frlRNTW3DB7RR5GQcWRlDTsa0tZwa8zlep61l1Vhm52RGKW4MjxSsffv26dNPP9XmzZsvGgsNDXVeiapjs9kUFhb2k%2BN2u129evVy7mO32xUY%2BH%2BBnjp1Sh07dlRNTY3bY728vBQWFtbg3EaFh4dfdDuwtLRM1dWNf6PU1NQ26fi2gpyMIytjyMmYtpKTGa%2BxrWTVVK09J4/c4Ny4caNOnDihpKQkxcfHa8yYMZKk%2BPh49e7d2%2BVrFySpoKBA/fr1kyTFxsbKarU6x2pqanTgwAH169dP3bp1U3BwsMv4l19%2BqXPnzik2NlaxsbEqLi7WyZMnneP5%2Bfnq2bOnAgMDFRcXV%2B/cAAAARnikYD377LPatm2bNmzYoA0bNmjVqlWSpA0bNmjUqFEqKipSTk6Ozp49q927d2v37t0aO3asJCktLU3r16/XZ599psrKSi1fvlx%2Bfn4aOnSofHx8NHbsWK1YsULFxcWy2Wx67bXXNHz4cHXq1EnR0dGKi4vTwoULVV5ersLCQq1Zs0ZpaWmS1ODcAAAARnjkFmFwcLDLg%2BrV1dWSpKuvvlqStHLlSs2dO1dz5sxR165dtWDBAl1//fWSpCFDhujpp5/WlClTdOLECcXFxWnVqlVq3769JCkjI0MVFRW65557VF1draSkJM2ePds51xtvvKGZM2fqlltuUVBQkFJTU/Xggw9Kkjp27Fjv3AAAAEZ4OVriqW%2BotLSsUcf5%2BnorNDRQNltFq74X3dzIyTiyMoacjGlqTncu/mszrKr5bJ1yS6OP5T1ljNk5de7cwYRVXbrW/SUTAAAAlyEKFgAAgMkoWAAAACajYAEAAJiMggUAAGAyChYAAIDJKFgAAAAmo2ABAACYjIIFAABgMgoWAACAyShYAAAAJqNgAQAAmIyCBQAAYDIKFgAAgMkoWAAAACajYAEAAJiMggUAAGAyChYAAIDJKFgAAAAmo2ABAACYjIIFAABgMgoWAACAyShYAAAAJqNgAQAAmIyCBQAAYDIKFgAAgMkoWAAAACajYAEAAJiMggUAAGAyChYAAIDJKFgAAAAm82jBKioq0qRJkxQfH6%2BEhAQ9%2B%2ByzOn36tCTp4MGDeuihhzRw4EDdfvvtWr16tcuxW7Zs0ahRo9S/f3%2BNGTNGH330kXOstrZWixYt0rBhwzRo0CA9%2Buij%2Bvbbb53jdrtdU6ZMUUJCggYPHqwZM2aoqqrKOd7Q3AAAAPXxaMGaMGGCLBaLduzYoT/%2B8Y/66quv9Morr6iqqkrjx4/XTTfdpD179mjRokVauXKltm/fLumHAjR9%2BnRNmzZNH3/8sdLT0/XUU0/p2LFjkqR3331XmzZt0qpVq7Rz505FRkZq0qRJcjgckqSZM2eqsrJSmzdv1rp161RYWKisrCxJanBuAACAhnisYJ0%2BfVqxsbGaOnWqAgMDdfXVV%2Bu%2B%2B%2B7TJ598ol27dun8%2BfN68sknFRAQoJiYGD3wwAPKzs6WJOXk5CgxMVGJiYny9/fX6NGj1bt3b23cuFGSlJ2drfT0dPXo0UNBQUHKzMxUYWGh9u/fr%2B%2B//155eXnKzMxUWFiYIiIiNHHiRK1bt07nz59vcG4AAICG%2BHpqYovFonnz5rlsKy4uVnh4uKxWq/r06SMfHx/nWHR0tHJyciRJVqtViYmJLsdGR0crPz9fVVVV%2BvrrrxUdHe0cCwoK0nXXXaf8/HyVlZXJx8dHffr0cY7HxMTozJkz%2Buabbxqc24iSkhKVlpa6bPP1DVB4eLjhc9Tx8fF2%2BRPukZNxZGUMORnT1nLy9W3862xrWTXWlZKTxwrWhfLz8/XOO%2B9o%2BfLl2rp1qywWi8t4SEiI7Ha7amtrZbfbFRwc7DIeHBysr7/%2BWqdOnZLD4XA7brPZFBISoqCgIHl5ebmMSZLNZpPdbq93bm/vhv8Hz87O1tKlS122TZo0SRkZGQ0H8RMslqsafWxbQk7GkZUx5GRMW8kpNDSwyedoK1k1VWvP6bIoWP/85z/15JNPaurUqUpISNDWrVvd7vfjUlT3PNVPqW%2B8oWMbmrsh48aNU3Jysss2X98A2WwVlzyvj4%2B3LJardPp0pWpqai/5%2BLaCnIwjK2PIyZi2llNjPsfrtLWsGsvsnMwoxY3h8YK1Y8cOPfPMM5o5c6buvfdeSVJYWJiOHDnisp/dbldISIi8vb0VGhoqu91%2B0XhYWJhzH3fjHTt2VFhYmMrLy1VTU%2BO8DVi3b914fXMbER4eftHtwNLSMlVXN/6NUlNT26Tj2wpyMo6sjCEnY9pKTma8xraSVVO19pw8eoPzX//6l6ZPn67XX3/dWa4kKTY2Vl988YWqq6ud2/Lz89WvXz/neEFBgcu56sb9/f3Vq1cvWa1W59jp06d19OhR9e3bV1FRUXI4HDp06JDLsRaLRd27d29wbgAAgIZ4rGBVV1frhRde0LRp0zR48GCXscTERAUFBWn58uWqrKzU/v37lZubq7S0NEnS2LFjtXfvXu3atUtnz55Vbm6ujhw5otGjR0uS0tLStHbtWhUWFqq8vFxZWVmKiopSXFycwsLCNGLECC1evFgnT57UsWPHtGzZMqWkpMjX17fBuQEAABri5WjMA0km%2BOSTT/Qf//Ef8vPzu2jsww8/VEVFhWbNmqWCggJ16tRJjz/%2BuB588EHnPtu3b9fChQtVVFSknj17asaMGRo0aJCkH56xWrJkid577z1VVFQoPj5eL730kq6%2B%2BmpJUllZmWbNmqWdO3eqXbt2uvvuu/Xss8861/Lll1/WO3djlJaWNeo4X19vhYYGymaraNWXSpsbORlHVsaQkzFNzenOxX9thlU1n61Tbmn0sbynjDE7p86dO5iwqkvnsYLV1lCwmhc5GUdWxpCTMRQs43hPGXOlFKzW/SUTAAAAlyEKFgAAgMkoWAAAACajYAEAAJiMggUAAGAyChYAAIDJKFgAAAAmo2ABAACYjIIFAABgMgoWAACAyShYAAAAJqNgAQAAmIyCBQAAYDIKFgAAgMkoWAAAACajYAEAAJiMggUAAGAyChYAAIDJKFgAAAAmo2ABAACYjIIFAABgMgoWAACAyShYAAAAJqNgAQAAmIyCBQAAYDIKFgAAgMkoWAAAACajYAEAAJiMggUAAGAyChYAAIDJKFgAAAAmo2C5UVRUpCeeeELx8fFKSkrSggULVFtb6%2BllAQCAVsLX0wu4HE2ePFkxMTHKy8vTiRMnNH78eHXq1Em//OUvPb00AADQCnAF6wL5%2Bfk6dOiQpk2bpg4dOigyMlLp6enKzs729NIAAEArwRWsC1itVnXt2lXBwcHObTExMTp8%2BLDKy8sVFBTU4DlKSkpUWlrqss3XN0Dh4eGXvB4fH2%2BXP%2BEeORlHVsaQkzFtLSdf38a/zraWVWNdKTlRsC5gt9tlsVhcttWVLZvNZqhgZWdna%2BnSpS7bnnrqKU2ePPmS11NSUqK33vqdxo0b16iC1laQk3FkZQw5GdPUnD75zR3NsKrLE%2B8pY66UnFp3PWwmDoejScePGzdOf/zjH13%2BGzduXKPOVVpaqqVLl150RQyuyMk4sjKGnIwhJ%2BPIypgrJSeuYF0gLCxMdrvdZZvdbpeXl5fCwsIMnSM8PLxVt24AANA0XMG6QGxsrIqLi3Xy5Enntvz8fPXs2VOBgYEeXBkAAGgtKFgXiI6OVlxcnBYuXKjy8nIVFhZqzZo1SktL8/TSAABAK%2BEze/bs2Z5exOXm1ltv1ebNm/Wf//mf%2BuCDD5SSkqJHH31UXl5eHllPYGCgbrzxRq6gNYCcjCMrY8jJGHIyjqyMuRJy8nI09YluAAAAuOAWIQAAgMkoWAAAACajYAEAAJiMggUAAGAyChYAAIDJKFgAAAAmo2ABAACYjIIFAABgMgoWAACAyShYl5FDhw7pkUce0cCBA5WQkKApU6aotLRUkvT3v/9d48aN04ABA5ScnKzf/va3Hl6t59SXU53a2lqNGTNGv/jFLzy0ystDfVmVl5dr%2BvTpGjBggAYNGqSZM2eqqqrKwyv2jPpy2rJli0aNGqX%2B/fsrOTlZixcvVm1trYdX7Hkvv/yy%2BvTp4/z7vn37lJKSogEDBmjkyJHauHGjB1d3%2BbgwJz7Lf9qFWdVptZ/nDlwWzp4967j55psdS5cudZw9e9Zx4sQJx0MPPeSYOHGio6ioyHHDDTc4/vCHPzjOnTvn2L9/v2PgwIGO9evXe3rZLa6%2BnH5s7dq1joEDBzoeeughD63U8xrKavLkyY7Jkyc7Tp486SguLnb88pe/5D11QU6HDh1yREdHO3bs2OGorq52FBYWOgYPHux45513PL1sjzpw4IDjxhtvdPTu3dvhcDgcx48fd9xwww2OnJwcR1VVleOvf/2ro2/fvo7PP//cwyv1rAtz4rP8p12Y1Y%2B11s9zrmBdJiorK5WZmanx48fLz89PYWFhGj58uL766it9//33SklJUVpamtq1a6e%2BffsqISFBn3zyiaeX3eLqy6lOSUmJli9froceesiDK/W8%2BrIqKirSjh079OKLLyo0NFRXX321Vq9erXvuucfTy25x9eV08OBBBQcHKykpST4%2BPvrZz36mn//85zpw4ICnl%2B0xtbW1mjVrltLT053bNm3apMjISKWkpMjf318JCQlKTk5WTk6O5xbqYe5y4rPcPXdZ1WnNn%2BcUrMtEcHCwHnjgAfn6%2BkqSvvnmG/3pT3/SnXfeqb59%2B2rGjBku%2BxcXFysiIsITS/Wo%2BnKq8/LLLys1NVXXXnutp5Z5Wagvq3/%2B85/q0qWLNmzYoMGDB%2BvWW29VVlaWqqurPbzqlldfTjfeeKOqqqq0ZcsWnTt3Tl999ZU%2B%2BeQTDR061LOL9qD33ntP/v7%2BGjVqlHOb1WpVdHS0y37R0dEqKCho6eVdNtzlxGe5e%2B6yqtOaP88pWJeZoqIixcbG6q677lJcXJwyMjIu2uftt9/W0aNHlZqa6oEVXh5%2BKqc9e/bIarVq/PjxHl7h5cNdVseOHdPx48dVXFysbdu2aenSpcrNzdU777zj6eV6jLucrrnmGi1cuFDPP/%2B84uLidPfdd2v06NEaPny4p5frEd9//72WLFmiWbNmuWy32%2B2yWCwu20JCQmSz2VpyeZeNn8rpQnyW159Va/88p2BdZrp27ar8/Hx9%2BOGHOnLkiH7961%2B7jL/zzjt6/fXX9dvf/ladOnXy0Co9z11OZ8%2Be1UsvvaQXXnhB/v7%2Bnl7iZeOn3lM1NTX69a9/rcDAQPXr108PPPCAPvzwQw%2Bv1nPc5VRYWKhnnnlG8%2BbN0/79%2B7Vhwwbl5eVp7dq1nl6uR8ybN09jxoxRz549Pb2Uy5qRnPgs/8FPZXUlfJ77enoBuJiXl5ciIyOVmZmp1NRUzZgxQ2FhYVq0aJHWrVuntWvXXnQ5vi26MKegoCBFRUUpMTHR00u77FyYVVRUlPz9/eXn5%2Bfcp2vXrtqyZYsHV%2Bl5F%2Bbk5%2Benvn37Om9BX3/99XrwwQeVk5Ojhx9%2B2MOrbVn79u3Tp59%2Bqs2bN180FhoaKrvd7rLNZrMpLCyspZZ32agvpzp8lv%2BgvqyWL1/e6j/PKViXiX379mn27NnaunWrvL1/uLBY92e7du20Zs0abd68WdnZ2eratasnl%2BpR9eW0Z88enTp1SvHx8ZKkc%2BfO6dy5c4qPj9f69evVpUsXj63bE%2BrLqm/fvqqoqNC3336rbt26SfrhFtk111zjsfV6Sn05dejQQf/%2B979d9j937lyLr/FysHHjRp04cUJJSUmSJIfDIUmKj4/Xr371q4v%2BT7KgoED9%2BvVr8XV6Wn05vfjiiyopKeGz/H/Vl1VgYGDr/zz38E8x4n%2BdPn3akZCQ4Jg/f77jzJkzjhMnTjgeffRRx4MPPug4evSo44YbbnB88cUXnl6mx9WXU0lJiaO4uNj535o1axxjx451FBcXO6qrqz299BZXX1a1tbWO%2B%2B67zzF%2B/HjHqVOnHAcOHHDcdNNNjj/96U%2BeXnaLqy%2Bnjz/%2B2BEdHe347//%2Bb8e5c%2BcchYWFjuHDhztef/11Ty%2B7xdntdpd/X59%2B%2Bqmjd%2B/ejuLiYkdRUZGjf//%2Bjvfff99RVVXl2LVrl6Nv376OgwcPenrZLa6%2BnL766is%2By3%2BkvqyOHTvW6j/PuYJ1mejQoYNWr16tuXPn6qabblJAQIBuuukm/eY3v1Fubq4qKyt1//33uxxzzTXXaNu2bR5asWfUl1Pnzp1d9rVYLPLz89PVV1/todV6Vn1ZeXl5admyZXrxxRc1ZMgQBQQE6Fe/%2BlWb/JqG%2BnKKiIjQK6%2B8otdff13PPPOMQkNDNXLkSE2YMMHTy25xwcHBCg4Odv697idO6/59rVy5UnPnztWcOXPUtWtXLViwQNdff71H1upJ9eW0bNkyPst/pKH31I%2B1xs9zL4fjf6/JAQAAwBT8FCEAAIDJKFgAAAAmo2ABAACYjIIFAABgMgoWAACAyShYAAAAJqNgAQAAmIyCBQAAYDIKFgAAgMkoWAAAACajYAEAAJiMggUAAGAyChYAAIDJ/j/tU0gaGejU8AAAAABJRU5ErkJggg%3D%3D\"/>\n",
              "        </div>\n",
              "        <div role=\"tabpanel\" class=\"tab-pane col-md-12\" id=\"common-2320146648702127306\">\n",
              "            \n",
              "<table class=\"freq table table-hover\">\n",
              "    <thead>\n",
              "    <tr>\n",
              "        <td class=\"fillremaining\">Value</td>\n",
              "        <td class=\"number\">Count</td>\n",
              "        <td class=\"number\">Frequency (%)</td>\n",
              "        <td style=\"min-width:200px\">&nbsp;</td>\n",
              "    </tr>\n",
              "    </thead>\n",
              "    <tr class=\"\">\n",
              "        <td class=\"fillremaining\">40.77431106567383</td>\n",
              "        <td class=\"number\">269</td>\n",
              "        <td class=\"number\">0.0%</td>\n",
              "        <td>\n",
              "            <div class=\"bar\" style=\"width:1%\">&nbsp;</div>\n",
              "        </td>\n",
              "</tr><tr class=\"\">\n",
              "        <td class=\"fillremaining\">40.774330139160156</td>\n",
              "        <td class=\"number\">263</td>\n",
              "        <td class=\"number\">0.0%</td>\n",
              "        <td>\n",
              "            <div class=\"bar\" style=\"width:1%\">&nbsp;</div>\n",
              "        </td>\n",
              "</tr><tr class=\"\">\n",
              "        <td class=\"fillremaining\">40.75014877319336</td>\n",
              "        <td class=\"number\">259</td>\n",
              "        <td class=\"number\">0.0%</td>\n",
              "        <td>\n",
              "            <div class=\"bar\" style=\"width:1%\">&nbsp;</div>\n",
              "        </td>\n",
              "</tr><tr class=\"\">\n",
              "        <td class=\"fillremaining\">40.75011825561523</td>\n",
              "        <td class=\"number\">253</td>\n",
              "        <td class=\"number\">0.0%</td>\n",
              "        <td>\n",
              "            <div class=\"bar\" style=\"width:1%\">&nbsp;</div>\n",
              "        </td>\n",
              "</tr><tr class=\"\">\n",
              "        <td class=\"fillremaining\">40.75019836425781</td>\n",
              "        <td class=\"number\">250</td>\n",
              "        <td class=\"number\">0.0%</td>\n",
              "        <td>\n",
              "            <div class=\"bar\" style=\"width:1%\">&nbsp;</div>\n",
              "        </td>\n",
              "</tr><tr class=\"\">\n",
              "        <td class=\"fillremaining\">40.75017166137695</td>\n",
              "        <td class=\"number\">247</td>\n",
              "        <td class=\"number\">0.0%</td>\n",
              "        <td>\n",
              "            <div class=\"bar\" style=\"width:1%\">&nbsp;</div>\n",
              "        </td>\n",
              "</tr><tr class=\"\">\n",
              "        <td class=\"fillremaining\">40.77431869506836</td>\n",
              "        <td class=\"number\">245</td>\n",
              "        <td class=\"number\">0.0%</td>\n",
              "        <td>\n",
              "            <div class=\"bar\" style=\"width:1%\">&nbsp;</div>\n",
              "        </td>\n",
              "</tr><tr class=\"\">\n",
              "        <td class=\"fillremaining\">40.77434158325195</td>\n",
              "        <td class=\"number\">244</td>\n",
              "        <td class=\"number\">0.0%</td>\n",
              "        <td>\n",
              "            <div class=\"bar\" style=\"width:1%\">&nbsp;</div>\n",
              "        </td>\n",
              "</tr><tr class=\"\">\n",
              "        <td class=\"fillremaining\">40.750038146972656</td>\n",
              "        <td class=\"number\">242</td>\n",
              "        <td class=\"number\">0.0%</td>\n",
              "        <td>\n",
              "            <div class=\"bar\" style=\"width:1%\">&nbsp;</div>\n",
              "        </td>\n",
              "</tr><tr class=\"\">\n",
              "        <td class=\"fillremaining\">40.7501106262207</td>\n",
              "        <td class=\"number\">242</td>\n",
              "        <td class=\"number\">0.0%</td>\n",
              "        <td>\n",
              "            <div class=\"bar\" style=\"width:1%\">&nbsp;</div>\n",
              "        </td>\n",
              "</tr><tr class=\"other\">\n",
              "        <td class=\"fillremaining\">Other values (62509)</td>\n",
              "        <td class=\"number\">1456130</td>\n",
              "        <td class=\"number\">99.8%</td>\n",
              "        <td>\n",
              "            <div class=\"bar\" style=\"width:100%\">&nbsp;</div>\n",
              "        </td>\n",
              "</tr>\n",
              "</table>\n",
              "        </div>\n",
              "        <div role=\"tabpanel\" class=\"tab-pane col-md-12\"  id=\"extreme-2320146648702127306\">\n",
              "            <p class=\"h4\">Minimum 5 values</p>\n",
              "            \n",
              "<table class=\"freq table table-hover\">\n",
              "    <thead>\n",
              "    <tr>\n",
              "        <td class=\"fillremaining\">Value</td>\n",
              "        <td class=\"number\">Count</td>\n",
              "        <td class=\"number\">Frequency (%)</td>\n",
              "        <td style=\"min-width:200px\">&nbsp;</td>\n",
              "    </tr>\n",
              "    </thead>\n",
              "    <tr class=\"\">\n",
              "        <td class=\"fillremaining\">32.1811408996582</td>\n",
              "        <td class=\"number\">1</td>\n",
              "        <td class=\"number\">0.0%</td>\n",
              "        <td>\n",
              "            <div class=\"bar\" style=\"width:100%\">&nbsp;</div>\n",
              "        </td>\n",
              "</tr><tr class=\"\">\n",
              "        <td class=\"fillremaining\">34.359695434570305</td>\n",
              "        <td class=\"number\">1</td>\n",
              "        <td class=\"number\">0.0%</td>\n",
              "        <td>\n",
              "            <div class=\"bar\" style=\"width:100%\">&nbsp;</div>\n",
              "        </td>\n",
              "</tr><tr class=\"\">\n",
              "        <td class=\"fillremaining\">35.173545837402344</td>\n",
              "        <td class=\"number\">1</td>\n",
              "        <td class=\"number\">0.0%</td>\n",
              "        <td>\n",
              "            <div class=\"bar\" style=\"width:100%\">&nbsp;</div>\n",
              "        </td>\n",
              "</tr><tr class=\"\">\n",
              "        <td class=\"fillremaining\">36.02930068969727</td>\n",
              "        <td class=\"number\">1</td>\n",
              "        <td class=\"number\">0.0%</td>\n",
              "        <td>\n",
              "            <div class=\"bar\" style=\"width:100%\">&nbsp;</div>\n",
              "        </td>\n",
              "</tr><tr class=\"\">\n",
              "        <td class=\"fillremaining\">36.11853790283203</td>\n",
              "        <td class=\"number\">1</td>\n",
              "        <td class=\"number\">0.0%</td>\n",
              "        <td>\n",
              "            <div class=\"bar\" style=\"width:100%\">&nbsp;</div>\n",
              "        </td>\n",
              "</tr>\n",
              "</table>\n",
              "            <p class=\"h4\">Maximum 5 values</p>\n",
              "            \n",
              "<table class=\"freq table table-hover\">\n",
              "    <thead>\n",
              "    <tr>\n",
              "        <td class=\"fillremaining\">Value</td>\n",
              "        <td class=\"number\">Count</td>\n",
              "        <td class=\"number\">Frequency (%)</td>\n",
              "        <td style=\"min-width:200px\">&nbsp;</td>\n",
              "    </tr>\n",
              "    </thead>\n",
              "    <tr class=\"\">\n",
              "        <td class=\"fillremaining\">43.1475830078125</td>\n",
              "        <td class=\"number\">1</td>\n",
              "        <td class=\"number\">0.0%</td>\n",
              "        <td>\n",
              "            <div class=\"bar\" style=\"width:100%\">&nbsp;</div>\n",
              "        </td>\n",
              "</tr><tr class=\"\">\n",
              "        <td class=\"fillremaining\">43.48688507080078</td>\n",
              "        <td class=\"number\">1</td>\n",
              "        <td class=\"number\">0.0%</td>\n",
              "        <td>\n",
              "            <div class=\"bar\" style=\"width:100%\">&nbsp;</div>\n",
              "        </td>\n",
              "</tr><tr class=\"\">\n",
              "        <td class=\"fillremaining\">43.67399978637695</td>\n",
              "        <td class=\"number\">1</td>\n",
              "        <td class=\"number\">0.0%</td>\n",
              "        <td>\n",
              "            <div class=\"bar\" style=\"width:100%\">&nbsp;</div>\n",
              "        </td>\n",
              "</tr><tr class=\"\">\n",
              "        <td class=\"fillremaining\">43.91176223754883</td>\n",
              "        <td class=\"number\">1</td>\n",
              "        <td class=\"number\">0.0%</td>\n",
              "        <td>\n",
              "            <div class=\"bar\" style=\"width:100%\">&nbsp;</div>\n",
              "        </td>\n",
              "</tr><tr class=\"\">\n",
              "        <td class=\"fillremaining\">43.92102813720703</td>\n",
              "        <td class=\"number\">1</td>\n",
              "        <td class=\"number\">0.0%</td>\n",
              "        <td>\n",
              "            <div class=\"bar\" style=\"width:100%\">&nbsp;</div>\n",
              "        </td>\n",
              "</tr>\n",
              "</table>\n",
              "        </div>\n",
              "    </div>\n",
              "</div>\n",
              "</div><div class=\"row variablerow\">\n",
              "    <div class=\"col-md-3 namecol\">\n",
              "        <p class=\"h4 pp-anchor\" id=\"pp_var_store_and_fwd_flag\">store_and_fwd_flag<br/>\n",
              "            <small>Categorical</small>\n",
              "        </p>\n",
              "    </div><div class=\"col-md-3\">\n",
              "    <table class=\"stats \">\n",
              "        <tr class=\"\">\n",
              "            <th>Distinct count</th>\n",
              "            <td>2</td>\n",
              "        </tr>\n",
              "        <tr>\n",
              "            <th>Unique (%)</th>\n",
              "            <td>0.0%</td>\n",
              "        </tr>\n",
              "        <tr class=\"ignore\">\n",
              "            <th>Missing (%)</th>\n",
              "            <td>0.0%</td>\n",
              "        </tr>\n",
              "        <tr class=\"ignore\">\n",
              "            <th>Missing (n)</th>\n",
              "            <td>0</td>\n",
              "        </tr>\n",
              "    </table>\n",
              "</div>\n",
              "<div class=\"col-md-6 collapse in\" id=\"minifreqtable5434784696433015911\">\n",
              "    <table class=\"mini freq\">\n",
              "        <tr class=\"\">\n",
              "    <th>N</th>\n",
              "    <td>\n",
              "        <div class=\"bar\" style=\"width:100%\" data-toggle=\"tooltip\" data-placement=\"right\" data-html=\"true\"\n",
              "             data-delay=500 title=\"Percentage: 99.4%\">\n",
              "            1450599\n",
              "        </div>\n",
              "        \n",
              "    </td>\n",
              "</tr><tr class=\"\">\n",
              "    <th>Y</th>\n",
              "    <td>\n",
              "        <div class=\"bar\" style=\"width:1%\" data-toggle=\"tooltip\" data-placement=\"right\" data-html=\"true\"\n",
              "             data-delay=500 title=\"Percentage: 0.6%\">\n",
              "            &nbsp;\n",
              "        </div>\n",
              "        8045\n",
              "    </td>\n",
              "</tr>\n",
              "    </table>\n",
              "</div>\n",
              "<div class=\"col-md-12 text-right\">\n",
              "    <a role=\"button\" data-toggle=\"collapse\" data-target=\"#freqtable5434784696433015911, #minifreqtable5434784696433015911\"\n",
              "       aria-expanded=\"true\" aria-controls=\"collapseExample\">\n",
              "        Toggle details\n",
              "    </a>\n",
              "</div>\n",
              "<div class=\"col-md-12 extrapadding collapse\" id=\"freqtable5434784696433015911\">\n",
              "    \n",
              "<table class=\"freq table table-hover\">\n",
              "    <thead>\n",
              "    <tr>\n",
              "        <td class=\"fillremaining\">Value</td>\n",
              "        <td class=\"number\">Count</td>\n",
              "        <td class=\"number\">Frequency (%)</td>\n",
              "        <td style=\"min-width:200px\">&nbsp;</td>\n",
              "    </tr>\n",
              "    </thead>\n",
              "    <tr class=\"\">\n",
              "        <td class=\"fillremaining\">N</td>\n",
              "        <td class=\"number\">1450599</td>\n",
              "        <td class=\"number\">99.4%</td>\n",
              "        <td>\n",
              "            <div class=\"bar\" style=\"width:100%\">&nbsp;</div>\n",
              "        </td>\n",
              "</tr><tr class=\"\">\n",
              "        <td class=\"fillremaining\">Y</td>\n",
              "        <td class=\"number\">8045</td>\n",
              "        <td class=\"number\">0.6%</td>\n",
              "        <td>\n",
              "            <div class=\"bar\" style=\"width:1%\">&nbsp;</div>\n",
              "        </td>\n",
              "</tr>\n",
              "</table>\n",
              "</div>\n",
              "</div><div class=\"row variablerow\">\n",
              "    <div class=\"col-md-3 namecol\">\n",
              "        <p class=\"h4 pp-anchor\" id=\"pp_var_trip_duration\">trip_duration<br/>\n",
              "            <small>Numeric</small>\n",
              "        </p>\n",
              "    </div><div class=\"col-md-6\">\n",
              "    <div class=\"row\">\n",
              "        <div class=\"col-sm-6\">\n",
              "            <table class=\"stats \">\n",
              "                <tr>\n",
              "                    <th>Distinct count</th>\n",
              "                    <td>7417</td>\n",
              "                </tr>\n",
              "                <tr>\n",
              "                    <th>Unique (%)</th>\n",
              "                    <td>0.5%</td>\n",
              "                </tr>\n",
              "                <tr class=\"ignore\">\n",
              "                    <th>Missing (%)</th>\n",
              "                    <td>0.0%</td>\n",
              "                </tr>\n",
              "                <tr class=\"ignore\">\n",
              "                    <th>Missing (n)</th>\n",
              "                    <td>0</td>\n",
              "                </tr>\n",
              "                <tr class=\"ignore\">\n",
              "                    <th>Infinite (%)</th>\n",
              "                    <td>0.0%</td>\n",
              "                </tr>\n",
              "                <tr class=\"ignore\">\n",
              "                    <th>Infinite (n)</th>\n",
              "                    <td>0</td>\n",
              "                </tr>\n",
              "            </table>\n",
              "\n",
              "        </div>\n",
              "        <div class=\"col-sm-6\">\n",
              "            <table class=\"stats \">\n",
              "\n",
              "                <tr>\n",
              "                    <th>Mean</th>\n",
              "                    <td>959.49</td>\n",
              "                </tr>\n",
              "                <tr>\n",
              "                    <th>Minimum</th>\n",
              "                    <td>1</td>\n",
              "                </tr>\n",
              "                <tr>\n",
              "                    <th>Maximum</th>\n",
              "                    <td>3526282</td>\n",
              "                </tr>\n",
              "                <tr class=\"ignore\">\n",
              "                    <th>Zeros (%)</th>\n",
              "                    <td>0.0%</td>\n",
              "                </tr>\n",
              "            </table>\n",
              "        </div>\n",
              "    </div>\n",
              "</div>\n",
              "<div class=\"col-md-3 collapse in\" id=\"minihistogram7340254881600100764\">\n",
              "    <img src=\"data:image/png;base64,iVBORw0KGgoAAAANSUhEUgAAAMgAAABLCAYAAAA1fMjoAAAABHNCSVQICAgIfAhkiAAAAAlwSFlzAAAPYQAAD2EBqD%2BnaQAAADh0RVh0U29mdHdhcmUAbWF0cGxvdGxpYiB2ZXJzaW9uMy4xLjEsIGh0dHA6Ly9tYXRwbG90bGliLm9yZy8QZhcZAAAA%2B0lEQVR4nO3VsQkCURBFUVcsaYuwJ2N7sgh7GnORCxvI3%2BCcfOAll9lmZi7AT9fVA%2BDMbqsHfNsfr8M37%2Bf9D0vAB4EkEAgCgSAQCAKBIBAIAoEgEAgCgSAQCAKBIBAIAoEgEAgCgSAQCAKBIBAIAoEgEAgCgSAQCAKBIBAIAoEgEAgCgSAQCAKBIBAIAoEgEAgCgSAQCAKBIBAIAoEgEAgCgSAQCAKBIBAIAoEgEAgCgSAQCNvMzOoRcFY%2BCASBQBAIBIFAEAgEgUAQCASBQBAIBIFAEAgEgUAQCASBQBAIBIFAEAgEgUAQCASBQBAIBIFAEAgEgUAQCIQP2hsLj2bol0UAAAAASUVORK5CYII%3D\">\n",
              "\n",
              "</div>\n",
              "<div class=\"col-md-12 text-right\">\n",
              "    <a role=\"button\" data-toggle=\"collapse\" data-target=\"#descriptives7340254881600100764,#minihistogram7340254881600100764\"\n",
              "       aria-expanded=\"false\" aria-controls=\"collapseExample\">\n",
              "        Toggle details\n",
              "    </a>\n",
              "</div>\n",
              "<div class=\"row collapse col-md-12\" id=\"descriptives7340254881600100764\">\n",
              "    <ul class=\"nav nav-tabs\" role=\"tablist\">\n",
              "        <li role=\"presentation\" class=\"active\"><a href=\"#quantiles7340254881600100764\"\n",
              "                                                  aria-controls=\"quantiles7340254881600100764\" role=\"tab\"\n",
              "                                                  data-toggle=\"tab\">Statistics</a></li>\n",
              "        <li role=\"presentation\"><a href=\"#histogram7340254881600100764\" aria-controls=\"histogram7340254881600100764\"\n",
              "                                   role=\"tab\" data-toggle=\"tab\">Histogram</a></li>\n",
              "        <li role=\"presentation\"><a href=\"#common7340254881600100764\" aria-controls=\"common7340254881600100764\"\n",
              "                                   role=\"tab\" data-toggle=\"tab\">Common Values</a></li>\n",
              "        <li role=\"presentation\"><a href=\"#extreme7340254881600100764\" aria-controls=\"extreme7340254881600100764\"\n",
              "                                   role=\"tab\" data-toggle=\"tab\">Extreme Values</a></li>\n",
              "\n",
              "    </ul>\n",
              "\n",
              "    <div class=\"tab-content\">\n",
              "        <div role=\"tabpanel\" class=\"tab-pane active row\" id=\"quantiles7340254881600100764\">\n",
              "            <div class=\"col-md-4 col-md-offset-1\">\n",
              "                <p class=\"h4\">Quantile statistics</p>\n",
              "                <table class=\"stats indent\">\n",
              "                    <tr>\n",
              "                        <th>Minimum</th>\n",
              "                        <td>1</td>\n",
              "                    </tr>\n",
              "                    <tr>\n",
              "                        <th>5-th percentile</th>\n",
              "                        <td>180</td>\n",
              "                    </tr>\n",
              "                    <tr>\n",
              "                        <th>Q1</th>\n",
              "                        <td>397</td>\n",
              "                    </tr>\n",
              "                    <tr>\n",
              "                        <th>Median</th>\n",
              "                        <td>662</td>\n",
              "                    </tr>\n",
              "                    <tr>\n",
              "                        <th>Q3</th>\n",
              "                        <td>1075</td>\n",
              "                    </tr>\n",
              "                    <tr>\n",
              "                        <th>95-th percentile</th>\n",
              "                        <td>2104</td>\n",
              "                    </tr>\n",
              "                    <tr>\n",
              "                        <th>Maximum</th>\n",
              "                        <td>3526282</td>\n",
              "                    </tr>\n",
              "                    <tr>\n",
              "                        <th>Range</th>\n",
              "                        <td>3526281</td>\n",
              "                    </tr>\n",
              "                    <tr>\n",
              "                        <th>Interquartile range</th>\n",
              "                        <td>678</td>\n",
              "                    </tr>\n",
              "                </table>\n",
              "            </div>\n",
              "            <div class=\"col-md-4 col-md-offset-2\">\n",
              "                <p class=\"h4\">Descriptive statistics</p>\n",
              "                <table class=\"stats indent\">\n",
              "                    <tr>\n",
              "                        <th>Standard deviation</th>\n",
              "                        <td>5237.4</td>\n",
              "                    </tr>\n",
              "                    <tr>\n",
              "                        <th>Coef of variation</th>\n",
              "                        <td>5.4585</td>\n",
              "                    </tr>\n",
              "                    <tr>\n",
              "                        <th>Kurtosis</th>\n",
              "                        <td>192130</td>\n",
              "                    </tr>\n",
              "                    <tr>\n",
              "                        <th>Mean</th>\n",
              "                        <td>959.49</td>\n",
              "                    </tr>\n",
              "                    <tr>\n",
              "                        <th>MAD</th>\n",
              "                        <td>629.32</td>\n",
              "                    </tr>\n",
              "                    <tr class=\"alert\">\n",
              "                        <th>Skewness</th>\n",
              "                        <td>343.16</td>\n",
              "                    </tr>\n",
              "                    <tr>\n",
              "                        <th>Sum</th>\n",
              "                        <td>1399557647</td>\n",
              "                    </tr>\n",
              "                    <tr>\n",
              "                        <th>Variance</th>\n",
              "                        <td>27431000</td>\n",
              "                    </tr>\n",
              "                    <tr>\n",
              "                        <th>Memory size</th>\n",
              "                        <td>11.1 MiB</td>\n",
              "                    </tr>\n",
              "                </table>\n",
              "            </div>\n",
              "        </div>\n",
              "        <div role=\"tabpanel\" class=\"tab-pane col-md-8 col-md-offset-2\" id=\"histogram7340254881600100764\">\n",
              "            <img src=\"data:image/png;base64,iVBORw0KGgoAAAANSUhEUgAAAlgAAAGQCAYAAAByNR6YAAAABHNCSVQICAgIfAhkiAAAAAlwSFlzAAAPYQAAD2EBqD%2BnaQAAADh0RVh0U29mdHdhcmUAbWF0cGxvdGxpYiB2ZXJzaW9uMy4xLjEsIGh0dHA6Ly9tYXRwbG90bGliLm9yZy8QZhcZAAAgAElEQVR4nOzde1yUZcL/8S8wgQkOBw1rfdx0PcXJY0ahiWhqm2lleKDHLXc1LU1ekO5amptWm25iVurjoR5Nq90IbfNQrj7kYW2zPXYYxkMr6s9iMUhn5CCgwP37wxezTYxAcQMN83m/Xv3hfc19Xdd3DPxyzz2Dn2EYhgAAAGAa/5beAAAAQGtDwQIAADAZBQsAAMBkFCwAAACTUbAAAABMRsECAAAwGQULAADAZBQsAAAAk1GwAAAATEbBAgAAMBkFCwAAwGQULAAAAJNRsAAAAExGwQIAADAZBQsAAMBkFCwAAACTUbAAAABMRsECAAAwGQULAADAZBQsAAAAk1GwAAAATEbBAgAAMBkFCwAAwGQULAAAAJNRsAAAAExGwQIAADAZBQsAAMBkFCwAAACTUbAAAABMRsECAAAwGQULAADAZBQsAAAAk1GwAAAATEbBAgAAMBkFCwAAwGQULAAAAJNRsAAAAExGwQIAADAZBQsAAMBklpbegK8oLCw2fU5/fz9FRATr3LlSVVcbps//Q0Vu38nti5klcpPbNzRX7muuaddkc9eFK1hezN/fT35%2BfvL392vprTQrcvtObl/MLJGb3L6hteemYAEAAJiMggUAAGAyChYAAIDJKFgAAAAmo2ABAACYjIIFAABgMgoWAACAyShYAAAAJqNgAQAAmIyCBQAAYDIKFgAAgMkoWAAAACajYAEAAJjM0tIbQOPcuOCPLb2FBtuVNqiltwAAQLPgChYAAIDJKFgAAAAmo2ABAACYjIIFAABgMgoWAACAyShYAAAAJqNgAQAAmKxJC9bBgweVkJCg9PT0Kz6mtLRUQ4cO1WOPPeY6Vl1drRUrVmj48OEaOHCgpk6dqi%2B%2B%2BMI17nQ6lZaWpoSEBA0ePFgLFixQeXm5a/zIkSOaPHmyBgwYoJEjR2rDhg1ua7733nsaM2aM%2BvXrp3HjxumDDz5o8NoAAAD1abKC9fLLL%2BuZZ57R9ddfX%2BfjVq5cqZKSErdjb7zxhnbs2KH169dr37596tKli2bNmiXDMCRJCxcuVFlZmXbu3KmtW7cqNzdXGRkZkqTy8nLNmDFDN998sw4ePKgVK1Zo3bp12rNnj6TL5WvevHmaO3euPvroI02ZMkWPPPKIzpw506C1AQAA6tNkBSsoKEhbtmyps2AdPXpUO3fu1D333ON2PDMzU1OmTFG3bt0UEhKi9PR05ebm6tNPP9XXX3%2Bt7OxspaenKyIiQh07dtTMmTO1detWXbp0Sfv379elS5f08MMPq23btoqJidH48eOVmZkpScrKylJiYqISExMVFBSksWPHqmfPntq%2BfXu9awMAADREk/2qnPvvv7/OccMwtGjRIqWnp%2Bvf//63iouLJV2%2BAnX8%2BHFFR0e7HhsSEqLrr79eNptNxcXFCggIUK9evVzjMTExunDhgk6cOCG73a5evXopICDANR4dHa2srCxJkt1uV2JiotteoqOjZbPZ6l27b9%2B%2BDcpeUFCgwsJCt2MWS1tFRkY26PyGCgjwrlvoLBZz9luT29vyN5Yv5vbFzBK5ye0bWnvuFvtdhJmZmfLz89O4ceO0atUq1/Hz58/LMAyFhoa6PT40NFQOh0NhYWEKCQmRn5%2Bf25gkORwOOZ1OWa1Wt3PDwsLkdDpVXV0tp9Ppce7jx4/Xu/Z3yfbNTJI0a9YspaamNniO1ig8PNjU%2BazWq02dz1v4Ym5fzCyR29eQu3VpkYJ19uxZvfjii3r11VfditI31XXP0/e5H%2Bqb69R3fmPvt5o4caKGDRvmdsxiaSuHo7RR836bt7V%2Bs/IHBPjLar1aRUVlqqqqNmVOb%2BCLuX0xs0RucvuG5spt9g/3DdUiBWvp0qW6%2B%2B673V7mqxEWFiZ/f385nU63406nU%2B3bt1dERIRKSkpUVVXlehmw5rE146dOnap1bs284eHhHueOiIiod%2B2GioyMrPVyYGFhsSorfecLxxOz81dVVfvkc%2BqLuX0xs0RuX0Pu1qVFLoFs375dW7ZsUXx8vOLj4/XKK6/o3XffVXx8vIKCgtSjRw/Z7XbX44uKinT69Gn17t1bUVFRMgxDR48edY3bbDZZrVZ17dpVsbGxOnbsmCorK93G%2B/TpI0mKjY1VTk6O235qxutbGwAAoCFapGAdOHBAO3bs0LZt27Rt2zZNmjRJw4YN07Zt2yRJKSkp2rx5s3Jzc1VSUqKMjAxFRUUpLi5OERERGjVqlF544QWdO3dOZ86c0erVq5WcnCyLxaLExESFhIRozZo1Kisr06effqotW7YoJSVFkjRhwgR9%2BOGH2r9/vyoqKrRlyxadOnVKY8eOrXdtAACAhmiylwhrCknNlaTs7GxJl68WXXvttW6PDQkJ0dVXX%2B06PmnSJBUWFupnP/uZSktLFR8f73bT%2BFNPPaUnn3xSw4cP11VXXaU777zT9WGmgYGBWrt2rZ588kmtX79eHTp0UHp6uoYOHSpJ6tmzpzIyMrRkyRLl5eWpe/fuWrduna655poGrQ0AAFAfP4NP0GwWhYXFps9psfhrRMZB0%2BdtKrvSBpkyj8Xir/DwYDkcpa3ydfsr8cXcvphZIje5fUNz5b7mmnZNNnddvOttaAAAAF6AggUAAGAyChYAAIDJKFgAAAAmo2ABAACYjIIFAABgMgoWAACAyShYAAAAJqNgAQAAmIyCBQAAYDIKFgAAgMkoWAAAACajYAEAAJiMggUAAGAyChYAAIDJKFgAAAAmo2ABAACYjIIFAABgMgoWAACAyShYAAAAJqNgAQAAmIyCBQAAYDIKFgAAgMkoWAAAACajYAEAAJiMggUAAGAyChYAAIDJKFgAAAAmo2ABAACYjIIFAABgMgoWAACAyZq0YB08eFAJCQlKT0%2BvNbZnzx6NHTtW/fr106hRo/TWW2%2B5jW/evFmjRo1S//79lZKSopycHNdYRUWFfv3rX2vIkCGKj49XamqqHA6HazwvL0/Tp09XfHy8kpKStGzZMlVXV7vGDx06pOTkZPXv31%2BjR4/W9u3bG7w2AABAfZqsYL388st65plndP3119ca%2B%2ByzzzR37lylpqbqb3/7m%2BbPn6%2BnnnpKf//73yVJe/fu1cqVK/Xcc8/pww8/VFJSkh566CFduHBBkrRixQrZ7XZlZmZq9%2B7dMgxDjz/%2BuGv%2B2bNnq2PHjsrOztbGjRuVnZ2tTZs2SZIKCgo0c%2BZMTZo0SYcOHdKCBQu0cOFC2Wy2Bq0NAABQnyYrWEFBQdqyZYvHguV0OjVjxgzddtttslgsSkxMVM%2BePV0FKzMzU%2BPGjVOfPn3Upk0bTZs2TZK0b98%2BVVZWasuWLZo5c6auu%2B46hYWFKS0tTfv379dXX30lm82mo0ePau7cuWrXrp26dOmiKVOmKDMzU5K0Y8cOdenSRcnJyQoKClJCQoKGDRumrKysetcGAABoCEtTTXz//fdfcWzIkCEaMmSI68%2BVlZUqLCxUx44dJUl2u1133HGHa9zf319RUVGy2WyKiopScXGxYmJiXOPdunVTmzZtZLfbVVBQoE6dOik0NNQ1HhMTo5MnT6qkpER2u13R0dFu%2B4mOjtauXbvqXXv06NENyl5QUKDCwkK3YxZLW0VGRjbo/IYKCPCuW%2BgsFnP2W5Pb2/I3li/m9sXMErnJ7Rtae%2B4mK1jfRUZGhtq2besqNk6n060gSVJoaKgcDoecTqckyWq1uo1brVbX%2BLfHauaqGa8pcjXCwsJc93DVtXZDZWZmatWqVW7HZs2apdTU1AbP0RqFhwebOp/VerWp83kLX8zti5klcvsacrcuLVqwDMNQRkaGdu7cqc2bNysoKMhtrL5zv89YQ/fVGBMnTtSwYcPcjlksbeVwlDZq3m/zttZvVv6AAH9ZrVerqKhMVVXV9Z/QSvhibl/MLJGb3L6huXKb/cN9Q7VYwaqurtbjjz%2Buzz77TL///e/VuXNn11h4eLjrSlUNp9OpHj16KCIiwvXn4OD/PGnnz59X%2B/btVVVV5fFcPz8/RUREeJzb4XC45q1r7YaKjIys9XJgYWGxKit95wvHE7PzV1VV%2B%2BRz6ou5fTGzRG5fQ%2B7WpcUugTz77LP617/%2BVatcSVJsbKzsdrvrz1VVVTp8%2BLD69Omjzp07KzQ01G38888/18WLFxUbG6vY2Fjl5%2Bfr3LlzrnGbzabu3bsrODhYcXFxtT52IScnR3369Kl3bQAAgIZokYL1j3/8Q9u3b9f69esVFhZWazwlJUXvvPOOPvnkE5WVlWnNmjUKDAzU0KFDFRAQoAkTJmjt2rXKz8%2BXw%2BHQ888/rxEjRqhDhw6Kjo5WXFycli9frpKSEuXm5mrjxo1KSUmRJI0ZM0Z5eXnKyspSRUWFDhw4oAMHDmjChAn1rg0AANAQTfYSYVxcnKTL7xCUpOzsbEmXryZt3bpVxcXFSkpKcjtn4MCB2rBhg4YMGaJHH31UaWlpOnv2rOLi4rR%2B/Xq1adNGkpSamqrS0lLdddddqqysVFJSkhYtWuSa56WXXtLChQs1aNAghYSEaNKkSbrvvvskSe3bt9e6dev0zDPPaPHixerUqZOWLVumG264QZLqXRsAAKA%2BfkZj7%2BhGgxQWFps%2Bp8XirxEZB02ft6nsShtkyjwWi7/Cw4PlcJS2ytftr8QXc/tiZonc5PYNzZX7mmvaNdncdfGut6EBAAB4AQoWAACAyShYAAAAJqNgAQAAmIyCBQAAYDIKFgAAgMkoWAAAACajYAEAAJiMggUAAGAyChYAAIDJKFgAAAAmo2ABAACYjIIFAABgMgoWAACAyShYAAAAJqNgAQAAmIyCBQAAYDIKFgAAgMkoWAAAACajYAEAAJiMggUAAGAyChYAAIDJKFgAAAAmo2ABAACYjIIFAABgMgoWAACAyShYAAAAJqNgAQAAmIyCBQAAYDIKFgAAgMkoWAAAACZr0oJ18OBBJSQkKD09vdbYe%2B%2B9pzFjxqhfv34aN26cPvjgA9dYdXW1VqxYoeHDh2vgwIGaOnWqvvjiC9e40%2BlUWlqaEhISNHjwYC1YsEDl5eWu8SNHjmjy5MkaMGCARo4cqQ0bNpi2NgAAQH2arGC9/PLLeuaZZ3T99dfXGjty5IjmzZunuXPn6qOPPtKUKVP0yCOP6MyZM5KkN954Qzt27ND69eu1b98%2BdenSRbNmzZJhGJKkhQsXqqysTDt37tTWrVuVm5urjIwMSVJ5eblmzJihm2%2B%2BWQcPHtSKFSu0bt067dmzx5S1AQAA6tNkBSsoKEhbtmzxWLCysrKUmJioxMREBQUFaezYserZs6e2b98uScrMzNSUKVPUrVs3hYSEKD09Xbm5ufr000/19ddfKzs7W%2Bnp6YqIiFDHjh01c%2BZMbd26VZcuXdL%2B/ft16dIlPfzww2rbtq1iYmI0fvx4ZWZmNnptAACAhrA01cT333//FcfsdrsSExPdjkVHR8tms6m8vFzHjx9XdHS0aywkJETXX3%2B9bDabiouLFRAQoF69ernGY2JidOHCBZ04cUJ2u129evVSQECA29xZWVmNXrtv374Nyl5QUKDCwkK3YxZLW0VGRjbo/IYKCPCuW%2BgsFnP2W5Pb2/I3li/m9sXMErnJ7Rtae%2B4mK1h1cTqdCg0NdTsWGhqq48eP6/z58zIMw%2BO4w%2BFQWFiYQkJC5Ofn5zYmSQ6HQ06nU1ar1e3csLAwOZ1OVVdXN2rthsrMzNSqVavcjs2aNUupqakNnqM1Cg8PNnU%2Bq/VqU%2BfzFr6Y2xczS%2BT2NeRuXVqkYEmq956musa/z/1Q3yxkjVm7ISZOnKhhw4a5HbNY2srhKG3UvN/mba3frPwBAf6yWq9WUVGZqqqqTZnTG/hibl/MLJGb3L6huXKb/cN9Q7VIwQoPD5fT6XQ75nQ6FRERobCwMPn7%2B3scb9%2B%2BvSIiIlRSUqKqqirXy4A1j60ZP3XqVK1za%2BZtzNoNFRkZWevlwMLCYlVW%2Bs4Xjidm56%2BqqvbJ59QXc/tiZoncvobcrUuLXAKJjY1VTk6O2zGbzaY%2BffooKChIPXr0kN1ud40VFRXp9OnT6t27t6KiomQYho4ePep2rtVqVdeuXRUbG6tjx46psrKy1tyNXRsAAKAhWqRgTZgwQR9%2B%2BKH279%2BviooKbdmyRadOndLYsWMlSSkpKdq8ebNyc3NVUlKijIwMRUVFKS4uThERERo1apReeOEFnTt3TmfOnNHq1auVnJwsi8WixMREhYSEaM2aNSorK9Onn36qLVu2KCUlpdFrAwAANESTvURYU0hqriRlZ2dLuny1qGfPnsrIyNCSJUuUl5en7t27a926dbrmmmskSZMmTVJhYaF%2B9rOfqbS0VPHx8W43jT/11FN68sknNXz4cF111VW68847XR9mGhgYqLVr1%2BrJJ5/U%2BvXr1aFDB6Wnp2vo0KGS1Oi1AQAA6uNn8AmazaKwsNj0OS0Wf43IOGj6vE1lV9ogU%2BaxWPwVHh4sh6O0Vb5ufyW%2BmNsXM0vkJrdvaK7c11zTrsnmrot3vQ0NAADAC1CwAAAATEbBAgAAMBkFCwAAwGQULAAAAJNRsAAAAExGwQIAADAZBQsAAMBkFCwAAACTeSxYw4YN06pVq5Sfn9/c%2BwEAAPB6HgvWvffeq/fee0%2B33Xabpk2bpj179rh%2BpyAAAADq5rFgzZo1S%2B%2B9957eeust9ejRQ88%2B%2B6wSExO1bNkynTx5srn3CAAA4FXqvAcrJiZG8%2BbN0759%2BzR//ny99dZbuuOOOzR16lR99tlnzbVHAAAAr1Jnwbp06ZLee%2B89Pfjgg5o3b546duyoxx9/XFFRUZoyZYp27NjRXPsEAADwGhZPB3Nzc7Vlyxa98847Ki0t1ahRo7Rp0yYNGDDA9ZiBAwdq0aJFGjNmTLNtFgAAwBt4LFijR49W165dNWPGDN19990KCwur9ZjExESdO3euyTcIAADgbTwWrM2bN%2Bumm26q9%2BRPP/3U9A0BAAB4O4/3YPXq1UsPPfSQsrOzXcdeffVVPfjgg3I6nc22OQAAAG/ksWAtWbJExcXF6t69u%2BvY0KFDVV1draVLlzbb5gAAALyRx5cIP/jgA%2B3YsUPh4eGuY126dFFGRobuvPPOZtscAACAN/J4Bau8vFxBQUG1H%2Bzvr7KysibfFAAAgDfzWLAGDhyopUuX6vz5865jX331lRYvXuz2UQ0AAACozeNLhPPnz9cvfvEL3XLLLQoJCVF1dbVKS0vVuXNnvfbaa829RwAAAK/isWB17txZ7777rv70pz/p9OnT8vf3V9euXTV48GAFBAQ09x4BAAC8iseCJUmBgYG67bbbmnMvAAAArYLHgvXFF19o%2BfLl%2Bte//qXy8vJa4%2B%2B//36TbwwAAMBbXfEerIKCAg0ePFht27Zt7j0BAAB4NY8FKycnR%2B%2B//74iIiKaez8AAABez%2BPHNLRv354rVwAAAN%2BTx4I1Y8YMrVq1SoZhNPd%2BAAAAvJ7Hlwj/9Kc/6Z///Kfefvtt/dd//Zf8/d172JtvvmnK4ocPH9bSpUt1%2BPBhBQUF6ZZbbtH8%2BfMVERGhQ4cOafny5Tpx4oSuu%2B46zZgxQ2PHjnWdu3nzZr3xxhsqLCxUr169tGDBAsXGxkqSKioq9Jvf/Eb79%2B9XRUWF4uPjtXjxYtev/snLy9PixYv16aefqm3btrrjjjs0Z84cV8761gYAAKiLxytYISEhGjJkiBITE9WtWzd17drV7T8zVFZWavr06erbt68%2B/PBD7dy5U%2BfOndOiRYtUUFCgmTNnatKkSTp06JAWLFighQsXymazSZL27t2rlStX6rnnntOHH36opKQkPfTQQ7pw4YIkacWKFbLb7crMzNTu3btlGIYef/xx19qzZ89Wx44dlZ2drY0bNyo7O1ubNm2SpHrXBgAAqI/HK1hLlixp8oULCwtVWFiou%2B66S4GBgQoMDNSIESO0YcMG7dixQ126dFFycrIkKSEhQcOGDVNWVpbi4uKUmZmpcePGqU%2BfPpKkadOmafPmzdq3b59GjRqlLVu26Le//a2uu%2B46SVJaWppGjx6tr776SgUFBTp69Kg2btyodu3aqV27dpoyZYo2bdqkn//85/WuDQAAUB%2BPV7Ak6cSJE1q5cqXblZ%2BPP/7YtIU7duyoqKgoZWZmqrS0VGfPntWePXs0dOhQ2e12RUdHuz0%2BOjpaOTk5klRr3N/fX1FRUbLZbDp9%2BrSKi4sVExPjGu/WrZvatGkju90uu92uTp06KTQ01DUeExOjkydPqqSkpN61AQAA6uPxCtahQ4f04IMPqmvXrjp16pSWLFmiL774Qvfff79eeOEFDR8%2BvNEL%2B/v7a%2BXKla6rR5J00003ac6cOZo5c6Y6duzo9viwsDA5HA5JktPpdCtIkhQaGiqHwyGn0ylJslqtbuNWq9U1/u2xmrlqxutauyEKCgpUWFjodsxiaavIyMgGz9EQAQFX7Mc/SBaLOfutye1t%2BRvLF3P7YmaJ3OT2Da09t8eCtWLFCv3yl7/UAw88oN69e0u6/PsJly5dqtWrV5tSsC5evKiHHnpIt99%2Bu%2Bv%2BqcWLF2vu3LkNOr%2B%2BdzjWNd7U747MzMzUqlWr3I7NmjVLqampTbruD114eLCp81mtV5s6n7fwxdy%2BmFkit68hd%2BvisWB9/vnnev311yVJfn5%2BruO333675s%2Bfb8rChw4d0pdffqlHH31UAQEBateunVJTU3XXXXfp1ltvdV2JquFwOFwffBoeHl5r3Ol0qkePHq7HOJ1OBQf/5x/08%2BfPq3379qqqqvJ4rp%2BfnyIiIjzO/c21G2LixIkaNmyY2zGLpa0cjtIGz9EQ3tb6zcofEOAvq/VqFRWVqaqq2pQ5vYEv5vbFzBK5ye0bmiu32T/cN5THgtWuXTuVl5crMDDQ7XhBQUGtY99XVVWVqqur3a4mXbx4UdLlG8v/8Ic/uD0%2BJyfHdVN7bGys7Ha77rnnHtdchw8fVnJysjp37qzQ0FDXvVbS5cJ48eJFxcbGqqCgQPn5%2BTp37pyrNNlsNnXv3l3BwcGKi4vT1q1br7h2Q0RGRtZ6ObCwsFiVlb7zheOJ2fmrqqp98jn1xdy%2BmFkit68hd%2Bvi8RJI//799eyzz6qkpMR17OTJk5o3b55uueUWUxbu16%2Bf2rZtq5UrV6qsrEwOh0Nr1qzRwIEDdddddykvL09ZWVmqqKjQgQMHdODAAU2YMEGSlJKSonfeeUeffPKJysrKtGbNGgUGBmro0KEKCAjQhAkTtHbtWuXn58vhcOj555/XiBEj1KFDB0VHRysuLk7Lly9XSUmJcnNztXHjRqWkpEiSxowZU%2BfaAAAA9fEzPNyQdObMGT3wwAP68ssvVVVVpbZt26qsrEw9evTQ2rVr9aMf/ciUxXNycvTb3/5WR48eVWBgoG666SY99thj6tixo/72t7/pmWeeUW5urjp16qQ5c%2BZo5MiRrnN/97vfaf369Tp79qzi4uK0aNEi9ezZU9LlK2FLlizRu%2B%2B%2Bq8rKSiUlJWnRokVq166dK9/ChQv117/%2BVSEhIZo0aZIeeeQR18uh9a39fRQWFjfqfE8sFn%2BNyDho%2BrxNZVfaIFPmsVj8FR4eLIejtFX%2B1HMlvpjbFzNL5Ca3b2iu3Ndc067J5q6Lx4IlSZcuXdKBAwd08uRJtWnTRl27dtWgQYPc7slCw1GwKFiN5Yu5fTGzRG5y%2B4bWXrA83oMlSVdddZVuu%2B225twLAABAq%2BCxYA0bNqzOK1Xvv/9%2Bk20IAADA23ksWHfccYdbwaqqqtLJkydls9n0wAMPNNvmAAAAvJHHgnWlD/vcvXu3/vKXvzTphgAAALzdd/qkyttuu03vvvtuU%2B0FAACgVfhOBevw4cNN/mtmAAAAvJ3HlwgnTZpU61hZWZlyc3Mb/XlQAAAArZ3HgtWlS5da7yIMCgpScnKyxo8f3ywbAwAA8FYeC9bSpUubex8AAACthseC9c477zR4grvvvtu0zQAAALQGHgvWggULVF1dXeuGdj8/P7djfn5%2BFCwAAIBv8ViwXnnlFW3YsEEPPfSQevXqJcMwdOzYMb388suaPHmy4uPjm3ufAAAAXuOK92CtX79eHTt2dB278cYb1blzZ02dOlU7d%2B5stg0CAAB4G4%2Bfg3Xq1CmFhobWOm61WpWXl9fkmwIAAPBmHgtWp06dtHTpUjkcDtexoqIiLV%2B%2BXD/%2B8Y%2BbbXMAAADeyONLhPPnz9ecOXOUmZmp4OBg%2Bfv7q6SkRG3atNHq1aube48AAABexWPBGjx4sPbv368DBw7ozJkzMgxDHTt21K233qp27do19x4BAAC8iseCJUlXX321hg8frjNnzqhz587NuScAAACv5vEerPLycs2bN0/9%2BvXTT3/6U0mX78GaNm2aioqKmnWDAAAA3sZjwVq2bJmOHDmijIwM%2Bfv/5yFVVVXKyMhots0BAAB4I48Fa/fu3XrppZd0%2B%2B23u37ps9Vq1ZIlS7Rnz55m3SAAAIC38ViwSktL1aVLl1rHIyIidOHChabeEwAAgFfzWLB%2B/OMf6y9/%2BYskuf3uwT/%2B8Y/60Y9%2B1Dw7AwAA8FIe30V43333afbs2br33ntVXV2tjRs3KicnR7t379aCBQuae48AAABexWPBmjhxoiwWi15//XUFBARo7dq16tq1qzIyMnT77bc39x4BAAC8iseCde7cOd1777269957m3s/AAAAXs/jPVjDhw93u/cKAAAADeexYMXHx2vXrl3NvRcAAIBWweNLhNddd51%2B85vfaP369frxj3%2Bsq666ym18%2BfLlzbI5AAAAb%2BSxYB0/flw/%2BclPJEkOh6NZNwQAAODt3ApWenq6VqxYoddee811bPXq1Zo1a1azbwwAAMBbud2DtXfv3loPWL9%2BfZNuYM2aNRo8eLD69u2rKVOm6Msvv5QkHTp0SMnJyerfv79Gjx6t7du3u523efNmjRo1Sv3791dKSopycnJcYxUVFShrjvUAACAASURBVPr1r3%2BtIUOGKD4%2BXqmpqW5X4vLy8jR9%2BnTFx8crKSlJy5YtU3V1tWu8vrUBAADq4lawPL1zsCnfTfjGG29o%2B/bt2rx5sz744AN1795dr776qgoKCjRz5kxNmjRJhw4d0oIFC7Rw4ULZbDZJl4vgypUr9dxzz%2BnDDz9UUlKSHnroIdev8VmxYoXsdrsyMzO1e/duGYahxx9/3LXu7Nmz1bFjR2VnZ2vjxo3Kzs7Wpk2bJKnetQEAAOrjVrBqfrFzfcfMsmHDBqWnp%2BsnP/mJQkJC9MQTT%2BiJJ57Qjh071KVLFyUnJysoKEgJCQkaNmyYsrKyJEmZmZkaN26c%2BvTpozZt2mjatGmSpH379qmyslJbtmzRzJkzdd111yksLExpaWnav3%2B/vvrqK9lsNh09elRz585Vu3bt1KVLF02ZMkWZmZmSVO/aAAAA9fH4MQ3N4auvvtKXX36p8%2BfP64477nC9lHfu3DnZ7XZFR0e7PT46Otr1MuC3x/39/RUVFSWbzabTp0%2BruLhYMTExrvFu3bqpTZs2stvtstvt6tSpk0JDQ13jMTExOnnypEpKSupdGwAAoD4e30XYHM6cOSPp8i%2BQ3rhxowzDUGpqqp544gmVl5erY8eObo8PCwtz3UfldDrdCpIkhYaGyuFwyOl0SpKsVqvbuNVqdY1/e6xmrprxutZuiIKCAhUWFrods1jaKjIyssFzNERAQIv14%2B/FYjFnvzW5vS1/Y/libl/MLJGb3L6hted2K1iXLl3SnDlzVN8xMz4Hq%2BbermnTprkKzezZs/Xggw8qISGhwed/n/Gm/pT6zMxMrVq1yu3YrFmzlJqa2qTr/tCFhwebOp/VerWp83kLX8zti5klcvsacrcubgVrwIABKigoUH3HzNChQwdJ7leaOnXqJMMwdOnSJdeVqBoOh0MRERGSpPDw8FrjTqdTPXr0cD3G6XQqOPg//6CfP39e7du3V1VVlcdz/fz8FBER4XHub67dEBMnTtSwYcPcjlksbeVwlDZ4jobwttZvVv6AAH9ZrVerqKhMVVXV9Z/QSvhibl/MLJGb3L6huXKb/cN9Q7kVrG9%2B/lVTu/baaxUSEqIjR4647pfKy8vTVVddpcTERG3bts3t8Tk5OerTp48kKTY2Vna7Xffcc48kqaqqSocPH1ZycrI6d%2B6s0NBQ171WkvT555/r4sWLio2NVUFBgfLz83Xu3DlXabLZbOrevbuCg4MVFxenrVu3XnHthoiMjKz1cmBhYbEqK33nC8cTs/NXVVX75HPqi7l9MbNEbl9D7talxS6BWCwWJScna%2B3atfp//%2B//6ezZs1q9erXGjBmje%2B65R3l5ecrKylJFRYUOHDigAwcOaMKECZKklJQUvfPOO/rkk09UVlamNWvWKDAwUEOHDlVAQIAmTJigtWvXKj8/Xw6HQ88//7xGjBihDh06KDo6WnFxcVq%2BfLlKSkqUm5urjRs3KiUlRZI0ZsyYOtcGAACoT4vd5C5Jc%2BbM0cWLFzV%2B/HhdunRJo0aN0hNPPKHg4GCtW7dOzzzzjBYvXqxOnTpp2bJluuGGGyRJQ4YM0aOPPqq0tDSdPXtWcXFxWr9%2Bvdq0aSNJSk1NVWlpqe666y5VVlYqKSlJixYtcq370ksvaeHChRo0aJBCQkI0adIk3XfffZKk9u3b17k2AABAffyMpr7jG5Iuv0RoNovFXyMyDpo%2Bb1PZlTbIlHksFn%2BFhwfL4ShtlZeVr8QXc/tiZonc5PYNzZX7mmvaNdncdfGuu6QBAAC8AAULAADAZBQsAAAAk1GwAAAATEbBAgAAMBkFCwAAwGQULAAAAJNRsAAAAExGwQIAADAZBQsAAMBkFCwAAACTUbAAAABMRsECAAAwGQULAADAZBQsAAAAk1GwAAAATEbBAgAAMBkFCwAAwGQULAAAAJNRsAAAAExGwQIAADAZBQsAAMBkFCwAAACTUbAAAABMRsECAAAwGQULAADAZBQsAAAAk1GwAAAATEbBAgAAMBkFCwAAwGQULAAAAJP9IArWs88%2Bq169ern%2BfOjQISUnJ6t///4aPXq0tm/f7vb4zZs3a9SoUerfv79SUlKUk5PjGquoqNCvf/1rDRkyRPHx8UpNTZXD4XCN5%2BXlafr06YqPj1dSUpKWLVum6urqBq8NAABQnxYvWEeOHNG2bdtcfy4oKNDMmTM1adIkHTp0SAsWLNDChQtls9kkSXv37tXKlSv13HPP6cMPP1RSUpIeeughXbhwQZK0YsUK2e12ZWZmavfu3TIMQ48//rhr/tmzZ6tjx47Kzs7Wxo0blZ2drU2bNjVobQAAgIZo0YJVXV2tJ598UlOmTHEd27Fjh7p06aLk5GQFBQUpISFBw4YNU1ZWliQpMzNT48aNU58%2BfdSmTRtNmzZNkrRv3z5VVlZqy5Ytmjlzpq677jqFhYUpLS1N%2B/fv11dffSWbzaajR49q7ty5ateunbp06aIpU6YoMzOzQWsDAAA0hKUlF3/zzTcVFBSkMWPG6IUXXpAk2e12RUdHuz0uOjpau3btco3fcccdrjF/f39FRUXJZrMpKipKxcXFiomJcY1369ZNbdq0kd1uV0FBgTp16qTQ0FDXeExMjE6ePKmSkpJ6126ogoICFRYWuh2zWNoqMjLyO81Tn4CAFr8A%2BZ1YLObstya3t%2BVvLF/M7YuZJXKT2ze09twtVrC%2B/vprrVy5Uq%2B99prbcafTqY4dO7odCwsLc91H5XQ63QqSJIWGhsrhcMjpdEqSrFar27jVanWNf3usZq6a8brWbqjMzEytWrXK7disWbOUmpr6neZpbcLDg02dz2q92tT5vIUv5vbFzBK5fQ25W5cWK1hLlizRuHHj1L17d3355Zff6VzDML73eH3nmmHixIkaNmyY2zGLpa0cjlJT1/G21m9W/oAAf1mtV6uoqExVVdX1n9BK%2BGJuX8wskZvcvqG5cpv9w31DtUjBOnTokD7%2B%2BGPt3Lmz1lh4eLjrSlQNh8OhiIiIK447nU716NHD9Rin06ng4P88oefPn1f79u1VVVXl8Vw/Pz9FRETUu3ZDRUZG1no5sLCwWJWVvvOF44nZ%2Bauqqn3yOfXF3L6YWSK3ryF369Iil0C2b9%2Bus2fPKikpSfHx8Ro3bpwkKT4%2BXj179nT72AVJysnJUZ8%2BfSRJsbGxstvtrrGqqiodPnxYffr0UefOnRUaGuo2/vnnn%2BvixYuKjY1VbGys8vPzde7cOde4zWZT9%2B7dFRwcrLi4uDrXBgAAaIgWKViPPfaYdu/erW3btmnbtm1av369JGnbtm0aM2aM8vLylJWVpYqKCh04cEAHDhzQhAkTJEkpKSl655139Mknn6isrExr1qxRYGCghg4dqoCAAE2YMEFr165Vfn6%2BHA6Hnn/%2BeY0YMUIdOnRQdHS04uLitHz5cpWUlCg3N1cbN25USkqKJNW7NgAAQEO0yEuEoaGhbjeqV1ZWSpKuvfZaSdK6dev0zDPPaPHixerUqZOWLVumG264QZI0ZMgQPfroo0pLS9PZs2cVFxen9evXq02bNpKk1NRUlZaW6q677lJlZaWSkpK0aNEi11ovvfSSFi5cqEGDBikkJESTJk3SfffdJ0lq3759nWsDAAA0hJ/RHHd9Q4WFxabPabH4a0TGQdPnbSq70gaZMo/F4q/w8GA5HKWt8nX7K/HF3L6YWSI3uX1Dc%2BW%2B5pp2TTZ3XbzrbWgAAABegIIFAABgMgoWAACAyShYAAAAJqNgAQAAmIyCBQAAYDIKFgAAgMkoWAAAACajYAEAAJiMggUAAGAyChYAAIDJKFgAAAAmo2ABAACYjIIFAABgMgoWAACAyShYAAAAJqNgAQAAmIyCBQAAYDIKFgAAgMkoWAAAACajYAEAAJiMggUAAGAyChYAAIDJKFgAAAAmo2ABAACYjIIFAABgMgoWAACAyShYAAAAJqNgAQAAmIyCBQAAYDIKFgAAgMlatGDl5eVp1qxZio%2BPV0JCgh577DEVFRVJko4cOaLJkydrwIABGjlypDZs2OB27nvvvacxY8aoX79%2BGjdunD744APXWHV1tVasWKHhw4dr4MCBmjp1qr744gvXuNPpVFpamhISEjR48GAtWLBA5eXlrvH61gYAAKhLixashx56SFarVXv37tXbb7%2Btf/3rX/rtb3%2Br8vJyzZgxQzfffLMOHjyoFStWaN26ddqzZ4%2BkywVo3rx5mjt3rj766CNNmTJFjzzyiM6cOSNJeuONN7Rjxw6tX79e%2B/btU5cuXTRr1iwZhiFJWrhwocrKyrRz505t3bpVubm5ysjIkKR61wYAAKhPixWsoqIixcbGas6cOQoODta1116re%2B65R3//%2B9%2B1f/9%2BXbp0SQ8//LDatm2rmJgYjR8/XpmZmZKkrKwsJSYmKjExUUFBQRo7dqx69uyp7du3S5IyMzM1ZcoUdevWTSEhIUpPT1dubq4%2B/fRTff3118rOzlZ6eroiIiLUsWNHzZw5U1u3btWlS5fqXRsAAKA%2BlpZa2Gq1asmSJW7H8vPzFRkZKbvdrl69eikgIMA1Fh0draysLEmS3W5XYmKi27nR0dGy2WwqLy/X8ePHFR0d7RoLCQnR9ddfL5vNpuLiYgUEBKhXr16u8ZiYGF24cEEnTpyod%2B2GKCgoUGFhodsxi6WtIiMjGzxHQwQEeNctdBaLOfutye1t%2BRvLF3P7YmaJ3OT2Da09d4sVrG%2Bz2Wx6/fXXtWbNGu3atUtWq9VtPCwsTE6nU9XV1XI6nQoNDXUbDw0N1fHjx3X%2B/HkZhuFx3OFwKCwsTCEhIfLz83MbkySHwyGn01nn2v7%2B9f%2BPkJmZqVWrVrkdmzVrllJTU%2Bt/Ilqx8PBgU%2BezWq82dT5v4Yu5fTGzRG5fQ%2B7W5QdRsP7xj3/o4Ycf1pw5c5SQkKBdu3Z5fNw3S1HN/VRXUtd4fefWt3Z9Jk6cqGHDhrkds1jayuEo/c7r1sXbWr9Z%2BQMC/GW1Xq2iojJVVVWbMqc38MXcvphZIje5fUNz5Tb7h/uGavGCtXfvXv3yl7/UwoULdffdd0uSIiIidOrUKbfHOZ1OhYWFyd/fX%2BHh4XI6nbXGIyIiXI/xNN6%2BfXtFRESopKREVVVVrpcBax5bM17X2g0RGRlZ6%2BXAwsJiVVb6zheOJ2bnr6qq9snn1Bdz%2B2Jmidy%2BhtytS4teAvnnP/%2BpefPm6cUXX3SVK0mKjY3VsWPHVFlZ6Tpms9nUp08f13hOTo7bXDXjQUFB6tGjh%2Bx2u2usqKhIp0%2BfVu/evRUVFSXDMHT06FG3c61Wq7p27Vrv2gAAAPVpsYJVWVmpJ554QnPnztXgwYPdxhITExUSEqI1a9aorKxMn376qbZs2aKUlBRJ0oQJE/Thhx9q//79qqio0JYtW3Tq1CmNHTtWkpSSkqLNmzcrNzdXJSUlysjIUFRUlOLi4hQREaFRo0bphRde0Llz53TmzBmtXr1aycnJslgs9a4NAABQHz/j%2B9yQZIK///3v%2Bu///m8FBgbWGvvjH/%2Bo0tJSPfnkk8rJyVGHDh304IMP6r777nM9Zs%2BePVq%2BfLny8vLUvXt3LViwQAMHDpR0%2BR6rlStX6s0331Rpaani4%2BP11FNP6dprr5UkFRcX68knn9S%2Bfft01VVX6c4779Rjjz3m2svnn39e59rfR2FhcaPO98Ri8deIjIOmz9tUdqUNMmUei8Vf4eHBcjhKW%2BVl5Svxxdy%2BmFkiN7l9Q3Plvuaadk02d11arGD5GgoWBauxfDG3L2aWyE1u39DaC5Z3vQ0NAADAC1CwAAAATEbBAgAAMBkFCwAAwGQULAAAAJNRsAAAAExGwQIAADAZBQsAAMBkFCwAAACTUbAAAABMRsECAAAwGQULAADAZBQsAAAAk1GwAAAATEbBAgAAMBkFCwAAwGQULAAAAJNRsAAAAExGwQIAADAZBQsAAMBkFCwAAACTUbAAAABMRsECAAAwGQULAADAZBQsAAAAk1GwAAAATEbBAgAAMBkFCwAAwGQULAAAAJNRsAAAAExGwQIAADAZBcuDvLw8TZ8%2BXfHx8UpKStKyZctUXV3d0tsCAABewtLSG/ghmj17tmJiYpSdna2zZ89qxowZ6tChg37%2B85%2B39NYAAIAX4ArWt9hsNh09elRz585Vu3bt1KVLF02ZMkWZmZktvTUAAOAluIL1LXa7XZ06dVJoaKjrWExMjE6ePKmSkhKFhITUO0dBQYEKCwvdjlksbRUZGWnqXgMCvKsfWyzm7Lcmt7flbyxfzO2LmSVyk9s3tPbcFKxvcTqdslqtbsdqypbD4WhQwcrMzNSqVavcjj3yyCOaPXu2eRvV5SL3wLX/0sSJE00vbz9kBQUF2rTpFXL7AF/MLJGb3L6htedunbWxkQzDaNT5EydO1Ntvv%2B3238SJE03a3X8UFhZq1apVta6WtXbk9p3cvphZIje5fUNrz80VrG%2BJiIiQ0%2Bl0O%2BZ0OuXn56eIiIgGzREZGdkq2zgAAGgYrmB9S2xsrPLz83Xu3DnXMZvNpu7duys4OLgFdwYAALwFBetboqOjFRcXp%2BXLl6ukpES5ubnauHGjUlJSWnprAADASwQsWrRoUUtv4ofm1ltv1c6dO/X000/r3XffVXJysqZOnSo/P7%2BW3lotwcHBuummm3zu6hq5fSe3L2aWyE1u39Cac/sZjb2jGwAAAG54iRAAAMBkFCwAAACTUbAAAABMRsECAAAwGQULAADAZBQsAAAAk1GwAAAATEbBAgAAMBkFCwAAwGQULC%2BUl5en6dOnKz4%2BXklJSVq2bJmqq6tbelse9erVS7GxsYqLi3P99/TTT0uSDh06pOTkZPXv31%2BjR4/W9u3b3c7dvHmzRo0apf79%2ByslJUU5OTmusYqKCv3617/WkCFDFB8fr9TUVDkcDtd4fc9RfWt/HwcPHlRCQoLS09Nrjb333nsaM2aM%2BvXrp3HjxumDDz5wjVVXV2vFihUaPny4Bg4cqKlTp%2BqLL75wjTudTqWlpSkhIUGDBw/WggULVF5e7ho/cuSIJk%2BerAEDBmjkyJHasGGDaWt/38xvv/22brjhBre/97i4OH322Wden1m6/P/XrFmzFB8fr4SEBD322GMqKipq8r015fPSmNxffvmlevXqVevv%2B3//939bRe6jR4/qgQce0IABA5SQkKC0tDQVFhZK%2BmF/H6tr7e%2Bb%2BS9/%2BYvHv%2Btdu3Z5fWbTGfA699xzj/HEE08YRUVFxsmTJ42RI0caGzZsaOltedSzZ0/jiy%2B%2BqHX8q6%2B%2BMvr27WtkZWUZ5eXlxp///Gejd%2B/exmeffWYYhmG8//77xo033mh88sknRllZmbFu3Tpj0KBBRmlpqWEYhrFkyRJj3Lhxxr///W/D4XAYjzzyiDFjxgzX/HU9R/Wt/X2sX7/eGDlypDFp0iQjLS3Nbezw4cNGbGyssX//fqO8vNzYtm2b0adPHyM/P98wDMPYvHmzkZSUZBw/ftwoLi42nnrqKWPMmDFGdXW1YRiG8cgjjxjTp083zp49a5w5c8aYOHGi8fTTTxuGYRhlZWXGrbfeaqxcudIoLS01cnJyjJtuusnYvXu3KWt/38xbt241Jk%2BefMVzvTVzjTvvvNN47LHHjJKSEiM/P98YN26cMX/%2B/CbfW1M%2BL43J/cUXXxg9e/a84nnenLuiosK45ZZbjFWrVhkVFRXG2bNnjcmTJxszZ878QX8fq2/t75v5o48%2BMpKSkq54rrdmbgoULC/z2WefGVFRUYbT6XQd%2B93vfmeMGjWqBXd1ZVcqWK%2B88opx9913ux1LS0szFi5caBiGYUyfPt149tlnXWNVVVXGoEGDjJ07dxqXLl0yBgwYYGRnZ7vGjx8/bvTq1cs4c%2BZMvc9RfWt/H5s2bTKKioqMefPm1SobixcvNmbNmuV2bPz48ca6desMwzCM0aNHG5s2bXKNFRcXG9HR0cbHH39sFBYWGjfccINx5MgR1/iBAweMvn37GhcvXjR27dpl3HzzzUZlZaVrfNmyZcYvfvGLRq/dmMz1FSxvzWwYhnH%2B/HnjscceMwoLC13HXnvtNWPkyJFNuremfl4ak7u%2BguXNuZ1Op/HWW28Zly5dch3btGmTMWLEiB/097G61m5M5voKlrdmbgq8ROhl7Ha7OnXqpNDQUNexmJgYnTx5UiUlJS24sytbvny5hg4dqhtvvFELFy5UaWmp7Ha7oqOj3R4XHR3tupz77XF/f39FRUXJZrPp9OnTKi4uVkxMjGu8W7duatOmjex2e73PUX1rfx/333%2B/2rVr53HsSuvZbDaVl5fr%2BPHjbuMhISG6/vrrZbPZdOTIEQUEBKhXr15uWS5cuKATJ07IbrerV69eCggI8JilMWs3JrMk5efn6%2Bc//7kGDhyo4cOHa9u2bZLk1ZklyWq1asmSJerQoYNb1sjIyCbdW1M%2BL43NXeNXv/qVBg8erJtvvlnLly/XpUuXvD53aGioxo8fL4vFIkk6ceKE/vCHP%2BinP/3pD/r7WF1rNyazJJWWlrpeKr711lu1ceNGGYbh1ZmbAgXLyzidTlmtVrdjNf8zfvN17B%2BKvn37KiEhQXv27FFmZqY%2B%2BeQTLV682GOOsLAwVwan0%2Bn2RSZdzulwOOR0OiWp1vlWq9U1XtdzVN/aZqsry/nz52UYRp1ZQ0JC5Ofn952yOJ1OVVdXN2rtxoiIiFCXLl30y1/%2BUn/%2B85/16KOPav78%2BTp06FCry2yz2fT666/r4YcfbtK9NeXz0tjcgYGB6tevn0aMGKF9%2B/Zp/fr12r59u/7nf/5H0g/3a%2BC7yMvLU2xsrO644w7FxcUpNTX1B/19zIzcnjKHhISoZ8%2BeeuCBB3Tw4EEtWbJEq1at0tatW1tFZjNRsLxQzU8K3iAzM1Pjx49XYGCgunXrprlz52rnzp2un2zrUl/OusZ/aM9Rc2f55j9GjVn7%2Bxo6dKheeeUVRUdHKzAwUKNHj9aIESP09ttvN2hdb8n8j3/8Q1OnTtWcOXOUkJDQ5Htr6uelob6dOzIyUm%2B%2B%2BaZGjBihq666Sr1799aMGTMa/Pdd3/gPIXenTp1ks9n0xz/%2BUadOndKvfvWrBp3Xkt/HGnu%2Bp8wxMTF67bXXdNNNNykwMFCDBw/WpEmTWvTv2szzzUTB8jIRERGunwJqOJ1O%2Bfn5KSIiooV21XD/9V//paqqKvn7%2B9fK4XA4XBnCw8M95oyIiHA95tvj58%2BfV/v27et9jjzN/c21zVZXlrCwMI/PhdPpdGUpKSlRVVWV25gk1/i3fzpzOp2ueRuzttk6deqkgoKCVpN57969mj59uubPn6/7779fkpp0b035vDQ2tyedOnXS119/LcMwWkVu6XJp69Kli9LT07Vz505ZLJYf7Pcxs3J/O/O5c%2BdqPabma7u1ZDYLBcvLxMbGKj8/3%2B1/cpvNpu7duys4OLgFd1bb4cOHtXTpUrdjubm5CgwMVGJiYq17nnJyctSnTx9Jl3Pa7XbXWFVVlQ4fPqw%2Bffqoc%2BfOCg0NdRv//PPPdfHiRcXGxtb7HMXFxdW5ttliY2NrrWez2dSnTx8FBQWpR48eblmKiop0%2BvRp9e7dW1FRUTIMQ0ePHnU712q1qmvXroqNjdWxY8dUWVlZa%2B7Grt0Yv//97/Xee%2B%2B5HcvNzVXnzp1bReZ//vOfmjdvnl588UXdfffdruNNubemfF4am/vQoUNas2aN22NPnDihTp06yc/Pz6tzHzp0SKNGjXL7qAB//8v/dPbu3fsH%2B32srrUbk/nAgQP63e9%2B5/b4EydOqHPnzl6duUk02e3zaDLjx4835s%2BfbxQXFxvHjx83hg0bZrz%2B%2Bustva1azpw5Y/Tt29dYt26dUVFRYZw4ccK44447jKefftr4%2BuuvjX79%2BhlvvfWWUV5ebuzfv9/o3bu3651CBw4cMAYMGGB8/PHHxoULF4yVK1caiYmJRllZmWEYl98ldM899xj//ve/jXPnzhkzZswwZs%2Be7Vq7rueovrUbw9M76o4dO2bExcUZ%2B/btM8rLy42srCyjX79%2BRkFBgWEYl98lM3ToUNdb1BcuXGjce%2B%2B9rvPT0tKMadOmGWfPnjXy8/ONe%2B%2B911i6dKlhGJffTp2UlGS89NJLxoULF4xPPvnEuPHGG419%2B/aZsvb3zfzqq68aN998s/HZZ58ZFy9eNHbs2GFERUUZNpvN6zNfunTJ%2BOlPf2q8%2Beabtcaaem9N%2Bbw0JrfNZjNiYmKMd955x7h48aLx2WefGYMGDXK9vd6bcxcVFRkJCQnG0qVLjQsXLhhnz541pk6datx3330/6O9j9a39fTP/3//9n9G7d2/j4MGDxsWLF40PPvjA6Nu3r%2BtjMbw1c1OgYHmh/Px8Y9q0aUbv3r2NhIQE46WXXvpOn%2BHTnP76178aEydONPr27WvcdNNNxpIlS4zy8nLX2NixY42YmBhj5MiRri/QGm%2B88YaRmJhoxMbGGikpKcaxY8dcYxUVFcaiRYuMgQMHGv369TMeffRRo6ioyDVe33NU39rfVWxsrBEbG2vccMMNxg033OD6c43du3cbI0eONGJiYoy77rrL%2BOtf/%2Boaq66uNl588UXjlltuMXr37m08%2BOCDbp/RU1RUZKSnpxt9%2B/Y1Bg4caCxevNioqKhwjR87dsyYNGmSERsbawwdOtR444033PbWmLW/b%2Bbq6mpj9erVRlJSkhEbG2vcfvvtxt69e70%2Bs2EYxt/%2B9jejZ8%2Berrzf/O/LL79s0r015fPS2Nx79uwxxo4da/Tu3dsYNGiQsXbtWqOqqsrrcxuGYRw9etSYPHmy0bt3b%2BPmm2820tLSjDNnzhiG8cP%2BPlbX2o3J/OabbxojR4404uLijKSkJOOtt95qFZnN5mcYP6A7wgAAAFoB7sECAAAwGQULAADAZBQsAAAAk1GwAAAATEbBAgAAMBkFCwAAwGQULAAAgP/fBWUMggAAAC5JREFUbh0LAAAAAAzyt57EzqJoJlgAADPBAgCYCRYAwEywAABmggUAMBMsAIBZwrCmr8xuV4YAAAAASUVORK5CYII%3D\"/>\n",
              "        </div>\n",
              "        <div role=\"tabpanel\" class=\"tab-pane col-md-12\" id=\"common7340254881600100764\">\n",
              "            \n",
              "<table class=\"freq table table-hover\">\n",
              "    <thead>\n",
              "    <tr>\n",
              "        <td class=\"fillremaining\">Value</td>\n",
              "        <td class=\"number\">Count</td>\n",
              "        <td class=\"number\">Frequency (%)</td>\n",
              "        <td style=\"min-width:200px\">&nbsp;</td>\n",
              "    </tr>\n",
              "    </thead>\n",
              "    <tr class=\"\">\n",
              "        <td class=\"fillremaining\">368</td>\n",
              "        <td class=\"number\">1624</td>\n",
              "        <td class=\"number\">0.1%</td>\n",
              "        <td>\n",
              "            <div class=\"bar\" style=\"width:1%\">&nbsp;</div>\n",
              "        </td>\n",
              "</tr><tr class=\"\">\n",
              "        <td class=\"fillremaining\">408</td>\n",
              "        <td class=\"number\">1584</td>\n",
              "        <td class=\"number\">0.1%</td>\n",
              "        <td>\n",
              "            <div class=\"bar\" style=\"width:1%\">&nbsp;</div>\n",
              "        </td>\n",
              "</tr><tr class=\"\">\n",
              "        <td class=\"fillremaining\">348</td>\n",
              "        <td class=\"number\">1582</td>\n",
              "        <td class=\"number\">0.1%</td>\n",
              "        <td>\n",
              "            <div class=\"bar\" style=\"width:1%\">&nbsp;</div>\n",
              "        </td>\n",
              "</tr><tr class=\"\">\n",
              "        <td class=\"fillremaining\">367</td>\n",
              "        <td class=\"number\">1581</td>\n",
              "        <td class=\"number\">0.1%</td>\n",
              "        <td>\n",
              "            <div class=\"bar\" style=\"width:1%\">&nbsp;</div>\n",
              "        </td>\n",
              "</tr><tr class=\"\">\n",
              "        <td class=\"fillremaining\">358</td>\n",
              "        <td class=\"number\">1577</td>\n",
              "        <td class=\"number\">0.1%</td>\n",
              "        <td>\n",
              "            <div class=\"bar\" style=\"width:1%\">&nbsp;</div>\n",
              "        </td>\n",
              "</tr><tr class=\"\">\n",
              "        <td class=\"fillremaining\">399</td>\n",
              "        <td class=\"number\">1573</td>\n",
              "        <td class=\"number\">0.1%</td>\n",
              "        <td>\n",
              "            <div class=\"bar\" style=\"width:1%\">&nbsp;</div>\n",
              "        </td>\n",
              "</tr><tr class=\"\">\n",
              "        <td class=\"fillremaining\">418</td>\n",
              "        <td class=\"number\">1570</td>\n",
              "        <td class=\"number\">0.1%</td>\n",
              "        <td>\n",
              "            <div class=\"bar\" style=\"width:1%\">&nbsp;</div>\n",
              "        </td>\n",
              "</tr><tr class=\"\">\n",
              "        <td class=\"fillremaining\">417</td>\n",
              "        <td class=\"number\">1568</td>\n",
              "        <td class=\"number\">0.1%</td>\n",
              "        <td>\n",
              "            <div class=\"bar\" style=\"width:1%\">&nbsp;</div>\n",
              "        </td>\n",
              "</tr><tr class=\"\">\n",
              "        <td class=\"fillremaining\">388</td>\n",
              "        <td class=\"number\">1567</td>\n",
              "        <td class=\"number\">0.1%</td>\n",
              "        <td>\n",
              "            <div class=\"bar\" style=\"width:1%\">&nbsp;</div>\n",
              "        </td>\n",
              "</tr><tr class=\"\">\n",
              "        <td class=\"fillremaining\">344</td>\n",
              "        <td class=\"number\">1561</td>\n",
              "        <td class=\"number\">0.1%</td>\n",
              "        <td>\n",
              "            <div class=\"bar\" style=\"width:1%\">&nbsp;</div>\n",
              "        </td>\n",
              "</tr><tr class=\"other\">\n",
              "        <td class=\"fillremaining\">Other values (7407)</td>\n",
              "        <td class=\"number\">1442857</td>\n",
              "        <td class=\"number\">98.9%</td>\n",
              "        <td>\n",
              "            <div class=\"bar\" style=\"width:100%\">&nbsp;</div>\n",
              "        </td>\n",
              "</tr>\n",
              "</table>\n",
              "        </div>\n",
              "        <div role=\"tabpanel\" class=\"tab-pane col-md-12\"  id=\"extreme7340254881600100764\">\n",
              "            <p class=\"h4\">Minimum 5 values</p>\n",
              "            \n",
              "<table class=\"freq table table-hover\">\n",
              "    <thead>\n",
              "    <tr>\n",
              "        <td class=\"fillremaining\">Value</td>\n",
              "        <td class=\"number\">Count</td>\n",
              "        <td class=\"number\">Frequency (%)</td>\n",
              "        <td style=\"min-width:200px\">&nbsp;</td>\n",
              "    </tr>\n",
              "    </thead>\n",
              "    <tr class=\"\">\n",
              "        <td class=\"fillremaining\">1</td>\n",
              "        <td class=\"number\">33</td>\n",
              "        <td class=\"number\">0.0%</td>\n",
              "        <td>\n",
              "            <div class=\"bar\" style=\"width:11%\">&nbsp;</div>\n",
              "        </td>\n",
              "</tr><tr class=\"\">\n",
              "        <td class=\"fillremaining\">2</td>\n",
              "        <td class=\"number\">177</td>\n",
              "        <td class=\"number\">0.0%</td>\n",
              "        <td>\n",
              "            <div class=\"bar\" style=\"width:56%\">&nbsp;</div>\n",
              "        </td>\n",
              "</tr><tr class=\"\">\n",
              "        <td class=\"fillremaining\">3</td>\n",
              "        <td class=\"number\">318</td>\n",
              "        <td class=\"number\">0.0%</td>\n",
              "        <td>\n",
              "            <div class=\"bar\" style=\"width:100%\">&nbsp;</div>\n",
              "        </td>\n",
              "</tr><tr class=\"\">\n",
              "        <td class=\"fillremaining\">4</td>\n",
              "        <td class=\"number\">317</td>\n",
              "        <td class=\"number\">0.0%</td>\n",
              "        <td>\n",
              "            <div class=\"bar\" style=\"width:99%\">&nbsp;</div>\n",
              "        </td>\n",
              "</tr><tr class=\"\">\n",
              "        <td class=\"fillremaining\">5</td>\n",
              "        <td class=\"number\">284</td>\n",
              "        <td class=\"number\">0.0%</td>\n",
              "        <td>\n",
              "            <div class=\"bar\" style=\"width:89%\">&nbsp;</div>\n",
              "        </td>\n",
              "</tr>\n",
              "</table>\n",
              "            <p class=\"h4\">Maximum 5 values</p>\n",
              "            \n",
              "<table class=\"freq table table-hover\">\n",
              "    <thead>\n",
              "    <tr>\n",
              "        <td class=\"fillremaining\">Value</td>\n",
              "        <td class=\"number\">Count</td>\n",
              "        <td class=\"number\">Frequency (%)</td>\n",
              "        <td style=\"min-width:200px\">&nbsp;</td>\n",
              "    </tr>\n",
              "    </thead>\n",
              "    <tr class=\"\">\n",
              "        <td class=\"fillremaining\">86392</td>\n",
              "        <td class=\"number\">1</td>\n",
              "        <td class=\"number\">0.0%</td>\n",
              "        <td>\n",
              "            <div class=\"bar\" style=\"width:100%\">&nbsp;</div>\n",
              "        </td>\n",
              "</tr><tr class=\"\">\n",
              "        <td class=\"fillremaining\">1939736</td>\n",
              "        <td class=\"number\">1</td>\n",
              "        <td class=\"number\">0.0%</td>\n",
              "        <td>\n",
              "            <div class=\"bar\" style=\"width:100%\">&nbsp;</div>\n",
              "        </td>\n",
              "</tr><tr class=\"\">\n",
              "        <td class=\"fillremaining\">2049578</td>\n",
              "        <td class=\"number\">1</td>\n",
              "        <td class=\"number\">0.0%</td>\n",
              "        <td>\n",
              "            <div class=\"bar\" style=\"width:100%\">&nbsp;</div>\n",
              "        </td>\n",
              "</tr><tr class=\"\">\n",
              "        <td class=\"fillremaining\">2227612</td>\n",
              "        <td class=\"number\">1</td>\n",
              "        <td class=\"number\">0.0%</td>\n",
              "        <td>\n",
              "            <div class=\"bar\" style=\"width:100%\">&nbsp;</div>\n",
              "        </td>\n",
              "</tr><tr class=\"\">\n",
              "        <td class=\"fillremaining\">3526282</td>\n",
              "        <td class=\"number\">1</td>\n",
              "        <td class=\"number\">0.0%</td>\n",
              "        <td>\n",
              "            <div class=\"bar\" style=\"width:100%\">&nbsp;</div>\n",
              "        </td>\n",
              "</tr>\n",
              "</table>\n",
              "        </div>\n",
              "    </div>\n",
              "</div>\n",
              "</div>\n",
              "    <div class=\"row headerrow highlight\">\n",
              "        <h1>Correlations</h1>\n",
              "    </div>\n",
              "    <div class=\"row variablerow\">\n",
              "    <img src=\"data:image/png;base64,iVBORw0KGgoAAAANSUhEUgAAAtgAAAJRCAYAAAB/bMAVAAAABHNCSVQICAgIfAhkiAAAAAlwSFlzAAAPYQAAD2EBqD%2BnaQAAADh0RVh0U29mdHdhcmUAbWF0cGxvdGxpYiB2ZXJzaW9uMy4xLjEsIGh0dHA6Ly9tYXRwbG90bGliLm9yZy8QZhcZAAAgAElEQVR4nOzde3zO9f/H8cc2Y1im2eY4kWzOzPhOzoYmh5Scv2SlCJumFCU5hOTQ5FiI%2BKm%2BkyRJXxlflZISMUMYOQzbsGHY%2Bfr9sXZduzJsrmvXtdrzfrvttu39Obzen/dOr%2Bu19%2Bf9cTAYDAZERERERMQqHO3dARERERGRfxIl2CIiIiIiVqQEW0RERETEipRgi4iIiIhYkRJsERERERErUoItIiIiImJFSrBFRERERKxICbaIiIiIiBUpwRYRERERsSIl2CIiIiIiVlTC3h0QESnqfH19b7vN2dmZ8uXL06BBAx5//HGCgoJwcHCwYe9ERKSocTAYDAZ7d0JEpCjLSbAbNWqEp6en2bbU1FROnDjBuXPnAOjQoQPz58%2BnZMmSNu%2BniIgUDUqwRUTuIifBXrRoEZ06dcpzn8jISF5%2B%2BWVu3LjBM888w7hx42zZRRERKUI0B1tExAo6derESy%2B9BMAnn3xCamqqnXskIiL2ojnYIiJW8sgjj/Dmm29y8%2BZNDh06hJ%2Bfn9n2Xbt28dFHH/Hbb7%2BRlJSEq6srderU4cknn6RHjx55njMpKYmVK1fy7bffcurUKdLS0nBzc6NRo0Y8/fTTBAQE3HJMYGAgsbGxLFu2jNTUVMLDwzlz5gwffvgh/v7%2BABw9epQVK1awZ88e4uLiKFGiBF5eXvzrX/9i0KBBec47v3btGqtWrWLbtm2cOnWK9PR0PDw8aNq0KcHBwTRs2NBs/7Nnz9KxY0cADhw4QExMDEuWLGHfvn0kJSXh5eVFx44dGTNmDGXKlLmnMRcRKYpUwRYRsZLy5csbP7569arZtvDwcIKDg9m6dSuurq4EBATg7u7Orl27GDt2LGFhYWRmZpodk5CQQK9evXjvvfc4ceIE9erVo0WLFpQsWZL//e9/DBkyhM8%2B%2B%2By2/Tlx4gRjxozB2dmZFi1a4OLiAsDPP//Mk08%2Byeeff05qair%2B/v74%2BfmRnJzM2rVr6du3L7t27TI7V2xsLE888QQLFizg%2BPHj1KlThxYtWmAwGNi0aRN9%2B/Zl3bp1t%2B3L3r17GThwINHR0dSpU4eaNWsSGxvL6tWrCQ0NzfcYi4j8LRhEROSOfHx8DD4%2BPoatW7fecb%2BYmBjjvgcOHDC2f/PNNwYfHx9D8%2BbNDbt37zY75ueffza0bNnS4OPjY1i5cqXZtmnTphl8fHwMQUFBhosXLxrbMzIyDNOnTzf4%2BPgY/P39DcnJyWbHdejQweDj42MIDAw0LFmy5JZ%2B9unTx%2BDj42OYOXOmITMz0%2By84eHhBh8fH0P37t3Njhk4cKDBx8fH0KtXL0NcXJyxPTMz07BgwQKDj4%2BPoUGDBoYTJ04Yt505c8Y4Hu3btzcsXbrUkJWVZdz%2B%2BeefG7cfPnz4TkMrIvK3ogq2iIiVfPPNNwC4ublRt25dY/uSJUsAGDduHP/617/MjmnevDmvvPIKAKtWrTLb5uXlRbdu3QgJCaFChQrGdicnJ8aMGYOjoyPXrl3jt99%2By7M/WVlZDBs27Jb2w4cPA9CrVy8cHU1/BpycnBg9ejSjR49m8ODBpKWlAbB//3727NkDwKxZs/Dy8jIe4%2BjoSEhICPXr1yctLY3//Oc/efaldu3aPPfcc2ZLGPbs2RN3d3djDBGRfwrNwRYRsYJvv/2W999/H4Bnn32WEiWyf73GxcURHR0NQOfOnfM8tlOnTjg4OHDu3DlOnjxJzZo1AXjuueduG6906dJUqFCBhIQEEhIS8tynRYsWZgl0jnLlynHx4kU2b97MCy%2B8YLbN0dGRUaNGmbV9//33QPZqKrVq1brtNURHR98ytSRHXnPMHRwc8Pb25vLlyyQmJuZ5nIjI35ESbBGRfHr//fdZv369WVtaWhp//PEHZ86cAbKrws8%2B%2B6xx%2B9GjR40fjx8//rbnLlGiBOnp6fzxxx/GBDvn/N9%2B%2By0HDx4kPj6eq1evYvhzddVr164B2ZXqvFSsWDHP9iFDhjB37lwWL17M999/T/fu3Xn44Ydv%2B0Cd48ePA9lV6Nt58MEHgex533mpXr16nu2lSpUCID09/bbnFhH5u1GCLSKSTwcOHLilzcnJifvvv5%2BOHTvSr18/2rVrZ7b9ypUrxo%2B3bdt21xg5STPAkSNHGDVqFGfPnr2n/rq5ueXZnjNt5P333ycqKoqoqCgAPD096dKlC0OGDMHb2/uWPpUrV%2B62se677z4gO1FOSUkx3lCZQw/eEZHiRAm2iEg%2B3elBM7eTM%2BfY2dmZqKiofD9GPSUlhREjRnDu3Dlq1KjByJEjefjhh7n//vtxdnYGTMvx3S12XoYNG0b//v2JjIzk22%2B/5ccffyQhIYH/%2B7//IyIiglmzZvHoo4/m%2BzoNuZ5Zlte0FBGR4kQJtohIIcpZui89PZ3ExETjTX13891333Hu3DkcHBxYunQpDzzwwC37pKSkWNS3cuXK0atXL3r16kVmZiY//vgjixYtYt%2B%2BfUyYMIEWLVpw//33Gyvhf116MLecbS4uLqpWi0ixpzKDiEgh8vHxMX587NixfB/3xx9/ANlzl/NKrk%2BfPs2lS5cs7l8OJycn2rRpw%2BrVq6lYsSLXr183TonJmXudez75X%2BVsu9M8bRGR4kIJtohIIfL09KR%2B/foArF27Ns99Tp48Sc%2BePY3L%2BYFpTvPtHrm%2BaNEi48d/fUDNnezfv5/XXnuNFStW5Lm9ZMmSeHh4AKYKec688qNHj%2BaZZGdlZRmXKGzTpk2%2B%2ByIi8k%2BlBFtEpJA9//zzAGzatIkPP/zQbL7yqVOnGD16NEeOHOH8%2BfPG9jp16gBw4cIFIiMjje03b95k2rRpREVFGR/FfruVO/Li5OTEZ599xvz589mxY8ct27du3crhw4dxdnamadOmANSrV4/WrVsD8Nprr3H58mXj/hkZGcyePZuYmBjuu%2B8%2B%2Bvfvn%2B%2B%2BiIj8U2kOtohIIXvkkUcYNmwYS5cu5a233mL16tU8%2BOCDJCYmcvjwYTIzM6lXrx5jx441HuPn50fr1q3ZuXMnoaGhNG7cmFKlSnHw4EFKlCjBypUr%2Beqrr9i3bx%2BrV6/m999/Z8SIETRv3vyOfWnQoAHPPPMMK1asYPjw4VStWpUHHngAR0dHzp49a5yaMmHCBDw9PY3HzZgxgyFDhhAVFUVgYCA%2BPj6UKlWKY8eOkZiYiIuLC3Pnzr3t0oAiIsWJEmwRERt46aWXaNmyJWvWrOG3335j165dlCpVigYNGtC1a1cGDhx4y82B8%2BbNY86cOWzbto2DBw/i5eVFUFAQzz//PNWrV6dSpUocOnSIvXv3cuzYsXyvUDJu3DiaN2/Ohg0bOHjwIPv27SMjIwNPT0%2B6d%2B/OoEGDjNXxHBUrVmTdunV8%2BOGHbN26lWPHjpGRkUHFihV55JFHGDp0aJ5zxUVEiiMHQ%2B7/VYqIiIiIiEU0B1tERERExIqUYIuIiIiIWJES7EIQGxtLw4YNOXnyZIGPnTNnDoMHDy6EXomIiIiILSjBLgRVq1YlKiqKmjVr2rsrIiIiIv8I33//PS1btmTMmDF33C8rK4vw8HA6duxI8%2BbNGTp0KGfOnDFuT0pKIiwsjJYtW9K6dWsmTJhg8ZNx/0oJtoiIiIgUacuWLWPatGn5Wq3oo48%2B4ssvv2Tp0qX873//o0aNGowaNcr4DIKJEydy8%2BZNNm3axGeffUZMTAxz5syxan%2BVYBeCs2fP4uvrS0xMDIGBgXz66acMGzYMPz8/OnXqxM6dO437bt%2B%2BnaCgIPz8/AgLC7vlFdTmzZvp2bMnTZo0oWPHjkRERABw8eJF/vWvf5k9KOLFF19kxIgRNrlGEREREVspVaoU69aty1eCHRERQXBwMLVq1cLV1ZUxY8YQExPD/v37uXjxIpGRkYwZMwZ3d3cqVqzIyJEj%2Beyzz0hPT7daf7UOtg188MEHzJo1izp16jB58mRmzJjB5s2buXr1KmPGjGHs2LH069ePXbt28dJLL1G3bl0AoqKimDBhAgsWLODhhx9m3759PPfcc9SuXZumTZvy8ssv89Zbb9GyZUsOHDjAd999x1dffZXvfsXHx5OQkGDW5unpiZeXl1WvX0RERMSSvOOpp57KV4yUlBSOHz9OvXr1jG2urq488MADREVFce3aNZycnPD19TVur1%2B/Pjdu3ODEiRNm7ZZQgm0DHTp0oFGjRgAEBQWxYcMGsrKy2LlzJ2XKlOHf//43jo6OtGvXjmbNmnH9%2BnUA1q9fT/v27Y2PKG7WrBmPPvooX3zxBU2bNqV3795s3LiRFStWsGXLFl5%2B%2BeUCPUUtIiKChQsXmrWFjBxJ6AsvWOnKRURE5J4YDJDPh0dZXSHFjZg//9a8IySE0NBQq8W4cuUKBoMBNzc3s3Y3NzcSExMpX748rq6uZg/mytk3MTHRav1Qgm0D1apVM37s4uJCZmYm6enpXLhwgcqVK%2BPoaJqpU6NGDaKjowE4ffo0u3btomHDhsbtBoPBmHA7ODgwbdo0evToQYMGDejbt2%2BB%2BtWvXz8CAwPN2jx79IBVqwp8jRarUwc%2B/hgGDoQjR2wb%2B9dfbRsvh4ND9i/Q4qS4XbOdrteAnf4oY78vsQN2%2Br6y4/e0vb7O%2BhrLvcoz7/D0LJRYd3qOoi2esagE2wZyJ9C5paWlkZmZadaWlZVl/NjFxYUBAwYwceLE2577woULlChRggsXLnDz5k3KlCmT7355eXnd%2Bm%2BZe1ha0KqOHIF9%2B%2BzbBxERkeLsNnmLpfLMO6ysfPnyODo6kpSUZNaelJREhQoVcHd3Jzk5mczMTJycnIzbACpUqGC1fugmRzvy8vIiLi7O7JVUTEyM8ePq1avz%2B%2B%2B/mx1z4cIFY1KelpbGG2%2B8wZQpU6hduzbz5s2zTcdFREREiqBSpUpRu3Zt42wAgKtXr3L69GkaNWpE3bp1MRgMHMn13/KoqCjKlStn1eWVlWDbUcuWLUlOTuY///kPaWlpREZGsn//fuP23r17s3fvXj777DPS0tI4fPgwffr0YcuWLQAsWrQILy8vevTowYQJE1i7dq3Z8SIiIiIF5uhYOG%2BFJC4uji5duhjXuh4wYACrV68mJiaG5ORk5syZQ926dWnYsCHu7u4EBQUxb948Ll%2B%2BzIULF1i0aBG9e/emRAnrTezQFBE7qlSpEnPnzmXOnDm8/fbbtG3bloEDB7LvzykStWrVYu7cucyfP58pU6bg5eXF0KFD6dq1K0ePHmXVqlWsW7cOyK52P/PMM7z%2B%2BuusX78eZ2dne16aiIiIiNXk3I%2BWkZEBQGRkJJBdfU5PT%2BfkyZOkpaUB0L9/fxISEhg8eDDXr18nICDA7ObKqVOnMmnSJDp27IizszPdu3e/68NrCsrBYIuZ3vL3Ya87lv38YO9eaNrU9nOwc817t6nieONMcbtm3eRou7jF8AY43eRoq8B2/L1lr7/JpUoVznlTUwvnvEWQKtgiIiIiYlKI0zmKC42giIiIiIgVqYItIiIiIiaqYFtMCbaIiIiImCjBtphGUERERETEilTBFhERERETVbAtphEUEREREbEiVbBFRERExEQVbIspwRYREREREyXYFtMIioiIiIhYkSrYIiIiImKiCrbFNIIiIiIiIlakCraIiIiImKiCbTEl2CIiIiJiogTbYhpBERERERErUgVbRERERExUwbaYRlBERERExIpUwRYRERERE1WwLaYEW0RERERMlGBbTCMoIiIiImJFqmCLiIiIiIkq2BbTCIqIiIiIWJEq2CIiIiJiogq2xZRgi7msLPvG//VX28e0xy8SPz/Yuxf8/WHfPtvG3rzZtvFylCsHrVrBjz/C1au2jf3II7aNl8PJyS4/Uw52/ePogAMGO8YvPuw3znb6Gmdk2D4mgLOzfWPbgxJsi2kERURERESsSBVsERERETFRBdtiGkEREREREStSBVtERERETFTBtpgSbBERERExUYJtMY2giIiIiIgVqYItIiIiIiaqYFtMIygiIiIiYkWqYIuIiIiIiSrYFlOCLSIiIiImSrAtphEUEREREbEiVbBFRERExEQVbItpBEVERERErEgVbBERERExUQXbYkqwRURERMRECbbFNIIiIiIiIlakCraIiIiImKiCbTGNoIiIiIiIFamCLSIiIiImRbSCHRsby5QpU9i/fz9lypSha9euvPTSSzj%2Bpb/PPPMMv/zyi1lbRkYGo0aNIiQkhMGDB7N3716z42rWrMnGjRut1lcl2CIiIiJiUkQT7NDQUOrXr09kZCSXLl1i%2BPDheHh48PTTT5vtt2LFCrPPr169SteuXencubOx7c0336RXr16F1teiOYIiIiIiIn%2BKioriyJEjjB07lvvuu48aNWoQHBxMRETEXY%2BdN28enTt3xtfX1wY9zaYKtoiIiIiYFFIFOz4%2BnoSEBLM2T09PvLy87npsdHQ0VatWxc3NzdhWv359Tp48SXJyMq6urnked%2BrUKTZs2EBkZKRZ%2B%2BbNm1m%2BfDnnz5%2BncePGTJ06lerVq9/DVeVNFWwRERERMXF0LJS3iIgIevXqZfaWnwo0QFJSEuXKlTNry0m2ExMTb3vc0qVLefLJJ3F3dze21apVi9q1a/Pxxx%2Bzbds23N3defbZZ0lLS7uHwcqbKtgiIiIiUuj69etHYGCgWZunp2e%2BjzcYDAWKl5SUxBdffMHXX39t1j558mSzz6dOnUpAQAC//vorDz/8cIFi3I4SbBERERExKaQpIl5eXvmaDpIXd3d3kpKSzNqSkpJwcHAwq07ntm3bNmrWrIm3t/cdz%2B3q6oqbmxtxcXH31Le8aIqIlbVq1Yr169cXyrlff/11Xnnlldtu79u3LwsWLCiU2CIiIiL20qBBA86fP8/ly5eNbVFRUTz00EOULVs2z2O2bdtGq1atzNqSk5OZPHmyWTJ9%2BfJlLl%2B%2BfNdEvCCUYP%2BNTJs2jVmzZtm7GyIiIvJPVkhzsC1Rr149GjZsyNy5c0lOTiYmJoaVK1cyYMAAALp06cKePXvMjjl8%2BDDVqlUza3N1dWX//v1MmzaNpKQkrly5wpQpU/D19cXPz8%2BiPuamBFtERERETIpggg0wf/584uPjadWqFU899RSPP/44AwcOBODkyZPcuHHDbP%2BEhAQ8PDxuOc%2BiRYswGAwEBQXRvn170tPTWbp06S0PrLFEsZiD3adPH9q1a0dISIixbdq0aZw8eZKpU6fy5ptvsm/fPrKysujQoQNvvPEGrq6u7N69m5EjRxIeHs6MGTO4cOEC/v7%2BvPPOO7i5uZGRkcFbb73Fpk2bKFmyJKNHjzaLm5qayuzZs4mMjCQxMZEGDRrw%2BuuvU7duXQB8fX159dVXWb58OU899RTDhg2743WMHz%2Be1NRUwsPDgexvkE8%2B%2BYT09HSeeuopK4%2BaiIiISNFRqVIlli1blue233///Za2gwcP5rlvlSpVWLhwoVX79lfFIsHu0qULX375pVmCvW3bNkJCQhg5ciRNmzYlPDycGzdu8OKLL/L222/z5ptvAnDz5k2%2B%2BuorIiIiuHnzJr1792bt2rU899xzfPbZZ/z3v//l448/pnLlyrz99ttcuXLFGCM8PJxffvmFNWvW4OHhwdy5cxk%2BfDiRkZGULFkSgMjISDZs2ECFChUKdE07d%2B5k6dKlrFixggYNGrBs2TKOHj1KmzZt8n2OPNej9PC45xsQ/ras%2BC%2BhfKtTx/y9Lf1lmSObyZkjd5u5ciIiUkQU0Sc5/p0UmwR79uzZxMbGUrVqVQ4ePEhCQgK1a9fm2LFjfPLJJ5QuXZrSpUsTGhrK0KFDmTp1KgCZmZk8%2B%2ByzuLm54ebmhr%2B/PydOnABg69at9OjRg1q1agHwwgsvmK3nuG7dOqZOnWqc/xMWFsaaNWvYu3cvLVq0AODRRx/N898Xd7N161batm2Lv78/AMOHD2f16tUFOkdERMQtr%2BBCRo0i9C%2BVeJtycLB9zL17bR8zx8cf2y%2B2vTRpYu8e2JaTk717YHv2%2BDm2p%2BJ2vWCfa3Z2tn1Me8ZOT7d9TLGaYpFgV61alYYNGxIZGcmQIUPYunUrbdq04cyZM2RmZhIQEGC2f2Zmptmi5bknyJcuXZqUlBQA4uLiaN%2B%2BvXGbu7u7cdHzK1eucO3aNR588EHj9rJly1KhQgViY2ONbVWqVLmna4qLi6NmzZrGz52dnW%2BZyH83ea5H6eEBBVxn0mocHOwT%2B88XKTZVp052cj1wIBw5YtvY9lpppmzZ7OT6t9/g%2BnXbxv7zBa3NOTlBZqbt49qz%2BmSvn2N7KW7XC/a75owM28eE7OS6uCW7qmBbrFgk2JBdKc6dYI8YMYJSpUpRpkwZ9u3bd8djbzfpPS0tjYy//MBnZWUZt92OQ65X/k73WN26U%2Bz8ynM9yuL2hwLgLl//QnXkiO3jX71q23h/df26/fsgIiK3pwTbYsVmBIOCgti7dy/79%2B8nNjaWwMBAqlevzo0bNzhz5oxxv%2BTk5Ds%2BcjM3Ly8vLly4YPw8Pj6eq38mDhUqVKBs2bLG6SSQXdW%2BdOmSVZ51/9fYaWlpZtchIiIiIvZRbBLsqlWrUr9%2BfWbNmkW7du0oW7YsPj4%2B%2BPn5MX36dC5fvszVq1eZNGnSHR/mklubNm3YtGkTf/zxB8nJyYSHh1OqVCkgu%2BrdvXt3li5dyoULF7hx4wZz5szB29vbKusstm3blp07d3LgwAFSUlJYuHBhgSvYIiIiIrcoosv0/Z0Uq6vNWYS8W7duxra5c%2BdiMBjo2LEjnTt3JjMzk5kzZ%2BbrfMHBwXTo0IG%2BffvSpUsX/Pz8qFSpknH7%2BPHjqVu3Ln369KFDhw4kJCSwcuXKe54Wktujjz7KU089xfPPP0%2B7du0oWbIkTYrbzWMiIiIiRZCDwVAcJ93Kbdnz28FeN87Y41W1n1/26iVNm9p%2BDvbmzbaNl6NcOWjVCn74wfZzsB95xLbxcugmx3%2B%2B4na9oJscbR3bHp54onDO%2B/nnhXPeIqjY3OQoIiIiIvlQzKZzFAYl2EXEBx98wLx58267vWfPnkybNs2GPRIRERGRe6EEu4gYOnQoQ4cOtXc3REREpLhTBdtiGkEREREREStSBVtERERETFTBtpgSbBERERExUYJtMY2giIiIiIgVqYItIiIiIiaqYFtMIygiIiIiYkWqYIuIiIiIiSrYFlOCLSIiIiImSrAtphEUEREREbEiVbBFRERExEQVbItpBEVERERErEgVbBERERExUQXbYkqwRURERMRECbbFNIIiIiIiIlakCraIiIiImKiCbTGNoIiIiIiIFamCLSIiIiImqmBbTAm2iIiIiJgowbaYRlBERERExIpUwRYRERERE1WwLaYEW2TzZtvHLFcu%2B/2CBXD1qm1jd%2B1q23g5/Pxg714IDYV9%2B2wbOyvLtvFys8MfKgMONo%2BZw8HO8W2tuF0v2O%2BaHeyZ9CnhlAJSgi0iIiIiJnpBYTEl2CIiIiJiogTbYhpBERERERErUgVbRERERExUwbaYEmwRERERMVGCbTGNoIiIiIiIFamCLSIiIiImqmBbTCMoIiIiImJFqmCLiIiIiIkq2BZTgi0iIiIiJkqwLaYRFBEREZEiLzY2lmHDhhEQEECHDh2YPXs2WVlZt%2By3YMEC6tatS8OGDc3eLl68CEBqaipvvPEGbdu2JSAggNGjR5OYmGjVvirBFhERERETR8fCebNQaGgoFStWJDIykpUrVxIZGcmqVavy3Ldnz55ERUWZvXl4eAAQHh5OdHQ0ERERbNmyBYPBwKuvvmpx/3JTgi0iIiIiRVpUVBRHjhxh7Nix3HfffdSoUYPg4GAiIiIKdJ6MjAzWrVvHyJEjqVy5MuXLlycsLIwdO3YQFxdntf5qDraIiIiImBTSHOz4%2BHgSEhLM2jw9PfHy8rrrsdHR0VStWhU3NzdjW/369Tl58iTJycm4urqa7f/777/Tv39/jh49SuXKlXn11Vdp3bo1p0%2Bf5tq1a9SvX9%2B4b61atXBxcSE6OpqKFStaeJXZlGCLiIiIiEkhJdgREREsXLjQrC0kJITQ0NC7HpuUlES5cuXM2nKS7cTERLMEu1KlSnh7e/PSSy/h5eVFREQEzz//PBs3biQpKQnglnOVK1fOqvOwlWCLiIiISKHr168fgYGBZm2enp75Pt5gMORrvz59%2BtCnTx/j58HBwXz11Vds3LiRtm3bFuhc90oJtoiIiIiYFFIF28vLK1/TQfLi7u5urD7nSEpKwsHBAXd397seX7VqVeLj4437JiUlUbZsWeP2K1euUKFChXvqW150k6OIiIiIFGkNGjTg/PnzXL582dgWFRXFQw89ZJYoAyxevJhdu3aZtcXExODt7Y23tzdubm5ER0cbtx09epS0tDQaNGhgtf4qwRYRERERkyK4TF%2B9evVo2LAhc%2BfOJTk5mZiYGFauXMmAAQMA6NKlC3v27AGyq9NTpkzhxIkTpKamsmLFCk6fPs0TTzyBk5MTffv25b333uP8%2BfMkJibyzjvv0LlzZ%2BMyftagKSIiIiIiYlJEn%2BQ4f/58Jk6cSKtWrXB1daV///4MHDgQgJMnT3Ljxg0AXnrpJSB77nVSUhIPPfQQH374IZUqVQJg9OjRXL9%2BnZ49e5KRkUGHDh2YPHmyVfvqYCjsWd7y92LPbwcHB/vE/%2B9/bR%2BzXDlo1Qp%2B%2BAGuXrVt7K5dbRsvh58f7N0LTZvCvn22jZ3Hk75swk7f0wYcbB4zh71%2BjO2luF0v2O%2BaHbIybR8UwMkJMu0Y2x7eeqtwzmvlh7kUZapgi4iIiIhJEa1g/51oBEVERERErEgVbBERERExUQXbYkqwRURERMRECbbFNIL/IN988w2nTp2ydzdEREREijUl2P8g8%2BfPV4ItIiIilimC62D/3RT4as%2BePYuvry9btmyhW7duNGrUiEGDBpGQkADAxo0b6dq1K35%2BfgQGBvLxxx8bjz158iTBwcE0a9aM5s2bExISQgTyuFsAACAASURBVGJiIgD79%2B%2Bnb9%2B%2B%2BPn5ERAQwIQJE0hJSQEgJSWFqVOn0r59e5o0acLgwYM5fvy48by%2Bvr588803DBgwgCZNmtCjRw8OHTpk3P7pp5/SsmVLmjVrxuzZs5kwYQLjx483bl%2BzZg2PPvoojRs3plu3bkRGRhq3DR48mNmzZ9OjRw%2BGDRuWrzHauXMnjz32GE2aNKFnz55mTxPas2eP8Tpbt25NeHg4WX8uITZ%2B/HjGjBlj3Dc1NRVfX192795t7Mt7773Hyy%2B/TNOmTWnTpg1ffPEFAI899hjHjh1j5MiRvFqMlsERERERKWrueQ72mjVrWLFiBS4uLoSEhDB58mTGjx/PuHHj%2BOCDD3j44Yf56aefeOaZZ2jatCl16tThzTffpGnTpixfvpzr168zbtw4lixZwmuvvcYrr7zCs88%2By5NPPsnFixcZOXIkERERDBkyhDlz5nDo0CEiIiJwc3Nj/vz5hISE8PXXX%2BPgkL3e6/Lly5k5cyaVK1cmJCSE8PBwli1bRnR0NBMnTuTdd9%2Blffv2LFu2jE8//ZTAwEAge1rFwoULWb58OXXq1GH79u2EhYXxzTffUKVKFQC%2B%2Buor5s%2BfT8OGDe86LnFxcYSGhjJ9%2BnQ6d%2B7Ml19%2ByahRo9i%2BfTsZGRkMHTqUV155hT59%2BnD8%2BHGee%2B45vLy8%2BPe//52vcf/oo4%2BYMWMGM2bM4L333mPq1Kl07dqVjRs34uvry%2BLFi2nbtm2%2BzhUfH298YZTD08MDLy%2BvfB3/j1GunO1j5jzW9S%2BPd7UJPz/bxwSoU8f8vYiIFE3FrNpcGO45wR44cCAVK1YEsp%2BUExYWxvz58/npp59wc3MD4OGHH6ZChQpER0dTp04drl69iouLCyVKlMDNzY3Fixfj%2BOcX8erVq5QpUwZHR0e8vLxYu3Ytjo6OZGVlsX79eubNm2eMFxYWxpo1azhw4ACNGzcGoGfPnjz44IMABAYG8sEHHwDw3Xff4evrS1BQEAAjRozg008/NV7HunXr6N27t/H584888gj%2B/v5s2rTJWLFu1KgRjRo1yte4fP3113h7e9P1z4d59OrVi1KlSpGVlcWmTZuoUqWKMZmuV68ePXv25Ouvv853gu3n50ebNm0AePTRR1m4cCHx8fFUrVo1X8fnFhERwcKFC83aQkaNInT06AKfy2oc7PCAjFatbB8zR5Mmto%2B5d6/tY%2BaW679axYIdvqft95iZP%2BPbuwM2VtyuF%2Bx0zfZ66Iq9Ytvr4TagBNsK7jnBrlmzpvHjqlWrkpaWxpUrV1i7di3r1q0jPj4eg8FAWloaaWlpAISEhPDyyy%2BzYcMGWrduTffu3Y2J64svvshrr73GBx98QOvWrenZsye1atXi0qVLXL9%2BnZEjRxqr1QBZWVmcP3/emGBXq1bNuK106dKkpqYCkJCQYJZ8Ojk5Ua9ePePnp0%2Bf5ocffmDVqlXGNoPBwEMPPWR2ffl1%2BvRps74AdOvWDcieXlOrVi2zbQ888ABff/11vs%2Bf%2B9wuLi4Axqk0BdWvXz9jJT%2BHp4eH/R5LZq/Hg/34o%2B1jli2bnVz/9htcv27b2KGhto2Xo06d7OR64EA4csS2sX/91bbxcuhJjv94xe16QU9yFMmPe06ws3I9ejjnaevr1q1j6dKlLF68mObNm%2BPk5ES7du2M%2B7Vv354dO3bw7bffsm3bNgYNGsQrr7zCoEGD6NOnD506dWL79u1s27aNxx9/nPDwcAICAgD4z3/%2BY6wy58XhNi%2Bns7KyKFHC/DIdc70yc3Fx4aWXXuKZZ5657bmdCvDKNafqnpecFxp/dbu%2BZ%2BbxA%2B1oxVeVXl5et04HKW5/KcD2jyrP7fp128e39WPK/%2BrIEfv3QUREbk8VbIvd8wiePn3a%2BHFsbCwuLi6cPXuWZs2a0aJFC5ycnEhISCA%2BPt64X2JiImXLlqVr167MnTuXKVOmEBERYdx2//338%2BSTT7J48WKGDx/OunXruO%2B%2B%2Byhfvjy///67WfyzZ8/mq58VKlTg3Llzxs8zMzPNboCsXr36Lec%2Bd%2B6c8UVDQVWrVo2TJ0%2Bata1Zs4YzZ85QvXp1Tpw4YbbtxIkTeHt7A1CyZElu3rxp3JZ7jEVERETk7%2BGeE%2BxPPvmEixcvkpSUxKpVq2jXrh1Vq1blxIkTXLlyhdjYWKZNm0aVKlWIi4sjJSWFoKAgvvjiCzIyMkhJSSE6Oprq1atz4cIFAgMD2blzJ1lZWVy7do2jR49SvXp1APr378%2BSJUuIiYkhPT2dDz/8kN69e5slo7fTokULDh48yI4dO0hLS2PJkiVmUyr69evH5s2b2bFjBxkZGfz00090796d/fv339O4dO/enfPnz7N27VrS0tL46quveOeddyhbtiyPPvooZ86cISIigoyMDA4cOMDnn3/OE088AUCNGjXYv38/Fy5c4Nq1a6xYsaJA1fNSpUpx6tQpkpOT76nvIiIiIlqmz3L3PEXkscceY8iQIZw%2BfZomTZowadIknJ2d%2Bfnnn43J9uTJkzl48CDz5s3D09OTd999l1mzZjFp0iRcXFxo1qwZb7zxBhUrVmT69OlMnz6dc%2BfO4erqStu2bRn95812I0eO5OrVqwwcOJD09HTq1q3LsmXLKF269F372bx5c8LCwhg7dizOzs4MGTKEgIAA47SMVq1aMW7cOKZOncrFixepVq0akydPpsk93nzm4eHBBx98wKRJk5g%2BfTo1atRg0aJFuLu7A7Bw4ULeffddZs6ciZeXFy%2B88AKPP/44AL179%2BbHH3%2BkS5cueHl58frrr5stGXg3/fv3Z9asWfz4448sWbLknvovIiIixVwxS4YLg4OhgHMhzp49S8eOHdm8efMtN%2BwVVWlpaZQsWdL4%2BaBBg2jWrBlhYWF27FURZc852Pa6c%2Ba//7V9zHLlslcv%2BeEH28/B/nOFG5vz88tewaRpU9vPwb7NfRGFTjc5/uMVt%2BsF3eRo89j28P77hXPe4cML57xF0D/%2BJcqZM2fw8/Nj%2B/btZGVlsXPnTvbt25fvtaJFREREihVNEbHYPU8R%2Bbvw9vZm5syZzJ49mxdffJGKFSsyadIkmjZtWuBzHThw4I7rVVepUoUtW7ZY0l0RERER%2BZsrcIJdrVq1W1bdKOp69OhBjx49LD5Po0aNiIqKskKPRERERIqoYlZtLgz/%2BAq2iIiIiBSAEmyLaQRFRERERKxIFWwRERERMVEF22IaQRERERERK1IFW0RERERMVMG2mBJsERERETFRgm0xjaCIiIiIiBWpgi0iIiIiJqpgW0wjKCIiIiJiRapgi4iIiIiJKtgWU4ItIiIiIiZKsC2mERQRERERsSJVsEVERETERBVsiynBFhERERETJdgW0wiKiIiIiFiRKtgiIiIiYqIKtsU0giIiIiIiVqQKtoiIiIiYqIJtMSXYIiIiImKiBNtiGkEREREREStyMBgMBnt3QooQe347ODjYJ35Wlu1jAjg5QWam7ePaszJhr6%2BxPa7Zzw/27oWmTWHfPtvGTkuzbbzcnJ0hPd32cVu3tn1MX19YvRqeegp%2B/9328TdssH3MEiXA0xMSEiAjw7ax3d1tGw%2Byf2eVLJn9M2WP312lStk%2BJsDXXxfOeR99tHDOWwSpgi0iIiIiYkWagy0iIiIiJpqDbTEl2CIiIiJiogTbYhpBERERESnyYmNjGTZsGAEBAXTo0IHZs2eTdZv7qD755BOCgoLw8/OjZ8%2BeREZGGreNHz%2BeevXq0bBhQ%2BNbs2bNrNpXVbBFRERExKSIVrBDQ0OpX78%2BkZGRXLp0ieHDh%2BPh4cHTTz9ttt%2BWLVuYO3cu77//Po0aNWLDhg2EhYXx9ddf4%2B3tDcCIESMIDQ0ttL4WzREUEREREflTVFQUR44cYezYsdx3333UqFGD4OBgIiIibtk3JSWFF198EX9/f5ydnenTpw9ly5blt99%2Bs1l/VcEWEREREZNCqmDHx8eTkJBg1ubp6YmXl9ddj42OjqZq1aq4ubkZ2%2BrXr8/JkydJTk7G1dXV2N6zZ0%2BzY69evcr169epWLGise2nn35i27ZtnDp1ilq1ajF58mQaNGhwr5d2CyXYIiIiImJSSAl2REQECxcuNGsLCQnJ11SNpKQkypUrZ9aWk2wnJiaaJdi5GQwGXn/9dRo3bsy//vUvALy9vXF0dOSFF16gbNmyLFy4kGeeeYYtW7Zw//3338ul3UIJtoiIiIgUun79%2BhEYGGjW5unpme/jC/psxPT0dMaPH8/x48dZvXq1sX3UqFFm%2B7388sts2rSJyMhI%2BvTpU6AYt6MEW0RERERMCqmC7eXlla/pIHlxd3cnKSnJrC0pKQkHBwfc83jKZ0pKCiNHjuTmzZt89NFHd6xMOzk5UblyZeLj4%2B%2Bpb3nRTY4iIiIiUqQ1aNCA8%2BfPc/nyZWNbVFQUDz30EGXLljXb12AwMGbMGEqUKMGHH35ollwbDAbeeustjhw5YmxLS0vj9OnTxhVGrEEJtoiIiIiYODoWzpsFctatnjt3LsnJycTExLBy5UoGDBgAQJcuXdizZw8AX375JcePH%2Bfdd9%2BlVKlSZudxcHDg7NmzTJkyhbi4OK5fv86cOXNwdnamU6dOFvUxN00RERERERGTIroO9vz585k4cSKtWrXC1dWV/v37M3DgQABOnjzJjRs3APjss8%2BIjY013tSYo2fPnkybNo3p06fz9ttv06tXL5KTk2nUqBGrVq2iTJkyVuurEmwRERERKfIqVarEsmXL8tz2%2B%2B%2B/Gz9etWrVHc9Tvnx53nrrLav27a%2BUYIuIiIiISRGtYP%2BdaARFRERERKxIFWwRERERMVEF22JKsEVERETERAm2xTSCIiIiIiJWpAq2iIiIiJiogm0xjaCIiIiIiBWpgi0iIiIiJqpgW0wJtoiIiIiYKMG2mEZQRERERMSKCiXB3rBhA4GBgXfdb/fu3fj6%2BpKamloY3bgjX19fvvvuu0KP8/rrr/PKK69Y5VwxMTH4%2Bvpy9uxZq5xPRERE5BaOjoXzVowUyhSRxx9/nMcff7wwTv23M23aNOPHmZmZrF69mqefftqOPRIRERGRwlS8Xk7Y2aFDh1i%2BfLm9uyEiIiJye6pgW%2Byer/bs2bP4%2BvqyZcsWunXrRqNGjRg0aBAJCQmsX7%2BeVq1aGfeNjo6mX79%2BNGnShKCgIDZv3pznOaOiovD39%2BeHH37Ic/rImDFjGD9%2BPAALFiwgODiYxYsXExAQgL%2B/P%2B%2B%2B%2B%2B49XUtqairTpk2jffv2NG7cmH//%2B98cPnzYuN3X15dvvvmGAQMG0KRJE3r06MGhQ4eM2z/99FNatmxJs2bNmD17NhMmTDD2c/z48YwZM4YDBw7Qv39/Ll68SMOGDfnpp5%2BM23L3w9fXl927dwNw6dIlnn32Wfz8/OjWrRsHDhww63dsbCzPP/88AQEBNG/enFdeeYXk5OR7GgMRERERQAm2FVh8tWvWrGHFihV8//33ODg4MHnyZLPtN2/eZPjw4TzyyCP8/PPPvPHGG4wbN46YmBiz/eLi4hg1ahSvvvqqWXJ%2BJ/v37yc9PZ3vv/%2BepUuXsnLlSiIjIwt8DeHh4fzyyy%2BsWbOG3bt3U69ePYYPH05aWppxn%2BXLlzN9%2BnR27dqFl5cX4eHhQPaLh4kTJzJp0iR%2B%2BOEHSpcuzdatW2%2BJ0ahRI9588008PDyIioqiRYsWd%2B3XjBkzSE1NZceOHaxYsYL169cbtxkMBkaOHEnlypXZsWMH//3vf4mLi%2BPtt98u8PWLiIiIiPVYPAd74MCBVKxYEYDg4GDCwsLo0KGDcfvOnTtJT08nODgYJycnWrVqxbx583BxcTHuk5qayqhRo3jiiSfo3bt3vmM7OjoyatQoSpQogb%2B/P61bt2bHjh106tSpQNewbt06pk6dSrVq1QAICwtjzZo17N2715gI9%2BzZkwcffBCAwMBAPvjgAwC%2B%2B%2B47fH19CQoKAmDEiBF8%2BumnBYp/O5GRkYSHh%2BPm5oabmxuDBg3i559/BrKr/ceOHeOTTz6hdOnSlC5dmtDQUIYOHcrUqVNxcHC46/nj4%2BNJSEgwa/P08MDLy8sq/RcpMvz8bB%2BzTh3z91K4fH1tH/OBB8zf21oJO6y0mxPTHrHz8Xet0GLaI7bBYPuYOYpZtbkwWPwTUrNmTePHVatWJS0tjaSkJGPb6dOnqVSpEk5OTsa2jh07AhhXw3jttde4ePEiL7zwQoFiV69enRK5fsirVKnCH3/8UaBzXLlyhWvXrhmTZ4CyZctSoUIFYmNjjW05yTdA6dKljVNXEhISqFq1qnGbk5MT9erVK1Af8pKYmEhKSopZ3Bo1ahg/PnPmDJmZmQQEBJgdl5mZSWJiIu7u7neNERERwcKFC83aQkaNInT0aMs6bwl7/BLL9b1ZrGLbiz2%2Bxnv32j5mjo8/tl9se3F2tn3M1attHzPHm2/aL7a93H%2B/vXtgW/b4nrbDCmtiPRYn2FlZWcaPDX%2B%2B2spdPXV0dDTbJy8pKSlkZGTw0UcfMXjw4Nvul5mZecfPDQZDviq3ueWeBvJXuc91u/NmZWWZJfmQfc33Ivf15PQrd5sh16vZUqVKUaZMGfbt23dPsQD69et3y3KKnh4e9nvV7OBgn9h3%2Bf4sNE5O8JfvYZuwZ2XCXl9jf3/bx6xTJzu5HjgQjhyxbew/7%2BOwC2dnSE%2B3fdyhQ20f84EHspPriRPh1Cnbx5871/YxS5TITq4TEyEjw7ax3dxsGw%2Byf2flfE/bs6Jsa6pgW8ziBPv06dPGim1sbCwuLi6UL1/euN3b25vY2FjS0tIoWbIkkL1Otm%2Buf%2BfNnz%2Bfn3/%2BmbCwMFq3bk3NmjUpVaoUkD2HO%2BfjM2fOmB13/vx5MjIyjAnuuXPnjNNV8qtChQqULVuWEydOUOfPf%2BVeuXKFS5cuUb169Xwdf/DgQePnmZmZHDp06JbKcl5Klix5S7U/h7u7O87Ozpw/f566desCcPz4ceP26tWrc%2BPGDc6cOYO3tzcAycnJpKenc38%2BKwteXl63TgcpTr9ApPiw4IWoxY4csW/84uL33%2B0X%2B9Qp%2B8S3dYL719i2jm/Pv08GQ/H6%2B6gE22IWj%2BAnn3zCxYsXSUpKYtWqVbRr186s2tu2bVvKlCnDe%2B%2B9R2pqKj///DOTJk0ymzLi5ORE%2B/bt6dq1K%2BPGjSMzM5Nq1arh5OTEli1byMjI4PPPP%2Bf8%2BfNmsTMyMli%2BfDlpaWns2bOHH374IV8PuMnN0dGR7t27s3TpUi5cuMCNGzeYM2cO3t7e%2BOVj3maLFi04ePAgO3bsIC0tjSVLlpCSkpLnvi4uLly7do24uDhSUlKoUaMG%2B/fv58KFC1y7do0VK1YYx8XZ2ZkWLVqwevVqrl27RmxsLB999JHxXD4%2BPvj5%2BTF9%2BnQuX77M1atXmTRpktUeaiMiIiIi98biBPuxxx5jyJAhtGnTBoBJkyaZbS9ZsiQrV67k22%2B/pXnz5kycOJEZM2bg4%2BNzy7ly5mK///77eHh4MHbsWObNm0eLFi04fPgwXbt2Ndu/du3aZGRk0KZNG4YPH87QoUNp3759ga9h/Pjx1K1blz59%2BtChQwcSEhJYuXKl2YuA22nevDlhYWGMHTuWdu3aUaJECQICAvKcUtKiRQuqVatGp06d2L59O71796Z%2B/fp06dKFJ598ku7du5vd/Dl9%2BnQg%2B0XKc889x5AhQ8zON3fuXAwGAx07dqRz585kZmYyc%2BbMAl%2B/iIiIiJGW6bOYg8Fwb//zOHv2LB07dmTz5s3UqlXL2v26qwULFvD999%2Bzdu1am8f%2Bq9zTXwAGDRpEs2bNCAsLs2Ov7pE9/wWmOdi2URznYNvjmv38sm%2BubNrU9lNE7nBvSaGz1xzs1q1tH9PXN/vmyqeess8UkQ0bbB%2BzRAnw9ISEBNtPEcnHzftW5%2BAAJUtm/0zZ43fXn1Nkbe7MmcI5759TWouD4vVyohCcOXMGPz8/tm/fTlZWFjt37mTfvn20bdvW3l0TERERETuww0KWhe%2Bxxx7j5MmTt92%2BYsUKmjdvbpVY3t7ezJw5k9mzZ/Piiy9SsWJFJk2aRNOmTa1yfhERERGbKmbTOQrDPSfY1apV43c73rUdGhpKaGhonts2btxo07706NGDHj162DSmiIiIiBRN/8gKtoiIiIjcI1WwLaYEW0RERERMlGBbTCMoIiIiImJFqmCLiIiIiIkq2BbTCIqIiIiIWJEq2CIiIiJiogq2xZRgi4iIiIiJEmyLaQRFRERERKxIFWwRERERMVEF22IaQRERERERK1IFW0RERERMVMG2mBJsERERETFRgm0xjaCIiIiIiBWpgi0iIiIiJqpgW0wjKCIiIiJiRapgi4iIiIiJKtgWU4ItIiIiIiZKsC2mERQRERGRIi82NpZhw4YREBBAhw4dmD17NllZWXnuu3r1aoKCgmjatCkDBgzg4MGDxm2pqam88cYbtG3bloCAAEaPHk1iYqJV%2B6oEW0RERERMHB0L581CoaGhVKxYkcjISFauXElkZCSrVq26Zb/t27ezYMECZs2axY8//kiHDh14/vnnuXHjBgDh4eFER0cTERHBli1bMBgMvPrqqxb3Lzcl2CIiIiJSpEVFRXHkyBHGjh3LfffdR40aNQgODiYiIuKWfSMiIujVqxeNGzfGxcWFZ599FoD//e9/ZGRksG7dOkaOHEnlypUpX748YWFh7Nixg7i4OKv1V3OwRURERMSkkOZgx8fHk5CQYNbm6emJl5fXXY%2BNjo6matWquLm5Gdvq16/PyZMnSU5OxtXV1Wzfrl27Gj93dHSkbt26REVFUbduXa5du0b9%2BvWN22vVqoWLiwvR0dFUrFjRkks0UoItZgw42C22g53iO9jzZg47xC6WX%2BO0NJvHNNq92/YxS5a0fUwAPz/YuxcCAmDfPtvGPn3atvEAnJ2z38%2BaBenpto%2B/dKntY1aqBMOHw/r1cOGCTUOnjp9k03iQ/TurJJBGSQw2jw6l7BATCu/3dEREBAsXLjRrCwkJITQ09K7HJiUlUa5cObO2nGQ7MTHRLMFOSkoyS8Rz9k1MTCQpKQnglnOVK1fOqvOwlWCLiIiISKHr168fgYGBZm2enp75Pt5gyP/LnLvtW5Bz3Qsl2CIiIiJidJuFOSzm5eWVr%2BkgeXF3dzdWn3MkJSXh4OCAu7u7Wfv999%2Bf5761a9c27puUlETZsmWN269cuUKFChXuqW950U2OIiIiIlKkNWjQgPPnz3P58mVjW1RUFA899JBZopyzb3R0tPHzzMxMDh06ROPGjfH29sbNzc1s%2B9GjR0lLS6NBgwZW668SbBERERExysoqnDdL1KtXj4YNGzJ37lySk5OJiYlh5cqVDBgwAIAuXbqwZ88eAAYMGMCGDRv47bffuHnzJkuWLKFkyZK0b98eJycn%2Bvbty3vvvcf58%2BdJTEzknXfeoXPnznh4eFg6dEaaIiIiIiIiRoU1RcRS8%2BfPZ%2BLEibRq1QpXV1f69%2B/PwIEDATh58qRxneu2bdvy4osvEhYWxqVLl2jYsCFLly7FxcUFgNGjR3P9%2BnV69uxJRkYGHTp0YPLkyVbtq4OhsGd5y9%2BKPb8bHBzsE9/BLveGY7cLtusqIvb6GmfYYYUHyF5lwh6rS9h7FZGmTYvPKiKVKmWvpmGPr/OKFbaPmbOKyPvvF49VRByyf5zS0uzzu6uUnZYRSU0tnPPa63rsQRVsERERETEqqhXsvxPNwRYRERERsSJVsEVERETESBVsyynBFhEREREjJdiW0xQRERERERErUgVbRERERIxUwbacKtgiIiIiIlakCraIiIiIGKmCbTkl2CIiIiJipATbcpoiIiIiIiJiRapgi4iIiIiRKtiWU4ItIiIiIkZKsC2nKSIiIiIiIlakCraIiIiIGKmCbTlVsEVERERErEgVbBERERExUgXbckqwRURERMRICbblNEVERERERMSKikSCvWHDBgIDA%2B%2B63%2B7du/H19SU1NdUGvTLn6%2BvLd999V%2BDjfvnlFxo2bEhaWppV%2BtG3b18WLFhglXOJiIiI/FVWVuG8FSdFIsF%2B/PHH2b59u727YTXffPMNp06dAqB58%2BZERUVRsmTJW7aJiIiIyD9PkUiw/2nmz59/2yT6TttERERE7E0VbMvZLME%2Be/Ysvr6%2BbNmyhW7dutGoUSMGDRpEQkIC69evp1WrVsZ9o6Oj6devH02aNCEoKIjNmzfnec6oqCj8/f354Ycf8pw%2BMmbMGMaPHw/AggULCA4OZvHixQQEBODv78%2B77757T9dy%2BfJlRo8ezcMPP0yzZs147rnnOH/%2BPACPPfYYx44dY%2BTIkbz66qtm/brTtrz6DLBo0SJat25NQEAAixYtMutHVlYW8%2BfPp1OnTjRu3Jgnn3ySX3/99Z6uSURERASUYFuDzVcRWbNmDStWrMDFxYWQkBAmT55Mx44djdtv3rzJ8OHDefrpp/m///s/fvnlF55//nl8fX3NzhMXF8eoUaN49dVXadWqFbt3775r7P379%2BPn58f3339PVFQUQ4cOpX79%2BnTq1KlA1zB79myuX7/Otm3bMBgMhIWFMWPGDBYsWMDGjRvx9fVl8eLFtG3b1qxfd9qWl507d7J06VJWrFhBgwYNWLZsGUePHqVNmzYArFq1iq%2B%2B%2Borly5dTpUoVIiIiGDFiBDt27KBMmTJ3vY74%2BHgSEhLM2jw8PPHy8irQeIhIEePnZ5%2B4deqYv7clZ2fbxyxRwvy9rVWqZPuYHh7m723IwcHmIY0x7RHbYLB9TLEem/9WGDhwIBUrVgQgODiYsLAwOnToYNy%2Bc%2BdO0tPTCQ4OxsnJiVatWjFv3jxcXFyM%2B6SmpjJq1CieeOIJevfune/Yjo6OjBo1ihIlSuDv70/r1q3ZsWNHgRPsKVOmkJGRYUxiO3XqxHvvvVegc%2BTH1q1badu2Lf7%2B/gAMHz6c1atXG7evW7eO4OBgxWf8LAAAIABJREFUatSoAcDgwYNZtWoVO3bsoGvXrnc9f0REBAsXLjRrGzUqhNGjQ613EQVkj19iYJegf4a2fWw7Xm12fHt0wB7Jlz1j791r%2B5i5ffyxfePbmh2STQCGD7dPXIAnn7R5yJI2j2hijx9jO6znYFTcqs2FweYJds2aNY0fV61albS0NJKSkoxtp0%2BfplKlSjg5ORnbcircZ8%2BeBeC1117j4sWLvPDCCwWKXb16dUrkqjRUqVKFP/74o8DXcOrUKWbOnMmBAwdISUkhKyuL8uXLF/g8dxMXF2c2Xs7OzlSrVs34%2BenTp5k%2BfTozZswwtmVlZRmnq9xNv379blm9xcPD026vmh0c7POK3YHidcEGO6bYdvsaZ6TbPihk/1VOt0PsgADbx4TsyvXHH8PAgXDkiG1j32YqYaEqUSI7ub54ETIybB//iy9sH9PDIzu5/uyz7Ou2obSnbf%2BCwsHB9GOsirIUhM0T7KxcL4sMf363OuQqaTk6Oprtk5eUlBQyMjL46KOPGDx48G33y8zMvOPnBoPBLHZ%2BZGVlMXz4cPz9/dmyZQvu7u58%2BumnzJs3r0DnuZ3cfUxLSyPjL7%2B0c4%2BNi4sL06ZNIygo6J5ieXl53TIdRL9ARP4B9u37f/buPKyJc20D%2BB1ZqygtKm6AWtuj2CoGBa1VakGLgkpVXCt1aRUFUWhdj1osLt1wB/daa6tWK1RQOcfdui8cN6TiAhYB2RUVEQIh3x%2BU%2BYiggklmJNy/6%2BIymZnM%2B0yC4cmTZ96Rdvy4OPFjkOKDTKmiImnGT0sTf8xSWVmijy/l3yeVqmb9fWQFW3OizyJy584d4XZKSgpMTU3Vqr/W1tZISUlRmzd6165duHbtmnB/xYoVWLBgARYvXozbt28DAExMTACU9HCXSkpKUhs7NTVVLWG9e/eu0K5SWVlZWUhJSYGXlxcsLCwAAH/99VeV9lHqRTFbWloircwbmEKhUFtvbW2N69evq%2B2ztMpPRERE9DJ4kqPmRE%2Bwt23bhqysLOTk5ODnn3/GBx98oFZFdnJyQu3atbFmzRoUFBTg3LlzCAwMVGsZMTAwQI8ePeDm5oYZM2ZAqVTCysoKBgYG2LdvH4qKivDHH3%2BUa5UoKirChg0boFAoEB0djZMnT1bqAjdlWVhYoHbt2rh06RIKCgqwe/duXLt2Dbm5uXj8%2BDGAksQ5MTERubm55R5fdt2LYnZycsKJEyeEVpSQkBC1CvawYcOwZcsWXLp0CUqlElFRUejbty/u3r1bpWMiIiIiIu0RPcHu378/Ro0aJcyEERgYqLbe2NgYP/30E/788084ODhg7ty5WLRoEf71r3%2BV21dpL/batWvRoEEDTJ06FcuWLUOXLl1w7dq1cif6vf322ygqKkL37t3h7e2Nzz77DD169KhS/IaGhpg3bx7WrVuHrl274vz581i5ciUaN26Mjz76CEBJ4vv9999j2rRp5R5fdt2LYu7Tpw8%2B/fRTTJgwAR988AGMjY3RoUMHYb2npydGjBiBSZMmoWPHjtiwYQNCQkLQtGnTKh0TERERUSlWsDUnU6nE6SpKTk6Gi4sLoqKi0KpVKzGGVLNy5UocP34cO3bsEH3s6kTKHjOe5CgOnuQoIqlOcjSWaL4FubxkBhN7e/F7sMu0H4rGyKhkqry0NGle540bxR%2BzceOS2UvWrhW9B7tgZuCLN9Iymazkv5NCIc171z%2BdpKKLjdXNft95Rzf7fRVJNHknEREREb2Kalq1WReYYKOkbaX0ZMmKbNy4EQ4ODiJGRERERCQNJtiaEy3BtrKyKjfjhZj8/Pzg51fxBVQiIyNFjoaIiIiI9BUr2EREREQkYAVbc6LPIkJEREREpM9YwSYiIiIiASvYmmOCTUREREQCJtiaY4sIEREREZEWsYJNRERERAJWsDXHCjYRERERkRaxgk1EREREAlawNccEm4iIiIgETLA1xxYRIiIiIqrWcnJy4O/vj65du6Jbt26YPXs28vPzn7n9/v370b9/f8jlcri6umLHjh3CupUrV8LW1hbt2rVT%2B8nKyqp0PKxgExEREZGgOlaw586dC4VCgT179qCwsBBTpkxBcHAw5syZU27bK1euYOrUqViyZAl69OiBkydPwtfXF2%2B%2B%2BSY6deoEAPDw8MC333770vGwgk1ERERE1VZWVhYOHjyIgIAAWFhYoFGjRvDx8UFYWBgKCwvLbZ%2BTkwNvb2/07NkThoaG%2BOCDD/Cvf/0L0dHRWouJFWwiIiIiEuiqgp2RkYHMzEy1ZQ0bNoSlpaVG%2B7127RoMDAzQunVrYdk777yDvLw8JCQkqC0HACcnJzg5OQn3i4qKkJmZiUaNGgnLrl%2B/jmHDhuHGjRto0qQJZs2ahW7dulU6JibYRERERCTQVYK9fft2hISEqC2bNGkS/Pz8NNpvTk4OzMzMIJPJhGXm5uYAgPv377/w8cHBwahduzbc3NwAAI0bN4a1tTW%2B/PJLWFpaYvv27ZgwYQIiIyPx5ptvViomJthEREREpHNDhw6Fs7Oz2rKGDRtW6rERERGYPn16hesCAgKgUqmqHI9KpUJwcDD27NmDzZs3w8TEBAAwePBgDB48WNhu9OjR2Lt3LyIjI%2BHv71%2BpfTPBJiIiIiKBrirYlpaWL90O4uHhAQ8PjwrXnTx5Erm5uVAqlTAwMABQUtUGgPr161f4mOLiYsyaNQtXrlzBtm3bYG1t/dzxmzVrhoyMjErHy5MciYiIiKjasrW1hUqlQlxcnLAsJiYG9erVQ8uWLSt8zKJFi3Dz5s0Kk%2BtVq1bh9OnTasvi4%2BNfmISXxQSbiIiIiATFxbr50RULCwu4urpi2bJluHfvHtLS0hAaGgpPT08YGpY0a4waNQpRUVEAgP/973%2BIjIzEunXr8Prrr5fbX05ODr7%2B%2BmskJCSgoKAAGzduxJ07dzBgwIBKx8QWESIiIiISVMd5sIOCghAYGAgXFxcYGRmhb9%2B%2BCAgIENYnJSXhwYMHAICwsDA8evQIH374odo%2BHBwcsHHjRnz55ZcASnqvc3Jy8NZbb2HTpk1o3LhxpeORqV6mK5z0lpS/DTKZNOPLINFBS3TAKshevJGOSPYaF5WfB1UURkZABXOw6pyxsfhjAoBcDly4ANjbAxcvijv2nTvijgeUvL6NGwNpadK8zhs3ij9m48aAtzewdm3JcYuoYGagqOMBJe9ZxsaAQiHNe9c/59yJbt8%2B3ezX1VU3%2B30VsYJNaiRLNv8ZXdrxSW9VYe5SrWndGti8GfjsM%2BD6dXHHliLZBEoSTgCIihI/4bSxEXc84P8/ULi5if%2BBAgD%2B/lv8MUs/vPXvX5J1isjEUCnqeP/PAMYG0o0thepYwX7VMMEmIiIiIgETbM3xJEciIiIiIi1iBZuIiIiIBKxga44VbCIiIiIiLWIFm4iIiIgErGBrjgk2EREREQmYYGuOLSJERERERFrECjYRERERCVjB1hwr2EREREREWsQKNhEREREJWMHWHBNsIiIiIhIwwdYcW0SIiIiIiLSIFWwiIiIiErCCrTlWsImIiIiItIgVbCIiIiISsIKtOSbYRERERCRggq05togQEREREWkRK9hEREREJGAFW3OsYBMRERERaREr2EREREQkYAVbc0ywiYiIiEjABFtzbBEhIiIiItIiVrCJiIiISMAKtuZYwSYiIiIi0iKNE%2Bxt27bB2dlZG7FU2YYNG9CpUyfMmzcPALBw4ULI5XKsW7fuhY91dnbGtm3bdBwhsGrVKowcOVIr%2ByooKEDr1q1x9uxZreyPiIiI6GnFxbr5qUmqdYvI6tWr4e/vDy8vL%2BTk5GDz5s1YvXq1ZAl/RXx8fODj4yPc/%2Bmnn%2BDl5QVDw2r91BMREZGeqmnJsC5U6xaR3NxcNG/eHADw%2BPFjABDuv4ru3buH7777DkqlUupQiIiIiEhHqpxgX758Gf3790eHDh0wZswYZGdnAwDOnj0LuVyOTZs2wd7eHhcvXgQA/Pbbb%2BjTpw/s7OzQu3dvREVFCftydnbGpk2bMGbMGLRv3x4fffQRLly4IKxPS0vDxIkT0blzZ3Ts2BEBAQHIycmBQqFAu3btAJRUiL28vODq6goA8PDwwKpVq6p0TMXFxQgNDUWvXr3Qvn17DBgwAKdPn1aL8/fff8f48eMhl8vRs2dPnDhxQlh/9OhR9OjRA3K5HLNmzcLy5cvh5eUFAFi5ciWGDBmCrKwsODk5QaVSoVOnTggPDxfWlfX%2B%2B%2B8jPDwcAJCXl4cvvvgCnTp1Qs%2BePXH48GG1bXNycjB16lR069YNcrkcEydORHp6epWOnYiIiKgstohorkoJtlKpxOTJk9GtWzecPXsW/v7%2B2LFjh7C%2BsLAQiYmJOHXqFDp06IDDhw/jhx9%2BwPz58xEdHY3Jkydj2rRpuH79uvCYn376CVOmTMH58%2BfRq1cv%2BPr6oqioCEBJ8ly3bl0cOnQI%2B/btQ0ZGBgIDA2FsbIyYmBgAJT3Ov/zyC/773/8CACIiItRaMipjy5Yt%2BP333xESEoLo6Gj069cPPj4%2BwocHAPjxxx8xadIknD17Fo6Ojli0aBEAICMjA35%2Bfhg9ejTOnj2Ljh07YsuWLeXGaNCgAX788UcAQHR0NAYOHPjCuNasWYO4uDjs3bsXO3fuFI6x1MyZM5Gfn4%2B9e/fi%2BPHjqF27NmbNmlWlYyciIiIi7apSI/DVq1eRkZGBiRMnwsTEBHZ2dujVqxeOHDkCoCTBHjFiBExNTQEAO3fuRN%2B%2BfdGpUycAgJubGzZu3Ih9%2B/ahdevWAEqqwx06dAAAeHt748cff8Tly5dRu3ZtxMbGYu3atTAzM4OZmRnGjx8PX19fKBQKGBsba%2B1J2LlzJ0aMGCHENHbsWGzYsAFHjx7FoEGDAAAffvgh2rdvDwBwdXXFrl27UFxcjDNnzqB27drw8vKCgYEBPD09sXPnTq3EdeDAAYwYMQKNGjUCAIwbN05IsrOzs3HkyBFERUXB3NwcADB16lT06NEDmZmZaNiw4Qv3n5GRgczMTLVlDRs0gKWlpVbiJ3pl/PN/W1Sl7WpStK0ZGYk/JgCUnlsixTkmcrn4Y7Zpo/6v2LT4d7DSpHyNSTQ1rdqsC1X6H5KWloZ69eqhbt26wrIWLVqobdO0aVPhdnJyMrp06aK2vnnz5khJSRHut2zZUrhduu%2BMjAwYGhrC3NxcLVG0sbFBYWEh0tPTYW1tXZXQnys5ORmtWrVSW2ZjY6MWp5WVlXDb1NQUSqUShYWFyMzMROPGjWFgYCCsf/fdd9Wq9C8rLS1Nbdyyz3VSUhIA4OOPP1Z7jIGBAVJTUyuVYG/fvh0hISFqyyb5%2BsJv8mQNotaQTCbd2FKQ4HilfoYleYk3b5Zg0H/Mny/d2FJp0ED8Mcu0F4pu61bpxpZKJf7G6JUyf%2BNFI%2BH5WkywNVelBFuhUJQ7Qa/4qVeh7OwYCoWiwv3IyvyFffrxKpUKMpnsmY99%2BvHaUJk4a9WquJumuLi43Iwgz9q2Mso%2Bv4WFhWr3VSqVcLv0W4Jjx47hjTfeeKmxhg4dWm7GlYYNGgBlxhGVTCbd2FKQ6HhVEqbYUr3EslGfij9o8%2BYlyfXcuUBiorhjf/%2B9uOOVMjQsSa6zsoB/Wv1E4%2BYm7nhASeV661ZgxAggLk788ffuFX9MQ8OS5DozU/zXWKpvVw0MJE12qXqqUoJtaWmJ3NxcPHr0SKhix8fHP3N7GxsbJCQkqC1LSEhAz549hft37twRbj948AC5ublo3LgxatWqhQcPHiArKwsN/qmGJCQkwMTERGiZ0JbSOF1cXAAARUVFSExMxLBhw1742Pr16yMtLU34YAAAMTExlZqGz8TEBE%2BePBHuP3r0CDk5OcJ9S0tLpKamCvdv3bol3G7WrBlq1aqF69evC98SFBYW4t69e5V%2BfiwtLcu3g9SkBJdqDi18o/TSEhPFH7%2BwUNzxnlZUJH4M/5xYL4m4OGnGf04hSueKiqQdn3SKFWzNVanUamdnB3Nzc2zYsAEKhQLR0dFC/3VFPDw8sHv3bly6dAmFhYUIDw/HzZs34e7uLmxz5MgRxMbGoqCgAGvXrkWDBg3Qrl07tGvXDq1atcLixYuRl5eH9PR0rF69Gu7u7jDScn%2Bhh4cHtm7divj4eCgUCqxZswZKpbJS82k7ODjg3r17%2BO2336BQKBAWFobEZ1SrSqvOt2/fRl5eHpo3b47bt2/jxo0byM/Px7Jly1CnTh1h%2B%2B7du2PHjh3IzMzEvXv3sGHDBmFd3bp14ebmhuDgYKSlpSE/Px9LlizB2LFj1SrdRERERCSuKiXYpqamCA0NxaFDh%2BDg4ICQkBCMHTv2mdu7u7vD29sb06dPR%2BfOnbF161Zs3LhRrZd40KBBCA4OhoODAw4ePIiQkBAYGBhAJpNh1apVyMjIQI8ePTBkyBDY2dnhq6%2B%2BeumDfZaxY8eid%2B/eGDduHLp27YqzZ89i8%2BbNqFev3gsfa21tjYULF2LFihV4//33ERcXBw8PjwrbWGxtbSGXy%2BHp6Ylt27bBxcUFrq6uGDZsGD766CO8%2B%2B67aj3s06ZNQ8uWLdG7d294enpiwIABapXxuXPnonnz5nB3d0f37t1x69YtrFq1SustNERERFRzcJo%2BzclUEpY7nZ2dMW7cOAwfPlyqELRCoVDAyMhISGxnzJiB4uJi/PDDDxJH9hKkrH6zB1sUNbIHu0tn8Qdt3brk5MpPPxW/RURLMxlVmZER0LgxkJYmfouIjY244wElM5dcuADY20vTIvL33%2BKPaWwMNGkCpKaK3yJS5qR/UUnZgy3FyZUAdJW%2BTJumm/2%2Biqr1lRxfBXl5eXjvvfewdetWFBcXIzY2FocOHcIHH3wgdWhEREREJAG9nMhywoQJOHny5DPXz58/v9z0di%2Brdu3aWL58OYKDg/HDDz/AwsICY8eOVeszJyIiIqoualo7hy5ImmA/felvbVmzZo1O9vss3bp1Q7du3UQdk4iIiIheTXpZwSYiIiKil8MKtubYg01EREREguo4i0hOTg78/f3RtWtXdOvWDbNnz0Z%2Bfn6F24aHh6NNmzbCtNClP1euXPnn%2BIuxdOlSuLi4wMHBAZ999plwBe3KYoJNRERERNXa3Llz8eTJE%2BzZswdhYWGIj49HcHDwM7d3cHBATEyM2k/79u0BAFu2bMHu3buxbt06HDlyBC1atICvr2%2BVrjPCBJuIiIiIBNWtgp2VlYWDBw8iICAAFhYWaNSoEXx8fBAWFobCl5gydPv27Rg9ejRatWoFMzMzBAQEID4%2BHpcvX670PphgExEREVG1de3aNRgYGKB169bCsnfeeQd5eXlISEio8DGpqakYM2YMHBwc4OLigoiICABAfn4%2Bbt26hbZt2wrbmpmZoXnz5oiJial0TDzJkYiIiIgEuqo2Z2RkIDMzU21Zw4YNYWlpqdF%2Bc3JyYGZmpnYla3NzcwDA/fv3y21vYWGBFi1a4IsvvsBbb72FAwcOYPr06bC0tMSbb74JlUolPL7s/ira17MwwSYiIiIiga4S7O3btyMkJERt2aRJk%2BDn5/fCx0ZERGD69OkVrgsICKhSf3SPHj3Qo0cP4b67uzsOHDiA8PBwTJ06FQCqtL%2BKMMEmIiIiIp0bOnQonJ2d1ZY1bNiwUo/18PCAh4dHhetOnjyJ3NxcKJVKGPxzefmcnBwAQP369Su1/2bNmuHq1at4/fXXUatWLeHxpXJyciq9L4AJNhERERGVoasKtqWlpcbtIBWxtbWFSqVCXFwc3nnnHQBATEwM6tWrh5YtW5bbftu2bTA3N4ebm5uwLD4%2BHtbW1jAxMcHbb7%2BN2NhYODo6AgAePnyIO3fuCLOMVAZPciQiIiIiQXWbRcTCwgKurq5YtmwZ7t27h7S0NISGhsLT0xOGhiW15FGjRiEqKgoAoFAoMH/%2BfMTExKCwsBB79uzBsWPHMGzYMADA8OHDsXnzZsTHxyM3NxfBwcGwtbVFu3btKh0TK9hEREREVK0FBQUhMDAQLi4uMDIyQt%2B%2BfREQECCsT0pKwoMHDwAAn376KR4/fowpU6YgMzMTVlZWCA0NxbvvvgsAGDZsGDIzM%2BHl5YXHjx%2Bjc%2BfO5XrHX4QJNhEREREJquOl0uvWrYslS5Y8c/3hw4eF2zKZDD4%2BPvDx8alwW5lMhsmTJ2Py5MkvHQ9bRIiIiIiItIgVbCIiIiISVMcK9quGCTYRERERCZhga44tIkREREREWsQKNhEREREJWMHWHCvYRERERERaxAo2EREREQlYwdYcE2wiIiIiEjDB1hxbRIiIiIiItIgVbFKjgkyysWUSjS%2BDSvQxSWS7dok/puE/b6%2BLFwNFReKOvW6duOOVatwY8PYGIiKAtDRxx/77b3HHAwBj45J/9%2B4FFArxx2/RQvwx5XLgwgXA3R24eFHUoQsV0rxXGxkAhcUGko0tBVawNccKNhERERGRFrGCTUREREQCVrA1xwSbiIiIiARMsDXHFhEiIiIiIi1iBZuIiIiIBKxga44VbCIiIiIiLWIFm4iIiIgErGBrjgk2EREREQmYYGuOLSJERERERFrECjYRERERCVjB1hwr2EREREREWsQKNhEREREJWMHWHBNsIiIiIhIwwdYcW0SIiIiIiLSIFWwiIiIiErCCrTlWsImIiIiItIgVbCIiIiISsIKtOSbYRERERCRggq05togQEREREWkRK9hEREREJGAFW3OsYBMRERERaREr2EREREQkYAVbc0ywiYiIiEjABFtzbBEhIiIiItIiURPsbdu2wdnZWcwhBRs2bECnTp0wb948AMDChQshl8uxbt26Fz7W2dkZ27Ztq/KYKSkpaNeuHW7fvl3lx1YkICAAM2fO1Mq%2BiIiIiCpSXKybn5qkxrSIrF69Gv7%2B/vDy8kJOTg42b96M1atXaz3hP336NMzMzNCuXTs0a9YMMTExFa4jIiIiIv1UY1pEcnNz0bx5cwDA48ePAUC4r02bNm3C1atXq7yOiIiI6FXACrbmdJpgX758Gf3790eHDh0wZswYZGdnAwDOnj0LuVyOTZs2wd7eHhcvXgQA/Pbbb%2BjTpw/s7OzQu3dvREVFCftydnbGpk2bMGbMGLRv3x4fffQRLly4IKxPS0vDxIkT0blzZ3Ts2BEBAQHIycmBQqEQKsY%2BPj7w8vKCq6srAMDDwwOrVq2q0jEVFBRgzpw56NatG%2Bzt7TFixAjcuHEDADBhwgQcPXoUCxYswKhRo5CcnIzWrVsjPj7%2BuetKBQcHw8vLS7i/Y8cOODs7o2PHjvj6669R/NRv56%2B//io8X%2B7u7jh48GCVjoWIiIjoaUywNaezFhGlUonJkyfD3d0dU6ZMQVxcHPz8/GBoWDJkYWEhEhMTcerUKZiYmODw4cP44YcfsHbtWtjZ2eHAgQOYNm0aWrVqhdatWwMAfvrpJyxfvhy2trZYsWIFfH19cfz4cRgaGsLHxwdvvfUWDh06hPz8fEyZMgWBgYFYvnw5YmJi0Lp1a6xatQpOTk5ITk6Gi4sLIiIi0KpVqyod1/r163H58mXs2bMHtWvXRlBQEGbOnInw8HCsWbMGzs7OGDduHIYPH47k5GThcc9bV5GEhAR89dVXCAkJgZOTEyIjI7FgwQL07t0bALB//36EhIRgw4YNaNOmDQ4fPgx/f3/s378fTZs2rdSxZGRkIDMzU21ZgwYNYWlpWaXnhOiVZyhBN1zpmFKM3bix%2BGMCQIMG6v%2BKydhY/DGlfI0BQC4Xf8w2bdT/JaIK6exd4erVq8jIyMDEiRNhYmICOzs79OrVC0eOHAFQkmCPGDECpqamAICdO3eib9%2B%2B6NSpEwDAzc0NGzduxL59%2B4QE29nZGR06dAAAeHt748cff8Tly5dRu3ZtxMbGYu3atTAzM4OZmRnGjx8PX19fKBQKGGvxjdfb2xujR4%2BGmZkZAKB3794IDw9HUVGR8OFBGw4ePIi2bduiZ8%2BeAABPT0/8/PPPwvqdO3fC09MT7777LgDgo48%2BQseOHbFnzx6MHz%2B%2BUmNs374dISEhast8fSdh8mQ/LR1F1clkkowqxaD/DC3%2B2BIebcn4UgTQsKEEg/7jjTfEH9PbW/wxyxo0SNrxxSbV71eZb3FFt3Wr6EMaiT5imbElGLywUPwxS9W0arMu6CzBTktLQ7169VC3bl1hWYsWLdS2KVtpTU5ORpcuXdTWN2/eHCkpKcL9li1bCrdL952RkQFDQ0OYm5ujYZk3ORsbGxQWFiI9PR3W1tbaOizcu3cPCxYswLlz54RebqVSCaVSqdUEOz09HVZWVmrLyj5/d%2B7cwcmTJ9WSbpVKhbfeeqvSYwwdOrTcSZ4NGjSESvVyMWtKJoMkY8tQsw5YJWGKLdlrnJX54o20zdCwJLm%2Bfx8oKhJ37PBwcccr1aBBSXIdFgZkZYk7dv/%2B4o4HlLzGDRsCmZniv8YA4O4u/pht2pQk1yNGAHFxog5deFaaDxRGRtImu1Jggq05nSXYCoUCSqVSbdnTPcRlE1KFQlHhfmRlyl1PP16lUkEmkz3zsU8/XhsCAgJgYmKCiIgING7cGKdPn8bo0aO1su%2Byz5dCoUDRU2/YZY/f1NQUX375JcaOHfvS41laWpZrB5EquSbSKSmSn7Jjiz1%2BWpq44z0tK0v8GJ7zd0DnioqkGf%2Bf85ckERcn7fhErzidneRoaWmJ3NxcPHr0SFhW9oS%2Bp9nY2CAhIUFtWUJCglr1%2Bc6dO8LtBw8eIDc3F40bN4a1tTUePHiArDIVk4SEBJiYmKBRo0baOBzBlStXMGTIEDT%2Bp8cxNjb2pfZjYmICAMjPzxeWJSUlCbctLS2R9tQfqLLPn42NDa5fv662/u7du1AxQyYiIiINVMeTHHNycuDv74%2BuXbuiW7dumD17tlqOVdacOXPQrl07tZ%2B2bdti1qxZAICZM2eibdu2autLW5grS2cJtp2dHcwcb0pfAAAgAElEQVTNzbFhwwYoFApER0cL/dcV8fDwwO7du3Hp0iUUFhYiPDwcN2/ehHuZr8COHDmC2NhYFBQUYO3atWjQoIFw4K1atcLixYuRl5eH9PR0rF69Gu7u7jDScuNUs2bNcOXKFRQWFuLYsWM4efIkgJKWDqAkcb5z547aB4tSZddZWFigbt262L9/P5RKJU6cOIFLly4J2zo5OeGvv/7C0aNHoVAosGXLFmEMoKS9IyoqCkePHkVRURHOnDmDvn374vLly1o9XiIiIqJX3dy5c/HkyRPs2bMHYWFhiI%2BPR3BwcIXbLliwADExMcLPxYsX8eabbwoTSQDAxIkT1baJjo6uUjw6S7BNTU0RGhqKQ4cOwcHBASEhIc9tZ3B3d4e3tzemT5%2BOzp07Y%2BvWrdi4caNa3/GgQYMQHBwMBwcHHDx4ECEhITAwMIBMJsOqVauQkZGBHj16YMiQIbCzs8NXX32l9eP66quvsH//fjg6OmLnzp1YsmQJ7OzsMHDgQGRlZWHIkCHYunUrRo4cWe6xZdcZGBggMDAQf/zxBzp16oRdu3bhk08%2BEba1s7PDnDlzMG/ePHTp0gU3btxQe%2BHff/99zJgxA0FBQbC3t0dQUBDmzZsnnARKRERE9DKqWwU7KysLBw8eREBAACwsLNCoUSP4%2BPggLCwMhZVooP/555/RtGlTfPDBB1qLSaaqJj0FZae4I92R8reBJzmKo0ae5JiWKv6gUp4At26duOOVaty4ZAaTtWvF78HW0rkwVWJsDDRpAqSmStOD/dTEAaKQy0tmL7G3F70Hu1AhzXu1lCc5SjF7CQB8%2BKFu9vucRgaNHD9%2BXKg4l557l52dja5duyIyMlKYja4iDx8%2BhIuLC7Zu3Yq3334bQEmLSFJSEh4/fozExES0atUK8%2BbNE2Zuq4wac6l0IiIiIpJORdffaNhQ8%2Btv5OTkwMzMTG1iC3NzcwDA/fv3n/vYX3/9FQ4ODkJyDQDW1taoVasWpkyZgjp16ghdGPv27cMblZx6tcYn2BMmTBD6qCsyf/58fPzxxyJGRERERCQdXbVzVHT9jUmTJsHP78XX34iIiMD06dMrXBcQEPBSkzwolUps2bIFixcvVlvu6%2Burdn/atGnYs2cPDh48iMGDB1dq39UmwT58%2BLBO9rtmzRqd7JeIiIiI/l9F199oWMkLNXl4eMDDw6PCdSdPnkRubi6USiUMDAwAlFS1AaB%2B/frP3Of58%2BehUCheOEOIgYEBmjRpgoyMjErFClSjBJuIiIiIdE9XFeyKrr%2BhDba2tlCpVIiLi8M777wDAIiJiUG9evXULlL4tEOHDqFLly5q12VRqVT49ttvMWDAALRp0wZAybVJ7ty5U6ULF%2BpsFhEiIiIiqn6q2ywiFhYWcHV1xbJly3Dv3j2kpaUhNDQUnp6eQvI8atQoREVFqT3u2rVr5a6aLZPJkJycjK%2B//hrp6el4/PgxgoODYWRkhJ49e1Y6JibYRERERFStBQUFoW7dunBxcUH//v3Rvn17BAQECOuTkpLw4MEDtcdkZmaiQYMG5fa1cOFCtGjRAgMHDkTXrl1x7do1/Pzzz6hdu3al42GLCBEREREJdH3VRV2oW7culixZ8sz1FZ3Lt2/fvgq3ff311/HNN99oFA8r2EREREREWsQKNhEREREJqmMF%2B1XDBJuIiIiIBEywNccWESIiIiIiLWIFm4iIiIgErGBrjhVsIiIiIiItYgWbiIiIiASsYGuOCTYRERERCZhga44tIkREREREWsQKNhEREREJWMHWHCvYRERERERaxAo2EREREQlYwdYcE2wiIiIiEjDB1hxbRIiIiIiItIgVbCIiIiISsIKtOVawiYiIiIi0iBVsIiIiIhKwgq05mUqlUkkdBL1CpPx1kMmkGb%2BoSPwxAcDICCgsFH/cWhJ%2BcWVgACiV4o8rxWsskwHGxoBCIfrvdQFMRB2vlISHDBNDCX6vAOl%2BpwEUFhtIMq5Ub11GxjLxB5XLgQsXAHt74OJF8ceX6G9yq1a62W98vG72%2BypiiwgRERERkRaxRYSIiIiIBGwR0Rwr2EREREREWsQKNhEREREJWMHWHBNsIiIiIhIwwdYcW0SIiIiIiLSIFWwiIiIiErCCrTlWsImIiIiItIgVbCIiIiISsIKtOSbYRERERCRggq05togQEREREWkRK9hEREREJGAFW3NMsImIiIhIwARbc2wRISIiIiLSIlawiYiIiEjACrbmWMEmIiIiItIiVrCJiIiISMAKtuaYYBMRERGRgAm25tgiQkRERESkRaxgExEREZGAFWzNsYJNRERERKRFrGATERERkYAVbM0xwSYiIiIiARNszVX7FpFVq1Zh5MiROtl3fHw8WrdujeTkZJ3s/2nt2rXDyZMnRRmLiIiIiHSjWiTY%2B/fvR2JiYoXrfHx88Ouvv4ockXbExsbi1KlTwv2YmBi8//77EkZERERENV1xsW5%2BdC0mJga9evXCkCFDXrjt5s2b4erqCnt7ewwfPhxXr14V1hUUFOCrr76Ck5MTOnfujMmTJ%2BP%2B/ftViqVaJNgrVqx4ZoJdnYWFhakl2ERERERUdZGRkfDz80Pz5s1fuO3hw4excuVKfP/99zh16hQ%2B/PBDTJgwAXl5eQCApUuXIjY2Ftu3b8e%2BffugUqkwa9asKsXzyifY/fv3x82bN%2BHj44NPP/0UrVu3xtatW%2BHo6Ig9e/Zg5cqVwieV8PBw9OrVC7///ju6d%2B%2BODh064KuvvkJRUVGlxsrOzsbnn38OuVwOd3d3XLlyRViXnJyM1q1bIz4%2BXlgWHBwMLy8vAMDZs2chl8uxadMm2Nvb4%2BLFi1CpVAgODsYHH3wAuVyOAQMG4Pz58wCA%2BfPnY%2BvWrdi4cSN69eoFAGjdujWOHTsGoOTT04IFC9CjRw/Y2dnhk08%2BwbVr14SxW7dujf3792P48OHo0KED%2BvXrh7/%2B%2BkuDZ5qIiIioelawCwoKsH37dtjZ2b1w2%2B3bt2PgwIGws7ODqakpPv/8cwDAkSNHUFRUhJ07d8LHxwdNmjTB66%2B/Dn9/fxw9ehTp6emVjueVT7AjIyMBlPRaL1q0CABw7tw5HD58GO7u7uW2T09PR0xMDPbv34%2BwsDAcPnwYW7ZsqdRYixYtQkFBAY4ePYqNGzciPDy8SrEWFhYiMTERp06dQocOHRAREYFdu3Zh%2B/btiI6OhouLCyZPngylUom5c%2BfCwcEBY8eOxYEDB8rta%2BnSpTh//jx%2B/fVXnD17Fm3btoW3tzcUCoWwzYYNG7Bw4UKcPn0alpaWWLp0aZXiJSIiInpadUywBw8ejEaNGlVq29jYWLRt21a4X6tWLdja2iImJgZ37tzBo0eP8M477wjrW7VqBVNTU8TGxlY6nmo5i8jHH38MMzOzCtcVFBTA398fr732Glq1agV3d3ccPXoUo0aNeuF%2BDx48iKVLl8Lc3Bzm5uYYOXIkzp07V%2Bm4CgsLMWLECJiamgIA%2BvXrBxcXF9StWxcA4O7ujpUrV%2BLu3buwtrZ%2B7r527tyJoKAgWFlZAQD8/f3x66%2B/4sKFC%2BjSpQsAwMPDA2%2B%2B%2BSYAwNnZGT/%2B%2BGOlYwWAjIwMZGZmqi1r2KABLC0tq7QfoleeTCbdmBKMLcHRlowr3SFTTSCXiz9mmzbq/4rp4kXxx9SxCvOOhg1FzztycnJgbm6utszc3Bz3799HTk4OAKBevXpq6%2BvVq1elPuxqmWA3bdr0mevMzc1hYWGhtu2JEydeuM/79%2B8jPz9fSGgBoEWLFhrF9uTJEyxatAjHjh3DgwcPhOVlq9AVefDgAR49eiQkzwBQp04d1K9fHykpKcKysrG%2B9tprKCgoqFKs27dvR0hIiNqySZMmwc/Pr0r70YaMjAxs374dQ4cOFT/BNzISdzxIfLwSkfSYDQzEHQ/SHq%2BxqKP9P2l/r2vWawwARuIfsrTHfOGCuOPhn%2BNduRJDly2rMe/VAKBS6Wa/K1e%2BfN4RERGB6dOnV7jum2%2B%2BwcCBA6sUi%2BoFB/mi9S9SLRNsg%2Bf8sVQqlWr3VSoVZJUop5QmvWUf/6In9%2BmxAMDQ8P%2Bf0q%2B//hrXr1/Hli1b0Lx5cyQlJQn91pWJpSJlj6Uyx/U8Q4cOhbOzs9qyhg0barTPl5WZmYmQkBA4OzvXiDexmna8QM075pp2vEDNO%2BaadrxAzTvmmna8uqZJ3uHh4QEPDw%2BtxPHGG28IlepSOTk5ePvtt4UibU5ODurUqSOsf/DgAerXr1/pMaplgv08ubm5uHfvnvAE3b17t1I9ORYWFjAyMkJqaipsbW0BALdu3RLWm5iYAADy8/OFZUlJSc/d55UrVzB48GChEl7Z3p369eujTp06SEhIQJt/vpZ68OABsrOzYWNjU6l9VIalpSXfMIiIiEgUr0re8e677yI2NhYDBgwAUFIw/euvv%2BDp6Qlra2uYm5sjNjYWzZo1AwDcuHEDCoUC7777bqXHeOVPcgRKktvExETk5ua%2BcFtjY2OEhoYiPz8ft27dwt69e8t9WqqIkZERunTpgs2bN%2BPRo0dISUlROznSwsICdevWxf79%2B6FUKnHixAlcunTpufu0srJCTEwMFAoFLl26hL179wIo%2Bcqp9LiSk5PV2keAkmb7vn37Yt26dUhLS0NeXh6Cg4NhbW0NuRQ9aERERETVWO/evREdHQ0AGD58OHbt2oVLly7hyZMnWL16NYyNjdGjRw8YGBhgyJAhWLNmDVJTU3H//n0sWbIEvXr1QoMGDSo9XrVIsIcNG4bvv/8ey5cvf%2BG29erVw7/%2B9S/06tULnp6ecHFxwbBhwyo1zsKFCwEATk5OGDdunNqJkQYGBggMDMQff/yBTp06YdeuXfjkk0%2Beu78vv/wS8fHxcHR0xNKlSzF37lz06tULPj4%2BiI2NxcCBA3Hs2DF89NFH5dpNZs6cCVtbWwwePBgffvghMjMz8dNPPz23PYaIiIioJnJ1dUW7du2wevVqXLlyBe3atUO7du2Ec9du374tzHPt5OSEL774Av7%2B/nB0dMSpU6ewbt06YZKKyZMnw87ODh4eHnBxcUGdOnWEHLGyZCpNu7hfIeHh4Vi8eDEvN14NSX2ykNhq2vECNe%2BYa9rxAjXvmGva8QI175hr2vGS9jDBJiIiIiLSIr07yfFZJkyY8NzEe/78%2Bfj4449FjIiIiIiI9JFeVbCJiIiIiKRWLU5yJCIiIiKqLphgExERERFpERNsIiIiIiItYoJNRERERKRFTLCJiIiIiLSICTYRERERkRYxwSYiIiIi0iIm2PRKUiqVUodAWjB79uwKl%2Bfm5sLX11fkaMR1//59qUMgHcrOzsbVq1elDoOIXlE15kqO9Orx9fXF119/jQYNGqgtv3LlCubMmYPIyEiJItOekJCQSm87adIkHUYirqSkJPz999%2BIjIyEm5sbnr6eVWJiIk6cOCFRdLrz%2BPFjfPfdd4iMjERRURGuXr2KnJwczJgxA9988w0sLCykDlEn8vPzceTIEaSlpWHMmDEAgLS0NDRu3FjiyLQvPT0d//73v3Hy5EkYGhri6tWryMjIwGeffYZVq1bB2tpa6hC1Li0tDXv27EFaWhrmzJkDoOR9un379hJHpn1xcXFYunQp4uPjkZ%2BfX269Pr5vkW4wwSbJmJiYwM3NDdOmTcPgwYORn5%2BPpUuXYseOHRg7dqzU4WnF8ePH1e7fuHEDxsbGaNasGVQqFZKSkqBSqdChQweJItSNuLg4rFixAoWFhfjss8/KrTcxMcGwYcMkiEy3goKCkJGRgQ0bNgi/w0ZGRjAzM8OCBQuwZMkSiSPUvgsXLmDixImoV68eUlNTMWbMGKSkpKBv375YtWoV3nvvPalD1KqgoCBYWFjgyJEjcHV1BQBYWFigW7duWLBgAdauXStxhNp16NAhBAQEwN7eHv/73/8wZ84c4XUOCgqCu7u71CFq1bRp09CoUSOMHTsWr732mtThUHWmIpLQ%2BfPnVQMGDFB98sknKhcXF5W3t7fqzp07UoelE6GhoaqVK1eqCgsLhWUFBQWqxYsXq0JCQiSMTHf69%2B8vdQiicnR0VGVnZ6tUKpWqffv2wvIHDx6ounTpIlVYOuXp6an69ddfVSqVStWuXTth%2Bd69e1UDBw6UKiydsbe3V%2BXm5qpUKvXX%2BMmTJypHR0epwtKZvn37qg4cOKBSqdRf39OnT6vc3d2lCktnOnTooMrPz5c6DNID7MEmSXXo0AGurq6IiYnB/fv30a9fP738ihUAfvnlF4wfPx6Ghv//xZGxsTF8fX3x66%2B/ShiZ7kRERECpVCI1NRW3b98u96NvZDIZzMzMyi1XKpUoKCiQICLdu3nzJoYOHQqg5PhL9e7dGwkJCVKFpTOvvfZauZYnAHjw4IFenjuSlJQEZ2dnAOqvr4ODA5KTk6UKS2dsbW2RlpYmdRikB9giQpL5888/sWjRIjRu3Bi7d%2B9GamoqAgMDsWPHDgQGBuLNN9%2BUOkStMjAwwF9//VWuHeT69euoVUs/P%2Bvu3r0bQUFByM3NLZeUyGQyXLt2TaLIdEMul%2BP777/H1KlThWUpKSlYuHAhHB0dJYxMdxo2bIjU1NRyH4xjYmIq/LBR3XXp0gX//ve/ERAQAAB4%2BPAh4uLiEBwcjB49ekgbnA40bdoU169fh62trdryEydOoH79%2BhJFpTtjxozBjBkz4OHhgWbNmpV7b%2B7WrZtEkVF1wwSbJDN9%2BnRMmzYNnp6eAAAbGxtERkYiNDQUgwYNwsWLFyWOULuGDx%2BO0aNHw8nJCVZWVkJl98SJExg1apTU4enEDz/8gFGjRqFPnz4wNTWVOhydmzt3Lnx8fNCpUycUFRWhY8eOyMvLQ4cOHfSy/xoA%2BvXrh3HjxmHMmDEoLi7GwYMHERcXhy1btmDEiBFSh6d1c%2BfOxYwZM9CnTx8AQOfOnSGTyeDm5oa5c%2BdKHJ32jRgxAp999hk8PT2hVCqxadMmXL9%2BHVFRUZg%2BfbrU4Wmdn58fAODSpUvl1uljUYB0R6aq6LsuIhFkZ2c/swJy8%2BZNvP322yJHpHsnTpzAwYMHkZaWhsLCQlhaWqJ79%2B5wc3OTOjSd6NixI86dOwcDAwOpQxHVlStXkJycDBMTE9jY2Ojl73IplUqFTZs2ISwsDHfu3IGpqSmsra0xbNgweHp6qrUV6JN79%2B4hKSkJJiYmsLKy0stqfan9%2B/dX%2BPp27dpV6tCIXllMsElSly5dQkREBNLT07Fq1SoUFxdj//796N27t9ShkRZMnz4dH3/8sV7/Ib57926lt23atKkOIyFdOX/%2BfKW3dXBw0GEkJIaioiJcuHABKSkpkMlksLGxgVwu19sPi6QbbBEhyezYsQPffvst%2BvTpI0xnl5mZiUWLFiEjIwOffvqpxBFqbubMmfj2228BAF9%2B%2BeVzt128eLEYIYmqVatWmDVrFuRyOaysrMr1M37xxRcSRaY9zs7Olf7Dqy9fL9e0%2Bd29vLzU7stkMrVzCkpffwMDA724%2BMysWbMqve0333yjw0jEFxcXB29vb2RmZgrfsGZnZ8Pa2hqbNm1CkyZNJI6Qqgsm2CSZ9evXY/369ejYsSN2794NAGjUqBHWrl2LKVOm6EWCbWRkJNw2NjaWMBJpnDhxAjY2NsjOzkZ2drbaOn2pBkVFRQm3r1y5grCwMHh5eaFFixYoLi7GrVu3sHXrVowePVq6ILWsps3vfuXKFeH24cOH8d///hfjxo1DixYtoFKpcPPmTfz4448YOHCghFFqT9kZb4qLi/Hnn3/CysoKLVu2RHFxMeLj45Geni70oeuThQsXwtXVFf7%2B/qhduzaAkhligoODERQUhNWrV0scIVUXbBEhycjlcly4cAEymQx2dna4fPkyAKCwsBAODg4VnmRSE3z11VcICgqSOgx6Cf369cOPP/4IS0tLteUpKSnw9vbGnj17JIpMd0pbuyZMmCBMQalQKBASEgITExP4%2BvpKHKF2ffTRR9i5cyfq1auntvzevXsYMmQIDh48KFFkuhEUFIR33nkHgwYNUlu%2BZcsW3Lp1C4GBgRJFphtyuRxnz54tVxDJy8uDs7Mzzpw5I1FkVN3o59xgVC00b968wjerPXv21Ohe1YiICKlD0Jrz588/90ffpKSkCFWvsszNzZGSkiJBRLpX0%2BZ3v3//foVzmhcXFyMnJ0eCiHRr9%2B7d8PDwKLd88ODBwjeP%2BuT1118v920bADx69KhGfgtJL48tIiSZ8ePHw8fHB87OzigqKsKCBQtw/fp1XLx4US/7kStLn75Uerp3tZShoSFMTU0RHR0tckS6ZW9vDx8fH3z22Wdo1qwZioqKkJaWhs2bN0Mul0sdnk7UtPndu3fvjjFjxmD48OGwsrISXuPt27fj/ffflzo8ratbty6OHTsmXGym1OnTp1G3bl2JotIdFxcX%2BPj4wNvbW7gWQ0JCAtatW4fu3btLHB1VJ2wRIUnFxMTgjz/%2BUJv%2BafDgwXp3kZmqKNsuU90pFAq1%2B0qlEomJifjpp5/Qr18/vbtow71797Bw4UIcOnQI%2Bfn5AEo%2BTLz33ntYuHBhudYRfRAaGor169c/c373KVOmSB2iVj158gSrV68WpttUKBSwtLSEk5MTpk6dqnfT9ZVe%2BKtt27Zqr%2B%2B1a9cwe/ZsfPLJJ1KHqFUKhQJLlixBWFgYHj16BACoU6cO%2Bvbti5kzZ%2BK1116TOEKqLphgE71i9CnBfpZHjx7B09MT%2B/btkzoUncnJyYFCoYCFhYVa%2B4Q%2Bqmnzu9c0CQkJOHToENLT09U%2BULRv317q0HTq4cOHUCgUqF%2B/vt6clE3iYYJNovLy8qr0G9XmzZt1HM2rqSYk2Onp6ejdu7feXa3zRX3lnCO5%2Btu1a9dz13/88cciRULacvr0abz33nsASj4sPo%2B%2BfetGuqPfZRV65ZTt03zy5AkiIiLQsWNHYfqnW7du4cqVK3p5ieWaqKK5v588eYLLly/rZbJZ03rOgRfPmaxv8yQHBwer3VcqlcjJyYGZmRmaNm2qdwn2i4oi%2BlAI8fb2FqZi/Pzzz5%2B5HS%2BVTlXBBJtEVTbh%2BuKLL7B48WI4OTmpbXPw4EG9nM6ssvTpS6WKzro3MzPD559/Dk9PTwki0q2y8yUD5XvO9dHTM2oolUokJSUhNTUV7u7uEkWlOxVVOB89eoTly5fj3XfflSAi3Xr65NXS1/fSpUsYOXKkRFFpV9n/t3Fxcc/crri4WIxwSE%2BwRYQkY29vj3PnzpXrTy0sLISjo6PetQ%2BsX78e48aNe%2BF2GzduxNixY0WIiMRSE3rOn/bHH3/g%2BvXrmDlzptShiCI/Px%2B9e/fG0aNHpQ5FFCdOnEBkZCS%2B//57qUPRKldX1wr/nz58%2BBCurq44ffq0BFFRdcQKNknG0tIS27dvL3cWenh4OBo2bChRVLrz888/Y9CgQbCwsHjudvqWXG/btg1RUVFISUmBTCaDjY0NBgwYgP79%2B0sdmmjy8vKQkZEhdRii6t%2B/P957770ak2AnJSUJs07UBF27dsXkyZOlDkNrTp8%2BjVOnTiElJQVLliwptz45ObncrEhEz8MEmyQzffp0fPHFF1i1ahWaNGkCpVKJ9PR0PHr0qMI3uOru888/x5QpU%2BDm5oamTZvCwMBAbb0%2BnjyzbNky7Ny5Ex4eHkKLRHx8PBYuXIi8vDwMGzZM4gi1q6b1nAPlp2IESqq5%2B/btg5GRkQQR6dbQoUPL9SQ/efIECQkJcHV1lSgq3bl9%2B3a5Zfn5%2Bdi/f3%2B5q1lWZ%2Bbm5sjLy4NSqazw21NTU1MsWLBAgsioumKCTZJxdnbG8ePHcfz4cbXpn7p27YpGjRpJHZ7WffvttwAqnmlCX0%2BeCQ8Px/r162Fra6u23N3dHTNmzNC7BLum9ZwDQPv27Ss8Cc7AwKDCDxzVXUUXGzE2NkaLFi3Qs2dPCSLSrT59%2BkAmkwnnhpTerlu3rl5dJr1t27Zo27YtZDIZ5syZU%2BE2%2BvgeTbrDHmx6JVRUBeNlaau/Z/XZK5VKODo64n//%2B59EkenGuXPn4OjoWG55QUEBDh8%2BjD59%2BkgQlW6dO3eu3DITExNYWVmhfv36EkSkW7t27apwppAnT57gt99%2Bw5gxYySISndSUlLKLTMxMYGFhYVeXqkTKDnR/O7du2p/l9LT0%2BHj44MLFy5IGBlVJ6xgk2ROnTqFRYsW4e%2B//4ZSqSy3Xh%2BrBUVFRbhw4YJaP7JcLtfbixi8/fbb2LlzZ7lKdXh4OJo3by5RVLozbty4Cucwf/DgAWbOnKmXCXZERAQWLlxYbnlubi58fX0RGhoqQVTaV1xcjKKiIgQGBsLd3b3cbD%2BJiYlYunSp3iXYc%2BbMwU8//VRueW5uLry8vPDHH39IEJXuREdHY/Lkybh//z6AkmS79P1ZH7%2BhIN1hgk2SCQwMhKOjI6ZNm1YjLj8bFxcHb29vZGZmCpW97OxsWFtbY9OmTWjSpInEEWrftGnT8Pnnn%2BOXX35Bq1atAJRcFS4pKQkrV66UODrt2bRpEzZs2ACFQlFhL31ubi6srKwkiEx3kpKS8PfffyMyMhJubm4VJpwvumhHdbJ582Z89913APDMKxg%2BPaVddRYbG4uYmBicP38eO3bsKPf63rlzB3///bc0wenQokWL8Mknn8DNzQ39%2B/dHVFQUrl69iqioKMydO1fq8KgaYYsISUYul%2BP8%2BfN6fxnpUl5eXrC1tYW/vz9q164NoKSyGRwcjKysLKxevVriCHUjKysLe/fuFc7Ct7GxQZ8%2BfdC0aVOpQ9Oa4uJixMbGYvjw4Zg/f3659SYmJnjvvffwxhtvSBCdbhw4cAArVqzAzZs3K1xvYmKCYcOGvfBCNNXJvXv34OTkhI0bN5ZbZ2pqCltbW705sfPMmTPYtGkTjh49WuH/VVNTUwwZMgSjR48WPzgdksvluHDhAmQyGdq3by/MkX3p0iUsX5goBcoAACAASURBVL68wmo%2BUUWYYJNkvL294efnp5cXZ6iIXC7H2bNny/WW5%2BXlwdnZGWfOnJEoMt16%2BPAhlEqlkFwmJyejTp06epVslrpy5cozq5v6ysPDAxEREVKHIZrs7Gy97C1/lokTJ%2Brth/%2BK9OjRAzt27IClpSW6deuGbdu2wdraWm%2Bvz0C6UzNKh/RK6tmzJ6ZPn44PP/wQVlZW5U6YGTp0qESR6cbrr7%2BO7Ozscq0gjx490tsTOs%2BcOYNJkyYhKCgIbm5uAIA///wTS5cuRWhoKDp37ixxhJqbOXOmMEPMzz///NxtFy9eLEZIOldYWChUan///ffnzg%2BsD7/bXl5e%2BOWXXwAAvr6%2Bz932t99%2BEyMknUpMTBTOkZg%2BfXqFU/WVatmypVhhiaJv374YNGgQ/vOf/6B79%2B7w8/ND//79ERMTo3dtXqRbTLBJMqVVkf/85z/l1slkMr1LsF1cXODj4wNvb2%2B8%2BeabAEr6kdetW1fh1F/64LvvvsPs2bOF5BoAPvnkE7z%2B%2Buv49ttv9eIEqbItAfqQTFZGp06dhJM5nzVNX%2BnJYfpwsnLXrl2F2%2B%2B//77enpRcql%2B/fkJrxNPT9JWlL69vWVOnTsVbb72FOnXqYPbs2fj666%2BxY8cONGvWTO%2BuWkm6xRYRElXZykhCQsJz/1DpW2VEoVBgyZIlCAsLE674VqdOHfTt2xczZ87UyxM95XI5oqOjy11Uh1%2B3Vm/R0dHo1KkTgIqn6SuromkL6dV29%2B5doe%2B6omn6ymrWrJkYIYnm8uXLsLOzkzoM0gNMsElUZU8aadOmjd5Xvp7l4cOHUCgUqF%2B/vl5Xwzw8PDBx4kT07t1bbfnvv/%2BOTZs2Ye/evRJFphvPO6GvVq1aaNSoEZycnPRqtonZs2c/c5q%2BGTNm6M00faW8vLye%2BX%2B29DX%2B4IMP1L61qc7GjBlTo6bp69SpE06dOlVjvo0i3WGLCInqv//9r3D70KFDEkYijl27dlV624ouXlHdTZs2DX5%2BflizZg2srKxQXFyM27dvIzU1FRs2bJA6PK0zMDDAgQMH8Nprr6Ft27aoVasW/vrrLxQUFMDR0RHnz5/HunXrMG/evGp/ZceaNk1fKQcHB2zZsgUtW7ZEu3btUKtWLcTExCAxMRH9%2B/fH/fv3ERgYiKSkJHh7e0sd7kurqdP0%2Bfn54bvvvsOIESPQtGnTct%2B%2BMfGmymIFm0iHnp4T%2BeHDhygsLES9evWgUqnw8OFDmJqaolGjRti3b59EUepWeno6/vOf/yApKQkymQzW1tbo27evXs7EEBwcDFNTU/j4%2BAgn7RYXF2P16tUwMjLC%2BPHjceLECSxYsEDtw2Z1VBOn6QNKKvb29vYYNGiQ2vKwsDDcuHEDs2bNQmxsLCZPnlytiwg1eZq%2BoqIiFBUVVbhen79ZJe1igk0kkt9//x2xsbGYMmWKMEVdRkYGli1bBrlcjsGDB0scoXT69OlT4cmu1Y2joyNOnDhRrsqlUCjw4Ycf4uTJk1CpVLC3t9eb/vOaNk2fvb09zp49W26%2B68LCQnTr1g1nz57Vq9f4edP03bt3DxYWFiJHpFs8p4C0hS0iRCIJCQnBvn37YGpqKiyztLTEv//9b7i5udXoBPtFJ1JVF0ZGRjh27Fi5SyqfPn1amMru6NGjenXVzmcl10%2BePEGvXr30rk3E3Nwcv/32G0aOHKnWix0eHi5cNGvr1q1o0aKFRBFqV2lyXXqp%2BFLp6ekYNGjQCxPS6oYJNGkLE2wikeTn5yM1NbXc7CjZ2dkoKCiQKKpXg76c6Onv7w8/Pz%2B0adMGzZo1g6GhIe7evYurV6/C398fCoVC6PHUF%2Bnp6Vi4cCGuXr2qNh/248ePYWlpKWFkuhEYGIjJkycjNDQUTZo0gaGhIVJTU3H//n0sXLgQhYWFWLp0KVasWCF1qFpx69YtTJ8%2BHTdu3IBSqVRbp48XVXreSawAsHnzZhGjoeqMLSJEIpk/fz727duHfv36wcrKCkqlEqmpqdi7dy969OiBoKAgqUOUjJ2dnTCvcnUXGxuL48ePIzMzE8XFxahfvz66dOkiTGuXnJysVxesGD9%2BPICSC0cFBQVh3rx5iI2NxbVr1xAaGqqXvfYZGRk4c%2BYMsrKyhNfYwcFBeF2fPHmiN9Nujhw5Ei1btoSrqysmTJiA9evXIzY2FqdOncLSpUthbm4udYha9fTFoJRKJZKSknDp0iWMHDmyWp%2B4SuJigk0kEqVSiZ07d%2BLgwYNIS0uDQqGApaUlnJycMHr06HI9nTWJPiXYNY2joyP%2B/PNPvPbaa2qv4549exAdHY158%2BZJG6AOVXQFS32bZaJTp044c%2BYMDA0N1aZZPX78OHbu3Inly5dLHKE4Tpw4gcjISF5s5v/au/e4mvP8D%2BCvU1LRxWZGoyvDzGaQTvcxiMbQEJkdVmu07p3kdLEztaxLSTGDGR4RGaHWNNJDLGbNuOQyCUOkZCekaXRRKRqaVUedfn/06Psrp8g63/PpfL/v51853zOPx%2BvM6VHvPufz/bxIp9EWEUI0RFdXF9OnTxdcQyX5f/n5%2Bdi4cSPu3LmDuro6letC248MAN26deNOTNHX10dNTQ169eqFcePGYdWqVYIbsM%2BfP481a9agqKhIZcsEILxTJgwMDPDkyRMYGxujR48eqKysRJ8%2BffDuu%2B8iNDSUdTyNGT58OIKDg1nHIFqEBmxCNOTx48dITU3FnTt32t1z/exHk0T7hIWFwdzcHHPnzhXMFoEXcXZ2hlwuR2xsLIYOHYrPP/8cM2fOxLVr16Cvr886ntpFRETA1dUVYWFhoniPR48ejZkzZ2Lv3r1wcXHB0qVL8ec//xk5OTncaUhC8ssvv6g8VldXh%2BPHj8PExIRBIqKtaIsIIRoyf/583Lx5E05OTu3%2BYl67di2DVF1D64%2BetZlUKsXFixcFOVh25OHDh1i/fj1WrVqFoqIiyGQylJWVoUePHli1ahUmTZrEOqJaSaVSXL58mTsxROgUCgV27NiBgIAAVFVVYfHixbh%2B/TosLS2xcuVKDB8%2BnHVEtWppGH52NDI2NkZkZCQmTpzIKBnRNjRgE6IhUqkUP/zwA8zNzVlH0ZiAgADEx8e/8Hm5ubmCOJFgxowZWLt2LWxtbVlHYaapqQlVVVUwMzNTacETAplMhqCgIAwZMoR1FMKD9o4M1dfXh5mZGbcVipDOEMef4IR0AW%2B88QZ69uzJOoZGtRxR96JhRAjDNQDMmTMHf//73%2BHj4wNLS0uVX8jPNntqq5fZSy6U19xi7NixCA8Px5gxY2BlZaXyHgvhHot9%2B/Z1%2BrlCeL1lZWXc1%2B0d0adQKFBeXg4A7bZaEtIeWsEmREMyMjJw9OhRzJ8/H1ZWVio/yIV2%2BgDQXB1%2B9OhR2Nvbw8LCQuVj9b/97W%2BMkvHDzs6uw2sSiUQwN8A973W2JqTX3MLT07PDaxKJRKvr0Vs87zW2JpTX27ItpDOE9v1M%2BEMDNiEa4uzsjCdPnkCpVLZ7XYg/uP38/Dq8JpFIqLRBRLKysrizwInwHD58GJMnT2Yd439SWFjIfZ2bm4u0tDT4%2BfmhX79%2BUCqVKCgowLfffovZs2dj3LhxDJMSbUIDNiEa8qJKYaroFYaGhgZcvXoVpaWlkEgksLGxgVQqFUxb5f9KSGedP3jwAGfPnuX269ra2mLMmDEwMjJinIwdoby/kyZNws6dO1VaSEtLSyGTyfDdd98xSka0De3BJkRDWg/QDx8%2BFOQRV%2B0pLy/Hd999h4qKCixbtgyAcG5qfFZ%2Bfj5kMhnu37/PNRhWV1fD2toaiYmJ6Nu3L%2BOE7AhlLefChQtYtGgRDA0NYW1tDQD49ttvER0djT179uDtt99mnJANoby/paWl6NGjh8rjpqam7d4ASUhH6JZYQjTk999/x8qVK%2BHg4ICRI0cCAGpqaiCTyfDgwQPG6fiRnp6OcePG4dy5c0hJSQEA3Lt3D3PmzMG///1vxunULyYmBuPHj0dWVhYyMjKQkZGBCxcuwNXVFVFRUazjMSWUFfz169cjKCgImZmZSElJQUpKCjIyMuDn54eYmBjW8ZgRyvvr6OiIwMBAnD17FgUFBcjPz8eZM2cQHBwMqVTKOh7RIjRgE6IhUVFRKC4uRkJCAnfygJ6eHoyMjBAdHc04HT82bdqEr776ComJidwv4L59%2ByIuLg7btm1jnE798vLy8Nlnn7VZATM1NcXSpUuRnZ3NMBlRl8LCQpV7C3R1deHv7y/I%2ByjEZt26dXj99dcREhICb29vTJkyBXK5HLq6uvj8889ZxyNahLaIEKIhZ86cwffffw8zMzNu2OzZsyciIiIwfvx4xun4UVxczJ1I0HqFy8XFBSUlJaxi8aZXr16orq5W2Qry%2BPFjQZ4SI0Z9%2BvRBUVERBg4c2Obx4uJiUe/BFgozMzOuVbempgYKhQJmZmYqJyBp802dRDNowCZEQyQSSbu/gBsbG9utThcCCwsL3Lx5E4MGDWrz%2BLlz57g9ykLy/vvvIzAwEDKZDG%2B%2B%2BSaA5hXPr7/%2BmtsWRLSbj48P/P398cknn7R5j5OTk%2BHl5cU4HVGnXr16dXhtxYoVNGCT56IBmxANcXBwwLp16/DZZ59xj5WWliImJkawJ4jMmDED8%2BbNw9SpU9HY2IjExETcvHkTR48eRXh4OOt4ahceHo6vvvoKK1aswOPHjwE0f0rh7e2NJUuWME5H1CEwMBAmJiZIS0tDSUkJFAoFbGxs4Ovri3nz5rGOx4xQbnLsLLG9XvLy6Jg%2BQjSkrKwMgYGBuH37NhobG9GzZ0/897//hVQqxZdffinYEyaOHz%2BOtLQ03L17FwYGBrC2toavry%2BGDx/OOhqvHj16BIVCgd69ewvmBrBX4ePjg0OHDrGOQTohISEB8%2BfPBwDEx8cjICDghf/NwoULBXlfRUeEciwh4Q8N2IRoyIIFCzBhwgQMHDgQxcXF0NfXh42NDd566y3W0cgrEHNteItTp07hzJkzqKysBAC88cYb8PT0xKhRoxgnUw%2BxVYc7Ojpi48aNsLGxgY%2BPDw4fPtzhim3//v01nK5roAGbvAgN2IRoSHR0NE6dOoWqqiqMHDkSEyZMgKenJwwNDVlH483SpUs7vKajowNzc3OMGjUKDg4OGkylXmKuDQeA2NhY7N69GyNGjICFhQWamppQVlaGzMxMzJ8/H4sWLWId8ZWJrTo8JiYGe/bsgUQiaXewbnlcqN/TnUEDNnkRGrAJ0bC8vDycPHkSJ06cQFlZGTw8PODt7Y2xY8eyjqZ2y5cvx4kTJ2BoaIh33nkHOjo6%2BM9//oP6%2Bnq4urqiqqoK2dnZiIyMxNSpU1nH1Rgh1Ya7uLhg%2B/btcHR0bPN4VlYWFi5ciMuXLzNKxpa2nzLx22%2B/oba2Fl5eXvjhhx86fJ6lpaUGU3UdNGCTF6EBmxCGcnNzsW7dOly5ckWQK0EbNmyAgYEBAgMDubO/lUoltm3bBj09Pfj7%2B%2BPcuXOIjo5%2B7i9xoRHSL2d3d3dkZGRAT0%2BvzeNPnz7FyJEjcfHiRUbJ2NLm9zgqKgorV64EAMyaNQtJSUmME3U99vb2yM3NZR2DdGF0igghGnbv3j2cPHkSJ0%2BexJUrVzB48GBBnqgBAKmpqTh37hw3XAPNW0MWLFiAMWPGwN/fH%2B%2B99x4qKioYptQ8Ia1rzJo1C9u3b1f5I2r37t0qhSxios3v8ZEjRzBgwADY2tri6tWryMzM7PD1CPW%2Bghd57733WEcgXRwN2IRoSFxcHNLT05Gfn48hQ4bgww8/xNq1a2FhYcE6Gm/09PTw448/qmx/uXDhAhQKBYDmAh6hnqDSESGdKnLp0iXk5OQgKSkJ1tbWUCqVuHfvHp4%2BfYq3334bGRkZ3HNTUlIYJtUsbX6PZTIZNm7ciNraWkgkkg6PHxTiHmylUonk5OR2b9r19fXl3lcxnZhC/jc0YBOiIWfPnoW3tze2bNki6KG6tdDQUAQFBcHOzg6Wlpbo1q0bysrKkJeXh9DQUCgUCgQFBeGLL75gHZX8j5ycnODk5MQ6BlGj%2BfPnc8f0iW0rRGRkJE6dOgVvb294eHhwN%2B3GxcXh1q1biIiIYB2RaAnag00I4dWNGzeQkZGB%2B/fvQ6lUonfv3nB3d%2Bdu8ispKYGVlRXjlJqlzftzSecI5T1WKBTo3r07nj59isrKSkgkEpibm0NXV5d1NF5IpVKkpaVxLZ0tCgoKMG3aNGRnZzNKRrQNrWATQng1ePBgDB48uMPrYhuuheZ5RzECwNq1azWUhPChrq4O4eHhSE9PR0NDA5qammBgYABvb2%2BsWLEC%2Bvr6rCOqlbGxcbs/k6ytrWFsbMwgEdFWNGATQniTn5%2BPjRs34s6dO6irq1O5/jIlLaRrqq%2Bvb/PvxsZGFBcX4969e5g4cSKjVOwJ5cPhyMhIVFVVYcuWLbC1tQUA3LlzB/Hx8diwYQOWLVvGOKF6BQcHIyYmBosXL0avXr0AADU1NdiyZQuCgoIYpyPahLaIEEJ4M2nSJJibm3dYqPPRRx8xSMWeGGrDDx48iJs3b2LJkiWso7wyMVeHu7i44NixYzAzM2vzeEVFBXx9fXH69GlGyfgxbtw4VFRUQKFQwMTEBEqlErW1tdDT04OJiUmb59ICAXkeGrAJIbyRSqW4ePGi4D5Gfh6h14Z3VmNjI959911cunSJdZRXJubqcHd3d5w%2BfVrlD%2BQnT55g9OjR%2BOmnnxgl48fBgwc7/VyxLhCQzqEtIoQQ3gwaNAjl5eXcR8tC17o23NbWljuBICQkRDC14c9qOW6xtbq6Ohw7dkylfEZbffzxx5DJZFxFuJeXV5vrQq4Od3R0RFRUFMLCwrhV7AcPHmDDhg0YOnQo43TqR0MzURdawSaE8ObEiRPYuXMnfHx8YGlp2aZwBhBeSYUYa8Pt7OzaPfNZV1cXn376KebMmcMglfqJtTq8oqICCxcuxM8//8xtkXj06BEGDBiArVu3wsbGhnHCV%2Bfn54c9e/YAAKZPn/7cM8zFdJY7eTW0gk0I4U3LTUHXrl1TuSbE1T5dXd12V/WGDRsm2GPN/vnPf6o8pq%2BvDysrK/Tu3ZtBIvVrqQ43NTWFo6Oj4Ibo5zE3N8eBAweQn5%2BPkpISKBQKWFtbC2r1evjw4dzXI0eOZJiECAkN2IQQ3uTn57OOoFFirA1v2Wv9rKampk7fENjVib06XKlU4smTJ2hsbES3bt3Q1NTEbYkRgoULF3Jfv/nmm5gwYQLDNEQoaIsIIYR3ubm5KC8vx7hx4wA0H%2B0mxBsf58yZg5ycHOjq6rZbG96aUD5qdnZ2xrJly9rsXf31118RHh6OqqoqpKenM0ynHgkJCYiPj%2Beqwzv6tSnET2Wys7OxaNEiPHz4EMbGxmhqakJtbS1ee%2B01xMXFwd7ennVEtXJzc8Pp06fRo0cP1lGIlqMBmxDCmzt37kAul6OsrAyNjY3Iy8tDaWkppk2bhoSEBLzzzjusI6rVli1bOv1cuVzOYxLNuX79OuRyOT7%2B%2BGMEBwfjm2%2B%2BwZdffomJEydiyZIlMDIyYh1RrcRWHT5%2B/Hh88MEHkMlkXNHKb7/9hu3btyM9PR3Hjh1jnFC99u7di8uXL2PKlCmwsLBQ2doltFNiCH9owCaE8GbWrFkYOnQogoOD4ezszA0miYmJSE9P524sItqtoqICcrkc1dXVaGhowOrVq%2BHh4cE6Fi/EVh0%2BbNgwXL58Gd27d2/zeH19PVxdXQVRB9%2BanZ1dh9eE%2BAkF4Q/twSaE8CY3Nxc7duxA9%2B7d2%2BzXnDlz5kut9moLsdSGP3s03x/%2B8Afs2rUL//jHP1BfXw93d3fuOc8OZtpObNXhTk5OyM/PV9kKUlhYCCcnJ0ap%2BOPm5oY1a9aoPP748WNs3ryZQSKirWjAJoTwplevXnj06BFee%2B21No/fvXsX3boJ78ePWGrD7e3t273BreUDUQcHB8GeCy226vBRo0YhJCQEnp6e6N%2B/P/c9ferUKUydOhX79u3jnjt9%2BnSGSV9NcXExioqKcPXqVRQVFanss//111%2BpuZG8FNoiQgjhTVRUFPLz8xEYGIjAwEDs27cP%2Bfn52LZtG0aOHIkVK1awjqgRQqoNB/BS7Yyurq48JtE8sVWHe3p6dup5EolEq29oPXHiBGJjY3H79u12r%2Bvr68PX1/eFn1IR0oIGbEIIb%2Brr67F%2B/XocPHgQv//%2BO4DmVe3p06dj0aJFgts%2B0BEh1Ya3p7CwEIaGhujbty%2BA5uMZu3XrhoEDBzJOpn5iqw4XGx8fHxw6dIh1DCIANGATQnjX1NSE6upqGBgYCO5UidaeVxu%2BadMmZGZmMkjFr6NHj2Lp0qXYtGkTxowZAwD417/%2BhVWrVmHNmjX48MMPGSdUr8DAQJiamrZbHV5ZWYmEhATGCdXv9u3bOHbsGEpLSwEAtra2mDhxIqytrRknI6TrogGbEMKb%2Bvp6pKamciUr6enp2L9/P/r16we5XI6ePXsyTqheYqkNb83LywsrV65s04YHNG8jiYiIwPfff88oGT/EUB3e2tGjRxEeHo5BgwZxr%2B2XX35BQUEBdu3aBWdnZ8YJCemaaMAmhPBm%2BfLluHXrFlJTU1FYWIiPPvoICxYswK1bt2BkZNTu3frarL0tIEKrDX%2BWVCrFpUuXoKen1%2BZxhUIBV1dXXLt2jVEyfgm5Ory1CRMmQC6Xq7QbHjhwACkpKUhNTWWUjJCuTXi38RNCuoz09HQcOXIEAHDo0CGMGDECcrkcjx8/FtzWAUActeHP%2BuMf/4jk5GTMmjWLW71vaGjA119/Lcg92IDwq8NbKysrw/jx41Uenzx5suD%2BQCZEnWjAJoTwpr6%2BnjuiLzMzE5988gkAwMjIiLvpUUiCgoKeWxsuxAF7xYoVCAgIQHx8PPr27QulUonS0lIYGhoiMTGRdTy1E1t1uIWFBXJycuDo6Njm8Rs3bgj2UxlC1IEGbEIIb9566y0cOHAABgYGKCgo4I78On/%2BPHfihJDs3r0bcrkcxcXFKrXhO3fuZB2PF4MHD8aJEyeQkZGB4uJi6OjowMrKCqNGjRLkKTFLlizBn/70p3arw8PCwgRXHf7Xv/4V/v7%2BmDRpEgYMGACg%2BdSYI0eOQCaTMU5HSNdFe7AJIbzJzc1FWFgYamtrERoaimnTpqGmpgZjxowR5AkTgLhqw8VIbNXhAHDq1CmkpaVxe85tbGzg4%2BOjsi%2BbEPL/aMAmhGhcRUUFzM3NWcdQi/aO5quvr%2Bdqwzdv3sztzRXKiu7777/PlYqMGDHiuc8VWvvd3LlzERoaqrIV5Oeff8b69euxa9cuRsn4kZOTg2HDhrGOQYjWoQGbEMKbmpoaxMfHcw2GycnJ2LdvH/r164fly5ejT58%2BjBO%2Buo6O5mv50SqRSARXG37o0CH4%2BPgAaG6pBJpv/KupqYGOjg5MTU25/yet96MLQWJiIpKSkjqsDm%2B9L1mbq8NbODs74/z584L545AQTaEBmxDCm6CgIDQ2NmLr1q24fv06/Pz8EBkZiby8PFRWViI2NpZ1xFcm5tpwAKiqqkJkZCQyMjKgUCjQ1NQEQ0NDeHh4YOXKlSqV4tpOLNXhLZKSknD37l3MmDEDFhYW0NXVbXOdBm9C2kcDNiGEN25ubjh58iSMjY2xdu1aVFdXY8OGDairq4OnpyfOnz/POqLaiak2HAD8/PwgkUgwe/ZsWFhYAABKSkqQlJQEHR0dJCUlMU5IXoVUKkVDQwOePn3a5pMaoX0qQ4i60SkihBDeKJVKrho9MzMTixYtAgDo6enhyZMnLKPxonVteOsBW6i14UDzjaznzp3jTtQAmrfNODs7C/bmTjFVh2/fvp11BEK0Eg3YhBDeDBkyBHFxcdDX10dlZSVGjx4NoHkQ7d%2B/P9twPIiNjcW2bdva1IZPmTIFFhYWiIiIEOSAbW1tjbq6ujYDNtBcuiPEgbO96vDjx49j69atgqkO9/T07HRpjhC2wRDCB9oiQgjhTVFREVavXo1Hjx5BLpfDw8MDNTU1GD9%2BPGJjY%2BHm5sY6olqJsTb8%2BPHj%2BOabbzBz5kz069cPSqUSd%2B/exd69ezF58mQ4ODhwzxXCH1ViqA5PSUnhvq6urkZqaio%2B%2BOAD7v0tKCjAmTNnMHfuXMyePZtdUEK6MBqwCSEaV19fj7S0NMyYMYN1FLXy9fWFl5eXSm14fHw8zpw5g/379zNOqH52dnbPvS60U1QcHBxw5coVlZv9Ghoa4O7ujqysLEbJ%2BDFv3jyEhISoHEuYlZXFrdoTQlTRFhFCCK9u3bqFGzdutDkvuqKiArt37xbcgC222nBAfFsExFYdfvXq1Xb/iLK3t0d2djaDRIRoBxqwCSG82bt3L1avXo3evXujqqoK5ubmqKyshKWlJUJCQljHUzux1YYDgKWlJesIGiW26nAbGxts3rwZMpmMu2G5trYWCQkJsLKyYpyOkK6LtogQQngzduxYREdHw93dHfb29sjNzcX9%2B/cRExODmTNnCuKGMCI%2BYqoOz8nJQUhICO7fvw8TExM0NjaitrYWJiYmiIuLg5OTE%2BuIhHRJNGATQngjlUq5j5EdHByQnZ0NiUSC0tJSBAQE4MiRI4wTvjox14aLkRirw5VKJfLy8lBeXg6FQoE%2Bffpg2LBh0NfXZx2NkC6LtogQQnhjYWGBixcvwt3dHa%2B//jqysrLg4uICY2NjlJSUsI6nFsHBwdzXn376KYCOa8OJ9ps3b57oqsN1dHRgb2%2BvcqMjIaRjtIJNCOHN4cOHsXTpUly8eBHJycnYsWMHXFxcUFhYCBsbGyQkJLCOqFZiqw0XI6oOJ4R0Bg3YhBBelZSUwNLSEjU1Ndi/fz/377/85S8q5STajmrDhY%2BqwwkhnUFbRAghvKmursYXX3yBH3/8UWVF9%2BnTp6zjqZ0Ya8PFhqrDCSGdQQM2IYQ3oaGhkEgk2Lhxqr6bMAAAATVJREFUo8qK7uLFiwW3oiu22nCxoOpwQsjLoi0ihBDeDBs2TGVFFwBqamrg4eGBnJwcRsn4IbbacLGg6nBCyMuiFWxCCG/EtqLbcqLIpUuXVK5duHBBcLXhYuHr68t9PW/ePGzevLnD6nAasAkhAK1gE0J4JLYV3dLS0k4/V2wNiEIhlUrx008/qZwWolAo4ObmRvXhhBAANGATQnhkZ2f33Ou0oku0jY%2BPD0aNGtVudXh6erogypMIIa%2BOBmxCCG9oRZcIDVWHE0I6gwZsQggh5CVQdTgh5EVowCaEEEIIIUSNdFgHIIQQQgghREhowCaEEEIIIUSNaMAmhBBCCCFEjWjAJoQQQgghRI1owCaEEEIIIUSNaMAmhBBCCCFEjWjAJoQQQgghRI1owCaEEEIIIUSN/g8svyEPx62N3QAAAABJRU5ErkJggg%3D%3D\" class=\"center-img\">\n",
              "    <img src=\"data:image/png;base64,iVBORw0KGgoAAAANSUhEUgAAAtgAAAJRCAYAAAB/bMAVAAAABHNCSVQICAgIfAhkiAAAAAlwSFlzAAAPYQAAD2EBqD%2BnaQAAADh0RVh0U29mdHdhcmUAbWF0cGxvdGxpYiB2ZXJzaW9uMy4xLjEsIGh0dHA6Ly9tYXRwbG90bGliLm9yZy8QZhcZAAAgAElEQVR4nOzde3zO9f/H8cc2Y5im2eYw81WyOQ1zaM624UvOlfOXrOQQm6aEihxChCZEX8f4Kt%2BVJEk/GflKSYqYMcQKwzZsGGan6/fH2nW5Msfr2nWt9rzfbrtte38Or/fnba69rtfen/fHwWAwGBAREREREatwtHcHRERERET%2BTpRgi4iIiIhYkRJsERERERErUoItIiIiImJFSrBFRERERKxICbaIiIiIiBUpwRYRERERsSIl2CIiIiIiVqQEW0RERETEipRgi4iIiIhYUTF7d0BExJ4OHDjAunXr2LdvH6dPn%2Bb69euUKFECLy8v6tSpQ8eOHQkJCcHBwcHeXRURkb8IB4PBYLB3J0REbM1gMDBt2jT%2B85//AODm5oavry%2Burq6kpaVx%2BPBh0tLSAAgODmbevHkUL17cnl0WEZG/CCXYIlIkffjhh0yZMgUXFxcmT55Mly5dcHJyMm5PT0/nv//9LzNnziQnJ4chQ4bw8ssv27HHIiLyV6E52CJSJK1ZswaAZ555hu7du5sl1wAuLi6EhoYyePBgAFavXk16errN%2BykiIn89SrBFpEg6efIkAH5%2BfnfcLzQ0lKVLl7JlyxZcXFwAGDduHH5%2BfsycOZOrV6/y1ltvERISgr%2B/P02aNCEsLIyjR4/e9py7du0iLCyMFi1aUKdOHZo0aUJoaChffPHFbY9JTU0lMjKS7t27ExAQQO3atWnWrBnDhg1j9%2B7d%2BR4TEhKCn58fO3bsYMuWLXTs2BF/f39%2B/vlnAObPn4%2Bfnx/jxo0jIyOD%2BfPn0759e%2BrWrUvr1q158803uXbtGgDHjh1j5MiRNG/eHH9/f7p06cKGDRvyjXv9%2BnWWLFlCr169aNSoEbVq1SIwMJBnn32WLVu25HvMgAED8PPzY82aNVy9epXIyEhjXxo3bszgwYM5ePDgbcdHRKQwUYItIkWSu7s7AL/88std92vZsiUeHh63bLt69SqhoaGsWbOGhx9%2BmMaNG5Odnc2WLVvo2bNnvglhZGQkoaGhbNmyBVdXVwIDA3F3d2fXrl2MHj2aiIgIsrOzzY5JTk7mqaee4v333%2BfEiRPUqlWLJk2aULx4cb755hsGDhzIp59%2BettrOHHiBKNGjcLZ2ZkmTZoY3yjc7JVXXmH58uV4e3tTvXp1kpKSWL16NWPHjuXo0aP07duXuLg4atSogaenJ0ePHuWVV15h%2B/btZue5fv06/fr1Y/bs2cTGxlKtWjWaNm2Km5sb33//PWFhYcyfP/%2B2fc3IyCA0NJSVK1dSsWJFateuTXZ2Njt27GDAgAHGN0YiIoWaQUSkCBo7dqzB19fX4OfnZ5g5c6YhMTHxvo9t0KCBoXPnzmbHXr582dCjRw%2BDr6%2BvoUePHmbHff311wZfX19D48aNDbt37zbb9uOPPxqaNWtm8PX1NaxYscJs29SpUw2%2Bvr6G9u3bG86fP29sz8rKMkybNs3g6%2BtraNiwoSEtLc3suODgYIOvr68hJCTEsGjRoluuY968eQZfX19DixYtDF27djUkJycbt23ZssU4Ph06dDDMnz/fkJOTYzAYDIbs7GzDiBEjDL6%2BvoZBgwaZnXPFihUGX19fQ5MmTQzx8fH5bqtZs6bh5MmTZtv69%2B9v8PX1NQQFBRn69etnuHDhgnFbUlKSoXnz5gZfX1/D9OnTb7kOEZHCRhVsESmSIiIiqFixIgaDgWXLlhEUFET//v2ZO3cu33//PdevX7/rOdLS0pg0aRJeXl7GtjJlyjBu3DggdwnA3377zbht0aJFAIwdO5bHH3/c7FyNGzdmzJgxAKxcudJsm5eXF506dSIsLIxy5coZ252cnBg1ahSOjo5cuXLlttX4vJs0bycpKYnJkyebVenbtm2Lp6cnBoOBYsWKMWLECONShY6OjvTu3RuAQ4cOmZ2rdOnSdOnShWHDhlG1alWzbQMHDsTT05Ps7Gx27dqVb1%2BSk5N55513jH9hAPD09KRLly4A7N%2B//7bXISJSWGgdbBEpkipUqMAnn3zCrFmz2LhxI9nZ2ezZs4c9e/awaNEinJ2dCQwMpGvXrnTq1IlixW59ufTy8qJhw4a3tAcEBFC6dGmuXr3KL7/8QtWqVUlMTCQ2NhaAdu3a5duntm3b4uDgwJkzZ4iPj%2BeRRx4BMN5omZ%2BSJUtSrlw5kpOTSU5OznefJk2a4Oh4%2B3qKp6cn9evXv6Xd29ub5ORkgoODb1kH3NvbG4BLly6Ztffs2ZOePXvmG8fBwYHKlSvfsa%2BPP/445cuXv6W9SpUqAKSkpNz2OkRECgsl2CJSZHl6evL2228zZswYtmzZwq5du/jpp5%2B4cOECmZmZ7Ny5k507d7JkyRIWLlxoTPLy%2BPr65nteR0dHvL29OXr0KKdPnwYwu%2Bkxr8Kdn2LFipGZmclvv/1mTLAhd27y//73Pw4ePEhSUhKXL1/G8Mcqq1euXAFyK9X5yS9hvVnlypXzbc9b9zsvmc5vW1ZW1i3bcnJy%2BO6779i3bx9JSUmkpqYa%2BxYfH3/Hvvr4%2BOTbXqJECQAyMzPvdCkiIoWCEmwRKfI8PDzo27cvffv2BXJvCty9ezeff/45%2B/bt49ixYwwZMoQvvvgCZ2dn43Fubm63PWeZMmWA3BshwbzSu3Xr1rv2KS9pBoiLi2PEiBHGZP1%2B3amfgNk1Pcj2m505c4YRI0bcMnXkXulhPiLyd6AEW0TkTx599FEeffRR%2Bvbty8qVK5k%2BfTrx8fFs2rSJbt26Gfe707SLvApt3j55UyycnZ2JiYm550evp6en88ILL3DmzBmqVq3K8OHDadq0KQ8//LAx8Q0JCSEhIeG257DlY95HjhzJoUOH8PDwIDw8nFatWuHh4WFMnAcMGMCPP/5os/6IiNiDEmwRkTsYOHAgq1ev5uTJkxw7dsxsW96j1POTty2vkl22bFkgd4pDSkqK2U18d7Jjxw7OnDmDg4MDixcv5h//%2BMct%2BxSWB%2BDExsYSExMDwOzZs2natOkt%2BxSWvoqIFCStIiIiRc6WLVt44403WLx48T3tnzfFIm8ecJ5ff/013/2zs7ONFeW8OcU3z9f%2Bc6J%2BJ3mrkFSpUiXf5PrkyZNcuHDhns9XkH7//XcA43rbf3b16tU7PoBHROTvQgm2iBQ5MTExREVFsXjxYs6cOXPHfRMTE4mLiwO4ZaWNU6dOcfjw4VuO%2Bfnnn41PQAwICAByb6isXbs2AB9//HG%2BseLj4%2BnWrZtxOT8wVcBv3LiR7zHvvfee8es/P6DG1lxdXYHc6TH53Yy4bNkyYwU7v5sjRUT%2BLpRgi0iR8%2Byzz%2BLp6cmVK1cYOHBgvo8aNxgM/PDDDzz//PNkZmZSv359mjdvbrZPmTJlGD9%2BvFkFOTU1lRkzZgC5y%2BNVqlTJuG3YsGEAbNy4kQ8%2B%2BMC4CgjkVn9HjhxJXFwcZ8%2BeNbbXqFEDgHPnzhEdHW1sv379OlOnTiUmJsaYxJ84ceKBx8QafH19cXJyIjs7m48%2B%2BsjYnpWVxb///W%2BioqIIDg4GTKuJiIj8HWkOtogUOQ8//DDLly8nPDyc3377jWeeeQZPT08effRRSpUqRWpqKqdPnzau1dywYUMWLFhwy02NISEhnDp1ijZt2uDv74%2BzszP79%2B8nLS0NV1dX3njjDbP9//nPfzJkyBAWL17MW2%2B9xapVq3j00UdJSUnh8OHDZGdnU6tWLUaPHm08JiAggBYtWrBz507Cw8OpV68eJUqU4ODBgxQrVowVK1bw5Zdfsm/fPlatWsWRI0d44YUXaNy4ccEP5J9UqFCBHj16EBUVxVtvvcWGDRsoW7Yshw8f5urVqyxYsIDTp0/zzTffsHnzZgYMGEC/fv144oknbN5XEZGCpARbRIokX19fvvjiC7788ku2bdtGXFwcBw4cICMjAxcXF8qXL0/Tpk3p2LEjQUFB%2Ba7E4ejoyPLly1m4cCFff/01Z86coXTp0rRv355Ro0aZrWOd5%2BWXX6ZZs2asXr2aX375hV27dlGiRAnq1KlDx44d6dev3y1L1c2dO5fZs2ezdetWDh48iJeXF%2B3bt2fYsGFUqVKFChUqcOjQIfbu3cuxY8dsumrIn40fPx43Nzc2btzI0aNHKVeuHIGBgQwdOpSaNWuSnp7O7t272bFjB8eOHTOr4ouI/F04GPTqJiJyX8aNG8dnn33Gk08%2BaZwOIiIikkdzsEVERERErEgJtoiIiIiIFSnBLgAJCQn4%2B/s/0F3ys2fPZsCAAQXQKxERERGxBSXYBcDb25uYmJh8b3ASERERkfv37bff0qxZM0aNGnXH/XJycoiMjKRNmzY0btyYQYMGcerUKeP21NRUIiIiaNasGS1atOD111%2B3%2BlNmlWCLiNynGTNmcOTIEd3gKCJiI0uWLGHq1Kn5PtH2zz788EO%2B%2BOILFi9ezDfffEPVqlUZMWKEcdWiCRMmcP36dTZu3Minn37K8ePHmT17tlX7qwS7AJw%2BfRo/Pz%2BOHz9OSEgIn3zyCUOGDCEgIIC2bduyc%2BdO477btm2jffv2BAQEEBERccs7qE2bNtGtWzfq169PmzZtiIqKAuD8%2BfM8/vjjbN%2B%2B3bjvSy%2B9xAsvvGCTaxQRERGxlRIlSrB27dp7SrCjoqIIDQ2lWrVquLq6MmrUKI4fP87%2B/fs5f/480dHRjBo1Cnd3d8qXL8/w4cP59NNP830C7YPSOtg2sGzZMt5%2B%2B21q1KjBpEmTmD59Ops2beLy5cuMGjWK0aNH07t3b3bt2sXLL79MzZo1gdzHOb/%2B%2BuvMnz%2Bfpk2bsm/fPgYPHkz16tVp0KABr7zyCm%2B99RbNmjXjwIED7Nixgy%2B//PKe%2B5WUlGR8kEYeT09PvLy8rHr9IiIiIpbkHc8888w9xUhPT%2BfXX3%2BlVq1axjZXV1f%2B8Y9/EBMTw5UrV3BycsLPz8%2B4vXbt2ly7do0TJ06YtVtCCbYNBAcHU7duXQDat2/P%2BvXrycnJYefOnZQqVYp//etfODo60rp1axo1asTVq1cBWLduHUFBQbRo0QKARo0a8cQTT/D555/ToEEDevTowYYNG1i%2BfDmbN2/mlVdeoXz58vfcr6ioKBYsWGDWFjZ8OOEvvmilKxcREZEHYjCAvR4aVUBxo%2BbNuzXvCAsjPDzcajEuXbqEwWDAzc3NrN3NzY2UlBTKli2Lq6ur2QO58vZNSUmxWj%2BUYNtA5cqVjV%2B7uLiQnZ1NZmYm586do2LFimaPX65atSqxsbEAnDx5kl27duHv72/cbjAYjAm3g4MDU6dOpUuXLtSpU4devXrdV7969%2B5NSEiIWZtnly6wcuV9X6PFatSAjz6Cfv0gLs62sX/%2B2bbx8jg45L6AFiV2umYD9vklpX9iG8bFTgNtx3/kovZzXRT/jf9u8s07PD0LJNadnqNoi2csKsG2gZsT6JtlZGSQnZ1t1paTk2P82sXFhb59%2BzJhwoTbnvvcuXMUK1aMc%2BfOcf36dUqVKnXP/fLy8rr1zzIPsLSgVcXFwb599u2DiIhIUXabvMVS%2BeYdVla2bFkcHR1JTU01a09NTaVcuXK4u7uTlpZGdnY2Tk5Oxm0A5cqVs1o/dJOjHXl5eZGYmGj2Tur48ePGr6tUqcKRI0fMjjl37pwxKc/IyOCNN95g8uTJVK9enblz59qm4yIiIiKFUIkSJahevbpxNgDA5cuXOXnyJHXr1qVmzZoYDAbibvpreUxMDA899JBVl1dWgm1HzZo1Iy0tjf/%2B979kZGQQHR3N/v37jdt79OjB3r17%2BfTTT8nIyODw4cP07NmTzZs3A/Dee%2B/h5eVFly5deP311/n444/NjhcRERG5b46OBfNRQBITE%2BnQoYNxreu%2BffuyatUqjh8/TlpaGrNnz6ZmzZr4%2B/vj7u5O%2B/btmTt3LhcvXuTcuXO899579OjRg2LFrDexQ1NE7KhChQrMmTOH2bNnM3PmTFq1akW/fv3Y98cUiWrVqjFnzhzmzZvH5MmT8fLyYtCgQXTs2JGjR4%2BycuVK1q5dC%2BRWu5977jnGjx/PunXrcHZ2tueliYiIiFhN3v1oWVlZAERHRwO51efMzEzi4%2BPJyMgAoE%2BfPiQnJzNgwACuXr1KYGCg2c2VU6ZMYeLEibRp0wZnZ2c6d%2B5814fX3C8Hgy1mestfh73uWA4IgL17oUED28/Bvmneu00VxRtndJPj355ugLOdovZzXRT/je32O7lEiYI5740bBXPeQkgVbBERERExKcDpHEWFRlBERERExIpUwRYRERERE1WwLaYEW0RERERMlGBbTCMoIiIiImJFqmCLiIiIiIkq2BbTCIqIiIiIWJEq2CIiIiJiogq2xZRgi4iIiIiJEmyLaQRFRERERKxIFWwRERERMVEF22IaQRERERERK1IFW0RERERMVMG2mBJsERERETFRgm0xjaCIiIiIiBWpgi0iIiIiJqpgW0wjKCIiIiJiRapgi4iIiIiJKtgWU4ItIiIiIiZKsC2mERQRERERsSJVsEVERETERBVsi2kERURERESsSBVsERERETFRBdtiSrDFXE6OfeP//LPtY9rjhSQgAPbuhYYNYd8%2B28bevt228fK4uuZe7969kJZm09AOLVrYNJ6RkxMOOdn2iW0v9rrmIpgQOGCwW2S7xLbX7ycnJ/vGtoci%2BP/J2jSCIiIiIiJWpAq2iIiIiJiogm0xjaCIiIiIiBWpgi0iIiIiJqpgW0wJtoiIiIiYKMG2mEZQRERERMSKVMEWERERERNVsC2mERQRERERsSJVsEVERETERBVsiynBFhERERETJdgW0wiKiIiIiFiRKtgiIiIiYqIKtsU0giIiIiIiVqQKtoiIiIiYqIJtMSXYIiIiImKiBNtiGkEREREREStSBVtERERETFTBtphGUERERETEilTBFhERERGTQlrBTkhIYPLkyezfv59SpUrRsWNHXn75ZRz/1N/nnnuOPXv2mLVlZWUxYsQIwsLCGDBgAHv37jU77pFHHmHDhg1W66sSbBERERExKaQJdnh4OLVr1yY6OpoLFy4wdOhQPDw8ePbZZ832W758udn3ly9fpmPHjrRr187Y9uabb/LUU08VWF8L5wiKiIiIiPwhJiaGuLg4Ro8eTZkyZahatSqhoaFERUXd9di5c%2BfSrl07/Pz8bNDTXKpgi4iIiIhJAVWwk5KSSE5ONmvz9PTEy8vrrsfGxsbi7e2Nm5ubsa127drEx8eTlpaGq6trvsf9/vvvrF%2B/nujoaLP2TZs2sXTpUs6ePUu9evWYMmUKVapUeYCryp8q2CIiIiJi4uhYIB9RUVE89dRTZh/3UoEGSE1N5aGHHjJry0u2U1JSbnvc4sWLefrpp3F3dze2VatWjerVq/PRRx%2BxdetW3N3def7558nIyHiAwcqfKtgiIiIiUuB69%2B5NSEiIWZunp%2Bc9H28wGO4rXmpqKp9//jlfffWVWfukSZPMvp8yZQqBgYH8/PPPNG3a9L5i3I4SbBERERExKaApIl5eXvc0HSQ/7u7upKammrWlpqbi4OBgVp2%2B2datW3nkkUfw8fG547ldXV1xc3MjMTHxgfqWH00RsbLmzZuzbt26Ajn3%2BPHjGTNmzG239%2BrVi/nz5xdIbBERERF7qVOnDmfPnuXixYvGtpiYGB577DFKly6d7zFbt26lefPmZm1paWlMmjTJLJm%2BePEiFy9evGsifj%2BUYP%2BFTJ06lbffftve3RAREZG/swKag22JWrVq4e/vz5w5c0hLS%2BP48eOsWLGCvn37AtChQwd%2B%2Bukns2MOHz5M5cqVzdpcXV3Zv38/U6dOJTU1lUuXLjF58mT8/PwICAiwqI83U4ItIiIiIiaFMMEGmDdvHklJSTRv3pxnnnmG7t27069fPwDi4%2BO5du2a2f7Jycl4eHjccp733nsPg8FA%2B/btCQoKIjMzk8WLF9/ywBpLFIk52D179qR169aEhYUZ26ZOnUp8fDxTpkzhzTffZN%2B%2BfeTk5BAcHMwbb7yBq6sru3fvZvjw4URGRjJ9%2BnTOnTtHw4YNeeedd3BzcyMrK4u33nqLjRs3Urx4cUaOHGkW98aNG8yaNYvo6GhSUlKoU6cO48ePp2bNmgD4%2Bfnx6quvsnTpUp555hmGDBlyx%2BsYN24cN27cIDIyEsj9AVmzZg2ZmZk888wzVh41ERERkcKjQoUKLFmyJN9tR44cuaXt4MGD%2Be5bqVIlFixYYNW%2B/VmRSLA7dOjAF198YZZgb926lbCwMIYPH06DBg2IjIzk2rVrvPTSS8ycOZM333wTgOvXr/Pll18SFRXF9evX6dGjBx9//DGDBw/m008/5f/%2B7//46KOPqFixIjNnzuTSpUvGGJGRkezZs4fVq1fj4eHBnDlzGDp0KNHR0RQvXhyA6Oho1q9fT7ly5e7rmnbu3MnixYtZvnw5derUYcmSJRw9epSWLVve8znyXY/Sw%2BOBb0D4y7Lin4TuWY0a5p9t6TZrhRa4kiXNP4uISOFUSJ/k%2BFdSZBLsWbNmkZCQgLe3NwcPHiQ5OZnq1atz7Ngx1qxZQ8mSJSlZsiTh4eEMGjSIKVOmAJCdnc3zzz%2BPm5sbbm5uNGzYkBMnTgCwZcsWunTpQrVq1QB48cUXzdZzXLt2LVOmTDHO/4mIiGD16tXs3buXJk2aAPDEE0/k%2B%2BeLu9myZQutWrWiYcOGAAwdOpRVq1bd1zmioqJueQcXNmIE4X%2BqxNuUg4PtY%2B7da/uYeT76yH6x7aVWLXv3wLacnOzdA9sratdsj9cte7PHNdvz58oesbOzbR9TrKZIJNje3t74%2B/sTHR3NwIED2bJlCy1btuTUqVNkZ2cTGBhotn92drbZouU3T5AvWbIk6enpACQmJhIUFGTc5u7ublz0/NKlS1y5coVHH33UuL106dKUK1eOhIQEY1ulSpUe6JoSExN55JFHjN87OzvfMpH/bvJdj9LDA%2B5znUmrcXCwT%2Bw/3qTYVI0aucl1v34QF2fb2Lf581qBK1kyN7k%2BdAiuX7dt7Pr1bRsvj5NT0fslaa9rtlfFzV6vW/Zkr2vOybF9TCia/49VwbZYkUiwIbdSfHOC/cILL1CiRAlKlSrFvn377njs7Sa9Z2RkkJWVZdaW88cLwJ2eBuRw0zt/pwd8V3yn2Pcq3/Uoi9ovCoC7/PsXqLg428dPS7NtvD%2B7ft3%2BfRARkdtTgm2xIjOC7du3Z%2B/evezfv5%2BEhARCQkKoUqUK165d49SpU8b90tLS7vjIzZt5eXlx7tw54/dJSUlcvnwZgHLlylG6dGnjdBLIrWpfuHDBKs%2B6/3PsjIwMs%2BsQEREREfsoMgm2t7c3tWvX5u2336Z169aULl0aX19fAgICmDZtGhcvXuTy5ctMnDjxjg9zuVnLli3ZuHEjv/32G2lpaURGRlKiRAkgt%2BrduXNnFi9ezLlz57h27RqzZ8/Gx8fHKusstmrVip07d3LgwAHS09NZsGDBfVewRURERG5RSJfp%2ByspUlebtwh5p06djG1z5szBYDDQpk0b2rVrR3Z2NjNmzLin84WGhhIcHEyvXr3o0KEDAQEBVKhQwbh93Lhx1KxZk549exIcHExycjIrVqx44GkhN3viiSd45plnGDZsGK1bt6Z48eLUt9c8UxERERExcjAYiuKkW7kte/442OvGGXu8qw4IyF29pEED28/B3r7dtvHyuLrm3lD688%2B2n4PdooVt4%2BUpijdH6SbHvz/d5Gjb2Pbw5JMFc97PPiuY8xZCReYmRxERERG5B0VsOkdBUIJdSCxbtoy5c%2Bfednu3bt2YOnWqDXskIiIiIg9CCXYhMWjQIAYNGmTvboiIiEhRpwq2xTSCIiIiIiJWpAq2iIiIiJiogm0xJdgiIiIiYqIE22IaQRERERERK1IFW0RERERMVMG2mEZQRERERMSKVMEWERERERNVsC2mBFtERERETJRgW0wjKCIiIiJiRapgi4iIiIiJKtgW0wiKiIiIiFiRKtgiIiIiYqIKtsWUYIuIiIiIiRJsi2kERURERESsSBVsERERETFRBdtiGkEREREREStSBVtERERETFTBtpgSbBERERExUYJtMY2giIiIiIgVqYItIiIiIiaqYFtMCbbI9u22j%2Bnqmvt5yRJIS7Nt7KAg28bLExAAe/fC4MGwb59NQ2dnGWwaL48TkI2TXWLbi72u2V7pgANgwMFO0e3DXtfskJVl85g4OICTE2Rng8EOryNORev14%2B9ECbaIiIiImKiCbTEl2CIiIiJiogTbYhpBERERERErUgVbRERERExUwbaYEmwRERERMVGCbTGNoIiIiIiIFamCLSIiIiImqmBbTCMoIiIiImJFqmCLiIiIiIkq2BZTgi0iIiIiJkqwLaYRFBEREZFCLyEhgSFDhhAYGEhwcDCzZs0iJyfnlv3mz59PzZo18ff3N/s4f/48ADdu3OCNN96gVatWBAYGMnLkSFJSUqzaVyXYIiIiImLi6FgwHxYKDw%2BnfPnyREdHs2LFCqKjo1m5cmW%2B%2B3br1o2YmBizDw8PDwAiIyOJjY0lKiqKzZs3YzAYePXVVy3u382UYIuIiIhIoRYTE0NcXByjR4%2BmTJkyVK1aldDQUKKiou7rPFlZWaxdu5bhw4dTsWJFypYtS0REBNu3bycxMdFq/dUcbBERERExKaA52ElJSSQnJ5u1eXp64uXldddjY2Nj8fb2xs3NzdhWu3Zt4uPjSUtLw9XV1Wz/I0eO0KdPH44ePUrFihV59dVXadGiBSdPnuTKlSvUrl3buG%2B1atVwcXEhNjaW8uXLW3iVuZRgi4iIiIhJASXYUVFRLFiwwKwtLCyM8PDwux6bmprKQw89ZNaWl2ynpKSYJdgVKlTAx8eHl19%2BGS8vL6Kiohg2bBgbNmwgNTUV4JZzPfTQQ1adh60EW0REREQKXO/evQkJCTFr8/T0vOfjDQbDPe3Xs2dPevbsafw%2BNDSUL7/8kg0bNtCqVWTzGWwAACAASURBVKv7OteDUoItIiIiIiYFVMH28vK6p%2Bkg%2BXF3dzdWn/Okpqbi4OCAu7v7XY/39vYmKSnJuG9qaiqlS5c2br906RLlypV7oL7lRzc5ioiIiEihVqdOHc6ePcvFixeNbTExMTz22GNmiTLAwoUL2bVrl1nb8ePH8fHxwcfHBzc3N2JjY43bjh49SkZGBnXq1LFaf5Vgi4iIiIhJIVymr1atWvj7%2BzNnzhzS0tI4fvw4K1asoG/fvgB06NCBn376CcitTk%2BePJkTJ05w48YNli9fzsmTJ3nyySdxcnKiV69evP/%2B%2B5w9e5aUlBTeeecd2rVrZ1zGzxo0RURERERETArpkxznzZvHhAkTaN68Oa6urvTp04d%2B/foBEB8fz7Vr1wB4%2BeWXgdy516mpqTz22GN88MEHVKhQAYCRI0dy9epVunXrRlZWFsHBwUyaNMmqfXUwFPQsb/lrseePg4ODfeLv2GH7mK6u0LAh/PwzpKXZNnZQkG3j5QkIgL17oUED2LfPpqGzs%2Bzzc%2B3kBNnZdgltN/a6ZnvlA/Z62bIne12zQ8YNOwR1gOLFISPDPhddooTtYwK89VbBnNfKD3MpzFTBFhERERGTQlrB/ivRCIqIiIiIWJEq2CIiIiJiogq2xZRgi4iIiIiJEmyLaQT/Rr7%2B%2Bmt%2B//13e3dDREREpEhTgv03Mm/ePCXYIiIiYplCuA72X819X%2B3p06fx8/Nj8%2BbNdOrUibp169K/f3%2BSk5MB2LBhAx07diQgIICQkBA%2B%2Bugj47Hx8fGEhobSqFEjGjduTFhYGCkpKQDs37%2BfXr16ERAQQGBgIK%2B//jrp6ekApKenM2XKFIKCgqhfvz4DBgzg119/NZ7Xz8%2BPr7/%2Bmr59%2B1K/fn26dOnCoUOHjNs/%2BeQTmjVrRqNGjZg1axavv/4648aNM25fvXo1TzzxBPXq1aNTp05ER0cbtw0YMIBZs2bRpUsXhgwZck9jtHPnTrp27Ur9%2BvXp1q2b2dOEfvrpJ%2BN1tmjRgsjISHJycgAYN24co0aNMu5748YN/Pz82L17t7Ev77//Pq%2B88goNGjSgZcuWfP755wB07dqVY8eOMXz4cF4tQsvgiIiIiBQ2DzwHe/Xq1SxfvhwXFxfCwsKYNGkS48aNY%2BzYsSxbtoymTZvyww8/8Nxzz9GgQQNq1KjBm2%2B%2BSYMGDVi6dClXr15l7NixLFq0iNdee40xY8bw/PPP8/TTT3P%2B/HmGDx9OVFQUAwcOZPbs2Rw6dIioqCjc3NyYN28eYWFhfPXVVzg4OACwdOlSZsyYQcWKFQkLCyMyMpIlS5YQGxvLhAkTePfddwkKCmLJkiV88sknhISEALnTKhYsWMDSpUupUaMG27ZtIyIigq%2B//ppKlSoB8OWXXzJv3jz8/f3vOi6JiYmEh4czbdo02rVrxxdffMGIESPYtm0bWVlZDBo0iDFjxtCzZ09%2B/fVXBg8ejJeXF//617/uadw//PBDpk%2BfzvTp03n//feZMmUKHTt2ZMOGDfj5%2BbFw4UJatWp1T%2BdKSkoyvjHK4%2BnhgZeX1z0d/7fh6mr7mCVLmn%2B2pYAA28cEqFHD/LOIyP344/e9XWLaI7Y9F1gvYtXmgvDACXa/fv0oX748kPuknIiICObNm8cPP/yAm5sbAE2bNqVcuXLExsZSo0YNLl%2B%2BjIuLC8WKFcPNzY2FCxfi%2BMc/4uXLlylVqhSOjo54eXnx8ccf4%2BjoSE5ODuvWrWPu3LnGeBEREaxevZoDBw5Qr149ALp168ajjz4KQEhICMuWLQNgx44d%2BPn50b59ewBeeOEFPvnkE%2BN1rF27lh49ehifP//Pf/6Thg0bsnHjRmPFum7dutStW/eexuWrr77Cx8eHjh07AvDUU09RokQJcnJy2LhxI5UqVTIm07Vq1aJbt2589dVX95xgBwQE0LJlSwCeeOIJFixYQFJSEt7e3vd0/M2ioqJYsGCBWVvYiBGEjxx53%2BeyGnu8iDVsaPuYeWrVsn3MvXttH/NmN/1Vy1acbB7xptj2DG4nRe2a7fGyZW92uebixe0Q9A/OzraPecMOD9bJowTbYg%2BcYD/yyCPGr729vcnIyODSpUt8/PHHrF27lqSkJAwGAxkZGWRkZAAQFhbGK6%2B8wvr162nRogWdO3c2Jq4vvfQSr732GsuWLaNFixZ069aNatWqceHCBa5evcrw4cON1WqAnJwczp49a0ywK1eubNxWsmRJbvzxg5mcnGyWfDo5OVHrpqTm5MmTfPfdd6xcudLYZjAYeOyxx8yu716dPHnSrC8AnTp1AnKn11SrVs1s2z/%2B8Q%2B%2B%2Buqrez7/zed2cXEBME6luV%2B9e/c2VvLzeHp42O9ds70eD2aPhLNkydzk%2BtAhuH7dtrEHD7ZtvDw1auQm1/36QVycTUNn77HPmwo9ydF29CRH27HbkxwzM%2BwQ1CE3uc7MLHr/0GKRB06w8%2BYNQ25CCrnV4MWLF7Nw4UIaN26Mk5MTrVu3Nu4XFBTE9u3b%2Bd///sfWrVvp378/Y8aMoX///vTs2ZO2bduybds2tm7dSvfu3YmMjCQwMBCA//73v8Yqc34cbvN2Oicnh2LFzC/T8aZXYhcXF15%2B%2BWWee%2B65257b6T7KMXlV9/zkvdH4s9v1PTuf31KOVvwt4uXldet0kKL4AmLrR5Xf7Pp128e38WPKbxEXZ/8%2BiMhfjz1/PxkMRev3oyrYFnvgETx58qTx64SEBFxcXDh9%2BjSNGjWiSZMmODk5kZycTFJSknG/lJQUSpcuTceOHZkzZw6TJ08mKirKuO3hhx/m6aefZuHChQwdOpS1a9dSpkwZypYty5EjR8zinz59%2Bp76Wa5cOc6cOWP8Pjs72%2BwGyCpVqtxy7jNnzhjfNNyvypUrEx8fb9a2evVqTp06RZUqVThx4oTZthMnTuDj4wNA8eLFuX5TNfPmMRYRERGRv4YHTrDXrFnD%2BfPnSU1NZeXKlbRu3Rpvb29OnDjBpUuXSEhIYOrUqVSqVInExETS09Np3749n3/%2BOVlZWaSnpxMbG0uVKlU4d%2B4cISEh7Ny5k5ycHK5cucLRo0epUqUKAH369GHRokUcP36czMxMPvjgA3r06GGWjN5OkyZNOHjwINu3bycjI4NFixaZTano3bs3mzZtYvv27WRlZfHDDz/QuXNn9u/f/0Dj0rlzZ86ePcvHH39MRkYGX375Je%2B88w6lS5fmiSee4NSpU0RFRZGVlcWBAwf47LPPePLJJwGoWrUq%2B/fv59y5c1y5coXly5ffV/W8RIkS/P7776TZsyIrIiIif21aps9iDzxFpGvXrgwcOJCTJ09Sv359Jk6ciLOzMz/%2B%2BKMx2Z40aRIHDx5k7ty5eHp68u677/L2228zceJEXFxcaNSoEW%2B88Qbly5dn2rRpTJs2jTNnzuDq6kqrVq0Y%2BcfNdsOHD%2Bfy5cv069ePzMxMatasyZIlSyh5DyswNG7cmIiICEaPHo2zszMDBw4kMDDQOC2jefPmjB07lilTpnD%2B/HkqV67MpEmTqF%2B//gONi4eHB8uWLWPixIlMmzaNqlWr8t577%2BHu7g7AggULePfdd5kxYwZeXl68%2BOKLdO/eHYAePXrw/fff06FDB7y8vBg/frzZkoF306dPH95%2B%2B22%2B//57Fi1a9ED9FxERkSKuiCXDBcHBcJ9zIU6fPk2bNm3YtGnTLTfsFVYZGRkUv%2Bnu4/79%2B9OoUSMiIiLs2KtCyp5zzOx158yOHbaP6eqau3rJzz/bfg52UJBt4%2BUJCMi9obRBA5vPwc7Oss/PtW5ytB3d5Gg7drvJMcMOq2o4OOSuXpKRYZ%2BLLlHC9jEB/v3vgjnv0KEFc95C6G//FuXUqVMEBASwbds2cnJy2LlzJ/v27bvntaJFREREihRNEbHYA08R%2Bavw8fFhxowZzJo1i5deeony5cszceJEGjRocN/nOnDgwB3Xq65UqRKbN2%2B2pLsiIiIi8hd33wl25cqVb1l1o7Dr0qULXbp0sfg8devWJSYmxgo9EhERESmkili1uSD87SvYIiIiInIflGBbTCMoIiIiImJFqmCLiIiIiIkq2BbTCIqIiIiIWJEq2CIiIiJiogq2xZRgi4iIiIiJEmyLaQRFRERERKxIFWwRERERMVEF22IaQRERERERK1IFW0RERERMVMG2mBJsERERETFRgm0xjaCIiIiIiBWpgi0iIiIiJqpgW0wJtoiIiIiYKMG2mEZQRERERMSKVMEWERERERNVsC2mERQRERERsSJVsEVERETERBVsiynBFhERERETJdgW0wiKiIiIiFiRKthixoCD3WI72Cm%2BQ4sWNo9pVL%2B%2BzUNmZxlsHjOPE5C9Z6/t4xazw891QADs3YtT4wawb59tYw8bZtt4eXx84LXXcJo5HU6dsm3sBg1sGw%2BgXDl46ikcPlsHFy7YPr6Xl%2B1jurlBUBAO/9sOly7ZNnaHDraNV5Spgm0xjaCIiIiIiBWpgi0iIiIiJqpgW0wJtoiIiIiYKMG2mEZQRERERAq9hIQEhgwZQmBgIMHBwcyaNYucnJx8912zZg3t27cnICCAbt26ER0dbdw2btw4atWqhb%2B/v/GjUaNGVu2rKtgiIiIiYlJIK9jh4eHUrl2b6OhoLly4wNChQ/Hw8ODZZ58122/z5s3MmTOHf//739StW5f169cTERHBV199hY%2BPDwAvvPAC4eHhBdbXwjmCIiIiIiJ/iImJIS4ujtGjR1OmTBmqVq1KaGgoUVFRt%2Bybnp7OSy%2B9RMOGDXF2dqZnz56ULl2aX375xWb9VQVbREREREwKqIKdlJREcnKyWZunpyde97DkZGxsLN7e3ri5uRnbateuTXx8PGlpabi6uhrbu3XrZnbs5cuXuXr1KuXLlze2/fDDD2zdupXff/%2BdatWqMWnSJOrUqfOgl3YLJdgiIiIiYlJACXZUVBQLFiwwawsLC7unqRqpqak89NBDZm15yXZKSopZgn0zg8HA%2BPHjqVevHo8//jgAPj4%2BODo68uKLL1K6dGkWLFjAc889x%2BbNm3n44Ycf5NJuoQRbRERERApc7969CQkJMWvz9PS85%2BMNhvt7UFpmZibjxo3j119/ZdWqVcb2ESNGmO33yiuvsHHjRqKjo%2BnZs%2Bd9xbgdJdgiIiIiYlJAFWwvL697mg6SH3d3d1JTU83aUlNTcXBwwN3d/Zb909PTGT58ONevX%2BfDDz%2B8Y2XaycmJihUrkpSU9EB9y49uchQRERGRQq1OnTqcPXuWixcvGttiYmJ47LHHKF26tNm%2BBoOBUaNGUaxYMT744AOz5NpgMPDWW28RFxdnbMvIyODkyZPGFUasQQm2iIiIiJg4OhbMhwXy1q2eM2cOaWlpHD9%2BnBUrVtC3b18AOnTowE8//QTAF198wa%2B//sq7775LiRIlzM7j4ODA6dOnmTx5MomJiVy9epXZs2fj7OxM27ZtLerjzTRFRERERERMCuk62PPmzWPChAk0b94cV1dX%2BvTpQ79%2B/QCIj4/n2rVrAHz66ackJCQYb2rM061bN6ZOncq0adOYOXMmTz31FGlpadStW5eVK1dSqlQpq/VVCbaIiIiIFHoVKlRgyZIl%2BW47cuSI8euVK1fe8Txly5blrbfesmrf/kwJtoiIiIiYFNIK9l%2BJRlBERERExIpUwRYRERERE1WwLaYEW0RERERMlGBbTCMoIiIiImJFqmCLiIiIiIkq2BbTCIqIiIiIWJEq2CIiIiJiogq2xZRgi4iIiIiJEmyLaQRFRERERKyoQBLs9evXExISctf9du/ejZ%2BfHzdu3CiIbtyRn58fO3bsKPA448ePZ8yYMVY51/Hjx/Hz8%2BP06dNWOZ%2BIiIjILRwdC%2BajCCmQKSLdu3ene/fuBXHqv5ypU6cav87OzmbVqlU8%2B%2ByzduyRiIiIiBSkovV2ws4OHTrE0qVL7d0NERERkdtTBdtiD3y1p0%2Bfxs/Pj82bN9OpUyfq1q1L//79SU5OZt26dTRv3ty4b2xsLL1796Z%2B/fq0b9%2BeTZs25XvOmJgYGjZsyHfffZfv9JFRo0Yxbtw4AObPn09oaCgLFy4kMDCQhg0b8u677z7Qtdy4cYOpU6cSFBREvXr1%2BNe//sXhw4eN2/38/Pj666/p27cv9evXp0uXLhw6dMi4/ZNPPqFZs2Y0atSIWbNm8frrrxv7OW7cOEaNGsWBAwfo06cP58%2Bfx9/fnx9%2B%2BMG47eZ%2B%2BPn5sXv3bgAuXLjA888/T0BAAJ06deLAgQNm/U5ISGDYsGEEBgbSuHFjxowZQ1pa2gONgYiIiAigBNsKLL7a1atXs3z5cr799lscHByYNGmS2fbr168zdOhQ/vnPf/Ljjz/yxhtvMHbsWI4fP262X2JiIiNGjODVV181S87vZP/%2B/WRmZvLtt9%2ByePFiVqxYQXR09H1fQ2RkJHv27GH16tXs3r2bWrVqMXToUDIyMoz7LF26lGnTprFr1y68vLyIjIwEct88TJgwgYkTJ/Ldd99RsmRJtmzZckuMunXr8uabb%2BLh4UFMTAxNmjS5a7%2BmT5/OjRs32L59O8uXL2fdunXGbQaDgeHDh1OxYkW2b9/O//3f/5GYmMjMmTPv%2B/pFRERExHosnoPdr18/ypcvD0BoaCgREREEBwcbt%2B/cuZPMzExCQ0NxcnKiefPmzJ07FxcXF%2BM%2BN27cYMSIETz55JP06NHjnmM7OjoyYsQIihUrRsOGDWnRogXbt2%2Bnbdu293UNa9euZcqUKVSuXBmAiIgIVq9ezd69e42JcLdu3Xj00UcBCAkJYdmyZQDs2LEDPz8/2rdvD8ALL7zAJ598cl/xbyc6OprIyEjc3Nxwc3Ojf//%2B/Pjjj0Butf/YsWOsWbOGkiVLUrJkScLDwxk0aBBTpkzBwcHhrudPSkoiOTnZrM3DwxMvLy%2Br9F%2Bk0AgIsH3MGjXMP9uSj4/tYwL88bvA%2BNmWypWzfcyyZc0/25qbm%2B1jurqaf7ale/i9VmAx7RHbYLB9zDxFrNpcECxOsB955BHj197e3mRkZJCammpsO3nyJBUqVMDJycnY1qZNGwDjahivvfYa58%2Bf58UXX7yv2FWqVKFYMdMlVKpUid9%2B%2B%2B2%2BznHp0iWuXLliTJ4BSpcuTbly5UhISDC25SXfACVLljROXUlOTsbb29u4zcnJiVq1at1XH/KTkpJCenq6WdyqVasavz516hTZ2dkEBgaaHZednU1KSgru7u53jREVFcWCBQvM2kaMCGPkyHDLOm8Be7yGcdPPZlGIbcerzY1vjw7s3WuHoH/46CP7xbaXQYPs3QPbuodVs/52GjWydw9sy9nZ9jHtsMKaWI/FCXZOTo7xa8Mf77Zurp46Ojqa7ZOf9PR0srKy%2BPDDDxkwYMBt98vOzr7j9waD4Z4qtze7eRrIn918rtudNycnxyzJh9xrfhA3X09ev25uM9z0brZEiRKUKlWKffv2PVAsgN69e9%2BynKKHh6fd3jQ7ONjnDbtDTvbddyoITk6QbfvY2XZMse10yTg1bmD7oDVq5CbX/fpBXJxtY9/HXwKtqnz53OR62TJITLRtbHv8paBs2dzkets2uKmwZDP3UEixOlfX3OT6p5/A1vf8NGtm23iQ%2B4vJ2RkyM%2B1bUbY1VbAtZnGCffLkSWPFNiEhARcXF8re9OcyHx8fEhISyMjIoHjx4kDuOtl%2Bfn7GfebNm8ePP/5IREQELVq04JFHHqFEiRJA7hzuvK9PnTpldtzZs2fJysoyJrhnzpwxTle5V%2BXKlaN06dKcOHGCGn%2B8QF%2B6dIkLFy5QpUqVezr%2B4MGDxu%2Bzs7M5dOjQLZXl/BQvXvyWan8ed3d3nJ2dOXv2LDVr1gTg119/NW6vUqUK165d49SpU/j88efgtLQ0MjMzefjhh%2B8aG8DLy%2BuW6SBF6fVDihAL3ohaLC7O9vHv4fWnQCUmwqlTto3p6WnbeDdLTYULF2wf155/fUtLg0uXbBvTnr%2BgDIai9QtSCbbFLB7BNWvWcP78eVJTU1m5ciWtW7c2q/a2atWKUqVK8f7773Pjxg1%2B/PFHJk6caDZlxMnJiaCgIDp27MjYsWPJzs6mcuXKODk5sXnzZrKysvjss884e/asWeysrCyWLl1KRkYGP/30E9999909PeDmZo6OjnTu3JnFixdz7tw5rl27xuzZs/Hx8SHgHuZtNmnShIMHD7J9%2B3YyMjJYtGgR6enp%2Be7r4uLClStXSExMJD09napVq7J//37OnTvHlStXWL58uXFcnJ2dadKkCatWreLKlSskJCTw4YcfGs/l6%2BtLQEAA06ZN4%2BLFi1y%2BfJmJEyda7aE2IiIiIvJgLE6wu3btysCBA2nZsiUAEydONNtevHhxVqxYwf/%2B9z8aN27MhAkTmD59Or6%2BvrecK28u9r///W88PDwYPXo0c%2BfOpUmTJhw%2BfJiOHTua7V%2B9enWysrJo2bIlQ4cOZdCgQQQFBd33NYwbN46aNWvSs2dPgoODSU5OZsWKFWZvAm6ncePGREREMHr0aFq3bk2xYsUIDAzMd0pJkyZNqFy5Mm3btmXbtm306NGD2rVr06FDB55%2B%2Bmk6d%2B5sdvPntGnTgNw3KYMHD2bgwIFm55szZw4Gg4E2bdrQrl07srOzmTFjxn1fv4iIiIiRlumzmIPB8GB/8zh9%2BjRt2rRh06ZNVKtWzdr9uqv58%2Bfz7bff8vHHH9s89p/dPP0FoH///jRq1IiIiAg79urB2PMvYJqDbRtFcg52MTvcPRsQkHtzZYMGtp8iMmyYbePl8fGB116D6dNtP0WkgR3m2ZcrB089BevW2WeKiD1WfHJzg6Ag2L7d9lNEOnSwbTzI/cVUvDhkZNjnF9QfU2RtrqD%2B/9prhSM7KFpvJwrAqVOnCAgIYNu2beTk5LBz50727dtHq1at7N01EREREbEDi29yLIy6du1KfHz8bbcvX76cxo0bWyWWj48PM2bMYNasWbz00kuUL1%2BeiRMn0sAe1RQRERERSxWx6RwF4YET7MqVK3PkyBFr9uW%2BhIeHEx6e/3rNGzZssGlfunTpQpcuXWwaU0REREQKp79lBVtEREREHpAq2BZTgi0iIiIiJkqwLaYRFBERERGxIlWwRURERMREFWyLaQRFRERERKxIFWwRERERMVEF22JKsEVERETERAm2xTSCIiIiIiJWpAq2iIiIiJiogm0xjaCIiIiIiBWpgi0iIiIiJqpgW0wJtoiIiIiYKMG2mEZQRERERMSKVMEWERERERNVsC2mERQRERERsSJVsEVERETERBVsiynBFhERERETJdgW0wiKiIiISKGXkJDAkCFDCAwMJDg4mFmzZpGTk5PvvqtWraJ9%2B/Y0aNCAvn37cvDgQeO2Gzdu8MYbb9CqVSsCAwMZOXIkKSkpVu2rEmwRERERMXF0LJgPC4WHh1O%2BfHmio6NZsWIF0dHRrFy58pb9tm3bxvz583n77bf5/vvvCQ4OZtiwYVy7dg2AyMhIYmNjiYqKYvPmzRgMBl599VWL%2B3czJdgiIiIiUqjFxMQQFxfH6NGjKVOmDFWrViU0NJSoqKhb9o2KiuKpp56iXr16uLi48PzzzwPwzTffkJWVxdq1axk%2BfDgVK1akbNmyREREsH37dhITE63WX83BFhERERGTApqDnZSURHJyslmbp6cnXl5edz02NjYWb29v3NzcjG21a9cmPj6etLQ0XF1dzfbt2LGj8XtHR0dq1qxJTEwMNWvW5MqVK9SuXdu4vVq1ari4uBAbG0v58uUtuUQjJdgi8vc3bJjtY/r45H7u0QMCA20b%2B/33bRsvT0AAvPYarF0L%2B/bZNvYXX9g2HsBDD%2BV%2B9vCA4sVtH3/PHtvHrFgRgoIgLg7OnrVp6NMNu9k0HoCzM5QvD4kpxcnMtHl4Kle2fUwAAw4Fct6oqCgWLFhg1hYWFkZ4ePhdj01NTeWhvP9zf8hLtlNSUswS7NTUVLNEPG/flJQUUlNTAW4510MPPWTVedhKsEVERESkwPXu3ZuQkBCzNk9Pz3s%2B3mAwWG3f%2BznXg1CCLSIiIiJGt1mYw2JeXl73NB0kP%2B7u7sbqc57U1FQcHBxwd3c3a3/44Yfz3bd69erGfVNTUyldurRx%2B6VLlyhXrtwD9S0/uslRRERERAq1OnXqcPbsWS5evGhsi4mJ4bHHHjNLlPP2jY2NNX6fnZ3NoUOHqFevHj4%2BPri5uZltP3r0KBkZGdSpU8dq/VWCLSIiIiJGOTkF82GJWrVq4e/vz5w5c0hLS%2BP48eOsWLGCvn37AtChQwd%2B%2BuknAPr27cv69ev55ZdfuH79OosWLaJ48eIEBQXh5OREr169eP/99zl79iwpKSm88847tGvXDg8PD0uHzkhTRERERETEqKCmiFhq3rx5TJgwgebNm%2BPq6kqfPn3o168fAPHx8cZ1rlu1asVLL71EREQEFy5cwN/fn8WLF%2BPi4gLAyJEjuXr1Kt26dSMrK4vg4GAmTZpk1b4qwRYRERGRQq9ChQosWbIk321Hjhwx%2B75fv37G5PvPihcvzsSJE5k4caLV%2B5hHCbaIiIiIGBXWCvZfieZgi4iIiIhYkSrYIiIiImKkCrbllGCLiIiIiJESbMtpioiIiIiIiBWpgi0iIiIiRqpgW04VbBERERERK1IFW0RERESMVMG2nBJsERERETFSgm05TREREREREbEiVbBFRERExEgVbMspwRYRERERIyXYltMUERERERERK1IFW0RERESMVMG2nCrYIiIiIiJWpAq2iIiIiBipgm05JdgiIiIiYqQE23KaIiIiIiIiYkWFIsFev349ISEhd91v9%2B7d%2BPn5cePGDRv0ypyfnx87duy47%2BP27NmDv78/GRkZVulHr169mD9/vlXOJSIiIvJnOTkF81GUFIoEu3v37mzbts3e3bCar7/%2Bmt9//x2Axo0bExMTQ/HixW/ZJiIiIiJ/P4Uiwf67mTdv3m2T6DttAO/4agAAIABJREFUExEREbE3VbAtZ7ME%2B/Tp0/j5%2BbF582Y6depE3bp16d%2B/P8nJyaxbt47mzZsb942NjaV3797Ur1%2Bf9u3bs2nTpnzPGRMTQ8OGDfnuu%2B/ynT4yatQoxo0bB8D8%2BfMJDQ1l4cKFBAYG0rBhQ959990HupaLFy8ycuRImjZtSqNGjRg8eDBnz54FoGvXrhw7dozhw4fz6quvmvXrTtvy6zPAe%2B%2B9R4sWLQgMDOS9994z60dOTg7z5s2jbdu21KtXj6effpqff/75ga5JREREBJRgW4PNVxFZvXo1y5cvx8XFhbCwMCZNmkSbNm2M269fv87QoUN59tln%2Bc9//sOePXsYNmwYfn5%2BZudJTExkxIgRvPrqqzRv3pzdu3ffNfb%2B/fsJCAjg22%2B/JSYmhkGDBlG7dm3atm17X9cwa9Ysrl79f/buPCyquv0f%2BHtEgRTBEEEFXLIexVQcFDVTNFBRUEnDPXIpQ8EFyjU1k5Q23BJ3XEsNQxJcvo%2B7mUsqjwtIYgqGgOyKiggDw/z%2BIM6PEVRwZs6R4f26Lq6ZOefMue/DsNxzz%2Bd8zmMcO3YMKpUKfn5%2BCAwMxKpVqxAZGYnWrVtjzZo1cHJyUsvreesqcvr0aWzYsAGbN29Gu3btsHHjRvz999/o2bMnAGDbtm04cOAAQkJC0LRpU4SGhmLy5Mk4efIk6tat%2B8LjyMjIQGZmptoyC4tGsLS0rNL3g%2BiVZ2srfkwrK/VbMcnl4scEgDZt1G/FZGoqfkwTE/VbsTVpIn5MCwv1WxHVqSN6SNSurX4rpsJC8WOS9oj%2BIzN69GhY/fsPZ9y4cfDz88N7770nrD99%2BjQKCwsxbtw4GBgY4N1338WKFStgbGwsbFNQUABfX18MGTIEnp6elY5dq1Yt%2BPr6onbt2ujUqRN69OiBkydPVrnAXrRoEYqKioQitk%2BfPli3bl2V9lEZR44cgZOTEzp16gQA8Pb2xvbt24X1YWFhGDduHFq0aAEA8PLywrZt23Dy5Em4ubm9cP%2BhoaEIDg5WW%2BbrOwXTpk3V3kFUkUwmQVADAwmCShdbwqMtiS9FAl98IUHQf338sfgxpTxeANi5U9r4YnNwkCauk5M0cQGgCv97tUWCt6qChg3Fj5mcLH7MUjWt26wLohfYLVu2FO5bW1tDoVAgJydHWHbnzh00btwYBmX%2BC5d2uJP//Wn74osvkJWVhenTp1cpdrNmzVC7zNvQpk2b4p9//qnyMSQmJuLbb79FdHQ08vPzUVxcjAYNGlR5Py%2BSnp6u9v2qU6cObGxshMd37tzBkiVLEBgYKCwrLi4Whqu8yIgRI8rN3mJh0QgqlYaJvySZDJLElhUrxQ8KlFSaSvFjKyUssSU6ZBh8F/jijbTNyqqkuN60CUhPFzd2WJi48Uq1aVNSXI8eDcTFiRt7xQpx4wElnWsHB%2BDSJSA3V/z4f/0lfkwLi5LiOiwMyMoSNXT6kEmixgNKOtcNGwLZ2UBRkejhqRoTvcAuLvO2SPVvNSUr07asVauW2jYVyc/PR1FREXbs2AEvL69nbqd86j/5049VKpVa7MooLi6Gt7c3OnXqhEOHDsHc3By//vorVmjpj3vZHBUKBYqe%2Bo0u%2B70xNjbG4sWL4erq%2BlKxLC0tyw0Hkaq4JtKppCTpYqenix//8mVx4z0tLk78HB4%2BFDdeWbm50sSvZDNFJ7KyRI8v5ZCJoqKaNWSDHWzNiT6LyJ07d4T7KSkpMDY2Vuv%2B2traIiUlRW3e6L179%2BL69evC4x9//BGLFy/G0qVLcfv2bQCAkZERgJIx3KWSnvqnlpqaqlaw3r17VxiuUllZWVlISUmBl5cXzM3NAQB/vWQX4UU5W1paIi0tTXisUCjU1tva2uLGjRtq%2B0yW8jMlIiIiqvZ4kqPmRC%2Bwd%2B3ahaysLOTk5GDbtm3o1auXWhfZyckJdevWxbp161BQUIALFy5g4cKFakNGDAwM0Lt3b7i5uWH27NlQKpWwsbGBgYEBDh06hKKiIvz222/lhkoUFRUhJCQECoUCUVFROHPmTKUucFOWubk56tatiytXrqCgoAD79u3D9evXkZubi8ePHwMoKZwTExORW8FHhmXXvShnJycnnD59WhiKEhwcrNbBHjlyJHbs2IErV65AqVTi4MGDGDhwIO7evVulYyIiIiIi7RG9wB48eDDGjh0rzISxcOFCtfWGhobYsmULfv/9dzg6OmLBggUIDAzEf/7zn3L7Kh2LvX79elhYWGDGjBlYsWIFunXrhuvXr5c70e%2Btt95CUVERevbsCW9vb3z88cfo3bt3lfKvXbs2vvrqK2zYsAHdu3fHxYsXsWrVKjRu3Bj9%2BvUDUFL4fv/995g5c2a555dd96KcBwwYgI8%2B%2BgiTJk1Cr169YGhoiI4dOwrrPT09MXr0aEyZMgWdOnVCSEgIgoOD0bRp0yodExEREVEpdrA1J1OpxBl1m5ycDBcXFxw8eBCtWrUSI6SaVatW4Y8//sDu3btFj12dSDkGmyc5iqNGnuQ4ZbL4QW1tS2bzCAwUfwy2DmY1qhS5vOSEPwcH8cdg79snbjygZGpAJyfg1ClpxmBfvCh%2BzCZNgEmTSn7GRB6DnTxxkajxgJKpAa2sSk6lkGIMdpl5DUQVG6ub/b79tm72%2ByqSYGZHIiIiInpV1bRusy6wwEbJsJXSkyUrsnnzZjg6OoqYEREREZE0WGBrTrQC28bGptyMF2KaOnUqpk6t%2BAIqkZGRImdDRERERPqKHWwiIiIiErCDrTnRZxEhIiIiItJn7GATERERkYAdbM2xwCYiIiIiAQtszXGICBERERGRFrGDTUREREQCdrA1xw42EREREZEWsYNNRERERAJ2sDXHApuIiIiIBCywNcchIkRERERUreXk5MDPzw/du3dHjx49MG/ePOTn5z9z%2B8OHD2Pw4MGQy%2BVwdXXF7t27hXWrVq2CnZ0d2rdvr/aVlZVV6XzYwSYiIiIiQXXsYC9YsAAKhQL79%2B9HYWEhpk%2BfjqCgIMyfP7/cttHR0ZgxYwaWLVuG3r1748yZM/D19cUbb7yBzp07AwA8PDzw7bffvnQ%2B7GATERERUbWVlZWFo0ePwt/fH%2Bbm5rCysoKPjw/27NmDwsLCctvn5OTA29sbffr0Qe3atdGrVy/85z//QVRUlNZyYgebiIiIiAS66mBnZGQgMzNTbVmjRo1gaWmp0X6vX78OAwMDtG7dWlj29ttvIy8vDwkJCWrLAcDJyQlOTk7C46KiImRmZsLKykpYduPGDYwcORJ///03mjRpgrlz56JHjx6VzokFNhEREREJdFVgh4aGIjg4WG3ZlClTMHXqVI32m5OTAxMTE8hkMmGZmZkZAOD%2B/fsvfH5QUBDq1q0LNzc3AEDjxo1ha2uLzz//HJaWlggNDcWkSZMQGRmJN954o1I5scAmIiIiIp0bMWIEnJ2d1ZY1atSoUs%2BNiIjArFmzKlzn7%2B8PlUpV5XxUKhWCgoKwf/9%2BbN%2B%2BHUZGRgCAYcOGYdiwYcJ248aNw4EDBxAZGQk/P79K7ZsFNhEREREJdNXBtrS0fOnhIB4eHvDw8Khw3ZkzZ5CbmwulUgkDAwMAJV1tAGjYsGGFzykuLsbcuXMRHR2NXbt2wdbW9rnxra2tkZGRUel8eZIjEREREVVbdnZ2UKlUiIuLE5bFxMTA1NQULVu2rPA5gYGBuHnzZoXF9Zo1a3Du3Dm1ZfHx8S8swstigU1EREREguJi3Xzpirm5OVxdXbFixQrcu3cPaWlpWL16NTw9PVG7dslgjbFjx%2BLgwYMAgP/973%2BIjIzEhg0b0KBBg3L7y8nJwaJFi5CQkICCggJs3rwZd%2B7cwZAhQyqdE4eIEBEREZGgOs6DHRAQgIULF8LFxQV16tTBwIED4e/vL6xPSkrCgwcPAAB79uzBo0eP8N5776ntw9HREZs3b8bnn38OoGTsdU5ODt58801s3boVjRs3rnQ%2BLLCJiIiIqFqrX78%2Bli1b9sz1x48fF%2B4HBgYiMDDwmdsaGRnhiy%2B%2BwBdffPHS%2BbDAJjUyVP0sXG1GlyR%2BLQlHSkkQW%2BpxYZJ8ux0cxI9ZemJNmzZAJc%2BS15p9%2B8SNV8rUtOR2xQrg4UNxYw8aJG48AJDLgUuXAD8/4PJl8ePPmCF%2BzNJLT%2BfnA3l5ooa2qffi6da0zsAAgCmsXnsIGCrFj4/XJYhZPTvYrxoW2EREREQkYIGtOambWUREREREeoUdbCIiIiISsIOtOXawiYiIiIi0iB1sIiIiIhKwg605FthEREREJGCBrTkOESEiIiIi0iJ2sImIiIhIwA625tjBJiIiIiLSInawiYiIiEjADrbmWGATERERkYAFtuY4RISIiIiISIvYwSYiIiIiATvYmmMHm4iIiIhIi9jBJiIiIiIBO9iaY4FNRERERAIW2JrjEBEiIiIiIi1iB5uIiIiIBOxga44dbCIiIiIiLWIHm4iIiIgE7GBrjgU2EREREQlYYGuOQ0SIiIiIiLSIHWwiIiIiErCDrTl2sImIiIiItEjjAnvXrl1wdnbWRi5VFhISgs6dO%2BOrr74CACxZsgRyuRwbNmx44XOdnZ2xa9cuHWcIrFmzBh9%2B%2BKFW9lVQUIDWrVvj/PnzWtkfERER0dOKi3XzVZNU6yEia9euhZ%2BfH7y8vJCTk4Pt27dj7dq1khX8FfHx8YGPj4/weMuWLfDy8kLt2tX6W09ERER6qqYVw7pQrYeI5Obmonnz5gCAx48fA4Dw%2BFV07949fPfdd1AqlVKnQkREREQ6UuUC%2B%2BrVqxg8eDA6duyI8ePHIzs7GwBw/vx5yOVybN26FQ4ODrh8%2BTIA4JdffsGAAQNgb2%2BP/v374%2BDBg8K%2BnJ2dsXXrVowfPx4dOnRAv379cOnSJWF9WloaJk%2BejK5du6JTp07w9/dHTk4OFAoF2rdvD6CkQ%2Bzl5QVXV1cAgIeHB9asWVOlYyouLsbq1avRt29fdOjQAUOGDMG5c%2BfU8vz111/x6aefQi6Xo0%2BfPjh9%2BrSw/uTJk%2Bjduzfkcjnmzp2LlStXwsvLCwCwatUqDB8%2BHFlZWXBycoJKpULnzp0RHh4urCvr3XffRXh4OAAgLy8Pn332GTp37ow%2Bffrg%2BPHjatvm5ORgxowZ6NGjB%2BRyOSZPnoz09PQqHTsRERFRWRwiorkqFdhKpRLTpk1Djx49cP78efj5%2BWH37t3C%2BsLCQiQmJuLs2bPo2LEjjh8/jh9%2B%2BAFff/01oqKiMG3aNMycORM3btwQnrNlyxZMnz4dFy9eRN%2B%2BfeHr64uioiIAJcVz/fr1cezYMRw6dAgZGRlYuHAhDA0NERMTA6BkjPNPP/2E//73vwCAiIgItSEZlbFjxw78%2BuuvCA4ORlRUFAYNGgQfHx/hzQMAbNq0CVOmTMH58%2BfRpUsXBAYGAgAyMjIwdepUjBs3DufPn0enTp2wY8eOcjEsLCywadMmAEBUVBSGDh36wrzWrVuHuLg4HDhwAGFhYcIxlpozZw7y8/Nx4MAB/PHHH6hbty7mzp1bpWMnIiIiIu2q0kDga9euISMjA5MnT4aRkRHs7e3Rt29fnDhxAkBJgT169GgYGxsDAMLCwjBw4EB07twZAODm5obNmzfj0KFDaN26NYCS7nDHjh0BAN7e3ti0aROuXr2KunXrIjY2FuvXr4eJiQlMTEzw6aefwtfXFwqFAoaGhlr7JoSFhWH06NFCThMmTEBISAhOnjyJDz74AADw3nvvoUOHDgAAV1dX7N27F8XFxfjzzz9Rt25deHl5wcDAAJ6enggLC9NKXkeOHMHo0aNhZWUFAJg4caJQZGdnZ%2BPEiRM4ePAgzMzMAAAzZsxA7969kZmZiUaNGr1w/xkZGcjMzFRb1sjCApaWllrJn%2BiV0bCh%2BDEbNFC/FZOpqfgxAcDERP1WTHK5%2BDHbtFG/FZu1tfgxS/%2B3VOJ/jNYZGIgfs1Yt9VsxSTictKZ1m3WhSgV2WloaTE1NUb9%2BfWFZixYt1LZp2rSpcD85ORndunVTW9%2B8eXOkpKQIj1u2bCncL913RkYGateuDTMzM7VCsVmzZigsLER6ejpsbW2rkvpzJScno1WrVmrLmjVrppanjY2NcN/Y2BhKpRKFhYXIzMxE48aNYVDmF79du3ZqXfqXlZaWpha37Pc6KSkJAPD%2B%2B%2B%2BrPcfAwACpqamVKrBDQ0MRHBystmyKry%2BmTpumQdYaksmkiy0FCY5X6u%2BwJC9xJT4x0plX6KRr0Tg4iB%2BzzPBC0e3cKV1sqYwZI3UG4pLiTeP9%2B%2BLH/BcLbM1VqcBWKBTlTtArfupVKDs7hkKhqHA/sjL/YZ9%2Bvkqlgkwme%2BZzn36%2BNlQmz1rPePdaXFxcbkaQZ21bGWW/v4WFhWqPVSqVcL/0U4JTp07h9ddff6lYI0aMKDfjSiMLC6BMHFHJZNLFloJEx6uSsMSW6iWW/RYuftAGDUqK6%2BPHgZwccWNbWIgbr5SJSUlxfekSkJsrbmw/P3HjASWd6507gdGjgbg48eN/9JH4MRs1Kimud%2BwAnvoEVOcmTBA3HlDSuTYxKfl5ZtVJVVClAtvS0hK5ubl49OiR0MWOj49/5vbNmjVDQkKC2rKEhAT06dNHeHznzh3h/oMHD5Cbm4vGjRujVq1aePDgAbKysmDx7z%2BLhIQEGBkZCUMmtKU0TxcXFwBAUVEREhMTMXLkyBc%2Bt2HDhkhLSxPeGABATExMpabhMzIywpMnT4THjx49Qk6Zf8SWlpZITU0VHt%2B6dUu4b21tjVq1auHGjRvCpwSFhYW4d%2B9epb8/lpaW5YeD1KQCl2qOMudTiC4nR/z4WhxC91Jyc4GHD8WN%2Be%2BJ9ZKIi5Mm/r//sySRmQmU%2BZRXFFLOwFVcLG18kfG9hOaq1Gq1t7eHmZkZQkJCoFAoEBUVJYy/roiHhwf27duHK1euoLCwEOHh4bh58ybc3d2FbU6cOIHY2FgUFBRg/fr1sLCwQPv27dG%2BfXu0atUKS5cuRV5eHtLT07F27Vq4u7ujTp06L3/Ez8hz586diI%2BPh0KhwLp166BUKis1n7ajoyPu3buHX375BQqFAnv27EFiYmKF25Z2nW/fvo28vDw0b94ct2/fxt9//438/HysWLEC9erVE7bv2bMndu/ejczMTNy7dw8hISHCuvr168PNzQ1BQUFIS0tDfn4%2Bli1bhgkTJqh1uomIiIhIXFUqsI2NjbF69WocO3YMjo6OCA4OxoTnfGTj7u4Ob29vzJo1C127dsXOnTuxefNmtbHEH3zwAYKCguDo6IijR48iODgYBgYGkMlkWLNmDTIyMtC7d28MHz4c9vb2%2BPLLL1/6YJ9lwoQJ6N%2B/PyZOnIju3bvj/Pnz2L59O0wrcaKQra0tlixZgh9//BHvvvsu4uLi4OHhUeEwFjs7O8jlcnh6emLXrl1wcXGBq6srRo4ciX79%2BqFdu3ZqY9hnzpyJli1bon///vD09MSQIUPUOuMLFixA8%2BbN4e7ujp49e%2BLWrVtYs2aN1ofQEBERUc3Bafo0J1NJ2O50dnbGxIkTMWrUKKlS0AqFQoE6deoIhe3s2bNRXFyMH374QeLMXoKU3W%2BOwRZFjRyDHbJR/KANG5acXBkeLv4QkSZNxI1XytQUcHICTp0Sf4jIoEHixgNKZi65dKlk3LkUQ0RmzBA/prV1yXj3FSvEHyLyxRfixgNKZi4xNS35eZZiiMhLnmOlKV2VLzNn6ma/r6JqfSXHV0FeXh7eeecd7Ny5E8XFxYiNjcWxY8fQq1cvqVMjIiIiIglU6STH6mLSpEk4c%2BbMM9d//fXX5aa3e1l169bFypUrERQUhB9%2B%2BAHm5uaYMGGC2jhzIiIiouqipg3n0AVJC%2BynL/2tLevWrdPJfp%2BlR48e6NGjh6gxiYiIiOjVpJcdbCIiIiJ6Oexga45jsImIiIhIUB1nEcnJyYGfnx%2B6d%2B%2BOHj16YN68ecjPz69w2/DwcLRp00aYFrr0Kzo6%2Bt/jL8by5cvh4uICR0dHfPzxx8IVtCuLBTYRERERVWsLFizAkydPsH//fuzZswfx8fEICgp65vaOjo6IiYlR%2B%2BrQoQMAYMeOHdi3bx82bNiAEydOoEWLFvD19a3SdUZYYBMRERGRoLp1sLOysnD06FH4%2B/vD3NwcVlZW8PHxwZ49e1BYWFjl/YWGhmLcuHFo1aoVTExM4O/vj/j4eFy9erXS%2B2CBTURERETV1vXr12FgYIDWrVsLy95%2B%2B23k5eUhISGhwuekpqZi/PjxcHR0hIuLCyIiIgAA%2Bfn5uHXrFtq2bStsa2JigubNmyMmJqbSOfEkRyIiIiIS6KrbnJGRgczMTLVljRo1gqWlpUb7zcnJgYmJidqVrM3MzAAA9%2B/fL7e9ubk5WrRogc8%2B%2Bwxvvvkmjhw5glmzZsHS0hJvvPEGVCqV8Pyy%2B6toX8/CApuIiIiIBLoqsENDQxEcHKy2bMqUKZg6deoLnxsREYFZs2ZVuM7f379K46N79%2B6N3r17C4/d3d1x5MgRhIeHY8a/V0jV9ELnLLCJiIiISOdGjBgBZ2dntWWNGjWq1HM9PDzg4eFR4bozZ84gNzcXSqUSBgYGAEq62gDQsGHDSu3f2toa165dQ4MGDVCrVi3h%2BaVycnIqvS%2BABTYRERERlaGrDralpaXGw0EqYmdnB5VKhbi4OLz99tsAgJiYGJiamqJly5bltt%2B1axfMzMzg5uYmLIuPj4etrS2MjIzw1ltvITY2Fl26dAEAPHz4EHfu3BFmGakMnuRIRERERILqNouIubk5XF1dsWLFCty7dw9paWlYvXo1PD09Ubt2SS957NixOHjwIABAoVDg66%2B/RkxMDAoLC7F//36cOnUKI0eOBACMGjUK27dvR3x8PHJzcxEUFAQ7Ozu0b9%2B%2B0jmxg01ERERE1VpAQAAWLlwIFxcX1KlTBwMHDoS/v7%2BwPikpCQ8ePAAAfPTRR3j8%2BDGmT5%2BOzMxM2NjYYPXq1WjXrh0AYOTIkcjMzISXlxceP36Mrl27lhs7/iIssImIiIhIUB0vlV6/fn0sW7bsmeuPHz8u3JfJZPDx8YGPj0%2BF28pkMkybNg3Tpk176Xw4RISIiIiISIvYwSYiIiIiQXXsYL9qWGATERERkYAFtuY4RISIiIiISIvYwSYiIiIiATvYmmMHm4iIiIhIi9jBJiIiIiIBO9iaY4FNRERERAIW2JrjEBEiIiIiIi1iB5vUqCCTLLZMovgyqESPSSKztBQ/pplZya25OWBgIG7sixfFjVeqSRPAyQn46y8gNVXc2DNmiBsPAKytS24/%2BghwcRE/flCQ%2BDHlcsDPD9i%2BHbh8WdTQiVN%2BEDUeABgaAk1MgdTHplAoRA%2BP5q%2BLHxNgB1sb2MEmIiIiItIidrCJiIiISMAOtuZYYBMRERGRgAW25jhEhIiIiIhIi9jBJiIiIiIBO9iaYwebiIiIiEiL2MEmIiIiIgE72JpjgU1EREREAhbYmuMQESIiIiIiLWIHm4iIiIgE7GBrjh1sIiIiIiItYgebiIiIiATsYGuOBTYRERERCVhga45DRIiIiIiItIgdbCIiIiISsIOtOXawiYiIiIi0iB1sIiIiIhKwg605FthEREREJGCBrTkOESEiIiIi0iJ2sImIiIhIwA625tjBJiIiIiLSInawiYiIiEjADrbmWGATERERkYAFtuY4RISIiIiISItELbB37doFZ2dnMUMKQkJC0LlzZ3z11VcAgCVLlkAul2PDhg0vfK6zszN27dpV5ZgpKSlo3749bt%2B%2BXeXnVsTf3x9z5szRyr6IiIiIKlJcrJuvmqTGDBFZu3Yt/Pz84OXlhZycHGzfvh1r167VesF/7tw5mJiYoH379rC2tkZMTEyF64iIiIhIP9WYISK5ublo3rw5AODx48cAIDzWpq1bt%2BLatWtVXkdERET0KmAHW3M6LbCvXr2KwYMHo2PHjhg/fjyys7MBAOfPn4dcLsfWrVvh4OCAy5cvAwB%2B%2BeUXDBgwAPb29ujfvz8OHjwo7MvZ2Rlbt27F%2BPHj0aFDB/Tr1w%2BXLl0S1qelpWHy5Mno2rUrOnXqBH9/f%2BTk5EChUAgdYx8fH3h5ecHV1RUA4OHhgTVr1lTpmAoKCjB//nz06NEDDg4OGD16NP7%2B%2B28AwKRJk3Dy5EksXrwYY8eORXJyMlq3bo34%2BPjnrisVFBQELy8v4fHu3bvh7OyMTp06YdGiRSh%2B6qfz559/Fr5f7u7uOHr0aJWOhYiIiOhpLLA1p7MhIkqlEtOmTYO7uzumT5%2BOuLg4TJ06FbVrl4QsLCxEYmIizp49CyMjIxw/fhw//PAD1q9fD3t7exw5cgQzZ85Eq1at0Lp1awDAli1bsHLlStjZ2eHHH3%2BEr68v/vjjD9SuXRs%2BPj548803cezYMeTn52P69OlYuHAhVq5ciZiYGLRu3Rpr1qyBk5MTkpOT4eLigoiICLRq1apKx7Vx40ZcvXoV%2B/fvR926dREQEIA5c%2BYgPDwc69atg7OzMyZOnIhRo0YhOTlZeN7z1lUkISEBX375JYKDg%2BHk5ITIyEgsXrwY/fv3BwAcPnwYwcHBCAkJQZs2bXD8%2BHH4%2Bfnh8OHDaNq0aaWOJSMjA5mZmWrLLCwawdLSskrfE6JXnpmZ%2BDFNTNRvxdSkifgxAcDCQv1WTPn54sds1Ej9Vmxyufgx27RRvxWRoaHoIfFvySLcikmhED8maY/OfmSuXbuGjIwMTJ48GUZGRrC3t0ffvn1x4sQJACUF9ujRo2FsbAwACAsLw8CBA9G5c2cAgJubGzZv3oxDhw4JBbazszM6duwIAPD29samTZtw9epV1K1bF7GxsVi/fj1MTExgYmKCTz/9FL6%2BvlAoFDDU4m%2Blt7c3xo0bB5N//2n2798f4eHhKCoqEt48aMPRo0fRtm1b9OnTBwDg6emJbdu2CevDwsLg6emJdu3aAQD69euHTp1hZuMTAAAgAElEQVQ6Yf/%2B/fj0008rFSM0NBTBwcFqy3x9p2DatKlaOoqqk8kkiSpF0H9Dix9bwqMtiS9FAr17SxD0X//%2BTROVlMcLAJ6e0sYX25gx0sT185MmLgDs3Cl6SIneNgKQ5j1UYqL4MUvVtG6zLuiswE5LS4OpqSnq168vLGvRooXaNmU7rcnJyejWrZva%2BubNmyMlJUV43LJlS%2BF%2B6b4zMjJQu3ZtmJmZoVGZ34BmzZqhsLAQ6enpsLW11dZh4d69e1i8eDEuXLggjOVWKpVQKpVaLbDT09NhY2Ojtqzs9%2B/OnTs4c%2BaMWtGtUqnw5ptvVjrGiBEjyp3kaWHRCCrVy%2BWsKZkMksSWoWYdsErCEluy1/j3k%2BIHNTEpKa6jooDcXHFjx8WJG6%2BUhUVJcR0WBmRliRtbqg72mDHAjh3AU58GimL7dvFjtmlTUlyPHi36z1nqgUsv3kjLatcueZkzM4GiItHDS4YFtuZ0VmArFAoolUq1ZU%2BPIS5bkCqe8VmIrEy76%2Bnnq1QqyGSyZz736edrg7%2B/P4yMjBAREYHGjRvj3LlzGDdunFb2Xfb7pVAoUPTUb3PZ4zc2Nsbnn3%2BOCRMmvHQ8S0vLcsNBpCquiXTqwQPpYufmih8/NVXceE/LyhI/h7w8ceOVlZkJlGkGiebf85ckERcnenwph0wUFXHIBlWNzk5ytLS0RG5uLh49eiQsK3tC39OaNWuGhIQEtWUJCQlq3ec7d%2B4I9x88eIDc3Fw0btwYtra2ePDgAbLKdEwSEhJgZGQEKysrbRyOIDo6GsOHD0fjxo0BALGxsS%2B1HyMjIwBAfpmuS1JSknDf0tISaWlpas8p%2B/1r1qwZbty4obb%2B7t27ULFCJiIiIg1Ux5Mcc3Jy4Ofnh%2B7du6NHjx6YN2%2BeWo1V1vz589G%2BfXu1r7Zt22Lu3LkAgDlz5qBt27Zq6ztXcbifzgpse3t7mJmZISQkBAqFAlFRUcL464p4eHhg3759uHLlCgoLCxEeHo6bN2/C3d1d2ObEiROIjY1FQUEB1q9fDwsLC%2BHAW7VqhaVLlyIvLw/p6elYu3Yt3N3dUadOHa0el7W1NaKjo1FYWIhTp07hzJkzAEqGdAAlhfOdO3fU3liUKrvO3Nwc9evXx%2BHDh6FUKnH69GlcuXJF2NbJyQl//fUXTp48CYVCgR07dggxgJLhHQcPHsTJkydRVFSEP//8EwMHDsTVq1e1erxEREREr7oFCxbgyZMn2L9/P/bs2YP4%2BHgEBQVVuO3ixYsRExMjfF2%2BfBlvvPGGMJEEAEyePFltm6ioqCrlo7MC29jYGKtXr8axY8fg6OiI4ODg5w5ncHd3h7e3N2bNmoWuXbti586d2Lx5s9q44w8%2B%2BABBQUFwdHTE0aNHERwcDAMDA8hkMqxZswYZGRno3bs3hg8fDnt7e3z55ZdaP64vv/wShw8fRpcuXRAWFoZly5bB3t4eQ4cORVZWFoYPH46dO3fiww8/LPfcsusMDAywcOFC/Pbbb%2BjcuTP27t2LMWVOlLG3t8f8%2BfPx1VdfoVu3bvj777/VXvh3330Xs2fPRkBAABwcHBAQEICvvvpKOAmUiIiI6GVUtw52VlYWjh49Cn9/f5ibm8PKygo%2BPj7Ys2cPCgsLX/j8bdu2oWnTpujVq5fWcpKpqsmYgrJT3JHuSPnTwJMcxVEjT3KMjBA/qJlZyWweJ0%2BKPwb7kvgngwEomR5w0iRg3bqaMQbb2rpkJo8VK6QZg/2M7pxOyeUlP18ODqKPwU78R/w/HoaGJT/WqanSjMHWwfXwKuW993Sz3%2BcMZNDIH3/8IXScS8%2B9y87ORvfu3REZGSnMRleRhw8fwsXFBTt37sRbb70FoGSISFJSEh4/fozExES0atUKX331lTBzW2XUmEulExEREZF0Krr%2BRqNGml9/IycnByYmJmoTW5j9e/2D%2B/fvP/e5P//8MxwdHYXiGgBsbW1Rq1YtTJ8%2BHfXq1RNGYRw6dAivv/56pXKq8QX2pEmThHHUFfn666/x/vvvi5gRERERkXR0NZyjoutvTJkyBVOnvvj6GxEREZg1a1aF6/z9/V9qkgelUokdO3Zg6dKlast9fX3VHs%2BcORP79%2B/H0aNHMWzYsErtu9oU2MePH9fJftetW6eT/RIRERHR/1fR9TcaVfIqPh4eHvDw8Khw3ZkzZ5CbmwulUgkDAwMAJV1tAGjYsOEz93nx4kUoFIoXzhBiYGCAJk2aICMjo1K5AtWowCYiIiIi3dNVB7ui629og52dHVQqFeLi4vD2228DAGJiYmBqaqp2kcKnHTt2DN26dVO7LotKpcK3336LIUOGoE2bNgBKrk1y586dKl24UGeziBARERFR9VPdZhExNzeHq6srVqxYgXv37iEtLQ2rV6%2BGp6enUDyPHTsWBw8eVHve9evXy101WyaTITk5GYsWLUJ6ejoeP36MoKAg1KlTB3369Kl0TiywiYiIiKhaCwgIQP369eHi4oLBgwejQ4cO8Pf3F9YnJSXhwVMzOmVmZsLCwqLcvpYsWYIWLVpg6NCh6N69O65fv45t27ahbt26lc6HQ0SIiIiISKDrqy7qQv369bFs2bJnrq/oXL5Dhw5VuG2DBg3wzTffaJQPO9hERERERFrEDjYRERERCapjB/tVwwKbiIiIiAQssDXHISJERERERFrEDjYRERERCdjB1hw72EREREREWsQONhEREREJ2MHWHAtsIiIiIhKwwNYch4gQEREREWkRO9hEREREJGAHW3PsYBMRERERaRE72EREREQkYAdbcyywiYiIiEjAAltzHCJCRERERKRF7GATERERkYAdbM2xg01EREREpEXsYBMRERGRgB1szclUKpVK6iToFSLlj4NMJk18qf6SGBgASqX4cYuKxI8JlLy%2BhoaAQiHtz5lYJDze5EwjUeOVqlMHsLIC0tOBwkJxY9vUuy9uQKDkd9jUFHj4UJLf5cSHr4se09AQaNIESE0t%2BdEWU/MWMnEDAoBcDly6BDg4AJcvix9for%2BVrVrpZr/x8brZ76uIQ0SIiIiIiLSIQ0SIiIiISMAhIppjB5uIiIiISIvYwSYiIiIiATvYmmOBTUREREQCFtia4xARIiIiIiItYgebiIiIiATsYGuOHWwiIiIiIi1iB5uIiIiIBOxga44FNhEREREJWGBrjkNEiIiIiIi0iB1sIiIiIhKwg605FthEREREJGCBrTkOESEiIiIi0iJ2sImIiIhIwA625tjBJiIiIiLSInawiYiIiEjADrbmWGATERERkYAFtuY4RISIiIiISIvYwSYiIiIiATvYmmMHm4iIiIhIi9jBJiIiIiIBO9iaY4FNRERERAIW2Jqr9kNE1qxZgw8//FAn%2B46Pj0fr1q2RnJysk/0/rX379jhz5owosYiIiIhIN6pFgX348GEkJiZWuM7Hxwc///yzyBlpR2xsLM6ePSs8jomJwbvvvithRkRERFTTFRfr5kvXYmJi0LdvXwwfPvyF227fvh2urq5wcHDAqFGjcO3aNWFdQUEBvvzySzg5OaFr166YNm0a7t%2B/X6VcqkWB/eOPPz6zwK7O9uzZo1ZgExEREVHVRUZGYurUqWjevPkLtz1%2B/DhWrVqF77//HmfPnsV7772HSZMmIS8vDwCwfPlyxMbGIjQ0FIcOHYJKpcLcuXOrlM8rX2APHjwYN2/ehI%2BPDz766CO0bt0aO3fuRJcuXbB//36sWrVKeKcSHh6Ovn374tdff0XPnj3RsWNHfPnllygqKqpUrOzsbHzyySeQy%2BVwd3dHdHS0sC45ORmtW7dGfHy8sCwoKAheXl4AgPPnz0Mul2Pr1q1wcHDA5cuXoVKpEBQUhF69ekEul2PIkCG4ePEiAODrr7/Gzp07sXnzZvTt2xcA0Lp1a5w6dQpAybunxYsXo3fv3rC3t8eYMWNw/fp1IXbr1q1x%2BPBhjBo1Ch07dsSgQYPw119/afCdJiIiIqqeHeyCggKEhobC3t7%2BhduGhoZi6NChsLe3h7GxMT755BMAwIkTJ1BUVISwsDD4%2BPigSZMmaNCgAfz8/HDy5Emkp6dXOp9XvsCOjIwEUDLWOjAwEABw4cIFHD9%2BHO7u7uW2T09PR0xMDA4fPow9e/bg%2BPHj2LFjR6ViBQYGoqCgACdPnsTmzZsRHh5epVwLCwuRmJiIs2fPomPHjoiIiMDevXsRGhqKqKgouLi4YNq0aVAqlViwYAEcHR0xYcIEHDlypNy%2Bli9fjosXL%2BLnn3/G%2BfPn0bZtW3h7e0OhUAjbhISEYMmSJTh37hwsLS2xfPnyKuVLRERE9LTqWGAPGzYMVlZWldo2NjYWbdu2FR7XqlULdnZ2iImJwZ07d/Do0SO8/fbbwvpWrVrB2NgYsbGxlc6nWs4i8v7778PExKTCdQUFBfDz88Nrr72GVq1awd3dHSdPnsTYsWNfuN%2BjR49i%2BfLlMDMzg5mZGT788ENcuHCh0nkVFhZi9OjRMDY2BgAMGjQILi4uqF%2B/PgDA3d0dq1atwt27d2Fra/vcfYWFhSEgIAA2NjYAAD8/P/z888%2B4dOkSunXrBgDw8PDAG2%2B8AQBwdnbGpk2bKp0rAGRkZCAzM1NtWSMLC1haWlZpP1TNyGTSxpUqvtgkPN46dUQPCQCoXVv9VlQGBuLHrFVL/VZkhobix5T0NZbLxY/Zpo36rZguXxY/po5VWHc0aiR63ZGTkwMzMzO1ZWZmZrh//z5ycnIAAKampmrrTU1NqzQOu1oW2E2bNn3mOjMzM5ibm6tte/r06Rfu8/79%2B8jPzxcKWgBo0aKFRrk9efIEgYGBOHXqFB48eCAsL9uFrsiDBw/w6NEjoXgGgHr16qFhw4ZISUkRlpXN9bXXXkNBQUGVcg0NDUVwcLDasilTpmDq1KlV2o82ZGRkIDQ0FCNGjBC/wJfgH3NNO15A4mOWgJTHW8kmjtZlZGRg1aqSY7ayEvs1Nn3xJlqWkZGB0C1bJPuZbiL%2BIau9xk2aiHzMly6JGw//vsarVmHEihU14u9WKZVKN/tdterl646IiAjMmjWrwnXffPMNhg4dWqVcVC84yBetf5FqWWAbPKdAUCqVao9VKhVklegglRa9ZZ//om/u07EAoHaZt/WLFi3CjRs3sGPHDjRv3hxJSUnCeOvK5FKRssdSmeN6nhEjRsDZ2VltWaNGjTTa58vKzMxEcHAwnJ2da8QfsZp2vEDNO%2BaadrxAzTvmmna8QM075pp2vLqmSd3h4eEBDw8PreTx%2BuuvC53qUjk5OXjrrbeEJm1OTg7q1asnrH/w4AEaNmxY6RjVssB%2BntzcXNy7d0/4Bt29e7dSY3LMzc1Rp04dpKamws7ODgBw69YtYb2RkREAID8/X1iWlJT03H1GR0dj2LBhQie8smN3GjZsiHr16iEhIQFt/v1Y6sGDB8jOzkazZs0qtY/KsLS05B8MIiIiEsWrUne0a9cOsbGxGDJkCICShulff/0FT09P2NrawszMDLGxsbC2tgYA/P3331AoFGjXrl2lY7zyJzkCJcVtYmIicnNzX7itoaEhVq9ejfz8fNy6dQsHDhwo926pInXq1EG3bt2wfft2PHr0CCkpKWonR5qbm6N%2B/fo4fPgwlEolTp8%2BjStXrjx3nzY2NoiJiYFCocCVK1dw4MABACUfOZUeV3JystrwEaBksP3AgQOxYcMGpKWlIS8vD0FBQbC1tYVcijFoRERERNVY//79ERUVBQAYNWoU9u7diytXruDJkydYu3YtDA0N0bt3bxgYGGD48OFYt24dUlNTcf/%2BfSxbtgx9%2B/aFhYVFpeNViwJ75MiR%2BP7777Fy5coXbmtqaor//Oc/6Nu3Lzw9PeHi4oKRI0dWKs6SJUsAAE5OTpg4caLaiZEGBgZYuHAhfvvtN3Tu3Bl79%2B7FmDFjnru/zz//HPHx8ejSpQuWL1%2BOBQsWoG/fvvDx8UFsbCyGDh2KU6dOoV%2B/fuWGm8yZMwd2dnYYNmwY3nvvPWRmZmLLli3PHR5DREREVBO5urqiffv2WLt2LaKjo9G%2BfXu0b99eOHft9u3bwjzXTk5O%2BOyzz%2BDn54cuXbrg7Nmz2LBhgzBJxbRp02Bvbw8PDw%2B4uLigXr16Qo1YWTKVpqO4XyHh4eFYunQpLzdeDfEEOP1X0465ph0vUPOOuaYdL1DzjrmmHS9pDwtsIiIiIiIt0ruTHJ9l0qRJzy28v/76a7z//vsiZkRERERE%2BkivOthERERERFKrFic5EhERERFVFyywiYiIiIi0iAU2EREREZEWscAmIiIiItIiFthERERERFrEApuIiIiISItYYBMRERERaRELbHolKZVKqVMgLZg3b16Fy3Nzc%2BHr6ytyNuK6f/%2B%2B1CmQDmVnZ%2BPatWtSp0FEr6gacyVHevX4%2Bvpi0aJFsLCwUFseHR2N%2BfPnIzIyUqLMtCc4OLjS206ZMkWHmYgrKSkJ//zzDyIjI%2BHm5oanr2eVmJiI06dPS5Sd7jx%2B/BjfffcdIiMjUVRUhGvXriEnJwezZ8/GN998A3Nzc6lT1In8/HycOHECaWlpGD9%2BPAAgLS0NjRs3ljgz7UtPT8cXX3yBM2fOoHbt2rh27RoyMjLw8ccfY82aNbC1tZU6Ra1LS0vD/v37kZaWhvnz5wMo%2BTvdoUMHiTPTvri4OCxfvhzx8fHIz88vt14f/26RbrDAJskYGRnBzc0NM2fOxLBhw5Cfn4/ly5dj9%2B7dmDBhgtTpacUff/yh9vjvv/%2BGoaEhrK2toVKpkJSUBJVKhY4dO0qUoW7ExcXhxx9/RGFhIT7%2B%2BONy642MjDBy5EgJMtOtgIAAZGRkICQkRPgZrlOnDkxMTLB48WIsW7ZM4gy179KlS5g8eTJMTU2RmpqK8ePHIyUlBQMHDsSaNWvwzjvvSJ2iVgUEBMDc3BwnTpyAq6srAMDc3Bw9evTA4sWLsX79eokz1K5jx47B398fDg4O%2BN///of58%2BcLr3NAQADc3d2lTlGrZs6cCSsrK0yYMAGvvfaa1OlQdaYiktDFixdVQ4YMUY0ZM0bl4uKi8vb2Vt25c0fqtHRi9erVqlWrVqkKCwuFZQUFBaqlS5eqgoODJcxMdwYPHix1CqLq0qWLKjs7W6VSqVQdOnQQlj948EDVrVs3qdLSKU9PT9XPP/%2BsUqlUqvbt2wvLDxw4oBo6dKhUaemMg4ODKjc3V6VSqb/GT548UXXp0kWqtHRm4MCBqiNHjqhUKvXX99y5cyp3d3ep0tKZjh07qvLz86VOg/QAx2CTpDp27AhXV1fExMTg/v37GDRokF5%2BxAoAP/30Ez799FPUrv3/PzgyNDSEr68vfv75Zwkz052IiAgolUqkpqbi9u3b5b70jUwmg4mJSbnlSqUSBQUFEmSkezdv3sSIESMAlBx/qf79%2ByMhIUGqtHTmtddeKzfkCQAePHigl%2BeOJCUlwdnZGYD66%2Bvo6Ijk5GSp0tIZOzs7pKWlSZ0G6QEOESHJ/P777wgMDETjxo2xb98%2BpKamYuHChdi9ezcWLlyIN954Q%2BoUtcrAwAB//fVXueEgN27cQK1a%2Bvled9%2B%2BfQgICEBubm65okQmk%2BH69esSZaYbcrkc33//PWbMmCEsS0lJwZIlS9ClSxcJM9OdRo0aITU1tdwb45iYmArfbFR33bp1wxdffAF/f38AwMOHDxEXF4egoCD07t1b2uR0oGnTprhx4wbs7OzUlp8%2BfRoNGzaUKCvdGT9%2BPGbPng0PDw9YW1uX%2B9vco0cPiTKj6oYFNklm1qxZmDlzJjw9PQEAzZo1Q2RkJFavXo0PPvgAly9fljhD7Ro1ahTGjRsHJycn2NjYCJ3d06dPY%2BzYsVKnpxM//PADxo4diwEDBsDY2FjqdHRuwYIF8PHxQefOnVFUVIROnTohLy8PHTt21Mvx1wAwaNAgTJw4EePHj0dxcTGOHj2KuLg47NixA6NHj5Y6Pa1bsGABZs%2BejQEDBgAAunbtCplMBjc3NyxYsEDi7LRv9OjR%2BPjjj%2BHp6QmlUomtW7fixo0bOHjwIGbNmiV1elo3depUAMCVK1fKrdPHpgDpjkxV0WddRCLIzs5%2BZgfk5s2beOutt0TOSPdOnz6No0ePIi0tDYWFhbC0tETPnj3h5uYmdWo60alTJ1y4cAEGBgZSpyKq6OhoJCcnw8jICM2aNdPLn%2BVSKpUKW7duxZ49e3Dnzh0YGxvD1tYWI0eOhKenp9qwAn1y7949JCUlwcjICDY2NnrZrS91%2BPDhCl/f7t27S50a0SuLBTZJ6sqVK4iIiEB6ejrWrFmD4uJiHD58GP3795c6NdKCWbNm4f3339frf8R3796t9LZNmzbVYSakKxcvXqz0to6OjjrMhMRQVFSES5cuISUlBTKZDM2aNYNcLtfbN4ukGxwiQpLZvXs3vv32WwwYMECYzi4zMxOBgYHIyMjARx99JHGGmpszZw6%2B/fZbAMDnn3/%2B3G2XLl0qRkqiatWqFebOnQu5XA4bG5ty4xk/%2B%2BwziTLTHmdn50r/49WXj5dr2vzuXl5eao9lMpnaOQWlr7%2BBgYFeXHxm7ty5ld72m2%2B%2B0WEm4ouLi4O3tzcyMzOFT1izs7Nha2uLrVu3okmTJhJnSNUFC2ySzMaNG7Fx40Z06tQJ%2B/btAwBYWVlh/fr1mD59ul4U2HXq1BHuGxoaSpiJNE6fPo1mzZohOzsb2dnZauv0pRt08OBB4X50dDT27NkDLy8vtGjRAsXFxbh16xZ27tyJcePGSZekltW0%2Bd2jo6OF%2B8ePH8d///tfTJw4ES1atIBKpcLNmzexadMmDB06VMIstafsjDfFxcX4/fffYWNjg5YtW6K4uBjx8fFIT08XxqHrkyVLlsDV1RV%2Bfn6oW7cugJIZYoKCghAQEIC1a9dKnCFVFxwiQpKRy%2BW4dOkSZDIZ7O3tcfXqVQBAYWEhHB0dKzzJpCb48ssvERAQIHUa9BIGDRqETZs2wdLSUm15SkoKvL29sX//foky053SoV2TJk0SpqBUKBQIDg6GkZERfH19Jc5Qu/r164ewsDCYmpqqLb937x6GDx%2BOo0ePSpSZbgQEBODtt9/GBx98oLZ8x44duHXrFhYuXChRZrohl8tx/vz5cg2RvLw8ODs7488//5QoM6pu9HNuMKoWmjdvXuEfq/3799fosaoRERFSp6A1Fy9efO6XvklJSRG6XmWZmZkhJSVFgox0r6bN737//v0K5zQvLi5GTk6OBBnp1r59%2B%2BDh4VFu%2BbBhw4RPHvVJgwYNyn3aBgCPHj2qkZ9C0svjEBGSzKeffgofHx84OzujqKgIixcvxo0bN3D58mW9HI9cWfr0odLTY1dL1a5dG8bGxoiKihI5I91ycHCAj48PPv74Y1hbW6OoqAhpaWnYvn075HK51OnpRE2b371nz54YP348Ro0aBRsbG%2BE1Dg0Nxbvvvit1elpXv359nDp1SrjYTKlz586hfv36EmWlOy4uLvDx8YG3t7dwLYaEhARs2LABPXv2lDg7qk44RIQkFRMTg99%2B%2B01t%2Bqdhw4bp3UVmqqLscJnqTqFQqD1WKpVITEzEli1bMGjQIL27aMO9e/ewZMkSHDt2DPn5%2BQBK3ky88847WLJkSbmhI/pg9erV2Lhx4zPnd58%2BfbrUKWrVkydPsHbtWmG6TYVCAUtLSzg5OWHGjBl6N11f6YW/2rZtq/b6Xr9%2BHfPmzcOYMWOkTlGrFAoFli1bhj179uDRo0cAgHr16mHgwIGYM2cOXnvtNYkzpOqCBTbRK0afCuxnefToETw9PXHo0CGpU9GZnJwcKBQKmJubqw2f0Ec1bX73miYhIQHHjh1Denq62huKDh06SJ2aTj18%2BBAKhQINGzbUm5OySTwssElUXl5elf5DtX37dh1n82qqCQV2eno6%2Bvfvr3dX63zRuHLOkVz97d2797nr33//fZEyIW05d%2B4c3nnnHQAlbxafR98%2BdSPd0e%2B2Cr1yyo7TfPLkCSIiItCpUydh%2Bqdbt24hOjpaLy%2BxXBNVNPf3kydPcPXqVb0sNmvamHPgxXMm69s8yUFBQWqPlUolcnJyYGJigqZNm%2Bpdgf2ipog%2BNEK8vb2FqRg/%2BeSTZ27HS6VTVbDAJlGVLbg%2B%2B%2BwzLF26FE5OTmrbHD16VC%2BnM6ssffpQqaKz7k1MTPDJJ5/A09NTgox0q%2Bx8yUD5Mef66OkZNZRKJZKSkpCamgp3d3eJstKdijqcjx49wsqVK9GuXTsJMtKtp09eLX19r1y5gg8//FCirLSr7O9tXFzcM7crLi4WIx3SExwiQpJxcHDAhQsXyo1PLSwsRJcuXfRu%2BMDGjRsxceLEF263efNmTJgwQYSMSCw1Ycz503777TfcuHEDc%2BbMkToVUeTn56N///44efKk1KmI4vTp04iMjMT3338vdSpa5erqWuHv6cOHD%2BHq6opz585JkBVVR%2Bxgk2QsLS0RGhpa7iz08PBwNGrUSKKsdGfbtm344IMPYG5u/tzt9K243rVrFw4ePIiUlBTIZDI0a9YMQ4YMweDBg6VOTTR5eXnIyMiQOg1RDR48GO%2B8806NKbCTkpKEWSdqgu7du2PatGlSp6E1586dw9mzZ5GSkoJly5aVW5%2BcnFxuViSi52GBTZKZNWsWPvvsM6xZswZNmjSBUqlEeno6Hj16VOEfuOruk08%2BwfTp0%2BHm5oamTZvCwMBAbb0%2BnjyzYsUKhIWFwcPDQxgiER8fjyVLliAvLw8jR46UOEPtqmljzoHyUzECJd3cQ4cOoU6dOhJkpFsjRowoNyb5yZMnSEhIgKurq0RZ6c7t27fLLcvPz8fhw4fLXc2yOjMzM0NeXh6USmWFn54aGxtj8eLFEmRG1RULbJKMs7Mz/vjjD/zxxx9q0z91794dVlZWUqendd9%2B%2By2Aimea0NeTZ8LDw7Fx40bY2dmpLXd3d8fs2bP1rsCuaWPOASMLKE8AACAASURBVKBDhw4VngRnYGBQ4RuO6q6ii40YGhqiRYsW6NOnjwQZ6daAAQMgk8mEc0NK79evX1%2BvLpPetm1btG3bFjKZDPPnz69wG338G026wzHY9EqoqAvGy9JWf88aZ69UKtGlSxf873//kygz3bhw4QK6dOlSbnlBQQGOHz%2BOAQMGSJCVbl24cKHcMiMjI9jY2KBhw4YSZKRbe/furXCmkCdPnuCXX37B%2BPHjJchKd1JSUsotMzIygrm5uV5eqRMoOdH87t27av%2BX0tPT4ePjg0uXLkmYGVUn7GCTZM6ePYvAwED8888/UCqV5dbrY7egqKgIly5dUhuPLJfL9fYiBm%2B99RbCwsLKdarDw8PRvHlzibLSnYkTJ1Y4h/mDBw8wZ84cvSywIyIisGTJknLLc3Nz4evri9WrV0uQlfYVFxejqKgICxcuhLu7e7nZfhITE7F8%2BXK9K7Dnz5%2BPLVu2lFuem5sLLy8v/PbbbxJkpTtRUVGYNm0a7t%2B/D6Ck2C79%2B6yPn1CQ7rDAJsksXLgQXbp0wcyZM2vE5Wfj4uLg7e2NzMxMobOXnZ0NW1tbbN26FU2aNJE4Q%2B2bOXMmPvnkE/z0009o1aoVgJKrwiUlJWHVqlUSZ6c9W7duRUhICBQKRYVj6XNzc2FjYyNBZrqTlJSEf/75B5GRkXBzc6uw4HzRRTuqk%2B3bt%2BO7774DgGdewfDpKe2qs9jYWMTExODixYvYvXt3udf3zp07%2BOeff6RJTocCAwMxZswYuLm5YfDgwTh48CCuXbuGgwcPYsGCBVKnR9UIh4iQZORyOS5evKj3l5Eu5eXlBTs7O/j5%2BaFu3boASjqbQUFByMrKwtq1ayXOUDeysrJw4MAB4Sz8Zs2aYcCAAWjatKnUqWlNcXExYmNjMWrUKHz99dfl1hsZGeGdd97B66%2B/LkF2unHkyBH8%2BOOPuHnzZoXrjYyMMHLkyBdeiKY6uXfvHpycnLB58%2BZy64yNjWFnZ6c3J3b%2B%2Beef2Lp1K06ePFnh76qxsTGGDx%2BOcePGiZ%2BcDsnlcly6dAkymQwdOnQQ5si%2BcuUKVq5cWWE3n6giLLBJMt7e3pg6dapeXpyhInK5HOfPny83tjwvLw/Ozs74888/JcpMtx4%2BfAilUikUl8nJyahXr55eFZuloqOjn9nd1FceHh6IiIiQOg3RZGdn6%2BXY8meZPHmy3r75r0jv3r2xe/duWFpaokePHti1axdsbW319voMpDs1o3VIr6Q%2Bffpg1qxZeO%2B992BjY1PuhJkRI0ZIlJluNGjQANnZ2eWGgjx69EhvT%2Bj8888/MWXKFAQEBMDNzQ0A8Pvvv2P58uVYvXo1unbtKnGGmpszZ44wQ8y2bdueu%2B3SpUvFSEnnCgsLhU7tr7/%2B%2Btz5gfXhZ9vLyws//fQTAMDX1/e52/7yyy9ipKRTiYmJwjkSs2bNqnCqvlItW7YUKy1RDBw4EB988AH%2B7//%2BDz179sTUqVMxePBgxMTE6N0wL9ItFtgkmdKuyP/93/%2BVWyeTyfSuwHZxcYGPjw%2B8vb3xxhtvACgZj7xhw4YKp/7SB9999x3mzZsnFNcAMGbMGDRo0ADffvutXpwgVXZIgD4Uk5XRuXNn4WTOZ03TV3pymD6crNy9e3fh/rvvvqu3JyWXGjRokDA04ulp%2BsrSl9e3rBkzZuDNN99EvXr1MG/ePCxatAi7d%2B%2BGtbW13l21knSLQ0RIVGU7IwkJCc/9R6VvnRGFQoFly5Zhz549whXf6tWrh4EDB2LOnDl6eaKnXC5HVFRUuYvq8OPW6i0qKgqdO3cGUPE0fWVVNG0hvdru3r0rjLuuaJq%2BsqytrcVISTRXr16Fvb291GmQHmCBTaIqe9JImzZt9L7z9SwPHz6EQqFAw4YN9bob5uHhgcmTJ6N///5qy3/99Vds3boVBw4ckCgz3XjeCX21atWClZUVnJyc9Gq2iXnz5j1zmr7Zs2frzTR9pby8vJ75O1v6Gvfq1UvtU5vqbPz48TVqmr7OnTvj7NmzNebTKNIdDhEhUf33v/8V7h87dkzCTMSxd%2B/eSm9b0cUrqruZM2di6tSpWLduHWxsbFBcXIzbt28jNTUVISEhUqendQYGBjhy5Ahee%2B01tG3bFrVq1cJff/2FgoICdOnSBRcvXsSGDRvw1VdfVfsrO9a0afpKOTo6YseOHWjZsiXat2%2BPWrVqISYmBomJiRg8eDDu37%2BPhQsX/r/27j2sxnT9A/h3dVChsjNToxOGmZ1BWqk0xrFxFpmNrW2ynSvpZM9oM06JGIeZ7IiMnMYgttgOw4ScKkKk1JbEGJ1TNGRXq9bq94er91dWkbHe9bTe9/781bzv2tf1XXu56l7P%2Bzz3jZycHHh5ebGO%2B4eJtU2fn58f1qxZg8mTJ8Pc3Fzp6RsV3qS5aAWbEB692hP52bNnqK6uhpGREWpra/Hs2TPo6%2BvDzMwMsbGxjFLyq6ioCKdOnUJOTg4kEgmsrKzg6uoqyE4M69evh76%2BPnx8fLhDuwqFAlu2bIGuri48PT2RkJCAlStXNviyqYnE2KYPeLlib29vj/Hjxze4HhMTg6ysLCxcuBAZGRnw9/fX6EUEMbfpq6mpQU1NTaP3hfxklagWFdiEqMm///1vZGRkICAggGtRV1xcjA0bNkAqlWLixImME7IzcuTIRg%2B7ahonJyckJCQorXLJZDIMHjwYiYmJqK2thb29vWD2n4utTZ%2B9vT2uXr2q1O%2B6uroa/fr1w9WrVwX1Gb%2BuTd%2BTJ09gYmKi5kT8ojMFRFVoiwgharJp0ybExsZCX1%2Bfu2ZqaopvvvkGo0aNEnWB/aaDVJpCV1cXly5dUhqpfOXKFa6V3YULFwQ1tbOp4rqiogJDhw4V3DYRY2NjREdHw8PDo8Fe7MOHD3NDs/bt24dOnToxSqhadcV13aj4OkVFRRg/fvwbC1JNQwU0URUqsAlRk8rKShQUFCh1RyktLUVVVRWjVC2DUA56BgYGws/PDzY2NrCwsICOjg7y8/ORnp6OwMBAyGQybo%2BnUBQVFSE0NBTp6ekN%2BmG/ePECpqamDJPxY9myZfD390dERAQ6dOgAHR0dFBQU4OnTpwgNDUV1dTXCwsIQHh7OOqpKZGdnIygoCFlZWZDL5Q3uCXGo0usOsQLAjz/%2BqMY0RJPRFhFC1GTFihWIjY3FmDFjYGlpCblcjoKCAvz8888YNGgQQkJCWEdkplevXlxfZU2XkZGB%2BPh4PH78GAqFAu3bt4ezszPX1i43N1dQAys8PT0BvBwcFRISguDgYGRkZODOnTuIiIgQ5F774uJiJCUloaSkhPuMHR0duc%2B1oqJCMG03PTw80LlzZwwfPhze3t7Ytm0bMjIycPnyZYSFhcHY2Jh1RJV6dRiUXC5HTk4Obt26BQ8PD40%2BuErUiwpsQtRELpfj0KFDOHv2LAoLCyGTyWBqaooBAwZg2rRpSns6xURIBbbYODk54eLFizAwMGjwOZ44cQLJyckIDg5mG5BHjU2wFFqXCQcHByQlJUFHR6dBm9X4%2BHgcOnQI//rXvxgnVI%2BEhAQcO3aMhs2QZqMtIoSoiba2NiZNmiS4CZXk/2VmZiIsLAz3799HZWWl0n2h7UcGAB0dHa5jip6eHsrKytCuXTsMGzYMy5cvF1yBffnyZaxatQoPHz5U2jIBCK/LhL6%2BPioqKmBoaIjWrVujuLgYpqam%2BPTTTxEYGMg6ntr07dsX/v7%2BrGMQDUIFNiFq8vz5cxw8eBD3799vdM/1q48mieaZP38%2BzMzMMGPGDMFsEXgTBwcH%2BPr6Ijw8HD179sS3334LDw8P3Lp1C3p6eqzjqdyyZcvg5OSE%2BfPni%2BIzHjRoEDw8PLB//344Ojpi4cKF%2BOtf/4rU1FSuG5KQ/Prrr0rXKisrcfr0aRgZGTFIRDQVbREhRE1mzZqFu3fvonfv3o3%2BYV69ejWDVC1D/UfPmkwqlSIpKUmQhWVTnj59inXr1mH58uV4%2BPAhvLy8kJ%2Bfj9atW2P58uUYM2YM64gqJZVKcf36da5jiNDJZDJs27YN3t7eKCkpwbx583D79m1YWFhg6dKl6Nu3L%2BuIKlU3YfjV0sjQ0BDBwcEYPXo0o2RE01CBTYiaSKVS/PLLLzAzM2MdRW28vb0RGRn5xtelpaUJoiPB5MmTsXr1anTs2JF1FGZqa2tRUlICExMTpSl4QuDl5QU/Pz/06NGDdRTCg8Zahurp6cHExITbCkVIc4jjKzghLcAHH3yANm3asI6hVnUt6t5UjAihuAaA6dOn45///Cfc3NxgYWGh9Af51cmemupt9pIL5T3XGTJkCIKCgjB48GBYWloqfcZCOGNx4MCBZr9WCO83Pz%2Bf%2B7mxFn0ymQyFhYUA0OhUS0IaQyvYhKhJfHw8Tp48iVmzZsHS0lLpF7nQug8AL0eHnzx5Era2tjA3N1d6rP6Pf/yDUTJ%2B2NjYNHlPIpEI5gDc695nfUJ6z3VcXFyavCeRSDR6PHqd173H%2BoTyfuu2hTSH0P49E/5QgU2Imjg4OKCiogIKhaLR%2B0L8xT1lypQm70kkEhraICLJyclcL3AiPMeOHcPYsWNZx/hDHjx4wP2clpaGmJgYTJkyBZ06dYJCoUB2djb27duHadOmYdiwYQyTEk1CBTYhavKmkcI0olcYampqcPPmTeTl5UEikcDa2hpSqVQw0yr/KCH1On/y5AkuXrzI7dft2LEjBg8ejLZt2zJOxo5QPt8xY8Zg%2B/btSlNI8/Ly4OXlhRMnTjBKRjQN7cEmRE3qF9BPnz4VZIurxhQWFuLEiRMoKirCokWLAAjnUOOrMjMz4eXlhcePH3MTDEtLS2FlZYVdu3ahQ4cOjBOyI5S1nCtXrmDu3LkwMDCAlZUVAGDfvn1YuXIl9uzZg48//phxQjaE8vnm5eWhdevWSteNjY0bPQBJSFPoSCwhavLixQssXboUdnZ26N%2B/PwCgrKwMXl5eePLkCeN0/IiLi8OwYcOQkJCA6OhoAEBBQQGmT5%2BOn3/%2BmXE61QsNDcXw4cORnJyM%2BPh4xMfH48qVK3ByckJISAjreEwJZQV/3bp18PPzQ2JiIqKjoxEdHY34%2BHhMmTIFoaGhrOMxI5TP197eHj4%2BPrh48SKys7ORmZmJCxcuwN/fH1KplHU8okGowCZETUJCQpCTk4OoqCiu84Curi7atm2LlStXMk7Hjw0bNuD777/Hrl27uD/AHTp0QEREBLZs2cI4neqlp6fj66%2B/brACZmxsjIULFyIlJYVhMqIqDx48UDpboK2tDU9PT0GeoxCbtWvX4v3330dAQABcXV0xbtw4%2BPr6QltbG99%2B%2By3reESD0BYRQtTkwoULOHXqFExMTLhis02bNli2bBmGDx/OOB0/cnJyuI4E9Ve4HB0dkZubyyoWb9q1a4fS0lKlrSDPnz8XZJcYMTI1NcXDhw/RtWvXBtdzcnJEvQdbKExMTLipumVlZZDJZDAxMVHqgKTJhzqJelCBTYiaSCSSRv8Ay%2BXyRkenC4G5uTnu3r2Lbt26NbiekJDA7VEWks8//xw%2BPj7w8vLChx9%2BCODliucPP/zAbQsims3NzQ2enp748ssvG3zGe/fuxYgRIxinI6rUrl27Ju8tWbKECmzyWlRgE6ImdnZ2WLt2Lb7%2B%2BmvuWl5eHkJDQwXbQWTy5MmYOXMmJkyYALlcjl27duHu3bs4efIkgoKCWMdTuaCgIHz//fdYsmQJnj9/DuDlUwpXV1csWLCAcTqiCj4%2BPjAyMkJMTAxyc3Mhk8lgbW0Nd3d3zJw5k3U8ZoRyyLG5xPZ%2BydujNn2EqEl%2Bfj58fHxw7949yOVytGnTBv/73/8glUrx3XffCbbDxOnTpxETE4NHjx5BX18fVlZWcHd3R9%2B%2BfVlH49WzZ88gk8nQvn17wRwAexdubm44evQo6xikGaKiojBr1iwAQGRkJLy9vd/4v5kzZ44gz1U0RShtCQl/qMAmRE1mz56NUaNGoWvXrsjJyYGenh6sra3x0UcfsY5G3oGYx4bXOXfuHC5cuIDi4mIAwAcffAAXFxcMGDCAcTLVENvocHt7e4SFhcHa2hpubm44duxYkyu2nTt3VnO6loEKbPImVGAToiYrV67EuXPnUFJSgv79%2B2PUqFFwcXGBgYEB62i8WbhwYZP3tLS0YGZmhgEDBsDOzk6NqVRLzGPDASA8PBw7d%2B5Ev379YG5ujtraWuTn5yMxMRGzZs3C3LlzWUd8Z2IbHR4aGoo9e/ZAIpE0WljXXRfqv%2BnmoAKbvAkV2ISoWXp6Os6ePYszZ84gPz8fAwcOhKurK4YMGcI6msotXrwYZ86cgYGBAT755BNoaWnhv//9L6qqquDk5ISSkhKkpKQgODgYEyZMYB1XbYQ0NtzR0RFbt26Fvb19g%2BvJycmYM2cOrl%2B/zigZW5reZeL3339HeXk5RowYgV9%2B%2BaXJ11lYWKgxVctBBTZ5EyqwCWEoLS0Na9euxY0bNwS5ErR%2B/Xro6%2BvDx8eH6/2tUCiwZcsW6OrqwtPTEwkJCVi5cuVr/4gLjZD%2BODs7OyM%2BPh66uroNrldXV6N///5ISkpilIwtTf6MQ0JCsHTpUgDA1KlTsXv3bsaJWh5bW1ukpaWxjkFaMOoiQoiaFRQU4OzZszh79ixu3LiB7t27C7KjBgAcPHgQCQkJXHENvNwaMnv2bAwePBienp747LPPUFRUxDCl%2BglpXWPq1KnYunWr0peonTt3Kg1kERNN/oyPHz%2BOLl26oGPHjrh58yYSExObfD9CPVfwJp999hnrCKSFowKbEDWJiIhAXFwcMjMz0aNHD4wcORKrV6%2BGubk562i80dXVxaVLl5S2v1y5cgUymQzAywE8Qu2g0hQhdRW5du0aUlNTsXv3blhZWUGhUKCgoADV1dX4%2BOOPER8fz702OjqaYVL10uTP2MvLC2FhYSgvL4dEImmy/aAQ92ArFArs3bu30UO77u7u3Ocqpo4p5I%2BhApsQNbl48SJcXV2xadMmQRfV9QUGBsLPzw82NjawsLCAjo4O8vPzkZ6ejsDAQMhkMvj5%2BWHNmjWso5I/qHfv3ujduzfrGESFZs2axbXpE9tWiODgYJw7dw6urq4YOHAgd2g3IiICWVlZWLZsGeuIREPQHmxCCK8yMjIQHx%2BPx48fQ6FQoH379nB2duYO%2BeXm5sLS0pJxSvXS5P25pHmE8hnLZDK0atUK1dXVKC4uhkQigZmZGbS1tVlH44VUKkVMTAw3pbNOdnY2Jk6ciJSUFEbJiKahFWxCCK%2B6d%2B%2BO7t27N3lfbMW10LyuFSMArF69Wk1JCB8qKysRFBSEuLg41NTUoLa2Fvr6%2BnB1dcWSJUugp6fHOqJKGRoaNvo7ycrKCoaGhgwSEU1FBTYhhDeZmZkICwvD/fv3UVlZqXT/bYa0kJapqqqqwX/L5XLk5OSgoKAAo0ePZpSKPaE8HA4ODkZJSQk2bdqEjh07AgDu37%2BPyMhIrF%2B/HosWLWKcULX8/f0RGhqKefPmoV27dgCAsrIybNq0CX5%2BfozTEU1CW0QIIbwZM2YMzMzMmhyo88UXXzBIxZ4YxoYfOXIEd%2B/exYIFC1hHeWdiHh3u6OiI2NhYmJiYNLheVFQEd3d3nD9/nlEyfgwbNgxFRUWQyWQwMjKCQqFAeXk5dHV1YWRk1OC1tEBAXocKbEIIb6RSKZKSkgT3GPl1hD42vLnkcjk%2B/fRTXLt2jXWUdybm0eHOzs44f/680hfkiooKDBo0CFevXmWUjB9Hjhxp9mvFukBAmoe2iBBCeNOtWzcUFhZyj5aFrv7Y8I4dO3IdCAICAgQzNvxVde0W66usrERsbKzS8BlNNX78eHh5eXEjwkeMGNHgvpBHh9vb2yMkJATz58/nVrGfPHmC9evXo2fPnozTqR4VzURVaAWbEMKbM2fOYPv27XBzc4OFhUWDgTOA8IZUiHFsuI2NTaM9n7W1tfHVV19h%2BvTpDFKpnlhHhxcVFWHOnDm4c%2BcOt0Xi2bNn6NKlCzZv3gxra2vGCd/dlClTsGfPHgDApEmTXtvDXEy93Mm7oRVsQghv6g4F3bp1S%2BmeEFf7tLW1G13V69Wrl2Dbmv34449K1/T09GBpaYn27dszSKR6daPDjY2NYW9vL7gi%2BnXMzMxw%2BPBhZGZmIjc3FzKZDFZWVoJave7bty/3c//%2B/RkmIUJCBTYhhDeZmZmsI6iVGMeG1%2B21flVtbW2zDwS2dGIfHa5QKFBRUQG5XA4dHR3U1tZyW2KEYM6cOdzPH374IUaNGsUwDREK2iJCCOFdWloaCgsLMWzYMAAvW7sJ8eDj9OnTkZqaCm1t7UbHhtcnlEfNDg4OWLRoUYO9q7/99huCgoJQUlKCuLg4hulUIyoqCpGRkdzo8Kb%2BbArxqUxKSgrmzp2Lp0%2BfwtDQELW1tSgvL8d7772HiIgI2Nraso6oUn369MH58%2BfRunVr1lGIhqMCmxDCm/v378PX1xf5%2BfmQy%2BVIT09HXl4eJk6ciKioKHzyySesI6rUpk2bmv1aX19fHpOoz%2B3bt%2BHr64vx48fD398fP/30E7777juMHj0aCxYsQNu2bVlHVCmxjQ4fPnw4hg4dCi8vL27Qyu%2B//46tW7ciLi4OsbGxjBOq1v79%2B3H9%2BnWMGzcO5ubmSlu7hNYlhvCHCmxCCG%2BmTp2Knj17wt/fHw4ODlxhsmvXLsTFxXEHi4hmKyoqgq%2BvL0pLS1FTU4MVK1Zg4MCBrGPxQmyjw3v16oXr16%2BjVatWDa5XVVXByclJEOPg67OxsWnynhCfUBD%2B0B5sQghv0tLSsG3bNrRq1arBfk0PD4%2B3Wu3VFGIZG/5qa74//elP2LFjB7755htUVVXB2dmZe82rhZmmE9vo8N69eyMzM1NpK8iDBw/Qu3dvRqn406dPH6xatUrp%2BvPnz7Fx40YGiYimogKbEMKbdu3a4dmzZ3jvvfcaXH/06BF0dIT360csY8NtbW0bPeBW90DUzs5OsH2hxTY6fMCAAQgICICLiws6d%2B7M/Zs%2Bd%2B4cJkyYgAMHDnCvnTRpEsOk7yYnJwcPHz7EzZs38fDhQ6V99r/99htNbiRvhbaIEEJ4ExISgszMTPj4%2BMDHxwcHDhxAZmYmtmzZgv79%2B2PJkiWsI6qFkMaGA3ir6YxOTk48JlE/sY0Od3FxadbrJBKJRh9oPXPmDMLDw3Hv3r1G7%2Bvp6cHd3f2NT6kIqUMFNiGEN1VVVVi3bh2OHDmCFy9eAHi5qj1p0iTMnTtXcNsHmiKkseGNefDgAQwMDNChQwcAL9sz6ujooGvXroyTqZ7YRoeLjZubG44ePco6BhEAKrAJIbyrra1FaWkp9PX1BddVor7XjQ3fsGEDEhMTGaTi18mTJ7Fw4UJs2LABgwcPBgD85z//wfLly7Fq1SqMHDmScULV8vHxgbGxcaOjw4uLixEVFcU4oerdu3cPsbGxyMvLAwB07NgRo0ePhpWVFeNkhLRcVGATQnhTVVWFgwcPckNW4uLicOjQIXTq1Am%2Bvr5o06YN44SqJZax4fWNGDECS5cubTAND3i5jWTZsmU4deoUo2T8EMPo8PpOnjyJoKAgdOvWjXtvv/76K7Kzs7Fjxw44ODgwTkhIy0QFNiGEN4sXL0ZWVhYOHjyIBw8e4IsvvsDs2bORlZWFtm3bNnpaX5M1tgVEaGPDXyWVSnHt2jXo6uo2uC6TyeDk5IRbt24xSsYvIY8Or2/UqFHw9fVVmm54%2BPBhREdH4%2BDBg4ySEdKyCe8YPyGkxYiLi8Px48cBAEePHkW/fv3g6%2BuL58%2BfC27rACCOseGv%2BvOf/4y9e/di6tSp3Op9TU0NfvjhB0HuwQaEPzq8vvz8fAwfPlzp%2BtixYwX3BZkQVaICmxDCm6qqKq5FX2JiIr788ksAQNu2bblDj0Li5%2Bf32rHhQiywlyxZAm9vb0RGRqJDhw5QKBTIy8uDgYEBdu3axTqeyoltdLi5uTlSU1Nhb2/f4HpGRoZgn8oQogpUYBNCePPRRx/h8OHD0NfXR3Z2Ntfy6/Lly1zHCSHZuXMnfH19kZOTozQ2fPv27azj8aJ79%2B44c%2BYM4uPjkZOTAy0tLVhaWmLAgAGC7BKzYMEC/OUvf2l0dPj8%2BfMFNzr873//Ozw9PTFmzBh06dIFwMuuMcePH4eXlxfjdIS0XLQHmxDCm7S0NMyfPx/l5eUIDAzExIkTUVZWhsGDBwuywwQgrrHhYiS20eEAcO7cOcTExHB7zq2treHm5qa0L5sQ8v%2BowCaEqF1RURHMzMxYx1CJxlrzVVVVcWPDN27cyO3NFcqK7ueff84NFenXr99rXyu06XczZsxAYGCg0laQO3fuYN26ddixYwejZPxITU1Fr169WMcgRONQgU0I4U1ZWRkiIyO5CYZ79%2B7FgQMH0KlTJyxevBimpqaME767plrz1f1qlUgkghsbfvToUbi5uQF4OaUSeHnwr6ysDFpaWjA2Nub%2BP6m/H10Idu3ahd27dzc5Orz%2BvmRNHh1ex8HBAZcvXxbMl0NC1IUKbEIIb/z8/CCXy7F582bcvn0bU6ZMQXBwMNLT01FcXIzw8HDWEd%2BZmMeGA0BJSQmCg4MRHx8PmUyG2tpaGBgYYODAgVi6dKnSSHFNJ5bR4XV2796NR48eYfLkyTA3N4e2tnaD%2B1R4E9I4KrAJIbzp06cPzp49C0NDQ6xevRqlpaVYv349Kisr4eLigsuXL7OOqHJiGhsOAFOmTIFEIsG0adNgbm4OAMjNzcXu3buhpaWF3bt3M05I3oVUKkVNTQ2qq6sbPKkR2lMZQlSNuogQQnijUCi40eiJiYmYO3cuAEBXVxcVFRUso/Gi/tjw%2BgW2UMeGAy8PsiYkJHAdNYCX22YcHBwEe7hTTKPDt27dyjoCIRqJCmxCCG969OiBiIgI6Onpobi4GIMGDQLwshDt3Lkz23A8CA8Px5YtfwAUBAAABENJREFUWxqMDR83bhzMzc2xbNkyQRbYVlZWqKysbFBgAy%2BH7gix4GxsdPjp06exefNmwYwOd3FxafbQHCFsgyGED7RFhBDCm4cPH2LFihV49uwZfH19MXDgQJSVlWH48OEIDw9Hnz59WEdUKTGODT99%2BjR%2B%2BukneHh4oFOnTlAoFHj06BH279%2BPsWPHws7OjnutEL5UiWF0eHR0NPdzaWkpDh48iKFDh3Kfb3Z2Ni5cuIAZM2Zg2rRp7IIS0oJRgU0IUbuqqirExMRg8uTJrKOolLu7O0aMGKE0NjwyMhIXLlzAoUOHGCdUPRsbm9feF1oXFTs7O9y4cUPpsF9NTQ2cnZ2RnJzMKBk/Zs6ciYCAAKW2hMnJydyqPSFEGW0RIYTwKisrCxkZGQ36RRcVFWHnzp2CK7DFNjYcEN8WAbGNDr9582ajX6JsbW2RkpLCIBEhmoEKbEIIb/bv348VK1agffv2KCkpgZmZGYqLi2FhYYGAgADW8VRObGPDAcDCwoJ1BLUS2%2Bhwa2trbNy4EV5eXtyB5fLyckRFRcHS0pJxOkJaLtoiQgjhzZAhQ7By5Uo4OzvD1tYWaWlpePz4MUJDQ%2BHh4SGIA2FEfMQ0Ojw1NRUBAQF4/PgxjIyMIJfLUV5eDiMjI0RERKB3796sIxLSIlGBTQjhjVQq5R4j29nZISUlBRKJBHl5efD29sbx48cZJ3x3Yh4bLkZiHB2uUCiQnp6OwsJCyGQymJqaolevXtDT02MdjZAWi7aIEEJ4Y25ujqSkJDg7O%2BP9999HcnIyHB0dYWhoiNzcXNbxVMLf35/7%2BauvvgLQ9NhwovlmzpwputHhWlpasLW1VTroSAhpGq1gE0J4c%2BzYMSxcuBBJSUnYu3cvtm3bBkdHRzx48ADW1taIiopiHVGlxDY2XIxodDghpDmowCaE8Co3NxcWFhYoKyvDoUOHuP/%2B29/%2BpjScRNPR2HDho9HhhJDmoC0ihBDelJaWYs2aNbh06ZLSim51dTXreConxrHhYkOjwwkhzUEFNiGEN4GBgZBIJAgLC1Na0Z03b57gVnTFNjZcLGh0OCHkbdEWEUIIb3r16qW0ogsAZWVlGDhwIFJTUxkl44fYxoaLBY0OJ4S8LVrBJoTwRmwrunUdRa5du6Z078qVK4IbGy4W7u7u3M8zZ87Exo0bmxwdTgU2IQSgFWxCCI/EtqKbl5fX7NeKbQKiUEilUly9elWpW4hMJkOfPn1ofDghBAAV2IQQHtnY2Lz2Pq3oEk3j5uaGAQMGNDo6PC4uThDDkwgh744KbEIIb2hFlwgNjQ4nhDQHFdiEEELIW6DR4YSQN6ECmxBCCCGEEBXSYh2AEEIIIYQQIaECmxBCCCGEEBWiApsQQgghhBAVogKbEEIIIYQQFaICmxBCCCGEEBWiApsQQgghhBAVogKbEEIIIYQQFaICmxBCCCGEEBX6P3Bd6gi/gP9pAAAAAElFTkSuQmCC\" class=\"center-img\">\n",
              "</div>\n",
              "    <div class=\"row headerrow highlight\">\n",
              "        <h1>Sample</h1>\n",
              "    </div>\n",
              "    <div class=\"row variablerow\">\n",
              "    <div class=\"col-md-12\" style=\"overflow:scroll; width: 100%%; overflow-y: hidden;\">\n",
              "        <table border=\"1\" class=\"dataframe sample\">\n",
              "  <thead>\n",
              "    <tr style=\"text-align: right;\">\n",
              "      <th></th>\n",
              "      <th>id</th>\n",
              "      <th>vendor_id</th>\n",
              "      <th>pickup_datetime</th>\n",
              "      <th>dropoff_datetime</th>\n",
              "      <th>passenger_count</th>\n",
              "      <th>pickup_longitude</th>\n",
              "      <th>pickup_latitude</th>\n",
              "      <th>dropoff_longitude</th>\n",
              "      <th>dropoff_latitude</th>\n",
              "      <th>store_and_fwd_flag</th>\n",
              "      <th>trip_duration</th>\n",
              "    </tr>\n",
              "  </thead>\n",
              "  <tbody>\n",
              "    <tr>\n",
              "      <th>0</th>\n",
              "      <td>id2875421</td>\n",
              "      <td>2</td>\n",
              "      <td>2016-03-14 17:24:55</td>\n",
              "      <td>2016-03-14 17:32:30</td>\n",
              "      <td>1</td>\n",
              "      <td>-73.982155</td>\n",
              "      <td>40.767937</td>\n",
              "      <td>-73.964630</td>\n",
              "      <td>40.765602</td>\n",
              "      <td>N</td>\n",
              "      <td>455</td>\n",
              "    </tr>\n",
              "    <tr>\n",
              "      <th>1</th>\n",
              "      <td>id2377394</td>\n",
              "      <td>1</td>\n",
              "      <td>2016-06-12 00:43:35</td>\n",
              "      <td>2016-06-12 00:54:38</td>\n",
              "      <td>1</td>\n",
              "      <td>-73.980415</td>\n",
              "      <td>40.738564</td>\n",
              "      <td>-73.999481</td>\n",
              "      <td>40.731152</td>\n",
              "      <td>N</td>\n",
              "      <td>663</td>\n",
              "    </tr>\n",
              "    <tr>\n",
              "      <th>2</th>\n",
              "      <td>id3858529</td>\n",
              "      <td>2</td>\n",
              "      <td>2016-01-19 11:35:24</td>\n",
              "      <td>2016-01-19 12:10:48</td>\n",
              "      <td>1</td>\n",
              "      <td>-73.979027</td>\n",
              "      <td>40.763939</td>\n",
              "      <td>-74.005333</td>\n",
              "      <td>40.710087</td>\n",
              "      <td>N</td>\n",
              "      <td>2124</td>\n",
              "    </tr>\n",
              "    <tr>\n",
              "      <th>3</th>\n",
              "      <td>id3504673</td>\n",
              "      <td>2</td>\n",
              "      <td>2016-04-06 19:32:31</td>\n",
              "      <td>2016-04-06 19:39:40</td>\n",
              "      <td>1</td>\n",
              "      <td>-74.010040</td>\n",
              "      <td>40.719971</td>\n",
              "      <td>-74.012268</td>\n",
              "      <td>40.706718</td>\n",
              "      <td>N</td>\n",
              "      <td>429</td>\n",
              "    </tr>\n",
              "    <tr>\n",
              "      <th>4</th>\n",
              "      <td>id2181028</td>\n",
              "      <td>2</td>\n",
              "      <td>2016-03-26 13:30:55</td>\n",
              "      <td>2016-03-26 13:38:10</td>\n",
              "      <td>1</td>\n",
              "      <td>-73.973053</td>\n",
              "      <td>40.793209</td>\n",
              "      <td>-73.972923</td>\n",
              "      <td>40.782520</td>\n",
              "      <td>N</td>\n",
              "      <td>435</td>\n",
              "    </tr>\n",
              "  </tbody>\n",
              "</table>\n",
              "    </div>\n",
              "</div>\n",
              "</div>\n",
              "</body>\n",
              "</html>"
            ],
            "text/plain": [
              "<IPython.core.display.HTML object>"
            ]
          },
          "metadata": {
            "tags": []
          }
        }
      ]
    },
    {
      "cell_type": "markdown",
      "metadata": {
        "colab_type": "text",
        "id": "5I4_o4Hb3Zb6"
      },
      "source": [
        "### 3. Exploring the dataset  <a id='explore'>"
      ]
    },
    {
      "cell_type": "code",
      "metadata": {
        "colab_type": "code",
        "id": "fVzMx8lq3Zb7",
        "outputId": "a43308c7-aa0f-4bf6-fc55-29e8df3cae27",
        "colab": {
          "base_uri": "https://localhost:8080/",
          "height": 309
        }
      },
      "source": [
        "df_NYC.head(5)"
      ],
      "execution_count": 18,
      "outputs": [
        {
          "output_type": "execute_result",
          "data": {
            "text/html": [
              "<div>\n",
              "<style scoped>\n",
              "    .dataframe tbody tr th:only-of-type {\n",
              "        vertical-align: middle;\n",
              "    }\n",
              "\n",
              "    .dataframe tbody tr th {\n",
              "        vertical-align: top;\n",
              "    }\n",
              "\n",
              "    .dataframe thead th {\n",
              "        text-align: right;\n",
              "    }\n",
              "</style>\n",
              "<table border=\"1\" class=\"dataframe\">\n",
              "  <thead>\n",
              "    <tr style=\"text-align: right;\">\n",
              "      <th></th>\n",
              "      <th>id</th>\n",
              "      <th>vendor_id</th>\n",
              "      <th>pickup_datetime</th>\n",
              "      <th>dropoff_datetime</th>\n",
              "      <th>passenger_count</th>\n",
              "      <th>pickup_longitude</th>\n",
              "      <th>pickup_latitude</th>\n",
              "      <th>dropoff_longitude</th>\n",
              "      <th>dropoff_latitude</th>\n",
              "      <th>store_and_fwd_flag</th>\n",
              "      <th>trip_duration</th>\n",
              "    </tr>\n",
              "  </thead>\n",
              "  <tbody>\n",
              "    <tr>\n",
              "      <th>0</th>\n",
              "      <td>id2875421</td>\n",
              "      <td>2</td>\n",
              "      <td>2016-03-14 17:24:55</td>\n",
              "      <td>2016-03-14 17:32:30</td>\n",
              "      <td>1</td>\n",
              "      <td>-73.982155</td>\n",
              "      <td>40.767937</td>\n",
              "      <td>-73.964630</td>\n",
              "      <td>40.765602</td>\n",
              "      <td>N</td>\n",
              "      <td>455</td>\n",
              "    </tr>\n",
              "    <tr>\n",
              "      <th>1</th>\n",
              "      <td>id2377394</td>\n",
              "      <td>1</td>\n",
              "      <td>2016-06-12 00:43:35</td>\n",
              "      <td>2016-06-12 00:54:38</td>\n",
              "      <td>1</td>\n",
              "      <td>-73.980415</td>\n",
              "      <td>40.738564</td>\n",
              "      <td>-73.999481</td>\n",
              "      <td>40.731152</td>\n",
              "      <td>N</td>\n",
              "      <td>663</td>\n",
              "    </tr>\n",
              "    <tr>\n",
              "      <th>2</th>\n",
              "      <td>id3858529</td>\n",
              "      <td>2</td>\n",
              "      <td>2016-01-19 11:35:24</td>\n",
              "      <td>2016-01-19 12:10:48</td>\n",
              "      <td>1</td>\n",
              "      <td>-73.979027</td>\n",
              "      <td>40.763939</td>\n",
              "      <td>-74.005333</td>\n",
              "      <td>40.710087</td>\n",
              "      <td>N</td>\n",
              "      <td>2124</td>\n",
              "    </tr>\n",
              "    <tr>\n",
              "      <th>3</th>\n",
              "      <td>id3504673</td>\n",
              "      <td>2</td>\n",
              "      <td>2016-04-06 19:32:31</td>\n",
              "      <td>2016-04-06 19:39:40</td>\n",
              "      <td>1</td>\n",
              "      <td>-74.010040</td>\n",
              "      <td>40.719971</td>\n",
              "      <td>-74.012268</td>\n",
              "      <td>40.706718</td>\n",
              "      <td>N</td>\n",
              "      <td>429</td>\n",
              "    </tr>\n",
              "    <tr>\n",
              "      <th>4</th>\n",
              "      <td>id2181028</td>\n",
              "      <td>2</td>\n",
              "      <td>2016-03-26 13:30:55</td>\n",
              "      <td>2016-03-26 13:38:10</td>\n",
              "      <td>1</td>\n",
              "      <td>-73.973053</td>\n",
              "      <td>40.793209</td>\n",
              "      <td>-73.972923</td>\n",
              "      <td>40.782520</td>\n",
              "      <td>N</td>\n",
              "      <td>435</td>\n",
              "    </tr>\n",
              "  </tbody>\n",
              "</table>\n",
              "</div>"
            ],
            "text/plain": [
              "          id  vendor_id  ... store_and_fwd_flag trip_duration\n",
              "0  id2875421          2  ...                  N           455\n",
              "1  id2377394          1  ...                  N           663\n",
              "2  id3858529          2  ...                  N          2124\n",
              "3  id3504673          2  ...                  N           429\n",
              "4  id2181028          2  ...                  N           435\n",
              "\n",
              "[5 rows x 11 columns]"
            ]
          },
          "metadata": {
            "tags": []
          },
          "execution_count": 18
        }
      ]
    },
    {
      "cell_type": "code",
      "metadata": {
        "colab_type": "code",
        "id": "T2fvkbL39KtL",
        "outputId": "8fe9882d-c549-4a50-e9f8-b1950d48274d",
        "colab": {
          "base_uri": "https://localhost:8080/",
          "height": 309
        }
      },
      "source": [
        "df_NYC.tail()"
      ],
      "execution_count": 19,
      "outputs": [
        {
          "output_type": "execute_result",
          "data": {
            "text/html": [
              "<div>\n",
              "<style scoped>\n",
              "    .dataframe tbody tr th:only-of-type {\n",
              "        vertical-align: middle;\n",
              "    }\n",
              "\n",
              "    .dataframe tbody tr th {\n",
              "        vertical-align: top;\n",
              "    }\n",
              "\n",
              "    .dataframe thead th {\n",
              "        text-align: right;\n",
              "    }\n",
              "</style>\n",
              "<table border=\"1\" class=\"dataframe\">\n",
              "  <thead>\n",
              "    <tr style=\"text-align: right;\">\n",
              "      <th></th>\n",
              "      <th>id</th>\n",
              "      <th>vendor_id</th>\n",
              "      <th>pickup_datetime</th>\n",
              "      <th>dropoff_datetime</th>\n",
              "      <th>passenger_count</th>\n",
              "      <th>pickup_longitude</th>\n",
              "      <th>pickup_latitude</th>\n",
              "      <th>dropoff_longitude</th>\n",
              "      <th>dropoff_latitude</th>\n",
              "      <th>store_and_fwd_flag</th>\n",
              "      <th>trip_duration</th>\n",
              "    </tr>\n",
              "  </thead>\n",
              "  <tbody>\n",
              "    <tr>\n",
              "      <th>62450</th>\n",
              "      <td>id2376096</td>\n",
              "      <td>2</td>\n",
              "      <td>2016-04-08 13:31:04</td>\n",
              "      <td>2016-04-08 13:44:02</td>\n",
              "      <td>4</td>\n",
              "      <td>-73.982201</td>\n",
              "      <td>40.745522</td>\n",
              "      <td>-73.994911</td>\n",
              "      <td>40.740170</td>\n",
              "      <td>N</td>\n",
              "      <td>778</td>\n",
              "    </tr>\n",
              "    <tr>\n",
              "      <th>62451</th>\n",
              "      <td>id1049543</td>\n",
              "      <td>1</td>\n",
              "      <td>2016-01-10 07:35:15</td>\n",
              "      <td>2016-01-10 07:46:10</td>\n",
              "      <td>1</td>\n",
              "      <td>-74.000946</td>\n",
              "      <td>40.747379</td>\n",
              "      <td>-73.970184</td>\n",
              "      <td>40.796547</td>\n",
              "      <td>N</td>\n",
              "      <td>655</td>\n",
              "    </tr>\n",
              "    <tr>\n",
              "      <th>62452</th>\n",
              "      <td>id2304944</td>\n",
              "      <td>2</td>\n",
              "      <td>2016-04-22 06:57:41</td>\n",
              "      <td>2016-04-22 07:10:25</td>\n",
              "      <td>1</td>\n",
              "      <td>-73.959129</td>\n",
              "      <td>40.768799</td>\n",
              "      <td>-74.004433</td>\n",
              "      <td>40.707371</td>\n",
              "      <td>N</td>\n",
              "      <td>764</td>\n",
              "    </tr>\n",
              "    <tr>\n",
              "      <th>62453</th>\n",
              "      <td>id2714485</td>\n",
              "      <td>1</td>\n",
              "      <td>2016-01-05 15:56:26</td>\n",
              "      <td>2016-01-05 16:02:39</td>\n",
              "      <td>1</td>\n",
              "      <td>-73.982079</td>\n",
              "      <td>40.749062</td>\n",
              "      <td>-73.974632</td>\n",
              "      <td>40.757107</td>\n",
              "      <td>N</td>\n",
              "      <td>373</td>\n",
              "    </tr>\n",
              "    <tr>\n",
              "      <th>62454</th>\n",
              "      <td>id1209952</td>\n",
              "      <td>1</td>\n",
              "      <td>2016-04-05 14:44:25</td>\n",
              "      <td>2016-04-05 14:47:43</td>\n",
              "      <td>1</td>\n",
              "      <td>-73.979538</td>\n",
              "      <td>40.781750</td>\n",
              "      <td>-73.972809</td>\n",
              "      <td>40.790585</td>\n",
              "      <td>N</td>\n",
              "      <td>198</td>\n",
              "    </tr>\n",
              "  </tbody>\n",
              "</table>\n",
              "</div>"
            ],
            "text/plain": [
              "              id  vendor_id  ... store_and_fwd_flag trip_duration\n",
              "62450  id2376096          2  ...                  N           778\n",
              "62451  id1049543          1  ...                  N           655\n",
              "62452  id2304944          2  ...                  N           764\n",
              "62453  id2714485          1  ...                  N           373\n",
              "62454  id1209952          1  ...                  N           198\n",
              "\n",
              "[5 rows x 11 columns]"
            ]
          },
          "metadata": {
            "tags": []
          },
          "execution_count": 19
        }
      ]
    },
    {
      "cell_type": "code",
      "metadata": {
        "colab_type": "code",
        "id": "c6PKr2n43ZcJ",
        "outputId": "45134aa3-863a-433e-9f91-ef31fd508b08",
        "colab": {
          "base_uri": "https://localhost:8080/",
          "height": 35
        }
      },
      "source": [
        "df_NYC.shape"
      ],
      "execution_count": 20,
      "outputs": [
        {
          "output_type": "execute_result",
          "data": {
            "text/plain": [
              "(1458644, 11)"
            ]
          },
          "metadata": {
            "tags": []
          },
          "execution_count": 20
        }
      ]
    },
    {
      "cell_type": "code",
      "metadata": {
        "colab_type": "code",
        "id": "f7INnwAU3ZcR",
        "outputId": "327b3687-91ab-4c4b-bbb5-1ceeecc92047",
        "colab": {
          "base_uri": "https://localhost:8080/",
          "height": 295
        }
      },
      "source": [
        "df_NYC.info()"
      ],
      "execution_count": 21,
      "outputs": [
        {
          "output_type": "stream",
          "text": [
            "<class 'pandas.core.frame.DataFrame'>\n",
            "Int64Index: 1458644 entries, 0 to 62454\n",
            "Data columns (total 11 columns):\n",
            "id                    1458644 non-null object\n",
            "vendor_id             1458644 non-null int64\n",
            "pickup_datetime       1458644 non-null object\n",
            "dropoff_datetime      1458644 non-null object\n",
            "passenger_count       1458644 non-null int64\n",
            "pickup_longitude      1458644 non-null float64\n",
            "pickup_latitude       1458644 non-null float64\n",
            "dropoff_longitude     1458644 non-null float64\n",
            "dropoff_latitude      1458644 non-null float64\n",
            "store_and_fwd_flag    1458644 non-null object\n",
            "trip_duration         1458644 non-null int64\n",
            "dtypes: float64(4), int64(3), object(4)\n",
            "memory usage: 133.5+ MB\n"
          ],
          "name": "stdout"
        }
      ]
    },
    {
      "cell_type": "code",
      "metadata": {
        "colab_type": "code",
        "id": "GGFpfiEe9Ktg",
        "outputId": "46cdcb8f-d924-4ad4-8d2b-6efdb58e2ed4",
        "colab": {
          "base_uri": "https://localhost:8080/",
          "height": 294
        }
      },
      "source": [
        "df_NYC.describe()"
      ],
      "execution_count": 22,
      "outputs": [
        {
          "output_type": "execute_result",
          "data": {
            "text/html": [
              "<div>\n",
              "<style scoped>\n",
              "    .dataframe tbody tr th:only-of-type {\n",
              "        vertical-align: middle;\n",
              "    }\n",
              "\n",
              "    .dataframe tbody tr th {\n",
              "        vertical-align: top;\n",
              "    }\n",
              "\n",
              "    .dataframe thead th {\n",
              "        text-align: right;\n",
              "    }\n",
              "</style>\n",
              "<table border=\"1\" class=\"dataframe\">\n",
              "  <thead>\n",
              "    <tr style=\"text-align: right;\">\n",
              "      <th></th>\n",
              "      <th>vendor_id</th>\n",
              "      <th>passenger_count</th>\n",
              "      <th>pickup_longitude</th>\n",
              "      <th>pickup_latitude</th>\n",
              "      <th>dropoff_longitude</th>\n",
              "      <th>dropoff_latitude</th>\n",
              "      <th>trip_duration</th>\n",
              "    </tr>\n",
              "  </thead>\n",
              "  <tbody>\n",
              "    <tr>\n",
              "      <th>count</th>\n",
              "      <td>1.458644e+06</td>\n",
              "      <td>1.458644e+06</td>\n",
              "      <td>1.458644e+06</td>\n",
              "      <td>1.458644e+06</td>\n",
              "      <td>1.458644e+06</td>\n",
              "      <td>1.458644e+06</td>\n",
              "      <td>1.458644e+06</td>\n",
              "    </tr>\n",
              "    <tr>\n",
              "      <th>mean</th>\n",
              "      <td>1.534950e+00</td>\n",
              "      <td>1.664530e+00</td>\n",
              "      <td>-7.397349e+01</td>\n",
              "      <td>4.075092e+01</td>\n",
              "      <td>-7.397342e+01</td>\n",
              "      <td>4.075180e+01</td>\n",
              "      <td>9.594923e+02</td>\n",
              "    </tr>\n",
              "    <tr>\n",
              "      <th>std</th>\n",
              "      <td>4.987772e-01</td>\n",
              "      <td>1.314242e+00</td>\n",
              "      <td>7.090186e-02</td>\n",
              "      <td>3.288119e-02</td>\n",
              "      <td>7.064327e-02</td>\n",
              "      <td>3.589056e-02</td>\n",
              "      <td>5.237432e+03</td>\n",
              "    </tr>\n",
              "    <tr>\n",
              "      <th>min</th>\n",
              "      <td>1.000000e+00</td>\n",
              "      <td>0.000000e+00</td>\n",
              "      <td>-1.219333e+02</td>\n",
              "      <td>3.435970e+01</td>\n",
              "      <td>-1.219333e+02</td>\n",
              "      <td>3.218114e+01</td>\n",
              "      <td>1.000000e+00</td>\n",
              "    </tr>\n",
              "    <tr>\n",
              "      <th>25%</th>\n",
              "      <td>1.000000e+00</td>\n",
              "      <td>1.000000e+00</td>\n",
              "      <td>-7.399187e+01</td>\n",
              "      <td>4.073735e+01</td>\n",
              "      <td>-7.399133e+01</td>\n",
              "      <td>4.073588e+01</td>\n",
              "      <td>3.970000e+02</td>\n",
              "    </tr>\n",
              "    <tr>\n",
              "      <th>50%</th>\n",
              "      <td>2.000000e+00</td>\n",
              "      <td>1.000000e+00</td>\n",
              "      <td>-7.398174e+01</td>\n",
              "      <td>4.075410e+01</td>\n",
              "      <td>-7.397975e+01</td>\n",
              "      <td>4.075452e+01</td>\n",
              "      <td>6.620000e+02</td>\n",
              "    </tr>\n",
              "    <tr>\n",
              "      <th>75%</th>\n",
              "      <td>2.000000e+00</td>\n",
              "      <td>2.000000e+00</td>\n",
              "      <td>-7.396733e+01</td>\n",
              "      <td>4.076836e+01</td>\n",
              "      <td>-7.396301e+01</td>\n",
              "      <td>4.076981e+01</td>\n",
              "      <td>1.075000e+03</td>\n",
              "    </tr>\n",
              "    <tr>\n",
              "      <th>max</th>\n",
              "      <td>2.000000e+00</td>\n",
              "      <td>9.000000e+00</td>\n",
              "      <td>-6.133553e+01</td>\n",
              "      <td>5.188108e+01</td>\n",
              "      <td>-6.133553e+01</td>\n",
              "      <td>4.392103e+01</td>\n",
              "      <td>3.526282e+06</td>\n",
              "    </tr>\n",
              "  </tbody>\n",
              "</table>\n",
              "</div>"
            ],
            "text/plain": [
              "          vendor_id  passenger_count  ...  dropoff_latitude  trip_duration\n",
              "count  1.458644e+06     1.458644e+06  ...      1.458644e+06   1.458644e+06\n",
              "mean   1.534950e+00     1.664530e+00  ...      4.075180e+01   9.594923e+02\n",
              "std    4.987772e-01     1.314242e+00  ...      3.589056e-02   5.237432e+03\n",
              "min    1.000000e+00     0.000000e+00  ...      3.218114e+01   1.000000e+00\n",
              "25%    1.000000e+00     1.000000e+00  ...      4.073588e+01   3.970000e+02\n",
              "50%    2.000000e+00     1.000000e+00  ...      4.075452e+01   6.620000e+02\n",
              "75%    2.000000e+00     2.000000e+00  ...      4.076981e+01   1.075000e+03\n",
              "max    2.000000e+00     9.000000e+00  ...      4.392103e+01   3.526282e+06\n",
              "\n",
              "[8 rows x 7 columns]"
            ]
          },
          "metadata": {
            "tags": []
          },
          "execution_count": 22
        }
      ]
    },
    {
      "cell_type": "code",
      "metadata": {
        "colab_type": "code",
        "id": "izQpMKFf9Ktm",
        "outputId": "b756ecb8-d830-4144-d93b-a170f0d9866e",
        "colab": {
          "base_uri": "https://localhost:8080/",
          "height": 423
        }
      },
      "source": [
        "df_NYC.describe(include = 'all')"
      ],
      "execution_count": 23,
      "outputs": [
        {
          "output_type": "execute_result",
          "data": {
            "text/html": [
              "<div>\n",
              "<style scoped>\n",
              "    .dataframe tbody tr th:only-of-type {\n",
              "        vertical-align: middle;\n",
              "    }\n",
              "\n",
              "    .dataframe tbody tr th {\n",
              "        vertical-align: top;\n",
              "    }\n",
              "\n",
              "    .dataframe thead th {\n",
              "        text-align: right;\n",
              "    }\n",
              "</style>\n",
              "<table border=\"1\" class=\"dataframe\">\n",
              "  <thead>\n",
              "    <tr style=\"text-align: right;\">\n",
              "      <th></th>\n",
              "      <th>id</th>\n",
              "      <th>vendor_id</th>\n",
              "      <th>pickup_datetime</th>\n",
              "      <th>dropoff_datetime</th>\n",
              "      <th>passenger_count</th>\n",
              "      <th>pickup_longitude</th>\n",
              "      <th>pickup_latitude</th>\n",
              "      <th>dropoff_longitude</th>\n",
              "      <th>dropoff_latitude</th>\n",
              "      <th>store_and_fwd_flag</th>\n",
              "      <th>trip_duration</th>\n",
              "    </tr>\n",
              "  </thead>\n",
              "  <tbody>\n",
              "    <tr>\n",
              "      <th>count</th>\n",
              "      <td>1458644</td>\n",
              "      <td>1.458644e+06</td>\n",
              "      <td>1458644</td>\n",
              "      <td>1458644</td>\n",
              "      <td>1.458644e+06</td>\n",
              "      <td>1.458644e+06</td>\n",
              "      <td>1.458644e+06</td>\n",
              "      <td>1.458644e+06</td>\n",
              "      <td>1.458644e+06</td>\n",
              "      <td>1458644</td>\n",
              "      <td>1.458644e+06</td>\n",
              "    </tr>\n",
              "    <tr>\n",
              "      <th>unique</th>\n",
              "      <td>1458644</td>\n",
              "      <td>NaN</td>\n",
              "      <td>1380222</td>\n",
              "      <td>1380377</td>\n",
              "      <td>NaN</td>\n",
              "      <td>NaN</td>\n",
              "      <td>NaN</td>\n",
              "      <td>NaN</td>\n",
              "      <td>NaN</td>\n",
              "      <td>2</td>\n",
              "      <td>NaN</td>\n",
              "    </tr>\n",
              "    <tr>\n",
              "      <th>top</th>\n",
              "      <td>id2218912</td>\n",
              "      <td>NaN</td>\n",
              "      <td>2016-05-07 13:18:07</td>\n",
              "      <td>2016-05-16 19:40:28</td>\n",
              "      <td>NaN</td>\n",
              "      <td>NaN</td>\n",
              "      <td>NaN</td>\n",
              "      <td>NaN</td>\n",
              "      <td>NaN</td>\n",
              "      <td>N</td>\n",
              "      <td>NaN</td>\n",
              "    </tr>\n",
              "    <tr>\n",
              "      <th>freq</th>\n",
              "      <td>1</td>\n",
              "      <td>NaN</td>\n",
              "      <td>5</td>\n",
              "      <td>5</td>\n",
              "      <td>NaN</td>\n",
              "      <td>NaN</td>\n",
              "      <td>NaN</td>\n",
              "      <td>NaN</td>\n",
              "      <td>NaN</td>\n",
              "      <td>1450599</td>\n",
              "      <td>NaN</td>\n",
              "    </tr>\n",
              "    <tr>\n",
              "      <th>mean</th>\n",
              "      <td>NaN</td>\n",
              "      <td>1.534950e+00</td>\n",
              "      <td>NaN</td>\n",
              "      <td>NaN</td>\n",
              "      <td>1.664530e+00</td>\n",
              "      <td>-7.397349e+01</td>\n",
              "      <td>4.075092e+01</td>\n",
              "      <td>-7.397342e+01</td>\n",
              "      <td>4.075180e+01</td>\n",
              "      <td>NaN</td>\n",
              "      <td>9.594923e+02</td>\n",
              "    </tr>\n",
              "    <tr>\n",
              "      <th>std</th>\n",
              "      <td>NaN</td>\n",
              "      <td>4.987772e-01</td>\n",
              "      <td>NaN</td>\n",
              "      <td>NaN</td>\n",
              "      <td>1.314242e+00</td>\n",
              "      <td>7.090186e-02</td>\n",
              "      <td>3.288119e-02</td>\n",
              "      <td>7.064327e-02</td>\n",
              "      <td>3.589056e-02</td>\n",
              "      <td>NaN</td>\n",
              "      <td>5.237432e+03</td>\n",
              "    </tr>\n",
              "    <tr>\n",
              "      <th>min</th>\n",
              "      <td>NaN</td>\n",
              "      <td>1.000000e+00</td>\n",
              "      <td>NaN</td>\n",
              "      <td>NaN</td>\n",
              "      <td>0.000000e+00</td>\n",
              "      <td>-1.219333e+02</td>\n",
              "      <td>3.435970e+01</td>\n",
              "      <td>-1.219333e+02</td>\n",
              "      <td>3.218114e+01</td>\n",
              "      <td>NaN</td>\n",
              "      <td>1.000000e+00</td>\n",
              "    </tr>\n",
              "    <tr>\n",
              "      <th>25%</th>\n",
              "      <td>NaN</td>\n",
              "      <td>1.000000e+00</td>\n",
              "      <td>NaN</td>\n",
              "      <td>NaN</td>\n",
              "      <td>1.000000e+00</td>\n",
              "      <td>-7.399187e+01</td>\n",
              "      <td>4.073735e+01</td>\n",
              "      <td>-7.399133e+01</td>\n",
              "      <td>4.073588e+01</td>\n",
              "      <td>NaN</td>\n",
              "      <td>3.970000e+02</td>\n",
              "    </tr>\n",
              "    <tr>\n",
              "      <th>50%</th>\n",
              "      <td>NaN</td>\n",
              "      <td>2.000000e+00</td>\n",
              "      <td>NaN</td>\n",
              "      <td>NaN</td>\n",
              "      <td>1.000000e+00</td>\n",
              "      <td>-7.398174e+01</td>\n",
              "      <td>4.075410e+01</td>\n",
              "      <td>-7.397975e+01</td>\n",
              "      <td>4.075452e+01</td>\n",
              "      <td>NaN</td>\n",
              "      <td>6.620000e+02</td>\n",
              "    </tr>\n",
              "    <tr>\n",
              "      <th>75%</th>\n",
              "      <td>NaN</td>\n",
              "      <td>2.000000e+00</td>\n",
              "      <td>NaN</td>\n",
              "      <td>NaN</td>\n",
              "      <td>2.000000e+00</td>\n",
              "      <td>-7.396733e+01</td>\n",
              "      <td>4.076836e+01</td>\n",
              "      <td>-7.396301e+01</td>\n",
              "      <td>4.076981e+01</td>\n",
              "      <td>NaN</td>\n",
              "      <td>1.075000e+03</td>\n",
              "    </tr>\n",
              "    <tr>\n",
              "      <th>max</th>\n",
              "      <td>NaN</td>\n",
              "      <td>2.000000e+00</td>\n",
              "      <td>NaN</td>\n",
              "      <td>NaN</td>\n",
              "      <td>9.000000e+00</td>\n",
              "      <td>-6.133553e+01</td>\n",
              "      <td>5.188108e+01</td>\n",
              "      <td>-6.133553e+01</td>\n",
              "      <td>4.392103e+01</td>\n",
              "      <td>NaN</td>\n",
              "      <td>3.526282e+06</td>\n",
              "    </tr>\n",
              "  </tbody>\n",
              "</table>\n",
              "</div>"
            ],
            "text/plain": [
              "               id     vendor_id  ... store_and_fwd_flag trip_duration\n",
              "count     1458644  1.458644e+06  ...            1458644  1.458644e+06\n",
              "unique    1458644           NaN  ...                  2           NaN\n",
              "top     id2218912           NaN  ...                  N           NaN\n",
              "freq            1           NaN  ...            1450599           NaN\n",
              "mean          NaN  1.534950e+00  ...                NaN  9.594923e+02\n",
              "std           NaN  4.987772e-01  ...                NaN  5.237432e+03\n",
              "min           NaN  1.000000e+00  ...                NaN  1.000000e+00\n",
              "25%           NaN  1.000000e+00  ...                NaN  3.970000e+02\n",
              "50%           NaN  2.000000e+00  ...                NaN  6.620000e+02\n",
              "75%           NaN  2.000000e+00  ...                NaN  1.075000e+03\n",
              "max           NaN  2.000000e+00  ...                NaN  3.526282e+06\n",
              "\n",
              "[11 rows x 11 columns]"
            ]
          },
          "metadata": {
            "tags": []
          },
          "execution_count": 23
        }
      ]
    },
    {
      "cell_type": "code",
      "metadata": {
        "colab_type": "code",
        "id": "xekOPnqh9Ktu",
        "colab": {}
      },
      "source": [
        "import seaborn as sns"
      ],
      "execution_count": 0,
      "outputs": []
    },
    {
      "cell_type": "code",
      "metadata": {
        "colab_type": "code",
        "id": "4FHeONZZ3Zbs",
        "colab": {}
      },
      "source": [
        "# Importing the packages\n",
        "import matplotlib.pyplot as plt\n",
        "%matplotlib inline"
      ],
      "execution_count": 0,
      "outputs": []
    },
    {
      "cell_type": "code",
      "metadata": {
        "colab_type": "code",
        "id": "aoYQjF1D9Kt0",
        "outputId": "7fdc9496-cfbf-41b7-b042-99b4d07e165d",
        "colab": {
          "base_uri": "https://localhost:8080/",
          "height": 509
        }
      },
      "source": [
        "plt.figure(figsize=(16,8))\n",
        "sns.heatmap(df_NYC.corr(), annot=True, linewidths=.1,)"
      ],
      "execution_count": 30,
      "outputs": [
        {
          "output_type": "execute_result",
          "data": {
            "text/plain": [
              "<Figure size 1152x576 with 0 Axes>"
            ]
          },
          "metadata": {
            "tags": []
          },
          "execution_count": 30
        },
        {
          "output_type": "execute_result",
          "data": {
            "text/plain": [
              "<matplotlib.axes._subplots.AxesSubplot at 0x7f6949510c18>"
            ]
          },
          "metadata": {
            "tags": []
          },
          "execution_count": 30
        },
        {
          "output_type": "display_data",
          "data": {
            "image/png": "[encoded data removed]",
            "text/plain": [
              "<Figure size 1152x576 with 2 Axes>"
            ]
          },
          "metadata": {
            "tags": []
          }
        }
      ]
    },
    {
      "cell_type": "markdown",
      "metadata": {
        "colab_type": "text",
        "id": "XluNy4Vj4ZcX"
      },
      "source": [
        "From the correlation diagram we can see pickup_longitude, pickup latitude is positively correclated with dropoff_latitude and dropoff_latitude"
      ]
    },
    {
      "cell_type": "markdown",
      "metadata": {
        "colab_type": "text",
        "id": "iuunZdnV9Kt7"
      },
      "source": [
        "### 4. Feature Engineering"
      ]
    },
    {
      "cell_type": "code",
      "metadata": {
        "colab_type": "code",
        "id": "IyogFn1p9Kt-",
        "colab": {}
      },
      "source": [
        "df_NYC.dropna(how='all',inplace=True)"
      ],
      "execution_count": 0,
      "outputs": []
    },
    {
      "cell_type": "code",
      "metadata": {
        "colab_type": "code",
        "id": "IZooao1v9KuI",
        "outputId": "9d7755d2-33a0-4e07-f23f-cc3a256594f4",
        "colab": {
          "base_uri": "https://localhost:8080/",
          "height": 35
        }
      },
      "source": [
        "df_NYC.shape"
      ],
      "execution_count": 0,
      "outputs": [
        {
          "output_type": "execute_result",
          "data": {
            "text/plain": [
              "(1458644, 11)"
            ]
          },
          "metadata": {
            "tags": []
          },
          "execution_count": 30
        }
      ]
    },
    {
      "cell_type": "code",
      "metadata": {
        "id": "oR0XcRPowwts",
        "colab_type": "code",
        "outputId": "4a9cc308-ce57-4c70-cf55-e71891ba9214",
        "colab": {
          "base_uri": "https://localhost:8080/",
          "height": 35
        }
      },
      "source": [
        "#Find Null values if any\n",
        "df_NYC.isnull().values.any()"
      ],
      "execution_count": 0,
      "outputs": [
        {
          "output_type": "execute_result",
          "data": {
            "text/plain": [
              "False"
            ]
          },
          "metadata": {
            "tags": []
          },
          "execution_count": 31
        }
      ]
    },
    {
      "cell_type": "code",
      "metadata": {
        "id": "v4f9cd_F_MtA",
        "colab_type": "code",
        "outputId": "703128d9-c37f-458b-d21a-c20fdf3b6b08",
        "colab": {
          "base_uri": "https://localhost:8080/",
          "height": 609
        }
      },
      "source": [
        "df_NYC"
      ],
      "execution_count": 0,
      "outputs": [
        {
          "output_type": "execute_result",
          "data": {
            "text/html": [
              "<div>\n",
              "<style scoped>\n",
              "    .dataframe tbody tr th:only-of-type {\n",
              "        vertical-align: middle;\n",
              "    }\n",
              "\n",
              "    .dataframe tbody tr th {\n",
              "        vertical-align: top;\n",
              "    }\n",
              "\n",
              "    .dataframe thead th {\n",
              "        text-align: right;\n",
              "    }\n",
              "</style>\n",
              "<table border=\"1\" class=\"dataframe\">\n",
              "  <thead>\n",
              "    <tr style=\"text-align: right;\">\n",
              "      <th></th>\n",
              "      <th>id</th>\n",
              "      <th>vendor_id</th>\n",
              "      <th>pickup_datetime</th>\n",
              "      <th>dropoff_datetime</th>\n",
              "      <th>passenger_count</th>\n",
              "      <th>pickup_longitude</th>\n",
              "      <th>pickup_latitude</th>\n",
              "      <th>dropoff_longitude</th>\n",
              "      <th>dropoff_latitude</th>\n",
              "      <th>store_and_fwd_flag</th>\n",
              "      <th>trip_duration</th>\n",
              "    </tr>\n",
              "  </thead>\n",
              "  <tbody>\n",
              "    <tr>\n",
              "      <th>0</th>\n",
              "      <td>id2875421</td>\n",
              "      <td>2</td>\n",
              "      <td>2016-03-14 17:24:55</td>\n",
              "      <td>2016-03-14 17:32:30</td>\n",
              "      <td>1</td>\n",
              "      <td>-73.982155</td>\n",
              "      <td>40.767937</td>\n",
              "      <td>-73.964630</td>\n",
              "      <td>40.765602</td>\n",
              "      <td>N</td>\n",
              "      <td>455</td>\n",
              "    </tr>\n",
              "    <tr>\n",
              "      <th>1</th>\n",
              "      <td>id2377394</td>\n",
              "      <td>1</td>\n",
              "      <td>2016-06-12 00:43:35</td>\n",
              "      <td>2016-06-12 00:54:38</td>\n",
              "      <td>1</td>\n",
              "      <td>-73.980415</td>\n",
              "      <td>40.738564</td>\n",
              "      <td>-73.999481</td>\n",
              "      <td>40.731152</td>\n",
              "      <td>N</td>\n",
              "      <td>663</td>\n",
              "    </tr>\n",
              "    <tr>\n",
              "      <th>2</th>\n",
              "      <td>id3858529</td>\n",
              "      <td>2</td>\n",
              "      <td>2016-01-19 11:35:24</td>\n",
              "      <td>2016-01-19 12:10:48</td>\n",
              "      <td>1</td>\n",
              "      <td>-73.979027</td>\n",
              "      <td>40.763939</td>\n",
              "      <td>-74.005333</td>\n",
              "      <td>40.710087</td>\n",
              "      <td>N</td>\n",
              "      <td>2124</td>\n",
              "    </tr>\n",
              "    <tr>\n",
              "      <th>3</th>\n",
              "      <td>id3504673</td>\n",
              "      <td>2</td>\n",
              "      <td>2016-04-06 19:32:31</td>\n",
              "      <td>2016-04-06 19:39:40</td>\n",
              "      <td>1</td>\n",
              "      <td>-74.010040</td>\n",
              "      <td>40.719971</td>\n",
              "      <td>-74.012268</td>\n",
              "      <td>40.706718</td>\n",
              "      <td>N</td>\n",
              "      <td>429</td>\n",
              "    </tr>\n",
              "    <tr>\n",
              "      <th>4</th>\n",
              "      <td>id2181028</td>\n",
              "      <td>2</td>\n",
              "      <td>2016-03-26 13:30:55</td>\n",
              "      <td>2016-03-26 13:38:10</td>\n",
              "      <td>1</td>\n",
              "      <td>-73.973053</td>\n",
              "      <td>40.793209</td>\n",
              "      <td>-73.972923</td>\n",
              "      <td>40.782520</td>\n",
              "      <td>N</td>\n",
              "      <td>435</td>\n",
              "    </tr>\n",
              "    <tr>\n",
              "      <th>...</th>\n",
              "      <td>...</td>\n",
              "      <td>...</td>\n",
              "      <td>...</td>\n",
              "      <td>...</td>\n",
              "      <td>...</td>\n",
              "      <td>...</td>\n",
              "      <td>...</td>\n",
              "      <td>...</td>\n",
              "      <td>...</td>\n",
              "      <td>...</td>\n",
              "      <td>...</td>\n",
              "    </tr>\n",
              "    <tr>\n",
              "      <th>62450</th>\n",
              "      <td>id2376096</td>\n",
              "      <td>2</td>\n",
              "      <td>2016-04-08 13:31:04</td>\n",
              "      <td>2016-04-08 13:44:02</td>\n",
              "      <td>4</td>\n",
              "      <td>-73.982201</td>\n",
              "      <td>40.745522</td>\n",
              "      <td>-73.994911</td>\n",
              "      <td>40.740170</td>\n",
              "      <td>N</td>\n",
              "      <td>778</td>\n",
              "    </tr>\n",
              "    <tr>\n",
              "      <th>62451</th>\n",
              "      <td>id1049543</td>\n",
              "      <td>1</td>\n",
              "      <td>2016-01-10 07:35:15</td>\n",
              "      <td>2016-01-10 07:46:10</td>\n",
              "      <td>1</td>\n",
              "      <td>-74.000946</td>\n",
              "      <td>40.747379</td>\n",
              "      <td>-73.970184</td>\n",
              "      <td>40.796547</td>\n",
              "      <td>N</td>\n",
              "      <td>655</td>\n",
              "    </tr>\n",
              "    <tr>\n",
              "      <th>62452</th>\n",
              "      <td>id2304944</td>\n",
              "      <td>2</td>\n",
              "      <td>2016-04-22 06:57:41</td>\n",
              "      <td>2016-04-22 07:10:25</td>\n",
              "      <td>1</td>\n",
              "      <td>-73.959129</td>\n",
              "      <td>40.768799</td>\n",
              "      <td>-74.004433</td>\n",
              "      <td>40.707371</td>\n",
              "      <td>N</td>\n",
              "      <td>764</td>\n",
              "    </tr>\n",
              "    <tr>\n",
              "      <th>62453</th>\n",
              "      <td>id2714485</td>\n",
              "      <td>1</td>\n",
              "      <td>2016-01-05 15:56:26</td>\n",
              "      <td>2016-01-05 16:02:39</td>\n",
              "      <td>1</td>\n",
              "      <td>-73.982079</td>\n",
              "      <td>40.749062</td>\n",
              "      <td>-73.974632</td>\n",
              "      <td>40.757107</td>\n",
              "      <td>N</td>\n",
              "      <td>373</td>\n",
              "    </tr>\n",
              "    <tr>\n",
              "      <th>62454</th>\n",
              "      <td>id1209952</td>\n",
              "      <td>1</td>\n",
              "      <td>2016-04-05 14:44:25</td>\n",
              "      <td>2016-04-05 14:47:43</td>\n",
              "      <td>1</td>\n",
              "      <td>-73.979538</td>\n",
              "      <td>40.781750</td>\n",
              "      <td>-73.972809</td>\n",
              "      <td>40.790585</td>\n",
              "      <td>N</td>\n",
              "      <td>198</td>\n",
              "    </tr>\n",
              "  </tbody>\n",
              "</table>\n",
              "<p>1458644 rows × 11 columns</p>\n",
              "</div>"
            ],
            "text/plain": [
              "              id  vendor_id  ... store_and_fwd_flag trip_duration\n",
              "0      id2875421          2  ...                  N           455\n",
              "1      id2377394          1  ...                  N           663\n",
              "2      id3858529          2  ...                  N          2124\n",
              "3      id3504673          2  ...                  N           429\n",
              "4      id2181028          2  ...                  N           435\n",
              "...          ...        ...  ...                ...           ...\n",
              "62450  id2376096          2  ...                  N           778\n",
              "62451  id1049543          1  ...                  N           655\n",
              "62452  id2304944          2  ...                  N           764\n",
              "62453  id2714485          1  ...                  N           373\n",
              "62454  id1209952          1  ...                  N           198\n",
              "\n",
              "[1458644 rows x 11 columns]"
            ]
          },
          "metadata": {
            "tags": []
          },
          "execution_count": 33
        }
      ]
    },
    {
      "cell_type": "code",
      "metadata": {
        "colab_type": "code",
        "id": "jkE6WswL9KuY",
        "colab": {}
      },
      "source": [
        "#Convert Object type to String\n",
        "df_NYC[\"pickup_datetime\"]=pd.to_datetime(df_NYC[\"pickup_datetime\"])\n",
        "df_NYC[\"dropoff_datetime\"]=pd.to_datetime(df_NYC[\"dropoff_datetime\"])"
      ],
      "execution_count": 0,
      "outputs": []
    },
    {
      "cell_type": "code",
      "metadata": {
        "colab_type": "code",
        "id": "SbexLN2Z9Kuh",
        "colab": {}
      },
      "source": [
        "#Split hour from time into new column\n",
        "#df_NYC[\"Hour\"]=df_NYC[\"Time\"].apply(lambda x: int(x.split(':')[0]))"
      ],
      "execution_count": 0,
      "outputs": []
    },
    {
      "cell_type": "code",
      "metadata": {
        "colab_type": "code",
        "id": "QvXZjHj-9Kun",
        "colab": {}
      },
      "source": [
        "from datetime import datetime"
      ],
      "execution_count": 0,
      "outputs": []
    },
    {
      "cell_type": "code",
      "metadata": {
        "colab_type": "code",
        "id": "HIaLbIDJ9Kuw",
        "outputId": "6f95924d-0907-46cc-94a2-9f2fc61f7f47",
        "colab": {
          "base_uri": "https://localhost:8080/",
          "height": 52
        }
      },
      "source": [
        "print (df_NYC[\"pickup_datetime\"].dtype)\n",
        "print (df_NYC[\"dropoff_datetime\"].dtype)"
      ],
      "execution_count": 0,
      "outputs": [
        {
          "output_type": "stream",
          "text": [
            "datetime64[ns]\n",
            "datetime64[ns]\n"
          ],
          "name": "stdout"
        }
      ]
    },
    {
      "cell_type": "code",
      "metadata": {
        "colab_type": "code",
        "id": "uUT9j2CD9Ku9",
        "colab": {}
      },
      "source": [
        "df_NYC[\"picup_Date\"] = pd.to_datetime(df_NYC[\"pickup_datetime\"]) \n",
        "df_NYC[\"dropof_Date\"] = pd.to_datetime(df_NYC[\"dropoff_datetime\"]) \n",
        "#print (df_air_O['Date'].dtype)"
      ],
      "execution_count": 0,
      "outputs": []
    },
    {
      "cell_type": "code",
      "metadata": {
        "colab_type": "code",
        "id": "ZaY_GDmO9KvG",
        "outputId": "01ef0476-fdf5-4916-d326-d1915feb2c67",
        "colab": {
          "base_uri": "https://localhost:8080/",
          "height": 329
        }
      },
      "source": [
        "df_NYC.info()"
      ],
      "execution_count": 0,
      "outputs": [
        {
          "output_type": "stream",
          "text": [
            "<class 'pandas.core.frame.DataFrame'>\n",
            "Int64Index: 1458644 entries, 0 to 62454\n",
            "Data columns (total 13 columns):\n",
            "id                    1458644 non-null object\n",
            "vendor_id             1458644 non-null int64\n",
            "pickup_datetime       1458644 non-null datetime64[ns]\n",
            "dropoff_datetime      1458644 non-null datetime64[ns]\n",
            "passenger_count       1458644 non-null int64\n",
            "pickup_longitude      1458644 non-null float64\n",
            "pickup_latitude       1458644 non-null float64\n",
            "dropoff_longitude     1458644 non-null float64\n",
            "dropoff_latitude      1458644 non-null float64\n",
            "store_and_fwd_flag    1458644 non-null object\n",
            "trip_duration         1458644 non-null int64\n",
            "picup_Date            1458644 non-null datetime64[ns]\n",
            "dropof_Date           1458644 non-null datetime64[ns]\n",
            "dtypes: datetime64[ns](4), float64(4), int64(3), object(2)\n",
            "memory usage: 155.8+ MB\n"
          ],
          "name": "stdout"
        }
      ]
    },
    {
      "cell_type": "code",
      "metadata": {
        "id": "7Lv8rtjrmeYn",
        "colab_type": "code",
        "outputId": "1d0c9688-6938-40a0-81dc-a3b208d3b821",
        "colab": {
          "base_uri": "https://localhost:8080/",
          "height": 35
        }
      },
      "source": [
        "df_NYC.shape"
      ],
      "execution_count": 0,
      "outputs": [
        {
          "output_type": "execute_result",
          "data": {
            "text/plain": [
              "(1458644, 13)"
            ]
          },
          "metadata": {
            "tags": []
          },
          "execution_count": 38
        }
      ]
    },
    {
      "cell_type": "code",
      "metadata": {
        "colab_type": "code",
        "id": "S9-umH6e9KvQ",
        "outputId": "12ed56be-a732-4fbe-9ef7-b3cbe829e240",
        "colab": {
          "base_uri": "https://localhost:8080/",
          "height": 35
        }
      },
      "source": [
        "df_NYC.shape"
      ],
      "execution_count": 0,
      "outputs": [
        {
          "output_type": "execute_result",
          "data": {
            "text/plain": [
              "(1458644, 13)"
            ]
          },
          "metadata": {
            "tags": []
          },
          "execution_count": 35
        }
      ]
    },
    {
      "cell_type": "code",
      "metadata": {
        "id": "PrEcyVX4wwvo",
        "colab_type": "code",
        "outputId": "d541887a-17ef-4ef5-9d74-9d5a6e31312e",
        "colab": {
          "base_uri": "https://localhost:8080/",
          "height": 549
        }
      },
      "source": [
        "df_NYC.head(5)"
      ],
      "execution_count": 0,
      "outputs": [
        {
          "output_type": "execute_result",
          "data": {
            "text/html": [
              "<div>\n",
              "<style scoped>\n",
              "    .dataframe tbody tr th:only-of-type {\n",
              "        vertical-align: middle;\n",
              "    }\n",
              "\n",
              "    .dataframe tbody tr th {\n",
              "        vertical-align: top;\n",
              "    }\n",
              "\n",
              "    .dataframe thead th {\n",
              "        text-align: right;\n",
              "    }\n",
              "</style>\n",
              "<table border=\"1\" class=\"dataframe\">\n",
              "  <thead>\n",
              "    <tr style=\"text-align: right;\">\n",
              "      <th></th>\n",
              "      <th>id</th>\n",
              "      <th>vendor_id</th>\n",
              "      <th>pickup_datetime</th>\n",
              "      <th>dropoff_datetime</th>\n",
              "      <th>passenger_count</th>\n",
              "      <th>pickup_longitude</th>\n",
              "      <th>pickup_latitude</th>\n",
              "      <th>dropoff_longitude</th>\n",
              "      <th>dropoff_latitude</th>\n",
              "      <th>store_and_fwd_flag</th>\n",
              "      <th>trip_duration</th>\n",
              "      <th>picup_Date</th>\n",
              "      <th>dropof_Date</th>\n",
              "    </tr>\n",
              "  </thead>\n",
              "  <tbody>\n",
              "    <tr>\n",
              "      <th>0</th>\n",
              "      <td>id2875421</td>\n",
              "      <td>2</td>\n",
              "      <td>2016-03-14 17:24:55</td>\n",
              "      <td>2016-03-14 17:32:30</td>\n",
              "      <td>1</td>\n",
              "      <td>-73.982155</td>\n",
              "      <td>40.767937</td>\n",
              "      <td>-73.964630</td>\n",
              "      <td>40.765602</td>\n",
              "      <td>N</td>\n",
              "      <td>455</td>\n",
              "      <td>2016-03-14 17:24:55</td>\n",
              "      <td>2016-03-14 17:32:30</td>\n",
              "    </tr>\n",
              "    <tr>\n",
              "      <th>1</th>\n",
              "      <td>id2377394</td>\n",
              "      <td>1</td>\n",
              "      <td>2016-06-12 00:43:35</td>\n",
              "      <td>2016-06-12 00:54:38</td>\n",
              "      <td>1</td>\n",
              "      <td>-73.980415</td>\n",
              "      <td>40.738564</td>\n",
              "      <td>-73.999481</td>\n",
              "      <td>40.731152</td>\n",
              "      <td>N</td>\n",
              "      <td>663</td>\n",
              "      <td>2016-06-12 00:43:35</td>\n",
              "      <td>2016-06-12 00:54:38</td>\n",
              "    </tr>\n",
              "    <tr>\n",
              "      <th>2</th>\n",
              "      <td>id3858529</td>\n",
              "      <td>2</td>\n",
              "      <td>2016-01-19 11:35:24</td>\n",
              "      <td>2016-01-19 12:10:48</td>\n",
              "      <td>1</td>\n",
              "      <td>-73.979027</td>\n",
              "      <td>40.763939</td>\n",
              "      <td>-74.005333</td>\n",
              "      <td>40.710087</td>\n",
              "      <td>N</td>\n",
              "      <td>2124</td>\n",
              "      <td>2016-01-19 11:35:24</td>\n",
              "      <td>2016-01-19 12:10:48</td>\n",
              "    </tr>\n",
              "    <tr>\n",
              "      <th>3</th>\n",
              "      <td>id3504673</td>\n",
              "      <td>2</td>\n",
              "      <td>2016-04-06 19:32:31</td>\n",
              "      <td>2016-04-06 19:39:40</td>\n",
              "      <td>1</td>\n",
              "      <td>-74.010040</td>\n",
              "      <td>40.719971</td>\n",
              "      <td>-74.012268</td>\n",
              "      <td>40.706718</td>\n",
              "      <td>N</td>\n",
              "      <td>429</td>\n",
              "      <td>2016-04-06 19:32:31</td>\n",
              "      <td>2016-04-06 19:39:40</td>\n",
              "    </tr>\n",
              "    <tr>\n",
              "      <th>4</th>\n",
              "      <td>id2181028</td>\n",
              "      <td>2</td>\n",
              "      <td>2016-03-26 13:30:55</td>\n",
              "      <td>2016-03-26 13:38:10</td>\n",
              "      <td>1</td>\n",
              "      <td>-73.973053</td>\n",
              "      <td>40.793209</td>\n",
              "      <td>-73.972923</td>\n",
              "      <td>40.782520</td>\n",
              "      <td>N</td>\n",
              "      <td>435</td>\n",
              "      <td>2016-03-26 13:30:55</td>\n",
              "      <td>2016-03-26 13:38:10</td>\n",
              "    </tr>\n",
              "    <tr>\n",
              "      <th>5</th>\n",
              "      <td>id0801584</td>\n",
              "      <td>2</td>\n",
              "      <td>2016-01-30 22:01:40</td>\n",
              "      <td>2016-01-30 22:09:03</td>\n",
              "      <td>6</td>\n",
              "      <td>-73.982857</td>\n",
              "      <td>40.742195</td>\n",
              "      <td>-73.992081</td>\n",
              "      <td>40.749184</td>\n",
              "      <td>N</td>\n",
              "      <td>443</td>\n",
              "      <td>2016-01-30 22:01:40</td>\n",
              "      <td>2016-01-30 22:09:03</td>\n",
              "    </tr>\n",
              "    <tr>\n",
              "      <th>6</th>\n",
              "      <td>id1813257</td>\n",
              "      <td>1</td>\n",
              "      <td>2016-06-17 22:34:59</td>\n",
              "      <td>2016-06-17 22:40:40</td>\n",
              "      <td>4</td>\n",
              "      <td>-73.969017</td>\n",
              "      <td>40.757839</td>\n",
              "      <td>-73.957405</td>\n",
              "      <td>40.765896</td>\n",
              "      <td>N</td>\n",
              "      <td>341</td>\n",
              "      <td>2016-06-17 22:34:59</td>\n",
              "      <td>2016-06-17 22:40:40</td>\n",
              "    </tr>\n",
              "    <tr>\n",
              "      <th>7</th>\n",
              "      <td>id1324603</td>\n",
              "      <td>2</td>\n",
              "      <td>2016-05-21 07:54:58</td>\n",
              "      <td>2016-05-21 08:20:49</td>\n",
              "      <td>1</td>\n",
              "      <td>-73.969276</td>\n",
              "      <td>40.797779</td>\n",
              "      <td>-73.922470</td>\n",
              "      <td>40.760559</td>\n",
              "      <td>N</td>\n",
              "      <td>1551</td>\n",
              "      <td>2016-05-21 07:54:58</td>\n",
              "      <td>2016-05-21 08:20:49</td>\n",
              "    </tr>\n",
              "    <tr>\n",
              "      <th>8</th>\n",
              "      <td>id1301050</td>\n",
              "      <td>1</td>\n",
              "      <td>2016-05-27 23:12:23</td>\n",
              "      <td>2016-05-27 23:16:38</td>\n",
              "      <td>1</td>\n",
              "      <td>-73.999481</td>\n",
              "      <td>40.738400</td>\n",
              "      <td>-73.985786</td>\n",
              "      <td>40.732815</td>\n",
              "      <td>N</td>\n",
              "      <td>255</td>\n",
              "      <td>2016-05-27 23:12:23</td>\n",
              "      <td>2016-05-27 23:16:38</td>\n",
              "    </tr>\n",
              "    <tr>\n",
              "      <th>9</th>\n",
              "      <td>id0012891</td>\n",
              "      <td>2</td>\n",
              "      <td>2016-03-10 21:45:01</td>\n",
              "      <td>2016-03-10 22:05:26</td>\n",
              "      <td>1</td>\n",
              "      <td>-73.981049</td>\n",
              "      <td>40.744339</td>\n",
              "      <td>-73.973000</td>\n",
              "      <td>40.789989</td>\n",
              "      <td>N</td>\n",
              "      <td>1225</td>\n",
              "      <td>2016-03-10 21:45:01</td>\n",
              "      <td>2016-03-10 22:05:26</td>\n",
              "    </tr>\n",
              "  </tbody>\n",
              "</table>\n",
              "</div>"
            ],
            "text/plain": [
              "          id  vendor_id  ...          picup_Date         dropof_Date\n",
              "0  id2875421          2  ... 2016-03-14 17:24:55 2016-03-14 17:32:30\n",
              "1  id2377394          1  ... 2016-06-12 00:43:35 2016-06-12 00:54:38\n",
              "2  id3858529          2  ... 2016-01-19 11:35:24 2016-01-19 12:10:48\n",
              "3  id3504673          2  ... 2016-04-06 19:32:31 2016-04-06 19:39:40\n",
              "4  id2181028          2  ... 2016-03-26 13:30:55 2016-03-26 13:38:10\n",
              "5  id0801584          2  ... 2016-01-30 22:01:40 2016-01-30 22:09:03\n",
              "6  id1813257          1  ... 2016-06-17 22:34:59 2016-06-17 22:40:40\n",
              "7  id1324603          2  ... 2016-05-21 07:54:58 2016-05-21 08:20:49\n",
              "8  id1301050          1  ... 2016-05-27 23:12:23 2016-05-27 23:16:38\n",
              "9  id0012891          2  ... 2016-03-10 21:45:01 2016-03-10 22:05:26\n",
              "\n",
              "[10 rows x 13 columns]"
            ]
          },
          "metadata": {
            "tags": []
          },
          "execution_count": 36
        }
      ]
    },
    {
      "cell_type": "code",
      "metadata": {
        "colab_type": "code",
        "id": "h0EaWTbi9KwY",
        "colab": {}
      },
      "source": [
        "#df_NYC.to_excel(\"NYC.xlsx\",sheet_name='Sheet_name_1')"
      ],
      "execution_count": 0,
      "outputs": []
    },
    {
      "cell_type": "code",
      "metadata": {
        "colab_type": "code",
        "id": "DKsHa8UY9Kwh",
        "colab": {}
      },
      "source": [
        "#For extracting year,month and day to new column, the code as below:\n",
        "df_NYC['picupYear'] = df_NYC['pickup_datetime'].dt.year\n",
        "df_NYC['picupMonth'] = df_NYC['pickup_datetime'].dt.month\n",
        "df_NYC['picupDay'] = df_NYC['pickup_datetime'].dt.day\n",
        "df_NYC['picupTime'] = df_NYC['pickup_datetime'].dt.time"
      ],
      "execution_count": 0,
      "outputs": []
    },
    {
      "cell_type": "code",
      "metadata": {
        "id": "SkkQJJZWwwwQ",
        "colab_type": "code",
        "colab": {}
      },
      "source": [
        "df_NYC['dropofYear'] = df_NYC['dropoff_datetime'].dt.year\n",
        "df_NYC['dropofMonth'] = df_NYC['dropoff_datetime'].dt.month\n",
        "df_NYC['dropofDay'] = df_NYC['dropoff_datetime'].dt.day\n",
        "df_NYC['dropofTime'] = df_NYC['dropoff_datetime'].dt.time"
      ],
      "execution_count": 0,
      "outputs": []
    },
    {
      "cell_type": "code",
      "metadata": {
        "id": "REqgKojhwwwX",
        "colab_type": "code",
        "outputId": "5900319c-8ab7-420c-d100-7f4a198ec891",
        "colab": {
          "base_uri": "https://localhost:8080/",
          "height": 35
        }
      },
      "source": [
        "df_NYC.shape"
      ],
      "execution_count": 0,
      "outputs": [
        {
          "output_type": "execute_result",
          "data": {
            "text/plain": [
              "(1458644, 21)"
            ]
          },
          "metadata": {
            "tags": []
          },
          "execution_count": 41
        }
      ]
    },
    {
      "cell_type": "code",
      "metadata": {
        "id": "YDrXB6hmwwwf",
        "colab_type": "code",
        "outputId": "46f7e83a-3b2b-465a-e140-b66c25e3805a",
        "colab": {
          "base_uri": "https://localhost:8080/",
          "height": 309
        }
      },
      "source": [
        "df_NYC.head(5)"
      ],
      "execution_count": 0,
      "outputs": [
        {
          "output_type": "execute_result",
          "data": {
            "text/html": [
              "<div>\n",
              "<style scoped>\n",
              "    .dataframe tbody tr th:only-of-type {\n",
              "        vertical-align: middle;\n",
              "    }\n",
              "\n",
              "    .dataframe tbody tr th {\n",
              "        vertical-align: top;\n",
              "    }\n",
              "\n",
              "    .dataframe thead th {\n",
              "        text-align: right;\n",
              "    }\n",
              "</style>\n",
              "<table border=\"1\" class=\"dataframe\">\n",
              "  <thead>\n",
              "    <tr style=\"text-align: right;\">\n",
              "      <th></th>\n",
              "      <th>id</th>\n",
              "      <th>vendor_id</th>\n",
              "      <th>pickup_datetime</th>\n",
              "      <th>dropoff_datetime</th>\n",
              "      <th>passenger_count</th>\n",
              "      <th>pickup_longitude</th>\n",
              "      <th>pickup_latitude</th>\n",
              "      <th>dropoff_longitude</th>\n",
              "      <th>dropoff_latitude</th>\n",
              "      <th>store_and_fwd_flag</th>\n",
              "      <th>trip_duration</th>\n",
              "      <th>picup_Date</th>\n",
              "      <th>dropof_Date</th>\n",
              "      <th>picupYear</th>\n",
              "      <th>picupMonth</th>\n",
              "      <th>picupDay</th>\n",
              "      <th>picupTime</th>\n",
              "      <th>dropofYear</th>\n",
              "      <th>dropofMonth</th>\n",
              "      <th>dropofDay</th>\n",
              "      <th>dropofTime</th>\n",
              "    </tr>\n",
              "  </thead>\n",
              "  <tbody>\n",
              "    <tr>\n",
              "      <th>0</th>\n",
              "      <td>id2875421</td>\n",
              "      <td>2</td>\n",
              "      <td>2016-03-14 17:24:55</td>\n",
              "      <td>2016-03-14 17:32:30</td>\n",
              "      <td>1</td>\n",
              "      <td>-73.982155</td>\n",
              "      <td>40.767937</td>\n",
              "      <td>-73.964630</td>\n",
              "      <td>40.765602</td>\n",
              "      <td>N</td>\n",
              "      <td>455</td>\n",
              "      <td>2016-03-14 17:24:55</td>\n",
              "      <td>2016-03-14 17:32:30</td>\n",
              "      <td>2016</td>\n",
              "      <td>3</td>\n",
              "      <td>14</td>\n",
              "      <td>17:24:55</td>\n",
              "      <td>2016</td>\n",
              "      <td>3</td>\n",
              "      <td>14</td>\n",
              "      <td>17:32:30</td>\n",
              "    </tr>\n",
              "    <tr>\n",
              "      <th>1</th>\n",
              "      <td>id2377394</td>\n",
              "      <td>1</td>\n",
              "      <td>2016-06-12 00:43:35</td>\n",
              "      <td>2016-06-12 00:54:38</td>\n",
              "      <td>1</td>\n",
              "      <td>-73.980415</td>\n",
              "      <td>40.738564</td>\n",
              "      <td>-73.999481</td>\n",
              "      <td>40.731152</td>\n",
              "      <td>N</td>\n",
              "      <td>663</td>\n",
              "      <td>2016-06-12 00:43:35</td>\n",
              "      <td>2016-06-12 00:54:38</td>\n",
              "      <td>2016</td>\n",
              "      <td>6</td>\n",
              "      <td>12</td>\n",
              "      <td>00:43:35</td>\n",
              "      <td>2016</td>\n",
              "      <td>6</td>\n",
              "      <td>12</td>\n",
              "      <td>00:54:38</td>\n",
              "    </tr>\n",
              "    <tr>\n",
              "      <th>2</th>\n",
              "      <td>id3858529</td>\n",
              "      <td>2</td>\n",
              "      <td>2016-01-19 11:35:24</td>\n",
              "      <td>2016-01-19 12:10:48</td>\n",
              "      <td>1</td>\n",
              "      <td>-73.979027</td>\n",
              "      <td>40.763939</td>\n",
              "      <td>-74.005333</td>\n",
              "      <td>40.710087</td>\n",
              "      <td>N</td>\n",
              "      <td>2124</td>\n",
              "      <td>2016-01-19 11:35:24</td>\n",
              "      <td>2016-01-19 12:10:48</td>\n",
              "      <td>2016</td>\n",
              "      <td>1</td>\n",
              "      <td>19</td>\n",
              "      <td>11:35:24</td>\n",
              "      <td>2016</td>\n",
              "      <td>1</td>\n",
              "      <td>19</td>\n",
              "      <td>12:10:48</td>\n",
              "    </tr>\n",
              "    <tr>\n",
              "      <th>3</th>\n",
              "      <td>id3504673</td>\n",
              "      <td>2</td>\n",
              "      <td>2016-04-06 19:32:31</td>\n",
              "      <td>2016-04-06 19:39:40</td>\n",
              "      <td>1</td>\n",
              "      <td>-74.010040</td>\n",
              "      <td>40.719971</td>\n",
              "      <td>-74.012268</td>\n",
              "      <td>40.706718</td>\n",
              "      <td>N</td>\n",
              "      <td>429</td>\n",
              "      <td>2016-04-06 19:32:31</td>\n",
              "      <td>2016-04-06 19:39:40</td>\n",
              "      <td>2016</td>\n",
              "      <td>4</td>\n",
              "      <td>6</td>\n",
              "      <td>19:32:31</td>\n",
              "      <td>2016</td>\n",
              "      <td>4</td>\n",
              "      <td>6</td>\n",
              "      <td>19:39:40</td>\n",
              "    </tr>\n",
              "    <tr>\n",
              "      <th>4</th>\n",
              "      <td>id2181028</td>\n",
              "      <td>2</td>\n",
              "      <td>2016-03-26 13:30:55</td>\n",
              "      <td>2016-03-26 13:38:10</td>\n",
              "      <td>1</td>\n",
              "      <td>-73.973053</td>\n",
              "      <td>40.793209</td>\n",
              "      <td>-73.972923</td>\n",
              "      <td>40.782520</td>\n",
              "      <td>N</td>\n",
              "      <td>435</td>\n",
              "      <td>2016-03-26 13:30:55</td>\n",
              "      <td>2016-03-26 13:38:10</td>\n",
              "      <td>2016</td>\n",
              "      <td>3</td>\n",
              "      <td>26</td>\n",
              "      <td>13:30:55</td>\n",
              "      <td>2016</td>\n",
              "      <td>3</td>\n",
              "      <td>26</td>\n",
              "      <td>13:38:10</td>\n",
              "    </tr>\n",
              "  </tbody>\n",
              "</table>\n",
              "</div>"
            ],
            "text/plain": [
              "          id  vendor_id     pickup_datetime  ... dropofMonth  dropofDay  dropofTime\n",
              "0  id2875421          2 2016-03-14 17:24:55  ...           3         14    17:32:30\n",
              "1  id2377394          1 2016-06-12 00:43:35  ...           6         12    00:54:38\n",
              "2  id3858529          2 2016-01-19 11:35:24  ...           1         19    12:10:48\n",
              "3  id3504673          2 2016-04-06 19:32:31  ...           4          6    19:39:40\n",
              "4  id2181028          2 2016-03-26 13:30:55  ...           3         26    13:38:10\n",
              "\n",
              "[5 rows x 21 columns]"
            ]
          },
          "metadata": {
            "tags": []
          },
          "execution_count": 42
        }
      ]
    },
    {
      "cell_type": "code",
      "metadata": {
        "id": "FjLJNcGbwww6",
        "colab_type": "code",
        "colab": {}
      },
      "source": [
        "df_NYC['long'] = df_NYC['dropoff_longitude'] - df_NYC['pickup_longitude']\n",
        "df_NYC['lat']  = df_NYC['dropoff_latitude'] - df_NYC['pickup_latitude']"
      ],
      "execution_count": 0,
      "outputs": []
    },
    {
      "cell_type": "code",
      "metadata": {
        "id": "brkTQTVDJtoN",
        "colab_type": "code",
        "outputId": "66cc22a5-27fd-4c63-bc50-79b71322e6f9",
        "colab": {
          "base_uri": "https://localhost:8080/",
          "height": 503
        }
      },
      "source": [
        "df_NYC.info()"
      ],
      "execution_count": 0,
      "outputs": [
        {
          "output_type": "stream",
          "text": [
            "<class 'pandas.core.frame.DataFrame'>\n",
            "Int64Index: 1458644 entries, 0 to 62454\n",
            "Data columns (total 23 columns):\n",
            "id                    1458644 non-null object\n",
            "vendor_id             1458644 non-null int64\n",
            "pickup_datetime       1458644 non-null datetime64[ns]\n",
            "dropoff_datetime      1458644 non-null datetime64[ns]\n",
            "passenger_count       1458644 non-null int64\n",
            "pickup_longitude      1458644 non-null float64\n",
            "pickup_latitude       1458644 non-null float64\n",
            "dropoff_longitude     1458644 non-null float64\n",
            "dropoff_latitude      1458644 non-null float64\n",
            "store_and_fwd_flag    1458644 non-null object\n",
            "trip_duration         1458644 non-null int64\n",
            "picup_Date            1458644 non-null datetime64[ns]\n",
            "dropof_Date           1458644 non-null datetime64[ns]\n",
            "picupYear             1458644 non-null int64\n",
            "picupMonth            1458644 non-null int64\n",
            "picupDay              1458644 non-null int64\n",
            "picupTime             1458644 non-null object\n",
            "dropofYear            1458644 non-null int64\n",
            "dropofMonth           1458644 non-null int64\n",
            "dropofDay             1458644 non-null int64\n",
            "dropofTime            1458644 non-null object\n",
            "long                  1458644 non-null float64\n",
            "lat                   1458644 non-null float64\n",
            "dtypes: datetime64[ns](4), float64(6), int64(9), object(4)\n",
            "memory usage: 267.1+ MB\n"
          ],
          "name": "stdout"
        }
      ]
    },
    {
      "cell_type": "code",
      "metadata": {
        "id": "2s-V1L_1I6-U",
        "colab_type": "code",
        "outputId": "52ed5cbc-6ea4-48e7-c4f6-8a116ee772f7",
        "colab": {
          "base_uri": "https://localhost:8080/",
          "height": 35
        }
      },
      "source": [
        "df_NYC['store_and_fwd_flag'].isnull().sum()"
      ],
      "execution_count": 0,
      "outputs": [
        {
          "output_type": "execute_result",
          "data": {
            "text/plain": [
              "0"
            ]
          },
          "metadata": {
            "tags": []
          },
          "execution_count": 45
        }
      ]
    },
    {
      "cell_type": "code",
      "metadata": {
        "id": "vUGr7twYwwvJ",
        "colab_type": "code",
        "colab": {}
      },
      "source": [
        "#df_NYC = df_NYC.drop(['pickup_datetime'], axis = 1)\n",
        "#df_NYC = df_NYC.drop(['dropoff_datetime'], axis = 1)"
      ],
      "execution_count": 0,
      "outputs": []
    },
    {
      "cell_type": "code",
      "metadata": {
        "id": "us4sY-UYwwxI",
        "colab_type": "code",
        "outputId": "df0b612d-7f99-4e0c-d371-f7a62fafe26c",
        "colab": {
          "base_uri": "https://localhost:8080/",
          "height": 35
        }
      },
      "source": [
        "df_NYC.shape"
      ],
      "execution_count": 0,
      "outputs": [
        {
          "output_type": "execute_result",
          "data": {
            "text/plain": [
              "(1458644, 21)"
            ]
          },
          "metadata": {
            "tags": []
          },
          "execution_count": 48
        }
      ]
    },
    {
      "cell_type": "code",
      "metadata": {
        "id": "iphLhgHgwwxS",
        "colab_type": "code",
        "outputId": "8f8ed42c-beba-41fc-9b7e-1f9c241f5694",
        "colab": {
          "base_uri": "https://localhost:8080/",
          "height": 309
        }
      },
      "source": [
        "df_NYC.head(5)"
      ],
      "execution_count": 0,
      "outputs": [
        {
          "output_type": "execute_result",
          "data": {
            "text/html": [
              "<div>\n",
              "<style scoped>\n",
              "    .dataframe tbody tr th:only-of-type {\n",
              "        vertical-align: middle;\n",
              "    }\n",
              "\n",
              "    .dataframe tbody tr th {\n",
              "        vertical-align: top;\n",
              "    }\n",
              "\n",
              "    .dataframe thead th {\n",
              "        text-align: right;\n",
              "    }\n",
              "</style>\n",
              "<table border=\"1\" class=\"dataframe\">\n",
              "  <thead>\n",
              "    <tr style=\"text-align: right;\">\n",
              "      <th></th>\n",
              "      <th>id</th>\n",
              "      <th>vendor_id</th>\n",
              "      <th>passenger_count</th>\n",
              "      <th>pickup_longitude</th>\n",
              "      <th>pickup_latitude</th>\n",
              "      <th>dropoff_longitude</th>\n",
              "      <th>dropoff_latitude</th>\n",
              "      <th>store_and_fwd_flag</th>\n",
              "      <th>trip_duration</th>\n",
              "      <th>picup_Date</th>\n",
              "      <th>dropof_Date</th>\n",
              "      <th>picupYear</th>\n",
              "      <th>picupMonth</th>\n",
              "      <th>picupDay</th>\n",
              "      <th>picupTime</th>\n",
              "      <th>dropofYear</th>\n",
              "      <th>dropofMonth</th>\n",
              "      <th>dropofDay</th>\n",
              "      <th>dropofTime</th>\n",
              "      <th>long</th>\n",
              "      <th>lat</th>\n",
              "    </tr>\n",
              "  </thead>\n",
              "  <tbody>\n",
              "    <tr>\n",
              "      <th>0</th>\n",
              "      <td>id2875421</td>\n",
              "      <td>2</td>\n",
              "      <td>1</td>\n",
              "      <td>-73.982155</td>\n",
              "      <td>40.767937</td>\n",
              "      <td>-73.964630</td>\n",
              "      <td>40.765602</td>\n",
              "      <td>N</td>\n",
              "      <td>455</td>\n",
              "      <td>2016-03-14 17:24:55</td>\n",
              "      <td>2016-03-14 17:32:30</td>\n",
              "      <td>2016</td>\n",
              "      <td>3</td>\n",
              "      <td>14</td>\n",
              "      <td>17:24:55</td>\n",
              "      <td>2016</td>\n",
              "      <td>3</td>\n",
              "      <td>14</td>\n",
              "      <td>17:32:30</td>\n",
              "      <td>0.017525</td>\n",
              "      <td>-0.002335</td>\n",
              "    </tr>\n",
              "    <tr>\n",
              "      <th>1</th>\n",
              "      <td>id2377394</td>\n",
              "      <td>1</td>\n",
              "      <td>1</td>\n",
              "      <td>-73.980415</td>\n",
              "      <td>40.738564</td>\n",
              "      <td>-73.999481</td>\n",
              "      <td>40.731152</td>\n",
              "      <td>N</td>\n",
              "      <td>663</td>\n",
              "      <td>2016-06-12 00:43:35</td>\n",
              "      <td>2016-06-12 00:54:38</td>\n",
              "      <td>2016</td>\n",
              "      <td>6</td>\n",
              "      <td>12</td>\n",
              "      <td>00:43:35</td>\n",
              "      <td>2016</td>\n",
              "      <td>6</td>\n",
              "      <td>12</td>\n",
              "      <td>00:54:38</td>\n",
              "      <td>-0.019066</td>\n",
              "      <td>-0.007412</td>\n",
              "    </tr>\n",
              "    <tr>\n",
              "      <th>2</th>\n",
              "      <td>id3858529</td>\n",
              "      <td>2</td>\n",
              "      <td>1</td>\n",
              "      <td>-73.979027</td>\n",
              "      <td>40.763939</td>\n",
              "      <td>-74.005333</td>\n",
              "      <td>40.710087</td>\n",
              "      <td>N</td>\n",
              "      <td>2124</td>\n",
              "      <td>2016-01-19 11:35:24</td>\n",
              "      <td>2016-01-19 12:10:48</td>\n",
              "      <td>2016</td>\n",
              "      <td>1</td>\n",
              "      <td>19</td>\n",
              "      <td>11:35:24</td>\n",
              "      <td>2016</td>\n",
              "      <td>1</td>\n",
              "      <td>19</td>\n",
              "      <td>12:10:48</td>\n",
              "      <td>-0.026306</td>\n",
              "      <td>-0.053852</td>\n",
              "    </tr>\n",
              "    <tr>\n",
              "      <th>3</th>\n",
              "      <td>id3504673</td>\n",
              "      <td>2</td>\n",
              "      <td>1</td>\n",
              "      <td>-74.010040</td>\n",
              "      <td>40.719971</td>\n",
              "      <td>-74.012268</td>\n",
              "      <td>40.706718</td>\n",
              "      <td>N</td>\n",
              "      <td>429</td>\n",
              "      <td>2016-04-06 19:32:31</td>\n",
              "      <td>2016-04-06 19:39:40</td>\n",
              "      <td>2016</td>\n",
              "      <td>4</td>\n",
              "      <td>6</td>\n",
              "      <td>19:32:31</td>\n",
              "      <td>2016</td>\n",
              "      <td>4</td>\n",
              "      <td>6</td>\n",
              "      <td>19:39:40</td>\n",
              "      <td>-0.002228</td>\n",
              "      <td>-0.013252</td>\n",
              "    </tr>\n",
              "    <tr>\n",
              "      <th>4</th>\n",
              "      <td>id2181028</td>\n",
              "      <td>2</td>\n",
              "      <td>1</td>\n",
              "      <td>-73.973053</td>\n",
              "      <td>40.793209</td>\n",
              "      <td>-73.972923</td>\n",
              "      <td>40.782520</td>\n",
              "      <td>N</td>\n",
              "      <td>435</td>\n",
              "      <td>2016-03-26 13:30:55</td>\n",
              "      <td>2016-03-26 13:38:10</td>\n",
              "      <td>2016</td>\n",
              "      <td>3</td>\n",
              "      <td>26</td>\n",
              "      <td>13:30:55</td>\n",
              "      <td>2016</td>\n",
              "      <td>3</td>\n",
              "      <td>26</td>\n",
              "      <td>13:38:10</td>\n",
              "      <td>0.000130</td>\n",
              "      <td>-0.010689</td>\n",
              "    </tr>\n",
              "  </tbody>\n",
              "</table>\n",
              "</div>"
            ],
            "text/plain": [
              "          id  vendor_id  passenger_count  ...  dropofTime      long       lat\n",
              "0  id2875421          2                1  ...    17:32:30  0.017525 -0.002335\n",
              "1  id2377394          1                1  ...    00:54:38 -0.019066 -0.007412\n",
              "2  id3858529          2                1  ...    12:10:48 -0.026306 -0.053852\n",
              "3  id3504673          2                1  ...    19:39:40 -0.002228 -0.013252\n",
              "4  id2181028          2                1  ...    13:38:10  0.000130 -0.010689\n",
              "\n",
              "[5 rows x 21 columns]"
            ]
          },
          "metadata": {
            "tags": []
          },
          "execution_count": 49
        }
      ]
    },
    {
      "cell_type": "code",
      "metadata": {
        "id": "2CnoAqHhAx41",
        "colab_type": "code",
        "outputId": "6425bed8-fe03-48d9-cc27-1623cbe3b58a",
        "colab": {
          "base_uri": "https://localhost:8080/",
          "height": 503
        }
      },
      "source": [
        "df_NYC.info()"
      ],
      "execution_count": 0,
      "outputs": [
        {
          "output_type": "stream",
          "text": [
            "<class 'pandas.core.frame.DataFrame'>\n",
            "Int64Index: 1458644 entries, 0 to 62454\n",
            "Data columns (total 23 columns):\n",
            "id                    1458644 non-null object\n",
            "vendor_id             1458644 non-null int64\n",
            "pickup_datetime       1458644 non-null datetime64[ns]\n",
            "dropoff_datetime      1458644 non-null datetime64[ns]\n",
            "passenger_count       1458644 non-null int64\n",
            "pickup_longitude      1458644 non-null float64\n",
            "pickup_latitude       1458644 non-null float64\n",
            "dropoff_longitude     1458644 non-null float64\n",
            "dropoff_latitude      1458644 non-null float64\n",
            "store_and_fwd_flag    1458644 non-null object\n",
            "trip_duration         1458644 non-null int64\n",
            "picup_Date            1458644 non-null datetime64[ns]\n",
            "dropof_Date           1458644 non-null datetime64[ns]\n",
            "picupYear             1458644 non-null int64\n",
            "picupMonth            1458644 non-null int64\n",
            "picupDay              1458644 non-null int64\n",
            "picupTime             1458644 non-null object\n",
            "dropofYear            1458644 non-null int64\n",
            "dropofMonth           1458644 non-null int64\n",
            "dropofDay             1458644 non-null int64\n",
            "dropofTime            1458644 non-null object\n",
            "long                  1458644 non-null float64\n",
            "lat                   1458644 non-null float64\n",
            "dtypes: datetime64[ns](4), float64(6), int64(9), object(4)\n",
            "memory usage: 267.1+ MB\n"
          ],
          "name": "stdout"
        }
      ]
    },
    {
      "cell_type": "code",
      "metadata": {
        "id": "S1eUsbdW_HH1",
        "colab_type": "code",
        "outputId": "9d68364d-c6db-4e40-929f-bfa23a552114",
        "colab": {
          "base_uri": "https://localhost:8080/",
          "height": 35
        }
      },
      "source": [
        "df_NYC['picup_Date'].nunique()\n"
      ],
      "execution_count": 0,
      "outputs": [
        {
          "output_type": "execute_result",
          "data": {
            "text/plain": [
              "1380222"
            ]
          },
          "metadata": {
            "tags": []
          },
          "execution_count": 51
        }
      ]
    },
    {
      "cell_type": "code",
      "metadata": {
        "id": "fDTlbkwr_fDq",
        "colab_type": "code",
        "outputId": "f8b50bfa-801f-49ef-f645-79b30c416e17",
        "colab": {
          "base_uri": "https://localhost:8080/",
          "height": 35
        }
      },
      "source": [
        "df_NYC['dropof_Date'].nunique()"
      ],
      "execution_count": 0,
      "outputs": [
        {
          "output_type": "execute_result",
          "data": {
            "text/plain": [
              "1380377"
            ]
          },
          "metadata": {
            "tags": []
          },
          "execution_count": 52
        }
      ]
    },
    {
      "cell_type": "code",
      "metadata": {
        "id": "OFSHY5H2AJMl",
        "colab_type": "code",
        "colab": {}
      },
      "source": [
        "df_NYC['pickup_day']=df_NYC['picup_Date'].dt.day_name()\n"
      ],
      "execution_count": 0,
      "outputs": []
    },
    {
      "cell_type": "code",
      "metadata": {
        "id": "ab4gaqZiAVGX",
        "colab_type": "code",
        "colab": {}
      },
      "source": [
        "df_NYC['dropoff_day']=df_NYC['dropof_Date'].dt.day_name()"
      ],
      "execution_count": 0,
      "outputs": []
    },
    {
      "cell_type": "code",
      "metadata": {
        "id": "OFdlgABPAv2G",
        "colab_type": "code",
        "outputId": "712f7824-2f4c-4f40-886c-7c2f1895360d",
        "colab": {
          "base_uri": "https://localhost:8080/",
          "height": 35
        }
      },
      "source": [
        "df_NYC.shape"
      ],
      "execution_count": 0,
      "outputs": [
        {
          "output_type": "execute_result",
          "data": {
            "text/plain": [
              "(1458644, 23)"
            ]
          },
          "metadata": {
            "tags": []
          },
          "execution_count": 56
        }
      ]
    },
    {
      "cell_type": "code",
      "metadata": {
        "id": "3rfhcCONBE8O",
        "colab_type": "code",
        "outputId": "fa31a8f1-cb6e-4aee-fd24-8bf77ad77df4",
        "colab": {
          "base_uri": "https://localhost:8080/",
          "height": 309
        }
      },
      "source": [
        "df_NYC.head(5)"
      ],
      "execution_count": 0,
      "outputs": [
        {
          "output_type": "execute_result",
          "data": {
            "text/html": [
              "<div>\n",
              "<style scoped>\n",
              "    .dataframe tbody tr th:only-of-type {\n",
              "        vertical-align: middle;\n",
              "    }\n",
              "\n",
              "    .dataframe tbody tr th {\n",
              "        vertical-align: top;\n",
              "    }\n",
              "\n",
              "    .dataframe thead th {\n",
              "        text-align: right;\n",
              "    }\n",
              "</style>\n",
              "<table border=\"1\" class=\"dataframe\">\n",
              "  <thead>\n",
              "    <tr style=\"text-align: right;\">\n",
              "      <th></th>\n",
              "      <th>id</th>\n",
              "      <th>vendor_id</th>\n",
              "      <th>passenger_count</th>\n",
              "      <th>pickup_longitude</th>\n",
              "      <th>pickup_latitude</th>\n",
              "      <th>dropoff_longitude</th>\n",
              "      <th>dropoff_latitude</th>\n",
              "      <th>store_and_fwd_flag</th>\n",
              "      <th>trip_duration</th>\n",
              "      <th>picup_Date</th>\n",
              "      <th>dropof_Date</th>\n",
              "      <th>picupYear</th>\n",
              "      <th>picupMonth</th>\n",
              "      <th>picupDay</th>\n",
              "      <th>picupTime</th>\n",
              "      <th>dropofYear</th>\n",
              "      <th>dropofMonth</th>\n",
              "      <th>dropofDay</th>\n",
              "      <th>dropofTime</th>\n",
              "      <th>long</th>\n",
              "      <th>lat</th>\n",
              "      <th>pickup_day</th>\n",
              "      <th>dropoff_day</th>\n",
              "    </tr>\n",
              "  </thead>\n",
              "  <tbody>\n",
              "    <tr>\n",
              "      <th>0</th>\n",
              "      <td>id2875421</td>\n",
              "      <td>2</td>\n",
              "      <td>1</td>\n",
              "      <td>-73.982155</td>\n",
              "      <td>40.767937</td>\n",
              "      <td>-73.964630</td>\n",
              "      <td>40.765602</td>\n",
              "      <td>N</td>\n",
              "      <td>455</td>\n",
              "      <td>2016-03-14 17:24:55</td>\n",
              "      <td>2016-03-14 17:32:30</td>\n",
              "      <td>2016</td>\n",
              "      <td>3</td>\n",
              "      <td>14</td>\n",
              "      <td>17:24:55</td>\n",
              "      <td>2016</td>\n",
              "      <td>3</td>\n",
              "      <td>14</td>\n",
              "      <td>17:32:30</td>\n",
              "      <td>0.017525</td>\n",
              "      <td>-0.002335</td>\n",
              "      <td>Monday</td>\n",
              "      <td>Monday</td>\n",
              "    </tr>\n",
              "    <tr>\n",
              "      <th>1</th>\n",
              "      <td>id2377394</td>\n",
              "      <td>1</td>\n",
              "      <td>1</td>\n",
              "      <td>-73.980415</td>\n",
              "      <td>40.738564</td>\n",
              "      <td>-73.999481</td>\n",
              "      <td>40.731152</td>\n",
              "      <td>N</td>\n",
              "      <td>663</td>\n",
              "      <td>2016-06-12 00:43:35</td>\n",
              "      <td>2016-06-12 00:54:38</td>\n",
              "      <td>2016</td>\n",
              "      <td>6</td>\n",
              "      <td>12</td>\n",
              "      <td>00:43:35</td>\n",
              "      <td>2016</td>\n",
              "      <td>6</td>\n",
              "      <td>12</td>\n",
              "      <td>00:54:38</td>\n",
              "      <td>-0.019066</td>\n",
              "      <td>-0.007412</td>\n",
              "      <td>Sunday</td>\n",
              "      <td>Sunday</td>\n",
              "    </tr>\n",
              "    <tr>\n",
              "      <th>2</th>\n",
              "      <td>id3858529</td>\n",
              "      <td>2</td>\n",
              "      <td>1</td>\n",
              "      <td>-73.979027</td>\n",
              "      <td>40.763939</td>\n",
              "      <td>-74.005333</td>\n",
              "      <td>40.710087</td>\n",
              "      <td>N</td>\n",
              "      <td>2124</td>\n",
              "      <td>2016-01-19 11:35:24</td>\n",
              "      <td>2016-01-19 12:10:48</td>\n",
              "      <td>2016</td>\n",
              "      <td>1</td>\n",
              "      <td>19</td>\n",
              "      <td>11:35:24</td>\n",
              "      <td>2016</td>\n",
              "      <td>1</td>\n",
              "      <td>19</td>\n",
              "      <td>12:10:48</td>\n",
              "      <td>-0.026306</td>\n",
              "      <td>-0.053852</td>\n",
              "      <td>Tuesday</td>\n",
              "      <td>Tuesday</td>\n",
              "    </tr>\n",
              "    <tr>\n",
              "      <th>3</th>\n",
              "      <td>id3504673</td>\n",
              "      <td>2</td>\n",
              "      <td>1</td>\n",
              "      <td>-74.010040</td>\n",
              "      <td>40.719971</td>\n",
              "      <td>-74.012268</td>\n",
              "      <td>40.706718</td>\n",
              "      <td>N</td>\n",
              "      <td>429</td>\n",
              "      <td>2016-04-06 19:32:31</td>\n",
              "      <td>2016-04-06 19:39:40</td>\n",
              "      <td>2016</td>\n",
              "      <td>4</td>\n",
              "      <td>6</td>\n",
              "      <td>19:32:31</td>\n",
              "      <td>2016</td>\n",
              "      <td>4</td>\n",
              "      <td>6</td>\n",
              "      <td>19:39:40</td>\n",
              "      <td>-0.002228</td>\n",
              "      <td>-0.013252</td>\n",
              "      <td>Wednesday</td>\n",
              "      <td>Wednesday</td>\n",
              "    </tr>\n",
              "    <tr>\n",
              "      <th>4</th>\n",
              "      <td>id2181028</td>\n",
              "      <td>2</td>\n",
              "      <td>1</td>\n",
              "      <td>-73.973053</td>\n",
              "      <td>40.793209</td>\n",
              "      <td>-73.972923</td>\n",
              "      <td>40.782520</td>\n",
              "      <td>N</td>\n",
              "      <td>435</td>\n",
              "      <td>2016-03-26 13:30:55</td>\n",
              "      <td>2016-03-26 13:38:10</td>\n",
              "      <td>2016</td>\n",
              "      <td>3</td>\n",
              "      <td>26</td>\n",
              "      <td>13:30:55</td>\n",
              "      <td>2016</td>\n",
              "      <td>3</td>\n",
              "      <td>26</td>\n",
              "      <td>13:38:10</td>\n",
              "      <td>0.000130</td>\n",
              "      <td>-0.010689</td>\n",
              "      <td>Saturday</td>\n",
              "      <td>Saturday</td>\n",
              "    </tr>\n",
              "  </tbody>\n",
              "</table>\n",
              "</div>"
            ],
            "text/plain": [
              "          id  vendor_id  passenger_count  ...       lat  pickup_day  dropoff_day\n",
              "0  id2875421          2                1  ... -0.002335      Monday       Monday\n",
              "1  id2377394          1                1  ... -0.007412      Sunday       Sunday\n",
              "2  id3858529          2                1  ... -0.053852     Tuesday      Tuesday\n",
              "3  id3504673          2                1  ... -0.013252   Wednesday    Wednesday\n",
              "4  id2181028          2                1  ... -0.010689    Saturday     Saturday\n",
              "\n",
              "[5 rows x 23 columns]"
            ]
          },
          "metadata": {
            "tags": []
          },
          "execution_count": 57
        }
      ]
    },
    {
      "cell_type": "markdown",
      "metadata": {
        "id": "arYUH9qKBVNN",
        "colab_type": "text"
      },
      "source": [
        "#### To explore the daywise trip count"
      ]
    },
    {
      "cell_type": "code",
      "metadata": {
        "id": "gKmB1xKKBTXg",
        "colab_type": "code",
        "outputId": "6d4e872c-40cd-4784-ade3-9331231db892",
        "colab": {
          "base_uri": "https://localhost:8080/",
          "height": 156
        }
      },
      "source": [
        "df_NYC['pickup_day'].value_counts()"
      ],
      "execution_count": 0,
      "outputs": [
        {
          "output_type": "execute_result",
          "data": {
            "text/plain": [
              "Friday       223533\n",
              "Saturday     220868\n",
              "Thursday     218574\n",
              "Wednesday    210136\n",
              "Tuesday      202749\n",
              "Sunday       195366\n",
              "Monday       187418\n",
              "Name: pickup_day, dtype: int64"
            ]
          },
          "metadata": {
            "tags": []
          },
          "execution_count": 59
        }
      ]
    },
    {
      "cell_type": "code",
      "metadata": {
        "id": "abCejW9nB7WK",
        "colab_type": "code",
        "outputId": "bde14ee3-657e-43a5-9960-4f6d955c4922",
        "colab": {
          "base_uri": "https://localhost:8080/",
          "height": 156
        }
      },
      "source": [
        "df_NYC['dropoff_day'].value_counts()"
      ],
      "execution_count": 0,
      "outputs": [
        {
          "output_type": "execute_result",
          "data": {
            "text/plain": [
              "Friday       223031\n",
              "Saturday     220902\n",
              "Thursday     217746\n",
              "Wednesday    209790\n",
              "Tuesday      202518\n",
              "Sunday       197224\n",
              "Monday       187433\n",
              "Name: dropoff_day, dtype: int64"
            ]
          },
          "metadata": {
            "tags": []
          },
          "execution_count": 60
        }
      ]
    },
    {
      "cell_type": "code",
      "metadata": {
        "id": "oQM67LlVCSyZ",
        "colab_type": "code",
        "outputId": "20f0ddc0-08e1-4de2-fcb9-3fbe32cc978e",
        "colab": {
          "base_uri": "https://localhost:8080/",
          "height": 764
        }
      },
      "source": [
        "figure,ax=plt.subplots(nrows=2,ncols=1,figsize=(10,10))\n",
        "sns.countplot(x='pickup_day',data=df_NYC,ax=ax[0])\n",
        "ax[0].set_title('Number of Pickups done on each day of the week')\n",
        "sns.countplot(x='dropoff_day',data=df_NYC,ax=ax[1])\n",
        "ax[1].set_title('Number of dropoffs done on each day of the week')\n",
        "plt.tight_layout()"
      ],
      "execution_count": 0,
      "outputs": [
        {
          "output_type": "execute_result",
          "data": {
            "text/plain": [
              "<matplotlib.axes._subplots.AxesSubplot at 0x7f4178b83630>"
            ]
          },
          "metadata": {
            "tags": []
          },
          "execution_count": 61
        },
        {
          "output_type": "execute_result",
          "data": {
            "text/plain": [
              "Text(0.5, 1.0, 'Number of Pickups done on each day of the week')"
            ]
          },
          "metadata": {
            "tags": []
          },
          "execution_count": 61
        },
        {
          "output_type": "execute_result",
          "data": {
            "text/plain": [
              "<matplotlib.axes._subplots.AxesSubplot at 0x7f4178b22ac8>"
            ]
          },
          "metadata": {
            "tags": []
          },
          "execution_count": 61
        },
        {
          "output_type": "execute_result",
          "data": {
            "text/plain": [
              "Text(0.5, 1.0, 'Number of dropoffs done on each day of the week')"
            ]
          },
          "metadata": {
            "tags": []
          },
          "execution_count": 61
        },
        {
          "output_type": "display_data",
          "data": {
            "image/png": "[encoded data removed]",
            "text/plain": [
              "<Figure size 720x720 with 2 Axes>"
            ]
          },
          "metadata": {
            "tags": []
          }
        }
      ]
    },
    {
      "cell_type": "code",
      "metadata": {
        "id": "HX6XgEzQZTPV",
        "colab_type": "code",
        "colab": {}
      },
      "source": [
        "df_NYC = df.compute()"
      ],
      "execution_count": 0,
      "outputs": []
    },
    {
      "cell_type": "markdown",
      "metadata": {
        "id": "HbdQbsnIDoyW",
        "colab_type": "text"
      },
      "source": [
        "#### we divide the times into 4 time zones: morning (4 hrs to 10 hrs) , midday (10 hrs to 16 hrs) , evening (16 hrs to 22 hrs) and late night (22 hrs to 4 hrs)"
      ]
    },
    {
      "cell_type": "code",
      "metadata": {
        "id": "Ct_zlieCLecP",
        "colab_type": "code",
        "colab": {}
      },
      "source": [
        "from datetime import datetime"
      ],
      "execution_count": 0,
      "outputs": []
    },
    {
      "cell_type": "code",
      "metadata": {
        "id": "3WJ1Ssm3DytF",
        "colab_type": "code",
        "colab": {}
      },
      "source": [
        "def timezone(x):\n",
        "    if x>=datetime.time(4, 0, 1) and x <=datetime.time(10, 0, 0):\n",
        "        return 'morning'\n",
        "    elif x>=datetime.time(10, 0, 1) and x <=datetime.time(16, 0, 0):\n",
        "        return 'midday'\n",
        "    elif x>=datetime.time(16, 0, 1) and x <=datetime.time(22, 0, 0):\n",
        "        return 'evening'\n",
        "    elif x>=datetime.time(22, 0, 1) or x <=datetime.time(4, 0, 0):\n",
        "        return 'late night'\n",
        "    \n",
        "    df_NYC['pickup_timezone']=df_NYC['picup_Date'].apply(lambda x :timezone(datetime.datetime.strptime(str(x), \"%Y-%m-%d %H:%M:%S\").time()) )\n",
        "    df_NYC['dropoff_timezone']=df_NYC['dropof_Date'].apply(lambda x :timezone(datetime.datetime.strptime(str(x), \"%Y-%m-%d %H:%M:%S\").time()) )\n"
      ],
      "execution_count": 0,
      "outputs": []
    },
    {
      "cell_type": "code",
      "metadata": {
        "id": "MEJ9yhecMabb",
        "colab_type": "code",
        "outputId": "cbac470a-1c5f-4622-d492-19a08d819a81",
        "colab": {
          "base_uri": "https://localhost:8080/",
          "height": 309
        }
      },
      "source": [
        "df_NYC.head(5)"
      ],
      "execution_count": 0,
      "outputs": [
        {
          "output_type": "execute_result",
          "data": {
            "text/html": [
              "<div>\n",
              "<style scoped>\n",
              "    .dataframe tbody tr th:only-of-type {\n",
              "        vertical-align: middle;\n",
              "    }\n",
              "\n",
              "    .dataframe tbody tr th {\n",
              "        vertical-align: top;\n",
              "    }\n",
              "\n",
              "    .dataframe thead th {\n",
              "        text-align: right;\n",
              "    }\n",
              "</style>\n",
              "<table border=\"1\" class=\"dataframe\">\n",
              "  <thead>\n",
              "    <tr style=\"text-align: right;\">\n",
              "      <th></th>\n",
              "      <th>id</th>\n",
              "      <th>vendor_id</th>\n",
              "      <th>passenger_count</th>\n",
              "      <th>pickup_longitude</th>\n",
              "      <th>pickup_latitude</th>\n",
              "      <th>dropoff_longitude</th>\n",
              "      <th>dropoff_latitude</th>\n",
              "      <th>store_and_fwd_flag</th>\n",
              "      <th>trip_duration</th>\n",
              "      <th>picup_Date</th>\n",
              "      <th>dropof_Date</th>\n",
              "      <th>picupYear</th>\n",
              "      <th>picupMonth</th>\n",
              "      <th>picupDay</th>\n",
              "      <th>picupTime</th>\n",
              "      <th>dropofYear</th>\n",
              "      <th>dropofMonth</th>\n",
              "      <th>dropofDay</th>\n",
              "      <th>dropofTime</th>\n",
              "      <th>long</th>\n",
              "      <th>lat</th>\n",
              "      <th>pickup_day</th>\n",
              "      <th>dropoff_day</th>\n",
              "    </tr>\n",
              "  </thead>\n",
              "  <tbody>\n",
              "    <tr>\n",
              "      <th>0</th>\n",
              "      <td>id2875421</td>\n",
              "      <td>2</td>\n",
              "      <td>1</td>\n",
              "      <td>-73.982155</td>\n",
              "      <td>40.767937</td>\n",
              "      <td>-73.964630</td>\n",
              "      <td>40.765602</td>\n",
              "      <td>N</td>\n",
              "      <td>455</td>\n",
              "      <td>2016-03-14 17:24:55</td>\n",
              "      <td>2016-03-14 17:32:30</td>\n",
              "      <td>2016</td>\n",
              "      <td>3</td>\n",
              "      <td>14</td>\n",
              "      <td>17:24:55</td>\n",
              "      <td>2016</td>\n",
              "      <td>3</td>\n",
              "      <td>14</td>\n",
              "      <td>17:32:30</td>\n",
              "      <td>0.017525</td>\n",
              "      <td>-0.002335</td>\n",
              "      <td>Monday</td>\n",
              "      <td>Monday</td>\n",
              "    </tr>\n",
              "    <tr>\n",
              "      <th>1</th>\n",
              "      <td>id2377394</td>\n",
              "      <td>1</td>\n",
              "      <td>1</td>\n",
              "      <td>-73.980415</td>\n",
              "      <td>40.738564</td>\n",
              "      <td>-73.999481</td>\n",
              "      <td>40.731152</td>\n",
              "      <td>N</td>\n",
              "      <td>663</td>\n",
              "      <td>2016-06-12 00:43:35</td>\n",
              "      <td>2016-06-12 00:54:38</td>\n",
              "      <td>2016</td>\n",
              "      <td>6</td>\n",
              "      <td>12</td>\n",
              "      <td>00:43:35</td>\n",
              "      <td>2016</td>\n",
              "      <td>6</td>\n",
              "      <td>12</td>\n",
              "      <td>00:54:38</td>\n",
              "      <td>-0.019066</td>\n",
              "      <td>-0.007412</td>\n",
              "      <td>Sunday</td>\n",
              "      <td>Sunday</td>\n",
              "    </tr>\n",
              "    <tr>\n",
              "      <th>2</th>\n",
              "      <td>id3858529</td>\n",
              "      <td>2</td>\n",
              "      <td>1</td>\n",
              "      <td>-73.979027</td>\n",
              "      <td>40.763939</td>\n",
              "      <td>-74.005333</td>\n",
              "      <td>40.710087</td>\n",
              "      <td>N</td>\n",
              "      <td>2124</td>\n",
              "      <td>2016-01-19 11:35:24</td>\n",
              "      <td>2016-01-19 12:10:48</td>\n",
              "      <td>2016</td>\n",
              "      <td>1</td>\n",
              "      <td>19</td>\n",
              "      <td>11:35:24</td>\n",
              "      <td>2016</td>\n",
              "      <td>1</td>\n",
              "      <td>19</td>\n",
              "      <td>12:10:48</td>\n",
              "      <td>-0.026306</td>\n",
              "      <td>-0.053852</td>\n",
              "      <td>Tuesday</td>\n",
              "      <td>Tuesday</td>\n",
              "    </tr>\n",
              "    <tr>\n",
              "      <th>3</th>\n",
              "      <td>id3504673</td>\n",
              "      <td>2</td>\n",
              "      <td>1</td>\n",
              "      <td>-74.010040</td>\n",
              "      <td>40.719971</td>\n",
              "      <td>-74.012268</td>\n",
              "      <td>40.706718</td>\n",
              "      <td>N</td>\n",
              "      <td>429</td>\n",
              "      <td>2016-04-06 19:32:31</td>\n",
              "      <td>2016-04-06 19:39:40</td>\n",
              "      <td>2016</td>\n",
              "      <td>4</td>\n",
              "      <td>6</td>\n",
              "      <td>19:32:31</td>\n",
              "      <td>2016</td>\n",
              "      <td>4</td>\n",
              "      <td>6</td>\n",
              "      <td>19:39:40</td>\n",
              "      <td>-0.002228</td>\n",
              "      <td>-0.013252</td>\n",
              "      <td>Wednesday</td>\n",
              "      <td>Wednesday</td>\n",
              "    </tr>\n",
              "    <tr>\n",
              "      <th>4</th>\n",
              "      <td>id2181028</td>\n",
              "      <td>2</td>\n",
              "      <td>1</td>\n",
              "      <td>-73.973053</td>\n",
              "      <td>40.793209</td>\n",
              "      <td>-73.972923</td>\n",
              "      <td>40.782520</td>\n",
              "      <td>N</td>\n",
              "      <td>435</td>\n",
              "      <td>2016-03-26 13:30:55</td>\n",
              "      <td>2016-03-26 13:38:10</td>\n",
              "      <td>2016</td>\n",
              "      <td>3</td>\n",
              "      <td>26</td>\n",
              "      <td>13:30:55</td>\n",
              "      <td>2016</td>\n",
              "      <td>3</td>\n",
              "      <td>26</td>\n",
              "      <td>13:38:10</td>\n",
              "      <td>0.000130</td>\n",
              "      <td>-0.010689</td>\n",
              "      <td>Saturday</td>\n",
              "      <td>Saturday</td>\n",
              "    </tr>\n",
              "  </tbody>\n",
              "</table>\n",
              "</div>"
            ],
            "text/plain": [
              "          id  vendor_id  passenger_count  ...       lat  pickup_day  dropoff_day\n",
              "0  id2875421          2                1  ... -0.002335      Monday       Monday\n",
              "1  id2377394          1                1  ... -0.007412      Sunday       Sunday\n",
              "2  id3858529          2                1  ... -0.053852     Tuesday      Tuesday\n",
              "3  id3504673          2                1  ... -0.013252   Wednesday    Wednesday\n",
              "4  id2181028          2                1  ... -0.010689    Saturday     Saturday\n",
              "\n",
              "[5 rows x 23 columns]"
            ]
          },
          "metadata": {
            "tags": []
          },
          "execution_count": 74
        }
      ]
    },
    {
      "cell_type": "code",
      "metadata": {
        "id": "3sZtQcIHF80R",
        "colab_type": "code",
        "outputId": "248cc765-fa5d-4a89-f066-a9e542422c96",
        "colab": {
          "base_uri": "https://localhost:8080/",
          "height": 691
        }
      },
      "source": [
        "figure,ax=plt.subplots(nrows=1,ncols=2,figsize=(10,5))\n",
        "sns.countplot(x='pickup_timezone',data=df_NYC,ax=ax[0])\n",
        "ax[0].set_title('The distribution of number of pickups on each part of the day')\n",
        "sns.countplot(x='dropoff_timezone',data=df_NYC,ax=ax[1])\n",
        "ax[1].set_title('The distribution of number of dropoffs on each part of the day')\n",
        "plt.tight_layout()"
      ],
      "execution_count": 0,
      "outputs": [
        {
          "output_type": "error",
          "ename": "ValueError",
          "evalue": "ignored",
          "traceback": [
            "\u001b[0;31m---------------------------------------------------------------------------\u001b[0m",
            "\u001b[0;31mValueError\u001b[0m                                Traceback (most recent call last)",
            "\u001b[0;32m<ipython-input-75-1d08a39f77c9>\u001b[0m in \u001b[0;36m<module>\u001b[0;34m()\u001b[0m\n\u001b[1;32m      1\u001b[0m \u001b[0mfigure\u001b[0m\u001b[0;34m,\u001b[0m\u001b[0max\u001b[0m\u001b[0;34m=\u001b[0m\u001b[0mplt\u001b[0m\u001b[0;34m.\u001b[0m\u001b[0msubplots\u001b[0m\u001b[0;34m(\u001b[0m\u001b[0mnrows\u001b[0m\u001b[0;34m=\u001b[0m\u001b[0;36m1\u001b[0m\u001b[0;34m,\u001b[0m\u001b[0mncols\u001b[0m\u001b[0;34m=\u001b[0m\u001b[0;36m2\u001b[0m\u001b[0;34m,\u001b[0m\u001b[0mfigsize\u001b[0m\u001b[0;34m=\u001b[0m\u001b[0;34m(\u001b[0m\u001b[0;36m10\u001b[0m\u001b[0;34m,\u001b[0m\u001b[0;36m5\u001b[0m\u001b[0;34m)\u001b[0m\u001b[0;34m)\u001b[0m\u001b[0;34m\u001b[0m\u001b[0;34m\u001b[0m\u001b[0m\n\u001b[0;32m----> 2\u001b[0;31m \u001b[0msns\u001b[0m\u001b[0;34m.\u001b[0m\u001b[0mcountplot\u001b[0m\u001b[0;34m(\u001b[0m\u001b[0mx\u001b[0m\u001b[0;34m=\u001b[0m\u001b[0;34m'pickup_timezone'\u001b[0m\u001b[0;34m,\u001b[0m\u001b[0mdata\u001b[0m\u001b[0;34m=\u001b[0m\u001b[0mdf_NYC\u001b[0m\u001b[0;34m,\u001b[0m\u001b[0max\u001b[0m\u001b[0;34m=\u001b[0m\u001b[0max\u001b[0m\u001b[0;34m[\u001b[0m\u001b[0;36m0\u001b[0m\u001b[0;34m]\u001b[0m\u001b[0;34m)\u001b[0m\u001b[0;34m\u001b[0m\u001b[0;34m\u001b[0m\u001b[0m\n\u001b[0m\u001b[1;32m      3\u001b[0m \u001b[0max\u001b[0m\u001b[0;34m[\u001b[0m\u001b[0;36m0\u001b[0m\u001b[0;34m]\u001b[0m\u001b[0;34m.\u001b[0m\u001b[0mset_title\u001b[0m\u001b[0;34m(\u001b[0m\u001b[0;34m'The distribution of number of pickups on each part of the day'\u001b[0m\u001b[0;34m)\u001b[0m\u001b[0;34m\u001b[0m\u001b[0;34m\u001b[0m\u001b[0m\n\u001b[1;32m      4\u001b[0m \u001b[0msns\u001b[0m\u001b[0;34m.\u001b[0m\u001b[0mcountplot\u001b[0m\u001b[0;34m(\u001b[0m\u001b[0mx\u001b[0m\u001b[0;34m=\u001b[0m\u001b[0;34m'dropoff_timezone'\u001b[0m\u001b[0;34m,\u001b[0m\u001b[0mdata\u001b[0m\u001b[0;34m=\u001b[0m\u001b[0mdf_NYC\u001b[0m\u001b[0;34m,\u001b[0m\u001b[0max\u001b[0m\u001b[0;34m=\u001b[0m\u001b[0max\u001b[0m\u001b[0;34m[\u001b[0m\u001b[0;36m1\u001b[0m\u001b[0;34m]\u001b[0m\u001b[0;34m)\u001b[0m\u001b[0;34m\u001b[0m\u001b[0;34m\u001b[0m\u001b[0m\n\u001b[1;32m      5\u001b[0m \u001b[0max\u001b[0m\u001b[0;34m[\u001b[0m\u001b[0;36m1\u001b[0m\u001b[0;34m]\u001b[0m\u001b[0;34m.\u001b[0m\u001b[0mset_title\u001b[0m\u001b[0;34m(\u001b[0m\u001b[0;34m'The distribution of number of dropoffs on each part of the day'\u001b[0m\u001b[0;34m)\u001b[0m\u001b[0;34m\u001b[0m\u001b[0;34m\u001b[0m\u001b[0m\n",
            "\u001b[0;32m/usr/local/lib/python3.6/dist-packages/seaborn/categorical.py\u001b[0m in \u001b[0;36mcountplot\u001b[0;34m(x, y, hue, data, order, hue_order, orient, color, palette, saturation, dodge, ax, **kwargs)\u001b[0m\n\u001b[1;32m   3551\u001b[0m                           \u001b[0mestimator\u001b[0m\u001b[0;34m,\u001b[0m \u001b[0mci\u001b[0m\u001b[0;34m,\u001b[0m \u001b[0mn_boot\u001b[0m\u001b[0;34m,\u001b[0m \u001b[0munits\u001b[0m\u001b[0;34m,\u001b[0m\u001b[0;34m\u001b[0m\u001b[0;34m\u001b[0m\u001b[0m\n\u001b[1;32m   3552\u001b[0m                           \u001b[0morient\u001b[0m\u001b[0;34m,\u001b[0m \u001b[0mcolor\u001b[0m\u001b[0;34m,\u001b[0m \u001b[0mpalette\u001b[0m\u001b[0;34m,\u001b[0m \u001b[0msaturation\u001b[0m\u001b[0;34m,\u001b[0m\u001b[0;34m\u001b[0m\u001b[0;34m\u001b[0m\u001b[0m\n\u001b[0;32m-> 3553\u001b[0;31m                           errcolor, errwidth, capsize, dodge)\n\u001b[0m\u001b[1;32m   3554\u001b[0m \u001b[0;34m\u001b[0m\u001b[0m\n\u001b[1;32m   3555\u001b[0m     \u001b[0mplotter\u001b[0m\u001b[0;34m.\u001b[0m\u001b[0mvalue_label\u001b[0m \u001b[0;34m=\u001b[0m \u001b[0;34m\"count\"\u001b[0m\u001b[0;34m\u001b[0m\u001b[0;34m\u001b[0m\u001b[0m\n",
            "\u001b[0;32m/usr/local/lib/python3.6/dist-packages/seaborn/categorical.py\u001b[0m in \u001b[0;36m__init__\u001b[0;34m(self, x, y, hue, data, order, hue_order, estimator, ci, n_boot, units, orient, color, palette, saturation, errcolor, errwidth, capsize, dodge)\u001b[0m\n\u001b[1;32m   1605\u001b[0m         \u001b[0;34m\"\"\"Initialize the plotter.\"\"\"\u001b[0m\u001b[0;34m\u001b[0m\u001b[0;34m\u001b[0m\u001b[0m\n\u001b[1;32m   1606\u001b[0m         self.establish_variables(x, y, hue, data, orient,\n\u001b[0;32m-> 1607\u001b[0;31m                                  order, hue_order, units)\n\u001b[0m\u001b[1;32m   1608\u001b[0m         \u001b[0mself\u001b[0m\u001b[0;34m.\u001b[0m\u001b[0mestablish_colors\u001b[0m\u001b[0;34m(\u001b[0m\u001b[0mcolor\u001b[0m\u001b[0;34m,\u001b[0m \u001b[0mpalette\u001b[0m\u001b[0;34m,\u001b[0m \u001b[0msaturation\u001b[0m\u001b[0;34m)\u001b[0m\u001b[0;34m\u001b[0m\u001b[0;34m\u001b[0m\u001b[0m\n\u001b[1;32m   1609\u001b[0m         \u001b[0mself\u001b[0m\u001b[0;34m.\u001b[0m\u001b[0mestimate_statistic\u001b[0m\u001b[0;34m(\u001b[0m\u001b[0mestimator\u001b[0m\u001b[0;34m,\u001b[0m \u001b[0mci\u001b[0m\u001b[0;34m,\u001b[0m \u001b[0mn_boot\u001b[0m\u001b[0;34m)\u001b[0m\u001b[0;34m\u001b[0m\u001b[0;34m\u001b[0m\u001b[0m\n",
            "\u001b[0;32m/usr/local/lib/python3.6/dist-packages/seaborn/categorical.py\u001b[0m in \u001b[0;36mestablish_variables\u001b[0;34m(self, x, y, hue, data, orient, order, hue_order, units)\u001b[0m\n\u001b[1;32m    153\u001b[0m                 \u001b[0;32mif\u001b[0m \u001b[0misinstance\u001b[0m\u001b[0;34m(\u001b[0m\u001b[0minput\u001b[0m\u001b[0;34m,\u001b[0m \u001b[0mstring_types\u001b[0m\u001b[0;34m)\u001b[0m\u001b[0;34m:\u001b[0m\u001b[0;34m\u001b[0m\u001b[0;34m\u001b[0m\u001b[0m\n\u001b[1;32m    154\u001b[0m                     \u001b[0merr\u001b[0m \u001b[0;34m=\u001b[0m \u001b[0;34m\"Could not interpret input '{}'\"\u001b[0m\u001b[0;34m.\u001b[0m\u001b[0mformat\u001b[0m\u001b[0;34m(\u001b[0m\u001b[0minput\u001b[0m\u001b[0;34m)\u001b[0m\u001b[0;34m\u001b[0m\u001b[0;34m\u001b[0m\u001b[0m\n\u001b[0;32m--> 155\u001b[0;31m                     \u001b[0;32mraise\u001b[0m \u001b[0mValueError\u001b[0m\u001b[0;34m(\u001b[0m\u001b[0merr\u001b[0m\u001b[0;34m)\u001b[0m\u001b[0;34m\u001b[0m\u001b[0;34m\u001b[0m\u001b[0m\n\u001b[0m\u001b[1;32m    156\u001b[0m \u001b[0;34m\u001b[0m\u001b[0m\n\u001b[1;32m    157\u001b[0m             \u001b[0;31m# Figure out the plotting orientation\u001b[0m\u001b[0;34m\u001b[0m\u001b[0;34m\u001b[0m\u001b[0;34m\u001b[0m\u001b[0m\n",
            "\u001b[0;31mValueError\u001b[0m: Could not interpret input 'pickup_timezone'"
          ]
        },
        {
          "output_type": "display_data",
          "data": {
            "image/png": "[encoded data removed]",
            "text/plain": [
              "<Figure size 720x360 with 2 Axes>"
            ]
          },
          "metadata": {
            "tags": []
          }
        }
      ]
    },
    {
      "cell_type": "code",
      "metadata": {
        "id": "oSRSKSYjZw0F",
        "colab_type": "code",
        "colab": {}
      },
      "source": [
        "df_NYC = df.compute()"
      ],
      "execution_count": 0,
      "outputs": []
    },
    {
      "cell_type": "code",
      "metadata": {
        "id": "vmQssLCiwwxh",
        "colab_type": "code",
        "colab": {}
      },
      "source": [
        "df_NYC['id'] =  (df_NYC['id']).astype(str)"
      ],
      "execution_count": 0,
      "outputs": []
    },
    {
      "cell_type": "code",
      "metadata": {
        "id": "AtDLAg1hwwxz",
        "colab_type": "code",
        "colab": {}
      },
      "source": [
        "df_NYC['store_and_fwd_flag'] = df_NYC['store_and_fwd_flag'].astype(str)"
      ],
      "execution_count": 0,
      "outputs": []
    },
    {
      "cell_type": "code",
      "metadata": {
        "id": "GOcx0WICwwyJ",
        "colab_type": "code",
        "outputId": "9795dd3e-18e0-4358-ce1a-2cfe3ef826b0",
        "colab": {
          "base_uri": "https://localhost:8080/",
          "height": 35
        }
      },
      "source": [
        "df_NYC.shape"
      ],
      "execution_count": 0,
      "outputs": [
        {
          "output_type": "execute_result",
          "data": {
            "text/plain": [
              "(1458644, 23)"
            ]
          },
          "metadata": {
            "tags": []
          },
          "execution_count": 65
        }
      ]
    },
    {
      "cell_type": "code",
      "metadata": {
        "id": "WoK0zpo_ByrE",
        "colab_type": "code",
        "colab": {}
      },
      "source": [
        "df_NYC = df_NYC.dropna()"
      ],
      "execution_count": 0,
      "outputs": []
    },
    {
      "cell_type": "code",
      "metadata": {
        "id": "ZqEw-_lywwyT",
        "colab_type": "code",
        "outputId": "920adaf7-0d01-4c60-da47-fb378138f95d",
        "colab": {
          "base_uri": "https://localhost:8080/",
          "height": 503
        }
      },
      "source": [
        "df_NYC.info()"
      ],
      "execution_count": 0,
      "outputs": [
        {
          "output_type": "stream",
          "text": [
            "<class 'pandas.core.frame.DataFrame'>\n",
            "Int64Index: 1458644 entries, 0 to 62454\n",
            "Data columns (total 23 columns):\n",
            "id                    1458644 non-null object\n",
            "vendor_id             1458644 non-null int64\n",
            "pickup_datetime       1458644 non-null datetime64[ns]\n",
            "dropoff_datetime      1458644 non-null datetime64[ns]\n",
            "passenger_count       1458644 non-null int64\n",
            "pickup_longitude      1458644 non-null float64\n",
            "pickup_latitude       1458644 non-null float64\n",
            "dropoff_longitude     1458644 non-null float64\n",
            "dropoff_latitude      1458644 non-null float64\n",
            "store_and_fwd_flag    1458644 non-null object\n",
            "trip_duration         1458644 non-null int64\n",
            "picup_Date            1458644 non-null datetime64[ns]\n",
            "dropof_Date           1458644 non-null datetime64[ns]\n",
            "picupYear             1458644 non-null int64\n",
            "picupMonth            1458644 non-null int64\n",
            "picupDay              1458644 non-null int64\n",
            "picupTime             1458644 non-null object\n",
            "dropofYear            1458644 non-null int64\n",
            "dropofMonth           1458644 non-null int64\n",
            "dropofDay             1458644 non-null int64\n",
            "dropofTime            1458644 non-null object\n",
            "long                  1458644 non-null float64\n",
            "lat                   1458644 non-null float64\n",
            "dtypes: datetime64[ns](4), float64(6), int64(9), object(4)\n",
            "memory usage: 267.1+ MB\n"
          ],
          "name": "stdout"
        }
      ]
    },
    {
      "cell_type": "code",
      "metadata": {
        "id": "oT5siikywwyc",
        "colab_type": "code",
        "colab": {}
      },
      "source": [
        "df_NYC.dtypes"
      ],
      "execution_count": 0,
      "outputs": []
    },
    {
      "cell_type": "code",
      "metadata": {
        "colab_type": "code",
        "id": "kMjnVzAS9Kyb",
        "outputId": "63ceae31-74b7-4975-daf4-803e31d1fca7",
        "colab": {
          "base_uri": "https://localhost:8080/",
          "height": 35
        }
      },
      "source": [
        "#Find Null values if any\n",
        "df_NYC.isnull().values.any()"
      ],
      "execution_count": 0,
      "outputs": [
        {
          "output_type": "execute_result",
          "data": {
            "text/plain": [
              "False"
            ]
          },
          "metadata": {
            "tags": []
          },
          "execution_count": 50
        }
      ]
    },
    {
      "cell_type": "code",
      "metadata": {
        "id": "dOjN0xVkDNft",
        "colab_type": "code",
        "colab": {}
      },
      "source": [
        "#df_NYC = df_NYC.apply (pd.to_numeric, errors='coerce')"
      ],
      "execution_count": 0,
      "outputs": []
    },
    {
      "cell_type": "code",
      "metadata": {
        "id": "MObpSJgEDWSR",
        "colab_type": "code",
        "colab": {}
      },
      "source": [
        "print (df_NYC)"
      ],
      "execution_count": 0,
      "outputs": []
    },
    {
      "cell_type": "code",
      "metadata": {
        "id": "jpM9KmGZCEle",
        "colab_type": "code",
        "outputId": "a1918187-22e4-4b53-db0c-9ed19179f262",
        "colab": {
          "base_uri": "https://localhost:8080/",
          "height": 35
        }
      },
      "source": [
        "df_NYC.shape"
      ],
      "execution_count": 0,
      "outputs": [
        {
          "output_type": "execute_result",
          "data": {
            "text/plain": [
              "(1458644, 23)"
            ]
          },
          "metadata": {
            "tags": []
          },
          "execution_count": 81
        }
      ]
    },
    {
      "cell_type": "code",
      "metadata": {
        "colab_type": "code",
        "id": "pPibG2vf9Kyh",
        "outputId": "8eabb14a-3468-429e-e943-8bdb2b8cf474",
        "colab": {
          "base_uri": "https://localhost:8080/",
          "height": 433
        }
      },
      "source": [
        "df_NYC.isnull().sum()"
      ],
      "execution_count": 0,
      "outputs": [
        {
          "output_type": "execute_result",
          "data": {
            "text/plain": [
              "id                    0\n",
              "vendor_id             0\n",
              "pickup_datetime       0\n",
              "dropoff_datetime      0\n",
              "passenger_count       0\n",
              "pickup_longitude      0\n",
              "pickup_latitude       0\n",
              "dropoff_longitude     0\n",
              "dropoff_latitude      0\n",
              "store_and_fwd_flag    0\n",
              "trip_duration         0\n",
              "picup_Date            0\n",
              "dropof_Date           0\n",
              "picupYear             0\n",
              "picupMonth            0\n",
              "picupDay              0\n",
              "picupTime             0\n",
              "dropofYear            0\n",
              "dropofMonth           0\n",
              "dropofDay             0\n",
              "dropofTime            0\n",
              "long                  0\n",
              "lat                   0\n",
              "dtype: int64"
            ]
          },
          "metadata": {
            "tags": []
          },
          "execution_count": 82
        }
      ]
    },
    {
      "cell_type": "code",
      "metadata": {
        "colab_type": "code",
        "id": "7mUN5byT9Kwy",
        "colab": {}
      },
      "source": [
        "df_air_O.shape"
      ],
      "execution_count": 0,
      "outputs": []
    },
    {
      "cell_type": "code",
      "metadata": {
        "colab_type": "code",
        "id": "KNK5VjfU9Kw4",
        "scrolled": true,
        "colab": {}
      },
      "source": [
        "df_air_O.head()"
      ],
      "execution_count": 0,
      "outputs": []
    },
    {
      "cell_type": "code",
      "metadata": {
        "colab_type": "code",
        "id": "6NYc3zPp9KxS",
        "colab": {}
      },
      "source": [
        "sns.jointplot('RH', 'AH', df_air_O, kind='scatter', color='seagreen')"
      ],
      "execution_count": 0,
      "outputs": []
    },
    {
      "cell_type": "code",
      "metadata": {
        "colab_type": "code",
        "id": "K19_heI56xjY",
        "colab": {}
      },
      "source": [
        "sns.jointplot('C6H6(GT)', 'RH', df_air_O, kind='scatter', color='blue')"
      ],
      "execution_count": 0,
      "outputs": []
    },
    {
      "cell_type": "code",
      "metadata": {
        "colab_type": "code",
        "id": "2D1Lsqwq6-ZX",
        "colab": {}
      },
      "source": [
        "sns.jointplot('T', 'RH', df_air_O, kind='scatter', color='pink')"
      ],
      "execution_count": 0,
      "outputs": []
    },
    {
      "cell_type": "code",
      "metadata": {
        "colab_type": "code",
        "id": "trZZSXmO9Kxc",
        "scrolled": false,
        "colab": {}
      },
      "source": [
        "df_air_O.head()"
      ],
      "execution_count": 0,
      "outputs": []
    },
    {
      "cell_type": "code",
      "metadata": {
        "colab_type": "code",
        "id": "7EIjtkTL9Kxl",
        "colab": {}
      },
      "source": [
        "df_air_O[\"CO(GT)\"]=df_air_O[\"CO(GT)\"].fillna(df_air_O.groupby([\"Month\",\"Hour\"])[\"CO(GT)\"].transform('mean'))"
      ],
      "execution_count": 0,
      "outputs": []
    },
    {
      "cell_type": "code",
      "metadata": {
        "colab_type": "code",
        "id": "nDAB9Hxm9Kxv",
        "colab": {}
      },
      "source": [
        "df_air_O[\"NOx(GT)\"]=df_air_O[\"NOx(GT)\"].fillna(df_air_O.groupby([\"Hour\",\"Month\"])[\"NOx(GT)\"].transform('mean'))"
      ],
      "execution_count": 0,
      "outputs": []
    },
    {
      "cell_type": "code",
      "metadata": {
        "colab_type": "code",
        "id": "s_Gwdyc69Kx1",
        "colab": {}
      },
      "source": [
        "df_air_O[\"NO2(GT)\"]=df_air_O[\"NO2(GT)\"].fillna(df_air_O.groupby(['Hour','Month'])[\"NO2(GT)\"].transform('mean'))"
      ],
      "execution_count": 0,
      "outputs": []
    },
    {
      "cell_type": "code",
      "metadata": {
        "colab_type": "code",
        "id": "yRTdSHJc9KyD",
        "colab": {}
      },
      "source": [
        "df_air_O.shape"
      ],
      "execution_count": 0,
      "outputs": []
    },
    {
      "cell_type": "code",
      "metadata": {
        "colab_type": "code",
        "id": "3djrpULR9KyI",
        "colab": {}
      },
      "source": [
        "df_air_O.head()"
      ],
      "execution_count": 0,
      "outputs": []
    },
    {
      "cell_type": "code",
      "metadata": {
        "colab_type": "code",
        "id": "L4hgtxxm9KyN",
        "colab": {}
      },
      "source": [
        "# column value replaced by  year, day and hourly mena value\n",
        "df_air_O[\"CO(GT)\"]=df_air_O[\"CO(GT)\"].fillna(df_air_O.groupby(['Hour','Day','Year'])[\"CO(GT)\"].transform('mean'))"
      ],
      "execution_count": 0,
      "outputs": []
    },
    {
      "cell_type": "code",
      "metadata": {
        "colab_type": "code",
        "id": "gvzZLoaQ9KyT",
        "colab": {}
      },
      "source": [
        "df_air_O[\"NOx(GT)\"]=df_air_O[\"NOx(GT)\"].fillna(df_air_O.groupby(['Hour','Day','Year'])[\"NOx(GT)\"].transform('mean'))"
      ],
      "execution_count": 0,
      "outputs": []
    },
    {
      "cell_type": "code",
      "metadata": {
        "colab_type": "code",
        "id": "tHS2uQVX9KyY",
        "colab": {}
      },
      "source": [
        "df_air_O[\"NO2(GT)\"]=df_air_O[\"NO2(GT)\"].fillna(df_air_O.groupby(['Hour','Day','Year'])[\"NO2(GT)\"].transform('mean'))"
      ],
      "execution_count": 0,
      "outputs": []
    },
    {
      "cell_type": "code",
      "metadata": {
        "colab_type": "code",
        "id": "exixeert9Kyz",
        "colab": {}
      },
      "source": [
        "df_NYC.to_excel(\"NYC_TAXI.xlsx\",sheet_name='Sheet_name_1')"
      ],
      "execution_count": 0,
      "outputs": []
    },
    {
      "cell_type": "code",
      "metadata": {
        "colab_type": "code",
        "id": "ECj7Mdap9Ky4",
        "colab": {}
      },
      "source": [
        "df_NYC.to_csv(\"NYC_TAXI.csv\")"
      ],
      "execution_count": 0,
      "outputs": []
    },
    {
      "cell_type": "markdown",
      "metadata": {
        "colab_type": "text",
        "id": "p-nWI05C3ZcY"
      },
      "source": [
        "** Descriptive Statistics**"
      ]
    },
    {
      "cell_type": "code",
      "metadata": {
        "colab_type": "code",
        "id": "QkNLaPwI9KzE",
        "colab": {}
      },
      "source": [
        "#df_air_O[df_air_O['NOx(GT)']==-200].iloc[0:8991]"
      ],
      "execution_count": 0,
      "outputs": []
    },
    {
      "cell_type": "code",
      "metadata": {
        "colab_type": "code",
        "id": "U6xKpjAD9KzS",
        "colab": {}
      },
      "source": [
        "#airQuality_df = df_air_O"
      ],
      "execution_count": 0,
      "outputs": []
    },
    {
      "cell_type": "code",
      "metadata": {
        "colab_type": "code",
        "id": "4cplw19c9KzY",
        "colab": {}
      },
      "source": [
        "print('Count of missing values:\\n',df_air_O.shape[0]-df_air_O.count())"
      ],
      "execution_count": 0,
      "outputs": []
    },
    {
      "cell_type": "code",
      "metadata": {
        "colab_type": "code",
        "id": "N8OHbLAj9Kzj",
        "colab": {}
      },
      "source": [
        "df_air_O.describe(include = 'all')"
      ],
      "execution_count": 0,
      "outputs": []
    },
    {
      "cell_type": "code",
      "metadata": {
        "colab_type": "code",
        "id": "KfF3IAx69Kzo",
        "colab": {}
      },
      "source": [
        "df_air_O = df_air_O.fillna(0)"
      ],
      "execution_count": 0,
      "outputs": []
    },
    {
      "cell_type": "code",
      "metadata": {
        "colab_type": "code",
        "id": "2OMKQGKu9Kzt",
        "colab": {}
      },
      "source": [
        "df_air_O[\"CO(GT)\"] = df_air_O[\"CO(GT)\"].replace(0,df_air_O[\"CO(GT)\"].median())"
      ],
      "execution_count": 0,
      "outputs": []
    },
    {
      "cell_type": "code",
      "metadata": {
        "colab_type": "code",
        "id": "pc3tScso9Kzw",
        "colab": {}
      },
      "source": [
        "df_air_O[\"PT08.S1(CO)\"] = df_air_O[\"PT08.S1(CO)\"].replace(0,df_air_O[\"PT08.S1(CO)\"].median())"
      ],
      "execution_count": 0,
      "outputs": []
    },
    {
      "cell_type": "code",
      "metadata": {
        "colab_type": "code",
        "id": "TIgbY6Jd9Kzz",
        "colab": {}
      },
      "source": [
        "df_air_O[\"C6H6(GT)\"] = df_air_O[\"C6H6(GT)\"].replace(0,df_air_O[\"C6H6(GT)\"].median())"
      ],
      "execution_count": 0,
      "outputs": []
    },
    {
      "cell_type": "code",
      "metadata": {
        "colab_type": "code",
        "id": "b5V_aoz89Kz2",
        "colab": {}
      },
      "source": [
        "df_air_O[\"PT08.S2(NMHC)\"] = df_air_O[\"PT08.S2(NMHC)\"].replace(0,df_air_O[\"PT08.S2(NMHC)\"].median())"
      ],
      "execution_count": 0,
      "outputs": []
    },
    {
      "cell_type": "code",
      "metadata": {
        "colab_type": "code",
        "id": "SW80vioL9Kz9",
        "colab": {}
      },
      "source": [
        "df_air_O[\"PT08.S3(NOx)\"] = df_air_O[\"PT08.S3(NOx)\"].replace(0,df_air_O[\"PT08.S3(NOx)\"].median())"
      ],
      "execution_count": 0,
      "outputs": []
    },
    {
      "cell_type": "code",
      "metadata": {
        "colab_type": "code",
        "id": "m_ZBCzLH9K0L",
        "colab": {}
      },
      "source": [
        "df_air_O[\"NO2(GT)\"] = df_air_O[\"NO2(GT)\"].replace(0,df_air_O[\"NO2(GT)\"].median())"
      ],
      "execution_count": 0,
      "outputs": []
    },
    {
      "cell_type": "code",
      "metadata": {
        "colab_type": "code",
        "id": "39KRGPt69K0O",
        "colab": {}
      },
      "source": [
        "df_air_O[\"PT08.S4(NO2)\"] = df_air_O[\"PT08.S4(NO2)\"].replace(0,df_air_O[\"PT08.S4(NO2)\"].median())"
      ],
      "execution_count": 0,
      "outputs": []
    },
    {
      "cell_type": "code",
      "metadata": {
        "colab_type": "code",
        "id": "6s-uctwr9K0S",
        "colab": {}
      },
      "source": [
        "df_air_O[\"PT08.S5(O3)\"] = df_air_O[\"PT08.S5(O3)\"].replace(0,df_air_O[\"PT08.S5(O3)\"].median())"
      ],
      "execution_count": 0,
      "outputs": []
    },
    {
      "cell_type": "code",
      "metadata": {
        "colab_type": "code",
        "id": "UR2iZijS9K0W",
        "colab": {}
      },
      "source": [
        "df_air_O[\"T\"] = df_air_O[\"T\"].replace(0,df_air_O[\"T\"].median())"
      ],
      "execution_count": 0,
      "outputs": []
    },
    {
      "cell_type": "code",
      "metadata": {
        "colab_type": "code",
        "id": "jqFMI_3U9K0a",
        "colab": {}
      },
      "source": [
        "df_air_O[\"AH\"] = df_air_O[\"AH\"].replace(0,df_air_O[\"AH\"].median())"
      ],
      "execution_count": 0,
      "outputs": []
    },
    {
      "cell_type": "code",
      "metadata": {
        "colab_type": "code",
        "id": "NEHm7UbI9K0g",
        "colab": {}
      },
      "source": [
        "df_air_O[\"RH\"] = df_air_O[\"RH\"].replace(0,df_air_O[\"RH\"].median())"
      ],
      "execution_count": 0,
      "outputs": []
    },
    {
      "cell_type": "code",
      "metadata": {
        "colab_type": "code",
        "id": "k83APGh49K0l",
        "colab": {}
      },
      "source": [
        "df_air_O[\"Month_Str\"] = df_air_O[\"Month_Str\"].astype(str)"
      ],
      "execution_count": 0,
      "outputs": []
    },
    {
      "cell_type": "code",
      "metadata": {
        "colab_type": "code",
        "id": "eBB1Sq7g9K0o",
        "colab": {}
      },
      "source": [
        "df_air_O[\"Month\"].isnull().sum()"
      ],
      "execution_count": 0,
      "outputs": []
    },
    {
      "cell_type": "code",
      "metadata": {
        "colab_type": "code",
        "id": "DKC7OGZ_9K0u",
        "colab": {}
      },
      "source": [
        "df_air_O.info()"
      ],
      "execution_count": 0,
      "outputs": []
    },
    {
      "cell_type": "code",
      "metadata": {
        "colab_type": "code",
        "id": "iRcw6gJB9K00",
        "colab": {}
      },
      "source": [
        "#to select all numerical variables\n",
        "df_num = df_air_O.select_dtypes(include=['float64','int64'])\n",
        "#PT08.S1(CO), C6H6(GT), PT08.S2(NMHC), PT08.S3(NOx), PT08.S4(NO2), PT08.S5(O3), T and AH\n",
        "#df_num = df_air_O[['PT08.S1(CO)','C6H6(GT)','PT08.S2(NMHC)','PT08.S3(NOx)','PT08.S4(NO2)','PT08.S5(O3)','RH','AH','T','Hour','Year','Month','Day']]\n",
        "df_num.head()"
      ],
      "execution_count": 0,
      "outputs": []
    },
    {
      "cell_type": "code",
      "metadata": {
        "id": "Zdy0gW8rww5I",
        "colab_type": "code",
        "colab": {}
      },
      "source": [
        "#to find the missing values in the dataset\n",
        "plt.figure(figsize=(10,7))\n",
        "sns.heatmap(df_num.isnull(),cmap=\"viridis\",cbar=False,yticklabels=False)"
      ],
      "execution_count": 0,
      "outputs": []
    },
    {
      "cell_type": "markdown",
      "metadata": {
        "id": "b84nul0uww5T",
        "colab_type": "text"
      },
      "source": [
        "No missing value in the dataset"
      ]
    },
    {
      "cell_type": "code",
      "metadata": {
        "colab_type": "code",
        "id": "-5tGlM__9K04",
        "colab": {}
      },
      "source": [
        "df_num.describe(include='all')"
      ],
      "execution_count": 0,
      "outputs": []
    },
    {
      "cell_type": "code",
      "metadata": {
        "colab_type": "code",
        "id": "CbeCYgo69K08",
        "colab": {}
      },
      "source": [
        "df_num.head()"
      ],
      "execution_count": 0,
      "outputs": []
    },
    {
      "cell_type": "code",
      "metadata": {
        "colab_type": "code",
        "id": "DHdbirbI9K0_",
        "colab": {}
      },
      "source": [
        "#df_num.hist(bins = 20, figsize=(14,12))"
      ],
      "execution_count": 0,
      "outputs": []
    },
    {
      "cell_type": "code",
      "metadata": {
        "colab_type": "code",
        "id": "ecsRWNR79K1C",
        "colab": {}
      },
      "source": [
        "#import seaborn as sns"
      ],
      "execution_count": 0,
      "outputs": []
    },
    {
      "cell_type": "code",
      "metadata": {
        "colab_type": "code",
        "id": "L6_RAykK9K1M",
        "colab": {}
      },
      "source": [
        "plt.figure(figsize=(14,6))\n",
        "sns.heatmap(df_num.corr(), annot=True, linewidths=.5,)\n",
        "plt.show()"
      ],
      "execution_count": 0,
      "outputs": []
    },
    {
      "cell_type": "markdown",
      "metadata": {
        "colab_type": "text",
        "id": "o0ycFAKp9K1Q"
      },
      "source": [
        "## Observation: The heat map illustrates that RH is dependent on few column values that could be considered for linear regression."
      ]
    },
    {
      "cell_type": "code",
      "metadata": {
        "colab_type": "code",
        "id": "kdk3kQxL9K1S",
        "colab": {}
      },
      "source": [
        "sample = df_air_O[['CO(GT)','PT08.S1(CO)','NOx(GT)','PT08.S2(NMHC)','PT08.S3(NOx)','PT08.S5(O3)','RH','AH','T']]"
      ],
      "execution_count": 0,
      "outputs": []
    },
    {
      "cell_type": "code",
      "metadata": {
        "colab_type": "code",
        "id": "51R8pCtn9K1W",
        "colab": {}
      },
      "source": [
        "plt.figure(figsize=(14,6))\n",
        "sns.heatmap(sample.corr(), annot=True, linewidths=.5,)\n",
        "plt.show()"
      ],
      "execution_count": 0,
      "outputs": []
    },
    {
      "cell_type": "markdown",
      "metadata": {
        "colab_type": "text",
        "id": "H9lMg_iy9K1b"
      },
      "source": [
        "#### Observation: The heat map illustrates that RH is positively correlated with CO(GT), PT08.S1(CO),NOx(GT),PT08.S5(O3),AH and negative correlated with T\n"
      ]
    },
    {
      "cell_type": "code",
      "metadata": {
        "colab_type": "code",
        "id": "ArKpAhL79K1d",
        "colab": {}
      },
      "source": [
        "sample.hist(bins = 20)"
      ],
      "execution_count": 0,
      "outputs": []
    },
    {
      "cell_type": "code",
      "metadata": {
        "colab_type": "code",
        "id": "JjwBrjKU9K1i",
        "colab": {}
      },
      "source": [
        "from matplotlib import style\n",
        "style.use('ggplot')\n",
        "plt.figure(figsize=(12,4))                                 # Setting the figure size\n",
        "sns.distplot(df_num['AH'])                     # Creating the histogram\n",
        "plt.show()"
      ],
      "execution_count": 0,
      "outputs": []
    },
    {
      "cell_type": "code",
      "metadata": {
        "colab_type": "code",
        "id": "tVO_E6Qy9K1l",
        "colab": {}
      },
      "source": [
        "from matplotlib import style\n",
        "style.use('ggplot')\n",
        "plt.figure(figsize=(12,4))                                 # Setting the figure size\n",
        "sns.distplot(df_num['RH'])   "
      ],
      "execution_count": 0,
      "outputs": []
    },
    {
      "cell_type": "code",
      "metadata": {
        "colab_type": "code",
        "id": "4BTn_PJq9K1o",
        "colab": {}
      },
      "source": [
        "style.use('ggplot')\n",
        "plt.figure(figsize=(12,4))\n",
        "sns.set_color_codes(\"pastel\")                                                              \n",
        "sns.distplot(df_num['RH'],kde=True,bins=480)                                    \n",
        "sns.distplot(df_num.loc[df_num['AH'] >= 0.5, 'RH'],kde=True,bins=480)   "
      ],
      "execution_count": 0,
      "outputs": []
    },
    {
      "cell_type": "code",
      "metadata": {
        "colab_type": "code",
        "id": "GdaXO1Ku9K1r",
        "colab": {}
      },
      "source": [
        "df_num['RH'].plot.hist(bins=20, figsize=(12, 6), edgecolor = 'white')\n",
        "plt.xlabel('RH', fontsize=12)\n",
        "#plt.title('RH', fontsize=12)\n",
        "plt.show()"
      ],
      "execution_count": 0,
      "outputs": []
    },
    {
      "cell_type": "code",
      "metadata": {
        "colab_type": "code",
        "id": "mQqOVla79K1y",
        "colab": {}
      },
      "source": [
        "df_air_O[\"Timestamp\"]=pd.to_datetime(df_air_O[\"Date\"].astype(str) + ' ' + df_air_O[\"Time\"].astype(str))\n",
        "#df_air_O[\"Timestamp\"]"
      ],
      "execution_count": 0,
      "outputs": []
    },
    {
      "cell_type": "code",
      "metadata": {
        "colab_type": "code",
        "id": "DwR-zUcs9K2B",
        "colab": {}
      },
      "source": [
        "df_num.shape"
      ],
      "execution_count": 0,
      "outputs": []
    },
    {
      "cell_type": "markdown",
      "metadata": {
        "colab_type": "text",
        "id": "XsIFo3sg9K2H"
      },
      "source": [
        "RH is numerical variable and it ranges between 1 to 100% , we use various regressive models to predict RH."
      ]
    },
    {
      "cell_type": "markdown",
      "metadata": {
        "colab_type": "text",
        "id": "xR3C-J3t9K2H"
      },
      "source": [
        "### 5. Linear Regression"
      ]
    },
    {
      "cell_type": "markdown",
      "metadata": {
        "colab_type": "text",
        "id": "vIQBnXhS9K2I"
      },
      "source": [
        "##### STEP 1- CREATE FEATURES AND LABEL"
      ]
    },
    {
      "cell_type": "code",
      "metadata": {
        "colab_type": "code",
        "id": "a4VHl2pw9K2J",
        "colab": {}
      },
      "source": [
        "y = df_num['RH']   "
      ],
      "execution_count": 0,
      "outputs": []
    },
    {
      "cell_type": "code",
      "metadata": {
        "colab_type": "code",
        "id": "QjfNU9789K2N",
        "colab": {}
      },
      "source": [
        "x = df_num.drop(['RH'], axis = 1)"
      ],
      "execution_count": 0,
      "outputs": []
    },
    {
      "cell_type": "code",
      "metadata": {
        "colab_type": "code",
        "id": "SlL7UFMr9K2R",
        "colab": {}
      },
      "source": [
        "x.head()"
      ],
      "execution_count": 0,
      "outputs": []
    },
    {
      "cell_type": "code",
      "metadata": {
        "colab_type": "code",
        "id": "tQyM84sc9K2U",
        "colab": {}
      },
      "source": [
        "y.head()"
      ],
      "execution_count": 0,
      "outputs": []
    },
    {
      "cell_type": "code",
      "metadata": {
        "colab_type": "code",
        "id": "e2yXAX4K9K2X",
        "colab": {}
      },
      "source": [
        "from sklearn.model_selection import train_test_split\n",
        "from sklearn import metrics\n",
        "from sklearn.linear_model import LinearRegression"
      ],
      "execution_count": 0,
      "outputs": []
    },
    {
      "cell_type": "code",
      "metadata": {
        "colab_type": "code",
        "id": "mxsVaRas9K2a",
        "colab": {}
      },
      "source": [
        "x = x.drop(['Hour','Month','Day','Year'], axis = 1, inplace=False)                          "
      ],
      "execution_count": 0,
      "outputs": []
    },
    {
      "cell_type": "code",
      "metadata": {
        "colab_type": "code",
        "id": "ukXqUeay9K2c",
        "colab": {}
      },
      "source": [
        "#Features - x, Label - y\n",
        "x.shape\n",
        "y.shape"
      ],
      "execution_count": 0,
      "outputs": []
    },
    {
      "cell_type": "markdown",
      "metadata": {
        "colab_type": "text",
        "id": "ixmB-H_H9K2f"
      },
      "source": [
        "###### STEP 2- SPLIT TRAIN AND TEST DATA"
      ]
    },
    {
      "cell_type": "code",
      "metadata": {
        "colab_type": "code",
        "id": "BErMuun99K2g",
        "colab": {}
      },
      "source": [
        "# Split in Train and Test data\n",
        "x_train, x_test, y_train, y_test = train_test_split(x, y, test_size=0.25, random_state=999)\n",
        "x_train.shape\n",
        "y_train.shape\n",
        "x_test.shape\n",
        "y_test.shape"
      ],
      "execution_count": 0,
      "outputs": []
    },
    {
      "cell_type": "code",
      "metadata": {
        "colab_type": "code",
        "id": "b3ro03Do9K2k",
        "colab": {}
      },
      "source": [
        "print(\"X_trian shape --> {}\".format(x_train.shape))\n",
        "print(\"y_train shape --> {}\".format(y_train.shape))\n",
        "print(\"X_test shape --> {}\".format(x_test.shape))\n",
        "print(\"y_test shape --> {}\".format(y_test.shape))"
      ],
      "execution_count": 0,
      "outputs": []
    },
    {
      "cell_type": "markdown",
      "metadata": {
        "colab_type": "text",
        "id": "ELse6BAq9K2n"
      },
      "source": [
        "###### STEP 3- CREATE INSTANCE OF THE MODEL"
      ]
    },
    {
      "cell_type": "code",
      "metadata": {
        "colab_type": "code",
        "id": "dk5XVjus9K2o",
        "colab": {}
      },
      "source": [
        "lm = LinearRegression()"
      ],
      "execution_count": 0,
      "outputs": []
    },
    {
      "cell_type": "markdown",
      "metadata": {
        "colab_type": "text",
        "id": "sdf3I2tv9K2r"
      },
      "source": [
        "##### STEP 4- FIT MODEL"
      ]
    },
    {
      "cell_type": "code",
      "metadata": {
        "colab_type": "code",
        "id": "2KqPZMIG9K2s",
        "colab": {}
      },
      "source": [
        "lm_fit = lm.fit(x_train, y_train)"
      ],
      "execution_count": 0,
      "outputs": []
    },
    {
      "cell_type": "code",
      "metadata": {
        "colab_type": "code",
        "id": "BK-035uQ9K2u",
        "colab": {}
      },
      "source": [
        "lm_train_fit = lm_fit.predict(x_train)\n",
        "lm_train_fit.shape\n",
        "print('RMSE on train data:', np.sqrt(metrics.mean_squared_error(y_train, lm_train_fit)))"
      ],
      "execution_count": 0,
      "outputs": []
    },
    {
      "cell_type": "markdown",
      "metadata": {
        "colab_type": "text",
        "id": "dgurYPt-9K22"
      },
      "source": [
        "##### STEP 5- PREDICT TEST USING THE TRAINED MODEL"
      ]
    },
    {
      "cell_type": "code",
      "metadata": {
        "colab_type": "code",
        "id": "1iN25pPM9K29",
        "colab": {}
      },
      "source": [
        "y_pred_lm = lm_fit.predict(x_test)\n",
        "y_pred_lm.shape\n"
      ],
      "execution_count": 0,
      "outputs": []
    },
    {
      "cell_type": "code",
      "metadata": {
        "colab_type": "code",
        "id": "b6U9dlzb9K3E",
        "colab": {}
      },
      "source": [
        "from sklearn.metrics import r2_score\n",
        "print(\"r2 score on Test:\", r2_score(y_test,y_pred_lm))"
      ],
      "execution_count": 0,
      "outputs": []
    },
    {
      "cell_type": "code",
      "metadata": {
        "colab_type": "code",
        "id": "UEPm4DVX9K3K",
        "colab": {}
      },
      "source": [
        "lm.score(x_test, y_test)"
      ],
      "execution_count": 0,
      "outputs": []
    },
    {
      "cell_type": "markdown",
      "metadata": {
        "colab_type": "text",
        "id": "91HiQFUq9K3U"
      },
      "source": [
        "##### STEP 6- EVALUATE MODEL PERFORMANCE"
      ]
    },
    {
      "cell_type": "code",
      "metadata": {
        "colab_type": "code",
        "id": "nV-p9NVl9K3V",
        "colab": {}
      },
      "source": [
        "from sklearn import metrics\n",
        "print('MAE using Linear Reg:', metrics.mean_absolute_error(y_test, y_pred_lm))\n",
        "print('MSE using Linear Reg:', metrics.mean_squared_error(y_test, y_pred_lm))\n",
        "print('RMSE using Linear Reg:', np.sqrt(metrics.mean_squared_error(y_test, y_pred_lm)))\n",
        "#print('RMSE:', np.sqrt(metrics.mean_squared_error(y_train, predicted)))"
      ],
      "execution_count": 0,
      "outputs": []
    },
    {
      "cell_type": "code",
      "metadata": {
        "colab_type": "code",
        "id": "yAWWQsIy9K3Y",
        "colab": {}
      },
      "source": [
        "lm.coef_"
      ],
      "execution_count": 0,
      "outputs": []
    },
    {
      "cell_type": "code",
      "metadata": {
        "colab_type": "code",
        "id": "-foSgRQs9K3b",
        "colab": {}
      },
      "source": [
        "coeff_df = pd.DataFrame(lm.coef_, x.columns, columns=['Coefficient'])\n",
        "coeff_df"
      ],
      "execution_count": 0,
      "outputs": []
    },
    {
      "cell_type": "code",
      "metadata": {
        "colab_type": "code",
        "id": "yOov1w6L9K3e",
        "colab": {}
      },
      "source": [
        "df = pd.DataFrame({'Actual': y_test, 'Predicted': y_pred_lm, 'difference': y_test - y_pred_lm})\n",
        "df.head()"
      ],
      "execution_count": 0,
      "outputs": []
    },
    {
      "cell_type": "code",
      "metadata": {
        "colab_type": "code",
        "id": "A-9NZRJb9K3i",
        "colab": {}
      },
      "source": [
        "sns.boxplot(y_pred_lm)"
      ],
      "execution_count": 0,
      "outputs": []
    },
    {
      "cell_type": "code",
      "metadata": {
        "colab_type": "code",
        "id": "VvrJSLYc9K3w",
        "colab": {}
      },
      "source": [
        "lm.intercept_"
      ],
      "execution_count": 0,
      "outputs": []
    },
    {
      "cell_type": "code",
      "metadata": {
        "colab_type": "code",
        "id": "sZlpl9hq9K30",
        "colab": {}
      },
      "source": [
        "x.columns"
      ],
      "execution_count": 0,
      "outputs": []
    },
    {
      "cell_type": "code",
      "metadata": {
        "colab_type": "code",
        "id": "GAbrLWOp9K4r",
        "colab": {}
      },
      "source": [
        "sns.distplot((y_test-y_pred_lm),bins=30);\n",
        "plt.show()"
      ],
      "execution_count": 0,
      "outputs": []
    },
    {
      "cell_type": "code",
      "metadata": {
        "colab_type": "code",
        "id": "PA56Xr1_3Zck",
        "colab": {}
      },
      "source": [
        "corr_df = df_num.drop(['Hour','Month','Day','Year'], axis = 1, inplace=False)  "
      ],
      "execution_count": 0,
      "outputs": []
    },
    {
      "cell_type": "code",
      "metadata": {
        "colab_type": "code",
        "id": "m-Gloend3Zcp",
        "colab": {}
      },
      "source": [
        "corr_df.corr()"
      ],
      "execution_count": 0,
      "outputs": []
    },
    {
      "cell_type": "code",
      "metadata": {
        "colab_type": "code",
        "id": "T9348zXg3Zcw",
        "colab": {}
      },
      "source": [
        "plt.figure(figsize=(10,7))"
      ],
      "execution_count": 0,
      "outputs": []
    },
    {
      "cell_type": "code",
      "metadata": {
        "colab_type": "code",
        "id": "elPdP1Zc9K48",
        "colab": {}
      },
      "source": [
        "fig_importance_lm = pd.Series(lm.coef_, index= x.columns)"
      ],
      "execution_count": 0,
      "outputs": []
    },
    {
      "cell_type": "code",
      "metadata": {
        "colab_type": "code",
        "id": "FocNg--B9K4-",
        "colab": {}
      },
      "source": [
        "fig_importance_lm.plot(kind = 'bar')\n",
        "plt.show()"
      ],
      "execution_count": 0,
      "outputs": []
    },
    {
      "cell_type": "code",
      "metadata": {
        "colab_type": "code",
        "id": "JdN--Jwt9K5B",
        "colab": {}
      },
      "source": [
        "predictors = x_test.columns\n",
        "from pandas import Series\n",
        "coef = Series(lm.coef_,predictors).sort_values()\n",
        "coef.plot(kind='barh', title='Model Coefficients')\n",
        "#plt.hlines(y=0, xmin= -10, xmax=50)"
      ],
      "execution_count": 0,
      "outputs": []
    },
    {
      "cell_type": "code",
      "metadata": {
        "colab_type": "code",
        "id": "4iozIu1Q9K5D",
        "colab": {}
      },
      "source": [
        "#skewness and kurtosis\n",
        "print(\"Skewness: %f\" % df_num['RH'].skew())\n",
        "print(\"Kurtosis: %f\" % df_num['RH'].kurt())"
      ],
      "execution_count": 0,
      "outputs": []
    },
    {
      "cell_type": "markdown",
      "metadata": {
        "colab_type": "text",
        "id": "QDenxsJQ9K5J"
      },
      "source": [
        "RH distribution is approximately symmetric based on Skewness score\n",
        "Kurtosis measures the tail-heaviness of the distribution.The kurtosis of this dataset is -0.82  Since this value is less than 0, it is considered to be a “light-tailed” dataset"
      ]
    },
    {
      "cell_type": "code",
      "metadata": {
        "colab_type": "code",
        "id": "s-hx8GOq9K5K",
        "colab": {}
      },
      "source": [
        "#x_test"
      ],
      "execution_count": 0,
      "outputs": []
    },
    {
      "cell_type": "code",
      "metadata": {
        "colab_type": "code",
        "id": "QuCg1EAV9K5M",
        "colab": {}
      },
      "source": [
        "configure_plotly_browser_state()\n",
        "px.box(df_num, x=\"AH\",  color=\"RH\",hover_data=['T','PT08.S1(CO)', 'PT08.S5(O3)','C6H6(GT)','PT08.S4(NO2)', 'PT08.S2(NMHC)'],notched=True)"
      ],
      "execution_count": 0,
      "outputs": []
    },
    {
      "cell_type": "markdown",
      "metadata": {
        "colab_type": "text",
        "id": "xj8x2GRD9K5h"
      },
      "source": [
        "## LIME"
      ]
    },
    {
      "cell_type": "code",
      "metadata": {
        "colab_type": "code",
        "id": "gQyASdX59K5i",
        "colab": {}
      },
      "source": [
        "# Import lime package\n",
        "import lime\n",
        "import lime.lime_tabular\n",
        "\n",
        "#Find categorical features\n",
        "categorical_features = np.argwhere(np.array([len(set(x_test.values[:,x])) for x in range(x_test.values.shape[1])]) <= 10).flatten()\n",
        "#Lime explainer for regression\n",
        "explainer = lime.lime_tabular.LimeTabularExplainer(x_test.values,feature_names=x_test.columns.values.tolist(),class_names=['RH'],categorical_features=categorical_features,\n",
        "verbose=True, mode='regression')\n",
        "ind = 103\n",
        "#Fit on test data\n",
        "exp = explainer.explain_instance(x_test.values[ind], lm_fit.predict, num_features=6)\n",
        "#Show in notebook features influencing predictions\n",
        "exp.show_in_notebook(show_table=True)"
      ],
      "execution_count": 0,
      "outputs": []
    },
    {
      "cell_type": "markdown",
      "metadata": {
        "colab_type": "text",
        "id": "JRSuRRtP9K5y"
      },
      "source": [
        "## ELI5"
      ]
    },
    {
      "cell_type": "code",
      "metadata": {
        "colab_type": "code",
        "id": "7MleQaFZ9K5z",
        "colab": {}
      },
      "source": [
        "# Import Eli5 package\n",
        "import eli5\n",
        "from eli5.sklearn import PermutationImportance\n",
        "\n",
        "# Find the importance of columns for prediction\n",
        "perm = PermutationImportance(lm_fit, random_state=1).fit(x_test,y_pred_lm)\n",
        "eli5.show_weights(perm, feature_names = x_test.columns.tolist())"
      ],
      "execution_count": 0,
      "outputs": []
    },
    {
      "cell_type": "code",
      "metadata": {
        "colab_type": "code",
        "id": "0qujxYpH9K51",
        "colab": {}
      },
      "source": [
        "#Understanding how each feature influences the prediction\n",
        "eli5.show_prediction(lm_fit, doc=x_test.iloc[[ind]], feature_names=list(x_test.columns))"
      ],
      "execution_count": 0,
      "outputs": []
    },
    {
      "cell_type": "markdown",
      "metadata": {
        "colab_type": "text",
        "id": "OysDhKZm9K54"
      },
      "source": [
        "## SHAP"
      ]
    },
    {
      "cell_type": "code",
      "metadata": {
        "colab_type": "code",
        "id": "eg1m917C9K55",
        "colab": {}
      },
      "source": [
        "#Import SHAP package\n",
        "import shap\n",
        "\n",
        "#Create explainer for linear model\n",
        "explainer = shap.LinearExplainer(lm_fit,data=x_test.values)\n",
        "shap_values = explainer.shap_values(x_test)"
      ],
      "execution_count": 0,
      "outputs": []
    },
    {
      "cell_type": "code",
      "metadata": {
        "colab_type": "code",
        "id": "oGUoABtF9K58",
        "colab": {}
      },
      "source": [
        "#Understanding how each feature influences the prediction\n",
        "\n",
        "shap.initjs()\n",
        "ind = 103\n",
        "\n",
        "\n",
        "shap.force_plot(\n",
        "    explainer.expected_value, shap_values[ind,:], x_test.iloc[ind,:],\n",
        "    feature_names=x_test.columns.tolist()\n",
        ")"
      ],
      "execution_count": 0,
      "outputs": []
    },
    {
      "cell_type": "code",
      "metadata": {
        "colab_type": "code",
        "id": "A6dbJ8vX9K6B",
        "colab": {}
      },
      "source": [
        "shap.summary_plot(shap_values,x_test)"
      ],
      "execution_count": 0,
      "outputs": []
    },
    {
      "cell_type": "code",
      "metadata": {
        "colab_type": "code",
        "id": "reFe5juG9K6F",
        "colab": {}
      },
      "source": [
        "#Most Influential features\n",
        "shap.dependence_plot(\"AH\", shap_values, x_test)"
      ],
      "execution_count": 0,
      "outputs": []
    },
    {
      "cell_type": "code",
      "metadata": {
        "colab_type": "code",
        "id": "7j1dpHqr9K6K",
        "colab": {}
      },
      "source": [
        "shap.dependence_plot(\"PT08.S4(NO2)\", shap_values, x_test)"
      ],
      "execution_count": 0,
      "outputs": []
    },
    {
      "cell_type": "code",
      "metadata": {
        "colab_type": "code",
        "id": "ZrfVoEqq9K6M",
        "colab": {}
      },
      "source": [
        "shap.dependence_plot('PT08.S1(CO)', shap_values, x_test)"
      ],
      "execution_count": 0,
      "outputs": []
    },
    {
      "cell_type": "code",
      "metadata": {
        "colab_type": "code",
        "id": "xYdtJFqW9K6Q",
        "colab": {}
      },
      "source": [
        "data = df_num"
      ],
      "execution_count": 0,
      "outputs": []
    },
    {
      "cell_type": "code",
      "metadata": {
        "colab_type": "code",
        "id": "7LzQ8BJM9K6W",
        "scrolled": true,
        "colab": {}
      },
      "source": [
        "#data"
      ],
      "execution_count": 0,
      "outputs": []
    },
    {
      "cell_type": "code",
      "metadata": {
        "colab_type": "code",
        "id": "WP34neXH9K6Y",
        "colab": {}
      },
      "source": [
        "'''\n",
        "fig = go.Figure(data=go.Scatter(\n",
        "    y = np.random.randn(500),\n",
        "    mode='markers',\n",
        "    marker=dict(\n",
        "        size=16,\n",
        "        color=np.random.randn(500), #set color equal to a variable\n",
        "        colorscale='Portland', # one of plotly colorscales\n",
        "        showscale = True\n",
        "    )\n",
        "))\n",
        "fig.update_layout(title='Air Quality')\n",
        "'''\n"
      ],
      "execution_count": 0,
      "outputs": []
    },
    {
      "cell_type": "markdown",
      "metadata": {
        "id": "EueqRFEAww_l",
        "colab_type": "text"
      },
      "source": [
        "#### Gradient Boosting Machine and XGBoost"
      ]
    },
    {
      "cell_type": "code",
      "metadata": {
        "id": "No1gFImBww_m",
        "colab_type": "code",
        "colab": {}
      },
      "source": [
        "from xgboost import XGBRegressor\n",
        "from sklearn.model_selection import GridSearchCV"
      ],
      "execution_count": 0,
      "outputs": []
    },
    {
      "cell_type": "code",
      "metadata": {
        "id": "YbDy8LIrww_q",
        "colab_type": "code",
        "colab": {}
      },
      "source": [
        "cv_params = {'max_depth': [3,5,7], 'min_child_weight': [1,3,5]}\n",
        "ind_params = {'eta': 0.1, \n",
        "              'eval_metric': 'rmse',\n",
        "              'n_estimators': 1000,\n",
        "              'seed':0,\n",
        "              'subsample': 0.8,\n",
        "              'colsample_bytree': 0.8, \n",
        "             'objective': 'reg:linear'}"
      ],
      "execution_count": 0,
      "outputs": []
    },
    {
      "cell_type": "code",
      "metadata": {
        "id": "0wFQBYx4ww_v",
        "colab_type": "code",
        "colab": {}
      },
      "source": [
        "optimized_GBM = GridSearchCV(XGBRegressor(**ind_params), \n",
        "                            cv_params, cv = 5, n_jobs = -1) \n",
        "# Optimize for accuracy since that is the metric used in the Adult Data Set notation"
      ],
      "execution_count": 0,
      "outputs": []
    },
    {
      "cell_type": "code",
      "metadata": {
        "id": "rGNG3Hogww_y",
        "colab_type": "code",
        "colab": {}
      },
      "source": [
        "cv_res = optimized_GBM.fit(x_train,y_train)"
      ],
      "execution_count": 0,
      "outputs": []
    },
    {
      "cell_type": "code",
      "metadata": {
        "id": "VEB18iZwww_7",
        "colab_type": "code",
        "colab": {}
      },
      "source": [
        "optimized_GBM.best_score_"
      ],
      "execution_count": 0,
      "outputs": []
    },
    {
      "cell_type": "code",
      "metadata": {
        "id": "-TSyL6SQww_-",
        "colab_type": "code",
        "colab": {}
      },
      "source": [
        "optimized_GBM.cv_results_"
      ],
      "execution_count": 0,
      "outputs": []
    },
    {
      "cell_type": "code",
      "metadata": {
        "id": "zkcbDTciwxAK",
        "colab_type": "code",
        "colab": {}
      },
      "source": [
        "optimized_GBM.best_index_\n"
      ],
      "execution_count": 0,
      "outputs": []
    },
    {
      "cell_type": "code",
      "metadata": {
        "id": "1k-RXViiwxAi",
        "colab_type": "code",
        "colab": {}
      },
      "source": [
        "optimized_GBM.param_grid"
      ],
      "execution_count": 0,
      "outputs": []
    },
    {
      "cell_type": "code",
      "metadata": {
        "id": "1KU4kNYUwxAk",
        "colab_type": "code",
        "colab": {}
      },
      "source": [
        "optimized_GBM.best_params_"
      ],
      "execution_count": 0,
      "outputs": []
    },
    {
      "cell_type": "code",
      "metadata": {
        "id": "B65eAfEywxAm",
        "colab_type": "code",
        "colab": {}
      },
      "source": [
        "optimized_GBM.best_index_.itemsize"
      ],
      "execution_count": 0,
      "outputs": []
    },
    {
      "cell_type": "code",
      "metadata": {
        "id": "lcJXYnXlwxAp",
        "colab_type": "code",
        "colab": {}
      },
      "source": [
        "import xgboost\n",
        "xgdmat = xgboost.DMatrix(x_train, y_train) # Create our DMatrix to make XGBoost more efficient\n",
        "xgdmat"
      ],
      "execution_count": 0,
      "outputs": []
    },
    {
      "cell_type": "code",
      "metadata": {
        "id": "NNRFk-g4wxAt",
        "colab_type": "code",
        "colab": {}
      },
      "source": [
        "our_params = {'eta': 0.1, 'seed':0, 'subsample': 0.8, 'colsample_bytree': 0.8, \n",
        "             'objective': 'reg:linear', 'max_depth':3, 'min_child_weight':1} \n",
        "# Grid Search CV optimized settings\n"
      ],
      "execution_count": 0,
      "outputs": []
    },
    {
      "cell_type": "code",
      "metadata": {
        "id": "eEtqex4CwxAx",
        "colab_type": "code",
        "colab": {}
      },
      "source": [
        "%time cv_xgb = xgboost.cv(params = our_params, dtrain = xgdmat, num_boost_round = 3000, nfold = 5, metrics = ['logloss'], early_stopping_rounds = 100) # Look for early stopping that minimizes error, # Make sure you enter metrics inside a list or you may encounter issues!"
      ],
      "execution_count": 0,
      "outputs": []
    },
    {
      "cell_type": "code",
      "metadata": {
        "id": "fObmyvBBwxA1",
        "colab_type": "code",
        "colab": {}
      },
      "source": [
        "our_params = {'eta': 0.1, 'seed':0, 'subsample': 0.8, 'colsample_bytree': 0.8, \n",
        "             'objective': 'reg:linear', 'max_depth':3, 'min_child_weight':1} "
      ],
      "execution_count": 0,
      "outputs": []
    },
    {
      "cell_type": "code",
      "metadata": {
        "id": "QTQxKBhPwxA6",
        "colab_type": "code",
        "colab": {}
      },
      "source": [
        "air_qty_xgb = xgboost.train(our_params, xgdmat, num_boost_round = 500)\n"
      ],
      "execution_count": 0,
      "outputs": []
    },
    {
      "cell_type": "code",
      "metadata": {
        "id": "pewOsO-0wxA8",
        "colab_type": "code",
        "colab": {}
      },
      "source": [
        "xgboost.plot_importance(air_qty_xgb)"
      ],
      "execution_count": 0,
      "outputs": []
    },
    {
      "cell_type": "code",
      "metadata": {
        "id": "xrMM_-QgwxBA",
        "colab_type": "code",
        "colab": {}
      },
      "source": [
        "air_qty_xgb.get_score\n"
      ],
      "execution_count": 0,
      "outputs": []
    },
    {
      "cell_type": "code",
      "metadata": {
        "id": "Pcq1TjOowxBC",
        "colab_type": "code",
        "colab": {}
      },
      "source": [
        "testdmat = xgboost.DMatrix(x_test)"
      ],
      "execution_count": 0,
      "outputs": []
    },
    {
      "cell_type": "code",
      "metadata": {
        "id": "iXkZdYRCwxBF",
        "colab_type": "code",
        "colab": {}
      },
      "source": [
        "from sklearn import metrics\n",
        "\n",
        "y_pred_xgb = air_qty_xgb.predict(testdmat) # Predict using our testdmat\n",
        "\n",
        "air_qty_xgb.best_iteration\n",
        "air_qty_xgb.booster\n",
        "air_qty_xgb.get_score\n",
        "air_qty_xgb.feature_names\n",
        "\n",
        "\n",
        "\n",
        "print('MAE using xgb:', metrics.mean_absolute_error(y_test, y_pred_xgb))\n",
        "print('MSE using xgb:', metrics.mean_squared_error(y_test, y_pred_xgb))\n",
        "print('RMSE using xgb:', np.sqrt(metrics.mean_squared_error(y_test,  y_pred_xgb)))\n",
        "\n",
        "#print (y_test, y_pred_xgb)"
      ],
      "execution_count": 0,
      "outputs": []
    },
    {
      "cell_type": "markdown",
      "metadata": {
        "colab_type": "text",
        "id": "5uSl18Rx9K6f"
      },
      "source": [
        "### 6. Lasso Regression  <a id='dt'>"
      ]
    },
    {
      "cell_type": "code",
      "metadata": {
        "colab_type": "code",
        "id": "LOlVTnuT9K6g",
        "colab": {}
      },
      "source": [
        "from sklearn.linear_model import Lasso"
      ],
      "execution_count": 0,
      "outputs": []
    },
    {
      "cell_type": "code",
      "metadata": {
        "colab_type": "code",
        "id": "10d42uFe9K6h",
        "colab": {}
      },
      "source": [
        "ls = Lasso()"
      ],
      "execution_count": 0,
      "outputs": []
    },
    {
      "cell_type": "markdown",
      "metadata": {
        "colab_type": "text",
        "id": "SeX5gXbX9K6n"
      },
      "source": [
        "STEP 4- FIT MODEL"
      ]
    },
    {
      "cell_type": "code",
      "metadata": {
        "colab_type": "code",
        "id": "ntS4-Qw49K6o",
        "colab": {}
      },
      "source": [
        "ls.fit(x_train, y_train)"
      ],
      "execution_count": 0,
      "outputs": []
    },
    {
      "cell_type": "markdown",
      "metadata": {
        "colab_type": "text",
        "id": "loTT2RSC9K6r"
      },
      "source": [
        "STEP 5- PREDICT USING THE TRAINED MODEL"
      ]
    },
    {
      "cell_type": "code",
      "metadata": {
        "colab_type": "code",
        "id": "_9c6NUbk9K6s",
        "colab": {}
      },
      "source": [
        "y_predict_ls = ls.predict(x_test)\n",
        "y_predict_ls.shape"
      ],
      "execution_count": 0,
      "outputs": []
    },
    {
      "cell_type": "code",
      "metadata": {
        "colab_type": "code",
        "id": "DodZtZwG9K6w",
        "colab": {}
      },
      "source": [
        "print(\"Test:\", r2_score(y_test,y_predict_ls))"
      ],
      "execution_count": 0,
      "outputs": []
    },
    {
      "cell_type": "code",
      "metadata": {
        "colab_type": "code",
        "id": "sKjKwPfOH1Zy",
        "colab": {}
      },
      "source": [
        "ls.score(x_train, y_train)"
      ],
      "execution_count": 0,
      "outputs": []
    },
    {
      "cell_type": "code",
      "metadata": {
        "colab_type": "code",
        "id": "Is4qVikx9K6z",
        "colab": {}
      },
      "source": [
        "ls.score(x_test, y_test)"
      ],
      "execution_count": 0,
      "outputs": []
    },
    {
      "cell_type": "markdown",
      "metadata": {
        "colab_type": "text",
        "id": "1wgGPFaC9K69"
      },
      "source": [
        "STEP 6- EVALUATE MODEL PERFORMANCE"
      ]
    },
    {
      "cell_type": "code",
      "metadata": {
        "colab_type": "code",
        "id": "xxoVCHLH9K69",
        "colab": {}
      },
      "source": [
        "from sklearn import metrics\n",
        "print('MAE using Lasso:', metrics.mean_absolute_error(y_test, y_predict_ls))\n",
        "print('MSE using Lasso:', metrics.mean_squared_error(y_test, y_predict_ls))\n",
        "print('RMSE using Lasso:', np.sqrt(metrics.mean_squared_error(y_test, y_predict_ls)))"
      ],
      "execution_count": 0,
      "outputs": []
    },
    {
      "cell_type": "code",
      "metadata": {
        "colab_type": "code",
        "id": "p1OetVkd9K6_",
        "colab": {}
      },
      "source": [
        "plt.figure(figsize = (15,10))"
      ],
      "execution_count": 0,
      "outputs": []
    },
    {
      "cell_type": "code",
      "metadata": {
        "colab_type": "code",
        "id": "PQenEwUA9K7F",
        "colab": {}
      },
      "source": [
        "fig_importance_ls = pd.Series(ls.coef_, index= x.columns)"
      ],
      "execution_count": 0,
      "outputs": []
    },
    {
      "cell_type": "code",
      "metadata": {
        "colab_type": "code",
        "id": "iyKoUdeK9K7Q",
        "colab": {}
      },
      "source": [
        "fig_importance_ls.plot(kind = 'bar')\n",
        "#plt.hlines(y=0, xmin= -0.5, xmax=2.0)"
      ],
      "execution_count": 0,
      "outputs": []
    },
    {
      "cell_type": "code",
      "metadata": {
        "colab_type": "code",
        "id": "OLlfL8DH9K7T",
        "colab": {}
      },
      "source": [
        "#plt.show()"
      ],
      "execution_count": 0,
      "outputs": []
    },
    {
      "cell_type": "markdown",
      "metadata": {
        "colab_type": "text",
        "id": "A_Czd2xE3Zdz"
      },
      "source": [
        "### 7. Decision Tree  <a id='dt'>"
      ]
    },
    {
      "cell_type": "code",
      "metadata": {
        "colab_type": "code",
        "id": "W1o110829K7Y",
        "colab": {}
      },
      "source": [
        "# Filling the missing values with the mean of the columns\n",
        "\n",
        "from sklearn.preprocessing import Imputer\n",
        "#Import impute.SimpleImputer from sklearn\n",
        "\n",
        "imp = Imputer(missing_values='NaN', strategy='mean', axis=0)\n",
        "X = imp.fit_transform(x)\n",
        "#X"
      ],
      "execution_count": 0,
      "outputs": []
    },
    {
      "cell_type": "code",
      "metadata": {
        "colab_type": "code",
        "id": "WT-JmY3t3Zd0",
        "colab": {}
      },
      "source": [
        "# Importing the packages for Decision Tree Regressor\n",
        "from sklearn.tree import DecisionTreeRegressor\n",
        "my_tree_Air = DecisionTreeRegressor(max_depth=4,\n",
        "                           min_samples_split=5,\n",
        "                           max_leaf_nodes=10)\n",
        "my_tree_Air"
      ],
      "execution_count": 0,
      "outputs": []
    },
    {
      "cell_type": "code",
      "metadata": {
        "colab_type": "code",
        "id": "LLuMUq7M9K7i",
        "colab": {}
      },
      "source": [
        "x.describe(include='all')"
      ],
      "execution_count": 0,
      "outputs": []
    },
    {
      "cell_type": "code",
      "metadata": {
        "colab_type": "code",
        "id": "76sLvYyd9K7l",
        "colab": {}
      },
      "source": [
        "y.describe(include='all')"
      ],
      "execution_count": 0,
      "outputs": []
    },
    {
      "cell_type": "code",
      "metadata": {
        "colab_type": "code",
        "id": "eBryubH_9K7n",
        "colab": {}
      },
      "source": [
        "x.info()"
      ],
      "execution_count": 0,
      "outputs": []
    },
    {
      "cell_type": "markdown",
      "metadata": {
        "colab_type": "text",
        "id": "7urZ2rVy3Zd6"
      },
      "source": [
        "### 7.1 Training Decision Tree Model  <a id='tdt'>"
      ]
    },
    {
      "cell_type": "code",
      "metadata": {
        "colab_type": "code",
        "id": "eU3kwXxy3Zd7",
        "colab": {}
      },
      "source": [
        "# Fit the decision tree model on your features and label\n",
        "my_tree_Air.fit(x_train, y_train)"
      ],
      "execution_count": 0,
      "outputs": []
    },
    {
      "cell_type": "code",
      "metadata": {
        "colab_type": "code",
        "id": "zGT1_WaX9K7u",
        "colab": {}
      },
      "source": [
        "plt.figure(figsize=(15,10))\n",
        "fig_importance_dt = pd.Series(my_tree_Air.feature_importances_, index = x.columns)\n",
        "fig_importance_dt.plot(kind = 'bar')\n",
        "plt.show()"
      ],
      "execution_count": 0,
      "outputs": []
    },
    {
      "cell_type": "code",
      "metadata": {
        "colab_type": "code",
        "id": "aWc_ntrA3Zd-",
        "colab": {}
      },
      "source": [
        "# The feature_importances_ attribute make it simple to interpret the significance of the predictors you include\n",
        "list(zip(my_tree_Air.feature_importances_))"
      ],
      "execution_count": 0,
      "outputs": []
    },
    {
      "cell_type": "code",
      "metadata": {
        "colab_type": "code",
        "id": "qO0Tw06p3ZeD",
        "colab": {}
      },
      "source": [
        "# The score of the model\n",
        "print(my_tree_Air.score(x_train, y_train))"
      ],
      "execution_count": 0,
      "outputs": []
    },
    {
      "cell_type": "code",
      "metadata": {
        "colab_type": "code",
        "id": "_TI5chO-9K72",
        "colab": {}
      },
      "source": [
        "#my_tree_Air.feature_importances_"
      ],
      "execution_count": 0,
      "outputs": []
    },
    {
      "cell_type": "code",
      "metadata": {
        "colab_type": "code",
        "id": "to2euj5p9K73",
        "colab": {}
      },
      "source": [
        "print(my_tree_Air.score(x_test, y_test))"
      ],
      "execution_count": 0,
      "outputs": []
    },
    {
      "cell_type": "code",
      "metadata": {
        "colab_type": "code",
        "id": "sFXTI6lD3ZeH",
        "colab": {}
      },
      "source": [
        "# Visualize the decision tree graph\n",
        "from sklearn import tree\n",
        "import graphviz\n",
        "\n",
        "with open('tree_data_air.dot','w') as x:\n",
        "    x = tree.export_graphviz(my_tree_Air, out_file=x, filled = True )\n",
        " \n",
        "\n",
        "    \n",
        "# You may have to install graphviz package using \n",
        "# conda install graphviz\n",
        "# conda install python-graphviz\n",
        "from graphviz import Source\n",
        "\n",
        "with open('tree_data_air.dot','r') as f:\n",
        "    text=f.read()\n",
        "    plot=Source(text)\n",
        "plot   "
      ],
      "execution_count": 0,
      "outputs": []
    },
    {
      "cell_type": "markdown",
      "metadata": {
        "colab_type": "text",
        "id": "lht0NcF83ZeM"
      },
      "source": [
        "### 7.2 Predictions from Decision Tree Model   <a id='pdt'>"
      ]
    },
    {
      "cell_type": "code",
      "metadata": {
        "colab_type": "code",
        "id": "bU0vPTsM3ZeN",
        "colab": {}
      },
      "source": [
        "#This is the test dataset where we are going to predict \n",
        "x_test.head()"
      ],
      "execution_count": 0,
      "outputs": []
    },
    {
      "cell_type": "code",
      "metadata": {
        "colab_type": "code",
        "id": "t5yGoy_33Zeg",
        "colab": {}
      },
      "source": [
        "# Predictions from Decision Tree Model\n",
        "y_pred_dt1 = my_tree_Air.predict(x_test)\n",
        "y_pred_dt1"
      ],
      "execution_count": 0,
      "outputs": []
    },
    {
      "cell_type": "code",
      "metadata": {
        "colab_type": "code",
        "id": "L8xB0Okd9K7_",
        "colab": {}
      },
      "source": [
        "print('RMSE of DT model:',np.sqrt(metrics.mean_squared_error(y_test,y_pred_dt1)))\n",
        "print('MAE of DT model:', metrics.mean_absolute_error(y_test, y_pred_dt1))\n",
        "print('MSE of DT model:', metrics.mean_squared_error(y_test, y_pred_dt1))"
      ],
      "execution_count": 0,
      "outputs": []
    },
    {
      "cell_type": "markdown",
      "metadata": {
        "colab_type": "text",
        "id": "_m-TINkH3Zej"
      },
      "source": [
        "### 7.3 Evaluating the Decision Tree Model  <a id='edt'>"
      ]
    },
    {
      "cell_type": "code",
      "metadata": {
        "colab_type": "code",
        "id": "LT0cql7l3Zek",
        "colab": {}
      },
      "source": [
        "#from sklearn import metrics\n",
        "\n",
        "#pred = my_tree_Air.predict(x_test)\n",
        "#df_confusion = metrics.confusion_matrix(y, pred)\n",
        "#df_confusion\n",
        "#pred"
      ],
      "execution_count": 0,
      "outputs": []
    },
    {
      "cell_type": "markdown",
      "metadata": {
        "colab_type": "text",
        "collapsed": true,
        "id": "97tf9VJe3ZgE"
      },
      "source": [
        " 7. CV on DecisionTree  <a id = 'appendix'>\n",
        "\n",
        "** Grid Search **\n",
        "\n",
        "Grid-searching is the process of scanning the data to configure optimal parameters for a given model.  <br>\n",
        "Let's apply Grid Search on a Decision Tree Model. It has many parameters like tree depth, criterion... etc. We will build different models with different combinations of these parameters and come up with the best model. \n"
      ]
    },
    {
      "cell_type": "markdown",
      "metadata": {
        "colab_type": "text",
        "id": "4ZQKkbX-3Ze1"
      },
      "source": [
        "### 7.4 Parameter Tuning   <a id='ptdt'>"
      ]
    },
    {
      "cell_type": "code",
      "metadata": {
        "colab_type": "code",
        "id": "xxIrOmbY9K8C",
        "colab": {}
      },
      "source": [
        "import sklearn\n",
        "from sklearn.model_selection import learning_curve, GridSearchCV\n",
        "#param_grid = {'max_depth': np.arange(5, 10)}\n",
        "\n",
        "param_grid = {\"criterion\": [\"mse\", \"mae\"],\n",
        "              \"min_samples_split\": [10, 20, 40],\n",
        "              \"max_depth\": [2, 6, 8],\n",
        "              \"min_samples_leaf\": [20, 40, 100],\n",
        "              \"max_leaf_nodes\": [5, 20, 100],\n",
        "              }"
      ],
      "execution_count": 0,
      "outputs": []
    },
    {
      "cell_type": "code",
      "metadata": {
        "colab_type": "code",
        "id": "7YoGY09M9K8D",
        "colab": {}
      },
      "source": [
        "#my_tree_AirQ = GridSearchCV(DecisionTreeRegressor(), param_grid)\n",
        "grid_cv_dtm = GridSearchCV(my_tree_Air, param_grid, cv=5)"
      ],
      "execution_count": 0,
      "outputs": []
    },
    {
      "cell_type": "code",
      "metadata": {
        "colab_type": "code",
        "id": "LK90Q1Io9K8E",
        "colab": {}
      },
      "source": [
        "#CAution : Will take time\n",
        "grid_cv_dtm.fit(x_train,y_train)"
      ],
      "execution_count": 0,
      "outputs": []
    },
    {
      "cell_type": "code",
      "metadata": {
        "colab_type": "code",
        "id": "Lopa_Frs3Ze3",
        "colab": {}
      },
      "source": [
        "#grid_cv_dtm = grid_cv_dtm.fit(x_train, y_train)\n",
        "\n",
        "#Print the score of both the decision tree\n",
        "\n",
        "print(\"DT with GridSerachCV Score: \",grid_cv_dtm.score(x_train, y_train))\n",
        "print(\"Original Decision Tree Score\",my_tree_Air.score(x_train,y_train))"
      ],
      "execution_count": 0,
      "outputs": []
    },
    {
      "cell_type": "code",
      "metadata": {
        "colab_type": "code",
        "id": "NiPdM9Ug9K8J",
        "colab": {}
      },
      "source": [
        "dt_df = pd.DataFrame(data=grid_cv_dtm.cv_results_)\n",
        "dt_df.head()"
      ],
      "execution_count": 0,
      "outputs": []
    },
    {
      "cell_type": "markdown",
      "metadata": {
        "colab_type": "text",
        "id": "CBl2qpXc3Ze7"
      },
      "source": [
        "We have improved our model score from 0.76 using DT model to 0.97 by fine tuning the parameters of DT with gridsearch cross fold 5. This is called hyperparameters tuning."
      ]
    },
    {
      "cell_type": "code",
      "metadata": {
        "colab_type": "code",
        "id": "jiZCwutZ3Ze9",
        "colab": {}
      },
      "source": [
        "# Making predictions on our Train Data \n",
        "y_pred_dt_cv = grid_cv_dtm.predict(x_test)\n",
        "print (y_pred_dt_cv)\n",
        "print (y_test.values)"
      ],
      "execution_count": 0,
      "outputs": []
    },
    {
      "cell_type": "code",
      "metadata": {
        "colab_type": "code",
        "id": "GREDKhLn9K8M",
        "colab": {}
      },
      "source": [
        "r2_score(y_test, y_pred_dt_cv)"
      ],
      "execution_count": 0,
      "outputs": []
    },
    {
      "cell_type": "code",
      "metadata": {
        "colab_type": "code",
        "id": "u_rUu8jD9K8P",
        "colab": {}
      },
      "source": [
        "print('RMSE of DT with GridSearchCV model:',np.sqrt(metrics.mean_squared_error(y_test,y_pred_dt_cv)))\n",
        "print('MAE of DT with GridSearchCV model:', metrics.mean_absolute_error(y_test, y_pred_dt_cv))\n",
        "print('MSE of DT with GridSearchCV model:', metrics.mean_squared_error(y_test, y_pred_dt_cv))"
      ],
      "execution_count": 0,
      "outputs": []
    },
    {
      "cell_type": "code",
      "metadata": {
        "colab_type": "code",
        "id": "VMNwcq2s9K8Q",
        "colab": {}
      },
      "source": [
        "grid_cv_dtm.best_score_"
      ],
      "execution_count": 0,
      "outputs": []
    },
    {
      "cell_type": "code",
      "metadata": {
        "colab_type": "code",
        "id": "CerDfKZY9K8X",
        "colab": {}
      },
      "source": [
        "grid_cv_dtm.best_params_"
      ],
      "execution_count": 0,
      "outputs": []
    },
    {
      "cell_type": "code",
      "metadata": {
        "colab_type": "code",
        "id": "s4hvNlTZ9K8Z",
        "colab": {}
      },
      "source": [
        "grid_cv_dtm.best_index_"
      ],
      "execution_count": 0,
      "outputs": []
    },
    {
      "cell_type": "markdown",
      "metadata": {
        "colab_type": "text",
        "id": "6Wme-Hcs3ZfX"
      },
      "source": [
        "### 8. Random Forest  <a id='rf'>"
      ]
    },
    {
      "cell_type": "code",
      "metadata": {
        "colab_type": "code",
        "id": "WCs9o0xt3Zfi",
        "colab": {}
      },
      "source": [
        "# Building and fitting Random Forest\n",
        "from sklearn.metrics import r2_score\n",
        "\n",
        "from sklearn.ensemble import RandomForestRegressor\n",
        "\n",
        "forest = RandomForestRegressor(max_depth = 10, n_estimators = 1000, random_state = 1)"
      ],
      "execution_count": 0,
      "outputs": []
    },
    {
      "cell_type": "markdown",
      "metadata": {
        "colab_type": "text",
        "id": "eRGRjIaG3Zfo"
      },
      "source": [
        "### 8.1 Training Random Forest Model  <a id='trf'>"
      ]
    },
    {
      "cell_type": "code",
      "metadata": {
        "colab_type": "code",
        "id": "57y8Kb563Zfp",
        "colab": {}
      },
      "source": [
        "# Fitting the model on Train Data\n",
        "\n",
        "my_forest_Air = forest.fit(x_train, y_train)"
      ],
      "execution_count": 0,
      "outputs": []
    },
    {
      "cell_type": "code",
      "metadata": {
        "colab_type": "code",
        "id": "3NBizrtm3Zfs",
        "colab": {}
      },
      "source": [
        "# Print the score of the fitted random forest\n",
        "\n",
        "print(my_forest_Air.score(x_train, y_train))"
      ],
      "execution_count": 0,
      "outputs": []
    },
    {
      "cell_type": "markdown",
      "metadata": {
        "colab_type": "text",
        "id": "d89WRX0B3Zfw"
      },
      "source": [
        " ### 8.2 Predictions from Random Forest Model   <a id='prf'>"
      ]
    },
    {
      "cell_type": "code",
      "metadata": {
        "colab_type": "code",
        "id": "PCh-N_vf3Zfy",
        "colab": {}
      },
      "source": [
        "# Making predictions\n",
        "y_pred_rf = my_forest_Air.predict(x_test)"
      ],
      "execution_count": 0,
      "outputs": []
    },
    {
      "cell_type": "code",
      "metadata": {
        "colab_type": "code",
        "id": "A-tRjgX53Zf0",
        "colab": {}
      },
      "source": [
        "list(zip(x_train.columns,my_forest_Air.feature_importances_))"
      ],
      "execution_count": 0,
      "outputs": []
    },
    {
      "cell_type": "code",
      "metadata": {
        "colab_type": "code",
        "id": "KhSk6KiJ9K8f",
        "colab": {}
      },
      "source": [
        "my_forest_Air.base_estimator_"
      ],
      "execution_count": 0,
      "outputs": []
    },
    {
      "cell_type": "code",
      "metadata": {
        "colab_type": "code",
        "id": "F2J46KKS9K8j",
        "colab": {}
      },
      "source": [
        "my_forest_Air.score(x_test,y_test)"
      ],
      "execution_count": 0,
      "outputs": []
    },
    {
      "cell_type": "code",
      "metadata": {
        "colab_type": "code",
        "id": "TbxfesvD9K8k",
        "colab": {}
      },
      "source": [
        "from sklearn import metrics\n",
        "#Calculate RMSE of RF\n",
        "print('RMSE of RF model:',np.sqrt(metrics.mean_squared_error(y_test,y_pred_rf)))\n",
        "print('MAE of RF model:', metrics.mean_absolute_error(y_test, y_pred_rf))\n",
        "print('MSE of RF model:', metrics.mean_squared_error(y_test, y_pred_rf))"
      ],
      "execution_count": 0,
      "outputs": []
    },
    {
      "cell_type": "code",
      "metadata": {
        "colab_type": "code",
        "id": "5LoDHleN9K8l",
        "colab": {}
      },
      "source": [
        "configure_plotly_browser_state()\n",
        "px.box(df_num, x=\"AH\",  color=\"RH\",hover_data=['T','CO(GT)', 'NO2(GT)','C6H6(GT)','PT08.S4(NO2)'],notched=True)"
      ],
      "execution_count": 0,
      "outputs": []
    },
    {
      "cell_type": "code",
      "metadata": {
        "colab_type": "code",
        "id": "NVqaPnxixrS-",
        "colab": {}
      },
      "source": [
        ""
      ],
      "execution_count": 0,
      "outputs": []
    },
    {
      "cell_type": "code",
      "metadata": {
        "colab_type": "code",
        "id": "7okRdwnm9K8n",
        "colab": {}
      },
      "source": [
        "# Import lime package\n",
        "import lime\n",
        "import lime.lime_tabular\n",
        "\n",
        "#Find categorical features\n",
        "#categorical_features = np.argwhere(np.array([len(set(x_test.values[:,x])) for x in range(x_test.values.shape[1])]) <= 10).flatten()\n",
        "#Lime explainer for regression\n",
        "explainer = lime.lime_tabular.LimeTabularExplainer(x_test.values,feature_names=x_test.columns.values.tolist(),class_names=['RH'],\n",
        "verbose=True, mode='regression')\n",
        "ind = 10\n",
        "#Fit on test data\n",
        "exp = explainer.explain_instance(x_test.values[ind], my_forest_Air.predict, num_features=8)\n",
        "#Show in notebook features influencing predictions\n",
        "exp.show_in_notebook(show_table=True)"
      ],
      "execution_count": 0,
      "outputs": []
    },
    {
      "cell_type": "markdown",
      "metadata": {
        "colab_type": "text",
        "id": "vg6Cm1P_9K8u"
      },
      "source": [
        "##### The output of LIME is a list of explanations, reflecting the contribution of each feature to the prediction of a data sample. This provides local interpretability, and it also allows to determine which feature changes will have most impact on the prediction."
      ]
    },
    {
      "cell_type": "code",
      "metadata": {
        "colab_type": "code",
        "id": "-GuM0k4Y9K8x",
        "colab": {}
      },
      "source": [
        "# Import Eli5 package\n",
        "import eli5\n",
        "from eli5.sklearn import PermutationImportance\n",
        "\n",
        "# Find the importance of columns for prediction\n",
        "perm = PermutationImportance(my_forest_Air, random_state=1).fit(x_test,y_pred_rf)\n",
        "eli5.show_weights(perm, feature_names = x_test.columns.tolist())\n"
      ],
      "execution_count": 0,
      "outputs": []
    },
    {
      "cell_type": "code",
      "metadata": {
        "colab_type": "code",
        "id": "jn6N9lFq9K8y",
        "colab": {}
      },
      "source": [
        "#Understanding how each feature influences the prediction\n",
        "eli5.show_prediction(my_forest_Air, doc=x_test.iloc[[ind]], feature_names=list(x_test.columns))"
      ],
      "execution_count": 0,
      "outputs": []
    },
    {
      "cell_type": "code",
      "metadata": {
        "colab_type": "code",
        "id": "i1isNo4y9K8z",
        "colab": {}
      },
      "source": [
        "# Random Forest Caution will take time\n",
        "rf = sklearn.ensemble.RandomForestRegressor()\n",
        "rf.fit(x_train, y_train)\n",
        "explainerRF = shap.TreeExplainer(my_forest_Air)\n",
        "shap_values_RF_test = explainerRF.shap_values(x_test)\n",
        "shap_values_RF_train = explainerRF.shap_values(x_train)\n",
        "df_shap_RF_test = pd.DataFrame(shap_values_RF_test, columns=x_test.columns.values)\n",
        "df_shap_RF_train = pd.DataFrame(shap_values_RF_train, columns=x_train.columns.values)\n"
      ],
      "execution_count": 0,
      "outputs": []
    },
    {
      "cell_type": "code",
      "metadata": {
        "colab_type": "code",
        "id": "iI_ItBtU9K80",
        "colab": {}
      },
      "source": [
        "shap.initjs()\n",
        "ind = 103\n",
        "\n",
        "\n",
        "shap.force_plot(\n",
        "    explainerRF.expected_value, shap_values_RF_test[ind,:], x_test.iloc[ind,:],\n",
        "    feature_names=x_test.columns.tolist()\n",
        ")"
      ],
      "execution_count": 0,
      "outputs": []
    },
    {
      "cell_type": "code",
      "metadata": {
        "colab_type": "code",
        "id": "kPIFbEn89K82",
        "colab": {}
      },
      "source": [
        "#shap.force_plot(explainerRF.expected_value, shap_values_RF_test[j], x_test.iloc[[j]])"
      ],
      "execution_count": 0,
      "outputs": []
    },
    {
      "cell_type": "code",
      "metadata": {
        "colab_type": "code",
        "id": "jrQ9jzYG9K84",
        "colab": {}
      },
      "source": [
        "shap.summary_plot(shap_values_RF_test,x_test)"
      ],
      "execution_count": 0,
      "outputs": []
    },
    {
      "cell_type": "markdown",
      "metadata": {
        "colab_type": "text",
        "id": "NgkSgJqe9K84"
      },
      "source": [
        "##### Relative Humidity is positively correlated with Absolute Humidity (AH)  and with Temparatue it is negatively correlated"
      ]
    },
    {
      "cell_type": "code",
      "metadata": {
        "colab_type": "code",
        "id": "--y4wasH9K87",
        "colab": {}
      },
      "source": [
        "#Most Influential features\n",
        "shap.dependence_plot(\"AH\", shap_values_RF_test, x_test)"
      ],
      "execution_count": 0,
      "outputs": []
    },
    {
      "cell_type": "code",
      "metadata": {
        "colab_type": "code",
        "id": "_C5Gs2Fu9K88",
        "colab": {}
      },
      "source": [
        "#Most Influential features\n",
        "shap.dependence_plot(\"PT08.S5(O3)\", shap_values_RF_test, x_test)"
      ],
      "execution_count": 0,
      "outputs": []
    },
    {
      "cell_type": "markdown",
      "metadata": {
        "colab_type": "text",
        "collapsed": true,
        "id": "wEzsc58X3Zgo"
      },
      "source": [
        "**Randomized Search**\n",
        "\n",
        "Using Randomized Search, we can define a grid of hyperparameters and randomly sample from the grid to get the best combination of values. <br>\n",
        "Lets apply Randomized search on Random Forest model. This model has plenty of parameters like number of trees, depth of trees...etc. We will evaluate models with different parameters and come up with the best model."
      ]
    },
    {
      "cell_type": "code",
      "metadata": {
        "colab_type": "code",
        "id": "1XPZQaPi3Zgp",
        "colab": {}
      },
      "source": [
        "# Different parameters we want to test\n",
        "\n",
        "# Number of trees in random forest\n",
        "n_estimators = [int(x) for x in np.linspace(start = 200, stop = 220, num = 10)]\n",
        "# Number of features to consider at every split\n",
        "max_features = ['auto', 'sqrt']\n",
        "# Maximum number of levels in tree\n",
        "max_depth = [int(x) for x in np.linspace(10, 50, num = 11)]\n",
        "max_depth.append(None)\n",
        "# Minimum number of samples required to split a node\n",
        "min_samples_split = [2, 5, 10]\n",
        "# Minimum number of samples required at each leaf node\n",
        "min_samples_leaf = [1, 2, 4]\n",
        "# Method of selecting samples for training each tree\n",
        "bootstrap = [True, False]"
      ],
      "execution_count": 0,
      "outputs": []
    },
    {
      "cell_type": "code",
      "metadata": {
        "colab_type": "code",
        "id": "A_F--4ic3Zgs",
        "colab": {}
      },
      "source": [
        "random_grid = {'n_estimators': n_estimators,\n",
        "               'max_features': max_features,\n",
        "               'max_depth': max_depth,\n",
        "               'min_samples_split': min_samples_split,\n",
        "               'min_samples_leaf': min_samples_leaf,\n",
        "               'bootstrap': bootstrap}"
      ],
      "execution_count": 0,
      "outputs": []
    },
    {
      "cell_type": "code",
      "metadata": {
        "colab_type": "code",
        "id": "8JyRt0Dn3Zgu",
        "colab": {}
      },
      "source": [
        "# Importing RandomizedSearchCV\n",
        "from sklearn.model_selection import RandomizedSearchCV"
      ],
      "execution_count": 0,
      "outputs": []
    },
    {
      "cell_type": "code",
      "metadata": {
        "colab_type": "code",
        "id": "bzds47ZZ3Zgx",
        "colab": {}
      },
      "source": [
        "forest_two = RandomForestRegressor()\n",
        "# Fitting 3 folds for each of 100 candidates, totalling 300 fits\n",
        "rf_random = RandomizedSearchCV(estimator = forest_two, param_distributions = random_grid, \n",
        "                               n_iter = 5, cv = 3, verbose=2, random_state=42)"
      ],
      "execution_count": 0,
      "outputs": []
    },
    {
      "cell_type": "code",
      "metadata": {
        "colab_type": "code",
        "id": "Nd8z2bvK3Zg4",
        "colab": {}
      },
      "source": [
        "#Dont Run, will take too much time\n",
        "rf_random.fit(x_train,y_train)"
      ],
      "execution_count": 0,
      "outputs": []
    },
    {
      "cell_type": "code",
      "metadata": {
        "colab_type": "code",
        "id": "FFPC3TPV3Zg9",
        "colab": {}
      },
      "source": [
        "rf_random.best_params_"
      ],
      "execution_count": 0,
      "outputs": []
    },
    {
      "cell_type": "code",
      "metadata": {
        "colab_type": "code",
        "id": "EXn_lBCX9K9K",
        "colab": {}
      },
      "source": [
        "rf_random.best_score_"
      ],
      "execution_count": 0,
      "outputs": []
    },
    {
      "cell_type": "code",
      "metadata": {
        "colab_type": "code",
        "id": "HnmFOCkB9K9M",
        "colab": {}
      },
      "source": [
        "rf_random.best_index_"
      ],
      "execution_count": 0,
      "outputs": []
    },
    {
      "cell_type": "markdown",
      "metadata": {
        "colab_type": "text",
        "id": "IBeOQIrC3ZhB"
      },
      "source": [
        "A Random Forest model built with this hyperparameters will provide best accuracy"
      ]
    },
    {
      "cell_type": "code",
      "metadata": {
        "colab_type": "code",
        "id": "jLa87XR53ZhB",
        "colab": {}
      },
      "source": [
        "rf_random.score"
      ],
      "execution_count": 0,
      "outputs": []
    },
    {
      "cell_type": "code",
      "metadata": {
        "colab_type": "code",
        "id": "NvEvIHt89K9P",
        "colab": {}
      },
      "source": [
        "y_pred_rf_rs = rf_random.predict(x_test)"
      ],
      "execution_count": 0,
      "outputs": []
    },
    {
      "cell_type": "code",
      "metadata": {
        "colab_type": "code",
        "id": "f69UZYOTbjkm",
        "colab": {}
      },
      "source": [
        "rf_random.score(x_test,y_test)"
      ],
      "execution_count": 0,
      "outputs": []
    },
    {
      "cell_type": "code",
      "metadata": {
        "colab_type": "code",
        "id": "7iqh2rwZ9K9P",
        "colab": {}
      },
      "source": [
        "print('RMSE of RF with RS model:',np.sqrt(metrics.mean_squared_error(y_test,y_pred_rf_rs)))\n",
        "print('MAE of RF with RS model:', metrics.mean_absolute_error(y_test, y_pred_rf_rs))\n",
        "print('MSE of RF with RS model:', metrics.mean_squared_error(y_test, y_pred_rf_rs))"
      ],
      "execution_count": 0,
      "outputs": []
    },
    {
      "cell_type": "markdown",
      "metadata": {
        "colab_type": "text",
        "collapsed": true,
        "id": "C427aSlJ3ZhF"
      },
      "source": [
        "**Observation: ** The original Random forest algorithm gave 0.80 accuracy whereas after Randomized Grid Search we have only got 1.23. This is the best random combination of parameters the algorithm has chosen which produced the lowest RMSE score."
      ]
    },
    {
      "cell_type": "markdown",
      "metadata": {
        "colab_type": "text",
        "id": "K-qge3Af9K9R"
      },
      "source": [
        "### 9.XG Boost Regressor"
      ]
    },
    {
      "cell_type": "markdown",
      "metadata": {
        "colab_type": "text",
        "id": "wbysO9Rx9K9R"
      },
      "source": [
        "ML model building will be incomplete without trying thr XGBoost model."
      ]
    },
    {
      "cell_type": "code",
      "metadata": {
        "colab_type": "code",
        "id": "huhdLGC09K9R",
        "colab": {}
      },
      "source": [
        "#from xgboost import XGBRegressor\n"
      ],
      "execution_count": 0,
      "outputs": []
    },
    {
      "cell_type": "markdown",
      "metadata": {
        "colab_type": "text",
        "id": "UKcj-t1n9K9S"
      },
      "source": [
        "### 9.SUPPORT VECTOR REGRESSOR"
      ]
    },
    {
      "cell_type": "code",
      "metadata": {
        "colab_type": "code",
        "id": "VxmjA4cv9K9S",
        "colab": {}
      },
      "source": [
        "from sklearn.svm import SVR"
      ],
      "execution_count": 0,
      "outputs": []
    },
    {
      "cell_type": "code",
      "metadata": {
        "colab_type": "code",
        "id": "-Iq8xrYZ9K9T",
        "colab": {}
      },
      "source": [
        "support_regressor = SVR(kernel='rbf', C=1000)\n",
        "sv_model = support_regressor.fit(x_train, y_train)\n",
        "print (sv_model)"
      ],
      "execution_count": 0,
      "outputs": []
    },
    {
      "cell_type": "code",
      "metadata": {
        "colab_type": "code",
        "id": "NpYGgvtA9K9V",
        "colab": {}
      },
      "source": [
        "y_pred_sv = sv_model.predict(x_test)         #predict"
      ],
      "execution_count": 0,
      "outputs": []
    },
    {
      "cell_type": "code",
      "metadata": {
        "colab_type": "code",
        "id": "owIvpBZQ9K9W",
        "colab": {}
      },
      "source": [
        "sv_model.get_params"
      ],
      "execution_count": 0,
      "outputs": []
    },
    {
      "cell_type": "code",
      "metadata": {
        "colab_type": "code",
        "id": "BgyhWn_C9K9X",
        "colab": {}
      },
      "source": [
        "sv_model.intercept_"
      ],
      "execution_count": 0,
      "outputs": []
    },
    {
      "cell_type": "code",
      "metadata": {
        "colab_type": "code",
        "id": "fpCUgKh29K9Y",
        "colab": {}
      },
      "source": [
        "sv_model.score(x_train, y_train)"
      ],
      "execution_count": 0,
      "outputs": []
    },
    {
      "cell_type": "code",
      "metadata": {
        "colab_type": "code",
        "id": "rX0Si5FU9K9b",
        "colab": {}
      },
      "source": [
        "sv_model.score(x_test, y_test)"
      ],
      "execution_count": 0,
      "outputs": []
    },
    {
      "cell_type": "code",
      "metadata": {
        "colab_type": "code",
        "id": "7tb4heQ59K9d",
        "colab": {}
      },
      "source": [
        "from sklearn import metrics\n",
        "#Calculate RMSE of SVR\n",
        "print('RMSE of SVR model:',np.sqrt(metrics.mean_squared_error(y_test,y_pred_sv)))\n",
        "print('MAE of SVR model:', metrics.mean_absolute_error(y_test, y_pred_sv))\n",
        "print('MSE of SVR model:', metrics.mean_squared_error(y_test, y_pred_sv))"
      ],
      "execution_count": 0,
      "outputs": []
    },
    {
      "cell_type": "markdown",
      "metadata": {
        "colab_type": "text",
        "id": "_tMg5hVD9K9e"
      },
      "source": [
        "### 10.KNN Regressor"
      ]
    },
    {
      "cell_type": "code",
      "metadata": {
        "colab_type": "code",
        "id": "E1XzRdXy9K9e",
        "colab": {}
      },
      "source": [
        "from sklearn.neighbors import KNeighborsRegressor"
      ],
      "execution_count": 0,
      "outputs": []
    },
    {
      "cell_type": "code",
      "metadata": {
        "colab_type": "code",
        "id": "omwY5e_e9K9g",
        "colab": {}
      },
      "source": [
        "error_rate = []\n",
        "for i in range(1,20):\n",
        "    knn = KNeighborsRegressor(n_neighbors=i)\n",
        "    knn.fit(x_train, y_train)\n",
        "    pred_i = knn.predict(x_test)\n",
        "    error_rate.append(np.mean(pred_i != y_test))"
      ],
      "execution_count": 0,
      "outputs": []
    },
    {
      "cell_type": "code",
      "metadata": {
        "colab_type": "code",
        "id": "bYRPi61m9K9h",
        "colab": {}
      },
      "source": [
        "# Plot the error rate for different neighbours\n",
        "\n",
        "plt.figure(figsize=(10,6))\n",
        "plt.plot(range(1,20), error_rate, color='green', linestyle='dashed', marker='o', markerfacecolor='orange')\n",
        "plt.title = 'Error rate vs K Value'\n",
        "plt.xlabel('k')\n",
        "plt.ylabel('Error Rate')"
      ],
      "execution_count": 0,
      "outputs": []
    },
    {
      "cell_type": "code",
      "metadata": {
        "colab_type": "code",
        "id": "LGP9fXWe9K9j",
        "colab": {}
      },
      "source": [
        "knn= KNeighborsRegressor(n_neighbors=1)\n",
        "knn.fit(x_train, y_train)\n",
        "y_pred_knn= knn.predict(x_test)"
      ],
      "execution_count": 0,
      "outputs": []
    },
    {
      "cell_type": "code",
      "metadata": {
        "colab_type": "code",
        "id": "9jygpwQDgGsN",
        "colab": {}
      },
      "source": [
        "knn.score(x_train, y_train)"
      ],
      "execution_count": 0,
      "outputs": []
    },
    {
      "cell_type": "code",
      "metadata": {
        "colab_type": "code",
        "id": "XCmadnlr9K9k",
        "colab": {}
      },
      "source": [
        "knn.score(x_test, y_test)"
      ],
      "execution_count": 0,
      "outputs": []
    },
    {
      "cell_type": "markdown",
      "metadata": {
        "colab_type": "text",
        "id": "OhMAT-iCOT5h"
      },
      "source": [
        "KNN does very good job on training data by scoring 1.0 whereas the test data score is only 0.53"
      ]
    },
    {
      "cell_type": "code",
      "metadata": {
        "colab_type": "code",
        "id": "80_q-yFN9K9l",
        "colab": {}
      },
      "source": [
        "print('RMSE of KNN model:',np.sqrt(metrics.mean_squared_error(y_test,y_pred_knn)))\n",
        "print('MAE of KNN model:', metrics.mean_absolute_error(y_test, y_pred_knn))\n",
        "print('MSE of KNN model:', metrics.mean_squared_error(y_test, y_pred_knn))"
      ],
      "execution_count": 0,
      "outputs": []
    },
    {
      "cell_type": "code",
      "metadata": {
        "colab_type": "code",
        "id": "w-kUrMYg9K9m",
        "colab": {}
      },
      "source": [
        "'''\n",
        "explainerKNN = shap.KernelExplainer(knn.predict,x_test.values)\n",
        "shap_values_KNN_test = explainerKNN.shap_values(x_test)\n",
        "'''"
      ],
      "execution_count": 0,
      "outputs": []
    },
    {
      "cell_type": "code",
      "metadata": {
        "colab_type": "code",
        "id": "Fucf9f0S9K9n",
        "colab": {}
      },
      "source": [
        "# now we can plot the SHAP explainer\n",
        "'''\n",
        "shap.initjs()\n",
        "ind = 103\n",
        "\n",
        "\n",
        "shap.force_plot(\n",
        "    explainerKNN.expected_value, shap_values_KNN_test[ind,:], x_test.iloc[ind,:],\n",
        "    feature_names=x_test.columns.tolist()\n",
        ")\n",
        "#j= 49\n",
        "#shap.force_plot(explainerKNN.expected_value, shap_values_KNN_test[j], x_test.iloc[[j]])\n",
        "\n",
        "\n",
        "exp = explainer.explain_instance(x_test.values[j], knn.predict, num_features=5)\n",
        "exp.show_in_notebook(show_table=True)\n",
        "'''"
      ],
      "execution_count": 0,
      "outputs": []
    },
    {
      "cell_type": "code",
      "metadata": {
        "colab_type": "code",
        "id": "eP7UBaIm9K9s",
        "scrolled": true,
        "colab": {}
      },
      "source": [
        "print('RMSE of each model:')\n",
        "print('Linear Regression                     :',np.sqrt(metrics.mean_squared_error(y_test,y_pred_lm)))\n",
        "print('XGBoost Regression                    :',np.sqrt(metrics.mean_squared_error(y_test,y_pred_xgb)))\n",
        "print('Lasso Regression                      :',np.sqrt(metrics.mean_squared_error(y_test,y_predict_ls)))\n",
        "print('Decision Tree Regression              :',np.sqrt(metrics.mean_squared_error(y_test,y_pred_dt1)))\n",
        "print('Decision Tree with GridSearchCV       :',np.sqrt(metrics.mean_squared_error(y_test,y_pred_dt_cv)))\n",
        "print('Random Forest Regression              :',np.sqrt(metrics.mean_squared_error(y_test,y_pred_rf)))\n",
        "print('Random Forest with Randomized Search  :',np.sqrt(metrics.mean_squared_error(y_test,y_pred_rf_rs)))\n",
        "print('Support Vector Regression             :',np.sqrt(metrics.mean_squared_error(y_test,y_pred_sv)))\n",
        "print('KNN Regression                        :',np.sqrt(metrics.mean_squared_error(y_test,y_pred_knn)))"
      ],
      "execution_count": 0,
      "outputs": []
    },
    {
      "cell_type": "code",
      "metadata": {
        "colab_type": "code",
        "id": "bRcR8np49K9t",
        "colab": {}
      },
      "source": [
        "print('Model Score')\n",
        "print ('Linear Regression                    :',lm.score(x_test, y_test))\n",
        "print ('XGBoost Regression             :',ait_qty_xgb.score(x_test,y_test))\n",
        "print ('Lasso Regression                     :',ls.score(x_test, y_test))\n",
        "print ('Decision Tree Regression             :', my_tree_Air.score(x_test, y_test))\n",
        "print ('Random Forest Regression             :',my_forest_Air.score(x_test,y_test))\n",
        "print ('Decision Tree with GridSearchCV      :',grid_cv_dtm.best_score_)\n",
        "print ('Random Forest with Randomized Search :',rf_random.best_score_)\n",
        "print ('Support Vector Regression            :',sv_model.score(x_test, y_test))\n",
        "print ('KNN Regression                       :',knn.score(x_test, y_test))"
      ],
      "execution_count": 0,
      "outputs": []
    },
    {
      "cell_type": "markdown",
      "metadata": {
        "colab_type": "text",
        "id": "WYcpL6is9K9v"
      },
      "source": [
        "##### Observation:  The original Linear Regression algorithm gave 6.07 as RMSE value whereas using RandomForest  it gave 0.80. \n",
        "\n",
        "##### Also RF model proves to be the best model which gives the score of 0.997 compared to other models"
      ]
    },
    {
      "cell_type": "markdown",
      "metadata": {
        "colab_type": "text",
        "id": "k_xIVtgi3ZhG"
      },
      "source": [
        "### The End"
      ]
    }
  ]
}